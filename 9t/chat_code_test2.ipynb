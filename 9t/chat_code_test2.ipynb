{
 "cells": [
  {
   "cell_type": "code",
   "execution_count": 1,
   "metadata": {},
   "outputs": [],
   "source": [
    "import os\n",
    "import openai\n",
    "import glob\n",
    "import shutil\n",
    "openai.api_key = os.getenv(\"OPENAI_API_KEY\")\n",
    "\n",
    "import numpy as np\n",
    "import pandas as pd\n",
    "\n",
    "import json\n",
    "import io\n",
    "import inspect\n",
    "import requests\n",
    "import re\n",
    "\n",
    "from googleapiclient.discovery import build\n",
    "from google.oauth2.credentials import Credentials\n",
    "from google_auth_oauthlib.flow import InstalledAppFlow\n",
    "import base64\n",
    "import email\n",
    "from email import policy\n",
    "from email.parser import BytesParser\n",
    "from email.mime.text import MIMEText\n",
    "\n",
    "from bs4 import BeautifulSoup\n",
    "import dateutil.parser as parser\n",
    "\n",
    "import sys\n",
    "sys.path.insert(0, './functions/untested functions/')\n",
    "sys.path.insert(0, './functions/tested functions/')\n",
    "from gptLearning import *\n",
    "import gptLearning as gl"
   ]
  },
  {
   "cell_type": "code",
   "execution_count": 2,
   "metadata": {},
   "outputs": [],
   "source": [
    "def retrieve_emails(n=1, user_id='me'):\n",
    "    \"\"\"\n",
    "    获取指定数量的最近邮件。\n",
    "\n",
    "    参数:\n",
    "    n: 要检索的邮件的数量。这应该是一个整数。\n",
    "    user_id: 要检索邮件的用户的ID。默认值是'me'，表示当前授权的用户。\n",
    "\n",
    "    返回:\n",
    "    一个列表，其中每个元素都是一个字典，表示一封邮件。每个字典包含以下键：\n",
    "    'From': 发件人的邮箱地址。\n",
    "    'Date': 邮件的发送日期。\n",
    "    'Subject': 邮件的主题。\n",
    "    'Snippet': 邮件的摘要（前100个字符）。\n",
    "    \"\"\"\n",
    "    # 从本地文件中加载凭据\n",
    "    creds = Credentials.from_authorized_user_file('token.json')\n",
    "\n",
    "    # 创建 Gmail API 客户端\n",
    "    service = build('gmail', 'v1', credentials=creds)\n",
    "\n",
    "    # 获取邮件列表\n",
    "    results = service.users().messages().list(userId=user_id).execute()\n",
    "    messages = results.get('messages', [])[:n]\n",
    "\n",
    "    emails = []\n",
    "    for message in messages:\n",
    "        msg = service.users().messages().get(userId=user_id, id=message['id']).execute()\n",
    "\n",
    "        # 解码邮件内容\n",
    "        payload = msg['payload']\n",
    "        headers = payload.get(\"headers\")\n",
    "        parts = payload.get(\"parts\")\n",
    "\n",
    "        data = {}\n",
    "\n",
    "        if headers:\n",
    "            for d in headers:\n",
    "                name = d.get(\"name\")\n",
    "                if name.lower() == \"from\":\n",
    "                    data['From'] = d.get(\"value\")\n",
    "                if name.lower() == \"date\":\n",
    "                    data['Date'] = parser.parse(d.get(\"value\")).strftime('%Y-%m-%d %H:%M:%S')\n",
    "                if name.lower() == \"subject\":\n",
    "                    data['Subject'] = d.get(\"value\")\n",
    "\n",
    "        if parts:\n",
    "            for part in parts:\n",
    "                mimeType = part.get(\"mimeType\")\n",
    "                body = part.get(\"body\")\n",
    "                data_decoded = base64.urlsafe_b64decode(body.get(\"data\")).decode()\n",
    "                if mimeType == \"text/plain\":\n",
    "                    data['Snippet'] = data_decoded\n",
    "                elif mimeType == \"text/html\":\n",
    "                    soup = BeautifulSoup(data_decoded, \"html.parser\")\n",
    "                    data['Snippet'] = soup.get_text()\n",
    "\n",
    "        emails.append(data)\n",
    "\n",
    "    # 返回邮件列表\n",
    "    return json.dumps(emails, indent=2)"
   ]
  },
  {
   "cell_type": "code",
   "execution_count": 3,
   "metadata": {},
   "outputs": [],
   "source": [
    "functions_list = [get_latest_email,send_email,retrieve_emails,get_email_count]"
   ]
  },
  {
   "cell_type": "code",
   "execution_count": 4,
   "metadata": {},
   "outputs": [],
   "source": [
    "functions = auto_functions(functions_list)"
   ]
  },
  {
   "cell_type": "code",
   "execution_count": 5,
   "metadata": {},
   "outputs": [
    {
     "data": {
      "text/plain": [
       "[{'name': 'get_latest_email',\n",
       "  'description': '查询Gmail邮箱中最后一封邮件信息',\n",
       "  'parameters': {'type': 'object',\n",
       "   'properties': {'userId': {'type': 'string',\n",
       "     'description': \"需要查询的邮箱ID，当查询我的邮箱时，userId需要输入'me'\"}},\n",
       "   'required': ['userId']}},\n",
       " {'name': 'send_email',\n",
       "  'description': '借助Gmail API创建并发送邮件函数',\n",
       "  'parameters': {'type': 'object',\n",
       "   'properties': {'to': {'type': 'string', 'description': '邮件发送的目标邮箱地址'},\n",
       "    'subject': {'type': 'string', 'description': '邮件主题'},\n",
       "    'message_text': {'type': 'string', 'description': '邮件全部正文'}},\n",
       "   'required': ['to', 'subject', 'message_text']},\n",
       "  'return': {'type': 'object',\n",
       "   'properties': {'mail_id': {'type': 'string', 'description': '发送成功后的邮件ID'},\n",
       "    'status': {'type': 'string', 'description': '发送状态'}}}},\n",
       " {'name': 'retrieve_emails',\n",
       "  'description': '获取指定数量的最近邮件',\n",
       "  'parameters': {'type': 'object',\n",
       "   'properties': {'n': {'type': 'integer', 'description': '要检索的邮件的数量'},\n",
       "    'user_id': {'type': 'string',\n",
       "     'default': 'me',\n",
       "     'description': '要检索邮件的用户的ID'}}},\n",
       "  'return': {'type': 'array',\n",
       "   'items': {'type': 'object',\n",
       "    'properties': {'From': {'type': 'string', 'description': '发件人的邮箱地址'},\n",
       "     'Date': {'type': 'string', 'description': '邮件的发送日期'},\n",
       "     'Subject': {'type': 'string', 'description': '邮件的主题'},\n",
       "     'Snippet': {'type': 'string', 'description': '邮件的摘要（前100个字符）'}}}}},\n",
       " {'name': 'get_email_count',\n",
       "  'description': '查询Gmail邮箱中的邮件数量',\n",
       "  'parameters': {'type': 'object',\n",
       "   'properties': {'userId': {'type': 'string',\n",
       "     'description': \"需要查询的邮箱ID，当查询我的邮箱时，userId需要输入'me'\"}},\n",
       "   'required': ['userId']}}]"
      ]
     },
     "execution_count": 5,
     "metadata": {},
     "output_type": "execute_result"
    }
   ],
   "source": [
    "functions"
   ]
  },
  {
   "cell_type": "code",
   "execution_count": 6,
   "metadata": {},
   "outputs": [],
   "source": [
    "messages = [\n",
    "    {'role':\"user\",\"content\":\"请查看我的邮箱里是否有黄剑的邮件，如果有的话请帮解读下内容。\"}\n",
    "]"
   ]
  },
  {
   "cell_type": "code",
   "execution_count": 7,
   "metadata": {},
   "outputs": [],
   "source": [
    "response = openai.ChatCompletion.create(\n",
    "        model=\"gpt-3.5-turbo\",\n",
    "        messages=messages,\n",
    "        functions=functions,\n",
    "        function_call=\"auto\",  \n",
    "    )"
   ]
  },
  {
   "cell_type": "code",
   "execution_count": 8,
   "metadata": {},
   "outputs": [
    {
     "data": {
      "text/plain": [
       "<OpenAIObject at 0x15ba92e80> JSON: {\n",
       "  \"role\": \"assistant\",\n",
       "  \"content\": null,\n",
       "  \"function_call\": {\n",
       "    \"name\": \"retrieve_emails\",\n",
       "    \"arguments\": \"{\\n  \\\"user_id\\\": \\\"me\\\"\\n}\"\n",
       "  }\n",
       "}"
      ]
     },
     "execution_count": 8,
     "metadata": {},
     "output_type": "execute_result"
    }
   ],
   "source": [
    "response.choices[0]['message']"
   ]
  },
  {
   "cell_type": "code",
   "execution_count": null,
   "metadata": {},
   "outputs": [],
   "source": [
    "chat_with_model(prompt='你好',functions_list=functions_list)"
   ]
  },
  {
   "cell_type": "code",
   "execution_count": 9,
   "metadata": {},
   "outputs": [],
   "source": [
    "get_email_input = \"请帮我查下邮箱里最后一封邮件内容。\"\n",
    "\n",
    "get_email_out = \"请帮我编写一个python函数，用于查看我的Gmail邮箱中最后一封邮件信息，函数要求如下：\\\n",
    "                 1.函数参数userId，userId是字符串参数，默认情况下取值为'me'，表示查看我的邮件；\\\n",
    "                 2.函数返回结果是一个包含最后一封邮件信息的对象，返回结果本身必须是一个json格式对象；\\\n",
    "                 3.请将全部功能封装在一个函数内；\\\n",
    "                 4.请在函数编写过程中，在函数内部加入中文编写的详细的函数说明文档，用于说明函数功能、函数参数情况以及函数返回结果等信息；\"\n",
    "\n",
    "email_counts_input = \"请帮我查下邮箱里现在总共有多少封邮件。\"\n",
    "\n",
    "email_counts_out = \"请帮我编写一个python函数，用于查看我的Gmail邮箱中总共有多少封邮件，函数要求如下：\\\n",
    "                    1.函数参数userId，userId是字符串参数，默认情况下取值为'me'，表示查看我的邮件；\\\n",
    "                    2.函数返回结果是当前邮件总数，返回结果本身必须是一个json格式对象；\\\n",
    "                    3.请将全部功能封装在一个函数内；\\\n",
    "                    4.请在函数编写过程中，在函数内部加入中文编写的详细的函数说明文档，用于说明函数功能、函数参数情况以及函数返回结果等信息；\""
   ]
  },
  {
   "cell_type": "code",
   "execution_count": 10,
   "metadata": {},
   "outputs": [
    {
     "data": {
      "text/plain": [
       "[{'role': 'system', 'content': '请按照格式，编写一段函数功能说明。'},\n",
       " {'role': 'user', 'name': 'example1_user', 'content': '请帮我查下邮箱里最后一封邮件内容。'},\n",
       " {'role': 'assistant',\n",
       "  'name': 'example1_assistant',\n",
       "  'content': \"请帮我编写一个python函数，用于查看我的Gmail邮箱中最后一封邮件信息，函数要求如下：                 1.函数参数userId，userId是字符串参数，默认情况下取值为'me'，表示查看我的邮件；                 2.函数返回结果是一个包含最后一封邮件信息的对象，返回结果本身必须是一个json格式对象；                 3.请将全部功能封装在一个函数内；                 4.请在函数编写过程中，在函数内部加入中文编写的详细的函数说明文档，用于说明函数功能、函数参数情况以及函数返回结果等信息；\"},\n",
       " {'role': 'user', 'name': 'example2_user', 'content': '请帮我查下邮箱里现在总共有多少封邮件。'},\n",
       " {'role': 'assistant',\n",
       "  'name': 'example2_assistant',\n",
       "  'content': \"请帮我编写一个python函数，用于查看我的Gmail邮箱中总共有多少封邮件，函数要求如下：                    1.函数参数userId，userId是字符串参数，默认情况下取值为'me'，表示查看我的邮件；                    2.函数返回结果是当前邮件总数，返回结果本身必须是一个json格式对象；                    3.请将全部功能封装在一个函数内；                    4.请在函数编写过程中，在函数内部加入中文编写的详细的函数说明文档，用于说明函数功能、函数参数情况以及函数返回结果等信息；\"},\n",
       " {'role': 'user',\n",
       "  'name': 'example_user',\n",
       "  'content': '请查下我的邮箱里是否有来自黄剑的未读邮件，并解读最近一封未读邮件的内容'}]"
      ]
     },
     "execution_count": 10,
     "metadata": {},
     "output_type": "execute_result"
    }
   ],
   "source": [
    "user_content = \"请查下我的邮箱里是否有来自黄剑的未读邮件，并解读最近一封未读邮件的内容\"\n",
    "\n",
    "messages_fewShot_stage1 = [{\"role\": \"system\", \"content\": \"请按照格式，编写一段函数功能说明。\"},\n",
    "                          {\"role\": \"user\", \"name\":\"example1_user\", \"content\": get_email_input},\n",
    "                          {\"role\": \"assistant\", \"name\":\"example1_assistant\", \"content\": get_email_out},\n",
    "                          {\"role\": \"user\", \"name\":\"example2_user\", \"content\": email_counts_input},\n",
    "                          {\"role\": \"assistant\", \"name\":\"example2_assistant\", \"content\": email_counts_out},\n",
    "                          {\"role\": \"user\", \"name\":\"example_user\", \"content\": user_content}]\n",
    "messages_fewShot_stage1"
   ]
  },
  {
   "cell_type": "code",
   "execution_count": 11,
   "metadata": {},
   "outputs": [],
   "source": [
    "response = openai.ChatCompletion.create(\n",
    "  model=\"gpt-3.5-turbo-16k\",\n",
    "  messages=messages_fewShot_stage1\n",
    ")"
   ]
  },
  {
   "cell_type": "code",
   "execution_count": 12,
   "metadata": {},
   "outputs": [
    {
     "name": "stdout",
     "output_type": "stream",
     "text": [
      "请帮我编写一个python函数，用于查看我的Gmail邮箱中是否有来自黄剑的未读邮件，并且解读最近一封未读邮件的内容，函数要求如下：\n",
      "1. 函数参数userId，userId是字符串参数，默认情况下取值为'me'，表示查看我的邮件；\n",
      "2. 函数返回结果是一个字典对象，包含两个字段：\n",
      "   - \"has_unread_email\": 一个布尔值，表示是否有来自黄剑的未读邮件；\n",
      "   - \"latest_unread_email\": 如果有未读邮件，则表示最近一封未读邮件的内容，格式为一个字典对象，包含邮件的发送者、主题、日期和内容等信息；\n",
      "3. 请将全部功能封装在一个函数内；\n",
      "4. 请在函数编写过程中，在函数内部加入中文编写的详细的函数说明文档，用于说明函数功能、函数参数情况以及函数返回结果等信息；\n"
     ]
    }
   ],
   "source": [
    "print(response.choices[0].message['content'])"
   ]
  },
  {
   "cell_type": "code",
   "execution_count": 13,
   "metadata": {},
   "outputs": [],
   "source": [
    "system_content = \"我现在已完成Gmail API授权，授权文件为本地文件token.json。\""
   ]
  },
  {
   "cell_type": "code",
   "execution_count": 14,
   "metadata": {},
   "outputs": [],
   "source": [
    "user_example_content = \"请帮我编写一个python函数，用于查看我的Gmail邮箱中最后一封邮件信息，函数要求如下：\\\n",
    "                        1.函数参数userId，userId是字符串参数，默认情况下取值为'me'，表示查看我的邮件；\\\n",
    "                        2.函数返回结果是一个包含最后一封邮件信息的对象，返回结果本身必须是一个json格式对象；\\\n",
    "                        3.请将全部功能封装在一个函数内；\\\n",
    "                        4.请在函数编写过程中，在函数内部加入中文编写的详细的函数说明文档，用于说明函数功能、函数参数情况以及函数返回结果等信息；\""
   ]
  },
  {
   "cell_type": "code",
   "execution_count": 15,
   "metadata": {},
   "outputs": [],
   "source": [
    "with open('./functions/tested functions/%s_module.py' % 'get_latest_email', encoding='utf-8') as f:\n",
    "    assistant_example_content = f.read()"
   ]
  },
  {
   "cell_type": "code",
   "execution_count": 16,
   "metadata": {},
   "outputs": [
    {
     "data": {
      "text/plain": [
       "'def get_latest_email(userId):\\n    \"\"\"\\n    查询Gmail邮箱中最后一封邮件信息\\n    :param userId: 必要参数，字符串类型，用于表示需要查询的邮箱ID，\\\\\\n    注意，当查询我的邮箱时，userId需要输入\\'me\\'；\\n    :return：包含最后一封邮件全部信息的对象，该对象由Gmail API创建得到，且保存为JSON格式\\n    \"\"\"\\n    # 从本地文件中加载凭据\\n    creds = Credentials.from_authorized_user_file(\\'token.json\\')\\n    \\n    # 创建 Gmail API 客户端\\n    service = build(\\'gmail\\', \\'v1\\', credentials=creds)\\n    \\n    # 列出用户的一封最新邮件\\n    results = service.users().messages().list(userId=userId, maxResults=1).execute()\\n    messages = results.get(\\'messages\\', [])\\n\\n    # 遍历邮件\\n    for message in messages:\\n        # 获取邮件的详细信息\\n        msg = service.users().messages().get(userId=\\'me\\', id=message[\\'id\\']).execute()\\n        \\n    return json.dumps(msg)\\n'"
      ]
     },
     "execution_count": 16,
     "metadata": {},
     "output_type": "execute_result"
    }
   ],
   "source": [
    "assistant_example_content"
   ]
  },
  {
   "cell_type": "code",
   "execution_count": 17,
   "metadata": {},
   "outputs": [],
   "source": [
    "user_content = response.choices[0].message['content']"
   ]
  },
  {
   "cell_type": "code",
   "execution_count": 18,
   "metadata": {},
   "outputs": [
    {
     "data": {
      "text/plain": [
       "'请帮我编写一个python函数，用于查看我的Gmail邮箱中是否有来自黄剑的未读邮件，并且解读最近一封未读邮件的内容，函数要求如下：\\n1. 函数参数userId，userId是字符串参数，默认情况下取值为\\'me\\'，表示查看我的邮件；\\n2. 函数返回结果是一个字典对象，包含两个字段：\\n   - \"has_unread_email\": 一个布尔值，表示是否有来自黄剑的未读邮件；\\n   - \"latest_unread_email\": 如果有未读邮件，则表示最近一封未读邮件的内容，格式为一个字典对象，包含邮件的发送者、主题、日期和内容等信息；\\n3. 请将全部功能封装在一个函数内；\\n4. 请在函数编写过程中，在函数内部加入中文编写的详细的函数说明文档，用于说明函数功能、函数参数情况以及函数返回结果等信息；'"
      ]
     },
     "execution_count": 18,
     "metadata": {},
     "output_type": "execute_result"
    }
   ],
   "source": [
    "user_content"
   ]
  },
  {
   "cell_type": "code",
   "execution_count": 19,
   "metadata": {},
   "outputs": [],
   "source": [
    "messages_fewShot_stage2 = [{\"role\": \"system\", \"content\": system_content},\n",
    "                          {\"role\": \"user\", \"name\":\"example_user\", \"content\": user_example_content},\n",
    "                          {\"role\": \"assistant\", \"name\":\"example_assistant\", \"content\": assistant_example_content},\n",
    "                          {\"role\": \"user\", \"name\":\"example_user\", \"content\": user_content}]"
   ]
  },
  {
   "cell_type": "code",
   "execution_count": 20,
   "metadata": {},
   "outputs": [],
   "source": [
    "response2 = openai.ChatCompletion.create(\n",
    "  model=\"gpt-3.5-turbo-16k\",\n",
    "  messages=messages_fewShot_stage2\n",
    ")"
   ]
  },
  {
   "cell_type": "code",
   "execution_count": 21,
   "metadata": {},
   "outputs": [],
   "source": [
    "s = response2.choices[0]['message']['content']"
   ]
  },
  {
   "cell_type": "code",
   "execution_count": 22,
   "metadata": {},
   "outputs": [
    {
     "name": "stdout",
     "output_type": "stream",
     "text": [
      "from googleapiclient.discovery import build\n",
      "from google.oauth2.credentials import Credentials\n",
      "\n",
      "def check_unread_email(userId='me'):\n",
      "    \"\"\"\n",
      "    查询Gmail邮箱中是否有来自黄剑的未读邮件，并解读最近一封未读邮件的内容\n",
      "    :param userId: 邮箱ID，默认为'me'，表示查看我的邮件\n",
      "    :return: 包含两个字段的字典对象：\n",
      "             - \"has_unread_email\": 一个布尔值，表示是否有来自黄剑的未读邮件\n",
      "             - \"latest_unread_email\": 如果有未读邮件，则表示最近一封未读邮件的内容，格式为一个字典对象，\n",
      "                                      包含邮件的发送者、主题、日期和内容等信息\n",
      "    \"\"\"\n",
      "    # 从本地文件中加载凭据\n",
      "    creds = Credentials.from_authorized_user_file('token.json')\n",
      "    \n",
      "    # 创建 Gmail API 客户端\n",
      "    service = build('gmail', 'v1', credentials=creds)\n",
      "    \n",
      "    # 搜索未读邮件来源与黄剑的邮件\n",
      "    query = \"is:unread from:黄剑\"\n",
      "    results = service.users().messages().list(userId=userId, q=query).execute()\n",
      "    messages = results.get('messages', [])\n",
      "    \n",
      "    has_unread_email = len(messages) > 0\n",
      "    latest_unread_email = {}\n",
      "    \n",
      "    if has_unread_email:\n",
      "        # 获取最近一封未读邮件的详细信息\n",
      "        message = messages[0]\n",
      "        msg = service.users().messages().get(userId=userId, id=message['id']).execute()\n",
      "        \n",
      "        # 解读邮件的相关信息\n",
      "        sender = msg['payload']['headers'][0]['value']\n",
      "        subject = msg['payload']['headers'][1]['value']\n",
      "        date = msg['payload']['headers'][2]['value']\n",
      "        content = msg['snippet']\n",
      "        \n",
      "        latest_unread_email = {\n",
      "            \"sender\": sender,\n",
      "            \"subject\": subject,\n",
      "            \"date\": date,\n",
      "            \"content\": content\n",
      "        }\n",
      "    \n",
      "    return {\n",
      "        \"has_unread_email\": has_unread_email,\n",
      "        \"latest_unread_email\": latest_unread_email\n",
      "    }\n"
     ]
    }
   ],
   "source": [
    "extract_function_code(s,detail=1)"
   ]
  },
  {
   "cell_type": "code",
   "execution_count": 37,
   "metadata": {},
   "outputs": [],
   "source": [
    "from check_unread_email_module import check_unread_email"
   ]
  },
  {
   "cell_type": "code",
   "execution_count": 38,
   "metadata": {},
   "outputs": [
    {
     "data": {
      "text/plain": [
       "{'has_unread_email': False, 'latest_unread_email': {}}"
      ]
     },
     "execution_count": 38,
     "metadata": {},
     "output_type": "execute_result"
    }
   ],
   "source": [
    "check_unread_email()"
   ]
  },
  {
   "cell_type": "code",
   "execution_count": 35,
   "metadata": {},
   "outputs": [],
   "source": [
    "del check_unread_email"
   ]
  },
  {
   "cell_type": "code",
   "execution_count": 39,
   "metadata": {},
   "outputs": [],
   "source": [
    "system_content1 = \"为了更好编写满足用户需求的python函数，我们需要先识别用户需求中的变量，以作为python函数的参数。需要注意的是，当前编写的函数中涉及到的邮件收发查阅等功能，都是通过调用Gmail API来完成。\""
   ]
  },
  {
   "cell_type": "code",
   "execution_count": 40,
   "metadata": {},
   "outputs": [],
   "source": [
    "input1 = \"请帮我查下Gmail邮箱里最后一封邮件内容。\"\n",
    "pi1 = \"当前需求中可以作为函数参数的是：1.查看谁的邮箱。\""
   ]
  },
  {
   "cell_type": "code",
   "execution_count": 52,
   "metadata": {},
   "outputs": [],
   "source": [
    "input2 = \"请帮我给陈明发送一封Gmail邮件，请他明天早上9点半来我办公室开会，商量下半年技术开发计划。\"\n",
    "pi2 = \"当前需求中可以作为函数参数的是：1.谁发送的邮件；2.发送邮件的主题；3.邮件具体内容\""
   ]
  },
  {
   "cell_type": "code",
   "execution_count": 63,
   "metadata": {},
   "outputs": [],
   "source": [
    "input3 = \"请查下我的邮箱，看看是否有阿新发送来的未读邮件，并解读最近一封未读邮件的内容。\""
   ]
  },
  {
   "cell_type": "code",
   "execution_count": 64,
   "metadata": {},
   "outputs": [],
   "source": [
    "messages_CD = [\n",
    "    {\"role\": \"system\", \"content\": system_content1},\n",
    "    {\"role\": \"user\", \"name\": \"example1_user\", \"content\": input1},\n",
    "    {\"role\": \"assistant\", \"name\": \"example1_assistant\", \"content\": pi1},\n",
    "    {\"role\": \"user\", \"name\": \"example2_user\", \"content\": input2},\n",
    "    {\"role\": \"assistant\", \"name\": \"example2_assistant\", \"content\": pi2}, \n",
    "    {\"role\": \"user\", \"name\": \"example_user\", \"content\": input3}\n",
    "]"
   ]
  },
  {
   "cell_type": "code",
   "execution_count": 65,
   "metadata": {},
   "outputs": [],
   "source": [
    "response = openai.ChatCompletion.create(\n",
    "  model=\"gpt-3.5-turbo-16k\",\n",
    "  messages=messages_CD\n",
    ")"
   ]
  },
  {
   "cell_type": "code",
   "execution_count": 66,
   "metadata": {},
   "outputs": [],
   "source": [
    "pi3 = response.choices[0].message['content']"
   ]
  },
  {
   "cell_type": "code",
   "execution_count": 67,
   "metadata": {},
   "outputs": [
    {
     "data": {
      "text/plain": [
       "'当前需求中可以作为函数参数的是：1.查看谁的邮箱；2.筛选未读邮件的发送者。'"
      ]
     },
     "execution_count": 67,
     "metadata": {},
     "output_type": "execute_result"
    }
   ],
   "source": [
    "pi3"
   ]
  },
  {
   "cell_type": "code",
   "execution_count": 68,
   "metadata": {},
   "outputs": [],
   "source": [
    "system_content2 = \"我现在已完成Gmail API授权，授权文件为本地文件token.json。所编写的函数要求参数类型都必须是字符串类型。\""
   ]
  },
  {
   "cell_type": "code",
   "execution_count": 69,
   "metadata": {},
   "outputs": [
    {
     "data": {
      "text/plain": [
       "'请帮我查下邮箱里最后一封邮件内容。当前需求中可以作为函数参数的是：1.查看谁的邮箱。'"
      ]
     },
     "execution_count": 69,
     "metadata": {},
     "output_type": "execute_result"
    }
   ],
   "source": [
    "get_email_input = \"请帮我查下邮箱里最后一封邮件内容。\" + pi1\n",
    "get_email_input"
   ]
  },
  {
   "cell_type": "code",
   "execution_count": 70,
   "metadata": {},
   "outputs": [],
   "source": [
    "get_email_out = \"请帮我编写一个python函数，用于查看我的Gmail邮箱中最后一封邮件信息，函数要求如下：\\\n",
    "                 1.函数参数userId，userId是字符串参数，默认情况下取值为'me'，表示查看我的邮件；\\\n",
    "                 2.函数返回结果是一个包含最后一封邮件信息的对象，返回结果本身必须是一个json格式对象；\\\n",
    "                 3.请将全部功能封装在一个函数内；\\\n",
    "                 4.请在函数编写过程中，在函数内部加入中文编写的详细的函数说明文档，用于说明函数功能、函数参数情况以及函数返回结果等信息；\""
   ]
  },
  {
   "cell_type": "code",
   "execution_count": 72,
   "metadata": {},
   "outputs": [
    {
     "data": {
      "text/plain": [
       "'请帮我给阿新发送一封Gmail邮件，他的邮箱是ax909@163.com,请他明天早上9点半来我办公室开会，商量下半年技术开发计划。当前需求中可以作为函数参数的是：1.谁发送的邮件；2.发送邮件的主题；3.邮件具体内容'"
      ]
     },
     "execution_count": 72,
     "metadata": {},
     "output_type": "execute_result"
    }
   ],
   "source": [
    "send_email_input = \"请帮我给阿新发送一封Gmail邮件，他的邮箱是ax909@163.com,请他明天早上9点半来我办公室开会，商量下半年技术开发计划。\" + pi2\n",
    "send_email_input"
   ]
  },
  {
   "cell_type": "code",
   "execution_count": 73,
   "metadata": {},
   "outputs": [],
   "source": [
    "send_email_out = \"请帮我编写一个python函数，用于给阿新发送邮件，ax909@163.com，请他明天早上9点半来我办公室开会，商量下半年技术开发计划，函数要求如下：\\\n",
    "                  1.函数参数to、subject和message_text，三个参数都是字符串类型，其中to表示发送邮件对象，subject表示邮件主题，message_text表示邮件具体内容；\\\n",
    "                  2.函数返回结果是当前邮件发送状态，返回结果本身必须是一个json格式对象；\\\n",
    "                  3.请将全部功能封装在一个函数内；\\\n",
    "                  4.请在函数编写过程中，在函数内部加入中文编写的详细的函数说明文档，用于说明函数功能、函数参数情况以及函数返回结果等信息；\""
   ]
  },
  {
   "cell_type": "code",
   "execution_count": 74,
   "metadata": {},
   "outputs": [
    {
     "data": {
      "text/plain": [
       "'请查下我的邮箱，看看是否有阿新发送来的未读邮件，并解读最近一封未读邮件的内容。当前需求中可以作为函数参数的是：1.查看谁的邮箱；2.筛选未读邮件的发送者。'"
      ]
     },
     "execution_count": 74,
     "metadata": {},
     "output_type": "execute_result"
    }
   ],
   "source": [
    "user_content = input3 + pi3\n",
    "user_content"
   ]
  },
  {
   "cell_type": "code",
   "execution_count": 75,
   "metadata": {},
   "outputs": [],
   "source": [
    "messages_CM = [{\"role\": \"system\", \"content\": system_content2},\n",
    "                   {\"role\": \"user\", \"name\":\"example1_user\", \"content\": get_email_input},\n",
    "                   {\"role\": \"assistant\", \"name\":\"example1_assistant\", \"content\": get_email_out},\n",
    "                   {\"role\": \"user\", \"name\":\"example2_user\", \"content\": send_email_input},\n",
    "                   {\"role\": \"assistant\", \"name\":\"example2_assistant\", \"content\": send_email_out},\n",
    "                   {\"role\": \"user\", \"name\":\"example_user\", \"content\": user_content}]"
   ]
  },
  {
   "cell_type": "code",
   "execution_count": 76,
   "metadata": {},
   "outputs": [
    {
     "data": {
      "text/plain": [
       "[{'role': 'system',\n",
       "  'content': '我现在已完成Gmail API授权，授权文件为本地文件token.json。所编写的函数要求参数类型都必须是字符串类型。'},\n",
       " {'role': 'user',\n",
       "  'name': 'example1_user',\n",
       "  'content': '请帮我查下邮箱里最后一封邮件内容。当前需求中可以作为函数参数的是：1.查看谁的邮箱。'},\n",
       " {'role': 'assistant',\n",
       "  'name': 'example1_assistant',\n",
       "  'content': \"请帮我编写一个python函数，用于查看我的Gmail邮箱中最后一封邮件信息，函数要求如下：                 1.函数参数userId，userId是字符串参数，默认情况下取值为'me'，表示查看我的邮件；                 2.函数返回结果是一个包含最后一封邮件信息的对象，返回结果本身必须是一个json格式对象；                 3.请将全部功能封装在一个函数内；                 4.请在函数编写过程中，在函数内部加入中文编写的详细的函数说明文档，用于说明函数功能、函数参数情况以及函数返回结果等信息；\"},\n",
       " {'role': 'user',\n",
       "  'name': 'example2_user',\n",
       "  'content': '请帮我给阿新发送一封Gmail邮件，他的邮箱是ax909@163.com,请他明天早上9点半来我办公室开会，商量下半年技术开发计划。当前需求中可以作为函数参数的是：1.谁发送的邮件；2.发送邮件的主题；3.邮件具体内容'},\n",
       " {'role': 'assistant',\n",
       "  'name': 'example2_assistant',\n",
       "  'content': '请帮我编写一个python函数，用于给阿新发送邮件，ax909@163.com，请他明天早上9点半来我办公室开会，商量下半年技术开发计划，函数要求如下：                  1.函数参数to、subject和message_text，三个参数都是字符串类型，其中to表示发送邮件对象，subject表示邮件主题，message_text表示邮件具体内容；                  2.函数返回结果是当前邮件发送状态，返回结果本身必须是一个json格式对象；                  3.请将全部功能封装在一个函数内；                  4.请在函数编写过程中，在函数内部加入中文编写的详细的函数说明文档，用于说明函数功能、函数参数情况以及函数返回结果等信息；'},\n",
       " {'role': 'user',\n",
       "  'name': 'example_user',\n",
       "  'content': '请查下我的邮箱，看看是否有阿新发送来的未读邮件，并解读最近一封未读邮件的内容。当前需求中可以作为函数参数的是：1.查看谁的邮箱；2.筛选未读邮件的发送者。'}]"
      ]
     },
     "execution_count": 76,
     "metadata": {},
     "output_type": "execute_result"
    }
   ],
   "source": [
    "messages_CM "
   ]
  },
  {
   "cell_type": "code",
   "execution_count": 81,
   "metadata": {},
   "outputs": [],
   "source": [
    "response_CM = openai.ChatCompletion.create(\n",
    "  model=\"gpt-3.5-turbo-16k\",\n",
    "  messages=messages_CM\n",
    ")"
   ]
  },
  {
   "cell_type": "code",
   "execution_count": 82,
   "metadata": {},
   "outputs": [
    {
     "data": {
      "text/plain": [
       "\"请帮我编写一个python函数，用于查询指定邮箱中的未读邮件并解读最近一封未读邮件的内容，函数要求如下：             \\n                1.函数参数userId和sender两个参数，都是字符串类型。userId表示要查询的邮箱用户，sender表示筛选未读邮件的发送者。默认情况下userId取值为'me'，表示查询当前用户的邮箱；如果不指定sender参数，则默认查询所有未读邮件；                    \\n                2.函数返回结果是最近一封未读邮件的内容，返回结果本身必须是一个json格式对象，包含邮件的主题、发送者、接收者、时间和内容等信息；       \\n                3.请将全部功能封装在一个函数内；             \\n                4.请在函数编写过程中，在函数内部加入中文编写的详细的函数说明文档，用于说明函数功能、函数参数情况以及函数返回结果等信息；\""
      ]
     },
     "execution_count": 82,
     "metadata": {},
     "output_type": "execute_result"
    }
   ],
   "source": [
    "function_description = response_CM.choices[0].message['content']\n",
    "function_description"
   ]
  },
  {
   "cell_type": "code",
   "execution_count": 80,
   "metadata": {},
   "outputs": [
    {
     "data": {
      "text/plain": [
       "<OpenAIObject chat.completion id=chatcmpl-7oYspGaMiAWn9uQjO0cz0G3HYw8f2 at 0x15f1c24d0> JSON: {\n",
       "  \"id\": \"chatcmpl-7oYspGaMiAWn9uQjO0cz0G3HYw8f2\",\n",
       "  \"object\": \"chat.completion\",\n",
       "  \"created\": 1692284847,\n",
       "  \"model\": \"gpt-3.5-turbo-16k-0613\",\n",
       "  \"choices\": [\n",
       "    {\n",
       "      \"index\": 0,\n",
       "      \"message\": {\n",
       "        \"role\": \"assistant\",\n",
       "        \"content\": \"\\u5f53\\u524d\\u9700\\u6c42\\u4e2d\\u53ef\\u4ee5\\u4f5c\\u4e3a\\u51fd\\u6570\\u53c2\\u6570\\u7684\\u662f\\uff1a1.\\u67e5\\u770b\\u8c01\\u7684\\u90ae\\u7bb1\\u3002\"\n",
       "      },\n",
       "      \"finish_reason\": \"stop\"\n",
       "    }\n",
       "  ],\n",
       "  \"usage\": {\n",
       "    \"prompt_tokens\": 288,\n",
       "    \"completion_tokens\": 21,\n",
       "    \"total_tokens\": 309\n",
       "  }\n",
       "}"
      ]
     },
     "execution_count": 80,
     "metadata": {},
     "output_type": "execute_result"
    }
   ],
   "source": [
    "response_CD"
   ]
  },
  {
   "cell_type": "code",
   "execution_count": 83,
   "metadata": {},
   "outputs": [
    {
     "data": {
      "text/plain": [
       "\"请帮我编写一个python函数，用于查看我的Gmail邮箱中最后一封邮件信息，函数要求如下：                 1.函数参数userId，userId是字符串参数，默认情况下取值为'me'，表示查看我的邮件；                 2.函数返回结果是一个包含最后一封邮件信息的对象，返回结果本身必须是一个json格式对象；                 3.请将全部功能封装在一个函数内；                 4.请在函数编写过程中，在函数内部加入中文编写的详细的函数说明文档，用于说明函数功能、函数参数情况以及函数返回结果等信息；\""
      ]
     },
     "execution_count": 83,
     "metadata": {},
     "output_type": "execute_result"
    }
   ],
   "source": [
    "func1_description = get_email_out\n",
    "func1_description"
   ]
  },
  {
   "cell_type": "code",
   "execution_count": 84,
   "metadata": {},
   "outputs": [],
   "source": [
    "with open('./functions/tested functions/%s_module.py' % 'get_latest_email', encoding='utf-8') as f:\n",
    "    func1_str = f.read()"
   ]
  },
  {
   "cell_type": "code",
   "execution_count": 85,
   "metadata": {},
   "outputs": [
    {
     "data": {
      "text/plain": [
       "'def get_latest_email(userId):\\n    \"\"\"\\n    查询Gmail邮箱中最后一封邮件信息\\n    :param userId: 必要参数，字符串类型，用于表示需要查询的邮箱ID，\\\\\\n    注意，当查询我的邮箱时，userId需要输入\\'me\\'；\\n    :return：包含最后一封邮件全部信息的对象，该对象由Gmail API创建得到，且保存为JSON格式\\n    \"\"\"\\n    # 从本地文件中加载凭据\\n    creds = Credentials.from_authorized_user_file(\\'token.json\\')\\n    \\n    # 创建 Gmail API 客户端\\n    service = build(\\'gmail\\', \\'v1\\', credentials=creds)\\n    \\n    # 列出用户的一封最新邮件\\n    results = service.users().messages().list(userId=userId, maxResults=1).execute()\\n    messages = results.get(\\'messages\\', [])\\n\\n    # 遍历邮件\\n    for message in messages:\\n        # 获取邮件的详细信息\\n        msg = service.users().messages().get(userId=\\'me\\', id=message[\\'id\\']).execute()\\n        \\n    return json.dumps(msg)\\n'"
      ]
     },
     "execution_count": 85,
     "metadata": {},
     "output_type": "execute_result"
    }
   ],
   "source": [
    "func1_str"
   ]
  },
  {
   "cell_type": "code",
   "execution_count": 86,
   "metadata": {},
   "outputs": [
    {
     "data": {
      "text/plain": [
       "'请帮我编写一个python函数，用于给阿新发送邮件，ax909@163.com，请他明天早上9点半来我办公室开会，商量下半年技术开发计划，函数要求如下：                  1.函数参数to、subject和message_text，三个参数都是字符串类型，其中to表示发送邮件对象，subject表示邮件主题，message_text表示邮件具体内容；                  2.函数返回结果是当前邮件发送状态，返回结果本身必须是一个json格式对象；                  3.请将全部功能封装在一个函数内；                  4.请在函数编写过程中，在函数内部加入中文编写的详细的函数说明文档，用于说明函数功能、函数参数情况以及函数返回结果等信息；'"
      ]
     },
     "execution_count": 86,
     "metadata": {},
     "output_type": "execute_result"
    }
   ],
   "source": [
    "func2_description = send_email_out\n",
    "func2_description"
   ]
  },
  {
   "cell_type": "code",
   "execution_count": 90,
   "metadata": {},
   "outputs": [],
   "source": [
    "s = inspect.getsource(send_email)"
   ]
  },
  {
   "cell_type": "code",
   "execution_count": 94,
   "metadata": {},
   "outputs": [
    {
     "name": "stdout",
     "output_type": "stream",
     "text": [
      "def send_email(to, subject, message_text):\n",
      "    \"\"\"\n",
      "    借助Gmail API创建并发送邮件函数\n",
      "    :param to: 必要参数，字符串类型，用于表示邮件发送的目标邮箱地址；\n",
      "    :param subject: 必要参数，字符串类型，表示邮件主题；\n",
      "    :param message_text: 必要参数，字符串类型，表示邮件全部正文；\n",
      "    :return：返回发送结果字典，若成功发送，则返回包含邮件ID和发送状态的字典。\n",
      "    \"\"\"\n",
      "    \n",
      "    creds_file='token_send.json'\n",
      "    \n",
      "    def create_message(to, subject, message_text):\n",
      "        \"\"\"创建一个MIME邮件\"\"\"\n",
      "        message = MIMEText(message_text)\n",
      "        message['to'] = to\n",
      "        message['from'] = 'me'\n",
      "        message['subject'] = subject\n",
      "        raw_message = base64.urlsafe_b64encode(message.as_string().encode('utf-8')).decode('utf-8')\n",
      "        return {\n",
      "            'raw': raw_message\n",
      "        }\n",
      "\n",
      "    def send_message(service, user_id, message):\n",
      "        \"\"\"发送邮件\"\"\"\n",
      "        try:\n",
      "            sent_message = service.users().messages().send(userId=user_id, body=message).execute()\n",
      "            print(f'Message Id: {sent_message[\"id\"]}')\n",
      "            return sent_message\n",
      "        except Exception as e:\n",
      "            print(f'An error occurred: {e}')\n",
      "            return None\n",
      "\n",
      "    # 从本地文件中加载凭据\n",
      "    creds = Credentials.from_authorized_user_file(creds_file)\n",
      "\n",
      "    # 创建 Gmail API 客户端\n",
      "    service = build('gmail', 'v1', credentials=creds)\n",
      "\n",
      "    message = create_message(to, subject, message_text)\n",
      "    res = send_message(service, 'me', message)\n",
      "\n",
      "    return json.dumps(res)\n",
      "\n"
     ]
    }
   ],
   "source": [
    "extract_function_code(s,detail=1,tested=True)"
   ]
  },
  {
   "cell_type": "code",
   "execution_count": 95,
   "metadata": {},
   "outputs": [],
   "source": [
    "with open('./functions/tested functions/%s_module.py' % 'send_email', encoding='utf-8') as f:\n",
    "    func2_str = f.read()"
   ]
  },
  {
   "cell_type": "code",
   "execution_count": 97,
   "metadata": {},
   "outputs": [
    {
     "data": {
      "text/plain": [
       "'def send_email(to, subject, message_text):\\n    \"\"\"\\n    借助Gmail API创建并发送邮件函数\\n    :param to: 必要参数，字符串类型，用于表示邮件发送的目标邮箱地址；\\n    :param subject: 必要参数，字符串类型，表示邮件主题；\\n    :param message_text: 必要参数，字符串类型，表示邮件全部正文；\\n    :return：返回发送结果字典，若成功发送，则返回包含邮件ID和发送状态的字典。\\n    \"\"\"\\n    \\n    creds_file=\\'token_send.json\\'\\n    \\n    def create_message(to, subject, message_text):\\n        \"\"\"创建一个MIME邮件\"\"\"\\n        message = MIMEText(message_text)\\n        message[\\'to\\'] = to\\n        message[\\'from\\'] = \\'me\\'\\n        message[\\'subject\\'] = subject\\n        raw_message = base64.urlsafe_b64encode(message.as_string().encode(\\'utf-8\\')).decode(\\'utf-8\\')\\n        return {\\n            \\'raw\\': raw_message\\n        }\\n\\n    def send_message(service, user_id, message):\\n        \"\"\"发送邮件\"\"\"\\n        try:\\n            sent_message = service.users().messages().send(userId=user_id, body=message).execute()\\n            print(f\\'Message Id: {sent_message[\"id\"]}\\')\\n            return sent_message\\n        except Exception as e:\\n            print(f\\'An error occurred: {e}\\')\\n            return None\\n\\n    # 从本地文件中加载凭据\\n    creds = Credentials.from_authorized_user_file(creds_file)\\n\\n    # 创建 Gmail API 客户端\\n    service = build(\\'gmail\\', \\'v1\\', credentials=creds)\\n\\n    message = create_message(to, subject, message_text)\\n    res = send_message(service, \\'me\\', message)\\n\\n    return json.dumps(res)\\n'"
      ]
     },
     "execution_count": 97,
     "metadata": {},
     "output_type": "execute_result"
    }
   ],
   "source": [
    "func2_str"
   ]
  },
  {
   "cell_type": "code",
   "execution_count": 98,
   "metadata": {},
   "outputs": [],
   "source": [
    "system_content3 = \"我现在已完成Gmail API授权，授权文件为本地文件token.json。函数参数必须是字符串类型对象，函数返回结果必须是json表示的字符串对象。\""
   ]
  },
  {
   "cell_type": "code",
   "execution_count": 99,
   "metadata": {},
   "outputs": [],
   "source": [
    "messages_stage2 = [{\"role\": \"system\", \"content\": system_content3},\n",
    "                    {\"role\": \"user\", \"name\":\"example1_user\", \"content\": func1_description},\n",
    "                    {\"role\": \"assistant\", \"name\":\"example1_assistant\", \"content\": func1_str},\n",
    "                    {\"role\": \"user\", \"name\":\"example2_user\", \"content\": func2_description},\n",
    "                    {\"role\": \"assistant\", \"name\":\"example2_assistant\", \"content\": func2_str},\n",
    "                    {\"role\": \"user\",\"content\": function_description}]"
   ]
  },
  {
   "cell_type": "code",
   "execution_count": 100,
   "metadata": {},
   "outputs": [],
   "source": [
    "response_state2 = openai.ChatCompletion.create(\n",
    "  model=\"gpt-3.5-turbo-16k\",\n",
    "  messages=messages_stage2\n",
    ")"
   ]
  },
  {
   "cell_type": "code",
   "execution_count": 101,
   "metadata": {},
   "outputs": [],
   "source": [
    "s = response_state2.choices[0].message['content']"
   ]
  },
  {
   "cell_type": "code",
   "execution_count": 122,
   "metadata": {},
   "outputs": [],
   "source": [
    "s1 = 'from googleapiclient.discovery import build from google.oauth2.credentials import Credentials from google_auth_oauthlib.flow import InstalledAppFlows '+ s"
   ]
  },
  {
   "cell_type": "code",
   "execution_count": 103,
   "metadata": {},
   "outputs": [
    {
     "name": "stdout",
     "output_type": "stream",
     "text": [
      "def get_unread_email_content(userId='me', sender=None):\n",
      "    \"\"\"\n",
      "    查询指定邮箱中的未读邮件并解读最近一封未读邮件的内容\n",
      "    :param userId: 邮箱用户ID，默认为'me'，表示当前用户的邮箱\n",
      "    :param sender: 筛选未读邮件的发送者，可选参数，默认为None表示查询所有未读邮件\n",
      "    :return: 最近一封未读邮件的内容，返回结果是一个包含邮件信息的JSON对象\n",
      "    \"\"\"\n",
      "    # 从本地文件中加载凭据\n",
      "    creds = Credentials.from_authorized_user_file('token.json')\n",
      "    \n",
      "    # 创建 Gmail API 客户端\n",
      "    service = build('gmail', 'v1', credentials=creds)\n",
      "    \n",
      "    # 查询未读邮件\n",
      "    query = 'is:unread'\n",
      "    if sender:\n",
      "        query += ' from:' + sender\n",
      "    \n",
      "    results = service.users().messages().list(userId=userId, q=query).execute()\n",
      "    messages = results.get('messages', [])\n",
      "    \n",
      "    if messages:\n",
      "        # 获取最近一封未读邮件的详细信息\n",
      "        msg = service.users().messages().get(userId=userId, id=messages[0]['id']).execute()\n",
      "        \n",
      "        # 解读邮件内容\n",
      "        email_content = {}\n",
      "        email_content['subject'] = msg.get('subject', '')\n",
      "        email_content['sender'] = msg.get('from', '')\n",
      "        email_content['receiver'] = msg.get('to', '')\n",
      "        email_content['time'] = msg.get('internalDate', '')\n",
      "        \n",
      "        payload = msg.get('payload', {})\n",
      "        headers = payload.get('headers', [])\n",
      "        for header in headers:\n",
      "            if header.get('name') == 'Content-Type' and 'multipart' in header.get('value'):\n",
      "                parts = payload.get('parts', [])\n",
      "                for part in parts:\n",
      "                    data = part.get('body', {}).get('data', '')\n",
      "                    if data:\n",
      "                        email_content['content'] = base64.urlsafe_b64decode(data).decode('utf-8') \n",
      "                        break\n",
      "            elif header.get('name') == 'Content-Type' and 'text/plain' in header.get('value'):\n",
      "                body = payload.get('body', {})\n",
      "                if 'data' in body:\n",
      "                    data = body.get('data', '')\n",
      "                    email_content['content'] = base64.urlsafe_b64decode(data).decode('utf-8') \n",
      "                    break\n",
      "\n",
      "        return json.dumps(email_content)\n",
      "    else:\n",
      "        return json.dumps({})\n"
     ]
    }
   ],
   "source": [
    "extract_function_code(s1,detail=1,tested=0)"
   ]
  },
  {
   "cell_type": "code",
   "execution_count": 2,
   "metadata": {},
   "outputs": [],
   "source": [
    "from get_unread_email_content_module import get_unread_email_content"
   ]
  },
  {
   "cell_type": "code",
   "execution_count": 5,
   "metadata": {},
   "outputs": [],
   "source": [
    "functions_list = [get_latest_email, send_email, retrieve_emails, get_email_count]"
   ]
  },
  {
   "cell_type": "code",
   "execution_count": 125,
   "metadata": {},
   "outputs": [],
   "source": [
    "functions = auto_functions(functions_list)"
   ]
  },
  {
   "cell_type": "code",
   "execution_count": 116,
   "metadata": {},
   "outputs": [],
   "source": [
    "response = openai.ChatCompletion.create(\n",
    "        model=\"gpt-3.5-turbo-16k\",\n",
    "        messages=[\n",
    "            {\"role\": \"user\", \"content\": '请查询我的邮箱，看下里面是否有来自阿新的未读邮件。'}\n",
    "        ],\n",
    "        functions=functions,\n",
    "        function_call=\"auto\",  \n",
    "    )"
   ]
  },
  {
   "cell_type": "code",
   "execution_count": 117,
   "metadata": {},
   "outputs": [
    {
     "data": {
      "text/plain": [
       "'{\\n  \"sender\": \"阿新\"\\n}'"
      ]
     },
     "execution_count": 117,
     "metadata": {},
     "output_type": "execute_result"
    }
   ],
   "source": [
    "response.choices[0].message['function_call']['arguments']"
   ]
  },
  {
   "cell_type": "code",
   "execution_count": 8,
   "metadata": {},
   "outputs": [
    {
     "name": "stdout",
     "output_type": "stream",
     "text": [
      "模型回答: 你好！有什么我可以帮助你的吗？\n",
      "用户问:请帮我查看是否有阿新发来的邮件？\n",
      "模型回答: 根据我查找的信息，你收到了一封来自阿新(ax909@163.com)的邮件。这封邮件的主题是\"Re:邀请参加会议\"，在2023年8月17日上午8:56收到。邮件内容的摘要如下：\"李沉舟先生，我代表黄剑邀请您于明天早上9点半来我办公室开会，商量下半年技术开发计划。谢谢！黄剑\"。邮件是未读状态，标记为重要邮件，并归类到个人分类和收件箱。邮件包括一个纯文本版本和一个HTML版本。\n",
      "用户问:请帮我查看是否有阿新发来的邮件？\n",
      "模型回答: 是的，阿新发来了一封邮件。邮件的主题是\"Re: 邀请参加会议\"，发件人是\"阿新\"，你想要我将完整邮件内容发送给你吗？\n",
      "用户问:好的，邮件内容是什么？\n",
      "模型回答: 阿新发来的邮件的主题是《邀请参加会议》，正文内容如下：\n",
      "\n",
      "\"您好，明天吃早点啦。 在 2023-08-15 22:26:35，jrdnnest@gmail.com 写道： >李沉舟先生， > >>我代表黄剑邀请您于明天早上9点半来我办公室开会，商量下半年技术开发计划。 > >>谢谢！ > 黄剑\"\n",
      "用户问:请回复阿新，明天早餐吃米线。\n",
      "Message Id: 18a043ae7663844f\n",
      "模型回答: 邮件已发送给阿新。\n",
      "用户问:我的邮箱现在有多少邮件？\n",
      "模型回答: 您的邮箱目前共有201封邮件。\n",
      "用户问:退出\n"
     ]
    }
   ],
   "source": [
    "chat_with_model(prompt='你好',functions_list=functions_list)"
   ]
  },
  {
   "cell_type": "code",
   "execution_count": 9,
   "metadata": {},
   "outputs": [],
   "source": [
    "get_latest_email_CD_input = \"请帮我查一下gmail邮箱中最后一封邮件的内容。\"\n",
    "get_latest_email_CD_pi = \"当前需求中可以作为函数参数的是：1.查看谁的邮箱。\"\n",
    "get_latest_email_message_CD = [\n",
    "    {\"role\": \"user\", \"content\": get_latest_email_CD_input},\n",
    "    {\"role\": \"assistant\",\"content\": get_latest_email_CD_pi}\n",
    "]"
   ]
  },
  {
   "cell_type": "code",
   "execution_count": 10,
   "metadata": {},
   "outputs": [],
   "source": [
    "get_latest_email_CM_input = get_latest_email_CD_input + get_latest_email_CD_pi\n",
    "get_latest_email_CM_description = \"请帮我编写一个python函数，用于查看我的Gmail邮箱中最后一封邮件的内容，函数要求如下：\\\n",
    "    1.函数参数userId,userId是字符串参数，默认情况下取值为‘，表示查看我的邮件；\\\n",
    "    2.函数返回结果是一个包含最后一封邮件内容的对象，返回结果必须是一个json格式对象；\\\n",
    "    3.请将全部功能封装在一个函数内；\\\n",
    "    4.请在函数编写的过程中，在函数内部加入中文编写的详细的函数说明文档，用于说明函数功能、函数参数情况、函数返回结果等信息。；\"\n",
    "get_latest_email_message_CM = [\n",
    "    {\"role\": \"user\", \"content\": get_latest_email_CM_input},\n",
    "    {\"role\": \"assistant\",\"content\": get_latest_email_CM_description}\n",
    "]"
   ]
  },
  {
   "cell_type": "code",
   "execution_count": 12,
   "metadata": {},
   "outputs": [],
   "source": [
    "with open(\"./functions/tested functions/%s_module.py\" % \"get_latest_email\",\"r\",encoding=\"utf-8\") as f:\n",
    "    get_latest_email_function = f.read()\n",
    "get_latest_email_message = [\n",
    "    {\"role\": \"user\", \"content\": get_latest_email_CM_description},\n",
    "    {\"role\": \"assistant\",\"content\": get_latest_email_function}\n",
    "]"
   ]
  },
  {
   "cell_type": "code",
   "execution_count": 13,
   "metadata": {},
   "outputs": [],
   "source": [
    "get_latest_email_prompt = {\n",
    "    \"stage1_CD\": get_latest_email_message_CD,\n",
    "    \"stage1_CM\": get_latest_email_message_CM,\n",
    "    \"stage2\": get_latest_email_message\n",
    "}"
   ]
  },
  {
   "cell_type": "code",
   "execution_count": 14,
   "metadata": {},
   "outputs": [
    {
     "data": {
      "text/plain": [
       "{'stage1_CD': [{'role': 'user', 'content': '请帮我查一下gmail邮箱中最后一封邮件的内容。'},\n",
       "  {'role': 'assistant', 'content': '当前需求中可以作为函数参数的是：1.查看谁的邮箱。'}],\n",
       " 'stage1_CM': [{'role': 'user',\n",
       "   'content': '请帮我查一下gmail邮箱中最后一封邮件的内容。当前需求中可以作为函数参数的是：1.查看谁的邮箱。'},\n",
       "  {'role': 'assistant',\n",
       "   'content': '请帮我编写一个python函数，用于查看我的Gmail邮箱中最后一封邮件的内容，函数要求如下：    1.函数参数userId,userId是字符串参数，默认情况下取值为‘，表示查看我的邮件；    2.函数返回结果是一个包含最后一封邮件内容的对象，返回结果必须是一个json格式对象；    3.请将全部功能封装在一个函数内；    4.请在函数编写的过程中，在函数内部加入中文编写的详细的函数说明文档，用于说明函数功能、函数参数情况、函数返回结果等信息。；'}],\n",
       " 'state2': [{'role': 'user',\n",
       "   'content': '请帮我编写一个python函数，用于查看我的Gmail邮箱中最后一封邮件的内容，函数要求如下：    1.函数参数userId,userId是字符串参数，默认情况下取值为‘，表示查看我的邮件；    2.函数返回结果是一个包含最后一封邮件内容的对象，返回结果必须是一个json格式对象；    3.请将全部功能封装在一个函数内；    4.请在函数编写的过程中，在函数内部加入中文编写的详细的函数说明文档，用于说明函数功能、函数参数情况、函数返回结果等信息。；'},\n",
       "  {'role': 'assistant',\n",
       "   'content': 'def get_latest_email(userId):\\n    \"\"\"\\n    查询Gmail邮箱中最后一封邮件信息\\n    :param userId: 必要参数，字符串类型，用于表示需要查询的邮箱ID，\\\\\\n    注意，当查询我的邮箱时，userId需要输入\\'me\\'；\\n    :return：包含最后一封邮件全部信息的对象，该对象由Gmail API创建得到，且保存为JSON格式\\n    \"\"\"\\n    # 从本地文件中加载凭据\\n    creds = Credentials.from_authorized_user_file(\\'token.json\\')\\n    \\n    # 创建 Gmail API 客户端\\n    service = build(\\'gmail\\', \\'v1\\', credentials=creds)\\n    \\n    # 列出用户的一封最新邮件\\n    results = service.users().messages().list(userId=userId, maxResults=1).execute()\\n    messages = results.get(\\'messages\\', [])\\n\\n    # 遍历邮件\\n    for message in messages:\\n        # 获取邮件的详细信息\\n        msg = service.users().messages().get(userId=\\'me\\', id=message[\\'id\\']).execute()\\n        \\n    return json.dumps(msg)\\n'}]}"
      ]
     },
     "execution_count": 14,
     "metadata": {},
     "output_type": "execute_result"
    }
   ],
   "source": [
    "get_latest_email_prompt"
   ]
  },
  {
   "cell_type": "code",
   "execution_count": 17,
   "metadata": {},
   "outputs": [],
   "source": [
    "with open(\"./functions/tested functions/%s_prompt.json\" % \"get_latest_email\",\"w\") as f:\n",
    "    json.dump(get_latest_email_prompt,f)"
   ]
  },
  {
   "cell_type": "code",
   "execution_count": 19,
   "metadata": {},
   "outputs": [],
   "source": [
    "with open(\"./functions/tested functions/%s_prompt.json\" % \"get_latest_email\",\"r\") as f:\n",
    "    data = json.load(f)"
   ]
  },
  {
   "cell_type": "code",
   "execution_count": 20,
   "metadata": {},
   "outputs": [
    {
     "data": {
      "text/plain": [
       "{'stage1_CD': [{'role': 'user', 'content': '请帮我查一下gmail邮箱中最后一封邮件的内容。'},\n",
       "  {'role': 'assistant', 'content': '当前需求中可以作为函数参数的是：1.查看谁的邮箱。'}],\n",
       " 'stage1_CM': [{'role': 'user',\n",
       "   'content': '请帮我查一下gmail邮箱中最后一封邮件的内容。当前需求中可以作为函数参数的是：1.查看谁的邮箱。'},\n",
       "  {'role': 'assistant',\n",
       "   'content': '请帮我编写一个python函数，用于查看我的Gmail邮箱中最后一封邮件的内容，函数要求如下：    1.函数参数userId,userId是字符串参数，默认情况下取值为‘，表示查看我的邮件；    2.函数返回结果是一个包含最后一封邮件内容的对象，返回结果必须是一个json格式对象；    3.请将全部功能封装在一个函数内；    4.请在函数编写的过程中，在函数内部加入中文编写的详细的函数说明文档，用于说明函数功能、函数参数情况、函数返回结果等信息。；'}],\n",
       " 'state2': [{'role': 'user',\n",
       "   'content': '请帮我编写一个python函数，用于查看我的Gmail邮箱中最后一封邮件的内容，函数要求如下：    1.函数参数userId,userId是字符串参数，默认情况下取值为‘，表示查看我的邮件；    2.函数返回结果是一个包含最后一封邮件内容的对象，返回结果必须是一个json格式对象；    3.请将全部功能封装在一个函数内；    4.请在函数编写的过程中，在函数内部加入中文编写的详细的函数说明文档，用于说明函数功能、函数参数情况、函数返回结果等信息。；'},\n",
       "  {'role': 'assistant',\n",
       "   'content': 'def get_latest_email(userId):\\n    \"\"\"\\n    查询Gmail邮箱中最后一封邮件信息\\n    :param userId: 必要参数，字符串类型，用于表示需要查询的邮箱ID，\\\\\\n    注意，当查询我的邮箱时，userId需要输入\\'me\\'；\\n    :return：包含最后一封邮件全部信息的对象，该对象由Gmail API创建得到，且保存为JSON格式\\n    \"\"\"\\n    # 从本地文件中加载凭据\\n    creds = Credentials.from_authorized_user_file(\\'token.json\\')\\n    \\n    # 创建 Gmail API 客户端\\n    service = build(\\'gmail\\', \\'v1\\', credentials=creds)\\n    \\n    # 列出用户的一封最新邮件\\n    results = service.users().messages().list(userId=userId, maxResults=1).execute()\\n    messages = results.get(\\'messages\\', [])\\n\\n    # 遍历邮件\\n    for message in messages:\\n        # 获取邮件的详细信息\\n        msg = service.users().messages().get(userId=\\'me\\', id=message[\\'id\\']).execute()\\n        \\n    return json.dumps(msg)\\n'}]}"
      ]
     },
     "execution_count": 20,
     "metadata": {},
     "output_type": "execute_result"
    }
   ],
   "source": [
    "data"
   ]
  },
  {
   "cell_type": "code",
   "execution_count": 28,
   "metadata": {},
   "outputs": [],
   "source": [
    "send_email_CD_input = \"请帮我给陈明发送一封Gmail邮件，请他明天早上9点半来我办公室开会，商量下半年技术开发计划。\"\n",
    "send_email_pi = \"当前需求中可以作为函数参数的是：1.发送邮件的对象；2.发送邮件的主题；3.邮件具体内容\"\n",
    "send_email_message_CD = [\n",
    "                          {\"role\": \"user\", \"content\": send_email_CD_input},\n",
    "                          {\"role\": \"assistant\", \"content\": send_email_pi}\n",
    "                         ]\n",
    "\n",
    "send_email_CM_input = send_email_CD_input + send_email_pi\n",
    "send_email_description = \"请帮我编写一个python函数，用于给陈明发送邮件，请他明天早上9点半来我办公室开会，商量下半年技术开发计划，函数要求如下：\\\n",
    "                  1.函数参数to、subject和message_text，三个参数都是字符串类型，其中to表示发送邮件对象，subject表示邮件主题，message_text表示邮件具体内容；\\\n",
    "                  2.函数返回结果是当前邮件发送状态，返回结果本身必须是一个json格式对象；\\\n",
    "                  3.请将全部功能封装在一个函数内；\\\n",
    "                  4.请在函数编写过程中，在函数内部加入中文编写的详细的函数说明文档，用于说明函数功能、函数参数情况以及函数返回结果等信息；\"\n",
    "send_email_message_CM = [\n",
    "                          {\"role\": \"user\", \"content\": send_email_CM_input},\n",
    "                          {\"role\": \"assistant\", \"content\":send_email_description}\n",
    "                         ]\n",
    "\n",
    "with open('./functions/tested functions/%s_module.py' % 'send_email', encoding='utf-8') as f:\n",
    "    send_email_function = f.read()\n",
    "send_email_message = [\n",
    "                       {\"role\": \"user\", \"content\": send_email_description},\n",
    "                       {\"role\": \"assistant\", \"content\":send_email_function}\n",
    "                      ] "
   ]
  },
  {
   "cell_type": "code",
   "execution_count": 29,
   "metadata": {},
   "outputs": [],
   "source": [
    "send_email_prompt = {\n",
    "                     \"stage1_CD\": send_email_message_CD,\n",
    "                     \"stage1_CM\": send_email_message_CM,\n",
    "                     \"stage2\": send_email_message\n",
    "                    }\n",
    "\n",
    "with open('./functions/tested functions/%s_prompt.json' % 'send_email', 'w') as f:\n",
    "    json.dump(send_email_prompt, f)"
   ]
  },
  {
   "cell_type": "code",
   "execution_count": 23,
   "metadata": {},
   "outputs": [],
   "source": [
    "code_retrieve_emails = inspect.getsource(retrieve_emails)\n",
    "with open('./functions/tested functions/%s_module.py' % 'retrieve_emails', 'w', encoding='utf-8') as f:\n",
    "    f.write(code_retrieve_emails)"
   ]
  },
  {
   "cell_type": "code",
   "execution_count": 30,
   "metadata": {},
   "outputs": [],
   "source": [
    "retrieve_emails_CD_input = \"请帮我查看下最近5封邮件的邮件内容\"\n",
    "retrieve_emails_pi = \"当前需求中可以作为函数参数的是：1.查询几封邮件；2.查询谁的邮箱\"\n",
    "retrieve_emails_message_CD = [\n",
    "                          {\"role\": \"user\", \"content\": retrieve_emails_CD_input},\n",
    "                          {\"role\": \"assistant\", \"content\": retrieve_emails_pi}\n",
    "                         ]\n",
    "\n",
    "retrieve_emails_CM_input = retrieve_emails_CD_input + retrieve_emails_pi\n",
    "retrieve_emails_description = \"请帮我编写一个python函数，查询我的邮箱里面最近的几封邮件信息，函数要求如下：\\\n",
    "                  1.函数参数n和user_id，两个参数都是字符串类型，其中n表示查询最近的几封邮件，user_id表示要检索邮件的用户的ID。默认值是'me'，表示当前授权的用户；\\\n",
    "                  2.函数返回结果是查询到的这几封邮件的邮件内容，返回结果本身必须是一个json格式对象；\\\n",
    "                  3.请将全部功能封装在一个函数内；\\\n",
    "                  4.请在函数编写过程中，在函数内部加入中文编写的详细的函数说明文档，用于说明函数功能、函数参数情况以及函数返回结果等信息；\"\n",
    "retrieve_emails_message_CM = [\n",
    "                          {\"role\": \"user\", \"content\": retrieve_emails_CM_input},\n",
    "                          {\"role\": \"assistant\", \"content\":retrieve_emails_description}\n",
    "                         ]\n",
    "\n",
    "with open('./functions/tested functions/%s_module.py' % 'retrieve_emails', encoding='utf-8') as f:\n",
    "    retrieve_emails_function = f.read()\n",
    "retrieve_emails_message = [\n",
    "                       {\"role\": \"user\", \"content\": retrieve_emails_description},\n",
    "                       {\"role\": \"assistant\", \"content\":retrieve_emails_function}\n",
    "                      ] "
   ]
  },
  {
   "cell_type": "code",
   "execution_count": 31,
   "metadata": {},
   "outputs": [],
   "source": [
    "retrieve_emails_prompt = {\n",
    "                     \"stage1_CD\": retrieve_emails_message_CD,\n",
    "                     \"stage1_CM\": retrieve_emails_message_CM,\n",
    "                     \"stage2\": retrieve_emails_message\n",
    "                    } "
   ]
  },
  {
   "cell_type": "code",
   "execution_count": 32,
   "metadata": {},
   "outputs": [],
   "source": [
    "with open('./functions/tested functions/%s_prompt.json' % 'retrieve_emails', 'w') as f:\n",
    "    json.dump(retrieve_emails_prompt, f)"
   ]
  },
  {
   "cell_type": "code",
   "execution_count": 34,
   "metadata": {},
   "outputs": [],
   "source": [
    "get_email_count_CD_input = \"请帮我查下邮箱里面总共有多少封邮件。\"\n",
    "get_email_count_pi = \"当前需求中可以作为函数参数的是：1.查询谁的邮箱\"\n",
    "get_email_count_message_CD = [\n",
    "                          {\"role\": \"user\", \"content\": get_email_count_CD_input},\n",
    "                          {\"role\": \"assistant\", \"content\": get_email_count_pi}\n",
    "                         ]\n",
    "\n",
    "get_email_count_CM_input = get_email_count_CD_input + get_email_count_pi\n",
    "get_email_count_description = \"请帮我编写一个python函数，用于查看我的Gmail邮箱中总共有多少封邮件，函数要求如下：\\\n",
    "                  1.函数参数userId，userId是字符串参数，默认情况下取值为'me'，表示查看我的邮件；\\\n",
    "                  2.函数返回结果是查询到的这几封邮件的邮件内容，返回结果本身必须是一个json格式对象；\\\n",
    "                  3.请将全部功能封装在一个函数内；\\\n",
    "                  4.请在函数编写过程中，在函数内部加入中文编写的详细的函数说明文档，用于说明函数功能、函数参数情况以及函数返回结果等信息；\"\n",
    "get_email_count_message_CM = [\n",
    "                          {\"role\": \"user\", \"content\": get_email_count_CM_input},\n",
    "                          {\"role\": \"assistant\", \"content\":get_email_count_description}\n",
    "                         ]\n",
    "\n",
    "with open('./functions/tested functions/%s_module.py' % 'get_email_count', encoding='utf-8') as f:\n",
    "    get_email_count_function = f.read()\n",
    "get_email_count_message = [\n",
    "                       {\"role\": \"user\", \"content\": get_email_count_description},\n",
    "                       {\"role\": \"assistant\", \"content\":get_email_count_function}\n",
    "                      ] "
   ]
  },
  {
   "cell_type": "code",
   "execution_count": 35,
   "metadata": {},
   "outputs": [],
   "source": [
    "get_email_count_prompt = {\n",
    "                     \"stage1_CD\": get_email_count_message_CD,\n",
    "                     \"stage1_CM\": get_email_count_message_CM,\n",
    "                     \"stage2\": get_email_count_message\n",
    "                    }   "
   ]
  },
  {
   "cell_type": "code",
   "execution_count": 36,
   "metadata": {},
   "outputs": [],
   "source": [
    "with open('./functions/tested functions/%s_prompt.json' % 'get_email_count', 'w') as f:\n",
    "    json.dump(get_email_count_prompt, f)"
   ]
  },
  {
   "cell_type": "code",
   "execution_count": 37,
   "metadata": {},
   "outputs": [],
   "source": [
    "system_messages = {\"system_message_CD\": [{\"role\": \"system\", \"content\": \"为了更好编写满足用户需求的python函数，我们需要先识别用户需求中的变量，以作为python函数的参数。需要注意的是，当前编写的函数中涉及到的邮件收发查阅等功能，都是通过调用Gmail API来完成。\"}], \n",
    "                   \"system_message_CM\": [{\"role\": \"system\", \"content\": \"我现在已完成Gmail API授权，授权文件为本地文件token.json。函数参数必须是字符串类型对象，函数返回结果必须是json表示的字符串对象。\"}], \n",
    "                   \"system_message\": [{\"role\": \"system\", \"content\":\"我现在已完成Gmail API授权，授权文件为本地文件token.json。函数参数必须是字符串类型对象，函数返回结果必须是json表示的字符串对象。\"}]}\n",
    "with open('./functions/tested functions/%s.json' % 'system_messages', 'w') as f:\n",
    "    json.dump(system_messages, f)"
   ]
  },
  {
   "cell_type": "code",
   "execution_count": 38,
   "metadata": {},
   "outputs": [],
   "source": [
    "def remove_to_tested(function_name):\n",
    "    \"\"\"\n",
    "    将函数同名文件夹由untested文件夹转移至tested文件夹内。\\\n",
    "    完成转移则说明函数通过测试，可以使用。此时需要将该函数的源码写入gptLearning.py中方便下次调用。\n",
    "    \"\"\"\n",
    "    \n",
    "    # 将函数代码写入gptLearning.py文件中\n",
    "    with open('./autoGmail_project/untested functions/%s/%s_module.py' % (function_name, function_name), encoding='utf-8') as f:\n",
    "        function_code = f.read()\n",
    "    \n",
    "    with open('gptLearning.py', 'a', encoding='utf-8') as f:\n",
    "        f.write(function_code)\n",
    "    \n",
    "    # 源文件夹路径\n",
    "    src_dir = './autoGmail_project/untested functions/%s' % function_name\n",
    "\n",
    "    # 目标文件夹路径\n",
    "    dst_dir = './autoGmail_project/tested functions/%s' % function_name\n",
    "    \n",
    "    # 移动文件夹\n",
    "    shutil.move(src_dir, dst_dir)"
   ]
  },
  {
   "cell_type": "code",
   "execution_count": 46,
   "metadata": {},
   "outputs": [],
   "source": [
    "def show_functions(tested=False, if_print=False):\n",
    "    \"\"\"\n",
    "    打印tested或untested文件夹内全部函数\n",
    "    \"\"\"\n",
    "    current_directory = os.getcwd()\n",
    "    if tested == False:\n",
    "        directory = current_directory + '/autoGmail_project/untested functions/'\n",
    "    else:\n",
    "        directory = current_directory + '/autoGmail_project/tested functions/'\n",
    "    files_and_directories = os.listdir(directory)\n",
    "    # 过滤结果，只保留.py文件和非__pycache__文件夹\n",
    "    files_and_directories = files_and_directories = [name for name in files_and_directories if (os.path.splitext(name)[1] == '.py' or os.path.isdir(os.path.join(directory, name))) and name != \"__pycache__\"]\n",
    "    \n",
    "    if if_print != False:\n",
    "        for name in files_and_directories:\n",
    "            print(name)\n",
    "    \n",
    "    return files_and_directories"
   ]
  },
  {
   "cell_type": "code",
   "execution_count": 47,
   "metadata": {},
   "outputs": [
    {
     "data": {
      "text/plain": [
       "['retrieve_emails', 'get_email_count', 'get_latest_email', 'send_email']"
      ]
     },
     "execution_count": 47,
     "metadata": {},
     "output_type": "execute_result"
    }
   ],
   "source": [
    "show_functions(tested=True)"
   ]
  },
  {
   "cell_type": "code",
   "execution_count": 48,
   "metadata": {},
   "outputs": [
    {
     "data": {
      "text/plain": [
       "<function gptLearning.get_email_count(userId='me')>"
      ]
     },
     "execution_count": 48,
     "metadata": {},
     "output_type": "execute_result"
    }
   ],
   "source": [
    "globals()['get_email_count']"
   ]
  },
  {
   "cell_type": "code",
   "execution_count": 50,
   "metadata": {},
   "outputs": [
    {
     "data": {
      "text/plain": [
       "'{\"email_count\": 201}'"
      ]
     },
     "execution_count": 50,
     "metadata": {},
     "output_type": "execute_result"
    }
   ],
   "source": [
    "get_email_count()"
   ]
  },
  {
   "cell_type": "code",
   "execution_count": 52,
   "metadata": {},
   "outputs": [],
   "source": [
    "def code_generate(req, few_shot='all', model='gpt-3.5-turbo-16k', g=globals(), detail=0):\n",
    "    \"\"\"\n",
    "    Function calling外部函数自动创建函数，可以根据用户的需求，直接将其翻译为Chat模型可以直接调用的外部函数代码。\n",
    "    :param req: 必要参数，字符串类型，表示输入的用户需求；\n",
    "    :param few_shot: 可选参数，默认取值为字符串all，用于描述Few-shot提示示例的选取方案，当输入字符串all时，则代表提取当前外部函数库中全部测试过的函数作为Few-shot；\\\n",
    "    而如果输入的是一个包含了多个函数名称的list，则表示使用这些函数作为Few-shot。\n",
    "    :param model: 可选参数，表示调用的Chat模型，默认选取gpt-4-0613；\n",
    "    :param g: 可选参数，表示extract_function_code函数作用域，默认为globals()，即在当前操作空间全域内生效；\n",
    "    :param detail: 可选参数，默认取值为0，还可以取值为1，表示extract_function_code函数打印新创建的外部函数细节；\n",
    "    :return：新创建的函数名称。需要注意的是，在函数创建时，该函数也会在当前操作空间被定义，后续可以直接调用；\n",
    "    \"\"\"\n",
    "    \n",
    "    # 提取提示示例的函数名称\n",
    "    if few_shot == 'all':\n",
    "        few_shot_functions_name = show_functions(tested=True)\n",
    "    elif type(few_shot) == list:\n",
    "        few_shot_functions_name = few_shot\n",
    "    # few_shot_functions = [globals()[name] for name in few_shot_functions_name]\n",
    "    \n",
    "    # 读取各阶段系统提示\n",
    "    with open('./autoGmail_project/tested functions/system_messages.json', 'r') as f:\n",
    "        system_messages = json.load(f)\n",
    "        \n",
    "    # 各阶段提示message对象\n",
    "    few_shot_messages_CM = []\n",
    "    few_shot_messages_CD = []\n",
    "    few_shot_messages = []\n",
    "    \n",
    "    # 先保存第一条消息，也就是system message\n",
    "    few_shot_messages_CD += system_messages[\"system_message_CD\"]\n",
    "    few_shot_messages_CM += system_messages[\"system_message_CM\"]\n",
    "    few_shot_messages += system_messages[\"system_message\"]\n",
    "\n",
    "    # 创建不同阶段提示message\n",
    "    for function_name in few_shot_functions_name:\n",
    "        with open('./autoGmail_project/tested functions/%s/%s_prompt.json' % (function_name, function_name), 'r') as f:\n",
    "            msg = json.load(f)\n",
    "        few_shot_messages_CD += msg[\"stage1_CD\"]\n",
    "        few_shot_messages_CM += msg[\"stage1_CM\"]\n",
    "        few_shot_messages += msg['stage2']\n",
    "        \n",
    "    # 读取用户需求，作为第一阶段CD环节User content\n",
    "    new_req_CD_input = req\n",
    "    few_shot_messages_CD.append({\"role\": \"user\", \"content\": new_req_CD_input})\n",
    "    \n",
    "    print('第一阶段CD环节提示创建完毕，正在进行CD提示...')\n",
    "    \n",
    "    # 第一阶段CD环节Chat模型调用过程\n",
    "    response = openai.ChatCompletion.create(\n",
    "                  model=model,\n",
    "                  messages=few_shot_messages_CD\n",
    "                )\n",
    "    new_req_pi = response.choices[0].message['content']\n",
    "    \n",
    "    print('第一阶段CD环节提示完毕')\n",
    "    \n",
    "    # 第一阶段CM环节Messages创建\n",
    "    new_req_CM_input = new_req_CD_input + new_req_pi\n",
    "    few_shot_messages_CM.append({\"role\": \"user\", \"content\": new_req_CM_input})\n",
    "    \n",
    "    print('第一阶段CM环节提示创建完毕，正在进行第一阶段CM提示...')\n",
    "    # 第一阶段CM环节Chat模型调用过程\n",
    "    response = openai.ChatCompletion.create(\n",
    "                      model=model,\n",
    "                      messages=few_shot_messages_CM\n",
    "                    )\n",
    "    new_req_description = response.choices[0].message['content']\n",
    "    \n",
    "    print('第一阶段CM环节提示完毕')\n",
    "    \n",
    "    # 第二阶段Messages创建过程\n",
    "    few_shot_messages.append({\"role\": \"user\", \"content\": new_req_description})\n",
    "    \n",
    "    print('第二阶段提示创建完毕，正在进行第二阶段提示...')\n",
    "    \n",
    "    # 第二阶段Chat模型调用过程\n",
    "    response = openai.ChatCompletion.create(\n",
    "                  model=model,\n",
    "                  messages=few_shot_messages\n",
    "                )\n",
    "    new_req_function = response.choices[0].message['content']\n",
    "    \n",
    "    print('第二阶段提示完毕，准备运行函数并编写提示示例')\n",
    "    \n",
    "    # 提取函数并运行，创建函数名称对象，统一都写入untested文件夹内\n",
    "    function_name = extract_function_code(s=new_req_function, detail=detail, g=g)\n",
    "    \n",
    "    print('新函数保存在./autoGmail_project/untested functions/%s/%s_module.py文件中' % (function_name, function_name))\n",
    "    \n",
    "    # 创建该函数提示示例\n",
    "    new_req_messages_CD = [\n",
    "                          {\"role\": \"user\", \"content\": new_req_CD_input},\n",
    "                          {\"role\": \"assistant\", \"content\": new_req_pi}\n",
    "                         ]\n",
    "    new_req_messages_CM = [\n",
    "                          {\"role\": \"user\", \"content\": new_req_CM_input},\n",
    "                          {\"role\": \"assistant\", \"content\":new_req_description}\n",
    "                         ]\n",
    "    \n",
    "    with open('./autoGmail_project/untested functions/%s/%s_module.py' % (function_name, function_name), encoding='utf-8') as f:\n",
    "        new_req_function = f.read()\n",
    "    \n",
    "    new_req_messages = [\n",
    "                       {\"role\": \"user\", \"content\": new_req_description},\n",
    "                       {\"role\": \"assistant\", \"content\":new_req_function}\n",
    "                      ] \n",
    "    \n",
    "    new_req_prompt = {\n",
    "                     \"stage1_CD\": new_req_messages_CD,\n",
    "                     \"stage1_CM\": new_req_messages_CM,\n",
    "                     \"stage2\": new_req_messages\n",
    "                    }   \n",
    "    \n",
    "    with open('./autoGmail_project/untested functions/%s/%s_prompt.json' % (function_name, function_name), 'w') as f:\n",
    "        json.dump(new_req_prompt, f)\n",
    "        \n",
    "    print('新函数提示示例保存在./autoGmail_project/untested functions/%s/%s_prompt.json文件中' % (function_name, function_name))\n",
    "    print('done')\n",
    "    return function_name"
   ]
  },
  {
   "cell_type": "code",
   "execution_count": 53,
   "metadata": {},
   "outputs": [],
   "source": [
    "few_shot_functions = ['get_latest_email','send_email']\n",
    "req = \"请帮我查下我的邮箱里是否有openai的未读邮件，有的话请解读下这封未读邮件的内容。\""
   ]
  },
  {
   "cell_type": "code",
   "execution_count": 54,
   "metadata": {},
   "outputs": [
    {
     "ename": "KeyError",
     "evalue": "'stage2'",
     "output_type": "error",
     "traceback": [
      "\u001b[0;31m---------------------------------------------------------------------------\u001b[0m",
      "\u001b[0;31mKeyError\u001b[0m                                  Traceback (most recent call last)",
      "Cell \u001b[0;32mIn[54], line 1\u001b[0m\n\u001b[0;32m----> 1\u001b[0m function_name \u001b[39m=\u001b[39m code_generate(req\u001b[39m=\u001b[39;49mreq,few_shot\u001b[39m=\u001b[39;49mfew_shot_functions)\n",
      "Cell \u001b[0;32mIn[52], line 40\u001b[0m, in \u001b[0;36mcode_generate\u001b[0;34m(req, few_shot, model, g, detail)\u001b[0m\n\u001b[1;32m     38\u001b[0m     few_shot_messages_CD \u001b[39m+\u001b[39m\u001b[39m=\u001b[39m msg[\u001b[39m\"\u001b[39m\u001b[39mstage1_CD\u001b[39m\u001b[39m\"\u001b[39m]\n\u001b[1;32m     39\u001b[0m     few_shot_messages_CM \u001b[39m+\u001b[39m\u001b[39m=\u001b[39m msg[\u001b[39m\"\u001b[39m\u001b[39mstage1_CM\u001b[39m\u001b[39m\"\u001b[39m]\n\u001b[0;32m---> 40\u001b[0m     few_shot_messages \u001b[39m+\u001b[39m\u001b[39m=\u001b[39m msg[\u001b[39m'\u001b[39;49m\u001b[39mstage2\u001b[39;49m\u001b[39m'\u001b[39;49m]\n\u001b[1;32m     42\u001b[0m \u001b[39m# 读取用户需求，作为第一阶段CD环节User content\u001b[39;00m\n\u001b[1;32m     43\u001b[0m new_req_CD_input \u001b[39m=\u001b[39m req\n",
      "\u001b[0;31mKeyError\u001b[0m: 'stage2'"
     ]
    }
   ],
   "source": [
    "function_name = code_generate(req=req,few_shot=few_shot_functions)"
   ]
  },
  {
   "cell_type": "code",
   "execution_count": null,
   "metadata": {},
   "outputs": [],
   "source": []
  }
 ],
 "metadata": {
  "kernelspec": {
   "display_name": "gpt",
   "language": "python",
   "name": "gpt"
  },
  "language_info": {
   "codemirror_mode": {
    "name": "ipython",
    "version": 3
   },
   "file_extension": ".py",
   "mimetype": "text/x-python",
   "name": "python",
   "nbconvert_exporter": "python",
   "pygments_lexer": "ipython3",
   "version": "3.10.10"
  },
  "orig_nbformat": 4
 },
 "nbformat": 4,
 "nbformat_minor": 2
}
