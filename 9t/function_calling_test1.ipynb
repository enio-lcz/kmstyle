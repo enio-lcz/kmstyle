{
 "cells": [
  {
   "cell_type": "code",
   "execution_count": 1,
   "id": "262fd5a6",
   "metadata": {},
   "outputs": [],
   "source": [
    "import os\n",
    "import io\n",
    "import openai\n",
    "import json\n",
    "import pandas as pd\n",
    "import numpy as np"
   ]
  },
  {
   "cell_type": "code",
   "execution_count": 2,
   "id": "943012df",
   "metadata": {},
   "outputs": [],
   "source": [
    "df = pd.DataFrame({'x1':[1,2],'x2':[3,4]})"
   ]
  },
  {
   "cell_type": "code",
   "execution_count": 3,
   "id": "939bd554",
   "metadata": {},
   "outputs": [
    {
     "data": {
      "text/html": [
       "<div>\n",
       "<style scoped>\n",
       "    .dataframe tbody tr th:only-of-type {\n",
       "        vertical-align: middle;\n",
       "    }\n",
       "\n",
       "    .dataframe tbody tr th {\n",
       "        vertical-align: top;\n",
       "    }\n",
       "\n",
       "    .dataframe thead th {\n",
       "        text-align: right;\n",
       "    }\n",
       "</style>\n",
       "<table border=\"1\" class=\"dataframe\">\n",
       "  <thead>\n",
       "    <tr style=\"text-align: right;\">\n",
       "      <th></th>\n",
       "      <th>x1</th>\n",
       "      <th>x2</th>\n",
       "    </tr>\n",
       "  </thead>\n",
       "  <tbody>\n",
       "    <tr>\n",
       "      <th>0</th>\n",
       "      <td>1</td>\n",
       "      <td>3</td>\n",
       "    </tr>\n",
       "    <tr>\n",
       "      <th>1</th>\n",
       "      <td>2</td>\n",
       "      <td>4</td>\n",
       "    </tr>\n",
       "  </tbody>\n",
       "</table>\n",
       "</div>"
      ],
      "text/plain": [
       "   x1  x2\n",
       "0   1   3\n",
       "1   2   4"
      ]
     },
     "execution_count": 3,
     "metadata": {},
     "output_type": "execute_result"
    }
   ],
   "source": [
    "df"
   ]
  },
  {
   "cell_type": "code",
   "execution_count": 4,
   "id": "0c72b8c8",
   "metadata": {},
   "outputs": [],
   "source": [
    "df_str = df.to_string()"
   ]
  },
  {
   "cell_type": "code",
   "execution_count": 5,
   "id": "9b349141",
   "metadata": {},
   "outputs": [
    {
     "data": {
      "text/plain": [
       "'   x1  x2\\n0   1   3\\n1   2   4'"
      ]
     },
     "execution_count": 5,
     "metadata": {},
     "output_type": "execute_result"
    }
   ],
   "source": [
    "df_str"
   ]
  },
  {
   "cell_type": "code",
   "execution_count": 6,
   "id": "79aa9905",
   "metadata": {},
   "outputs": [],
   "source": [
    "\n",
    "openai.key = os.getenv(\"OPENAI_API_KEY\")"
   ]
  },
  {
   "cell_type": "code",
   "execution_count": 7,
   "id": "d4186c4a",
   "metadata": {},
   "outputs": [],
   "source": [
    "response = openai.ChatCompletion.create(\n",
    "    model = 'gpt-3.5-turbo',\n",
    "    messages = [\n",
    "        {'role':\"system\",\"content\":\"数据集df_str:'%s'\"%df_str},\n",
    "        {'role':\"user\",\"content\":\"请解释数据集df_str\"}\n",
    "    ]\n",
    ")"
   ]
  },
  {
   "cell_type": "code",
   "execution_count": 8,
   "id": "fdf0113c",
   "metadata": {},
   "outputs": [
    {
     "name": "stdout",
     "output_type": "stream",
     "text": [
      "数据集df_str是一个包含两列数据的DataFrame，其中第一列的列名为\"x1\"，第二列的列名为\"x2\"。数据集中共有两行数据，分别是[1,3]和[2,4]。这个数据集可以用于进行数据分析和建模等任务。\n"
     ]
    }
   ],
   "source": [
    "print(response.choices[0]['message']['content'])"
   ]
  },
  {
   "cell_type": "code",
   "execution_count": 9,
   "id": "a747a7d4",
   "metadata": {},
   "outputs": [
    {
     "data": {
      "text/html": [
       "<div>\n",
       "<style scoped>\n",
       "    .dataframe tbody tr th:only-of-type {\n",
       "        vertical-align: middle;\n",
       "    }\n",
       "\n",
       "    .dataframe tbody tr th {\n",
       "        vertical-align: top;\n",
       "    }\n",
       "\n",
       "    .dataframe thead th {\n",
       "        text-align: right;\n",
       "    }\n",
       "</style>\n",
       "<table border=\"1\" class=\"dataframe\">\n",
       "  <thead>\n",
       "    <tr style=\"text-align: right;\">\n",
       "      <th></th>\n",
       "    </tr>\n",
       "    <tr>\n",
       "      <th>x1  x2</th>\n",
       "    </tr>\n",
       "  </thead>\n",
       "  <tbody>\n",
       "    <tr>\n",
       "      <th>0   1   3</th>\n",
       "    </tr>\n",
       "    <tr>\n",
       "      <th>1   2   4</th>\n",
       "    </tr>\n",
       "  </tbody>\n",
       "</table>\n",
       "</div>"
      ],
      "text/plain": [
       "Empty DataFrame\n",
       "Columns: []\n",
       "Index: [0   1   3, 1   2   4]"
      ]
     },
     "execution_count": 9,
     "metadata": {},
     "output_type": "execute_result"
    }
   ],
   "source": [
    "pd.read_csv(io.StringIO(df_str),index_col=0)"
   ]
  },
  {
   "cell_type": "code",
   "execution_count": 10,
   "id": "5e243e10",
   "metadata": {},
   "outputs": [],
   "source": [
    "def li_chen_zhou_algorithm(data):\n",
    "    \"\"\"\n",
    "    新自由呼吸算法函数，该函数定义了一个特殊的数据集计算过程\n",
    "    :param data:  必要参数，表示带入计算的数据集，用字符串进行表示\n",
    "    :return: 新自由呼吸算法计算后的结果，返回结果为json格式的DataFrame类型对象\n",
    "    \"\"\"\n",
    "    data = io.StringIO(data)\n",
    "    df = pd.read_csv(data,sep='\\s+',index_col=0)\n",
    "    res = np.sum(df,axis=1) - 1\n",
    "    return json.dumps(res.to_string())"
   ]
  },
  {
   "cell_type": "code",
   "execution_count": 11,
   "id": "60ec9275",
   "metadata": {},
   "outputs": [
    {
     "data": {
      "text/plain": [
       "'\"0    3\\\\n1    5\"'"
      ]
     },
     "execution_count": 11,
     "metadata": {},
     "output_type": "execute_result"
    }
   ],
   "source": [
    "li_chen_zhou_algorithm(df_str)"
   ]
  },
  {
   "cell_type": "code",
   "execution_count": 12,
   "id": "3b2d8596",
   "metadata": {},
   "outputs": [
    {
     "data": {
      "text/plain": [
       "'   x1  x2\\n0   1   3\\n1   2   4'"
      ]
     },
     "execution_count": 12,
     "metadata": {},
     "output_type": "execute_result"
    }
   ],
   "source": [
    "df_str\n"
   ]
  },
  {
   "cell_type": "code",
   "execution_count": 13,
   "id": "a95c1476",
   "metadata": {},
   "outputs": [],
   "source": [
    "available_functions = {\n",
    "    \"li_chen_zhou_algorithm\": li_chen_zhou_algorithm,\n",
    "}"
   ]
  },
  {
   "cell_type": "code",
   "execution_count": 14,
   "id": "6fc9110f",
   "metadata": {},
   "outputs": [
    {
     "name": "stdout",
     "output_type": "stream",
     "text": [
      "6\n"
     ]
    }
   ],
   "source": [
    "def function_to_call_test(a,b,c):\n",
    "    return a+b+c\n",
    "\n",
    "function_args_test = {'a':1, 'b':2, 'c':3}\n",
    "res = function_to_call_test(**function_args_test)\n",
    "print(res)"
   ]
  },
  {
   "cell_type": "code",
   "execution_count": 15,
   "id": "52cc95c9",
   "metadata": {},
   "outputs": [],
   "source": [
    "li_chen_zhou_function ={\n",
    "    \"name\": \"li_chen_zhou_algorithm\",\n",
    "    \"description\": \"用于执行新自由呼吸算法的函数，该算法用于计算一种特殊的数据集。\",\n",
    "    \"parameters\": {\n",
    "        \"type\": \"object\",\n",
    "        \"properties\":{\n",
    "            \"data\":{\n",
    "                \"type\": \"string\",\n",
    "                \"description\": \"执行新自由呼吸算法的的数据集\"\n",
    "            }\n",
    "        },\n",
    "        \"required\": [\"data\"]\n",
    "    }\n",
    "}\n"
   ]
  },
  {
   "cell_type": "code",
   "execution_count": 16,
   "id": "02960718",
   "metadata": {},
   "outputs": [
    {
     "data": {
      "text/plain": [
       "{'data': '   x1  x2\\n0   1   3\\n1   2   4'}"
      ]
     },
     "execution_count": 16,
     "metadata": {},
     "output_type": "execute_result"
    }
   ],
   "source": [
    "{'data':df_str}"
   ]
  },
  {
   "cell_type": "code",
   "execution_count": 17,
   "id": "833cbb2d",
   "metadata": {},
   "outputs": [],
   "source": [
    "functions = [li_chen_zhou_function]"
   ]
  },
  {
   "cell_type": "code",
   "execution_count": 18,
   "id": "6f82a0bf",
   "metadata": {},
   "outputs": [
    {
     "data": {
      "text/plain": [
       "[{'name': 'li_chen_zhou_algorithm',\n",
       "  'description': '用于执行新自由呼吸算法的函数，该算法用于计算一种特殊的数据集。',\n",
       "  'parameters': {'type': 'object',\n",
       "   'properties': {'data': {'type': 'string', 'description': '执行新自由呼吸算法的的数据集'}},\n",
       "   'required': ['data']}}]"
      ]
     },
     "execution_count": 18,
     "metadata": {},
     "output_type": "execute_result"
    }
   ],
   "source": [
    "functions"
   ]
  },
  {
   "cell_type": "code",
   "execution_count": 19,
   "id": "c10c58de",
   "metadata": {},
   "outputs": [],
   "source": [
    "messages = [\n",
    "    {\"role\":\"system\",\"content\": \"数据集data:%s,数据集为一字符串。\"%df_str},\n",
    "    {\"role\":\"user\",\"content\":\"请使用数据集data执行新自由呼吸算法。\"}\n",
    "]"
   ]
  },
  {
   "cell_type": "code",
   "execution_count": 20,
   "id": "1a47b0f0",
   "metadata": {},
   "outputs": [],
   "source": [
    "response = openai.ChatCompletion.create(\n",
    "    model = 'gpt-3.5-turbo',\n",
    "    messages = messages\n",
    ")"
   ]
  },
  {
   "cell_type": "code",
   "execution_count": 21,
   "id": "aca5b8e2",
   "metadata": {},
   "outputs": [
    {
     "data": {
      "text/plain": [
       "'抱歉，我只能通过文本与您进行交互，无法直接执行代码。但是，我可以向您解释新自由呼吸算法的原理和步骤。\\n\\n新自由呼吸算法（New Free-Breathing Algorithm，NFBA）是一种用于数据挖掘和模式识别的算法。它的主要目的是从给定的数据集中挖掘出隐藏的模式和关系。\\n\\nNFBA的步骤可以描述如下：\\n\\n1. 初始化一些参数，如学习速率、迭代次数等。\\n2. 根据给定的数据集，计算出初始聚类中心，并将每个数据点分配到最近的聚类中心。\\n3. 对于每个数据点，计算其到所属聚类中心的距离，并根据学习速率调整该数据点的位置，使其向该聚类中心移动一定的距离。\\n4. 重复步骤3，直到达到指定的迭代次数或达到收敛条件。\\n5. 将数据点重新分配到新的聚类中心，并更新聚类中心的位置。\\n\\n通过这个过程，NFBA可以逐步调整数据点的位置和聚类中心，使得数据点更好地聚集在一起，而且聚类中心也能更好地反映数据集中的模式和关系。\\n\\n在给定数据集data的情况下，您可以使用Python编程来实现NFBA算法。以下是可能的代码实现示例：\\n\\n```python\\nimport numpy as np\\n\\n# 初始化参数\\nlearning_rate = 0.1\\nmax_iterations = 100\\n\\n# 读取数据集\\ndata = np.array([[1, 3], [2, 4]], dtype=float)\\n\\n# 随机初始化聚类中心\\ncenters = np.random.rand(2, 2) * np.max(data)\\n\\n# 执行NFBA算法\\nfor iteration in range(max_iterations):\\n    # 分配数据点到最近的聚类中心\\n    distances = np.linalg.norm(data[:, np.newaxis] - centers, axis=-1)\\n    assignments = np.argmin(distances, axis=-1)\\n\\n    # 调整数据点的位置\\n    for i in range(len(data)):\\n        delta = learning_rate * (centers[assignments[i]] - data[i])\\n        data[i] += delta\\n\\n    # 更新聚类中心\\n    for j in range(len(centers)):\\n        assigned_points = data[assignments == j]\\n        if len(assigned_points) > 0:\\n            centers[j] = np.mean(assigned_points, axis=0)\\n\\n    # 判断是否收敛\\n    if np.allclose(np.linalg.norm(delta), 0):\\n        break\\n\\n# 打印结果\\nprint(\"Final data points:\")\\nprint(data)\\nprint(\"Final cluster centers:\")\\nprint(centers)\\n```\\n\\n请注意，这只是一个示例实现，实际的代码可能需要根据具体的需求进行修改和优化。'"
      ]
     },
     "execution_count": 21,
     "metadata": {},
     "output_type": "execute_result"
    }
   ],
   "source": [
    "response['choices'][0]['message']['content']"
   ]
  },
  {
   "cell_type": "code",
   "execution_count": 22,
   "id": "6e55436b",
   "metadata": {},
   "outputs": [],
   "source": [
    "response = openai.ChatCompletion.create(\n",
    "    model = 'gpt-3.5-turbo',\n",
    "    messages = messages,\n",
    "    functions = functions,\n",
    "    function_call = \"auto\"\n",
    ")"
   ]
  },
  {
   "cell_type": "code",
   "execution_count": 23,
   "id": "c6bf0e1d",
   "metadata": {},
   "outputs": [
    {
     "data": {
      "text/plain": [
       "<OpenAIObject at 0x15a85df30> JSON: {\n",
       "  \"role\": \"assistant\",\n",
       "  \"content\": null,\n",
       "  \"function_call\": {\n",
       "    \"name\": \"li_chen_zhou_algorithm\",\n",
       "    \"arguments\": \"{\\n  \\\"data\\\": \\\"x1  x2\\\\n0   1   3\\\\n1   2   4\\\"\\n}\"\n",
       "  }\n",
       "}"
      ]
     },
     "execution_count": 23,
     "metadata": {},
     "output_type": "execute_result"
    }
   ],
   "source": [
    "response['choices'][0]['message']"
   ]
  },
  {
   "cell_type": "code",
   "execution_count": 24,
   "id": "fe55b77f",
   "metadata": {},
   "outputs": [],
   "source": [
    "response_message = response['choices'][0]['message']"
   ]
  },
  {
   "cell_type": "code",
   "execution_count": 25,
   "id": "d37db72e",
   "metadata": {},
   "outputs": [
    {
     "data": {
      "text/plain": [
       "<OpenAIObject at 0x15a85df30> JSON: {\n",
       "  \"role\": \"assistant\",\n",
       "  \"content\": null,\n",
       "  \"function_call\": {\n",
       "    \"name\": \"li_chen_zhou_algorithm\",\n",
       "    \"arguments\": \"{\\n  \\\"data\\\": \\\"x1  x2\\\\n0   1   3\\\\n1   2   4\\\"\\n}\"\n",
       "  }\n",
       "}"
      ]
     },
     "execution_count": 25,
     "metadata": {},
     "output_type": "execute_result"
    }
   ],
   "source": [
    "response_message"
   ]
  },
  {
   "cell_type": "code",
   "execution_count": 26,
   "id": "be461b93",
   "metadata": {},
   "outputs": [],
   "source": [
    "function_name = response_message['function_call']['name']"
   ]
  },
  {
   "cell_type": "code",
   "execution_count": 27,
   "id": "4eb43781",
   "metadata": {},
   "outputs": [
    {
     "data": {
      "text/plain": [
       "'li_chen_zhou_algorithm'"
      ]
     },
     "execution_count": 27,
     "metadata": {},
     "output_type": "execute_result"
    }
   ],
   "source": [
    "function_name"
   ]
  },
  {
   "cell_type": "code",
   "execution_count": 28,
   "id": "8bc62e38",
   "metadata": {},
   "outputs": [],
   "source": [
    "function_to_call = available_functions[function_name]"
   ]
  },
  {
   "cell_type": "code",
   "execution_count": 29,
   "id": "0712ae40",
   "metadata": {},
   "outputs": [],
   "source": [
    "function_args = json.loads(response_message['function_call']['arguments'])"
   ]
  },
  {
   "cell_type": "code",
   "execution_count": 30,
   "id": "20fc222e",
   "metadata": {},
   "outputs": [
    {
     "data": {
      "text/plain": [
       "{'data': 'x1  x2\\n0   1   3\\n1   2   4'}"
      ]
     },
     "execution_count": 30,
     "metadata": {},
     "output_type": "execute_result"
    }
   ],
   "source": [
    "function_args"
   ]
  },
  {
   "cell_type": "code",
   "execution_count": 31,
   "id": "028a5d5f",
   "metadata": {},
   "outputs": [
    {
     "data": {
      "text/plain": [
       "'\"0    3\\\\n1    5\"'"
      ]
     },
     "execution_count": 31,
     "metadata": {},
     "output_type": "execute_result"
    }
   ],
   "source": [
    "function_response = function_to_call(**function_args)\n",
    "function_response"
   ]
  },
  {
   "cell_type": "code",
   "execution_count": 32,
   "id": "e5dbc6a9",
   "metadata": {},
   "outputs": [
    {
     "data": {
      "text/plain": [
       "[{'role': 'system',\n",
       "  'content': '数据集data:   x1  x2\\n0   1   3\\n1   2   4,数据集为一字符串。'},\n",
       " {'role': 'user', 'content': '请使用数据集data执行新自由呼吸算法。'}]"
      ]
     },
     "execution_count": 32,
     "metadata": {},
     "output_type": "execute_result"
    }
   ],
   "source": [
    "messages"
   ]
  },
  {
   "cell_type": "code",
   "execution_count": 33,
   "id": "960ceaf7",
   "metadata": {},
   "outputs": [],
   "source": [
    "messages.append(response_message)"
   ]
  },
  {
   "cell_type": "code",
   "execution_count": 34,
   "id": "0fbd74da",
   "metadata": {},
   "outputs": [
    {
     "data": {
      "text/plain": [
       "[{'role': 'system',\n",
       "  'content': '数据集data:   x1  x2\\n0   1   3\\n1   2   4,数据集为一字符串。'},\n",
       " {'role': 'user', 'content': '请使用数据集data执行新自由呼吸算法。'},\n",
       " <OpenAIObject at 0x15a85df30> JSON: {\n",
       "   \"role\": \"assistant\",\n",
       "   \"content\": null,\n",
       "   \"function_call\": {\n",
       "     \"name\": \"li_chen_zhou_algorithm\",\n",
       "     \"arguments\": \"{\\n  \\\"data\\\": \\\"x1  x2\\\\n0   1   3\\\\n1   2   4\\\"\\n}\"\n",
       "   }\n",
       " }]"
      ]
     },
     "execution_count": 34,
     "metadata": {},
     "output_type": "execute_result"
    }
   ],
   "source": [
    "messages"
   ]
  },
  {
   "cell_type": "code",
   "execution_count": 35,
   "id": "9b29a6b8",
   "metadata": {},
   "outputs": [],
   "source": [
    "messages.append(\n",
    "    {\n",
    "        \"role\": \"function\",\n",
    "        \"name\": function_name,\n",
    "        \"content\": function_response\n",
    "    }\n",
    ")"
   ]
  },
  {
   "cell_type": "code",
   "execution_count": 36,
   "id": "be6db7fa",
   "metadata": {},
   "outputs": [
    {
     "data": {
      "text/plain": [
       "[{'role': 'system',\n",
       "  'content': '数据集data:   x1  x2\\n0   1   3\\n1   2   4,数据集为一字符串。'},\n",
       " {'role': 'user', 'content': '请使用数据集data执行新自由呼吸算法。'},\n",
       " <OpenAIObject at 0x15a85df30> JSON: {\n",
       "   \"role\": \"assistant\",\n",
       "   \"content\": null,\n",
       "   \"function_call\": {\n",
       "     \"name\": \"li_chen_zhou_algorithm\",\n",
       "     \"arguments\": \"{\\n  \\\"data\\\": \\\"x1  x2\\\\n0   1   3\\\\n1   2   4\\\"\\n}\"\n",
       "   }\n",
       " },\n",
       " {'role': 'function',\n",
       "  'name': 'li_chen_zhou_algorithm',\n",
       "  'content': '\"0    3\\\\n1    5\"'}]"
      ]
     },
     "execution_count": 36,
     "metadata": {},
     "output_type": "execute_result"
    }
   ],
   "source": [
    "messages"
   ]
  },
  {
   "cell_type": "code",
   "execution_count": 37,
   "id": "152064fd",
   "metadata": {},
   "outputs": [],
   "source": [
    "response = openai.ChatCompletion.create(\n",
    "    model = 'gpt-3.5-turbo',\n",
    "    messages = messages\n",
    ")"
   ]
  },
  {
   "cell_type": "code",
   "execution_count": 38,
   "id": "80c8be89",
   "metadata": {},
   "outputs": [
    {
     "data": {
      "text/plain": [
       "'使用数据集data执行新自由呼吸算法后，得到的结果为：\\n\\nx1  x2\\n0    3\\n1    5'"
      ]
     },
     "execution_count": 38,
     "metadata": {},
     "output_type": "execute_result"
    }
   ],
   "source": [
    "response['choices'][0]['message']['content']"
   ]
  },
  {
   "cell_type": "code",
   "execution_count": 39,
   "id": "2d3edeb5",
   "metadata": {},
   "outputs": [],
   "source": [
    "df_str = '\\n\\nx1  x2\\n0    3\\n1    5'"
   ]
  },
  {
   "cell_type": "code",
   "execution_count": 41,
   "id": "01d0a10d",
   "metadata": {},
   "outputs": [],
   "source": [
    "df = io.StringIO(df_str)"
   ]
  },
  {
   "cell_type": "code",
   "execution_count": 43,
   "id": "298cdb69",
   "metadata": {},
   "outputs": [],
   "source": [
    "df = pd.read_csv(df,sep='\\s+',index_col=0)"
   ]
  },
  {
   "cell_type": "code",
   "execution_count": 44,
   "id": "22fda178",
   "metadata": {},
   "outputs": [
    {
     "data": {
      "text/html": [
       "<div>\n",
       "<style scoped>\n",
       "    .dataframe tbody tr th:only-of-type {\n",
       "        vertical-align: middle;\n",
       "    }\n",
       "\n",
       "    .dataframe tbody tr th {\n",
       "        vertical-align: top;\n",
       "    }\n",
       "\n",
       "    .dataframe thead th {\n",
       "        text-align: right;\n",
       "    }\n",
       "</style>\n",
       "<table border=\"1\" class=\"dataframe\">\n",
       "  <thead>\n",
       "    <tr style=\"text-align: right;\">\n",
       "      <th></th>\n",
       "      <th>x2</th>\n",
       "    </tr>\n",
       "    <tr>\n",
       "      <th>x1</th>\n",
       "      <th></th>\n",
       "    </tr>\n",
       "  </thead>\n",
       "  <tbody>\n",
       "    <tr>\n",
       "      <th>0</th>\n",
       "      <td>3</td>\n",
       "    </tr>\n",
       "    <tr>\n",
       "      <th>1</th>\n",
       "      <td>5</td>\n",
       "    </tr>\n",
       "  </tbody>\n",
       "</table>\n",
       "</div>"
      ],
      "text/plain": [
       "    x2\n",
       "x1    \n",
       "0    3\n",
       "1    5"
      ]
     },
     "execution_count": 44,
     "metadata": {},
     "output_type": "execute_result"
    }
   ],
   "source": [
    "df"
   ]
  },
  {
   "cell_type": "code",
   "execution_count": 1,
   "id": "68f06799",
   "metadata": {},
   "outputs": [
    {
     "name": "stdout",
     "output_type": "stream",
     "text": [
      "Collecting google-auth\n",
      "  Downloading google_auth-2.22.0-py2.py3-none-any.whl (181 kB)\n",
      "\u001b[2K     \u001b[90m━━━━━━━━━━━━━━━━━━━━━━━━━━━━━━━━━━━━━\u001b[0m \u001b[32m181.8/181.8 kB\u001b[0m \u001b[31m690.3 kB/s\u001b[0m eta \u001b[36m0:00:00\u001b[0ma \u001b[36m0:00:01\u001b[0m\n",
      "\u001b[?25hCollecting google-auth-httplib2\n",
      "  Downloading google_auth_httplib2-0.1.0-py2.py3-none-any.whl (9.3 kB)\n",
      "Collecting google-auth-oauthlib\n",
      "  Downloading google_auth_oauthlib-1.0.0-py2.py3-none-any.whl (18 kB)\n",
      "Collecting google-api-python-client\n",
      "  Downloading google_api_python_client-2.96.0-py2.py3-none-any.whl (12.0 MB)\n",
      "\u001b[2K     \u001b[90m━━━━━━━━━━━━━━━━━━━━━━━━━━━━━━━━━━━━━━━\u001b[0m \u001b[32m12.0/12.0 MB\u001b[0m \u001b[31m941.6 kB/s\u001b[0m eta \u001b[36m0:00:00\u001b[0m00:01\u001b[0m00:01\u001b[0m\n",
      "\u001b[?25hRequirement already satisfied: requests in /Users/huangjian/mambaforge/lib/python3.10/site-packages (2.31.0)\n",
      "Collecting cachetools<6.0,>=2.0.0\n",
      "  Downloading cachetools-5.3.1-py3-none-any.whl (9.3 kB)\n",
      "Collecting rsa<5,>=3.1.4\n",
      "  Downloading rsa-4.9-py3-none-any.whl (34 kB)\n",
      "Collecting pyasn1-modules>=0.2.1\n",
      "  Downloading pyasn1_modules-0.3.0-py2.py3-none-any.whl (181 kB)\n",
      "\u001b[2K     \u001b[90m━━━━━━━━━━━━━━━━━━━━━━━━━━━━━━━━━━━━━\u001b[0m \u001b[32m181.3/181.3 kB\u001b[0m \u001b[31m483.9 kB/s\u001b[0m eta \u001b[36m0:00:00\u001b[0ma \u001b[36m0:00:01\u001b[0m\n",
      "\u001b[?25hCollecting urllib3<2.0\n",
      "  Using cached urllib3-1.26.16-py2.py3-none-any.whl (143 kB)\n",
      "Requirement already satisfied: six>=1.9.0 in /Users/huangjian/mambaforge/lib/python3.10/site-packages (from google-auth) (1.16.0)\n",
      "Collecting httplib2>=0.15.0\n",
      "  Downloading httplib2-0.22.0-py3-none-any.whl (96 kB)\n",
      "\u001b[2K     \u001b[90m━━━━━━━━━━━━━━━━━━━━━━━━━━━━━━━━━━━━━━━━\u001b[0m \u001b[32m96.9/96.9 kB\u001b[0m \u001b[31m1.2 MB/s\u001b[0m eta \u001b[36m0:00:00\u001b[0ma \u001b[36m0:00:01\u001b[0m\n",
      "\u001b[?25hCollecting requests-oauthlib>=0.7.0\n",
      "  Downloading requests_oauthlib-1.3.1-py2.py3-none-any.whl (23 kB)\n",
      "Collecting google-api-core!=2.0.*,!=2.1.*,!=2.2.*,!=2.3.0,<3.0.0.dev0,>=1.31.5\n",
      "  Downloading google_api_core-2.11.1-py3-none-any.whl (120 kB)\n",
      "\u001b[2K     \u001b[90m━━━━━━━━━━━━━━━━━━━━━━━━━━━━━━━━━━━━━\u001b[0m \u001b[32m120.5/120.5 kB\u001b[0m \u001b[31m606.0 kB/s\u001b[0m eta \u001b[36m0:00:00\u001b[0ma \u001b[36m0:00:01\u001b[0m\n",
      "\u001b[?25hCollecting uritemplate<5,>=3.0.1\n",
      "  Downloading uritemplate-4.1.1-py2.py3-none-any.whl (10 kB)\n",
      "Requirement already satisfied: certifi>=2017.4.17 in /Users/huangjian/mambaforge/lib/python3.10/site-packages (from requests) (2023.7.22)\n",
      "Requirement already satisfied: idna<4,>=2.5 in /Users/huangjian/mambaforge/lib/python3.10/site-packages (from requests) (3.4)\n",
      "Requirement already satisfied: charset-normalizer<4,>=2 in /Users/huangjian/mambaforge/lib/python3.10/site-packages (from requests) (3.2.0)\n",
      "Collecting protobuf!=3.20.0,!=3.20.1,!=4.21.0,!=4.21.1,!=4.21.2,!=4.21.3,!=4.21.4,!=4.21.5,<5.0.0.dev0,>=3.19.5\n",
      "  Downloading protobuf-4.24.0-cp37-abi3-macosx_10_9_universal2.whl (409 kB)\n",
      "\u001b[2K     \u001b[90m━━━━━━━━━━━━━━━━━━━━━━━━━━━━━━━━━━━━━\u001b[0m \u001b[32m409.6/409.6 kB\u001b[0m \u001b[31m753.9 kB/s\u001b[0m eta \u001b[36m0:00:00\u001b[0m00:01\u001b[0m00:01\u001b[0m\n",
      "\u001b[?25hCollecting googleapis-common-protos<2.0.dev0,>=1.56.2\n",
      "  Downloading googleapis_common_protos-1.60.0-py2.py3-none-any.whl (227 kB)\n",
      "\u001b[2K     \u001b[90m━━━━━━━━━━━━━━━━━━━━━━━━━━━━━━━━━━━━━\u001b[0m \u001b[32m227.6/227.6 kB\u001b[0m \u001b[31m376.3 kB/s\u001b[0m eta \u001b[36m0:00:00\u001b[0ma \u001b[36m0:00:01\u001b[0m\n",
      "\u001b[?25hRequirement already satisfied: pyparsing!=3.0.0,!=3.0.1,!=3.0.2,!=3.0.3,<4,>=2.4.2 in /Users/huangjian/mambaforge/lib/python3.10/site-packages (from httplib2>=0.15.0->google-auth-httplib2) (3.0.9)\n",
      "Collecting pyasn1<0.6.0,>=0.4.6\n",
      "  Downloading pyasn1-0.5.0-py2.py3-none-any.whl (83 kB)\n",
      "\u001b[2K     \u001b[90m━━━━━━━━━━━━━━━━━━━━━━━━━━━━━━━━━━━━━━━\u001b[0m \u001b[32m83.9/83.9 kB\u001b[0m \u001b[31m520.1 kB/s\u001b[0m eta \u001b[36m0:00:00\u001b[0ma \u001b[36m0:00:01\u001b[0m\n",
      "\u001b[?25hCollecting oauthlib>=3.0.0\n",
      "  Downloading oauthlib-3.2.2-py3-none-any.whl (151 kB)\n",
      "\u001b[2K     \u001b[90m━━━━━━━━━━━━━━━━━━━━━━━━━━━━━━━━━━━━━\u001b[0m \u001b[32m151.7/151.7 kB\u001b[0m \u001b[31m756.3 kB/s\u001b[0m eta \u001b[36m0:00:00\u001b[0ma \u001b[36m0:00:01\u001b[0m\n",
      "\u001b[?25hInstalling collected packages: urllib3, uritemplate, pyasn1, protobuf, oauthlib, httplib2, cachetools, rsa, pyasn1-modules, googleapis-common-protos, requests-oauthlib, google-auth, google-auth-oauthlib, google-auth-httplib2, google-api-core, google-api-python-client\n",
      "  Attempting uninstall: urllib3\n",
      "    Found existing installation: urllib3 2.0.4\n",
      "    Uninstalling urllib3-2.0.4:\n",
      "      Successfully uninstalled urllib3-2.0.4\n",
      "\u001b[31mERROR: pip's dependency resolver does not currently take into account all the packages that are installed. This behaviour is the source of the following dependency conflicts.\n",
      "jupyter-ai-magics 2.0.0 requires importlib-metadata~=5.2.0, but you have importlib-metadata 6.8.0 which is incompatible.\n",
      "jupyter-ai-magics 2.0.0 requires typing-extensions==4.5.0, but you have typing-extensions 4.7.1 which is incompatible.\u001b[0m\u001b[31m\n",
      "\u001b[0mSuccessfully installed cachetools-5.3.1 google-api-core-2.11.1 google-api-python-client-2.96.0 google-auth-2.22.0 google-auth-httplib2-0.1.0 google-auth-oauthlib-1.0.0 googleapis-common-protos-1.60.0 httplib2-0.22.0 oauthlib-3.2.2 protobuf-4.24.0 pyasn1-0.5.0 pyasn1-modules-0.3.0 requests-oauthlib-1.3.1 rsa-4.9 uritemplate-4.1.1 urllib3-1.26.16\n",
      "Note: you may need to restart the kernel to use updated packages.\n"
     ]
    }
   ],
   "source": [
    "pip install --upgrade google-auth google-auth-httplib2 google-auth-oauthlib google-api-python-client requests"
   ]
  },
  {
   "cell_type": "code",
   "execution_count": 20,
   "id": "a9da15c2-a499-4bb2-83f6-cad9cf14dd3f",
   "metadata": {},
   "outputs": [
    {
     "name": "stdout",
     "output_type": "stream",
     "text": [
      "Please visit this URL to authorize this application: https://accounts.google.com/o/oauth2/auth?response_type=code&client_id=494569296721-3ihep25jd9oo5a5tnciieelbiblo6j1f.apps.googleusercontent.com&redirect_uri=http%3A%2F%2Flocalhost%3A9091%2F&scope=https%3A%2F%2Fwww.googleapis.com%2Fauth%2Fgmail.readonly&state=zeIasnSZQjvYB47BNO3ZM1ifnd6D5n&access_type=offline&prompt=consent\n",
      "Labels:\n",
      "CHAT\n",
      "SENT\n",
      "INBOX\n",
      "IMPORTANT\n",
      "TRASH\n",
      "DRAFT\n",
      "SPAM\n",
      "CATEGORY_FORUMS\n",
      "CATEGORY_UPDATES\n",
      "CATEGORY_PERSONAL\n",
      "CATEGORY_PROMOTIONS\n",
      "CATEGORY_SOCIAL\n",
      "STARRED\n",
      "UNREAD\n"
     ]
    }
   ],
   "source": [
    "%run quickstart.py"
   ]
  },
  {
   "cell_type": "code",
   "execution_count": 21,
   "id": "583dbf84-65a2-47ac-9881-d3e7a376e9ef",
   "metadata": {},
   "outputs": [
    {
     "name": "stdout",
     "output_type": "stream",
     "text": [
      "Labels:\n",
      "CHAT\n",
      "SENT\n",
      "INBOX\n",
      "IMPORTANT\n",
      "TRASH\n",
      "DRAFT\n",
      "SPAM\n",
      "CATEGORY_FORUMS\n",
      "CATEGORY_UPDATES\n",
      "CATEGORY_PERSONAL\n",
      "CATEGORY_PROMOTIONS\n",
      "CATEGORY_SOCIAL\n",
      "STARRED\n",
      "UNREAD\n"
     ]
    }
   ],
   "source": [
    "%run quickstart.py"
   ]
  },
  {
   "cell_type": "code",
   "execution_count": null,
   "id": "305e8b21-97fe-4dd6-a7ec-fc429c0ce970",
   "metadata": {},
   "outputs": [],
   "source": []
  }
 ],
 "metadata": {
  "kernelspec": {
   "display_name": "gpt",
   "language": "python",
   "name": "gpt"
  },
  "language_info": {
   "codemirror_mode": {
    "name": "ipython",
    "version": 3
   },
   "file_extension": ".py",
   "mimetype": "text/x-python",
   "name": "python",
   "nbconvert_exporter": "python",
   "pygments_lexer": "ipython3",
   "version": "3.10.10"
  }
 },
 "nbformat": 4,
 "nbformat_minor": 5
}
