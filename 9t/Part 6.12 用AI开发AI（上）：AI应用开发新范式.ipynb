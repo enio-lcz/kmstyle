{
 "cells": [
  {
   "cell_type": "markdown",
   "id": "1d5634d9-9c51-47d5-94fd-58f8eea6830c",
   "metadata": {},
   "source": [
    "# <center>OpenAI在线大模型调用及微调方法"
   ]
  },
  {
   "cell_type": "markdown",
   "id": "eb858478-35f2-464c-8a12-b055d27eb905",
   "metadata": {},
   "source": [
    "## <center>Ch.12 AI应用开发新范式：借助AI完成AI应用开发（上）"
   ]
  },
  {
   "cell_type": "code",
   "execution_count": 573,
   "id": "41c7212c-6629-4c94-83c9-62b2ae12620b",
   "metadata": {
    "tags": []
   },
   "outputs": [],
   "source": [
    "import os\n",
    "import openai\n",
    "openai.api_key = os.getenv(\"OPENAI_API_KEY\")\n",
    "\n",
    "import numpy as np\n",
    "import pandas as pd\n",
    "\n",
    "import json\n",
    "import io\n",
    "import inspect\n",
    "import requests\n",
    "import re\n",
    "\n",
    "from googleapiclient.discovery import build\n",
    "from google.oauth2.credentials import Credentials\n",
    "from google_auth_oauthlib.flow import InstalledAppFlow\n",
    "import base64\n",
    "import email\n",
    "from email import policy\n",
    "from email.parser import BytesParser\n",
    "from email.mime.text import MIMEText\n",
    "\n",
    "from bs4 import BeautifulSoup\n",
    "import dateutil.parser as parser\n",
    "\n",
    "from gptLearning import *"
   ]
  },
  {
   "cell_type": "code",
   "execution_count": 62,
   "id": "ca20bda3-dd26-413d-8fd0-3c7c6bdd778a",
   "metadata": {
    "tags": []
   },
   "outputs": [
    {
     "name": "stdout",
     "output_type": "stream",
     "text": [
      "Please visit this URL to authorize this application: https://accounts.google.com/o/oauth2/auth?response_type=code&client_id=597598790553-j4tj274ajpeta15s9lc0sffmlqmbhi9q.apps.googleusercontent.com&redirect_uri=http%3A%2F%2Flocalhost%3A8899%2F&scope=https%3A%2F%2Fwww.googleapis.com%2Fauth%2Fgmail.send+https%3A%2F%2Fwww.googleapis.com%2Fauth%2Fgmail.readonly&state=f8hxnzVwVisxQUsaFphgp7lc3KNECw&access_type=offline&prompt=consent\n"
     ]
    }
   ],
   "source": [
    "SCOPES = ['https://www.googleapis.com/auth/gmail.send','https://www.googleapis.com/auth/gmail.readonly']\n",
    "flow = InstalledAppFlow.from_client_secrets_file(\n",
    "                'client_web1.json', SCOPES)\n",
    "creds = flow.run_local_server(port=8899, access_type='offline', prompt='consent')\n",
    "\n",
    "with open('token.json', 'w') as token:\n",
    "    token.write(creds.to_json())"
   ]
  },
  {
   "cell_type": "markdown",
   "id": "c1cd7b37-100b-43cd-add7-3d14fd91af4f",
   "metadata": {},
   "source": [
    "### 1.初阶策略：用Chat模型辅助进行代码编写"
   ]
  },
  {
   "cell_type": "markdown",
   "id": "9a20601c-9376-4211-a21b-efdaef82760f",
   "metadata": {},
   "source": [
    "#### 1.1 借助ChatGPT协助编写外部函数"
   ]
  },
  {
   "cell_type": "markdown",
   "id": "59067531-ea05-494e-a20a-a239475a846f",
   "metadata": {},
   "source": [
    "&emsp;&emsp;如何才能借助Chat模型来帮我们提高AI应用开发效率呢？一个最基础的策略，就是尝试让Chat模型完成对应功能的外部函数的编写。当然，这里我们可以整理需求后直接在ChatGPT中提问，令其生成外部函数的代码，然后复制到当前代码环境中进行测试和修改。考虑到ChatGPT本身强大的代码编写功能，以及当前并不复杂的代码需求（主要是测试功能能否实现、而不是优化代码执行流程），外加大多数API的功能本身都是包含在ChatGPT知识库中的，因此让ChatGPT编写调用相关API的函数并不会太难。例如，还是围绕Gmail API的调用，我们希望编写一个函数能够查看最近接收到的5封邮件，则可以按照如下方式对ChatGPT进行提问："
   ]
  },
  {
   "cell_type": "markdown",
   "id": "d069a299-5185-4054-ac3a-5ea5e65a1b82",
   "metadata": {},
   "source": [
    "我现在已经获取了Gmail API并完成了OAuth 2.0客户端和授权，并将查看邮件的凭据保存为token.json文件。我现在想要编写一个函数来查阅最近的n封邮件，函数要求如下：         \n",
    "1.函数参数为n和userId，其中userId是字符串参数，默认情况下取值为'me'，表示查看我的邮件，而n则是整数，代表需要查询的邮件个数；        \n",
    "2.函数返回结果为一个包含多个字典的列表，并用json格式进行表示，其中一个字典代表一封邮件信息，每个字典中需要包含邮件的发件人、发件时间、邮件主题和邮件内容四个方面信息；        \n",
    "3.请将全部功能封装在一个函数内；       \n",
    "4.请在函数编写过程中，帮我编写详细的函数说明文档，用于说明函数功能、函数参数情况以及函数返回结果等信息；"
   ]
  },
  {
   "cell_type": "markdown",
   "id": "85bcbe8d-9a74-4d00-a106-0058cbac5aaa",
   "metadata": {},
   "source": [
    "<center><img src=\"https://ml2022.oss-cn-hangzhou.aliyuncs.com/img/2a4819ba4c4b196227d53c0a828cf06.png\" alt=\"2a4819ba4c4b196227d53c0a828cf06\" style=\"zoom:33%;\" />"
   ]
  },
  {
   "cell_type": "markdown",
   "id": "1c78cf40-a226-45b7-bc62-7cd4c11affab",
   "metadata": {},
   "source": [
    "&emsp;&emsp;需要注意的是，这里我们提问的最终目标是希望ChatGPT帮我们直接创建能满足外部函数格式要求的函数。以下是ChatGPT返回的代码结果并尝试运行："
   ]
  },
  {
   "cell_type": "code",
   "execution_count": 5,
   "id": "1c4464fb-2108-46d6-adf4-91b382d70474",
   "metadata": {
    "tags": []
   },
   "outputs": [],
   "source": [
    "from googleapiclient.discovery import build\n",
    "from google.oauth2.credentials import Credentials\n",
    "import base64\n",
    "import email\n",
    "from bs4 import BeautifulSoup\n",
    "import dateutil.parser as parser\n",
    "import json\n",
    "\n",
    "def retrieve_emails(n, user_id='me'):\n",
    "    \"\"\"\n",
    "    获取指定数量的最近邮件。\n",
    "\n",
    "    参数:\n",
    "    n: 要检索的邮件的数量。这应该是一个整数。\n",
    "    user_id: 要检索邮件的用户的ID。默认值是'me'，表示当前授权的用户。\n",
    "\n",
    "    返回:\n",
    "    一个列表，其中每个元素都是一个字典，表示一封邮件。每个字典包含以下键：\n",
    "    'From': 发件人的邮箱地址。\n",
    "    'Date': 邮件的发送日期。\n",
    "    'Subject': 邮件的主题。\n",
    "    'Snippet': 邮件的摘要（前100个字符）。\n",
    "    \"\"\"\n",
    "    # 从本地文件中加载凭据\n",
    "    creds = Credentials.from_authorized_user_file('token.json')\n",
    "\n",
    "    # 创建 Gmail API 客户端\n",
    "    service = build('gmail', 'v1', credentials=creds)\n",
    "\n",
    "    # 获取邮件列表\n",
    "    results = service.users().messages().list(userId=user_id).execute()\n",
    "    messages = results.get('messages', [])[:n]\n",
    "\n",
    "    emails = []\n",
    "    for message in messages:\n",
    "        msg = service.users().messages().get(userId=user_id, id=message['id']).execute()\n",
    "\n",
    "        # 解码邮件内容\n",
    "        payload = msg['payload']\n",
    "        headers = payload.get(\"headers\")\n",
    "        parts = payload.get(\"parts\")\n",
    "\n",
    "        data = {}\n",
    "\n",
    "        if headers:\n",
    "            for d in headers:\n",
    "                name = d.get(\"name\")\n",
    "                if name.lower() == \"from\":\n",
    "                    data['From'] = d.get(\"value\")\n",
    "                if name.lower() == \"date\":\n",
    "                    data['Date'] = parser.parse(d.get(\"value\")).strftime('%Y-%m-%d %H:%M:%S')\n",
    "                if name.lower() == \"subject\":\n",
    "                    data['Subject'] = d.get(\"value\")\n",
    "\n",
    "        if parts:\n",
    "            for part in parts:\n",
    "                mimeType = part.get(\"mimeType\")\n",
    "                body = part.get(\"body\")\n",
    "                data_decoded = base64.urlsafe_b64decode(body.get(\"data\")).decode()\n",
    "                if mimeType == \"text/plain\":\n",
    "                    data['Snippet'] = data_decoded\n",
    "                elif mimeType == \"text/html\":\n",
    "                    soup = BeautifulSoup(data_decoded, \"html.parser\")\n",
    "                    data['Snippet'] = soup.get_text()\n",
    "\n",
    "        emails.append(data)\n",
    "\n",
    "    # 返回邮件列表\n",
    "    return json.dumps(emails, indent=2)"
   ]
  },
  {
   "cell_type": "markdown",
   "id": "7e34a18c-b857-426e-9d5c-311aa28bfcc9",
   "metadata": {},
   "source": [
    "能够看出，ChatGPT能够完整编写实现该功能的函数，并且在函数中给出了可能出现的非常多种不同情况，该函数还是非常完整详尽的。接下来我们测试函数能否顺利执行："
   ]
  },
  {
   "cell_type": "code",
   "execution_count": 33,
   "id": "38a6627f-cc30-4948-a23c-a2736838228f",
   "metadata": {
    "tags": []
   },
   "outputs": [],
   "source": [
    "msg = retrieve_emails(5)"
   ]
  },
  {
   "cell_type": "code",
   "execution_count": 35,
   "id": "ed1d908a-b83d-42ea-98fb-98ee0b2ae0b4",
   "metadata": {
    "tags": []
   },
   "outputs": [
    {
     "data": {
      "text/plain": [
       "'[\\n  {\\n    \"From\": \"\\\\\"\\\\u7aef\\\\u6728\\\\u5929\\\\\" <2323365771@qq.com>\",\\n    \"Subject\": \"Re: \\\\u5173\\\\u4e8e\\\\u660e\\\\u5929\\\\u7684\\\\u4f1a\\\\u8bae\",\\n    \"Date\": \"2023-07-21 22:39:17\",\\n    \"Snippet\": \"\\\\u597d\\\\u7684\\\\uff0c\\\\u6536\\\\u5230\\\\u53d1\\\\u81ea\\\\u6211\\\\u7684iPhone------------------ \\\\u539f\\\\u59cb\\\\u90ae\\\\u4ef6 ------------------\\\\u53d1\\\\u4ef6\\\\u4eba: ksken166 <ksken166@gmail.com>\\\\u53d1\\\\u9001\\\\u65f6\\\\u95f4: 2023\\\\u5e747\\\\u670821\\\\u65e5 22:39\\\\u6536\\\\u4ef6\\\\u4eba: 2323365771 <2323365771@qq.com>\\\\u4e3b\\\\u9898: Re: \\\\u5173\\\\u4e8e\\\\u660e\\\\u5929\\\\u7684\\\\u4f1a\\\\u8bae\\\\u4f60\\\\u597d\\\\u9648\\\\u660e\\\\uff0c\\\\u8bf7\\\\u4f60\\\\u660e\\\\u5929\\\\u65e9\\\\u4e0a9\\\\u70b9\\\\u534a\\\\u6765\\\\u6211\\\\u7684\\\\u529e\\\\u516c\\\\u5ba4\\\\u5f00\\\\u4f1a\\\\uff0c\\\\u6211\\\\u4eec\\\\u4f1a\\\\u5546\\\\u91cf\\\\u4e0b\\\\u534a\\\\u5e74\\\\u7684\\\\u6280\\\\u672f\\\\u5f00\\\\u53d1\\\\u8ba1\\\\u5212\\\\u3002\\\\u8c22\\\\u8c22\\\\uff0c\\\\u4e5d\\\\u5929\"\\n  },\\n  {\\n    \"From\": \"ksken166@gmail.com\",\\n    \"Subject\": \"\\\\u5173\\\\u4e8e\\\\u660e\\\\u5929\\\\u7684\\\\u4f1a\\\\u8bae\",\\n    \"Date\": \"2023-07-21 07:38:55\"\\n  },\\n  {\\n    \"From\": \"\\\\\"\\\\u7aef\\\\u6728\\\\u5929\\\\\" <2323365771@qq.com>\",\\n    \"Subject\": \"Re: \\\\u5173\\\\u4e8e\\\\u660e\\\\u5929\\\\u5f00\\\\u4f1a\\\\u7684\\\\u901a\\\\u77e5\",\\n    \"Date\": \"2023-07-21 22:28:34\",\\n    \"Snippet\": \"\\\\u597d\\\\u7684\\\\uff0c\\\\u6536\\\\u5230\\\\u53d1\\\\u81ea\\\\u6211\\\\u7684iPhone------------------ \\\\u539f\\\\u59cb\\\\u90ae\\\\u4ef6 ------------------\\\\u53d1\\\\u4ef6\\\\u4eba: ksken166 <ksken166@gmail.com>\\\\u53d1\\\\u9001\\\\u65f6\\\\u95f4: 2023\\\\u5e747\\\\u670821\\\\u65e5 22:28\\\\u6536\\\\u4ef6\\\\u4eba: 2323365771 <2323365771@qq.com>\\\\u4e3b\\\\u9898: Re: \\\\u5173\\\\u4e8e\\\\u660e\\\\u5929\\\\u5f00\\\\u4f1a\\\\u7684\\\\u901a\\\\u77e5\\\\u9648\\\\u660e\\\\uff0c\\\\u4f60\\\\u597d\\\\uff1a\\\\u4ee5\\\\u4e5d\\\\u5929\\\\u7684\\\\u540d\\\\u4e49\\\\uff0c\\\\u6211\\\\u9080\\\\u8bf7\\\\u4f60\\\\u660e\\\\u5929\\\\u65e9\\\\u4e0a9\\\\u70b9\\\\u534a\\\\u6765\\\\u6211\\\\u529e\\\\u516c\\\\u5ba4\\\\u5f00\\\\u4f1a\\\\uff0c\\\\u6211\\\\u4eec\\\\u5c06\\\\u5171\\\\u540c\\\\u5546\\\\u91cf\\\\u4e0b\\\\u534a\\\\u5e74\\\\u7684\\\\u6280\\\\u672f\\\\u5f00\\\\u53d1\\\\u8ba1\\\\u5212\\\\u3002\\\\u671f\\\\u5f85\\\\u60a8\\\\u7684\\\\u5230\\\\u6765\\\\uff0c\\\\u8c22\\\\u8c22\\\\u3002\\\\u987a\\\\u795d\\\\u5546\\\\u797a\"\\n  },\\n  {\\n    \"From\": \"ksken166@gmail.com\",\\n    \"Subject\": \"\\\\u5173\\\\u4e8e\\\\u660e\\\\u5929\\\\u5f00\\\\u4f1a\\\\u7684\\\\u901a\\\\u77e5\",\\n    \"Date\": \"2023-07-21 07:27:55\"\\n  },\\n  {\\n    \"From\": \"ksken166@gmail.com\",\\n    \"Subject\": \"\\\\u5173\\\\u4e8e\\\\u660e\\\\u5929\\\\u65e9\\\\u4e0a9\\\\u70b9\\\\u534a\\\\u5f00\\\\u4f1a\\\\u7684\\\\u901a\\\\u77e5\",\\n    \"Date\": \"2023-07-21 07:24:13\"\\n  }\\n]'"
      ]
     },
     "execution_count": 35,
     "metadata": {},
     "output_type": "execute_result"
    }
   ],
   "source": [
    "msg"
   ]
  },
  {
   "cell_type": "markdown",
   "id": "2e522666-e77f-48da-8c65-18ebd9229a4b",
   "metadata": {},
   "source": [
    "然后测试这样的函数结果能否被Chat模型解读："
   ]
  },
  {
   "cell_type": "code",
   "execution_count": 37,
   "id": "60fc4ac4-06d5-4e9d-8111-572215e62ba7",
   "metadata": {
    "tags": []
   },
   "outputs": [
    {
     "data": {
      "text/plain": [
       "'1. 发件人：端木天\\n   主题：关于明天的会议\\n   时间：2023-07-21 22:39:17\\n   内容：明确收到并确认你发出的会议邀请。会议内容关于明天早上9点半在你的办公室进行的技术开发计划商议。\\n\\n2. 发件人：你自己 \\n   主题：关于明天的会议\\n   时间：2023-07-21 07:38:55\\n   内容：未明确给出，可能是与端木天讨论的技术开发计划相关。\\n\\n3. 发件人：端木天\\n   主题：关于明天开会的通知\\n   时间：2023-07-21 22:28:34\\n   内容：明确收到并确认你发出的会议通知。\\n\\n4. 发件人：你自己\\n   主题：关于明天开会的通知\\n   时间：2023-07-21 07:27:55\\n   内容：未明确给出，可能是与端木天提醒的开会通知相关。\\n\\n5. 发件人：你自己 \\n   主题：关于明天早上9点半开会的通知\\n   时间：2023-07-21 07:24:13\\n   内容：未明确给出，可能是关于明天早上9:30会议的详细信息或安排。'"
      ]
     },
     "execution_count": 37,
     "metadata": {},
     "output_type": "execute_result"
    }
   ],
   "source": [
    "response = openai.ChatCompletion.create(\n",
    "  model=\"gpt-4-0613\",\n",
    "  messages=[\n",
    "    {\"role\": \"system\", \"content\": \"这是我的Gmail邮箱最近五封邮件的内容：%s\" % msg},\n",
    "    {\"role\": \"system\", \"content\": \"邮件内容是由Gmail API获取\"},\n",
    "    {\"role\": \"user\", \"content\": \"请问我的Gmail最近五封邮件是谁发送的，都有什么内容？\"}\n",
    "  ]\n",
    ")\n",
    "response.choices[0].message['content']"
   ]
  },
  {
   "cell_type": "markdown",
   "id": "eb1a1880-49bf-4432-bd14-e35577f1cb7f",
   "metadata": {},
   "source": [
    "能够发现Chat模型能够顺利获取这5封邮件的信息。这里信息看似混乱，实际上是测试Gmail API功能测试时和陈明反复发送的多封邮件。"
   ]
  },
  {
   "cell_type": "markdown",
   "id": "510681a1-6f44-409c-b88c-ef2a9b10e601",
   "metadata": {},
   "source": [
    "&emsp;&emsp;接下来我们继续测试，这个由ChatGPT帮我们编写的retrieve_emails函数，其参数说明能否被auto_functions函数正常识别，并创建functions参数："
   ]
  },
  {
   "cell_type": "code",
   "execution_count": 38,
   "id": "3040d9aa-6f2b-49f6-b19f-b53f6cd0c7c6",
   "metadata": {
    "tags": []
   },
   "outputs": [],
   "source": [
    "functions_list = [retrieve_emails]"
   ]
  },
  {
   "cell_type": "code",
   "execution_count": 40,
   "id": "6e7052c6-72ed-483b-9853-c15be5efc171",
   "metadata": {
    "tags": []
   },
   "outputs": [
    {
     "data": {
      "text/plain": [
       "[{'name': 'retrieve_emails',\n",
       "  'description': '获取指定数量的最近邮件',\n",
       "  'parameters': {'type': 'object',\n",
       "   'properties': {'n': {'type': 'integer', 'description': '要检索的邮件的数量'},\n",
       "    'user_id': {'type': 'string',\n",
       "     'description': '要检索邮件的用户的ID',\n",
       "     'default': 'me'}},\n",
       "   'required': ['n']}}]"
      ]
     },
     "execution_count": 40,
     "metadata": {},
     "output_type": "execute_result"
    }
   ],
   "source": [
    "functions = auto_functions(functions_list)\n",
    "functions"
   ]
  },
  {
   "cell_type": "markdown",
   "id": "4a77d7c9-061b-4b67-917a-ac2229f38d42",
   "metadata": {},
   "source": [
    "接下来测试functions函数说明能否被Chat模型正确识别："
   ]
  },
  {
   "cell_type": "code",
   "execution_count": 41,
   "id": "dc9d3b34-3230-45e3-96ba-3661aab66e6e",
   "metadata": {
    "tags": []
   },
   "outputs": [],
   "source": [
    "response = openai.ChatCompletion.create(\n",
    "        model=\"gpt-4-0613\",\n",
    "        messages=[{\"role\": \"user\", \"content\": '请帮我查下最近3封邮件的邮件内容'}],\n",
    "        functions=functions,\n",
    "        function_call=\"auto\",  \n",
    "    )"
   ]
  },
  {
   "cell_type": "code",
   "execution_count": 42,
   "id": "6e06ade6-974c-4d08-a8bb-970377cd026e",
   "metadata": {
    "tags": []
   },
   "outputs": [
    {
     "data": {
      "text/plain": [
       "<OpenAIObject chat.completion id=chatcmpl-7f2HnbqwVRwGGzKtbTdT8txaQMepZ at 0x15a08c04220> JSON: {\n",
       "  \"id\": \"chatcmpl-7f2HnbqwVRwGGzKtbTdT8txaQMepZ\",\n",
       "  \"object\": \"chat.completion\",\n",
       "  \"created\": 1690014591,\n",
       "  \"model\": \"gpt-4-0613\",\n",
       "  \"choices\": [\n",
       "    {\n",
       "      \"index\": 0,\n",
       "      \"message\": {\n",
       "        \"role\": \"assistant\",\n",
       "        \"content\": null,\n",
       "        \"function_call\": {\n",
       "          \"name\": \"retrieve_emails\",\n",
       "          \"arguments\": \"{\\n  \\\"n\\\": 3\\n}\"\n",
       "        }\n",
       "      },\n",
       "      \"finish_reason\": \"function_call\"\n",
       "    }\n",
       "  ],\n",
       "  \"usage\": {\n",
       "    \"prompt_tokens\": 101,\n",
       "    \"completion_tokens\": 15,\n",
       "    \"total_tokens\": 116\n",
       "  }\n",
       "}"
      ]
     },
     "execution_count": 42,
     "metadata": {},
     "output_type": "execute_result"
    }
   ],
   "source": [
    "response"
   ]
  },
  {
   "cell_type": "markdown",
   "id": "a8c95f92-d326-4a28-9396-960d6f836f7a",
   "metadata": {},
   "source": [
    "能够发现，Chat模型能够顺利识别functions中函数说明，并在当前对话情景中正确创建必要参数n=3。接下来我们直接将这个函数带入多轮对话进行进一步测试："
   ]
  },
  {
   "cell_type": "code",
   "execution_count": 43,
   "id": "8ea156fb-fbeb-4899-94a0-0137cfd6eee1",
   "metadata": {
    "tags": []
   },
   "outputs": [
    {
     "name": "stdout",
     "output_type": "stream",
     "text": [
      "模型回答: 你好！有什么我可以帮助你的吗？\n"
     ]
    },
    {
     "name": "stdin",
     "output_type": "stream",
     "text": [
      "您还有其他问题吗？(输入退出以结束对话):  请帮我查阅最近两封邮件的邮件内容\n"
     ]
    },
    {
     "name": "stdout",
     "output_type": "stream",
     "text": [
      "模型回答: 最近的两封邮件如下：\n",
      "\n",
      "1. 来自端木天的邮件（发信地址：2323365771@qq.com），发送时间为2023年7月21日22:39。\n",
      "   标题为：回复：关于明天的会议。\n",
      "   内容如下：好的，收到。发自我的iPhone。\n",
      "\n",
      "2. 来自ksken166@gmail.com的邮件，发送时间为2023年7月21日07:38。\n",
      "   标题为：关于明天的会议。\n",
      "   邮件内容未提供。\n"
     ]
    },
    {
     "name": "stdin",
     "output_type": "stream",
     "text": [
      "您还有其他问题吗？(输入退出以结束对话):  退出\n"
     ]
    }
   ],
   "source": [
    "chat_with_model(functions_list=functions_list)"
   ]
  },
  {
   "cell_type": "markdown",
   "id": "1ae661e5-a8f1-4f2a-b7c1-bb225352999d",
   "metadata": {},
   "source": [
    "通过多轮对话测试，当然这也说明由ChatGPT创建的函数，能够在当前的auto_functions+run_conversation函数支持的开发流程中顺利加入到外部函数库中。而如果外部函数能够借助ChatGPT进行创建，毫无疑问此时AI应用的开发效率也将大幅提升。在后续的课程中，我们也将尽可能尝试借助大语言模型本身帮我们创建外部函数。"
   ]
  },
  {
   "cell_type": "markdown",
   "id": "1828963b-5044-4fca-8ac4-ea77fc820c35",
   "metadata": {},
   "source": [
    "&emsp;&emsp;当然，这里需要重点强调的是，在上述借助ChatGPT帮我们编写外部函数的流程中，最重要的有三点，其一是根据开发者的经验先获取了API相关凭据，跑通了整个API授权流程；其二是在非常了解Function calling功能以及我们设置的auto_functions+run_conversation开发流程基础之上，对ChatGPT进行了合理的提示；其三则是在获得了ChatGPT编写的函数之后，借助auto_functions进行外部函数功能验证。需要注意的是，只有我们拥有了这三方面的基础能力，才能够真正顺利应用ChatGPT代码能力帮我们完成外部函数编写，否则，无论是没有完成授权、还是没有正确的提示、或者没有函数的验证过程，我们都无法驾驭ChatGPT代码创建能力为我们所用。"
   ]
  },
  {
   "cell_type": "markdown",
   "id": "cb592e88-b47a-4c43-8e3d-f86a8d845146",
   "metadata": {},
   "source": [
    "#### 1.2 借助Chat模型实现本地代码高效编写与验证"
   ]
  },
  {
   "cell_type": "markdown",
   "id": "11f7835b-cd4d-4285-b596-39963e7fc1f5",
   "metadata": {},
   "source": [
    "&emsp;&emsp;虽然借助ChatGPT帮我们编写外部函数已经能够极大程度加快AI应用的开发效率，但作为“追求极致效率”的开发者，我们所希望的是能够更进一步，即能否省略每次都向ChatGPT提问然后复制粘贴代码到本地进行验证的这个环节呢？能否让创建外部函数更加自动化，即通过自然语言提示，直接在代码环境中创建外部函数代码，并自动进行测试和封装呢？"
   ]
  },
  {
   "cell_type": "markdown",
   "id": "4d9f5479-363b-478c-b15a-56f31a5bfd28",
   "metadata": {},
   "source": [
    "- 测试Chat模型输出结果直接转化为代码并运行"
   ]
  },
  {
   "cell_type": "markdown",
   "id": "b1a4c254-746c-4da0-97b5-4848309ce691",
   "metadata": {},
   "source": [
    "&emsp;&emsp;要做到这点，首先我们需要跑通利用Chat模型创建函数并直接运行这一流程。我们知道，Chat模型的输入和输出都是字符串，因此若希望Chat模型输出结果直接转化为可以运行的外部函数，不仅需要合理的提示，还需要补充一些可以提取字符串中python代码并直接运行的方法。"
   ]
  },
  {
   "cell_type": "markdown",
   "id": "03a14577-a14e-4513-b9a2-a5549f67f1c5",
   "metadata": {},
   "source": [
    "&emsp;&emsp;首先，我们先通过一个简单的示例，查看当前使用的gpt-4-0613模型是否能在合理的提示下，创建符合外部函数要求的函数："
   ]
  },
  {
   "cell_type": "code",
   "execution_count": 187,
   "id": "93d7af08-781d-4065-bc27-fcb436cbac83",
   "metadata": {
    "tags": []
   },
   "outputs": [],
   "source": [
    "response = openai.ChatCompletion.create(\n",
    "  model=\"gpt-4-0613\",\n",
    "  messages=[{\"role\": \"system\", \"content\": \"你是一个python代码编辑器，你的功能是输出python代码，请勿输出任何和python代码无关的内容\"},\n",
    "            {\"role\": \"user\", \"content\": \"请帮我定义一个python函数，输出Hello world字符串，请在函数编写过程中，在函数内部加入中文编写的详细的函数说明文档。\"}\n",
    "  ]\n",
    ")"
   ]
  },
  {
   "cell_type": "code",
   "execution_count": 188,
   "id": "2b0de1ee-91cf-4cc1-88ed-b51e66f263bb",
   "metadata": {
    "tags": []
   },
   "outputs": [
    {
     "data": {
      "text/plain": [
       "'```python\\ndef print_hello_world():\\n    \"\"\"\\n    这是一个简单的函数，其功能是输出\"Hello world\"字符串。\\n\\n    说明：\\n    本函数没有参数，也没有返回值。\\n    \"\"\"\\n    print(\"Hello world\")\\n```\\n当运行这个函数print_hello_world()时， it will print \"Hello world\" to the console.'"
      ]
     },
     "execution_count": 188,
     "metadata": {},
     "output_type": "execute_result"
    }
   ],
   "source": [
    "response.choices[0].message['content']"
   ]
  },
  {
   "cell_type": "markdown",
   "id": "729a1669-8672-457b-bb6f-ae9c1bfaa697",
   "metadata": {},
   "source": [
    "需要注意的是，此时Chat模型输出的字符串其实是代表一个markdown格式对象。这里我们可以通过修改提示让Chat模型更加专注的只生成Python代码，但实际测试结果发现Chat模型很难理解“只输出python代码”这一提示，哪怕是利用Few-shot提示方法，也无法解决该问题。所以一种更高效的解决问题的方法是直接在上述字符串中通过正则表达式提取出只包含Python代码的字符串。"
   ]
  },
  {
   "cell_type": "markdown",
   "id": "baa01c5f-63f2-49ab-b474-693537b2f35c",
   "metadata": {},
   "source": [
    "&emsp;&emsp;当然，在提取之前，我们可以先简单查看上述markdown内容，我们可以通过如下代码先将上述字符串的全部内容在本地保存为一个名为helloworld的md文件，并查看文件内容："
   ]
  },
  {
   "cell_type": "code",
   "execution_count": 190,
   "id": "534958e9-3d08-4af9-9673-3c3cf9f0ca39",
   "metadata": {
    "tags": []
   },
   "outputs": [],
   "source": [
    "s = response.choices[0].message['content']"
   ]
  },
  {
   "cell_type": "code",
   "execution_count": 199,
   "id": "1b15425b-adf9-4d5c-a178-f71b4fdf1aec",
   "metadata": {
    "tags": []
   },
   "outputs": [
    {
     "data": {
      "text/plain": [
       "'```python\\ndef print_hello_world():\\n    \"\"\"\\n    这是一个简单的函数，其功能是输出\"Hello world\"字符串。\\n\\n    说明：\\n    本函数没有参数，也没有返回值。\\n    \"\"\"\\n    print(\"Hello world\")\\n```\\n当运行这个函数print_hello_world()时， it will print \"Hello world\" to the console.'"
      ]
     },
     "execution_count": 199,
     "metadata": {},
     "output_type": "execute_result"
    }
   ],
   "source": [
    "s"
   ]
  },
  {
   "cell_type": "code",
   "execution_count": 191,
   "id": "4b081878-e3ad-4624-bbcd-baba64acfb8b",
   "metadata": {
    "tags": []
   },
   "outputs": [],
   "source": [
    "with open('helloworld.md', 'a', encoding='utf-8') as f:\n",
    "    f.write(s)"
   ]
  },
  {
   "cell_type": "markdown",
   "id": "64641417-8786-44c8-afb3-8685661735fc",
   "metadata": {},
   "source": [
    "<center><img src=\"https://ml2022.oss-cn-hangzhou.aliyuncs.com/img/e2b0b9cf2d91c61f074fff80fd36860.png\" alt=\"e2b0b9cf2d91c61f074fff80fd36860\" style=\"zoom:33%;\" />"
   ]
  },
  {
   "cell_type": "markdown",
   "id": "929fce62-01d2-4606-8191-53698661c200",
   "metadata": {},
   "source": [
    "能够看出，Chat模型创建的函数本身并没有任何问题。接下来我们考虑在字符串s中单独提取python部分代码，提取函数如下："
   ]
  },
  {
   "cell_type": "code",
   "execution_count": 273,
   "id": "cf149168-e180-4680-9989-8e34545fbeaf",
   "metadata": {
    "tags": []
   },
   "outputs": [],
   "source": [
    "def extract_code(s):\n",
    "    \"\"\"\n",
    "    如果输入的字符串s是一个包含Python代码的Markdown格式字符串，提取出代码部分。\n",
    "    否则，返回原字符串。\n",
    "\n",
    "    参数:\n",
    "    s: 输入的字符串。\n",
    "\n",
    "    返回:\n",
    "    提取出的代码部分，或原字符串。\n",
    "    \"\"\"\n",
    "    # 判断字符串是否是Markdown格式\n",
    "    if '```python' in s or 'Python' in s or'PYTHON' in s:\n",
    "        # 找到代码块的开始和结束位置\n",
    "        code_start = s.find('def')\n",
    "        code_end = s.find('```\\n', code_start)\n",
    "        # 提取代码部分\n",
    "        code = s[code_start:code_end]\n",
    "    else:\n",
    "        # 如果字符串不是Markdown格式，返回原字符串\n",
    "        code = s\n",
    "\n",
    "    return code"
   ]
  },
  {
   "cell_type": "markdown",
   "id": "666d6875-90a1-4e42-8e8a-8b970b691466",
   "metadata": {},
   "source": [
    "测试在s上的执行结果："
   ]
  },
  {
   "cell_type": "code",
   "execution_count": 223,
   "id": "428b95ba-668e-4597-8858-61a7e920b2f9",
   "metadata": {
    "tags": []
   },
   "outputs": [
    {
     "data": {
      "text/plain": [
       "'def print_hello_world():\\n    \"\"\"\\n    这是一个简单的函数，其功能是输出\"Hello world\"字符串。\\n\\n    说明：\\n    本函数没有参数，也没有返回值。\\n    \"\"\"\\n    print(\"Hello world\")\\n'"
      ]
     },
     "execution_count": 223,
     "metadata": {},
     "output_type": "execute_result"
    }
   ],
   "source": [
    "code_s = extract_code(s)\n",
    "code_s"
   ]
  },
  {
   "cell_type": "markdown",
   "id": "4c301b6a-41b7-4799-8b20-687ace761592",
   "metadata": {},
   "source": [
    "能够发现，此时函数就能完整的提取出s中包含的代码部分，并将其保存为一个字符串。这里需要注意，该函数包含一个判别字符串是否是markdown格式的过程，是因为有时Chat模型也会创建一个只包含代码的字符串，而此时该字符串形式类似于code_s，并没有\\```python等字样，此时函数将返回原始结果——即一个包含python函数的字符串："
   ]
  },
  {
   "cell_type": "code",
   "execution_count": 203,
   "id": "1f5d7140-5301-4101-83f9-2ecb79dfe36a",
   "metadata": {
    "tags": []
   },
   "outputs": [
    {
     "data": {
      "text/plain": [
       "'def print_hello_world():\\n    \"\"\"\\n    这是一个简单的函数，其功能是输出\"Hello world\"字符串。\\n\\n    说明：\\n    本函数没有参数，也没有返回值。\\n    \"\"\"\\n    print(\"Hello world\")\\n'"
      ]
     },
     "execution_count": 203,
     "metadata": {},
     "output_type": "execute_result"
    }
   ],
   "source": [
    "extract_code(code_s)"
   ]
  },
  {
   "cell_type": "markdown",
   "id": "03869b01-17ee-4989-be2b-f0a97dd30083",
   "metadata": {},
   "source": [
    "而对于一个用字符串表示的python程序，我们可以通过如下方式将其写入本地py文件并进行代码查看："
   ]
  },
  {
   "cell_type": "code",
   "execution_count": 224,
   "id": "da009cd7-b696-470b-b3c4-fb890a65775e",
   "metadata": {
    "tags": []
   },
   "outputs": [
    {
     "data": {
      "text/plain": [
       "'def print_hello_world():\\n    \"\"\"\\n    这是一个简单的函数，其功能是输出\"Hello world\"字符串。\\n\\n    说明：\\n    本函数没有参数，也没有返回值。\\n    \"\"\"\\n    print(\"Hello world\")\\n'"
      ]
     },
     "execution_count": 224,
     "metadata": {},
     "output_type": "execute_result"
    }
   ],
   "source": [
    "code_s"
   ]
  },
  {
   "cell_type": "code",
   "execution_count": 225,
   "id": "d230d848-7e8a-4db3-ac1a-bd0360d9137f",
   "metadata": {
    "tags": []
   },
   "outputs": [],
   "source": [
    "with open('helloworld.py', 'w', encoding='utf-8') as f:\n",
    "    f.write(code_s)"
   ]
  },
  {
   "cell_type": "markdown",
   "id": "25c83fe0-7806-4e58-8ec1-848a52ede288",
   "metadata": {},
   "source": [
    "此时就会在本地创建一个保存了print_hello_world函数的py文件："
   ]
  },
  {
   "cell_type": "markdown",
   "id": "d5d5a7d2-c95e-48da-81e9-a0c71a581af1",
   "metadata": {},
   "source": [
    "<center><img src=\"https://ml2022.oss-cn-hangzhou.aliyuncs.com/img/fa78bc8a89b623228868ed6d9efa6dc.png\" alt=\"fa78bc8a89b623228868ed6d9efa6dc\" style=\"zoom:33%;\" />"
   ]
  },
  {
   "cell_type": "markdown",
   "id": "3637b8ef-798c-45eb-bae4-71f36652b319",
   "metadata": {},
   "source": [
    "该文件相当于是函数的备份，我们可以直接通过如下形式查看这个py文件的内容："
   ]
  },
  {
   "cell_type": "code",
   "execution_count": 228,
   "id": "228af2cc-678a-42e3-b41c-d73cf11ca19c",
   "metadata": {
    "tags": []
   },
   "outputs": [
    {
     "name": "stdout",
     "output_type": "stream",
     "text": [
      "def print_hello_world():\n",
      "    \"\"\"\n",
      "    这是一个简单的函数，其功能是输出\"Hello world\"字符串。\n",
      "\n",
      "    说明：\n",
      "    本函数没有参数，也没有返回值。\n",
      "    \"\"\"\n",
      "    print(\"Hello world\")\n",
      "\n"
     ]
    }
   ],
   "source": [
    "with open('helloworld.py', encoding='utf-8') as f:\n",
    "    content = f.read()\n",
    "print(content)"
   ]
  },
  {
   "cell_type": "markdown",
   "id": "26e6d634-ad38-492f-b56e-41a8ff7aafdb",
   "metadata": {},
   "source": [
    "当然保存一份该函数的py文件主要是用于函数备份，方便跨操作空间对其进行调用（直接import即可）。而在本地，我们可以直接exec函数执行这个包装在字符串中的函数代码："
   ]
  },
  {
   "cell_type": "code",
   "execution_count": 229,
   "id": "8ffcc147-78fa-4b16-854f-b78a2e4d8198",
   "metadata": {
    "tags": []
   },
   "outputs": [],
   "source": [
    "exec(code_s)"
   ]
  },
  {
   "cell_type": "markdown",
   "id": "fdf77c3b-636e-40ee-b1a2-aa490bd69ea1",
   "metadata": {},
   "source": [
    "执行后，本地即可查看code_s代码定义的函数了："
   ]
  },
  {
   "cell_type": "code",
   "execution_count": 230,
   "id": "45e931a7-1fbe-4edf-8d5f-26008219f11f",
   "metadata": {
    "tags": []
   },
   "outputs": [
    {
     "data": {
      "text/plain": [
       "<function __main__.print_hello_world()>"
      ]
     },
     "execution_count": 230,
     "metadata": {},
     "output_type": "execute_result"
    }
   ],
   "source": [
    "print_hello_world"
   ]
  },
  {
   "cell_type": "markdown",
   "id": "90df08eb-42f7-49f9-8630-0d010c6e70ef",
   "metadata": {},
   "source": [
    "也可以直接执行该函数："
   ]
  },
  {
   "cell_type": "code",
   "execution_count": 232,
   "id": "1d7ca07c-9107-42dc-9d3f-1ab494571a02",
   "metadata": {
    "tags": []
   },
   "outputs": [
    {
     "name": "stdout",
     "output_type": "stream",
     "text": [
      "Hello world\n"
     ]
    }
   ],
   "source": [
    "print_hello_world()"
   ]
  },
  {
   "cell_type": "markdown",
   "id": "1f922c9a-69e3-446f-b6c9-a3e08ce89b05",
   "metadata": {},
   "source": [
    "接下来我们定义一个功能更加完整的extract_function_code函数。该函数可以同时在字符串中提取python代码，并提取该段代码的函数名称，同时对该函数进行同名py文件的本地保存，并在当前环境下执行该代码（定义该函数），同时可以选择打印函数的全部信息或者只是打印函数的名称："
   ]
  },
  {
   "cell_type": "code",
   "execution_count": 6,
   "id": "6a2209c8-bb42-4944-aeea-2fc6866e966d",
   "metadata": {
    "tags": []
   },
   "outputs": [],
   "source": [
    "def extract_function_code(s, detail=0):\n",
    "    \"\"\"\n",
    "    函数提取函数，同时执行函数内容，可以选择打印函数信息\n",
    "    \"\"\"\n",
    "    def extract_code(s):\n",
    "        \"\"\"\n",
    "        如果输入的字符串s是一个包含Python代码的Markdown格式字符串，提取出代码部分。\n",
    "        否则，返回原字符串。\n",
    "\n",
    "        参数:\n",
    "        s: 输入的字符串。\n",
    "\n",
    "        返回:\n",
    "        提取出的代码部分，或原字符串。\n",
    "        \"\"\"\n",
    "        # 判断字符串是否是Markdown格式\n",
    "        if '```python' in s or 'Python' in s or'PYTHON' in s:\n",
    "            # 找到代码块的开始和结束位置\n",
    "            code_start = s.find('def')\n",
    "            code_end = s.find('```\\n', code_start)\n",
    "            # 提取代码部分\n",
    "            code = s[code_start:code_end]\n",
    "        else:\n",
    "            # 如果字符串不是Markdown格式，返回原字符串\n",
    "            code = s\n",
    "\n",
    "        return code\n",
    "    \n",
    "    # 提取代码字符串\n",
    "    code = extract_code(s)\n",
    "    \n",
    "    # 提取函数名称\n",
    "    match = re.search(r'def (\\w+)', code)\n",
    "    function_name = match.group(1)\n",
    "    \n",
    "    # 将函数写入本地\n",
    "    with open('%s.py' % function_name, 'w', encoding='utf-8') as f:\n",
    "        f.write(code)\n",
    "    \n",
    "    # 执行该函数\n",
    "    try:\n",
    "        exec(code, globals())\n",
    "    except Exception as e:\n",
    "        print(\"An error occurred while executing the code:\")\n",
    "        print(e)\n",
    "    \n",
    "    # 打印函数名称\n",
    "    if detail == 0:\n",
    "        print(\"The function name is:%s\" % function_name)\n",
    "    \n",
    "    if detail == 1:\n",
    "        with open('%s.py' % function_name, encoding='utf-8') as f:\n",
    "            content = f.read()\n",
    "        print(content)"
   ]
  },
  {
   "cell_type": "markdown",
   "id": "e3237313-86a2-4c3c-9b6e-d79cb447322b",
   "metadata": {},
   "source": [
    "函数测试效果如下："
   ]
  },
  {
   "cell_type": "code",
   "execution_count": 38,
   "id": "7114e1f9-5c56-4d75-8ffb-b1241a05103d",
   "metadata": {
    "tags": []
   },
   "outputs": [
    {
     "data": {
      "text/plain": [
       "'```python\\ndef print_hello_world():\\n    \"\"\"\\n    这是一个简单的函数，其功能是输出\"Hello world\"字符串。\\n\\n    说明：\\n    本函数没有参数，也没有返回值。\\n    \"\"\"\\n    print(\"Hello world\")\\n```\\n当运行这个函数print_hello_world()时， it will print \"Hello world\" to the console.'"
      ]
     },
     "execution_count": 38,
     "metadata": {},
     "output_type": "execute_result"
    }
   ],
   "source": [
    "s"
   ]
  },
  {
   "cell_type": "code",
   "execution_count": 39,
   "id": "911174cf-4c3f-4a79-a3ab-4773e37f7086",
   "metadata": {
    "tags": []
   },
   "outputs": [
    {
     "name": "stdout",
     "output_type": "stream",
     "text": [
      "The function name is:print_hello_world\n"
     ]
    }
   ],
   "source": [
    "extract_function_code(s)"
   ]
  },
  {
   "cell_type": "code",
   "execution_count": 40,
   "id": "93a4ff27-4ade-4016-aa52-9844b50869b8",
   "metadata": {
    "tags": []
   },
   "outputs": [
    {
     "data": {
      "text/plain": [
       "\u001b[1;31mSignature:\u001b[0m \u001b[0mprint_hello_world\u001b[0m\u001b[1;33m(\u001b[0m\u001b[1;33m)\u001b[0m\u001b[1;33m\u001b[0m\u001b[1;33m\u001b[0m\u001b[0m\n",
       "\u001b[1;31mDocstring:\u001b[0m\n",
       "这是一个简单的函数，其功能是输出\"Hello world\"字符串。\n",
       "\n",
       "说明：\n",
       "本函数没有参数，也没有返回值。\n",
       "\u001b[1;31mFile:\u001b[0m      Dynamically generated function. No source code available.\n",
       "\u001b[1;31mType:\u001b[0m      function"
      ]
     },
     "metadata": {},
     "output_type": "display_data"
    }
   ],
   "source": [
    "print_hello_world?"
   ]
  },
  {
   "cell_type": "code",
   "execution_count": 41,
   "id": "57c41598-548b-4f23-a08e-6f88e7351e4c",
   "metadata": {
    "tags": []
   },
   "outputs": [
    {
     "name": "stdout",
     "output_type": "stream",
     "text": [
      "def print_hello_world():\n",
      "    \"\"\"\n",
      "    这是一个简单的函数，其功能是输出\"Hello world\"字符串。\n",
      "\n",
      "    说明：\n",
      "    本函数没有参数，也没有返回值。\n",
      "    \"\"\"\n",
      "    print(\"Hello world\")\n",
      "\n"
     ]
    }
   ],
   "source": [
    "extract_function_code(s, detail=1)"
   ]
  },
  {
   "cell_type": "markdown",
   "id": "de5a0c94-3072-40cd-b575-b78543a4adf4",
   "metadata": {},
   "source": [
    "有了该函数，后续我们即可更加便捷的将Chat模型输出结果一键进行函数提取、保存和运行。"
   ]
  },
  {
   "cell_type": "markdown",
   "id": "512ad5f9-0f0e-4f31-94f8-aec20e1a0bd4",
   "metadata": {},
   "source": [
    "- 借助Chat函数编写统计邮箱全部邮件个数的函数"
   ]
  },
  {
   "cell_type": "markdown",
   "id": "a1d5b3c8-0e72-4d07-81fb-191ce5c994e5",
   "metadata": {},
   "source": [
    "&emsp;&emsp;在这个流程基础之上，接下来我们尝试引导让Chat函数直接编写符合要求的外部函数——一个用于统计邮箱全部邮件个数的函数。这里考虑到代码创建的稳健性，我们采用Few-shot的方式对其进行提示，即以get_latest_email为例，教会模型如何创建一个类似的用于统计全部邮件个数的函数。此前定义的get_latest_email函数如下："
   ]
  },
  {
   "cell_type": "code",
   "execution_count": 7,
   "id": "67d6a23f-d48b-4659-92f6-ad1f5fb67002",
   "metadata": {
    "tags": []
   },
   "outputs": [],
   "source": [
    "def get_latest_email(userId):\n",
    "    \"\"\"\n",
    "    查询Gmail邮箱中最后一封邮件信息\n",
    "    :param userId: 必要参数，字符串类型，用于表示需要查询的邮箱ID，\\\n",
    "    注意，当查询我的邮箱时，userId需要输入'me'；\n",
    "    :return：包含最后一封邮件全部信息的对象，该对象由Gmail API创建得到，且保存为JSON格式\n",
    "    \"\"\"\n",
    "    # 从本地文件中加载凭据\n",
    "    creds = Credentials.from_authorized_user_file('token.json')\n",
    "    \n",
    "    # 创建 Gmail API 客户端\n",
    "    service = build('gmail', 'v1', credentials=creds)\n",
    "    \n",
    "    # 列出用户的一封最新邮件\n",
    "    results = service.users().messages().list(userId=userId, maxResults=1).execute()\n",
    "    messages = results.get('messages', [])\n",
    "\n",
    "    # 遍历邮件\n",
    "    for message in messages:\n",
    "        # 获取邮件的详细信息\n",
    "        msg = service.users().messages().get(userId='me', id=message['id']).execute()\n",
    "        \n",
    "    return json.dumps(msg)"
   ]
  },
  {
   "cell_type": "markdown",
   "id": "0bb022b4-30a5-4ba0-99c4-2aa3efcc4dae",
   "metadata": {},
   "source": [
    "为了更加灵活的进行函数源码和字符串的转化，我们可以通过inspect.getsource方式直接提取上述函数的代码并采用字符串格式进行输出："
   ]
  },
  {
   "cell_type": "code",
   "execution_count": 90,
   "id": "0c619616-dec5-4e7f-a195-8b1596e1f44f",
   "metadata": {
    "tags": []
   },
   "outputs": [],
   "source": [
    "code = inspect.getsource(get_latest_email)"
   ]
  },
  {
   "cell_type": "code",
   "execution_count": 96,
   "id": "bf19d49e-3d32-4605-bfaa-6bc5dc8ab77a",
   "metadata": {
    "tags": []
   },
   "outputs": [
    {
     "data": {
      "text/plain": [
       "'def get_latest_email(userId):\\n    \"\"\"\\n    查询Gmail邮箱中最后一封邮件信息\\n    :param userId: 必要参数，字符串类型，用于表示需要查询的邮箱ID，\\\\\\n    注意，当查询我的邮箱时，userId需要输入\\'me\\'；\\n    :return：包含最后一封邮件全部信息的对象，该对象由Gmail API创建得到，且保存为JSON格式\\n    \"\"\"\\n    # 从本地文件中加载凭据\\n    creds = Credentials.from_authorized_user_file(\\'token.json\\')\\n    \\n    # 创建 Gmail API 客户端\\n    service = build(\\'gmail\\', \\'v1\\', credentials=creds)\\n    \\n    # 列出用户的一封最新邮件\\n    results = service.users().messages().list(userId=userId, maxResults=1).execute()\\n    messages = results.get(\\'messages\\', [])\\n\\n    # 遍历邮件\\n    for message in messages:\\n        # 获取邮件的详细信息\\n        msg = service.users().messages().get(userId=\\'me\\', id=message[\\'id\\']).execute()\\n        \\n    return json.dumps(msg)\\n'"
      ]
     },
     "execution_count": 96,
     "metadata": {},
     "output_type": "execute_result"
    }
   ],
   "source": [
    "code"
   ]
  },
  {
   "cell_type": "markdown",
   "id": "d39e2b2a-8de1-498b-ab03-1910c9c8c809",
   "metadata": {},
   "source": [
    "当然，也可以考虑将其写入本地："
   ]
  },
  {
   "cell_type": "code",
   "execution_count": 91,
   "id": "c2b26b49-8558-4664-9701-bfeddc388781",
   "metadata": {
    "tags": []
   },
   "outputs": [],
   "source": [
    "# 写入本地\n",
    "with open('%s.py' % 'get_latest_email', 'w', encoding='utf-8') as f:\n",
    "    f.write(code)"
   ]
  },
  {
   "cell_type": "markdown",
   "id": "dd3e9797-39d0-4afe-96ff-a0bff7103b99",
   "metadata": {},
   "source": [
    "从而方便下次调用其源码字符串："
   ]
  },
  {
   "cell_type": "code",
   "execution_count": 93,
   "id": "4c834a3d-1ace-4a64-ab18-eea8689fe93b",
   "metadata": {
    "tags": []
   },
   "outputs": [],
   "source": [
    "with open('%s.py' % 'get_latest_email', encoding='utf-8') as f:\n",
    "    content = f.read()"
   ]
  },
  {
   "cell_type": "code",
   "execution_count": 94,
   "id": "856ce1b9-1d0e-4f6f-a6d6-773602f1182d",
   "metadata": {
    "tags": []
   },
   "outputs": [
    {
     "data": {
      "text/plain": [
       "'def get_latest_email(userId):\\n    \"\"\"\\n    查询Gmail邮箱中最后一封邮件信息\\n    :param userId: 必要参数，字符串类型，用于表示需要查询的邮箱ID，\\\\\\n    注意，当查询我的邮箱时，userId需要输入\\'me\\'；\\n    :return：包含最后一封邮件全部信息的对象，该对象由Gmail API创建得到，且保存为JSON格式\\n    \"\"\"\\n    # 从本地文件中加载凭据\\n    creds = Credentials.from_authorized_user_file(\\'token.json\\')\\n    \\n    # 创建 Gmail API 客户端\\n    service = build(\\'gmail\\', \\'v1\\', credentials=creds)\\n    \\n    # 列出用户的一封最新邮件\\n    results = service.users().messages().list(userId=userId, maxResults=1).execute()\\n    messages = results.get(\\'messages\\', [])\\n\\n    # 遍历邮件\\n    for message in messages:\\n        # 获取邮件的详细信息\\n        msg = service.users().messages().get(userId=\\'me\\', id=message[\\'id\\']).execute()\\n        \\n    return json.dumps(msg)\\n'"
      ]
     },
     "execution_count": 94,
     "metadata": {},
     "output_type": "execute_result"
    }
   ],
   "source": [
    "content"
   ]
  },
  {
   "cell_type": "markdown",
   "id": "7e70dce6-6d6b-4b0b-a961-ce7b0ccb63cf",
   "metadata": {},
   "source": [
    "接下来是具体的Few-shot提示过程："
   ]
  },
  {
   "cell_type": "code",
   "execution_count": 98,
   "id": "16e6a5f1-461a-465a-97a4-75127b9559c1",
   "metadata": {
    "tags": []
   },
   "outputs": [],
   "source": [
    "system_content = \"我现在已完成Gmail API授权，授权文件为本地文件token.json。\""
   ]
  },
  {
   "cell_type": "code",
   "execution_count": 99,
   "id": "dca84bdf-2f12-4534-bfd1-a3556517731c",
   "metadata": {
    "tags": []
   },
   "outputs": [],
   "source": [
    "user_example_content = \"请帮我编写一个python函数，用于查看我的Gmail邮箱中最后一封邮件信息，函数要求如下：\\\n",
    "                        1.函数参数userId，userId是字符串参数，默认情况下取值为'me'，表示查看我的邮件；\\\n",
    "                        2.函数返回结果是一个包含最后一封邮件信息的对象，返回结果本身必须是一个json格式对象；\\\n",
    "                        3.请将全部功能封装在一个函数内；\\\n",
    "                        4.请在函数编写过程中，在函数内部加入中文编写的详细的函数说明文档，用于说明函数功能、函数参数情况以及函数返回结果等信息；\""
   ]
  },
  {
   "cell_type": "code",
   "execution_count": 100,
   "id": "bab7c641-2721-43a6-af16-7b23f02dacd5",
   "metadata": {
    "tags": []
   },
   "outputs": [],
   "source": [
    "with open('%s.py' % 'get_latest_email', encoding='utf-8') as f:\n",
    "    assistant_example_content = f.read()"
   ]
  },
  {
   "cell_type": "code",
   "execution_count": 101,
   "id": "15bc97e3-45be-4b98-ba13-851ee7fb6056",
   "metadata": {
    "tags": []
   },
   "outputs": [
    {
     "data": {
      "text/plain": [
       "'def get_latest_email(userId):\\n    \"\"\"\\n    查询Gmail邮箱中最后一封邮件信息\\n    :param userId: 必要参数，字符串类型，用于表示需要查询的邮箱ID，\\\\\\n    注意，当查询我的邮箱时，userId需要输入\\'me\\'；\\n    :return：包含最后一封邮件全部信息的对象，该对象由Gmail API创建得到，且保存为JSON格式\\n    \"\"\"\\n    # 从本地文件中加载凭据\\n    creds = Credentials.from_authorized_user_file(\\'token.json\\')\\n    \\n    # 创建 Gmail API 客户端\\n    service = build(\\'gmail\\', \\'v1\\', credentials=creds)\\n    \\n    # 列出用户的一封最新邮件\\n    results = service.users().messages().list(userId=userId, maxResults=1).execute()\\n    messages = results.get(\\'messages\\', [])\\n\\n    # 遍历邮件\\n    for message in messages:\\n        # 获取邮件的详细信息\\n        msg = service.users().messages().get(userId=\\'me\\', id=message[\\'id\\']).execute()\\n        \\n    return json.dumps(msg)\\n'"
      ]
     },
     "execution_count": 101,
     "metadata": {},
     "output_type": "execute_result"
    }
   ],
   "source": [
    "assistant_example_content"
   ]
  },
  {
   "cell_type": "code",
   "execution_count": 80,
   "id": "faddbe15-ba1e-46fc-8481-c22acf8f0d75",
   "metadata": {
    "tags": []
   },
   "outputs": [],
   "source": [
    "user_content = \"请帮我编写一个python函数，用于查看我的Gmail邮箱中总共有多少封邮件，函数要求如下：\\\n",
    "                1.函数参数userId，userId是字符串参数，默认情况下取值为'me'，表示查看我的邮件；\\\n",
    "                2.函数返回结果是当前邮件总数，返回结果本身必须是一个json格式对象；\\\n",
    "                3.请将全部功能封装在一个函数内；\\\n",
    "                4.请在函数编写过程中，在函数内部加入中文编写的详细的函数说明文档，用于说明函数功能、函数参数情况以及函数返回结果等信息；\""
   ]
  },
  {
   "cell_type": "code",
   "execution_count": 102,
   "id": "1b23e561-aa81-4ffc-ae7b-86a103a30e74",
   "metadata": {
    "tags": []
   },
   "outputs": [],
   "source": [
    "messages=[{\"role\": \"system\", \"content\": system_content},\n",
    "          {\"role\": \"user\", \"name\":\"example_user\", \"content\": user_example_content},\n",
    "          {\"role\": \"assistant\", \"name\":\"example_assistant\", \"content\": assistant_example_content},\n",
    "          {\"role\": \"user\", \"name\":\"example_user\", \"content\": user_content}]"
   ]
  },
  {
   "cell_type": "markdown",
   "id": "0ed5a4f8-6b18-4d2e-ac6a-3151c53f77a6",
   "metadata": {},
   "source": [
    "这里需要注意，Chat模型的提示方法和ChatGPT的提示方法有很大的区别，哪怕是为了传递相同的意思，二者有效的提示方法可能也会有很大的区别，因此具体如何提示需要勤加练习并反复多次进行测试："
   ]
  },
  {
   "cell_type": "code",
   "execution_count": 103,
   "id": "a6aec370-7ac2-4977-8cad-3f5458f7cdf6",
   "metadata": {
    "tags": []
   },
   "outputs": [],
   "source": [
    "response = openai.ChatCompletion.create(\n",
    "  model=\"gpt-4-0613\",\n",
    "  messages=messages\n",
    ")"
   ]
  },
  {
   "cell_type": "code",
   "execution_count": 104,
   "id": "342d0330-a887-44f6-9ef8-e26e08537209",
   "metadata": {
    "tags": []
   },
   "outputs": [
    {
     "data": {
      "text/plain": [
       "'def get_email_counts(userId=\\'me\\'):\\n    \"\"\"\\n    查询Gmail邮箱中邮件总数\\n    :param userId: 必要参数，字符串类型，用于表示需要查询的邮箱ID，\\\\\\n    注意，当查询我的邮箱时，userId需要输入\\'me\\'；\\n    :return：邮件总数，返回结果本身必须是一个json格式对象\\n    \"\"\"\\n    # 从本地文件中加载凭据\\n    creds = Credentials.from_authorized_user_file(\\'token.json\\')\\n\\n    # 创建 Gmail API 客户端\\n    service = build(\\'gmail\\', \\'v1\\', credentials=creds)\\n\\n    # 列出用户的所有邮件\\n    results = service.users().messages().list(userId=userId).execute()\\n    messages = results.get(\\'messages\\', [])\\n\\n    # 获得邮件数量\\n    email_counts = len(messages)\\n\\n    return json.dumps({\"email_counts\": email_counts})\\n'"
      ]
     },
     "execution_count": 104,
     "metadata": {},
     "output_type": "execute_result"
    }
   ],
   "source": [
    "s = response.choices[0].message['content']\n",
    "s"
   ]
  },
  {
   "cell_type": "code",
   "execution_count": 106,
   "id": "03beeffe-c1e0-43dd-bb13-6fe2522b74d5",
   "metadata": {
    "tags": []
   },
   "outputs": [
    {
     "name": "stdout",
     "output_type": "stream",
     "text": [
      "The function name is:get_email_counts\n"
     ]
    }
   ],
   "source": [
    "extract_function_code(s, detail=0)"
   ]
  },
  {
   "cell_type": "code",
   "execution_count": 107,
   "id": "e760feaa-d8be-407c-a3b9-b7449976a4f2",
   "metadata": {
    "collapsed": true,
    "jupyter": {
     "outputs_hidden": true
    },
    "tags": []
   },
   "outputs": [
    {
     "name": "stdout",
     "output_type": "stream",
     "text": [
      "def get_email_counts(userId='me'):\n",
      "    \"\"\"\n",
      "    查询Gmail邮箱中邮件总数\n",
      "    :param userId: 必要参数，字符串类型，用于表示需要查询的邮箱ID，\\\n",
      "    注意，当查询我的邮箱时，userId需要输入'me'；\n",
      "    :return：邮件总数，返回结果本身必须是一个json格式对象\n",
      "    \"\"\"\n",
      "    # 从本地文件中加载凭据\n",
      "    creds = Credentials.from_authorized_user_file('token.json')\n",
      "\n",
      "    # 创建 Gmail API 客户端\n",
      "    service = build('gmail', 'v1', credentials=creds)\n",
      "\n",
      "    # 列出用户的所有邮件\n",
      "    results = service.users().messages().list(userId=userId).execute()\n",
      "    messages = results.get('messages', [])\n",
      "\n",
      "    # 获得邮件数量\n",
      "    email_counts = len(messages)\n",
      "\n",
      "    return json.dumps({\"email_counts\": email_counts})\n",
      "\n"
     ]
    }
   ],
   "source": [
    "extract_function_code(s, detail=1)"
   ]
  },
  {
   "cell_type": "markdown",
   "id": "e0a39bfd-2080-406a-9cff-f6eea1d2b46f",
   "metadata": {},
   "source": [
    "此时就完成了函数的提取和定义，接下来测试该函数能否顺利运行："
   ]
  },
  {
   "cell_type": "code",
   "execution_count": 110,
   "id": "b0930b9e-5394-484f-8aa0-8a04a036250e",
   "metadata": {
    "tags": []
   },
   "outputs": [
    {
     "data": {
      "text/plain": [
       "\u001b[1;31mSignature:\u001b[0m \u001b[0mget_email_counts\u001b[0m\u001b[1;33m(\u001b[0m\u001b[0muserId\u001b[0m\u001b[1;33m=\u001b[0m\u001b[1;34m'me'\u001b[0m\u001b[1;33m)\u001b[0m\u001b[1;33m\u001b[0m\u001b[1;33m\u001b[0m\u001b[0m\n",
       "\u001b[1;31mDocstring:\u001b[0m\n",
       "查询Gmail邮箱中邮件总数\n",
       ":param userId: 必要参数，字符串类型，用于表示需要查询的邮箱ID，    注意，当查询我的邮箱时，userId需要输入'me'；\n",
       ":return：邮件总数，返回结果本身必须是一个json格式对象\n",
       "\u001b[1;31mFile:\u001b[0m      Dynamically generated function. No source code available.\n",
       "\u001b[1;31mType:\u001b[0m      function"
      ]
     },
     "metadata": {},
     "output_type": "display_data"
    }
   ],
   "source": [
    "get_email_counts?"
   ]
  },
  {
   "cell_type": "code",
   "execution_count": 112,
   "id": "d0505143-dc24-4076-8635-835cb82a2da7",
   "metadata": {
    "tags": []
   },
   "outputs": [
    {
     "data": {
      "text/plain": [
       "'{\"email_counts\": 14}'"
      ]
     },
     "execution_count": 112,
     "metadata": {},
     "output_type": "execute_result"
    }
   ],
   "source": [
    "get_email_counts()"
   ]
  },
  {
   "cell_type": "markdown",
   "id": "121c01e1-9f52-4e4d-aee4-5bda07b40a0f",
   "metadata": {},
   "source": [
    "能够发现，该函数能够正确统计当前邮箱的邮件个数。接下来进入函数是否可以作为外部函数的测试环节。首先第一步是测试该函数能否能被顺利的转化为functions参数："
   ]
  },
  {
   "cell_type": "code",
   "execution_count": 113,
   "id": "271e5b7f-16df-4ede-b8ea-1299f37c2c91",
   "metadata": {
    "tags": []
   },
   "outputs": [],
   "source": [
    "functions_list = [get_email_counts]"
   ]
  },
  {
   "cell_type": "code",
   "execution_count": 114,
   "id": "4c76176e-5e5a-4b50-8bbc-9533fedffef7",
   "metadata": {
    "tags": []
   },
   "outputs": [
    {
     "data": {
      "text/plain": [
       "[{'name': 'get_email_counts',\n",
       "  'description': '查询Gmail邮箱中邮件总数',\n",
       "  'parameters': {'type': 'object',\n",
       "   'properties': {'userId': {'type': 'string',\n",
       "     'description': \"需要查询的邮箱ID，查询我的邮箱时，需要输入'me'\"}},\n",
       "   'required': ['userId']}}]"
      ]
     },
     "execution_count": 114,
     "metadata": {},
     "output_type": "execute_result"
    }
   ],
   "source": [
    "functions = auto_functions(functions_list)\n",
    "functions"
   ]
  },
  {
   "cell_type": "markdown",
   "id": "b34aa047-479f-44b1-bb7e-c99442dccc43",
   "metadata": {},
   "source": [
    "第二步是测试functions函数说明能否被Chat模型正确识别："
   ]
  },
  {
   "cell_type": "code",
   "execution_count": 115,
   "id": "1aacb269-e07e-40a2-9d35-c6aa106cbd93",
   "metadata": {
    "tags": []
   },
   "outputs": [],
   "source": [
    "response = openai.ChatCompletion.create(\n",
    "        model=\"gpt-4-0613\",\n",
    "        messages=[{\"role\": \"user\", \"content\": '请帮我查下邮箱里现在总共有多少封邮件'}],\n",
    "        functions=functions,\n",
    "        function_call=\"auto\",  \n",
    "    )"
   ]
  },
  {
   "cell_type": "code",
   "execution_count": 116,
   "id": "f5033748-40b6-479e-aac9-4e7f0fe50539",
   "metadata": {
    "tags": []
   },
   "outputs": [
    {
     "data": {
      "text/plain": [
       "<OpenAIObject chat.completion id=chatcmpl-7f6pcBEMRBkTKXUfUfNVbGuZcsNPp at 0x2632e076cf0> JSON: {\n",
       "  \"id\": \"chatcmpl-7f6pcBEMRBkTKXUfUfNVbGuZcsNPp\",\n",
       "  \"object\": \"chat.completion\",\n",
       "  \"created\": 1690032064,\n",
       "  \"model\": \"gpt-4-0613\",\n",
       "  \"choices\": [\n",
       "    {\n",
       "      \"index\": 0,\n",
       "      \"message\": {\n",
       "        \"role\": \"assistant\",\n",
       "        \"content\": null,\n",
       "        \"function_call\": {\n",
       "          \"name\": \"get_email_counts\",\n",
       "          \"arguments\": \"{\\n  \\\"userId\\\": \\\"me\\\"\\n}\"\n",
       "        }\n",
       "      },\n",
       "      \"finish_reason\": \"function_call\"\n",
       "    }\n",
       "  ],\n",
       "  \"usage\": {\n",
       "    \"prompt_tokens\": 89,\n",
       "    \"completion_tokens\": 16,\n",
       "    \"total_tokens\": 105\n",
       "  }\n",
       "}"
      ]
     },
     "execution_count": 116,
     "metadata": {},
     "output_type": "execute_result"
    }
   ],
   "source": [
    "response"
   ]
  },
  {
   "cell_type": "markdown",
   "id": "62559c11-183f-45ca-a0a3-0a6bd4295d27",
   "metadata": {},
   "source": [
    "最后来测试下带入多轮对话函数的对话效果："
   ]
  },
  {
   "cell_type": "code",
   "execution_count": 117,
   "id": "bf527147-8717-4eb1-9345-3e3461dba77f",
   "metadata": {
    "tags": []
   },
   "outputs": [
    {
     "name": "stdout",
     "output_type": "stream",
     "text": [
      "模型回答: 你好！很高兴为你提供服务，有什么可以帮助你的吗？\n"
     ]
    },
    {
     "name": "stdin",
     "output_type": "stream",
     "text": [
      "您还有其他问题吗？(输入退出以结束对话):  请帮我查下邮箱里现在总共有多少封邮件\n"
     ]
    },
    {
     "name": "stdout",
     "output_type": "stream",
     "text": [
      "模型回答: 您的邮箱里共有14封邮件。\n"
     ]
    },
    {
     "name": "stdin",
     "output_type": "stream",
     "text": [
      "您还有其他问题吗？(输入退出以结束对话):  退出\n"
     ]
    }
   ],
   "source": [
    "chat_with_model(functions_list=functions_list)"
   ]
  },
  {
   "cell_type": "markdown",
   "id": "a89dfc56-50d0-4a2d-80ea-86d72102b4e2",
   "metadata": {},
   "source": [
    "至此，我们就完成了统计邮件总数的函数编写。当前外部函数编写的效率在extract_function_code函数加持下已经非常高了，我们只需要少量的人工来编写prompt、并围绕新函数进行测试，即可完成外部函数的编写。"
   ]
  },
  {
   "cell_type": "markdown",
   "id": "e23febb8-452a-419c-bdde-dfa2d85704a2",
   "metadata": {},
   "source": [
    "&emsp;&emsp;但是，大家有没有想过，当前AI应用的开发流程其实还可以更加高效一些——面对大量潜在的未知用户需求（比如现在我想查看下邮箱里是否有陈明发来的未读邮件），我们或许可以借助大语言模型，即时将用户的需求翻译成外部函数创建的prompt，然后即时创建外部函数加入到Chat模型中来实时更新Chat模型能力，并最终提供更加完善的解决方案。这其实是一种更高级的自动化形式——大模型不仅可以编写功能实现的代码，而且需求到功能的过程也可以由大模型自己来进行总结。而若能做到这一点，此时这个产品的功能就相当于是可以实现自生长（根据用户的需求实时成长），毫无疑问，这样的一个开发过程，才更加贴近我们想象中的智能化开发过程。"
   ]
  },
  {
   "cell_type": "markdown",
   "id": "a645bafd-2497-488b-bbe9-f0b6b41c9599",
   "metadata": {},
   "source": [
    "> 就像《流量地球2》中能够实时生成操作系统的550W。"
   ]
  },
  {
   "cell_type": "markdown",
   "id": "32d2060f-5fb2-4189-90f0-34a8780c3fc9",
   "metadata": {},
   "source": [
    "&emsp;&emsp;当然，需要说明的是，对于这样的一种大语言模型的高层次应用，截止目前，受限于大语言模型本身的能力，并不能完全应用于软件开发的各个方面（比如无法实时生成操作系统）。但是，尝试将大语言模型应用于创建功能自生长的AI应用当中，仍然是极具价值的尝试，哪怕在部分场景下能够实现需求到功能的自设计和函数自编写，都将为软件开流程带来革命性的效率提升，因此，我们也非常有必要在课程中介绍和讨论这部分大模型的应用方法。"
   ]
  }
 ],
 "metadata": {
  "kernelspec": {
   "display_name": "Python 3 (ipykernel)",
   "language": "python",
   "name": "python3"
  },
  "language_info": {
   "codemirror_mode": {
    "name": "ipython",
    "version": 3
   },
   "file_extension": ".py",
   "mimetype": "text/x-python",
   "name": "python",
   "nbconvert_exporter": "python",
   "pygments_lexer": "ipython3",
   "version": "3.10.10"
  }
 },
 "nbformat": 4,
 "nbformat_minor": 5
}
