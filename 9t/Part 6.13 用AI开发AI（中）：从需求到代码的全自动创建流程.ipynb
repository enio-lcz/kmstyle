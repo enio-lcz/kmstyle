{
 "cells": [
  {
   "cell_type": "markdown",
   "id": "a65cfc8d-66ce-4dd2-9a12-c77cc98dbe94",
   "metadata": {},
   "source": [
    "# <center>OpenAI在线大模型调用及微调方法"
   ]
  },
  {
   "cell_type": "markdown",
   "id": "38a6717d-d9c9-4100-9a65-ebc490f19f28",
   "metadata": {},
   "source": [
    "## <center>Ch.13 用AI开发AI（中）：全自动函数编写策略"
   ]
  },
  {
   "cell_type": "markdown",
   "id": "9e1b3bde-58b7-4524-88da-6e59b39ac5e9",
   "metadata": {},
   "source": [
    "&emsp;&emsp;在上一小节中，我们尝试了在本地搭建Chat模型代码生成、验证和保存的全套流程，进而辅助完成高效的代码开发工作。接下来，我们进一步深化大模型在实际开发过程中的作用，即尝试梳理当前开发流程中的核心环节，并尝试借助Chat模型完成各核心环节的工作。"
   ]
  },
  {
   "cell_type": "markdown",
   "id": "ab55dc0b-83c8-4c96-a5d0-5ebaede4125b",
   "metadata": {},
   "source": [
    "- 软件开发过程利用大语言模型提高开发效率的不同阶段"
   ]
  },
  {
   "cell_type": "markdown",
   "id": "7fa2b4dd-dc97-4258-ac90-12bbacdc6fdf",
   "metadata": {},
   "source": [
    "<center><img src=\"https://ml2022.oss-cn-hangzhou.aliyuncs.com/img/702fe4b67f1781de14a5e217a2d923b.png\" alt=\"702fe4b67f1781de14a5e217a2d923b\" style=\"zoom:33%;\" />"
   ]
  },
  {
   "cell_type": "code",
   "execution_count": 1,
   "id": "f41f2227-aaf1-4074-a9e6-a4339efd6c24",
   "metadata": {
    "scrolled": true,
    "tags": []
   },
   "outputs": [],
   "source": [
    "import os\n",
    "import openai\n",
    "import glob\n",
    "import shutil\n",
    "openai.api_key = os.getenv(\"OPENAI_API_KEY\")\n",
    "\n",
    "import numpy as np\n",
    "import pandas as pd\n",
    "\n",
    "import json\n",
    "import io\n",
    "import inspect\n",
    "import requests\n",
    "import re\n",
    "\n",
    "from googleapiclient.discovery import build\n",
    "from google.oauth2.credentials import Credentials\n",
    "from google_auth_oauthlib.flow import InstalledAppFlow\n",
    "import base64\n",
    "import email\n",
    "from email import policy\n",
    "from email.parser import BytesParser\n",
    "from email.mime.text import MIMEText\n",
    "\n",
    "from bs4 import BeautifulSoup\n",
    "import dateutil.parser as parser\n",
    "\n",
    "import sys\n",
    "sys.path.insert(0, '.\\\\functions\\\\untested functions')\n",
    "sys.path.insert(0, '.\\\\functions\\\\tested functions')\n",
    "from gptLearning import *"
   ]
  },
  {
   "cell_type": "code",
   "execution_count": 2,
   "id": "dbb6d5e4-a348-4faa-baea-5b7adc9bfd74",
   "metadata": {
    "tags": []
   },
   "outputs": [],
   "source": [
    "def retrieve_emails(n, user_id='me'):\n",
    "    \"\"\"\n",
    "    获取指定数量的最近邮件。\n",
    "\n",
    "    参数:\n",
    "    n: 要检索的邮件的数量。这应该是一个整数。\n",
    "    user_id: 要检索邮件的用户的ID。默认值是'me'，表示当前授权的用户。\n",
    "\n",
    "    返回:\n",
    "    一个列表，其中每个元素都是一个字典，表示一封邮件。每个字典包含以下键：\n",
    "    'From': 发件人的邮箱地址。\n",
    "    'Date': 邮件的发送日期。\n",
    "    'Subject': 邮件的主题。\n",
    "    'Snippet': 邮件的摘要（前100个字符）。\n",
    "    \"\"\"\n",
    "    # 从本地文件中加载凭据\n",
    "    creds = Credentials.from_authorized_user_file('token.json')\n",
    "\n",
    "    # 创建 Gmail API 客户端\n",
    "    service = build('gmail', 'v1', credentials=creds)\n",
    "\n",
    "    # 获取邮件列表\n",
    "    results = service.users().messages().list(userId=user_id).execute()\n",
    "    messages = results.get('messages', [])[:n]\n",
    "\n",
    "    emails = []\n",
    "    for message in messages:\n",
    "        msg = service.users().messages().get(userId=user_id, id=message['id']).execute()\n",
    "\n",
    "        # 解码邮件内容\n",
    "        payload = msg['payload']\n",
    "        headers = payload.get(\"headers\")\n",
    "        parts = payload.get(\"parts\")\n",
    "\n",
    "        data = {}\n",
    "\n",
    "        if headers:\n",
    "            for d in headers:\n",
    "                name = d.get(\"name\")\n",
    "                if name.lower() == \"from\":\n",
    "                    data['From'] = d.get(\"value\")\n",
    "                if name.lower() == \"date\":\n",
    "                    data['Date'] = parser.parse(d.get(\"value\")).strftime('%Y-%m-%d %H:%M:%S')\n",
    "                if name.lower() == \"subject\":\n",
    "                    data['Subject'] = d.get(\"value\")\n",
    "\n",
    "        if parts:\n",
    "            for part in parts:\n",
    "                mimeType = part.get(\"mimeType\")\n",
    "                body = part.get(\"body\")\n",
    "                data_decoded = base64.urlsafe_b64decode(body.get(\"data\")).decode()\n",
    "                if mimeType == \"text/plain\":\n",
    "                    data['Snippet'] = data_decoded\n",
    "                elif mimeType == \"text/html\":\n",
    "                    soup = BeautifulSoup(data_decoded, \"html.parser\")\n",
    "                    data['Snippet'] = soup.get_text()\n",
    "\n",
    "        emails.append(data)\n",
    "\n",
    "    # 返回邮件列表\n",
    "    return json.dumps(emails, indent=2)"
   ]
  },
  {
   "cell_type": "markdown",
   "id": "d0afccb4-6fcd-46a4-bdca-f5298be797c7",
   "metadata": {},
   "source": [
    "### 1.借助Few-shot完成需求函数的自动编写"
   ]
  },
  {
   "cell_type": "markdown",
   "id": "f39d6ddb-f72b-4162-9d44-e0d0e0567632",
   "metadata": {},
   "source": [
    "&emsp;&emsp;在此前的内容中，我们已经成功的围绕某个具体的需求实现了让Chat模型自己编写代码完成需求。因此，现在距离让我们的智能邮件收发系统实现功能上的自生长就还剩下最后的关键一步，那就是将用户的实时需求进行翻译和整理，并形成一整套自动代码流程和提示方法，来引导模型进行对应的外部函数创建。这里我们假设在当前对话过程中，用户提出了一个全新的需求，那就是想要查看邮箱里是否有某位重要人物的未读邮件，并帮我解读邮件里面的内容。很明显我们此前定义的一系列外部函数都无法满足当前需求："
   ]
  },
  {
   "cell_type": "code",
   "execution_count": 358,
   "id": "93659339-3f13-40ad-8c39-d03a2660540f",
   "metadata": {
    "tags": []
   },
   "outputs": [],
   "source": [
    "functions_list = [get_latest_email, send_email, retrieve_emails, get_email_counts]"
   ]
  },
  {
   "cell_type": "code",
   "execution_count": 359,
   "id": "77d161ca-7ce1-46ba-978d-14eb4446270b",
   "metadata": {
    "tags": []
   },
   "outputs": [],
   "source": [
    "functions = auto_functions(functions_list)"
   ]
  },
  {
   "cell_type": "code",
   "execution_count": 459,
   "id": "21a7f894-87b9-4014-8aba-49620615fcd3",
   "metadata": {
    "tags": []
   },
   "outputs": [],
   "source": [
    "messages = [{\"role\": \"user\", \"content\": '请帮我查我的邮箱里是否有来自端木天的未读邮件，如果有的话请帮我解读下邮件内容。'}]"
   ]
  },
  {
   "cell_type": "code",
   "execution_count": 360,
   "id": "fec5b854-c19f-4abf-bc2a-a5cb4d1a7964",
   "metadata": {
    "tags": []
   },
   "outputs": [],
   "source": [
    "response = openai.ChatCompletion.create(\n",
    "        model=\"gpt-4-0613\",\n",
    "        messages=messages,\n",
    "        functions=functions,\n",
    "        function_call=\"auto\",  \n",
    "    )"
   ]
  },
  {
   "cell_type": "code",
   "execution_count": 361,
   "id": "8f378643-feb1-47e1-9809-774e6de1fc9a",
   "metadata": {
    "tags": []
   },
   "outputs": [
    {
     "data": {
      "text/plain": [
       "<OpenAIObject chat.completion id=chatcmpl-7fQGSV29Ve4krdVN7Xwz1M9veQDba at 0x2949e78af70> JSON: {\n",
       "  \"id\": \"chatcmpl-7fQGSV29Ve4krdVN7Xwz1M9veQDba\",\n",
       "  \"object\": \"chat.completion\",\n",
       "  \"created\": 1690106764,\n",
       "  \"model\": \"gpt-4-0613\",\n",
       "  \"choices\": [\n",
       "    {\n",
       "      \"index\": 0,\n",
       "      \"message\": {\n",
       "        \"role\": \"assistant\",\n",
       "        \"content\": \"\\u4f5c\\u4e3a\\u4e00\\u4e2aAI\\uff0c\\u6211\\u6ca1\\u6709\\u6743\\u9650\\u8bbf\\u95ee\\u60a8\\u7684\\u4e2a\\u4eba\\u90ae\\u7bb1\\u3002\\u6211\\u5efa\\u8bae\\u60a8\\u81ea\\u5df1\\u67e5\\u770b\\u90ae\\u7bb1\\uff0c\\u6309\\u7167\\u90ae\\u4ef6\\u7684\\u53d1\\u9001\\u8005\\u6216\\u8005\\u5728\\u641c\\u7d22\\u680f\\u8f93\\u5165\\\"\\u9648\\u660e\\\"\\u641c\\u7d22\\u4ee5\\u67e5\\u627e\\u76f8\\u5173\\u90ae\\u4ef6\\u3002\\u8bb0\\u5f97\\u4fdd\\u62a4\\u597d\\u60a8\\u7684\\u4e2a\\u4eba\\u4fe1\\u606f\\u54e6\\u3002\"\n",
       "      },\n",
       "      \"finish_reason\": \"stop\"\n",
       "    }\n",
       "  ],\n",
       "  \"usage\": {\n",
       "    \"prompt_tokens\": 27,\n",
       "    \"completion_tokens\": 70,\n",
       "    \"total_tokens\": 97\n",
       "  }\n",
       "}"
      ]
     },
     "execution_count": 361,
     "metadata": {},
     "output_type": "execute_result"
    }
   ],
   "source": [
    "response"
   ]
  },
  {
   "cell_type": "code",
   "execution_count": 362,
   "id": "1e7912f6-a686-4501-b9c7-b793279eda98",
   "metadata": {
    "tags": []
   },
   "outputs": [
    {
     "data": {
      "text/plain": [
       "'作为一个AI，我没有权限访问您的个人邮箱。我建议您自己查看邮箱，按照邮件的发送者或者在搜索栏输入\"陈明\"搜索以查找相关邮件。记得保护好您的个人信息哦。'"
      ]
     },
     "execution_count": 362,
     "metadata": {},
     "output_type": "execute_result"
    }
   ],
   "source": [
    "response.choices[0].message['content']"
   ]
  },
  {
   "cell_type": "markdown",
   "id": "7310cc06-1804-4ee7-9079-e369c9f5cf45",
   "metadata": {},
   "source": [
    "能够发现模型并没有找到能解决该问题外部函数，当前需求属于全新的需求。但从功能实现角度来说，这个功能和查询最近若干封邮件信息属于类似的功能，只要需求梳理到位、提示词合理，Chat模型应该是能按照要求编写实现该功能的函数的。"
   ]
  },
  {
   "cell_type": "markdown",
   "id": "ee417422-dde3-4144-b548-a00fe068a778",
   "metadata": {},
   "source": [
    "- 当前开发流程"
   ]
  },
  {
   "cell_type": "markdown",
   "id": "01cfe216-278a-4587-89ce-cb4665283d98",
   "metadata": {},
   "source": [
    "&emsp;&emsp;当然，为了更加自动的完成这个新增功能的实现过程，我们需要一个提示流程，让Chat模型自行编写用于提示大语言模型创建外部函数的提示词，即我们需要编写一个用于创建提示词的提示词："
   ]
  },
  {
   "cell_type": "markdown",
   "id": "f6e8af17-682f-4e0e-8780-ac06502f066a",
   "metadata": {},
   "source": [
    "<center><img src=\"https://ml2022.oss-cn-hangzhou.aliyuncs.com/img/5a74ea827ff69c59b4aec800caee481.png\" alt=\"5a74ea827ff69c59b4aec800caee481\" style=\"zoom:33%;\" />"
   ]
  },
  {
   "cell_type": "markdown",
   "id": "3547650c-d06b-40b9-aed1-94938c6c56bb",
   "metadata": {},
   "source": [
    "- Few-shot提示流程"
   ]
  },
  {
   "cell_type": "markdown",
   "id": "988deeaf-ab40-42f7-a3f8-f419f26f5ce0",
   "metadata": {},
   "source": [
    "&emsp;&emsp;仔细思考不难发现，这个提示词过程其实就是一个指令翻译过程，和我们在Ch.5中介绍的SCAN指令翻译任务类似。不过不同的是，SCAN指令翻译背后则是完全一套完全不同于自然语言的语法规则，而当前指令翻译任务相对简单，输入和输出都是可以基于自然语言的语义对其进行理解的，其背后的语法规则相对清晰。要完成这个指令翻译任务，让我们首先观察目前已有两个示例："
   ]
  },
  {
   "cell_type": "code",
   "execution_count": 49,
   "id": "7303436c-17ce-411f-9eef-7f84c1fd943d",
   "metadata": {
    "tags": []
   },
   "outputs": [],
   "source": [
    "get_email_input = \"请帮我查下邮箱里最后一封邮件内容。\"\n",
    "\n",
    "get_email_out = \"请帮我编写一个python函数，用于查看我的Gmail邮箱中最后一封邮件信息，函数要求如下：\\\n",
    "                 1.函数参数userId，userId是字符串参数，默认情况下取值为'me'，表示查看我的邮件；\\\n",
    "                 2.函数返回结果是一个包含最后一封邮件信息的对象，返回结果本身必须是一个json格式对象；\\\n",
    "                 3.请将全部功能封装在一个函数内；\\\n",
    "                 4.请在函数编写过程中，在函数内部加入中文编写的详细的函数说明文档，用于说明函数功能、函数参数情况以及函数返回结果等信息；\"\n",
    "\n",
    "email_counts_input = \"请帮我查下邮箱里现在总共有多少封邮件。\"\n",
    "\n",
    "email_counts_out = \"请帮我编写一个python函数，用于查看我的Gmail邮箱中总共有多少封邮件，函数要求如下：\\\n",
    "                    1.函数参数userId，userId是字符串参数，默认情况下取值为'me'，表示查看我的邮件；\\\n",
    "                    2.函数返回结果是当前邮件总数，返回结果本身必须是一个json格式对象；\\\n",
    "                    3.请将全部功能封装在一个函数内；\\\n",
    "                    4.请在函数编写过程中，在函数内部加入中文编写的详细的函数说明文档，用于说明函数功能、函数参数情况以及函数返回结果等信息；\""
   ]
  },
  {
   "cell_type": "markdown",
   "id": "9b7684fc-337f-45fd-b84d-83d0701eb472",
   "metadata": {},
   "source": [
    "而在Ch.4和Ch.5中我们曾介绍，激发大语言模型的涌现能力进行指令翻译，最简单的方法是进行Few-shot。这里我们尝试先将上面两个例子作为提示示例，然后输入我们新的需求：“请帮我查下邮箱里是否有来自端木天的未读邮件，并解读最近一封未读邮件的内容。”试下Few-shot提示法是否足够引导模型完成当前任务，如果不行的话我们就继续尝试更高级的类似于CoT或者LtM提示法。这里Few-shot提示流程如下："
   ]
  },
  {
   "cell_type": "code",
   "execution_count": 50,
   "id": "0aa20870-7329-405a-9af0-4a155a75a2f3",
   "metadata": {
    "tags": []
   },
   "outputs": [
    {
     "data": {
      "text/plain": [
       "[{'role': 'system', 'content': '请按照格式，编写一段函数功能说明。'},\n",
       " {'role': 'user', 'name': 'example1_user', 'content': '请帮我查下邮箱里最后一封邮件内容。'},\n",
       " {'role': 'assistant',\n",
       "  'name': 'example1_assistant',\n",
       "  'content': \"请帮我编写一个python函数，用于查看我的Gmail邮箱中最后一封邮件信息，函数要求如下：                 1.函数参数userId，userId是字符串参数，默认情况下取值为'me'，表示查看我的邮件；                 2.函数返回结果是一个包含最后一封邮件信息的对象，返回结果本身必须是一个json格式对象；                 3.请将全部功能封装在一个函数内；                 4.请在函数编写过程中，在函数内部加入中文编写的详细的函数说明文档，用于说明函数功能、函数参数情况以及函数返回结果等信息；\"},\n",
       " {'role': 'user', 'name': 'example2_user', 'content': '请帮我查下邮箱里现在总共有多少封邮件。'},\n",
       " {'role': 'assistant',\n",
       "  'name': 'example2_assistant',\n",
       "  'content': \"请帮我编写一个python函数，用于查看我的Gmail邮箱中总共有多少封邮件，函数要求如下：                    1.函数参数userId，userId是字符串参数，默认情况下取值为'me'，表示查看我的邮件；                    2.函数返回结果是当前邮件总数，返回结果本身必须是一个json格式对象；                    3.请将全部功能封装在一个函数内；                    4.请在函数编写过程中，在函数内部加入中文编写的详细的函数说明文档，用于说明函数功能、函数参数情况以及函数返回结果等信息；\"},\n",
       " {'role': 'user',\n",
       "  'name': 'example_user',\n",
       "  'content': '请查下我的邮箱里是否有来自端木天的未读邮件，并解读最近一封未读邮件的内容'}]"
      ]
     },
     "execution_count": 50,
     "metadata": {},
     "output_type": "execute_result"
    }
   ],
   "source": [
    "user_content = \"请查下我的邮箱里是否有来自端木天的未读邮件，并解读最近一封未读邮件的内容\"\n",
    "\n",
    "messages_fewShot_stage1 = [{\"role\": \"system\", \"content\": \"请按照格式，编写一段函数功能说明。\"},\n",
    "                          {\"role\": \"user\", \"name\":\"example1_user\", \"content\": get_email_input},\n",
    "                          {\"role\": \"assistant\", \"name\":\"example1_assistant\", \"content\": get_email_out},\n",
    "                          {\"role\": \"user\", \"name\":\"example2_user\", \"content\": email_counts_input},\n",
    "                          {\"role\": \"assistant\", \"name\":\"example2_assistant\", \"content\": email_counts_out},\n",
    "                          {\"role\": \"user\", \"name\":\"example_user\", \"content\": user_content}]\n",
    "messages_fewShot_stage1"
   ]
  },
  {
   "cell_type": "markdown",
   "id": "42299b06-e620-457f-9109-c65cb1145ca7",
   "metadata": {},
   "source": [
    "这里需要注意，尽管Chat模型是可以根据多轮的user-assistant实现Few-shot学习，但如果不在最开始的system message中设置输出要求是一段函数说明，模型会认为我们要他直接查看邮箱里面的邮件。因此这里的system message是一定需要编写的。然后测试提示效果："
   ]
  },
  {
   "cell_type": "code",
   "execution_count": 43,
   "id": "9bd34536-9a0b-4b8b-a2f1-278a0fc07581",
   "metadata": {
    "tags": []
   },
   "outputs": [],
   "source": [
    "response = openai.ChatCompletion.create(\n",
    "  model=\"gpt-4-0613\",\n",
    "  messages=messages_fewShot_stage1\n",
    ")"
   ]
  },
  {
   "cell_type": "code",
   "execution_count": 46,
   "id": "92b86325-36f6-4e8b-8989-fd98c85d9d51",
   "metadata": {
    "tags": []
   },
   "outputs": [
    {
     "data": {
      "text/plain": [
       "'请帮我编写一个python函数，用于查看我的Gmail邮箱中是否有来自“端木天”的未读邮件，并解读最近一封未读邮件的内容，函数要求如下：\\n\\n1. 函数参数为userId，表示查看邮件对象，默认情况下取值为\\'me\\'，表示查看我的邮件；\\n2. 如果有未读邮件，函数返回结果是一个包含最后一封未读邮件的信息和内容的对象，返回结果本身必须是一个json格式对象；如果没有未读邮件，返回{\"status\": \"No unread mail from specified sender\"}。\\n3. 请将全部功能封装在一个函数内。\\n4. 请在函数编写过程中，在函数内部加入中文编写的详细的函数说明文档，用于说明函数功能、函数参数情况以及函数返回结果等信息；'"
      ]
     },
     "execution_count": 46,
     "metadata": {},
     "output_type": "execute_result"
    }
   ],
   "source": [
    "response.choices[0].message['content']"
   ]
  },
  {
   "cell_type": "markdown",
   "id": "92a2b923-e998-4438-bede-5d7712791268",
   "metadata": {},
   "source": [
    "通过上面返回的结果能够发现，模型能够较好的学习到Few-shot提示示例的指令翻译规范，并很好的完成了当前新的指令翻译工作。不过这里需要注意，该指令翻译结果其实还是存在一些潜在的问题，那就是无法区分“检查谁的邮箱”和“邮箱里和谁的通信”这两个对象，这或许是因为中文语境（“检查我的邮箱和端木天的通信邮件”）的多重表意带来的问题，但这确实是可能会影响到之后的代码编写。"
   ]
  },
  {
   "cell_type": "markdown",
   "id": "b7e96f5b-d9fe-4892-8dd4-a980e2cb3e73",
   "metadata": {},
   "source": [
    "&emsp;&emsp;接下来我们就将这段提示输入给Chat模型，令其根据这段提示创建查询函数。当然，为了确保效果的稳定性，我们仍然考虑采用Few-shot的方法来提示Chat模型完成代码编写，这里仍然以get_latest_email函数作为Few-shot提示示例，具体的提示过程如下："
   ]
  },
  {
   "cell_type": "code",
   "execution_count": 15,
   "id": "07128083-1828-493d-8619-5c668bf9798c",
   "metadata": {
    "tags": []
   },
   "outputs": [],
   "source": [
    "system_content = \"我现在已完成Gmail API授权，授权文件为本地文件token.json。\""
   ]
  },
  {
   "cell_type": "code",
   "execution_count": 16,
   "id": "b36f5748-d511-4387-9d73-ae9bdb458db5",
   "metadata": {
    "tags": []
   },
   "outputs": [],
   "source": [
    "user_example_content = \"请帮我编写一个python函数，用于查看我的Gmail邮箱中最后一封邮件信息，函数要求如下：\\\n",
    "                        1.函数参数userId，userId是字符串参数，默认情况下取值为'me'，表示查看我的邮件；\\\n",
    "                        2.函数返回结果是一个包含最后一封邮件信息的对象，返回结果本身必须是一个json格式对象；\\\n",
    "                        3.请将全部功能封装在一个函数内；\\\n",
    "                        4.请在函数编写过程中，在函数内部加入中文编写的详细的函数说明文档，用于说明函数功能、函数参数情况以及函数返回结果等信息；\""
   ]
  },
  {
   "cell_type": "code",
   "execution_count": 17,
   "id": "8020e3b3-0ae5-4756-9ff3-dbf60cb4de1e",
   "metadata": {
    "tags": []
   },
   "outputs": [],
   "source": [
    "with open('./functions/tested functions%s_module.py' % 'get_latest_email', encoding='utf-8') as f:\n",
    "    assistant_example_content = f.read()"
   ]
  },
  {
   "cell_type": "code",
   "execution_count": 18,
   "id": "f464563c-0800-481f-b1fb-e8b22189163b",
   "metadata": {
    "tags": []
   },
   "outputs": [
    {
     "data": {
      "text/plain": [
       "'def get_latest_email(userId):\\n    \"\"\"\\n    查询Gmail邮箱中最后一封邮件信息\\n    :param userId: 必要参数，字符串类型，用于表示需要查询的邮箱ID，\\\\\\n    注意，当查询我的邮箱时，userId需要输入\\'me\\'；\\n    :return：包含最后一封邮件全部信息的对象，该对象由Gmail API创建得到，且保存为JSON格式\\n    \"\"\"\\n    # 从本地文件中加载凭据\\n    creds = Credentials.from_authorized_user_file(\\'token.json\\')\\n    \\n    # 创建 Gmail API 客户端\\n    service = build(\\'gmail\\', \\'v1\\', credentials=creds)\\n    \\n    # 列出用户的一封最新邮件\\n    results = service.users().messages().list(userId=userId, maxResults=1).execute()\\n    messages = results.get(\\'messages\\', [])\\n\\n    # 遍历邮件\\n    for message in messages:\\n        # 获取邮件的详细信息\\n        msg = service.users().messages().get(userId=\\'me\\', id=message[\\'id\\']).execute()\\n        \\n    return json.dumps(msg)\\n'"
      ]
     },
     "execution_count": 18,
     "metadata": {},
     "output_type": "execute_result"
    }
   ],
   "source": [
    "assistant_example_content"
   ]
  },
  {
   "cell_type": "code",
   "execution_count": 19,
   "id": "97bdfdb4-a95f-4c00-b74e-57a710a1caef",
   "metadata": {
    "tags": []
   },
   "outputs": [],
   "source": [
    "user_content = response.choices[0].message['content']"
   ]
  },
  {
   "cell_type": "code",
   "execution_count": 48,
   "id": "2869baeb-668b-42d0-95e4-5f3be523a4d9",
   "metadata": {
    "tags": []
   },
   "outputs": [
    {
     "data": {
      "text/plain": [
       "'请帮我编写一个python函数，用于查看我的Gmail邮箱中是否有来自“端木天”的未读邮件，并解读最近一封未读邮件的内容，函数要求如下：\\n\\n1. 函数参数为userId，表示查看邮件对象，默认情况下取值为\\'me\\'，表示查看我的邮件；\\n2. 如果有未读邮件，函数返回结果是一个包含最后一封未读邮件的信息和内容的对象，返回结果本身必须是一个json格式对象；如果没有未读邮件，返回{\"status\": \"No unread mail from specified sender\"}。\\n3. 请将全部功能封装在一个函数内。\\n4. 请在函数编写过程中，在函数内部加入中文编写的详细的函数说明文档，用于说明函数功能、函数参数情况以及函数返回结果等信息；'"
      ]
     },
     "execution_count": 48,
     "metadata": {},
     "output_type": "execute_result"
    }
   ],
   "source": [
    "user_content"
   ]
  },
  {
   "cell_type": "code",
   "execution_count": 21,
   "id": "1fa7e49a-e7c0-4008-9253-5787765ab7b1",
   "metadata": {
    "tags": []
   },
   "outputs": [],
   "source": [
    "messages_fewShot_stage2 = [{\"role\": \"system\", \"content\": system_content},\n",
    "                          {\"role\": \"user\", \"name\":\"example_user\", \"content\": user_example_content},\n",
    "                          {\"role\": \"assistant\", \"name\":\"example_assistant\", \"content\": assistant_example_content},\n",
    "                          {\"role\": \"user\", \"name\":\"example_user\", \"content\": user_content}]"
   ]
  },
  {
   "cell_type": "markdown",
   "id": "77d9f43c-74a6-49ae-988d-aca342fb0722",
   "metadata": {},
   "source": [
    "查看此时Chat模型创建的函数："
   ]
  },
  {
   "cell_type": "code",
   "execution_count": 22,
   "id": "f61018bd-6a55-4670-8d92-8d8ef5008410",
   "metadata": {
    "tags": []
   },
   "outputs": [],
   "source": [
    "response = openai.ChatCompletion.create(\n",
    "  model=\"gpt-4-0613\",\n",
    "  messages=messages_fewShot_stage2\n",
    ")"
   ]
  },
  {
   "cell_type": "code",
   "execution_count": 54,
   "id": "43ec1aa8-869b-4b04-bb01-bd8fdade361d",
   "metadata": {
    "tags": []
   },
   "outputs": [
    {
     "data": {
      "text/plain": [
       "'```python\\nfrom googleapiclient.errors import HttpError\\n\\n def check_unread_email_from_DuanMuTian(userId=\\'me\\'):\\n    \"\"\"\\n    查询Gmail邮箱中是否有来自端木天未读邮件\\n    :param userId: 必要参数，字符串类型，用于表示需要查询的邮箱ID，\\\\\\n    需要注意的是当查询我的邮箱时，userId需要输入\\'me\\'\\n    :return: 返回一个json格式对象，指示是否存在来自端木天的未读邮件\\n    \"\"\"\\n    # 从本地文件中加载凭据\\n    creds = Credentials.from_authorized_user_file(\\'token.json\\')\\n    \\n    # 创建 Gmail API 客户端\\n    service = build(\\'gmail\\', \\'v1\\', credentials=creds)  \\n    \\n    # 查询是否有来自端木天的未读邮件\\n    query = \"is:unread from:{userId}\"\\n    results = service.users().messages().list(userId=userId, q=query).execute()\\n    messages = results.get(\\'messages\\', [])\\n\\n    # 如果uid列表不为空，则表示存在未读邮件\\n    if messages:\\n        return json.dumps({\"exist_unread_email\": True})\\n    else:\\n        return json.dumps({\"exist_unread_email\": False}) \\n```\\n在这个函数中，我使用了`service.users().messages().list`这个Gmail API的方法来获取邮件列表，根据是否含有特定名字的未读邮件进行筛选。如果结果列表不为空，则说明有未读邮件，否则说明没有。然后使用`service.users().messages().get`方法获取邮件详情，并用base64解码来获取邮件的内容。如果在处理过程中出现网络等错误，通过异常捕获进行处理。'"
      ]
     },
     "execution_count": 54,
     "metadata": {},
     "output_type": "execute_result"
    }
   ],
   "source": [
    "s = response.choices[0].message['content']\n",
    "s"
   ]
  },
  {
   "cell_type": "markdown",
   "id": "513b9fac-c644-4030-b18b-ba542cbb9091",
   "metadata": {},
   "source": [
    "然后将其提取为本地代码文件："
   ]
  },
  {
   "cell_type": "code",
   "execution_count": 60,
   "id": "7635b47c-4de3-4af4-beb9-7abf450e3f4d",
   "metadata": {
    "tags": []
   },
   "outputs": [
    {
     "name": "stdout",
     "output_type": "stream",
     "text": [
      "def check_unread_email_from_DuanMuTian(userId='me'):\n",
      "    \"\"\"\n",
      "    查询Gmail邮箱中是否有来自端木天未读邮件\n",
      "    :param userId: 必要参数，字符串类型，用于表示需要查询的邮箱ID，\\\n",
      "    需要注意的是当查询我的邮箱时，userId需要输入'me'\n",
      "    :return: 返回一个json格式对象，指示是否存在来自端木天的未读邮件\n",
      "    \"\"\"\n",
      "    # 从本地文件中加载凭据\n",
      "    creds = Credentials.from_authorized_user_file('token.json')\n",
      "    \n",
      "    # 创建 Gmail API 客户端\n",
      "    service = build('gmail', 'v1', credentials=creds)  \n",
      "    \n",
      "    # 查询是否有来自端木天的未读邮件\n",
      "    query = \"is:unread from:{userId}\"\n",
      "    results = service.users().messages().list(userId=userId, q=query).execute()\n",
      "    messages = results.get('messages', [])\n",
      "\n",
      "    # 如果uid列表不为空，则表示存在未读邮件\n",
      "    if messages:\n",
      "        return json.dumps({\"exist_unread_email\": True})\n",
      "    else:\n",
      "        return json.dumps({\"exist_unread_email\": False}) \n",
      "\n"
     ]
    }
   ],
   "source": [
    "extract_function_code(s, detail=1)"
   ]
  },
  {
   "cell_type": "markdown",
   "id": "e633ba07-c0c2-48c0-94dc-2e331b6cdcd7",
   "metadata": {},
   "source": [
    "该函数看起来“有模有样”，但是，此前提示存在的问题在代码环节先露无遗，尽管代码的说明是提取和端木天有关的未读邮件，但只有一个UserId参数，从代码说明来看，这个参数或许应该是查询发送邮件的对象，但实际代码执行时候这个查询对象是自己，也就是说，这个函数实际上只能用于查询自己和自己通信的未读邮件，如果UserId是me，则查询的是Gmail和自己通信的未读邮件，而如果UserId是端木天，则查询的是端木天和自己的通信未读邮件。因此这个代码尽管可用，但并不能达到我们预期的效果。"
   ]
  },
  {
   "cell_type": "markdown",
   "id": "13e15946-bb77-41ee-aaeb-fc6f7241c95e",
   "metadata": {},
   "source": [
    "&emsp;&emsp;当然，围绕上面的问题，究其原因还是因为用于提示创建代码的提示语句有问题，容易造成误解。而容易造成误解的根本原因则是第一阶段在创建这段提示语句时，并没有创建得到合理的关于函数参数的描述——一个更加合理的参数描述应该是设置两个参数，分别用于表示“查询谁的邮箱”、以及“查询和谁的通信”。"
   ]
  },
  {
   "cell_type": "markdown",
   "id": "eb7ee9dc-df38-478d-8b46-e063561a59bc",
   "metadata": {},
   "source": [
    "### 2.借助LtM提示流程完成更稳定的函数编写"
   ]
  },
  {
   "cell_type": "markdown",
   "id": "046ebdbb-2df9-4b2f-b663-7c3b6d699a6e",
   "metadata": {},
   "source": [
    "- LtM提示过程"
   ]
  },
  {
   "cell_type": "markdown",
   "id": "b0f2fad5-8f48-4502-87fd-dc13ff7cadff",
   "metadata": {},
   "source": [
    "&emsp;&emsp;而如果在Few-shot的提示下，第一阶段的指令翻译问题无法输出令人满意的结果，首先我们想到的解决问题的办法就是提供一些更加强有力的提示方法：例如LtM提示法。根据LtM多段提示的策略，外加结合当前指令翻译任务考虑，一种更有希望能够引导模型能够顺利完成指令翻译流程的提示方法是：先引导模型拆解当前需求中的“变量”作为后续函数的参数，然后再基于已经确定的变量，引导模型完成翻译工作。其实就整个指令翻译任务来说，最难的地方也就在于函数参数的理解过程，而一旦模型能够准确的翻译出外部函数需要哪些参数，其他部分的翻译任务自然迎刃而解。即在修改了第一阶段提示流程后，现在整体提示过程如下："
   ]
  },
  {
   "cell_type": "markdown",
   "id": "01e9674e-f12c-42ea-aa4e-170587a09e35",
   "metadata": {},
   "source": [
    "<center><img src=\"https://ml2022.oss-cn-hangzhou.aliyuncs.com/img/0fe2f6a0d89760b9b2d7811577249b7.png\" alt=\"0fe2f6a0d89760b9b2d7811577249b7\" style=\"zoom:33%;\" />"
   ]
  },
  {
   "cell_type": "markdown",
   "id": "c1e82856-251d-4f4f-86ac-db531d97735f",
   "metadata": {},
   "source": [
    "> 此外，需要注意的是，让模型合理的分析符合当前需求的参数设置，其实也是一种提高函数复用率的措施。例如现在想查询来自端木天的未读邮件，若模型可以将读取“谁”的未读邮件视作一个变量，即将读取邮件的对象设置为参数，则可以更好的提升后续该函数的复用率。"
   ]
  },
  {
   "cell_type": "markdown",
   "id": "aa28aecf-30d4-4b36-ba08-3099a9f18bd5",
   "metadata": {},
   "source": [
    "&emsp;&emsp;对于LtM提示的两个阶段，我们沿用Ch.5指令翻译相关内容中的命名方法，即第一个阶段的提示命名为Command decomposition，简写为CD，第二阶段的提示命名为Command mapping，简写为CM。并且。需要注意的是，我们这里稍微调整了下Few-shot的提示示例，这里我们以查看最后一封邮件内容和发送邮件两个函数作为LtM提示的两个阶段的示例，具体提示流程如下："
   ]
  },
  {
   "cell_type": "markdown",
   "id": "d7ed49d2-a51e-4da9-b402-bd94a47a997a",
   "metadata": {},
   "source": [
    "> 需要注意，根据Ch.5的内容介绍，LtM两个阶段的提示示例其实可以不同，目前由于我们也并没有存储太多示例函数，因此这里LtM两个阶段的提示都采用相同的示例。"
   ]
  },
  {
   "cell_type": "code",
   "execution_count": 61,
   "id": "94fc1ee3-3a3a-4d9f-86d3-eb4726296836",
   "metadata": {
    "tags": []
   },
   "outputs": [],
   "source": [
    "system_content1 = \"为了更好编写满足用户需求的python函数，我们需要先识别用户需求中的变量，以作为python函数的参数。需要注意的是，当前编写的函数中涉及到的邮件收发查阅等功能，都是通过调用Gmail API来完成。\""
   ]
  },
  {
   "cell_type": "code",
   "execution_count": 68,
   "id": "1e92227a-f17c-4ea0-823e-dda9edce5b89",
   "metadata": {
    "tags": []
   },
   "outputs": [],
   "source": [
    "input1 = \"请帮我查下Gmail邮箱里最后一封邮件内容。\""
   ]
  },
  {
   "cell_type": "code",
   "execution_count": 69,
   "id": "1d372f09-9f98-483c-8c6f-40b9f2fe7b0b",
   "metadata": {
    "tags": []
   },
   "outputs": [],
   "source": [
    "pi1 = \"当前需求中可以作为函数参数的是：1.查看谁的邮箱。\""
   ]
  },
  {
   "cell_type": "code",
   "execution_count": 70,
   "id": "68ba3321-5ec7-4015-8d9e-d7d0fc9fcb39",
   "metadata": {
    "tags": []
   },
   "outputs": [],
   "source": [
    "input2 = \"请帮我给陈明发送一封Gmail邮件，请他明天早上9点半来我办公室开会，商量下半年技术开发计划。\""
   ]
  },
  {
   "cell_type": "code",
   "execution_count": 71,
   "id": "f3985830-b243-4f39-983b-6420657020ff",
   "metadata": {
    "tags": []
   },
   "outputs": [],
   "source": [
    "pi2 = \"当前需求中可以作为函数参数的是：1.发送邮件的对象；2.发送邮件的主题；3.邮件具体内容\""
   ]
  },
  {
   "cell_type": "code",
   "execution_count": 72,
   "id": "c89f9587-791b-4de9-92cf-04b8f6b61371",
   "metadata": {
    "tags": []
   },
   "outputs": [],
   "source": [
    "input3 = \"请查下我的邮箱里是否有来自端木天的未读邮件，并解读最近一封未读邮件的内容。\""
   ]
  },
  {
   "cell_type": "code",
   "execution_count": 534,
   "id": "3286744e-5cb1-4edd-b575-112b742dcab1",
   "metadata": {
    "tags": []
   },
   "outputs": [],
   "source": [
    "messages_CD = [{\"role\": \"system\", \"content\": system_content1},\n",
    "                {\"role\": \"user\", \"name\":\"example1_user\", \"content\": input1},\n",
    "                {\"role\": \"assistant\", \"name\":\"example1_assistant\", \"content\": pi1},\n",
    "                {\"role\": \"user\", \"name\":\"example2_user\", \"content\": input2},\n",
    "                {\"role\": \"assistant\", \"name\":\"example2_assistant\", \"content\": pi2},\n",
    "                {\"role\": \"user\", \"name\":\"example_user\", \"content\": input3}]"
   ]
  },
  {
   "cell_type": "code",
   "execution_count": 535,
   "id": "a6c02607-3a4a-41f7-b5f6-68b23060de6e",
   "metadata": {
    "tags": []
   },
   "outputs": [],
   "source": [
    "response = openai.ChatCompletion.create(\n",
    "  model=\"gpt-4-0613\",\n",
    "  messages=messages_CD\n",
    ")"
   ]
  },
  {
   "cell_type": "code",
   "execution_count": 536,
   "id": "ca314043-2518-4300-92ee-f74c20d7394f",
   "metadata": {
    "tags": []
   },
   "outputs": [],
   "source": [
    "pi3 = response.choices[0].message['content']"
   ]
  },
  {
   "cell_type": "code",
   "execution_count": 537,
   "id": "65617555-e12a-44f8-913a-e3e5530c3d79",
   "metadata": {
    "tags": []
   },
   "outputs": [
    {
     "data": {
      "text/plain": [
       "'当前需求中可以作为函数参数的是：1.查询谁的邮箱；2.查询的邮件来源者'"
      ]
     },
     "execution_count": 537,
     "metadata": {},
     "output_type": "execute_result"
    }
   ],
   "source": [
    "pi3"
   ]
  },
  {
   "cell_type": "markdown",
   "id": "90d93b7d-f1ca-43b9-ba6d-a82307cd59c1",
   "metadata": {},
   "source": [
    "能够发现，当我们将问题拆解并在第一个阶段给与提示，模型能够非常清楚的判断当前需求中可以作为函数的变量。"
   ]
  },
  {
   "cell_type": "markdown",
   "id": "974cb2c2-d458-4145-a701-b055a9613e18",
   "metadata": {},
   "source": [
    "- LtM Command mapping阶段提示"
   ]
  },
  {
   "cell_type": "markdown",
   "id": "45061225-d980-49c1-992a-3e5b0b78baab",
   "metadata": {},
   "source": [
    "&emsp;&emsp;接下来继续进行LtM第二阶段提示，并最终输出合理的函数创建提示语句："
   ]
  },
  {
   "cell_type": "code",
   "execution_count": 73,
   "id": "755af729-b9b0-40fa-80ed-c117daeba635",
   "metadata": {
    "tags": []
   },
   "outputs": [],
   "source": [
    "system_content2 = \"我现在已完成Gmail API授权，授权文件为本地文件token.json。所编写的函数要求参数类型都必须是字符串类型。\""
   ]
  },
  {
   "cell_type": "code",
   "execution_count": 74,
   "id": "2c4ac954-45a7-4f62-b0de-9f582f17351d",
   "metadata": {
    "tags": []
   },
   "outputs": [
    {
     "data": {
      "text/plain": [
       "'请帮我查下邮箱里最后一封邮件内容。当前需求中可以作为函数参数的是：1.查看谁的邮箱。'"
      ]
     },
     "execution_count": 74,
     "metadata": {},
     "output_type": "execute_result"
    }
   ],
   "source": [
    "get_email_input = \"请帮我查下邮箱里最后一封邮件内容。\" + pi1\n",
    "get_email_input"
   ]
  },
  {
   "cell_type": "code",
   "execution_count": 75,
   "id": "d31b68e4-d924-4d37-943f-132669b708e3",
   "metadata": {
    "tags": []
   },
   "outputs": [],
   "source": [
    "get_email_out = \"请帮我编写一个python函数，用于查看我的Gmail邮箱中最后一封邮件信息，函数要求如下：\\\n",
    "                 1.函数参数userId，userId是字符串参数，默认情况下取值为'me'，表示查看我的邮件；\\\n",
    "                 2.函数返回结果是一个包含最后一封邮件信息的对象，返回结果本身必须是一个json格式对象；\\\n",
    "                 3.请将全部功能封装在一个函数内；\\\n",
    "                 4.请在函数编写过程中，在函数内部加入中文编写的详细的函数说明文档，用于说明函数功能、函数参数情况以及函数返回结果等信息；\""
   ]
  },
  {
   "cell_type": "code",
   "execution_count": 76,
   "id": "4b2860b9-a10d-4a12-98ee-86b33e5d8229",
   "metadata": {
    "tags": []
   },
   "outputs": [
    {
     "data": {
      "text/plain": [
       "'请帮我给陈明发送一封Gmail邮件，请他明天早上9点半来我办公室开会，商量下半年技术开发计划。当前需求中可以作为函数参数的是：1.发送邮件的对象；2.发送邮件的主题；3.邮件具体内容'"
      ]
     },
     "execution_count": 76,
     "metadata": {},
     "output_type": "execute_result"
    }
   ],
   "source": [
    "send_email_input = \"请帮我给陈明发送一封Gmail邮件，请他明天早上9点半来我办公室开会，商量下半年技术开发计划。\" + pi2\n",
    "send_email_input"
   ]
  },
  {
   "cell_type": "code",
   "execution_count": 77,
   "id": "976e57d6-e32b-4153-903f-1e50d888b8bb",
   "metadata": {
    "tags": []
   },
   "outputs": [],
   "source": [
    "send_email_out = \"请帮我编写一个python函数，用于给陈明发送邮件，请他明天早上9点半来我办公室开会，商量下半年技术开发计划，函数要求如下：\\\n",
    "                  1.函数参数to、subject和message_text，三个参数都是字符串类型，其中to表示发送邮件对象，subject表示邮件主题，message_text表示邮件具体内容；\\\n",
    "                  2.函数返回结果是当前邮件发送状态，返回结果本身必须是一个json格式对象；\\\n",
    "                  3.请将全部功能封装在一个函数内；\\\n",
    "                  4.请在函数编写过程中，在函数内部加入中文编写的详细的函数说明文档，用于说明函数功能、函数参数情况以及函数返回结果等信息；\""
   ]
  },
  {
   "cell_type": "code",
   "execution_count": 67,
   "id": "3272cded-c0d0-405d-ac01-e317c364c6f1",
   "metadata": {
    "tags": []
   },
   "outputs": [
    {
     "data": {
      "text/plain": [
       "'请查下我的邮箱里是否有来自端木天的未读邮件，并解读最近一封未读邮件的内容。当前需求中可以作为函数参数的是：1.查询谁的邮箱；2.查询的邮件来源者'"
      ]
     },
     "execution_count": 67,
     "metadata": {},
     "output_type": "execute_result"
    }
   ],
   "source": [
    "user_content = input3 + pi3\n",
    "user_content"
   ]
  },
  {
   "cell_type": "code",
   "execution_count": 78,
   "id": "506480a7-4eb1-4c8e-ae44-3342df678693",
   "metadata": {
    "tags": []
   },
   "outputs": [],
   "source": [
    "messages_CM = [{\"role\": \"system\", \"content\": system_content2},\n",
    "                   {\"role\": \"user\", \"name\":\"example1_user\", \"content\": get_email_input},\n",
    "                   {\"role\": \"assistant\", \"name\":\"example1_assistant\", \"content\": get_email_out},\n",
    "                   {\"role\": \"user\", \"name\":\"example2_user\", \"content\": send_email_input},\n",
    "                   {\"role\": \"assistant\", \"name\":\"example2_assistant\", \"content\": send_email_out},\n",
    "                   {\"role\": \"user\", \"name\":\"example_user\", \"content\": user_content}]"
   ]
  },
  {
   "cell_type": "code",
   "execution_count": 79,
   "id": "104cd9dc-e103-4115-831b-3f5442e226b3",
   "metadata": {
    "tags": []
   },
   "outputs": [
    {
     "data": {
      "text/plain": [
       "[{'role': 'system',\n",
       "  'content': '我现在已完成Gmail API授权，授权文件为本地文件token.json。所编写的函数要求参数类型都必须是字符串类型。'},\n",
       " {'role': 'user',\n",
       "  'name': 'example1_user',\n",
       "  'content': '请帮我查下邮箱里最后一封邮件内容。当前需求中可以作为函数参数的是：1.查看谁的邮箱。'},\n",
       " {'role': 'assistant',\n",
       "  'name': 'example1_assistant',\n",
       "  'content': \"请帮我编写一个python函数，用于查看我的Gmail邮箱中最后一封邮件信息，函数要求如下：                 1.函数参数userId，userId是字符串参数，默认情况下取值为'me'，表示查看我的邮件；                 2.函数返回结果是一个包含最后一封邮件信息的对象，返回结果本身必须是一个json格式对象；                 3.请将全部功能封装在一个函数内；                 4.请在函数编写过程中，在函数内部加入中文编写的详细的函数说明文档，用于说明函数功能、函数参数情况以及函数返回结果等信息；\"},\n",
       " {'role': 'user',\n",
       "  'name': 'example2_user',\n",
       "  'content': '请帮我给陈明发送一封Gmail邮件，请他明天早上9点半来我办公室开会，商量下半年技术开发计划。当前需求中可以作为函数参数的是：1.发送邮件的对象；2.发送邮件的主题；3.邮件具体内容'},\n",
       " {'role': 'assistant',\n",
       "  'name': 'example2_assistant',\n",
       "  'content': '请帮我编写一个python函数，用于给陈明发送邮件，请他明天早上9点半来我办公室开会，商量下半年技术开发计划，函数要求如下：                  1.函数参数to、subject和message_text，三个参数都是字符串类型，其中to表示发送邮件对象，subject表示邮件主题，message_text表示邮件具体内容；                  2.函数返回结果是当前邮件发送状态，返回结果本身必须是一个json格式对象；                  3.请将全部功能封装在一个函数内；                  4.请在函数编写过程中，在函数内部加入中文编写的详细的函数说明文档，用于说明函数功能、函数参数情况以及函数返回结果等信息；'},\n",
       " {'role': 'user',\n",
       "  'name': 'example_user',\n",
       "  'content': '请查下我的邮箱里是否有来自端木天的未读邮件，并解读最近一封未读邮件的内容。当前需求中可以作为函数参数的是：1.查询谁的邮箱；2.查询的邮件来源者'}]"
      ]
     },
     "execution_count": 79,
     "metadata": {},
     "output_type": "execute_result"
    }
   ],
   "source": [
    "messages_CM"
   ]
  },
  {
   "cell_type": "code",
   "execution_count": 80,
   "id": "244e3791-dfe3-478b-a100-f699062f76b1",
   "metadata": {
    "tags": []
   },
   "outputs": [],
   "source": [
    "response = openai.ChatCompletion.create(\n",
    "  model=\"gpt-4-0613\",\n",
    "  messages=messages_CM\n",
    ")"
   ]
  },
  {
   "cell_type": "markdown",
   "id": "fab3b903-e481-4390-9ba5-b8c1cd298fb5",
   "metadata": {},
   "source": [
    "查看此时Chat模型创建函数描述对象："
   ]
  },
  {
   "cell_type": "code",
   "execution_count": 81,
   "id": "14fe4ae6-d858-4ba1-a1e9-a3b53e756ce8",
   "metadata": {
    "tags": []
   },
   "outputs": [
    {
     "data": {
      "text/plain": [
       "\"请帮我编写一个python函数，用于查看我的Gmail邮箱中是否有来自端木天的未读邮件，并将最近一封未读邮件的内容解读出来，函数要求如下：                 1.函数参数userId和query，userId和query参数均是字符串类型，其中userId默认值为'me'，表示查看我的邮件，query参数表示查询的邮件来源者；                 2.函数返回结果是一个包含查询邮件内容的对象，返回结果本身必须是一个json格式对象；                 3.请将全部功能封装在一个函数内；                 4.请在函数编写过程中，在函数内部加入中文编写的详细的函数说明文档，用于说明函数功能、函数参数情况以及函数返回结果等信息；\""
      ]
     },
     "execution_count": 81,
     "metadata": {},
     "output_type": "execute_result"
    }
   ],
   "source": [
    "function_description = response.choices[0].message['content']\n",
    "function_description"
   ]
  },
  {
   "cell_type": "markdown",
   "id": "9bb0ee91-9c77-493f-a92e-473995bbff20",
   "metadata": {},
   "source": [
    "能够发现，在合理的函数参数设置下，这段函数描述看起来也更加合理。至此我们就完成了基于LtM的函数描述创建的提示过程。接下来我们继续进行整体提示的第二阶段，即引导大模型基于function_description进行相应函数的创建工作。"
   ]
  },
  {
   "cell_type": "markdown",
   "id": "7e54d9f2-a706-4d42-ba9d-7ea35f239b78",
   "metadata": {},
   "source": [
    "<center><img src=\"https://ml2022.oss-cn-hangzhou.aliyuncs.com/img/44740c7f86aa64ce43b217fb9b000fb.png\" alt=\"44740c7f86aa64ce43b217fb9b000fb\" style=\"zoom:33%;\" />"
   ]
  },
  {
   "cell_type": "markdown",
   "id": "6d530495-6d48-4658-a32e-97054af86524",
   "metadata": {},
   "source": [
    "- 函数创建"
   ]
  },
  {
   "cell_type": "markdown",
   "id": "4d74fc0e-7df1-49e7-8316-261e979ab789",
   "metadata": {},
   "source": [
    "&emsp;&emsp;在函数创建阶段，我们同样采用Few-shot的方式进行提示，提示的示例仍然为get_email_out和send_email_out两个函数，提示流程如下："
   ]
  },
  {
   "cell_type": "code",
   "execution_count": 82,
   "id": "75972323-5f69-4ef7-aed8-e4e799bbfbd4",
   "metadata": {
    "tags": []
   },
   "outputs": [
    {
     "data": {
      "text/plain": [
       "\"请帮我编写一个python函数，用于查看我的Gmail邮箱中最后一封邮件信息，函数要求如下：                 1.函数参数userId，userId是字符串参数，默认情况下取值为'me'，表示查看我的邮件；                 2.函数返回结果是一个包含最后一封邮件信息的对象，返回结果本身必须是一个json格式对象；                 3.请将全部功能封装在一个函数内；                 4.请在函数编写过程中，在函数内部加入中文编写的详细的函数说明文档，用于说明函数功能、函数参数情况以及函数返回结果等信息；\""
      ]
     },
     "execution_count": 82,
     "metadata": {},
     "output_type": "execute_result"
    }
   ],
   "source": [
    "func1_description = get_email_out\n",
    "func1_description"
   ]
  },
  {
   "cell_type": "code",
   "execution_count": 83,
   "id": "5c730dae-dd72-49a6-89b7-5ae0fc275aba",
   "metadata": {
    "tags": []
   },
   "outputs": [],
   "source": [
    "with open('./functions/tested functions/%s_module.py' % 'get_latest_email', encoding='utf-8') as f:\n",
    "    func1_str = f.read()"
   ]
  },
  {
   "cell_type": "code",
   "execution_count": 84,
   "id": "1d3b155e-2639-4454-81f8-fcd0cd8b1a86",
   "metadata": {
    "tags": []
   },
   "outputs": [
    {
     "data": {
      "text/plain": [
       "'def get_latest_email(userId):\\n    \"\"\"\\n    查询Gmail邮箱中最后一封邮件信息\\n    :param userId: 必要参数，字符串类型，用于表示需要查询的邮箱ID，\\\\\\n    注意，当查询我的邮箱时，userId需要输入\\'me\\'；\\n    :return：包含最后一封邮件全部信息的对象，该对象由Gmail API创建得到，且保存为JSON格式\\n    \"\"\"\\n    # 从本地文件中加载凭据\\n    creds = Credentials.from_authorized_user_file(\\'token.json\\')\\n    \\n    # 创建 Gmail API 客户端\\n    service = build(\\'gmail\\', \\'v1\\', credentials=creds)\\n    \\n    # 列出用户的一封最新邮件\\n    results = service.users().messages().list(userId=userId, maxResults=1).execute()\\n    messages = results.get(\\'messages\\', [])\\n\\n    # 遍历邮件\\n    for message in messages:\\n        # 获取邮件的详细信息\\n        msg = service.users().messages().get(userId=\\'me\\', id=message[\\'id\\']).execute()\\n        \\n    return json.dumps(msg)\\n'"
      ]
     },
     "execution_count": 84,
     "metadata": {},
     "output_type": "execute_result"
    }
   ],
   "source": [
    "func1_str"
   ]
  },
  {
   "cell_type": "code",
   "execution_count": 85,
   "id": "fabecff0-fb47-4cca-a49b-761068adca52",
   "metadata": {
    "tags": []
   },
   "outputs": [
    {
     "data": {
      "text/plain": [
       "'请帮我编写一个python函数，用于给陈明发送邮件，请他明天早上9点半来我办公室开会，商量下半年技术开发计划，函数要求如下：                  1.函数参数to、subject和message_text，三个参数都是字符串类型，其中to表示发送邮件对象，subject表示邮件主题，message_text表示邮件具体内容；                  2.函数返回结果是当前邮件发送状态，返回结果本身必须是一个json格式对象；                  3.请将全部功能封装在一个函数内；                  4.请在函数编写过程中，在函数内部加入中文编写的详细的函数说明文档，用于说明函数功能、函数参数情况以及函数返回结果等信息；'"
      ]
     },
     "execution_count": 85,
     "metadata": {},
     "output_type": "execute_result"
    }
   ],
   "source": [
    "func2_description = send_email_out\n",
    "func2_description"
   ]
  },
  {
   "cell_type": "code",
   "execution_count": 86,
   "id": "7066a42d-7c26-482f-8f6a-5821a71ab11f",
   "metadata": {
    "tags": []
   },
   "outputs": [],
   "source": [
    "with open('./functions/tested functions/%s_module.py' % 'send_email', encoding='utf-8') as f:\n",
    "    func2_str = f.read()"
   ]
  },
  {
   "cell_type": "code",
   "execution_count": 87,
   "id": "cd2d4cc5-a7ff-4712-a02d-52eda3d7eed1",
   "metadata": {
    "tags": []
   },
   "outputs": [
    {
     "data": {
      "text/plain": [
       "'def send_email(to, subject, message_text):\\n    \"\"\"\\n    借助Gmail API创建并发送邮件函数\\n    :param to: 必要参数，字符串类型，用于表示邮件发送的目标邮箱地址；\\n    :param subject: 必要参数，字符串类型，表示邮件主题；\\n    :param message_text: 必要参数，字符串类型，表示邮件全部正文；\\n    :return：返回发送结果字典，若成功发送，则返回包含邮件ID和发送状态的字典。\\n    \"\"\"\\n    \\n    creds_file=\\'token_send.json\\'\\n    \\n    def create_message(to, subject, message_text):\\n        \"\"\"创建一个MIME邮件\"\"\"\\n        message = MIMEText(message_text)\\n        message[\\'to\\'] = to\\n        message[\\'from\\'] = \\'me\\'\\n        message[\\'subject\\'] = subject\\n        raw_message = base64.urlsafe_b64encode(message.as_string().encode(\\'utf-8\\')).decode(\\'utf-8\\')\\n        return {\\n            \\'raw\\': raw_message\\n        }\\n\\n    def send_message(service, user_id, message):\\n        \"\"\"发送邮件\"\"\"\\n        try:\\n            sent_message = service.users().messages().send(userId=user_id, body=message).execute()\\n            print(f\\'Message Id: {sent_message[\"id\"]}\\')\\n            return sent_message\\n        except Exception as e:\\n            print(f\\'An error occurred: {e}\\')\\n            return None\\n\\n    # 从本地文件中加载凭据\\n    creds = Credentials.from_authorized_user_file(creds_file)\\n\\n    # 创建 Gmail API 客户端\\n    service = build(\\'gmail\\', \\'v1\\', credentials=creds)\\n\\n    message = create_message(to, subject, message_text)\\n    res = send_message(service, \\'me\\', message)\\n\\n    return json.dumps(res)\\n'"
      ]
     },
     "execution_count": 87,
     "metadata": {},
     "output_type": "execute_result"
    }
   ],
   "source": [
    "func2_str"
   ]
  },
  {
   "cell_type": "code",
   "execution_count": 88,
   "id": "5493bfcc-cc86-4373-a9c1-47090026c091",
   "metadata": {
    "tags": []
   },
   "outputs": [],
   "source": [
    "system_content3 = \"我现在已完成Gmail API授权，授权文件为本地文件token.json。函数参数必须是字符串类型对象，函数返回结果必须是json表示的字符串对象。\""
   ]
  },
  {
   "cell_type": "code",
   "execution_count": 90,
   "id": "7ccaa8e7-d6c8-4c0e-944e-7ca95bfbc2dc",
   "metadata": {
    "tags": []
   },
   "outputs": [
    {
     "data": {
      "text/plain": [
       "\"请帮我编写一个python函数，用于查看我的Gmail邮箱中是否有来自端木天的未读邮件，并将最近一封未读邮件的内容解读出来，函数要求如下：                 1.函数参数userId和query，userId和query参数均是字符串类型，其中userId默认值为'me'，表示查看我的邮件，query参数表示查询的邮件来源者；                 2.函数返回结果是一个包含查询邮件内容的对象，返回结果本身必须是一个json格式对象；                 3.请将全部功能封装在一个函数内；                 4.请在函数编写过程中，在函数内部加入中文编写的详细的函数说明文档，用于说明函数功能、函数参数情况以及函数返回结果等信息；\""
      ]
     },
     "execution_count": 90,
     "metadata": {},
     "output_type": "execute_result"
    }
   ],
   "source": [
    "function_description"
   ]
  },
  {
   "cell_type": "code",
   "execution_count": 109,
   "id": "cdfedb13-1027-4a86-910f-d4c9f76818e3",
   "metadata": {
    "tags": []
   },
   "outputs": [],
   "source": [
    "messages_stage2 = [{\"role\": \"system\", \"content\": system_content3},\n",
    "                    {\"role\": \"user\", \"name\":\"example1_user\", \"content\": func1_description},\n",
    "                    {\"role\": \"assistant\", \"name\":\"example1_assistant\", \"content\": func1_str},\n",
    "                    {\"role\": \"user\", \"name\":\"example2_user\", \"content\": func2_description},\n",
    "                    {\"role\": \"assistant\", \"name\":\"example2_assistant\", \"content\": func2_str},\n",
    "                    {\"role\": \"user\",\"content\": function_description}]"
   ]
  },
  {
   "cell_type": "code",
   "execution_count": 110,
   "id": "c9cbecb6-b220-48bc-9907-6e1b81db6260",
   "metadata": {
    "tags": []
   },
   "outputs": [],
   "source": [
    "response = openai.ChatCompletion.create(\n",
    "  model=\"gpt-4-0613\",\n",
    "  messages=messages_stage2\n",
    ")"
   ]
  },
  {
   "cell_type": "code",
   "execution_count": 111,
   "id": "283e18d8-38b1-46d6-9329-411c5932605b",
   "metadata": {
    "tags": []
   },
   "outputs": [
    {
     "data": {
      "text/plain": [
       "'def get_unread_email(userId=\\'me\\', query=\\'\\'):\\n    \"\"\"\\n    查询Gmail邮箱中是否有来自特定发件人的未读邮件，并解读最近的一封未读邮件内容。\\n    \\n    :param userId: 可选参数，默认值为 \\'me\\'，表示查看我的邮件。userId是用户的邮件地址。 \\n    :param query: 可选参数，字符串类型，表示查询的邮件来源者。邮件来源者的名字或者邮箱地址都可以写在这里。\\n    :return: 返回一个json格式的字符串，该字符串包含了查询到的邮件内容，如果没有查询到符合条件的邮件，就返回一个空的json对象字符串。\\n    \"\"\"\\n    # 从本地文件中加载凭据\\n    creds = Credentials.from_authorized_user_file(\\'token.json\\')\\n    \\n    # 创建 Gmail API 客户端\\n    service = build(\\'gmail\\', \\'v1\\', credentials=creds)\\n\\n    # 格式化我们的查询\\n    query = f\"from:({query}) is:unread\"\\n    \\n    # 使用 Gmail API 中的 list 方法列出满足我们查询条件的前 1 封邮件\\n    results = service.users().messages().list(\\n        userId=userId, \\n        maxResults=1, \\n        q=query).execute()\\n    messages = results.get(\\'messages\\', [])\\n\\n    # 如果邮件存在\\n    if messages:\\n        for message in messages:\\n            # 获取邮件的详细信息\\n            msg = service.users().messages().get(userId=userId, id=message[\\'id\\']).execute()\\n            \\n        return json.dumps(msg)\\n    else:\\n        return json.dumps({})'"
      ]
     },
     "execution_count": 111,
     "metadata": {},
     "output_type": "execute_result"
    }
   ],
   "source": [
    "s = response.choices[0].message['content']\n",
    "s"
   ]
  },
  {
   "cell_type": "markdown",
   "id": "77a293b7-1068-40d3-b0f6-08f779ad7e42",
   "metadata": {},
   "source": [
    "接下来我们将字符串解析成对应的函数并进行运行："
   ]
  },
  {
   "cell_type": "code",
   "execution_count": 112,
   "id": "e55c9137-0a13-4f3f-82fc-439917f66f9f",
   "metadata": {
    "tags": []
   },
   "outputs": [
    {
     "name": "stdout",
     "output_type": "stream",
     "text": [
      "def get_unread_email(userId='me', query=''):\n",
      "    \"\"\"\n",
      "    查询Gmail邮箱中是否有来自特定发件人的未读邮件，并解读最近的一封未读邮件内容。\n",
      "    \n",
      "    :param userId: 可选参数，默认值为 'me'，表示查看我的邮件。userId是用户的邮件地址。 \n",
      "    :param query: 可选参数，字符串类型，表示查询的邮件来源者。邮件来源者的名字或者邮箱地址都可以写在这里。\n",
      "    :return: 返回一个json格式的字符串，该字符串包含了查询到的邮件内容，如果没有查询到符合条件的邮件，就返回一个空的json对象字符串。\n",
      "    \"\"\"\n",
      "    # 从本地文件中加载凭据\n",
      "    creds = Credentials.from_authorized_user_file('token.json')\n",
      "    \n",
      "    # 创建 Gmail API 客户端\n",
      "    service = build('gmail', 'v1', credentials=creds)\n",
      "\n",
      "    # 格式化我们的查询\n",
      "    query = f\"from:({query}) is:unread\"\n",
      "    \n",
      "    # 使用 Gmail API 中的 list 方法列出满足我们查询条件的前 1 封邮件\n",
      "    results = service.users().messages().list(\n",
      "        userId=userId, \n",
      "        maxResults=1, \n",
      "        q=query).execute()\n",
      "    messages = results.get('messages', [])\n",
      "\n",
      "    # 如果邮件存在\n",
      "    if messages:\n",
      "        for message in messages:\n",
      "            # 获取邮件的详细信息\n",
      "            msg = service.users().messages().get(userId=userId, id=message['id']).execute()\n",
      "            \n",
      "        return json.dumps(msg)\n",
      "    else:\n",
      "        return json.dumps({})\n"
     ]
    }
   ],
   "source": [
    "extract_function_code(s, detail=1)"
   ]
  },
  {
   "cell_type": "markdown",
   "id": "c39eaf3c-b8da-44a2-9dc8-96c28070a6b3",
   "metadata": {},
   "source": [
    "此时模型定义的函数为get_unread_email，通过人工审核应该能发现，该函数能够满足当前功能需求。接下来我们尝试带入该函数到Chat模型中进行功能验证："
   ]
  },
  {
   "cell_type": "code",
   "execution_count": 114,
   "id": "59a531fe-bdab-45f5-9a37-57abe1d9026c",
   "metadata": {
    "tags": []
   },
   "outputs": [
    {
     "data": {
      "text/plain": [
       "<function __main__.get_unread_email(userId='me', query='')>"
      ]
     },
     "execution_count": 114,
     "metadata": {},
     "output_type": "execute_result"
    }
   ],
   "source": [
    "get_unread_email"
   ]
  },
  {
   "cell_type": "code",
   "execution_count": 116,
   "id": "dcf66679-c6ed-4f5f-9ca2-7335ffcd24a5",
   "metadata": {
    "tags": []
   },
   "outputs": [],
   "source": [
    "functions_list = [get_unread_email]"
   ]
  },
  {
   "cell_type": "code",
   "execution_count": 121,
   "id": "5f73525e-1f03-4f87-80a5-8bcaae560deb",
   "metadata": {
    "tags": []
   },
   "outputs": [],
   "source": [
    "functions = auto_functions(functions_list)"
   ]
  },
  {
   "cell_type": "code",
   "execution_count": 122,
   "id": "9906abbd-8768-42c6-bbd9-a860179e8cea",
   "metadata": {
    "tags": []
   },
   "outputs": [],
   "source": [
    "messages = [{\"role\": \"user\", \"content\": '请查询我的邮箱，看下里面是否有来自端木天的未读邮件。'}]"
   ]
  },
  {
   "cell_type": "code",
   "execution_count": 123,
   "id": "7f902147-04c4-4c92-a475-326ae6b8a524",
   "metadata": {
    "tags": []
   },
   "outputs": [],
   "source": [
    "response = openai.ChatCompletion.create(\n",
    "        model=\"gpt-4-0613\",\n",
    "        messages=messages,\n",
    "        functions=functions,\n",
    "        function_call=\"auto\",  \n",
    "    )"
   ]
  },
  {
   "cell_type": "code",
   "execution_count": 124,
   "id": "9d39ec73-80dc-4164-9cb5-9b94ac055e31",
   "metadata": {
    "tags": []
   },
   "outputs": [
    {
     "data": {
      "text/plain": [
       "<OpenAIObject chat.completion id=chatcmpl-7flOTK1poEcdoyElD2OLuJW4jnror at 0x1e1f9bc84a0> JSON: {\n",
       "  \"id\": \"chatcmpl-7flOTK1poEcdoyElD2OLuJW4jnror\",\n",
       "  \"object\": \"chat.completion\",\n",
       "  \"created\": 1690187985,\n",
       "  \"model\": \"gpt-4-0613\",\n",
       "  \"choices\": [\n",
       "    {\n",
       "      \"index\": 0,\n",
       "      \"message\": {\n",
       "        \"role\": \"assistant\",\n",
       "        \"content\": null,\n",
       "        \"function_call\": {\n",
       "          \"name\": \"get_unread_email\",\n",
       "          \"arguments\": \"{\\n  \\\"userId\\\": \\\"me\\\",\\n  \\\"query\\\": \\\"\\u7aef\\u6728\\u5929\\\"\\n}\"\n",
       "        }\n",
       "      },\n",
       "      \"finish_reason\": \"function_call\"\n",
       "    }\n",
       "  ],\n",
       "  \"usage\": {\n",
       "    \"prompt_tokens\": 126,\n",
       "    \"completion_tokens\": 26,\n",
       "    \"total_tokens\": 152\n",
       "  }\n",
       "}"
      ]
     },
     "execution_count": 124,
     "metadata": {},
     "output_type": "execute_result"
    }
   ],
   "source": [
    "response"
   ]
  },
  {
   "cell_type": "markdown",
   "id": "13994dd9-7d59-44ec-8cd1-3ec557904d01",
   "metadata": {},
   "source": [
    "能够发现，模型能够正常使用用户需求，并创建对应的符合要求的参数。接下来将该函数直接带入到多轮对话函数中测试效果，并同时带入其他外部函数以便进行更加复杂的功能测试。这里我们提前往Gmail邮箱中发送一封邮件，邮件内容如下："
   ]
  },
  {
   "cell_type": "markdown",
   "id": "230777aa-3478-4e6f-b802-6dde111f18da",
   "metadata": {},
   "source": [
    "<center><img src=\"https://ml2022.oss-cn-hangzhou.aliyuncs.com/img/image-20230724164749799.png\" alt=\"image-20230724164749799\" style=\"zoom:20%;\" />"
   ]
  },
  {
   "cell_type": "markdown",
   "id": "e07f8ddf-234f-4df7-9932-1641a50f7ccc",
   "metadata": {},
   "source": [
    "接下来进行功能测试："
   ]
  },
  {
   "cell_type": "code",
   "execution_count": 571,
   "id": "cd2c5b81-3bc5-42dd-9de7-cd3497f915e6",
   "metadata": {
    "tags": []
   },
   "outputs": [],
   "source": [
    "functions_list = [get_latest_email, send_email, retrieve_emails, get_email_counts, get_unread_email]"
   ]
  },
  {
   "cell_type": "code",
   "execution_count": 574,
   "id": "6d44d7ad-d523-416c-806e-31561c8a1250",
   "metadata": {
    "tags": []
   },
   "outputs": [
    {
     "name": "stdout",
     "output_type": "stream",
     "text": [
      "模型回答: 你好！有什么可以帮助您的吗？\n"
     ]
    },
    {
     "name": "stdin",
     "output_type": "stream",
     "text": [
      "您还有其他问题吗？(输入退出以结束对话):  我的邮箱里有来自端木天的未读邮件么？\n"
     ]
    },
    {
     "name": "stdout",
     "output_type": "stream",
     "text": [
      "模型回答: 是的，您有一封来自端木天的未读邮件。这封邮件的主题是“本周工作进度”，他在邮件中提到：“下半年技术开发计划已做好，随时可以向您进行汇报。”\n"
     ]
    },
    {
     "name": "stdin",
     "output_type": "stream",
     "text": [
      "您还有其他问题吗？(输入退出以结束对话):  好的，请给他回复邮件，请他明天上午10点来我的办公室进行下半年开发计划的汇报。\n"
     ]
    },
    {
     "name": "stdout",
     "output_type": "stream",
     "text": [
      "Message Id: 18982749d8f872e9\n",
      "模型回答: 好的，已经给端木天发送了邮件，通知他明天上午10点来你的办公室进行下半年开发计划的汇报。\n"
     ]
    },
    {
     "name": "stdin",
     "output_type": "stream",
     "text": [
      "您还有其他问题吗？(输入退出以结束对话):  退出\n"
     ]
    }
   ],
   "source": [
    "chat_with_model(functions_list=functions_list, \n",
    "                system_message=[{\"role\": \"system\", \"content\": \"端木天的邮箱地址是:2323365771@qq.com\"}])"
   ]
  },
  {
   "cell_type": "markdown",
   "id": "2c43d771-fd7a-4c0b-95bb-96bd29163c99",
   "metadata": {},
   "source": [
    "而对话完成后，我们即可在端木天的邮箱中查看到回复邮件如下，注意这个邮件回复的过程实际上是调用了send_email功能来进行的实现："
   ]
  },
  {
   "cell_type": "markdown",
   "id": "1874fde4-e974-4e3d-8adc-f5fde8dfb51b",
   "metadata": {},
   "source": [
    "<center><img src=\"https://ml2022.oss-cn-hangzhou.aliyuncs.com/img/c021d422fdc861cd6467821fe797eec.jpg\" alt=\"c021d422fdc861cd6467821fe797eec\" style=\"zoom:20%;\" />"
   ]
  },
  {
   "cell_type": "markdown",
   "id": "b4f5074d-607d-46cd-8132-62ee6feda065",
   "metadata": {},
   "source": [
    "至此，我们就完整的执行了一次新需求自动编写函数实现的完整流程。"
   ]
  },
  {
   "cell_type": "markdown",
   "id": "7e6c6a90-e6b5-4197-a753-5a9b4d5fee04",
   "metadata": {},
   "source": [
    "### 3.全自动功能函数编写流程"
   ]
  },
  {
   "cell_type": "markdown",
   "id": "4151d2da-1759-4444-9c49-43eb64c48e64",
   "metadata": {},
   "source": [
    "&emsp;&emsp;接下来，我们将上述基于LtM提示流程的稳定编写外部函数流程进行更高层次的函数封装，使得能够更加自动化进行外部函数创建。这里需要注意的是，在进行高层次函数封装之前，我们需要围绕上述全自动开发流程进行更高层次的抽象，以获得一个更为一般的、适用于更多一般情况的全自动开发流程。"
   ]
  },
  {
   "cell_type": "markdown",
   "id": "9d8d844f-b385-4336-9f73-6be869422f26",
   "metadata": {},
   "source": [
    "#### 3.1 提示词管理"
   ]
  },
  {
   "cell_type": "markdown",
   "id": "b878df24-9593-43a0-9ad0-31e19f04517b",
   "metadata": {},
   "source": [
    "&emsp;&emsp;首先，面对一个基于大语言模型的全自动的代码编写和功能开发流程，非常重要的一点是对各模型、各环节的提示词进行妥善管理，以便提升对大语言模型的掌控力。当然，不同开发项目在前期需要探索得到适用于当前开发流程的（能获得稳定代码结果的）提示流程，例如对于当前开发项目而言，总共是两个阶段进行提示，并且第一阶段还会采用LtM提示法，因此每个函数的背后总共都有三个提示阶段，这里我们可以围绕每个经过测试的函数，创建一个JSON对象以保存其每个阶段的提示过程。"
   ]
  },
  {
   "cell_type": "markdown",
   "id": "0528eca7-1ef9-4412-9fc3-4928cb595ed4",
   "metadata": {},
   "source": [
    "> 传统开发项目的代码管理有多重要，全自动开发流程的提示词管理就有多重要。"
   ]
  },
  {
   "cell_type": "markdown",
   "id": "a1b43e94-6b62-46d5-a2c0-0b6950c2f2dc",
   "metadata": {},
   "source": [
    "- get_latest_email完整提示示例创建过程"
   ]
  },
  {
   "cell_type": "markdown",
   "id": "a6f9a9a7-76be-4ac7-8a89-690ab9c3ec2b",
   "metadata": {},
   "source": [
    "&emsp;&emsp;首先是get_latest_email函数各阶段提示词及提示结果保存过程。在此前的提示过程中，我们以该函数作为提示示例，非常好的完成了Few-shot提示过程。此前的流程中我们手动编写的该函数的三个阶段提示词及结果如下："
   ]
  },
  {
   "cell_type": "code",
   "execution_count": 3,
   "id": "f1574b17-17ac-4525-ac44-aabd40e0311c",
   "metadata": {
    "tags": []
   },
   "outputs": [],
   "source": [
    "# 第一阶段LtM_CD阶段提示词及输出结果\n",
    "get_latest_email_CD_input = \"请帮我查下Gmail邮箱里最后一封邮件内容。\"\n",
    "get_latest_email_pi = \"当前需求中可以作为函数参数的是：1.查看谁的邮箱。\"\n",
    "get_latest_email_messages_CD = [\n",
    "                                {\"role\": \"user\", \"content\": get_latest_email_CD_input},\n",
    "                                {\"role\": \"assistant\", \"content\": get_latest_email_pi}\n",
    "                                ]\n",
    "\n",
    "# 第一阶段LtM_CM阶段提示词及输出结果\n",
    "get_latest_email_CM_input = get_latest_email_CD_input + get_latest_email_pi\n",
    "get_latest_email_description = \"请帮我编写一个python函数，用于查看我的Gmail邮箱中最后一封邮件信息，函数要求如下：\\\n",
    "                 1.函数参数userId，userId是字符串参数，默认情况下取值为'me'，表示查看我的邮件；\\\n",
    "                 2.函数返回结果是一个包含最后一封邮件信息的对象，返回结果本身必须是一个json格式对象；\\\n",
    "                 3.请将全部功能封装在一个函数内；\\\n",
    "                 4.请在函数编写过程中，在函数内部加入中文编写的详细的函数说明文档，用于说明函数功能、函数参数情况以及函数返回结果等信息；\"\n",
    "get_latest_email_messages_CM = [\n",
    "                                {\"role\": \"user\", \"content\": get_latest_email_CM_input},\n",
    "                                {\"role\": \"assistant\", \"content\":get_latest_email_description}\n",
    "                                ]\n",
    "\n",
    "# 第二阶段提示词及输出结果\n",
    "with open('./functions/tested functions/%s_module.py' % 'get_latest_email', encoding='utf-8') as f:\n",
    "    get_latest_email_function = f.read()\n",
    "get_latest_email_messages = [\n",
    "                             {\"role\": \"user\", \"content\": get_latest_email_description},\n",
    "                             {\"role\": \"assistant\", \"content\":get_latest_email_function}\n",
    "                             ]  "
   ]
  },
  {
   "cell_type": "markdown",
   "id": "37d15252-be91-4c43-83b1-1a0bbe32d9b1",
   "metadata": {},
   "source": [
    "这里有两点需要注意，其一是在提示词保存过程中，不仅需要保存提示的提示词，还需要保存提示结果，以便作为其他提示过程的提示示例；其二则是保存形式方面，考虑到实际开发过程多用Chat模型，因此建议以类messages参数形式进行保存，而上面的代码其实就是根据提示的各个阶段，分阶段保存每个阶段的示例messages（即一个role message、一个assistant message）。"
   ]
  },
  {
   "cell_type": "markdown",
   "id": "f4e0a73f-e58c-45ba-ba80-5656d419a047",
   "metadata": {},
   "source": [
    "&emsp;&emsp;在以message形式保存完每个阶段的提示内容之后，接下来我们将三个提示示例以如下格式进行保存，即将一个函数对象的三个阶段的全部提示示例保存为一个字典，并且字典中的每个键值对代表一个阶段的提示内容。同时，每个函数的完整提示示例都以function_name_prompt命名，具体get_latest_email_prompt对象创建过程如下："
   ]
  },
  {
   "cell_type": "code",
   "execution_count": 4,
   "id": "2248c50d-f844-4e18-912c-e46049e6b509",
   "metadata": {
    "tags": []
   },
   "outputs": [],
   "source": [
    "get_latest_email_prompt = {\n",
    "                            \"stage1_CD\": get_latest_email_messages_CD,\n",
    "                            \"stage1_CM\": get_latest_email_messages_CM,\n",
    "                            \"stage2\": get_latest_email_messages\n",
    "                          }    "
   ]
  },
  {
   "cell_type": "code",
   "execution_count": 5,
   "id": "09854755-f3f1-4071-8b2e-212e592ae7d8",
   "metadata": {
    "tags": []
   },
   "outputs": [
    {
     "data": {
      "text/plain": [
       "{'stage1_CD': [{'role': 'user', 'content': '请帮我查下Gmail邮箱里最后一封邮件内容。'},\n",
       "  {'role': 'assistant', 'content': '当前需求中可以作为函数参数的是：1.查看谁的邮箱。'}],\n",
       " 'stage1_CM': [{'role': 'user',\n",
       "   'content': '请帮我查下Gmail邮箱里最后一封邮件内容。当前需求中可以作为函数参数的是：1.查看谁的邮箱。'},\n",
       "  {'role': 'assistant',\n",
       "   'content': \"请帮我编写一个python函数，用于查看我的Gmail邮箱中最后一封邮件信息，函数要求如下：                 1.函数参数userId，userId是字符串参数，默认情况下取值为'me'，表示查看我的邮件；                 2.函数返回结果是一个包含最后一封邮件信息的对象，返回结果本身必须是一个json格式对象；                 3.请将全部功能封装在一个函数内；                 4.请在函数编写过程中，在函数内部加入中文编写的详细的函数说明文档，用于说明函数功能、函数参数情况以及函数返回结果等信息；\"}],\n",
       " 'stage2': [{'role': 'user',\n",
       "   'content': \"请帮我编写一个python函数，用于查看我的Gmail邮箱中最后一封邮件信息，函数要求如下：                 1.函数参数userId，userId是字符串参数，默认情况下取值为'me'，表示查看我的邮件；                 2.函数返回结果是一个包含最后一封邮件信息的对象，返回结果本身必须是一个json格式对象；                 3.请将全部功能封装在一个函数内；                 4.请在函数编写过程中，在函数内部加入中文编写的详细的函数说明文档，用于说明函数功能、函数参数情况以及函数返回结果等信息；\"},\n",
       "  {'role': 'assistant',\n",
       "   'content': 'def get_latest_email(userId):\\n    \"\"\"\\n    查询Gmail邮箱中最后一封邮件信息\\n    :param userId: 必要参数，字符串类型，用于表示需要查询的邮箱ID，\\\\\\n    注意，当查询我的邮箱时，userId需要输入\\'me\\'；\\n    :return：包含最后一封邮件全部信息的对象，该对象由Gmail API创建得到，且保存为JSON格式\\n    \"\"\"\\n    # 从本地文件中加载凭据\\n    creds = Credentials.from_authorized_user_file(\\'token.json\\')\\n    \\n    # 创建 Gmail API 客户端\\n    service = build(\\'gmail\\', \\'v1\\', credentials=creds)\\n    \\n    # 列出用户的一封最新邮件\\n    results = service.users().messages().list(userId=userId, maxResults=1).execute()\\n    messages = results.get(\\'messages\\', [])\\n\\n    # 遍历邮件\\n    for message in messages:\\n        # 获取邮件的详细信息\\n        msg = service.users().messages().get(userId=\\'me\\', id=message[\\'id\\']).execute()\\n        \\n    return json.dumps(msg)\\n'}]}"
      ]
     },
     "execution_count": 5,
     "metadata": {},
     "output_type": "execute_result"
    }
   ],
   "source": [
    "get_latest_email_prompt"
   ]
  },
  {
   "cell_type": "markdown",
   "id": "4efe47fd-ccba-4402-8681-488b952b28af",
   "metadata": {},
   "source": [
    "接下来即可将其写入本地，并将其和对应函数的py文件保存为同一文件夹内："
   ]
  },
  {
   "cell_type": "code",
   "execution_count": 6,
   "id": "e9dbb00f-a2a2-482a-b6da-cc3e3f377d37",
   "metadata": {
    "tags": []
   },
   "outputs": [],
   "source": [
    "with open('./functions/tested functions/%s_prompt.json' % 'get_latest_email', 'w') as f:\n",
    "    json.dump(get_latest_email_prompt, f)"
   ]
  },
  {
   "cell_type": "markdown",
   "id": "77ce36ef-5708-42a5-9da2-c9b13abb3671",
   "metadata": {},
   "source": [
    "而在保存了完整的提示内容（提示示例）之后，之后可以采用如下方式进行读取："
   ]
  },
  {
   "cell_type": "code",
   "execution_count": 7,
   "id": "c045d592-6b72-4860-879d-f612b511d861",
   "metadata": {
    "tags": []
   },
   "outputs": [],
   "source": [
    "with open('./functions/tested functions/%s_prompt.json' % 'get_latest_email', 'r') as f:\n",
    "    data = json.load(f)"
   ]
  },
  {
   "cell_type": "code",
   "execution_count": 8,
   "id": "a4e81687-13d8-4a93-800b-5eea1e624d88",
   "metadata": {
    "tags": []
   },
   "outputs": [
    {
     "data": {
      "text/plain": [
       "{'stage1_CD': [{'role': 'user', 'content': '请帮我查下Gmail邮箱里最后一封邮件内容。'},\n",
       "  {'role': 'assistant', 'content': '当前需求中可以作为函数参数的是：1.查看谁的邮箱。'}],\n",
       " 'stage1_CM': [{'role': 'user',\n",
       "   'content': '请帮我查下Gmail邮箱里最后一封邮件内容。当前需求中可以作为函数参数的是：1.查看谁的邮箱。'},\n",
       "  {'role': 'assistant',\n",
       "   'content': \"请帮我编写一个python函数，用于查看我的Gmail邮箱中最后一封邮件信息，函数要求如下：                 1.函数参数userId，userId是字符串参数，默认情况下取值为'me'，表示查看我的邮件；                 2.函数返回结果是一个包含最后一封邮件信息的对象，返回结果本身必须是一个json格式对象；                 3.请将全部功能封装在一个函数内；                 4.请在函数编写过程中，在函数内部加入中文编写的详细的函数说明文档，用于说明函数功能、函数参数情况以及函数返回结果等信息；\"}],\n",
       " 'stage2': [{'role': 'user',\n",
       "   'content': \"请帮我编写一个python函数，用于查看我的Gmail邮箱中最后一封邮件信息，函数要求如下：                 1.函数参数userId，userId是字符串参数，默认情况下取值为'me'，表示查看我的邮件；                 2.函数返回结果是一个包含最后一封邮件信息的对象，返回结果本身必须是一个json格式对象；                 3.请将全部功能封装在一个函数内；                 4.请在函数编写过程中，在函数内部加入中文编写的详细的函数说明文档，用于说明函数功能、函数参数情况以及函数返回结果等信息；\"},\n",
       "  {'role': 'assistant',\n",
       "   'content': 'def get_latest_email(userId):\\n    \"\"\"\\n    查询Gmail邮箱中最后一封邮件信息\\n    :param userId: 必要参数，字符串类型，用于表示需要查询的邮箱ID，\\\\\\n    注意，当查询我的邮箱时，userId需要输入\\'me\\'；\\n    :return：包含最后一封邮件全部信息的对象，该对象由Gmail API创建得到，且保存为JSON格式\\n    \"\"\"\\n    # 从本地文件中加载凭据\\n    creds = Credentials.from_authorized_user_file(\\'token.json\\')\\n    \\n    # 创建 Gmail API 客户端\\n    service = build(\\'gmail\\', \\'v1\\', credentials=creds)\\n    \\n    # 列出用户的一封最新邮件\\n    results = service.users().messages().list(userId=userId, maxResults=1).execute()\\n    messages = results.get(\\'messages\\', [])\\n\\n    # 遍历邮件\\n    for message in messages:\\n        # 获取邮件的详细信息\\n        msg = service.users().messages().get(userId=\\'me\\', id=message[\\'id\\']).execute()\\n        \\n    return json.dumps(msg)\\n'}]}"
      ]
     },
     "execution_count": 8,
     "metadata": {},
     "output_type": "execute_result"
    }
   ],
   "source": [
    "data"
   ]
  },
  {
   "cell_type": "markdown",
   "id": "0577bda9-e7fc-45ea-bf08-d84452b5798d",
   "metadata": {},
   "source": [
    "- send_email、retrieve_emails和get_email_counts完整提示示例创建过程"
   ]
  },
  {
   "cell_type": "markdown",
   "id": "b4be3007-fcc3-44d3-b159-8c655e2196c6",
   "metadata": {},
   "source": [
    "&emsp;&emsp;接下来我们继续将此前定义好的send_email、retrieve_emails和get_email_counts函数相关提示流程进行本地保存。首先send_email相关提示示例整理如下："
   ]
  },
  {
   "cell_type": "code",
   "execution_count": 9,
   "id": "f1574a3f-4137-4c92-a1f2-893943eddc3c",
   "metadata": {
    "tags": []
   },
   "outputs": [],
   "source": [
    "send_email_CD_input = \"请帮我给陈明发送一封Gmail邮件，请他明天早上9点半来我办公室开会，商量下半年技术开发计划。\"\n",
    "send_email_pi = \"当前需求中可以作为函数参数的是：1.发送邮件的对象；2.发送邮件的主题；3.邮件具体内容\"\n",
    "send_email_messages_CD = [\n",
    "                          {\"role\": \"user\", \"content\": send_email_CD_input},\n",
    "                          {\"role\": \"assistant\", \"content\": send_email_pi}\n",
    "                         ]\n",
    "\n",
    "send_email_CM_input = send_email_CD_input + send_email_pi\n",
    "send_email_description = \"请帮我编写一个python函数，用于给陈明发送邮件，请他明天早上9点半来我办公室开会，商量下半年技术开发计划，函数要求如下：\\\n",
    "                  1.函数参数to、subject和message_text，三个参数都是字符串类型，其中to表示发送邮件对象，subject表示邮件主题，message_text表示邮件具体内容；\\\n",
    "                  2.函数返回结果是当前邮件发送状态，返回结果本身必须是一个json格式对象；\\\n",
    "                  3.请将全部功能封装在一个函数内；\\\n",
    "                  4.请在函数编写过程中，在函数内部加入中文编写的详细的函数说明文档，用于说明函数功能、函数参数情况以及函数返回结果等信息；\"\n",
    "send_email_messages_CM = [\n",
    "                          {\"role\": \"user\", \"content\": send_email_CM_input},\n",
    "                          {\"role\": \"assistant\", \"content\":send_email_description}\n",
    "                         ]\n",
    "\n",
    "with open('./functions/tested functions/%s_module.py' % 'send_email', encoding='utf-8') as f:\n",
    "    send_email_function = f.read()\n",
    "send_email_messages = [\n",
    "                       {\"role\": \"user\", \"content\": send_email_description},\n",
    "                       {\"role\": \"assistant\", \"content\":send_email_function}\n",
    "                      ] "
   ]
  },
  {
   "cell_type": "markdown",
   "id": "70cbf516-5c78-430d-adb1-2180bb01931e",
   "metadata": {},
   "source": [
    "完整的包含全部提示示例的send_email_prompt对象如下："
   ]
  },
  {
   "cell_type": "code",
   "execution_count": 10,
   "id": "b2cb4b10-43ab-4598-8bc2-dbbe3bedd898",
   "metadata": {
    "tags": []
   },
   "outputs": [],
   "source": [
    "send_email_prompt = {\n",
    "                     \"stage1_CD\": send_email_messages_CD,\n",
    "                     \"stage1_CM\": send_email_messages_CM,\n",
    "                     \"stage2\": send_email_messages\n",
    "                    }       "
   ]
  },
  {
   "cell_type": "markdown",
   "id": "42976f78-adb0-4051-add8-7c12ae0a36d9",
   "metadata": {},
   "source": [
    "同样的，将其写入send_email_prompt.json文件中："
   ]
  },
  {
   "cell_type": "code",
   "execution_count": 11,
   "id": "20823624-5ce9-431a-ac6c-50f1b9cd366a",
   "metadata": {
    "tags": []
   },
   "outputs": [],
   "source": [
    "with open('./functions/tested functions/%s_prompt.json' % 'send_email', 'w') as f:\n",
    "    json.dump(send_email_prompt, f)"
   ]
  },
  {
   "cell_type": "markdown",
   "id": "f78c5b13-a368-4df4-8be8-b3a35e423a7d",
   "metadata": {},
   "source": [
    "&emsp;&emsp;然后是retrieve_emails和get_email_counts函数的提示示例编写过程。需要注意的是，该函数是上一小节借助ChatGPT和Chat模型编写的两个函数，这两个函数此前并没有编写完整的三阶段提示词，这里需要重新进行编写。首先关于retrieve_emails函数三阶段提示示例编写如下："
   ]
  },
  {
   "cell_type": "code",
   "execution_count": 12,
   "id": "7d9cd62a-8ebe-4db5-be47-fe2a5703340d",
   "metadata": {
    "tags": []
   },
   "outputs": [],
   "source": [
    "code_retrieve_emails = inspect.getsource(retrieve_emails)\n",
    "with open('./functions/tested functions/%s_module.py' % 'retrieve_emails', 'w', encoding='utf-8') as f:\n",
    "    f.write(code_retrieve_emails)"
   ]
  },
  {
   "cell_type": "code",
   "execution_count": 13,
   "id": "9ced00e1-e019-45b3-b4c0-94137c968b14",
   "metadata": {
    "tags": []
   },
   "outputs": [],
   "source": [
    "retrieve_emails_CD_input = \"请帮我查看下最近5封邮件的邮件内容\"\n",
    "retrieve_emails_pi = \"当前需求中可以作为函数参数的是：1.查询几封邮件；2.查询谁的邮箱\"\n",
    "retrieve_emails_messages_CD = [\n",
    "                          {\"role\": \"user\", \"content\": retrieve_emails_CD_input},\n",
    "                          {\"role\": \"assistant\", \"content\": retrieve_emails_pi}\n",
    "                         ]\n",
    "\n",
    "retrieve_emails_CM_input = retrieve_emails_CD_input + retrieve_emails_pi\n",
    "retrieve_emails_description = \"请帮我编写一个python函数，查询我的邮箱里面最近的几封邮件信息，函数要求如下：\\\n",
    "                  1.函数参数n和user_id，两个参数都是字符串类型，其中n表示查询最近的几封邮件，user_id表示要检索邮件的用户的ID。默认值是'me'，表示当前授权的用户；\\\n",
    "                  2.函数返回结果是查询到的这几封邮件的邮件内容，返回结果本身必须是一个json格式对象；\\\n",
    "                  3.请将全部功能封装在一个函数内；\\\n",
    "                  4.请在函数编写过程中，在函数内部加入中文编写的详细的函数说明文档，用于说明函数功能、函数参数情况以及函数返回结果等信息；\"\n",
    "retrieve_emails_messages_CM = [\n",
    "                          {\"role\": \"user\", \"content\": retrieve_emails_CM_input},\n",
    "                          {\"role\": \"assistant\", \"content\":retrieve_emails_description}\n",
    "                         ]\n",
    "\n",
    "with open('./functions/tested functions/%s_module.py' % 'retrieve_emails', encoding='utf-8') as f:\n",
    "    retrieve_emails_function = f.read()\n",
    "retrieve_emails_messages = [\n",
    "                       {\"role\": \"user\", \"content\": retrieve_emails_description},\n",
    "                       {\"role\": \"assistant\", \"content\":retrieve_emails_function}\n",
    "                      ] "
   ]
  },
  {
   "cell_type": "code",
   "execution_count": 14,
   "id": "430b5ab9-5581-4c98-b7b6-8833da7ec1fd",
   "metadata": {
    "tags": []
   },
   "outputs": [],
   "source": [
    "retrieve_emails_prompt = {\n",
    "                     \"stage1_CD\": retrieve_emails_messages_CD,\n",
    "                     \"stage1_CM\": retrieve_emails_messages_CM,\n",
    "                     \"stage2\": retrieve_emails_messages\n",
    "                    }   "
   ]
  },
  {
   "cell_type": "code",
   "execution_count": 15,
   "id": "d4240efe-43d7-4852-9257-f1c9579e59d1",
   "metadata": {
    "collapsed": true,
    "jupyter": {
     "outputs_hidden": true
    },
    "tags": []
   },
   "outputs": [
    {
     "data": {
      "text/plain": [
       "{'stage1_CD': [{'role': 'user', 'content': '请帮我查看下最近5封邮件的邮件内容'},\n",
       "  {'role': 'assistant', 'content': '当前需求中可以作为函数参数的是：1.查询几封邮件；2.查询谁的邮箱'}],\n",
       " 'stage1_CM': [{'role': 'user',\n",
       "   'content': '请帮我查看下最近5封邮件的邮件内容当前需求中可以作为函数参数的是：1.查询几封邮件；2.查询谁的邮箱'},\n",
       "  {'role': 'assistant',\n",
       "   'content': \"请帮我编写一个python函数，查询我的邮箱里面最近的几封邮件信息，函数要求如下：                  1.函数参数n和user_id，两个参数都是字符串类型，其中n表示查询最近的几封邮件，user_id表示要检索邮件的用户的ID。默认值是'me'，表示当前授权的用户；                  2.函数返回结果是查询到的这几封邮件的邮件内容，返回结果本身必须是一个json格式对象；                  3.请将全部功能封装在一个函数内；                  4.请在函数编写过程中，在函数内部加入中文编写的详细的函数说明文档，用于说明函数功能、函数参数情况以及函数返回结果等信息；\"}],\n",
       " 'stage2': [{'role': 'user',\n",
       "   'content': \"请帮我编写一个python函数，查询我的邮箱里面最近的几封邮件信息，函数要求如下：                  1.函数参数n和user_id，两个参数都是字符串类型，其中n表示查询最近的几封邮件，user_id表示要检索邮件的用户的ID。默认值是'me'，表示当前授权的用户；                  2.函数返回结果是查询到的这几封邮件的邮件内容，返回结果本身必须是一个json格式对象；                  3.请将全部功能封装在一个函数内；                  4.请在函数编写过程中，在函数内部加入中文编写的详细的函数说明文档，用于说明函数功能、函数参数情况以及函数返回结果等信息；\"},\n",
       "  {'role': 'assistant',\n",
       "   'content': 'def retrieve_emails(n, user_id=\\'me\\'):\\n    \"\"\"\\n    获取指定数量的最近邮件。\\n\\n    参数:\\n    n: 要检索的邮件的数量。这应该是一个整数。\\n    user_id: 要检索邮件的用户的ID。默认值是\\'me\\'，表示当前授权的用户。\\n\\n    返回:\\n    一个列表，其中每个元素都是一个字典，表示一封邮件。每个字典包含以下键：\\n    \\'From\\': 发件人的邮箱地址。\\n    \\'Date\\': 邮件的发送日期。\\n    \\'Subject\\': 邮件的主题。\\n    \\'Snippet\\': 邮件的摘要（前100个字符）。\\n    \"\"\"\\n    # 从本地文件中加载凭据\\n    creds = Credentials.from_authorized_user_file(\\'token.json\\')\\n\\n    # 创建 Gmail API 客户端\\n    service = build(\\'gmail\\', \\'v1\\', credentials=creds)\\n\\n    # 获取邮件列表\\n    results = service.users().messages().list(userId=user_id).execute()\\n    messages = results.get(\\'messages\\', [])[:n]\\n\\n    emails = []\\n    for message in messages:\\n        msg = service.users().messages().get(userId=user_id, id=message[\\'id\\']).execute()\\n\\n        # 解码邮件内容\\n        payload = msg[\\'payload\\']\\n        headers = payload.get(\"headers\")\\n        parts = payload.get(\"parts\")\\n\\n        data = {}\\n\\n        if headers:\\n            for d in headers:\\n                name = d.get(\"name\")\\n                if name.lower() == \"from\":\\n                    data[\\'From\\'] = d.get(\"value\")\\n                if name.lower() == \"date\":\\n                    data[\\'Date\\'] = parser.parse(d.get(\"value\")).strftime(\\'%Y-%m-%d %H:%M:%S\\')\\n                if name.lower() == \"subject\":\\n                    data[\\'Subject\\'] = d.get(\"value\")\\n\\n        if parts:\\n            for part in parts:\\n                mimeType = part.get(\"mimeType\")\\n                body = part.get(\"body\")\\n                data_decoded = base64.urlsafe_b64decode(body.get(\"data\")).decode()\\n                if mimeType == \"text/plain\":\\n                    data[\\'Snippet\\'] = data_decoded\\n                elif mimeType == \"text/html\":\\n                    soup = BeautifulSoup(data_decoded, \"html.parser\")\\n                    data[\\'Snippet\\'] = soup.get_text()\\n\\n        emails.append(data)\\n\\n    # 返回邮件列表\\n    return json.dumps(emails, indent=2)\\n'}]}"
      ]
     },
     "execution_count": 15,
     "metadata": {},
     "output_type": "execute_result"
    }
   ],
   "source": [
    "retrieve_emails_prompt"
   ]
  },
  {
   "cell_type": "code",
   "execution_count": 16,
   "id": "17f8f10d-28ef-4fe0-9077-cca3f049eef3",
   "metadata": {
    "tags": []
   },
   "outputs": [],
   "source": [
    "with open('./functions/tested functions/%s_prompt.json' % 'retrieve_emails', 'w') as f:\n",
    "    json.dump(retrieve_emails_prompt, f)"
   ]
  },
  {
   "cell_type": "markdown",
   "id": "fa5b4765-541a-4146-afbe-bc5517861ce2",
   "metadata": {},
   "source": [
    "然后get_email_counts函数三个阶段提示示例如下："
   ]
  },
  {
   "cell_type": "code",
   "execution_count": 17,
   "id": "02227c9a-ba8d-4cd8-b310-7b891b46b28d",
   "metadata": {
    "tags": []
   },
   "outputs": [],
   "source": [
    "get_email_counts_CD_input = \"请帮我查下邮箱里面总共有多少封邮件。\"\n",
    "get_email_counts_pi = \"当前需求中可以作为函数参数的是：1.查询谁的邮箱\"\n",
    "get_email_counts_messages_CD = [\n",
    "                          {\"role\": \"user\", \"content\": get_email_counts_CD_input},\n",
    "                          {\"role\": \"assistant\", \"content\": get_email_counts_pi}\n",
    "                         ]\n",
    "\n",
    "get_email_counts_CM_input = get_email_counts_CD_input + get_email_counts_pi\n",
    "get_email_counts_description = \"请帮我编写一个python函数，用于查看我的Gmail邮箱中总共有多少封邮件，函数要求如下：\\\n",
    "                  1.函数参数userId，userId是字符串参数，默认情况下取值为'me'，表示查看我的邮件；\\\n",
    "                  2.函数返回结果是查询到的这几封邮件的邮件内容，返回结果本身必须是一个json格式对象；\\\n",
    "                  3.请将全部功能封装在一个函数内；\\\n",
    "                  4.请在函数编写过程中，在函数内部加入中文编写的详细的函数说明文档，用于说明函数功能、函数参数情况以及函数返回结果等信息；\"\n",
    "get_email_counts_messages_CM = [\n",
    "                          {\"role\": \"user\", \"content\": get_email_counts_CM_input},\n",
    "                          {\"role\": \"assistant\", \"content\":get_email_counts_description}\n",
    "                         ]\n",
    "\n",
    "with open('./functions/tested functions/%s_module.py' % 'get_email_counts', encoding='utf-8') as f:\n",
    "    get_email_counts_function = f.read()\n",
    "get_email_counts_messages = [\n",
    "                       {\"role\": \"user\", \"content\": get_email_counts_description},\n",
    "                       {\"role\": \"assistant\", \"content\":get_email_counts_function}\n",
    "                      ] "
   ]
  },
  {
   "cell_type": "code",
   "execution_count": 18,
   "id": "87cca599-2b4e-4010-aa89-1660a6f852ea",
   "metadata": {
    "tags": []
   },
   "outputs": [],
   "source": [
    "get_email_counts_prompt = {\n",
    "                     \"stage1_CD\": get_email_counts_messages_CD,\n",
    "                     \"stage1_CM\": get_email_counts_messages_CM,\n",
    "                     \"stage2\": get_email_counts_messages\n",
    "                    }   "
   ]
  },
  {
   "cell_type": "code",
   "execution_count": 19,
   "id": "bb82af21-aa01-4a7e-bdc1-26fcff5f4245",
   "metadata": {
    "collapsed": true,
    "jupyter": {
     "outputs_hidden": true
    },
    "tags": []
   },
   "outputs": [
    {
     "data": {
      "text/plain": [
       "{'stage1_CD': [{'role': 'user', 'content': '请帮我查下邮箱里面总共有多少封邮件。'},\n",
       "  {'role': 'assistant', 'content': '当前需求中可以作为函数参数的是：1.查询谁的邮箱'}],\n",
       " 'stage1_CM': [{'role': 'user',\n",
       "   'content': '请帮我查下邮箱里面总共有多少封邮件。当前需求中可以作为函数参数的是：1.查询谁的邮箱'},\n",
       "  {'role': 'assistant',\n",
       "   'content': \"请帮我编写一个python函数，用于查看我的Gmail邮箱中总共有多少封邮件，函数要求如下：                  1.函数参数userId，userId是字符串参数，默认情况下取值为'me'，表示查看我的邮件；                  2.函数返回结果是查询到的这几封邮件的邮件内容，返回结果本身必须是一个json格式对象；                  3.请将全部功能封装在一个函数内；                  4.请在函数编写过程中，在函数内部加入中文编写的详细的函数说明文档，用于说明函数功能、函数参数情况以及函数返回结果等信息；\"}],\n",
       " 'stage2': [{'role': 'user',\n",
       "   'content': \"请帮我编写一个python函数，用于查看我的Gmail邮箱中总共有多少封邮件，函数要求如下：                  1.函数参数userId，userId是字符串参数，默认情况下取值为'me'，表示查看我的邮件；                  2.函数返回结果是查询到的这几封邮件的邮件内容，返回结果本身必须是一个json格式对象；                  3.请将全部功能封装在一个函数内；                  4.请在函数编写过程中，在函数内部加入中文编写的详细的函数说明文档，用于说明函数功能、函数参数情况以及函数返回结果等信息；\"},\n",
       "  {'role': 'assistant',\n",
       "   'content': 'def get_email_counts(userId=\\'me\\'):\\n    \"\"\"\\n    查询Gmail邮箱中邮件总数\\n    :param userId: 必要参数，字符串类型，用于表示需要查询的邮箱ID，\\\\\\n    注意，当查询我的邮箱时，userId需要输入\\'me\\'；\\n    :return：邮件总数，返回结果本身必须是一个json格式对象\\n    \"\"\"\\n    # 从本地文件中加载凭据\\n    creds = Credentials.from_authorized_user_file(\\'token.json\\')\\n\\n    # 创建 Gmail API 客户端\\n    service = build(\\'gmail\\', \\'v1\\', credentials=creds)\\n\\n    # 列出用户的所有邮件\\n    results = service.users().messages().list(userId=userId).execute()\\n    messages = results.get(\\'messages\\', [])\\n\\n    # 获得邮件数量\\n    email_counts = len(messages)\\n\\n    return json.dumps({\"email_counts\": email_counts})\\n'}]}"
      ]
     },
     "execution_count": 19,
     "metadata": {},
     "output_type": "execute_result"
    }
   ],
   "source": [
    "get_email_counts_prompt"
   ]
  },
  {
   "cell_type": "code",
   "execution_count": 21,
   "id": "bbb6731a-8a9a-46dd-823b-39fe9c2a3923",
   "metadata": {
    "tags": []
   },
   "outputs": [],
   "source": [
    "with open('./functions/tested functions/%s_prompt.json' % 'get_email_counts', 'w') as f:\n",
    "    json.dump(get_email_counts_prompt, f)"
   ]
  },
  {
   "cell_type": "markdown",
   "id": "016c0831-d589-49d4-a82a-f633575cbfcb",
   "metadata": {},
   "source": [
    "至此，我们就完成了此前或自己手动编写、或引导Chat模型进行编写的函数全部提示示例的编写和保存。"
   ]
  },
  {
   "cell_type": "markdown",
   "id": "bb1179e5-6b46-4fb1-9e2d-c97170296cb1",
   "metadata": {},
   "source": [
    "- 系统提示消息保存"
   ]
  },
  {
   "cell_type": "markdown",
   "id": "34fe3944-6b86-4b25-9238-2dcffd3152be",
   "metadata": {},
   "source": [
    "&emsp;&emsp;当然，对于我们当前提示流程中各阶段的系统提示消息，也需要对其进行整理和本地保存："
   ]
  },
  {
   "cell_type": "code",
   "execution_count": 25,
   "id": "46359d05-f63c-4253-9ed2-1d567119a2e4",
   "metadata": {
    "tags": []
   },
   "outputs": [],
   "source": [
    "system_messages = {\"system_message_CD\": [{\"role\": \"system\", \"content\": \"为了更好编写满足用户需求的python函数，我们需要先识别用户需求中的变量，以作为python函数的参数。需要注意的是，当前编写的函数中涉及到的邮件收发查阅等功能，都是通过调用Gmail API来完成。\"}], \n",
    "                   \"system_message_CM\": [{\"role\": \"system\", \"content\": \"我现在已完成Gmail API授权，授权文件为本地文件token.json。函数参数必须是字符串类型对象，函数返回结果必须是json表示的字符串对象。\"}], \n",
    "                   \"system_message\": [{\"role\": \"system\", \"content\":\"我现在已完成Gmail API授权，授权文件为本地文件token.json。函数参数必须是字符串类型对象，函数返回结果必须是json表示的字符串对象。\"}]}"
   ]
  },
  {
   "cell_type": "code",
   "execution_count": 26,
   "id": "51e89047-304c-46cb-9165-358c7b942f6c",
   "metadata": {
    "tags": []
   },
   "outputs": [],
   "source": [
    "with open('./functions/tested functions/%s.json' % 'system_messages', 'w') as f:\n",
    "    json.dump(system_messages, f)"
   ]
  },
  {
   "cell_type": "markdown",
   "id": "4da9f24a-ba7b-4980-933d-9ca92f464706",
   "metadata": {},
   "source": [
    "#### 3.2 项目代码文件管理"
   ]
  },
  {
   "cell_type": "markdown",
   "id": "fdd7a708-aca5-46c4-8285-1f2eaf914d05",
   "metadata": {},
   "source": [
    "&emsp;&emsp;截止目前，我们已经围绕当前智能邮件项目创建了非常多的函数代码和相关提示词说明文档，而为了之后更好的对当前项目进行管理，我们有必要对当前项目的代码结构和文件结构进行修改。当然，我们当前的AI项目主要是围绕着外部函数的功能拓展这部分进行开发，整体项目代码管理的复杂程度并不高。"
   ]
  },
  {
   "cell_type": "markdown",
   "id": "9d80b576-f392-454c-bf2c-db2050acf7de",
   "metadata": {},
   "source": [
    "&emsp;&emsp;这里首先需要对本地保存的文件及文件夹路径进行调整。为了更方便的借助本地文件系统进行代码和提示词的管理，我们需要将原先的functions文件夹更名为autoGmail_project，以注明是该文件夹专门用于保存autoGmail相关文件。并且我们需要将tested和untested内的同名函数代码和提示文件保存到一个同名文件夹内，而原system_messages.json文件位置不变。修改前tested文件夹内文件情况如下："
   ]
  },
  {
   "cell_type": "markdown",
   "id": "672b457c-e400-42dd-bd2c-9a14790717ca",
   "metadata": {},
   "source": [
    "<center><img src=\"https://ml2022.oss-cn-hangzhou.aliyuncs.com/img/0ce947634db31f8fc32ccaabb5a2370.png\" alt=\"0ce947634db31f8fc32ccaabb5a2370\" style=\"zoom:33%;\" />"
   ]
  },
  {
   "cell_type": "markdown",
   "id": "c86a5f26-7ad3-49bb-870d-274cb3a4c646",
   "metadata": {},
   "source": [
    "修改后，我们将同一个函数的module文件和prompt文件都放在一个函数同名文件夹内，修改后tested文件如下："
   ]
  },
  {
   "cell_type": "markdown",
   "id": "08f3da6b-f024-424e-bc15-364f9bf70db6",
   "metadata": {},
   "source": [
    "<center><img src=\"https://ml2022.oss-cn-hangzhou.aliyuncs.com/img/1797fa58878a81564e80aebb0878641.png\" alt=\"1797fa58878a81564e80aebb0878641\" style=\"zoom:33%;\" />"
   ]
  },
  {
   "cell_type": "markdown",
   "id": "498feade-e5b3-48b7-980c-b7db9fd03323",
   "metadata": {},
   "source": [
    "#### 3.3 提示词管理辅助函数"
   ]
  },
  {
   "cell_type": "markdown",
   "id": "9afd7f02-c9c2-4959-8ff0-3c91d1c30957",
   "metadata": {},
   "source": [
    "&emsp;&emsp;最后需要注意的是，由于接下来是以文件夹形式进行代码和提示词的管理，因此我们需要重新定义一个remove_to_tested函数，以实现函数文件夹的untested到tested的转移过程："
   ]
  },
  {
   "cell_type": "code",
   "execution_count": 76,
   "id": "32ecce6a-2dff-402e-9f55-f3d7ec643032",
   "metadata": {
    "tags": []
   },
   "outputs": [],
   "source": [
    "def remove_to_tested(function_name):\n",
    "    \"\"\"\n",
    "    将函数同名文件夹由untested文件夹转移至tested文件夹内。\\\n",
    "    完成转移则说明函数通过测试，可以使用。此时需要将该函数的源码写入gptLearning.py中方便下次调用。\n",
    "    \"\"\"\n",
    "    \n",
    "    # 将函数代码写入gptLearning.py文件中\n",
    "    with open('./functions/untested functions/%s/%s_module.py' % (function_name, function_name), encoding='utf-8') as f:\n",
    "        function_code = f.read()\n",
    "    \n",
    "    with open('gptLearning.py', 'a', encoding='utf-8') as f:\n",
    "        f.write(function_code)\n",
    "    \n",
    "    # 源文件夹路径\n",
    "    src_dir = './functions/untested functions/%s' % function_name\n",
    "\n",
    "    # 目标文件夹路径\n",
    "    dst_dir = './functions/tested functions/%s' % function_name\n",
    "    \n",
    "    # 移动文件夹\n",
    "    shutil.move(src_dir, dst_dir)"
   ]
  },
  {
   "cell_type": "markdown",
   "id": "7bcabf5d-f872-4590-b378-8715400106d8",
   "metadata": {},
   "source": [
    "同时，此前定义的extract_function_code和show_functions这两个函数也需要进行修改，其中extract_function_code需要添加在完成函数提取时就在untested文件夹中创建同名函数文件夹的功能，以及需要求修改读取和写入代码的文件路径："
   ]
  },
  {
   "cell_type": "code",
   "execution_count": 46,
   "id": "a8de1a7a-2bd3-4dde-a341-7742861aafef",
   "metadata": {
    "tags": []
   },
   "outputs": [],
   "source": [
    "def extract_function_code(s, detail=0, tested=False, g=globals()):\n",
    "    \"\"\"\n",
    "    函数提取函数，同时执行函数内容，可以选择打印函数信息，并选择代码保存的地址\n",
    "    \"\"\"\n",
    "    def extract_code(s):\n",
    "        \"\"\"\n",
    "        如果输入的字符串s是一个包含Python代码的Markdown格式字符串，提取出代码部分。\n",
    "        否则，返回原字符串。\n",
    "\n",
    "        参数:\n",
    "        s: 输入的字符串。\n",
    "\n",
    "        返回:\n",
    "        提取出的代码部分，或原字符串。\n",
    "        \"\"\"\n",
    "        # 判断字符串是否是Markdown格式\n",
    "        if '```python' in s or 'Python' in s or'PYTHON' in s:\n",
    "            # 找到代码块的开始和结束位置\n",
    "            code_start = s.find('def')\n",
    "            code_end = s.find('```\\n', code_start)\n",
    "            # 提取代码部分\n",
    "            code = s[code_start:code_end]\n",
    "        else:\n",
    "            # 如果字符串不是Markdown格式，返回原字符串\n",
    "            code = s\n",
    "\n",
    "        return code\n",
    "    \n",
    "    # 提取代码字符串\n",
    "    code = extract_code(s)\n",
    "    \n",
    "    # 提取函数名称\n",
    "    match = re.search(r'def (\\w+)', code)\n",
    "    function_name = match.group(1)\n",
    "    \n",
    "    # 在untested文件夹内创建函数同名文件夹\n",
    "    directory = './functions/untested functions/%s' % function_name\n",
    "    if not os.path.exists(directory):\n",
    "        os.makedirs(directory)\n",
    "    \n",
    "    # 将函数写入本地\n",
    "    if tested == False:\n",
    "        with open('./functions/untested functions/%s/%s_module.py' % (function_name, function_name), 'w', encoding='utf-8') as f:\n",
    "            f.write(code)\n",
    "    else:\n",
    "        # 调用remove_to_test函数将函数文件夹转移至tested文件夹内\n",
    "        remove_to_tested(function_name)\n",
    "        with open('./functions/tested functions/%s/%s_module.py' % (function_name, function_name), 'w', encoding='utf-8') as f:\n",
    "            f.write(code)\n",
    "    \n",
    "    # 执行该函数\n",
    "    try:\n",
    "        exec(code, g)\n",
    "    except Exception as e:\n",
    "        print(\"An error occurred while executing the code:\")\n",
    "        print(e)\n",
    "    \n",
    "    # 打印函数名称\n",
    "    if detail == 0:\n",
    "        print(\"The function name is:%s\" % function_name)\n",
    "    \n",
    "    if detail == 1:\n",
    "        if tested == False:\n",
    "            with open('./functions/untested functions/%s/%s_module.py' % (function_name, function_name), 'r', encoding='utf-8') as f:\n",
    "                content = f.read()\n",
    "        else:\n",
    "            with open('./functions/tested functions/%s/%s_module.py' % (function_name, function_name), 'r', encoding='utf-8') as f:   \n",
    "                content = f.read()\n",
    "                \n",
    "        print(content)\n",
    "        \n",
    "    return function_name"
   ]
  },
  {
   "cell_type": "markdown",
   "id": "09ef626c-7a0c-47b4-aea2-b36b41d196af",
   "metadata": {},
   "source": [
    "而show_functions功能则需要修改为展示文件夹内内文件名称："
   ]
  },
  {
   "cell_type": "code",
   "execution_count": 55,
   "id": "e600a1d7-22aa-4a7c-a6bf-7483ae161c88",
   "metadata": {
    "tags": []
   },
   "outputs": [],
   "source": [
    "def show_functions(tested=False, if_print=False):\n",
    "    \"\"\"\n",
    "    打印tested或untested文件夹内全部函数\n",
    "    \"\"\"\n",
    "    current_directory = os.getcwd()\n",
    "    if tested == False:\n",
    "        directory = current_directory + '\\\\functions\\\\untested functions'\n",
    "    else:\n",
    "        directory = current_directory + '\\\\functions\\\\tested functions'\n",
    "    files_and_directories = os.listdir(directory)\n",
    "    # 过滤结果，只保留.py文件和非__pycache__文件夹\n",
    "    files_and_directories = files_and_directories = [name for name in files_and_directories if (os.path.splitext(name)[1] == '.py' or os.path.isdir(os.path.join(directory, name))) and name != \"__pycache__\"]\n",
    "    \n",
    "    if if_print != False:\n",
    "        for name in files_and_directories:\n",
    "            print(name)\n",
    "    \n",
    "    return files_and_directories"
   ]
  },
  {
   "cell_type": "code",
   "execution_count": 5,
   "id": "246a9027-6b31-4ac9-8b01-ada2d7805199",
   "metadata": {
    "tags": []
   },
   "outputs": [
    {
     "data": {
      "text/plain": [
       "['get_email_counts', 'get_latest_email', 'retrieve_emails', 'send_email']"
      ]
     },
     "execution_count": 5,
     "metadata": {},
     "output_type": "execute_result"
    }
   ],
   "source": [
    "show_functions(tested=True)"
   ]
  },
  {
   "cell_type": "markdown",
   "id": "7c7ef6b6-8a83-46a6-b94c-8a2dca700632",
   "metadata": {},
   "source": [
    "并且，我们可以使用如下方法将每个函数名称同名字符串转化为函数："
   ]
  },
  {
   "cell_type": "code",
   "execution_count": 6,
   "id": "9d8692ea-dcaf-4e72-9baa-e5f02c7a7c65",
   "metadata": {
    "tags": []
   },
   "outputs": [
    {
     "data": {
      "text/plain": [
       "<function gptLearning.get_email_counts(userId='me')>"
      ]
     },
     "execution_count": 6,
     "metadata": {},
     "output_type": "execute_result"
    }
   ],
   "source": [
    "globals()['get_email_counts']"
   ]
  },
  {
   "cell_type": "code",
   "execution_count": 7,
   "id": "b155bb19-924e-4e08-b4e7-60072e6c3c32",
   "metadata": {
    "tags": []
   },
   "outputs": [
    {
     "data": {
      "text/plain": [
       "[<function gptLearning.get_email_counts(userId='me')>,\n",
       " <function gptLearning.get_latest_email(userId)>,\n",
       " <function gptLearning.retrieve_emails(n, user_id='me')>,\n",
       " <function gptLearning.send_email(to, subject, message_text)>]"
      ]
     },
     "execution_count": 7,
     "metadata": {},
     "output_type": "execute_result"
    }
   ],
   "source": [
    "[globals()[name] for name in show_functions(tested=True)]"
   ]
  },
  {
   "cell_type": "markdown",
   "id": "846cd2fb-91f1-4028-8fe3-5535637c9754",
   "metadata": {},
   "source": [
    "后续需要将额外添加的remove_to_tested函数，以及修改之后的extract_function_code和show_functions函数写入gptLearning.py文件方便后续进行调用。此外，这里还需要将目前已经定义的四个外部函数全部写入gptLearning.py文件方便后续进行调用。"
   ]
  },
  {
   "cell_type": "markdown",
   "id": "766ba8be-b8b4-4a20-87ca-e1f5749c90bf",
   "metadata": {},
   "source": [
    "&emsp;&emsp;至此，我们就完成了经过测试的函数的提示词管理，并搭建了新的提示词管理方法，以及创建了协助完成文件管理的相关函数。接下来我们进一步围绕新函数的创建流程来进行优化。"
   ]
  },
  {
   "cell_type": "markdown",
   "id": "32b10da8-c6b2-4c89-82f4-de70d9ac4c6b",
   "metadata": {},
   "source": [
    "#### 3.4 code_generate全自动编程函数创建方法"
   ]
  },
  {
   "cell_type": "markdown",
   "id": "afbf1737-3a84-4f46-bb4f-cbc363cb12ec",
   "metadata": {},
   "source": [
    "&emsp;&emsp;接下来，我们尝试将此前的从用户需求到LtM提示法创建外部函数完整流程封装到一个名为code_generate的函数内。该函数基本功能、和其他函数交互关系以及和函数库之间调用关系如下："
   ]
  },
  {
   "cell_type": "markdown",
   "id": "4e4d44cd-ae41-4a7a-b434-4e783fcf0376",
   "metadata": {},
   "source": [
    "<center><img src=\"https://ml2022.oss-cn-hangzhou.aliyuncs.com/img/cfba22d96a504f1bb9a234d47878646.png\" alt=\"cfba22d96a504f1bb9a234d47878646\" style=\"zoom:33%;\" />"
   ]
  },
  {
   "cell_type": "markdown",
   "id": "f8cf4396-f323-45f0-a39d-b2451b301b03",
   "metadata": {},
   "source": [
    "code_generate函数定义过程如下："
   ]
  },
  {
   "cell_type": "code",
   "execution_count": 4,
   "id": "0bc2a0f1-3976-40c7-a204-6024b964bd6e",
   "metadata": {
    "tags": []
   },
   "outputs": [],
   "source": [
    "def code_generate(req, few_shot='all', model='gpt-4-0613', g=globals(), detail=0):\n",
    "    \"\"\"\n",
    "    Function calling外部函数自动创建函数，可以根据用户的需求，直接将其翻译为Chat模型可以直接调用的外部函数代码。\n",
    "    :param req: 必要参数，字符串类型，表示输入的用户需求；\n",
    "    :param few_shot: 可选参数，默认取值为字符串all，用于描述Few-shot提示示例的选取方案，当输入字符串all时，则代表提取当前外部函数库中全部测试过的函数作为Few-shot；\\\n",
    "    而如果输入的是一个包含了多个函数名称的list，则表示使用这些函数作为Few-shot。\n",
    "    :param model: 可选参数，表示调用的Chat模型，默认选取gpt-4-0613；\n",
    "    :param g: 可选参数，表示extract_function_code函数作用域，默认为globals()，即在当前操作空间全域内生效；\n",
    "    :param detail: 可选参数，默认取值为0，还可以取值为1，表示extract_function_code函数打印新创建的外部函数细节；\n",
    "    :return：新创建的函数名称。需要注意的是，在函数创建时，该函数也会在当前操作空间被定义，后续可以直接调用；\n",
    "    \"\"\"\n",
    "    \n",
    "    # 提取提示示例的函数名称\n",
    "    if few_shot == 'all':\n",
    "        few_shot_functions_name = show_functions(tested=True)\n",
    "    elif type(few_shot) == list:\n",
    "        few_shot_functions_name = few_shot\n",
    "    # few_shot_functions = [globals()[name] for name in few_shot_functions_name]\n",
    "    \n",
    "    # 读取各阶段系统提示\n",
    "    with open('./functions/tested functions/system_messages.json', 'r') as f:\n",
    "        system_messages = json.load(f)\n",
    "        \n",
    "    # 各阶段提示message对象\n",
    "    few_shot_messages_CM = []\n",
    "    few_shot_messages_CD = []\n",
    "    few_shot_messages = []\n",
    "    \n",
    "    # 先保存第一条消息，也就是system message\n",
    "    few_shot_messages_CD += system_messages[\"system_message_CD\"]\n",
    "    few_shot_messages_CM += system_messages[\"system_message_CM\"]\n",
    "    few_shot_messages += system_messages[\"system_message\"]\n",
    "\n",
    "    # 创建不同阶段提示message\n",
    "    for function_name in few_shot_functions_name:\n",
    "        with open('./functions/tested functions/%s/%s_prompt.json' % (function_name, function_name), 'r') as f:\n",
    "            msg = json.load(f)\n",
    "        few_shot_messages_CD += msg[\"stage1_CD\"]\n",
    "        few_shot_messages_CM += msg[\"stage1_CM\"]\n",
    "        few_shot_messages += msg['stage2']\n",
    "        \n",
    "    # 读取用户需求，作为第一阶段CD环节User content\n",
    "    new_req_CD_input = req\n",
    "    few_shot_messages_CD.append({\"role\": \"user\", \"content\": new_req_CD_input})\n",
    "    \n",
    "    print('第一阶段CD环节提示创建完毕，正在进行CD提示...')\n",
    "    \n",
    "    # 第一阶段CD环节Chat模型调用过程\n",
    "    response = openai.ChatCompletion.create(\n",
    "                  model=model,\n",
    "                  messages=few_shot_messages_CD\n",
    "                )\n",
    "    new_req_pi = response.choices[0].message['content']\n",
    "    \n",
    "    print('第一阶段CD环节提示完毕')\n",
    "    \n",
    "    # 第一阶段CM环节Messages创建\n",
    "    new_req_CM_input = new_req_CD_input + new_req_pi\n",
    "    few_shot_messages_CM.append({\"role\": \"user\", \"content\": new_req_CM_input})\n",
    "    \n",
    "    print('第一阶段CM环节提示创建完毕，正在进行第一阶段CM提示...')\n",
    "    # 第一阶段CM环节Chat模型调用过程\n",
    "    response = openai.ChatCompletion.create(\n",
    "                      model=model,\n",
    "                      messages=few_shot_messages_CM\n",
    "                    )\n",
    "    new_req_description = response.choices[0].message['content']\n",
    "    \n",
    "    print('第一阶段CM环节提示完毕')\n",
    "    \n",
    "    # 第二阶段Messages创建过程\n",
    "    few_shot_messages.append({\"role\": \"user\", \"content\": new_req_description})\n",
    "    \n",
    "    print('第二阶段提示创建完毕，正在进行第二阶段提示...')\n",
    "    \n",
    "    # 第二阶段Chat模型调用过程\n",
    "    response = openai.ChatCompletion.create(\n",
    "                  model=model,\n",
    "                  messages=few_shot_messages\n",
    "                )\n",
    "    new_req_function = response.choices[0].message['content']\n",
    "    \n",
    "    print('第二阶段提示完毕，准备运行函数并编写提示示例')\n",
    "    \n",
    "    # 提取函数并运行，创建函数名称对象，统一都写入untested文件夹内\n",
    "    function_name = extract_function_code(s=new_req_function, detail=detail, g=g)\n",
    "    \n",
    "    print('新函数保存在./functions/untested functions/%s/%s_module.py文件中' % (function_name, function_name))\n",
    "    \n",
    "    # 创建该函数提示示例\n",
    "    new_req_messages_CD = [\n",
    "                          {\"role\": \"user\", \"content\": new_req_CD_input},\n",
    "                          {\"role\": \"assistant\", \"content\": new_req_pi}\n",
    "                         ]\n",
    "    new_req_messages_CM = [\n",
    "                          {\"role\": \"user\", \"content\": new_req_CM_input},\n",
    "                          {\"role\": \"assistant\", \"content\":new_req_description}\n",
    "                         ]\n",
    "    \n",
    "    with open('./functions/untested functions/%s/%s_module.py' % (function_name, function_name), encoding='utf-8') as f:\n",
    "        new_req_function = f.read()\n",
    "    \n",
    "    new_req_messages = [\n",
    "                       {\"role\": \"user\", \"content\": new_req_description},\n",
    "                       {\"role\": \"assistant\", \"content\":new_req_function}\n",
    "                      ] \n",
    "    \n",
    "    new_req_prompt = {\n",
    "                     \"stage1_CD\": new_req_messages_CD,\n",
    "                     \"stage1_CM\": new_req_messages_CM,\n",
    "                     \"stage2\": new_req_messages\n",
    "                    }   \n",
    "    \n",
    "    with open('./functions/untested functions/%s/%s_prompt.json' % (function_name, function_name), 'w') as f:\n",
    "        json.dump(new_req_prompt, f)\n",
    "        \n",
    "    print('新函数提示示例保存在./functions/untested functions/%s/%s_prompt.json文件中' % (function_name, function_name))\n",
    "    print('done')\n",
    "    return function_name"
   ]
  },
  {
   "cell_type": "markdown",
   "id": "9ca6497c-2837-4f17-b426-66378a3464b5",
   "metadata": {},
   "source": [
    "---"
   ]
  },
  {
   "cell_type": "markdown",
   "id": "7375a797-9276-403e-982b-67bb10cf0eb3",
   "metadata": {},
   "source": [
    "&emsp;&emsp;这里我们可以尝试手动验证上述流程："
   ]
  },
  {
   "cell_type": "code",
   "execution_count": 42,
   "id": "5f1ab733-aa9a-487d-8530-8bf61249abf9",
   "metadata": {
    "tags": []
   },
   "outputs": [],
   "source": [
    "function_name = 'get_latest_email'"
   ]
  },
  {
   "cell_type": "code",
   "execution_count": 43,
   "id": "e4abca01-ffcb-4656-911b-a069d9ef38ab",
   "metadata": {
    "tags": []
   },
   "outputs": [],
   "source": [
    "with open('./functions/tested functions/%s/%s_prompt.json' % (function_name, function_name), 'r') as f:\n",
    "    msg = json.load(f)"
   ]
  },
  {
   "cell_type": "code",
   "execution_count": 44,
   "id": "c1f798c7-8ce6-4656-8ef1-21e1d1387ad3",
   "metadata": {
    "tags": []
   },
   "outputs": [
    {
     "data": {
      "text/plain": [
       "[{'role': 'user',\n",
       "  'content': \"请帮我编写一个python函数，用于查看我的Gmail邮箱中最后一封邮件信息，函数要求如下：                 1.函数参数userId，userId是字符串参数，默认情况下取值为'me'，表示查看我的邮件；                 2.函数返回结果是一个包含最后一封邮件信息的对象，返回结果本身必须是一个json格式对象；                 3.请将全部功能封装在一个函数内；                 4.请在函数编写过程中，在函数内部加入中文编写的详细的函数说明文档，用于说明函数功能、函数参数情况以及函数返回结果等信息；\"},\n",
       " {'role': 'assistant',\n",
       "  'content': 'def get_latest_email(userId):\\n    \"\"\"\\n    查询Gmail邮箱中最后一封邮件信息\\n    :param userId: 必要参数，字符串类型，用于表示需要查询的邮箱ID，\\\\\\n    注意，当查询我的邮箱时，userId需要输入\\'me\\'；\\n    :return：包含最后一封邮件全部信息的对象，该对象由Gmail API创建得到，且保存为JSON格式\\n    \"\"\"\\n    # 从本地文件中加载凭据\\n    creds = Credentials.from_authorized_user_file(\\'token.json\\')\\n    \\n    # 创建 Gmail API 客户端\\n    service = build(\\'gmail\\', \\'v1\\', credentials=creds)\\n    \\n    # 列出用户的一封最新邮件\\n    results = service.users().messages().list(userId=userId, maxResults=1).execute()\\n    messages = results.get(\\'messages\\', [])\\n\\n    # 遍历邮件\\n    for message in messages:\\n        # 获取邮件的详细信息\\n        msg = service.users().messages().get(userId=\\'me\\', id=message[\\'id\\']).execute()\\n        \\n    return json.dumps(msg)\\n'}]"
      ]
     },
     "execution_count": 44,
     "metadata": {},
     "output_type": "execute_result"
    }
   ],
   "source": [
    "msg['stage2']"
   ]
  },
  {
   "cell_type": "code",
   "execution_count": 38,
   "id": "0c841490-c957-4c18-b92b-7dc94b8c3e1b",
   "metadata": {
    "tags": []
   },
   "outputs": [],
   "source": [
    "for function_name in few_shot_functions_name:\n",
    "    with open('./functions/tested functions/%s/%s_prompt.json' % (function_name, function_name), 'r') as f:\n",
    "        msg = json.load(f)\n",
    "    few_shot_messages_CD += msg[\"stage1_CD\"]\n",
    "    few_shot_messages_CM += msg[\"stage1_CM\"]\n",
    "    few_shot_messages += msg['stage2']"
   ]
  },
  {
   "cell_type": "code",
   "execution_count": 39,
   "id": "c46d5789-e227-45f9-ac3c-79e5be88170d",
   "metadata": {
    "tags": []
   },
   "outputs": [
    {
     "data": {
      "text/plain": [
       "[{'role': 'system',\n",
       "  'content': '为了更好编写满足用户需求的python函数，我们需要先识别用户需求中的变量，以作为python函数的参数。需要注意的是，当前编写的函数中涉及到的邮件收发查阅等功能，都是通过调用Gmail API来完成。'},\n",
       " {'role': 'user', 'content': '请帮我查下Gmail邮箱里最后一封邮件内容。'},\n",
       " {'role': 'assistant', 'content': '当前需求中可以作为函数参数的是：1.查看谁的邮箱。'},\n",
       " {'role': 'user',\n",
       "  'content': '请帮我给陈明发送一封Gmail邮件，请他明天早上9点半来我办公室开会，商量下半年技术开发计划。'},\n",
       " {'role': 'assistant',\n",
       "  'content': '当前需求中可以作为函数参数的是：1.发送邮件的对象；2.发送邮件的主题；3.邮件具体内容'}]"
      ]
     },
     "execution_count": 39,
     "metadata": {},
     "output_type": "execute_result"
    }
   ],
   "source": [
    "few_shot_messages_CD"
   ]
  },
  {
   "cell_type": "code",
   "execution_count": 40,
   "id": "ba632353-52c5-4239-b995-c9600a79b343",
   "metadata": {
    "tags": []
   },
   "outputs": [
    {
     "data": {
      "text/plain": [
       "[{'role': 'system',\n",
       "  'content': '我现在已完成Gmail API授权，授权文件为本地文件token.json。函数参数必须是字符串类型对象，函数返回结果必须是json表示的字符串对象。'},\n",
       " {'role': 'user',\n",
       "  'content': '请帮我查下Gmail邮箱里最后一封邮件内容。当前需求中可以作为函数参数的是：1.查看谁的邮箱。'},\n",
       " {'role': 'assistant',\n",
       "  'content': \"请帮我编写一个python函数，用于查看我的Gmail邮箱中最后一封邮件信息，函数要求如下：                 1.函数参数userId，userId是字符串参数，默认情况下取值为'me'，表示查看我的邮件；                 2.函数返回结果是一个包含最后一封邮件信息的对象，返回结果本身必须是一个json格式对象；                 3.请将全部功能封装在一个函数内；                 4.请在函数编写过程中，在函数内部加入中文编写的详细的函数说明文档，用于说明函数功能、函数参数情况以及函数返回结果等信息；\"},\n",
       " {'role': 'user',\n",
       "  'content': '请帮我给陈明发送一封Gmail邮件，请他明天早上9点半来我办公室开会，商量下半年技术开发计划。当前需求中可以作为函数参数的是：1.发送邮件的对象；2.发送邮件的主题；3.邮件具体内容'},\n",
       " {'role': 'assistant',\n",
       "  'content': '请帮我编写一个python函数，用于给陈明发送邮件，请他明天早上9点半来我办公室开会，商量下半年技术开发计划，函数要求如下：                  1.函数参数to、subject和message_text，三个参数都是字符串类型，其中to表示发送邮件对象，subject表示邮件主题，message_text表示邮件具体内容；                  2.函数返回结果是当前邮件发送状态，返回结果本身必须是一个json格式对象；                  3.请将全部功能封装在一个函数内；                  4.请在函数编写过程中，在函数内部加入中文编写的详细的函数说明文档，用于说明函数功能、函数参数情况以及函数返回结果等信息；'}]"
      ]
     },
     "execution_count": 40,
     "metadata": {},
     "output_type": "execute_result"
    }
   ],
   "source": [
    "few_shot_messages_CM"
   ]
  },
  {
   "cell_type": "code",
   "execution_count": 41,
   "id": "9f855752-51e5-4e7d-95d7-0f0a0149b6ea",
   "metadata": {
    "tags": []
   },
   "outputs": [
    {
     "data": {
      "text/plain": [
       "[{'role': 'system',\n",
       "  'content': '我现在已完成Gmail API授权，授权文件为本地文件token.json。函数参数必须是字符串类型对象，函数返回结果必须是json表示的字符串对象。'},\n",
       " {'role': 'user',\n",
       "  'content': \"请帮我编写一个python函数，用于查看我的Gmail邮箱中最后一封邮件信息，函数要求如下：                 1.函数参数userId，userId是字符串参数，默认情况下取值为'me'，表示查看我的邮件；                 2.函数返回结果是一个包含最后一封邮件信息的对象，返回结果本身必须是一个json格式对象；                 3.请将全部功能封装在一个函数内；                 4.请在函数编写过程中，在函数内部加入中文编写的详细的函数说明文档，用于说明函数功能、函数参数情况以及函数返回结果等信息；\"},\n",
       " {'role': 'assistant',\n",
       "  'content': 'def get_latest_email(userId):\\n    \"\"\"\\n    查询Gmail邮箱中最后一封邮件信息\\n    :param userId: 必要参数，字符串类型，用于表示需要查询的邮箱ID，\\\\\\n    注意，当查询我的邮箱时，userId需要输入\\'me\\'；\\n    :return：包含最后一封邮件全部信息的对象，该对象由Gmail API创建得到，且保存为JSON格式\\n    \"\"\"\\n    # 从本地文件中加载凭据\\n    creds = Credentials.from_authorized_user_file(\\'token.json\\')\\n    \\n    # 创建 Gmail API 客户端\\n    service = build(\\'gmail\\', \\'v1\\', credentials=creds)\\n    \\n    # 列出用户的一封最新邮件\\n    results = service.users().messages().list(userId=userId, maxResults=1).execute()\\n    messages = results.get(\\'messages\\', [])\\n\\n    # 遍历邮件\\n    for message in messages:\\n        # 获取邮件的详细信息\\n        msg = service.users().messages().get(userId=\\'me\\', id=message[\\'id\\']).execute()\\n        \\n    return json.dumps(msg)\\n'},\n",
       " {'role': 'user',\n",
       "  'content': '请帮我编写一个python函数，用于给陈明发送邮件，请他明天早上9点半来我办公室开会，商量下半年技术开发计划，函数要求如下：                  1.函数参数to、subject和message_text，三个参数都是字符串类型，其中to表示发送邮件对象，subject表示邮件主题，message_text表示邮件具体内容；                  2.函数返回结果是当前邮件发送状态，返回结果本身必须是一个json格式对象；                  3.请将全部功能封装在一个函数内；                  4.请在函数编写过程中，在函数内部加入中文编写的详细的函数说明文档，用于说明函数功能、函数参数情况以及函数返回结果等信息；'},\n",
       " {'role': 'assistant',\n",
       "  'content': 'def send_email(to, subject, message_text):\\n    \"\"\"\\n    借助Gmail API创建并发送邮件函数\\n    :param to: 必要参数，字符串类型，用于表示邮件发送的目标邮箱地址；\\n    :param subject: 必要参数，字符串类型，表示邮件主题；\\n    :param message_text: 必要参数，字符串类型，表示邮件全部正文；\\n    :return：返回发送结果字典，若成功发送，则返回包含邮件ID和发送状态的字典。\\n    \"\"\"\\n    \\n    creds_file=\\'token_send.json\\'\\n    \\n    def create_message(to, subject, message_text):\\n        \"\"\"创建一个MIME邮件\"\"\"\\n        message = MIMEText(message_text)\\n        message[\\'to\\'] = to\\n        message[\\'from\\'] = \\'me\\'\\n        message[\\'subject\\'] = subject\\n        raw_message = base64.urlsafe_b64encode(message.as_string().encode(\\'utf-8\\')).decode(\\'utf-8\\')\\n        return {\\n            \\'raw\\': raw_message\\n        }\\n\\n    def send_message(service, user_id, message):\\n        \"\"\"发送邮件\"\"\"\\n        try:\\n            sent_message = service.users().messages().send(userId=user_id, body=message).execute()\\n            print(f\\'Message Id: {sent_message[\"id\"]}\\')\\n            return sent_message\\n        except Exception as e:\\n            print(f\\'An error occurred: {e}\\')\\n            return None\\n\\n    # 从本地文件中加载凭据\\n    creds = Credentials.from_authorized_user_file(creds_file)\\n\\n    # 创建 Gmail API 客户端\\n    service = build(\\'gmail\\', \\'v1\\', credentials=creds)\\n\\n    message = create_message(to, subject, message_text)\\n    res = send_message(service, \\'me\\', message)\\n\\n    return json.dumps(res)\\n'}]"
      ]
     },
     "execution_count": 41,
     "metadata": {},
     "output_type": "execute_result"
    }
   ],
   "source": [
    "few_shot_messages"
   ]
  },
  {
   "cell_type": "code",
   "execution_count": 16,
   "id": "14b8b7a0-482c-45a0-a275-4bc00bbdca21",
   "metadata": {},
   "outputs": [],
   "source": [
    "new_req_CD_input = \"请查下我的邮箱里是否有来自端木天的未读邮件，有的话请解读下这封未读邮件的内容。\""
   ]
  },
  {
   "cell_type": "code",
   "execution_count": 43,
   "id": "28640a41-182d-486f-8268-b4308552b2a1",
   "metadata": {},
   "outputs": [
    {
     "data": {
      "text/plain": [
       "[{'role': 'system',\n",
       "  'content': '为了更好编写满足用户需求的python函数，我们需要先识别用户需求中的变量，以作为python函数的参数。需要注意的是，当前编写的函数中涉及到的邮件收发查阅等功能，都是通过调用Gmail API来完成。'},\n",
       " {'role': 'user', 'content': '请帮我查下Gmail邮箱里最后一封邮件内容。'},\n",
       " {'role': 'assistant', 'content': '当前需求中可以作为函数参数的是：1.查看谁的邮箱。'},\n",
       " {'role': 'user',\n",
       "  'content': '请帮我给陈明发送一封Gmail邮件，请他明天早上9点半来我办公室开会，商量下半年技术开发计划。'},\n",
       " {'role': 'assistant',\n",
       "  'content': '当前需求中可以作为函数参数的是：1.发送邮件的对象；2.发送邮件的主题；3.邮件具体内容'},\n",
       " {'role': 'user', 'content': '请查下我的邮箱里是否有来自端木天的未读邮件，有的话请解读下这封未读邮件的内容。'},\n",
       " {'role': 'user', 'content': '请查下我的邮箱里是否有来自端木天的未读邮件，有的话请解读下这封未读邮件的内容。'}]"
      ]
     },
     "execution_count": 43,
     "metadata": {},
     "output_type": "execute_result"
    }
   ],
   "source": [
    "few_shot_messages_CD.append({\"role\": \"user\", \"content\": new_req_CD_input})\n",
    "few_shot_messages_CD"
   ]
  },
  {
   "cell_type": "markdown",
   "id": "46213038-fbcc-4851-82a0-d502427f6644",
   "metadata": {},
   "source": [
    "第一阶段CD环节提示："
   ]
  },
  {
   "cell_type": "code",
   "execution_count": 39,
   "id": "1f40b938-2dbe-448c-b2e4-c05baa35709d",
   "metadata": {
    "tags": []
   },
   "outputs": [],
   "source": [
    "response = openai.ChatCompletion.create(\n",
    "  model=\"gpt-4-0613\",\n",
    "  messages=few_shot_messages_CD\n",
    ")"
   ]
  },
  {
   "cell_type": "code",
   "execution_count": 41,
   "id": "be0479b6-6b10-4e82-917a-3ea329c464af",
   "metadata": {
    "tags": []
   },
   "outputs": [
    {
     "data": {
      "text/plain": [
       "'当前需求中可以作为函数参数的是：1.收件人邮箱；2.邮件的发送者；3.邮件的状态。'"
      ]
     },
     "execution_count": 41,
     "metadata": {},
     "output_type": "execute_result"
    }
   ],
   "source": [
    "new_req_pi = response.choices[0].message['content']\n",
    "new_req_pi"
   ]
  },
  {
   "cell_type": "markdown",
   "id": "e345a639-9405-4456-a733-a326b5688c2d",
   "metadata": {},
   "source": [
    "第一阶段CM环节提示："
   ]
  },
  {
   "cell_type": "code",
   "execution_count": 44,
   "id": "1c905478-a3e4-4b90-86d5-dc0bae93e476",
   "metadata": {},
   "outputs": [
    {
     "data": {
      "text/plain": [
       "'请查下我的邮箱里是否有来自端木天的未读邮件，有的话请解读下这封未读邮件的内容。当前需求中可以作为函数参数的是：1.收件人邮箱；2.邮件的发送者；3.邮件的状态。'"
      ]
     },
     "execution_count": 44,
     "metadata": {},
     "output_type": "execute_result"
    }
   ],
   "source": [
    "new_req_CM_input = new_req_CD_input + new_req_pi\n",
    "new_req_CM_input"
   ]
  },
  {
   "cell_type": "code",
   "execution_count": 46,
   "id": "3e85848b-e0d2-44ae-ac1a-e8efafe2041a",
   "metadata": {},
   "outputs": [
    {
     "data": {
      "text/plain": [
       "[{'role': 'system',\n",
       "  'content': '我现在已完成Gmail API授权，授权文件为本地文件token.json。函数参数必须是字符串类型对象，函数返回结果必须是json表示的字符串对象。'},\n",
       " {'role': 'user',\n",
       "  'content': '请帮我查下Gmail邮箱里最后一封邮件内容。当前需求中可以作为函数参数的是：1.查看谁的邮箱。'},\n",
       " {'role': 'assistant',\n",
       "  'content': \"请帮我编写一个python函数，用于查看我的Gmail邮箱中最后一封邮件信息，函数要求如下：                 1.函数参数userId，userId是字符串参数，默认情况下取值为'me'，表示查看我的邮件；                 2.函数返回结果是一个包含最后一封邮件信息的对象，返回结果本身必须是一个json格式对象；                 3.请将全部功能封装在一个函数内；                 4.请在函数编写过程中，在函数内部加入中文编写的详细的函数说明文档，用于说明函数功能、函数参数情况以及函数返回结果等信息；\"},\n",
       " {'role': 'user',\n",
       "  'content': '请帮我给陈明发送一封Gmail邮件，请他明天早上9点半来我办公室开会，商量下半年技术开发计划。当前需求中可以作为函数参数的是：1.发送邮件的对象；2.发送邮件的主题；3.邮件具体内容'},\n",
       " {'role': 'assistant',\n",
       "  'content': '请帮我编写一个python函数，用于给陈明发送邮件，请他明天早上9点半来我办公室开会，商量下半年技术开发计划，函数要求如下：                  1.函数参数to、subject和message_text，三个参数都是字符串类型，其中to表示发送邮件对象，subject表示邮件主题，message_text表示邮件具体内容；                  2.函数返回结果是当前邮件发送状态，返回结果本身必须是一个json格式对象；                  3.请将全部功能封装在一个函数内；                  4.请在函数编写过程中，在函数内部加入中文编写的详细的函数说明文档，用于说明函数功能、函数参数情况以及函数返回结果等信息；'},\n",
       " {'role': 'user',\n",
       "  'content': '请查下我的邮箱里是否有来自端木天的未读邮件，有的话请解读下这封未读邮件的内容。当前需求中可以作为函数参数的是：1.收件人邮箱；2.邮件的发送者；3.邮件的状态。'}]"
      ]
     },
     "execution_count": 46,
     "metadata": {},
     "output_type": "execute_result"
    }
   ],
   "source": [
    "few_shot_messages_CM.append({\"role\": \"user\", \"content\": new_req_CM_input})\n",
    "few_shot_messages_CM"
   ]
  },
  {
   "cell_type": "code",
   "execution_count": 47,
   "id": "df27ceae-ed1a-44ba-968e-03257e50ca44",
   "metadata": {
    "tags": []
   },
   "outputs": [],
   "source": [
    "response = openai.ChatCompletion.create(\n",
    "  model=\"gpt-4-0613\",\n",
    "  messages=few_shot_messages_CM\n",
    ")"
   ]
  },
  {
   "cell_type": "code",
   "execution_count": 48,
   "id": "9fcaa520-4070-4e7e-8b3d-4042ace37a72",
   "metadata": {
    "tags": []
   },
   "outputs": [
    {
     "data": {
      "text/plain": [
       "\"请帮我编写一个python函数，用于查询我的邮箱中是否有端木天的未读邮件，如有，请解读这封邮件的内容，函数要求如下：                  1.函数参数userId, sender, labelIds，其中userId表示邮件接收者（我的邮箱），sender表示邮件发送者，labelIds表示邮件状态，它是一个列表，列表中元素为'UNREAD'表示未读邮件；                  2.函数返回结果是一个包含邮件信息的json格式对象，如果没有找到邮件，返回结果中包含相关提示信息；                  3.请将全部功能封装在一个函数内；                  4.请在函数编写过程中，在函数内部加入中文编写的详细的函数说明文档，用于说明函数功能、函数参数情况以及函数返回结果等信息；\""
      ]
     },
     "execution_count": 48,
     "metadata": {},
     "output_type": "execute_result"
    }
   ],
   "source": [
    "new_req_description = response.choices[0].message['content']\n",
    "new_req_description"
   ]
  },
  {
   "cell_type": "markdown",
   "id": "58b77b6c-33b7-46f5-af7c-089e80380057",
   "metadata": {},
   "source": [
    "第二阶段提示"
   ]
  },
  {
   "cell_type": "code",
   "execution_count": 50,
   "id": "fc10658f-318d-4581-a280-b1fb96d5c06b",
   "metadata": {},
   "outputs": [
    {
     "data": {
      "text/plain": [
       "[{'role': 'system',\n",
       "  'content': '我现在已完成Gmail API授权，授权文件为本地文件token.json。函数参数必须是字符串类型对象，函数返回结果必须是json表示的字符串对象。'},\n",
       " {'role': 'user',\n",
       "  'content': \"请帮我编写一个python函数，用于查看我的Gmail邮箱中最后一封邮件信息，函数要求如下：                 1.函数参数userId，userId是字符串参数，默认情况下取值为'me'，表示查看我的邮件；                 2.函数返回结果是一个包含最后一封邮件信息的对象，返回结果本身必须是一个json格式对象；                 3.请将全部功能封装在一个函数内；                 4.请在函数编写过程中，在函数内部加入中文编写的详细的函数说明文档，用于说明函数功能、函数参数情况以及函数返回结果等信息；\"},\n",
       " {'role': 'assistant',\n",
       "  'content': 'def get_latest_email(userId):\\n    \"\"\"\\n    查询Gmail邮箱中最后一封邮件信息\\n    :param userId: 必要参数，字符串类型，用于表示需要查询的邮箱ID，\\\\\\n    注意，当查询我的邮箱时，userId需要输入\\'me\\'；\\n    :return：包含最后一封邮件全部信息的对象，该对象由Gmail API创建得到，且保存为JSON格式\\n    \"\"\"\\n    # 从本地文件中加载凭据\\n    creds = Credentials.from_authorized_user_file(\\'token.json\\')\\n    \\n    # 创建 Gmail API 客户端\\n    service = build(\\'gmail\\', \\'v1\\', credentials=creds)\\n    \\n    # 列出用户的一封最新邮件\\n    results = service.users().messages().list(userId=userId, maxResults=1).execute()\\n    messages = results.get(\\'messages\\', [])\\n\\n    # 遍历邮件\\n    for message in messages:\\n        # 获取邮件的详细信息\\n        msg = service.users().messages().get(userId=\\'me\\', id=message[\\'id\\']).execute()\\n        \\n    return json.dumps(msg)\\n'},\n",
       " {'role': 'user',\n",
       "  'content': '请帮我编写一个python函数，用于给陈明发送邮件，请他明天早上9点半来我办公室开会，商量下半年技术开发计划，函数要求如下：                  1.函数参数to、subject和message_text，三个参数都是字符串类型，其中to表示发送邮件对象，subject表示邮件主题，message_text表示邮件具体内容；                  2.函数返回结果是当前邮件发送状态，返回结果本身必须是一个json格式对象；                  3.请将全部功能封装在一个函数内；                  4.请在函数编写过程中，在函数内部加入中文编写的详细的函数说明文档，用于说明函数功能、函数参数情况以及函数返回结果等信息；'},\n",
       " {'role': 'assistant',\n",
       "  'content': 'def send_email(to, subject, message_text):\\n    \"\"\"\\n    借助Gmail API创建并发送邮件函数\\n    :param to: 必要参数，字符串类型，用于表示邮件发送的目标邮箱地址；\\n    :param subject: 必要参数，字符串类型，表示邮件主题；\\n    :param message_text: 必要参数，字符串类型，表示邮件全部正文；\\n    :return：返回发送结果字典，若成功发送，则返回包含邮件ID和发送状态的字典。\\n    \"\"\"\\n    \\n    creds_file=\\'token_send.json\\'\\n    \\n    def create_message(to, subject, message_text):\\n        \"\"\"创建一个MIME邮件\"\"\"\\n        message = MIMEText(message_text)\\n        message[\\'to\\'] = to\\n        message[\\'from\\'] = \\'me\\'\\n        message[\\'subject\\'] = subject\\n        raw_message = base64.urlsafe_b64encode(message.as_string().encode(\\'utf-8\\')).decode(\\'utf-8\\')\\n        return {\\n            \\'raw\\': raw_message\\n        }\\n\\n    def send_message(service, user_id, message):\\n        \"\"\"发送邮件\"\"\"\\n        try:\\n            sent_message = service.users().messages().send(userId=user_id, body=message).execute()\\n            print(f\\'Message Id: {sent_message[\"id\"]}\\')\\n            return sent_message\\n        except Exception as e:\\n            print(f\\'An error occurred: {e}\\')\\n            return None\\n\\n    # 从本地文件中加载凭据\\n    creds = Credentials.from_authorized_user_file(creds_file)\\n\\n    # 创建 Gmail API 客户端\\n    service = build(\\'gmail\\', \\'v1\\', credentials=creds)\\n\\n    message = create_message(to, subject, message_text)\\n    res = send_message(service, \\'me\\', message)\\n\\n    return json.dumps(res)\\n'},\n",
       " {'role': 'user',\n",
       "  'content': \"请帮我编写一个python函数，用于查询我的邮箱中是否有端木天的未读邮件，如有，请解读这封邮件的内容，函数要求如下：                  1.函数参数userId, sender, labelIds，其中userId表示邮件接收者（我的邮箱），sender表示邮件发送者，labelIds表示邮件状态，它是一个列表，列表中元素为'UNREAD'表示未读邮件；                  2.函数返回结果是一个包含邮件信息的json格式对象，如果没有找到邮件，返回结果中包含相关提示信息；                  3.请将全部功能封装在一个函数内；                  4.请在函数编写过程中，在函数内部加入中文编写的详细的函数说明文档，用于说明函数功能、函数参数情况以及函数返回结果等信息；\"}]"
      ]
     },
     "execution_count": 50,
     "metadata": {},
     "output_type": "execute_result"
    }
   ],
   "source": [
    "few_shot_messages.append({\"role\": \"user\", \"content\": new_req_description})\n",
    "few_shot_messages"
   ]
  },
  {
   "cell_type": "code",
   "execution_count": 51,
   "id": "ca4e7acc-59a3-4113-9743-1a225816f05d",
   "metadata": {
    "tags": []
   },
   "outputs": [],
   "source": [
    "response = openai.ChatCompletion.create(\n",
    "  model=\"gpt-4-0613\",\n",
    "  messages=few_shot_messages\n",
    ")"
   ]
  },
  {
   "cell_type": "code",
   "execution_count": 52,
   "id": "b334750d-e907-4636-af2e-b8dcccd177c1",
   "metadata": {
    "tags": []
   },
   "outputs": [
    {
     "data": {
      "text/plain": [
       "'def get_unread_email(userId, sender, labelIds):\\n    \"\"\"\\n    查询指定发件人的未读邮件\\n    :param userId: 必要参数，字符串类型，用于表示需要查询的邮箱ID，\\\\\\n    注意，当查询我的邮箱时，userId需要输入\\'me\\'；\\n    :param sender: 必要参数，字符串类型，用于表示需要查询的发件人，输入发件人的邮箱地址；\\n    :param labelIds: 必要参数，列表类型，用于表示需要查询的邮件状态，输入[\\'UNREAD\\']查询未读邮件；\\n    :return：返回查询到的邮件内容，如果没有找到相关邮件，则返回提示信息；\\n    \"\"\"\\n    # 从本地文件中加载凭据\\n    creds = Credentials.from_authorized_user_file(\\'token.json\\')\\n\\n    # 创建 Gmail API 客户端\\n    service = build(\\'gmail\\', \\'v1\\', credentials=creds)\\n\\n    # 列出用户的未读邮件\\n    results = service.users().messages().list(userId=userId, labelIds=labelIds, q=f\\'from:{sender}\\').execute()\\n    messages = results.get(\\'messages\\', [])\\n\\n    if not messages:\\n        print(\\'No messages found.\\')\\n        return json.dumps({\\'message\\':\\'No messages found.\\'})\\n\\n    # 遍历邮件\\n    for message in messages:\\n        # 获取邮件的详细信息\\n        msg = service.users().messages().get(userId=userId, id=message[\\'id\\']).execute()\\n        \\n    return json.dumps(msg)\\n'"
      ]
     },
     "execution_count": 52,
     "metadata": {},
     "output_type": "execute_result"
    }
   ],
   "source": [
    "new_req_function = response.choices[0].message['content']\n",
    "new_req_function"
   ]
  },
  {
   "cell_type": "code",
   "execution_count": 13,
   "id": "c705fbfd-4870-4f92-92c8-fcd73855417c",
   "metadata": {},
   "outputs": [
    {
     "name": "stdout",
     "output_type": "stream",
     "text": [
      "def get_unread_email(userId, sender, labelIds):\n",
      "    \"\"\"\n",
      "    查询指定发件人的未读邮件\n",
      "    :param userId: 必要参数，字符串类型，用于表示需要查询的邮箱ID，\\\n",
      "    注意，当查询我的邮箱时，userId需要输入'me'；\n",
      "    :param sender: 必要参数，字符串类型，用于表示需要查询的发件人，输入发件人的邮箱地址；\n",
      "    :param labelIds: 必要参数，列表类型，用于表示需要查询的邮件状态，输入['UNREAD']查询未读邮件；\n",
      "    :return：返回查询到的邮件内容，如果没有找到相关邮件，则返回提示信息；\n",
      "    \"\"\"\n",
      "    # 从本地文件中加载凭据\n",
      "    creds = Credentials.from_authorized_user_file('token.json')\n",
      "\n",
      "    # 创建 Gmail API 客户端\n",
      "    service = build('gmail', 'v1', credentials=creds)\n",
      "\n",
      "    # 列出用户的未读邮件\n",
      "    results = service.users().messages().list(userId=userId, labelIds=labelIds, q=f'from:{sender}').execute()\n",
      "    messages = results.get('messages', [])\n",
      "\n",
      "    if not messages:\n",
      "        print('No messages found.')\n",
      "        return json.dumps({'message':'No messages found.'})\n",
      "\n",
      "    # 遍历邮件\n",
      "    for message in messages:\n",
      "        # 获取邮件的详细信息\n",
      "        msg = service.users().messages().get(userId=userId, id=message['id']).execute()\n",
      "        \n",
      "    return json.dumps(msg)\n",
      "\n"
     ]
    }
   ],
   "source": [
    "extract_function_code(new_req_function, detail=1, g=globals())"
   ]
  },
  {
   "cell_type": "markdown",
   "id": "e7676115-e55e-49f5-860f-eadbcc856bd3",
   "metadata": {},
   "source": [
    "---"
   ]
  },
  {
   "cell_type": "markdown",
   "id": "948fc451-ed33-47d7-bc35-145886c438d1",
   "metadata": {},
   "source": [
    "接下来测试code_generate函数效果。我们还是以“查询和端木天之间的未读邮件”为需求，以'get_latest_email'和'send_email'两个函数为提示示例，借助code_generate一步到位创建外部函数："
   ]
  },
  {
   "cell_type": "code",
   "execution_count": 150,
   "id": "85aeae2e-d8db-4a4d-adce-ebc0700f1e0e",
   "metadata": {
    "tags": []
   },
   "outputs": [],
   "source": [
    "few_shot_functions = ['get_latest_email', 'send_email']"
   ]
  },
  {
   "cell_type": "code",
   "execution_count": 151,
   "id": "e92a13ca-abc0-4f85-b173-110621ebb067",
   "metadata": {
    "tags": []
   },
   "outputs": [],
   "source": [
    "req = \"请查下我的邮箱里是否有来自端木天的未读邮件，有的话请解读下这封未读邮件的内容。\""
   ]
  },
  {
   "cell_type": "code",
   "execution_count": 152,
   "id": "93f29534-d997-4eda-9692-c6b24af6608f",
   "metadata": {
    "tags": []
   },
   "outputs": [
    {
     "name": "stdout",
     "output_type": "stream",
     "text": [
      "第一阶段CD环节提示创建完毕，正在进行CD提示...\n",
      "第一阶段CD环节提示完毕\n",
      "第一阶段CM环节提示创建完毕，正在进行第一阶段CM提示...\n",
      "第一阶段CM环节提示完毕\n",
      "第二阶段提示创建完毕，正在进行第二阶段提示...\n",
      "第二阶段提示完毕，准备运行函数并编写提示示例\n",
      "The function name is:check_unread_mail\n",
      "新函数保存在./functions/untested functions/check_unread_mail/check_unread_mail_module.py文件中\n",
      "新函数提示示例保存在./functions/untested functions/check_unread_mail/check_unread_mail_prompt.json文件中\n",
      "done\n"
     ]
    }
   ],
   "source": [
    "function_name = code_generate(req=req, few_shot=few_shot_functions)"
   ]
  },
  {
   "cell_type": "markdown",
   "id": "6056ccc9-5efc-45b3-be2e-7253c7e45e27",
   "metadata": {},
   "source": [
    "然后我们手动对新创建的check_unread_mail函数进行功能验证："
   ]
  },
  {
   "cell_type": "code",
   "execution_count": 153,
   "id": "810782e3-31a4-4f34-ab4b-9513120248a9",
   "metadata": {
    "tags": []
   },
   "outputs": [],
   "source": [
    "functions_list = [check_unread_mail]"
   ]
  },
  {
   "cell_type": "code",
   "execution_count": 154,
   "id": "bd80a85b-4598-46c5-8df2-c75e394cb3b0",
   "metadata": {
    "tags": []
   },
   "outputs": [],
   "source": [
    "messages = [{\"role\": \"system\", \"content\": \"端木天的邮箱地址是:2323365771@qq.com\"},\n",
    "            {\"role\": \"user\", \"content\": req}]"
   ]
  },
  {
   "cell_type": "code",
   "execution_count": 155,
   "id": "32ddf092-9010-418f-af97-e8dc757de417",
   "metadata": {
    "tags": []
   },
   "outputs": [],
   "source": [
    "final_response = run_conversation(messages=messages, functions_list=functions_list, model=\"gpt-4-0613\")"
   ]
  },
  {
   "cell_type": "code",
   "execution_count": 156,
   "id": "f60f4d16-961e-406a-a78e-8021bde1cc99",
   "metadata": {
    "tags": []
   },
   "outputs": [
    {
     "data": {
      "text/plain": [
       "'您有一封来自端木天的未读邮件，主题是“本周工作进度”，内容如下：“下半年技术开发计划已做好，随时可以向您进行汇报。”。'"
      ]
     },
     "execution_count": 156,
     "metadata": {},
     "output_type": "execute_result"
    }
   ],
   "source": [
    "final_response"
   ]
  },
  {
   "cell_type": "markdown",
   "id": "46f4bae7-d241-4611-8b9f-d9bb0cf4fc88",
   "metadata": {},
   "source": [
    "能够发现，上述流程能够非常高效便捷的进行外部函数的创建。"
   ]
  },
  {
   "cell_type": "markdown",
   "id": "83f4e64a-b4b3-4781-b9ae-6e091d6f5270",
   "metadata": {},
   "source": [
    "#### 3.5 基于code_generate编写更多外部功能函数"
   ]
  },
  {
   "cell_type": "markdown",
   "id": "c60f40f4-851b-421e-aefa-cde3c6c66836",
   "metadata": {},
   "source": [
    "&emsp;&emsp;为了测试code_generate是否能够更好的满足更多的外部函数编写需求，我们这里再进行一些额外新增需求测试，尝试让code_generate自动帮我们编写检查第一封邮件信息内容的函数，以及整理和端木天之间的邮件记录。具体测试流程如下。"
   ]
  },
  {
   "cell_type": "markdown",
   "id": "a80bcd2f-a2f0-4162-ae60-b9bd1ad0de59",
   "metadata": {},
   "source": [
    "- 检测第一封邮件收件时间和邮件内容"
   ]
  },
  {
   "cell_type": "markdown",
   "id": "d2a82fd0-1c40-45d7-b789-6cf4cd51524a",
   "metadata": {},
   "source": [
    "&emsp;&emsp;首先我们让code_generate帮我们创建一个外部函数来查阅第一封邮件收件时间和邮件内容，不难发现这其实是一个相对简单的功能需求，这里我们仍然以get_latest_email和send_email作为提示示例，具体测试过程如下："
   ]
  },
  {
   "cell_type": "code",
   "execution_count": 5,
   "id": "94b9ab90-647f-49eb-b6bc-48d62b51e303",
   "metadata": {
    "tags": []
   },
   "outputs": [],
   "source": [
    "few_shot_functions = ['get_latest_email', 'send_email']"
   ]
  },
  {
   "cell_type": "code",
   "execution_count": 18,
   "id": "8ca10d23-9819-4bae-8078-194656735f04",
   "metadata": {
    "tags": []
   },
   "outputs": [],
   "source": [
    "req = \"请查下我的邮箱里第一封邮件，并告诉我第一封邮件的收件时间和邮件内容\""
   ]
  },
  {
   "cell_type": "code",
   "execution_count": 19,
   "id": "eb51b502-1cf6-4e30-9e36-557fc632745e",
   "metadata": {
    "tags": []
   },
   "outputs": [
    {
     "name": "stdout",
     "output_type": "stream",
     "text": [
      "第一阶段CD环节提示创建完毕，正在进行CD提示...\n",
      "第一阶段CD环节提示完毕\n",
      "第一阶段CM环节提示创建完毕，正在进行第一阶段CM提示...\n",
      "第一阶段CM环节提示完毕\n",
      "第二阶段提示创建完毕，正在进行第二阶段提示...\n",
      "第二阶段提示完毕，准备运行函数并编写提示示例\n",
      "The function name is:get_first_email_info\n",
      "新函数保存在./functions/untested functions/get_first_email_info/get_first_email_info_module.py文件中\n",
      "新函数提示示例保存在./functions/untested functions/get_first_email_info/get_first_email_info_prompt.json文件中\n",
      "done\n"
     ]
    }
   ],
   "source": [
    "function_name = code_generate(req=req, few_shot=few_shot_functions)"
   ]
  },
  {
   "cell_type": "markdown",
   "id": "e34f3905-997b-44b4-bbff-2ffb0facc082",
   "metadata": {},
   "source": [
    "此时创建的函数名称为get_first_email，并且在untested文件夹内保存了相关代码和提示内容。接下来我们直接带入测试该函数功能能否满足要求："
   ]
  },
  {
   "cell_type": "code",
   "execution_count": 20,
   "id": "ba34f2c2-576f-4b4c-8026-a3f1657583df",
   "metadata": {
    "tags": []
   },
   "outputs": [],
   "source": [
    "functions_list = [get_first_email_info]"
   ]
  },
  {
   "cell_type": "code",
   "execution_count": 21,
   "id": "c9a71977-5d45-43c7-88b9-9a2fbaa28abb",
   "metadata": {
    "tags": []
   },
   "outputs": [],
   "source": [
    "messages = [{\"role\": \"user\", \"content\": req}]"
   ]
  },
  {
   "cell_type": "code",
   "execution_count": 22,
   "id": "e9f630dc-b8d0-4729-9f82-29e074331caa",
   "metadata": {
    "tags": []
   },
   "outputs": [
    {
     "data": {
      "text/plain": [
       "[{'role': 'user', 'content': '请查下我的邮箱里第一封邮件，并告诉我第一封邮件的收件时间和邮件内容'}]"
      ]
     },
     "execution_count": 22,
     "metadata": {},
     "output_type": "execute_result"
    }
   ],
   "source": [
    "messages"
   ]
  },
  {
   "cell_type": "code",
   "execution_count": 23,
   "id": "fa763835-5c5f-4f69-baed-15358a9e92fa",
   "metadata": {
    "tags": []
   },
   "outputs": [],
   "source": [
    "final_response = run_conversation(messages=messages, functions_list=functions_list, model=\"gpt-4-0613\")"
   ]
  },
  {
   "cell_type": "code",
   "execution_count": 24,
   "id": "8ca4238b-08e4-4f58-8668-a16ee98018ea",
   "metadata": {
    "tags": []
   },
   "outputs": [
    {
     "data": {
      "text/plain": [
       "'您的第一封邮件在2023年7月23日12:15接收。邮件的内容是关于您的辅助邮箱ksken166@gmail.com与2323365771@qq.com已通过验证的信息。邮件还提供了一个链接（https://myaccount.google.com/notifications）以查看安全性活动，并解释说这封电子邮件是为了让您了解有关您的Google帐户和服务的重大变化。'"
      ]
     },
     "execution_count": 24,
     "metadata": {},
     "output_type": "execute_result"
    }
   ],
   "source": [
    "final_response"
   ]
  },
  {
   "cell_type": "markdown",
   "id": "d5620850-c667-4553-8884-450ac452bd1d",
   "metadata": {},
   "source": [
    "能够发现，当前get_first_email函数能够很好的满足该需求。"
   ]
  },
  {
   "cell_type": "markdown",
   "id": "3111b00e-62db-4fb4-852b-213b7d5fbf7c",
   "metadata": {},
   "source": [
    "> 需要注意的是，在围绕当前需求进行函数创建时首次创建的函数并不能正常运行，错误原因在于使用了一个未经定义的变量，错误代码如下：<center><img src=\"https://ml2022.oss-cn-hangzhou.aliyuncs.com/img/0d996fecb50db908512733f81f00eb8.png\" alt=\"0d996fecb50db908512733f81f00eb8\" style=\"zoom:33%;\" />"
   ]
  },
  {
   "cell_type": "markdown",
   "id": "7dff43e4-fd56-43b5-ae62-aff984d804c6",
   "metadata": {},
   "source": [
    "> 测试环节的所有报错函数都将统一进行归纳和整理，这里我们独将code_generate创建函数时的报错函数统一保存在functions/wrong code文件夹内，下一小节将重点探讨如何进行设置全自动debug流程来大幅提高大语言模型编程稳定性。"
   ]
  },
  {
   "cell_type": "markdown",
   "id": "00f4e450-a356-4d94-b071-6146a0b0a736",
   "metadata": {},
   "source": [
    "- 整理和端木天之间的邮件记录"
   ]
  },
  {
   "cell_type": "markdown",
   "id": "e95dc0ff-008a-4f07-8f76-2f9ca81b672c",
   "metadata": {},
   "source": [
    "&emsp;&emsp;接下来进行第二项测试，即尝试让code_generate函数自动编写函数，来整理我和端木天之间的邮件通信记录，并对其内容进行总结。很明显，该需求难度略高于第一个测试问题。考虑到这个需求难度更大，我们尝试带入全部经过测试的函数作为提示示例，即设置few_shot='all'。具体的外部函数自动创建与验证过程如下："
   ]
  },
  {
   "cell_type": "code",
   "execution_count": 71,
   "id": "9faaddcd-278b-4fc7-9cab-497aeb15f66c",
   "metadata": {
    "tags": []
   },
   "outputs": [],
   "source": [
    "req = \"帮我整理下我和端木天之间的邮件通信记录\""
   ]
  },
  {
   "cell_type": "code",
   "execution_count": 63,
   "id": "8893fd30-7354-46ef-84c3-8eec43584e26",
   "metadata": {
    "tags": []
   },
   "outputs": [
    {
     "name": "stdout",
     "output_type": "stream",
     "text": [
      "第一阶段CD环节提示创建完毕，正在进行CD提示...\n",
      "第一阶段CD环节提示完毕\n",
      "第一阶段CM环节提示创建完毕，正在进行第一阶段CM提示...\n",
      "第一阶段CM环节提示完毕\n",
      "第二阶段提示创建完毕，正在进行第二阶段提示...\n",
      "第二阶段提示完毕，准备运行函数并编写提示示例\n",
      "The function name is:get_emails_between\n",
      "新函数保存在./functions/untested functions/get_emails_between/get_emails_between_module.py文件中\n",
      "新函数提示示例保存在./functions/untested functions/get_emails_between/get_emails_between_prompt.json文件中\n",
      "done\n"
     ]
    }
   ],
   "source": [
    "function_name = code_generate(req=req, few_shot='all')"
   ]
  },
  {
   "cell_type": "markdown",
   "id": "11632e78-8593-4dca-8542-c090ba4bcbc9",
   "metadata": {},
   "source": [
    "此时创建的函数名称为get_emails_between，代码和提示文本都保存在untested文件夹内。接下来我们直接带入该函数进行功能测试"
   ]
  },
  {
   "cell_type": "code",
   "execution_count": 64,
   "id": "9c56733f-311a-4493-9378-5e515a07e225",
   "metadata": {
    "tags": []
   },
   "outputs": [],
   "source": [
    "functions_list = [get_emails_between]"
   ]
  },
  {
   "cell_type": "code",
   "execution_count": 68,
   "id": "ca16ea00-2c37-42ef-b28c-953a6fa8eaf9",
   "metadata": {
    "tags": []
   },
   "outputs": [],
   "source": [
    "messages = [{\"role\": \"system\", \"content\": \"端木天的邮箱地址是:2323365771@qq.com\"},\n",
    "            {\"role\": \"system\", \"content\": \"我的邮箱地址是:ksken166@gmail.com\"},\n",
    "            {\"role\": \"user\", \"content\": req}]"
   ]
  },
  {
   "cell_type": "code",
   "execution_count": 69,
   "id": "7dece064-9013-4b17-ab54-35f96210fb59",
   "metadata": {
    "tags": []
   },
   "outputs": [],
   "source": [
    "final_response = run_conversation(messages=messages, functions_list=functions_list, model=\"gpt-4-0613\")"
   ]
  },
  {
   "cell_type": "code",
   "execution_count": 72,
   "id": "a5e80802-646f-4fab-b3bb-e67319703664",
   "metadata": {
    "tags": []
   },
   "outputs": [
    {
     "data": {
      "text/plain": [
       "'你和端木天之间有9封的邮件通信记录，具体日期如下：\\n1. 2023年7月23日 6:13:48\\n2. 2023年7月21日 7:38:55\\n3. 2023年7月21日 7:27:55\\n4. 2023年7月21日 7:24:13\\n5. 2023年7月21日 7:21:39\\n6. 2023年7月21日 7:14:38\\n7. 2023年7月21日 7:14:22\\n8. 2023年7月21日 6:51:26\\n9. 2023年7月21日 6:08:02'"
      ]
     },
     "execution_count": 72,
     "metadata": {},
     "output_type": "execute_result"
    }
   ],
   "source": [
    "final_response"
   ]
  },
  {
   "cell_type": "markdown",
   "id": "5400b837-694c-4aee-936a-a7023c0edf0a",
   "metadata": {},
   "source": [
    "能够发现get_emails_between函数能够很好的汇总我和端木天之间的通信记录。"
   ]
  },
  {
   "cell_type": "markdown",
   "id": "d41e5353-e439-4e55-96e7-631e84ec8ad3",
   "metadata": {},
   "source": [
    "> 需要注意的是，在反复多次创建该函数的过程中，code_generate也创建了一个错误的函数，函数内容如下，很明显模型在创建该函数时并未很好的理解“编写函数说明文档”是什么意思，导致函数本身没有说明文档，最终导致无法自动翻译为外部函数，最终导致运行报错：<center><img src=\"https://ml2022.oss-cn-hangzhou.aliyuncs.com/img/7ae14ff8bd5bdf57d72e90855d5c503.png\" alt=\"7ae14ff8bd5bdf57d72e90855d5c503\" style=\"zoom:33%;\" />"
   ]
  },
  {
   "cell_type": "markdown",
   "id": "7c848898-d2dc-4d24-aae7-33906bcfdf8b",
   "metadata": {},
   "source": [
    "&emsp;&emsp;至此，我们就完整测试了code_generate函数功能。总的来看，基于LtM提示流程的gpt-4自动编程函数还是能够自动创建符合要求的函数，唯一的问题就是gpt-4的编程能力发挥的不是很稳定。尽管gpt-4模型是目前最强的编程模型之一，但在实际进行批量代码创建时，仍然有可能出现各类问题。除了上面所列举的诸如模型无法很好的理解“编写注释”或者直接使用了未经定义的变量之外，还有可能出现很多类似于代码结构错误导致无法被extract函数提取源码、使用了过期的函数库等各类问题，在使用code_generate函数进行自动编程时，我们仍然需要实时手动检验，才能确保最终的函数是可用的。但无论如何，从编程流程上来看，拥有诸多辅助函数加持下的code_generate函数已经能够以一个非常高的效率进行外部函数创建，相比于手动编写函数来说，哪怕是需要人工debug，当前的基于code_generate函数的函数编写流程也要高效很多。至此，我们就完成了一个相对较为稳定的全自动函数编写流程的创建。"
   ]
  },
  {
   "cell_type": "markdown",
   "id": "baad7ec2-4245-430c-8ecb-90e4f1388454",
   "metadata": {},
   "source": [
    "- 大语言模型编程能力不稳定问题及解决方法"
   ]
  },
  {
   "cell_type": "markdown",
   "id": "b5f0cc01-ab28-4299-ba8f-a337620a7d83",
   "metadata": {},
   "source": [
    "&emsp;&emsp;需要注意的是，涌现能力的不稳定性是大语言模型在使用过程中最大的问题，对于大语言模型来说，不仅是编程能力“不太稳定”，很多时候围绕复杂问题的“推理能力”、甚至是围绕对话的“问答能力”都不稳定。因此，如何才能让大语言模型稳定的解决某些问题，就成了大模型应用过程的最核心的问题之一。其实从本质上来说，我们之所以借助一些提示工程的手段来进行自动编程，也是为了提升大语言模型的编程稳定性，而后续我们要介绍的微调方法，本质上也是希望能够更好的激发模型的涌现能力，让大语言模型“稳定的”解决某些问题。"
   ]
  },
  {
   "cell_type": "markdown",
   "id": "5ce19bb6-97b2-40c5-971c-cbc69b298114",
   "metadata": {},
   "source": [
    "&emsp;&emsp;当然，大语言模型本身能否稳定的输出正确结果，其实也是和当前问题难度有较大关系，大语言模型对于简单问题往往具备较强的解决能力，但对于复杂问题，则会表现出不太稳定、甚至是完全无法解决问题的情况，此时我们就需要围绕这一问题考虑采用一系列的解决方法。而除了提示工程和微调之外，其实还有一些更加偏工业应用的解决方案。这里所谓的偏工业应用的方法，指的是工程师们在长期实际使用大模型的过程中总结经验得出的一些方法，这些方法可能并不具备非常深厚的理论基础，但切实有效（就类似于机器学习领域的模型融合）。这些方法中最简单的方法就是让模型反复多次运行，有的时候我们不需要进行任何额外的调整，只需要反复多次运行，就可以让模型顺利输出一个正确的编程结果。上述测试环节中第一个函数——最终可以顺利运行的get_first_email函数其实就是通过反复多次运行code_generate函数得到的结果。此外，添加更多的、差异性较大的提示示例也是非常有效的方法，例如上述测试环节中第二个函数get_emails_between就是在添加了更多的提示示例，并且反复运行两次之后得到的函数。"
   ]
  },
  {
   "cell_type": "markdown",
   "id": "eec99ab2-7400-48f6-b1ab-822f64551923",
   "metadata": {},
   "source": [
    "&emsp;&emsp;此外，还有一种方法也至关重要，该方法也能大幅提高大语言模型编程稳定性——那就是创建基于大语言模型的自动debug流程，让大语言模型自纠自查，来提高编程稳定性。需要注意的是，在工业应用过程中，大语言模型的自纠自查是非常重要的提高模型稳定性的方法，能够有效提升模型围绕标准答案进行回答的能力。而在下一小节中，我们就将详细介绍如何借助大语言模型构建代码自动debug流程，并且同时，在code_generate基础之上，搭建一个更加自动化的编程流程。"
   ]
  },
  {
   "cell_type": "markdown",
   "id": "cea77e25-0ce8-4375-8dfa-bbc5d5dc5063",
   "metadata": {},
   "source": [
    "---"
   ]
  },
  {
   "cell_type": "markdown",
   "id": "e02ef955-853b-4cbf-8f52-dfd2268495ac",
   "metadata": {},
   "source": [
    "**<center>【总结】提升大语言模型编程稳定性方法**"
   ]
  },
  {
   "cell_type": "markdown",
   "id": "976ae544-6d54-4ee8-863c-8dd14e526cda",
   "metadata": {},
   "source": [
    "&emsp;&emsp;抛开工业方法还是理论方法不谈，总的来说，提升大语言模型编程稳定性的方法可以按照如下方式进行总结："
   ]
  },
  {
   "cell_type": "markdown",
   "id": "5de2065d-cf01-4a25-9cb6-b6a77b45e78f",
   "metadata": {},
   "source": [
    "<center><img src=\"https://ml2022.oss-cn-hangzhou.aliyuncs.com/img/%E5%A6%82%E4%BD%95%E6%9B%B4%E5%A5%BD%E7%9A%84%E5%BC%95%E5%AF%BC%E5%A4%A7%E8%AF%AD%E8%A8%80%E6%A8%A1%E5%9E%8B%E8%BF%9B%E8%A1%8C%E7%BC%96%E7%A8%8B.png\" alt=\"如何更好的引导大语言模型进行编程\" style=\"zoom:33%;\" />"
   ]
  },
  {
   "cell_type": "markdown",
   "id": "e8ff8f94-8a09-4aed-ae9a-4c230ab00242",
   "metadata": {},
   "source": [
    "当然，其中很多方法目前还没讲，待下一小节讲完更多方法之后，我们再进行系统性总结。"
   ]
  },
  {
   "cell_type": "markdown",
   "id": "ad830137-6008-44f8-b901-789a6b20c000",
   "metadata": {},
   "source": [
    "---"
   ]
  }
 ],
 "metadata": {
  "kernelspec": {
   "display_name": "Python 3 (ipykernel)",
   "language": "python",
   "name": "python3"
  },
  "language_info": {
   "codemirror_mode": {
    "name": "ipython",
    "version": 3
   },
   "file_extension": ".py",
   "mimetype": "text/x-python",
   "name": "python",
   "nbconvert_exporter": "python",
   "pygments_lexer": "ipython3",
   "version": "3.10.10"
  }
 },
 "nbformat": 4,
 "nbformat_minor": 5
}
