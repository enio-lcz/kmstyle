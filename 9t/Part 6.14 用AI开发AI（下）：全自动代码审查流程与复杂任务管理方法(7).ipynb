{
 "cells": [
  {
   "cell_type": "markdown",
   "id": "725110af-6a3e-4053-8bc1-5128ec2a9535",
   "metadata": {
    "tags": []
   },
   "source": [
    "# <center>OpenAI在线大模型调用及微调方法"
   ]
  },
  {
   "cell_type": "markdown",
   "id": "5b8e3875-097d-4bf4-a51d-ebdda87aaae7",
   "metadata": {},
   "source": [
    "## <center>Ch.14 用AI开发AI（下）：全自动代码审查流程与复杂任务管理方法"
   ]
  },
  {
   "cell_type": "markdown",
   "id": "1b22a593-8b0a-4c3c-903e-e67f18bbab53",
   "metadata": {},
   "source": [
    "- 软件开发过程利用大语言模型提高开发效率的不同阶段"
   ]
  },
  {
   "cell_type": "markdown",
   "id": "00bd7b7a-d31b-444e-8c66-3b7359e5d25e",
   "metadata": {},
   "source": [
    "<center><img src=\"https://ml2022.oss-cn-hangzhou.aliyuncs.com/img/702fe4b67f1781de14a5e217a2d923b.png\" alt=\"702fe4b67f1781de14a5e217a2d923b\" style=\"zoom:33%;\" />"
   ]
  },
  {
   "cell_type": "code",
   "execution_count": 1,
   "id": "c56f3156-6106-43b1-aaa1-f6f79b4e80ef",
   "metadata": {
    "scrolled": true,
    "tags": []
   },
   "outputs": [],
   "source": [
    "import os\n",
    "import openai\n",
    "import glob\n",
    "import shutil\n",
    "openai.api_key = os.getenv(\"OPENAI_API_KEY\")\n",
    "\n",
    "import numpy as np\n",
    "import pandas as pd\n",
    "\n",
    "import json\n",
    "import io\n",
    "import inspect\n",
    "import requests\n",
    "import re\n",
    "\n",
    "from googleapiclient.discovery import build\n",
    "from google.oauth2.credentials import Credentials\n",
    "from google_auth_oauthlib.flow import InstalledAppFlow\n",
    "import base64\n",
    "import email\n",
    "from email import policy\n",
    "from email.parser import BytesParser\n",
    "from email.mime.text import MIMEText\n",
    "\n",
    "from bs4 import BeautifulSoup\n",
    "import dateutil.parser as parser\n",
    "\n",
    "import sys\n",
    "sys.path.insert(0, '.\\\\functions\\\\untested functions')\n",
    "sys.path.insert(0, '.\\\\functions\\\\tested functions')\n",
    "from gptLearning import *"
   ]
  },
  {
   "cell_type": "markdown",
   "id": "735bd756-45c7-4a47-84c8-f240b9b92666",
   "metadata": {},
   "source": [
    "### 1.基于大语言模型的自动代码审查流程"
   ]
  },
  {
   "cell_type": "markdown",
   "id": "20c753e5-a350-4dea-991e-0cab2574b937",
   "metadata": {},
   "source": [
    "- 大语言模型debug能力验证"
   ]
  },
  {
   "cell_type": "markdown",
   "id": "909b846a-eff4-4943-8051-954aa9dc1295",
   "metadata": {},
   "source": [
    "&emsp;&emsp;一个非常有趣的现象是，很多时候大语言模型和人类一样，“做作业”（根据提示生成答案）的时候会犯迷糊，但如果“自己再检查一遍”，就能够很好的检查出此前回答的答案中存在的问题，并且，由于大语言模型并不存在长期记忆，因此哪怕是用大语言模型审查自己输出的内容，其实也相当于自己去检查别人的作业，查错效率很高。例如围绕上一小节生成的错误代码get_first_email（注意是保存在wrong code文件夹内的错误的get_first_email函数，并不是在untested文件夹中的函数），我们让Chat模型自行再次进行检查，测试其能否查出错误："
   ]
  },
  {
   "cell_type": "code",
   "execution_count": 8,
   "id": "4471a143-42d5-4f46-b27b-5323e89f435d",
   "metadata": {
    "tags": []
   },
   "outputs": [],
   "source": [
    "with open('./functions/wrong code/get_first_email/get_first_email_module.py' , encoding='utf-8') as f:\n",
    "    content = f.read()"
   ]
  },
  {
   "cell_type": "code",
   "execution_count": 9,
   "id": "7a06dde1-d673-4619-aa15-27beab4c3ee5",
   "metadata": {
    "tags": []
   },
   "outputs": [
    {
     "data": {
      "text/plain": [
       "'def get_first_email(userId=\\'me\\'):\\n    \"\"\"\\n    查询Gmail邮箱中第一封邮件信息\\n    :param userId: 必要参数，字符串类型，用于表示需要查询的邮箱ID，\\\\\\n    注意，当查询我的邮箱时，userId需要输入\\'me\\'；\\n    :return：包含第一封邮件的收件时间和邮件内容的对象，该对象由Gmail API创建得到，且保存为JSON格式\\n    \"\"\"\\n    \\n    # 从本地文件中加载凭据\\n    creds = Credentials.from_authorized_user_file(\\'token.json\\')\\n    \\n    # 创建 Gmail API 客户端\\n    service = build(\\'gmail\\', \\'v1\\', credentials=creds)\\n    \\n    # 列出用户的全部邮件\\n    results = service.users().messages().list(userId=userId).execute()\\n    messages = results.get(\\'messages\\', [])\\n    \\n    # 获取第一封邮件的 Id\\n    msg_id = messages[-1][\"id\"]\\n\\n    msg = service.users().messages().get(userId=\\'me\\', id=msg_id).execute()\\n        \\n    # 获取邮件内容\\n    payload = msg[\\'payload\\']\\n    headers = payload[\\'headers\\']\\n    \\n    for header in headers:\\n        name = header[\\'name\\']\\n        if name == \"Date\":\\n            message_date = header[\\'value\\']\\n            # 解析获得的时间字符串\\n            message_timestamp = parsedate(message_date)\\n        if name == \"Subject\":\\n            subject = header[\\'value\\']\\n    \\n    # 将邮件数据以 JSON 格式返回\\n    result = {\\n        \"date\": message_date,\\n        \"content\": subject\\n    }\\n    \\n    return json.dumps(result)'"
      ]
     },
     "execution_count": 9,
     "metadata": {},
     "output_type": "execute_result"
    }
   ],
   "source": [
    "content"
   ]
  },
  {
   "cell_type": "code",
   "execution_count": 22,
   "id": "858c87ea-9797-4848-b996-bf2c91038752",
   "metadata": {
    "tags": []
   },
   "outputs": [],
   "source": [
    "messages = [{\"role\": \"user\",  \"content\": \"现有函数如下：%s，该函数是否有和问题，应该如何修改？\" % content}]"
   ]
  },
  {
   "cell_type": "code",
   "execution_count": 23,
   "id": "5f0d8a5b-3ea4-47cb-af69-8b2fdda5737e",
   "metadata": {
    "tags": []
   },
   "outputs": [],
   "source": [
    "response = openai.ChatCompletion.create(\n",
    "  model=\"gpt-4-0613\",\n",
    "  messages=messages\n",
    ")"
   ]
  },
  {
   "cell_type": "code",
   "execution_count": 24,
   "id": "669d6e15-0382-42a3-9019-eae91015026a",
   "metadata": {
    "tags": []
   },
   "outputs": [
    {
     "data": {
      "text/plain": [
       "'该函数中存在的问题和修改建议如下：\\n\\n1. 函数声明后的一部分，存在多余的转义字符`\\\\`，应当去除。\\n\\n2. 函数参数默认值为 \\'me\\' ，但在函数内部获取邮件的时候直接使用了 \\'me\\' ，没有使用到传入的参数 `userId`。\\n\\n3. `Credentials.from_authorized_user_file()` 的文件路径为 \\'token.json\\' ，如果这个 token 文件不在当前目录或者没有该文件，函数运行会报错。\\n\\n4. 这个函数假设了 `service.users().messages().list(userId=userId).execute()` 返回的结果一定有 \\'messages\\' 这个字段，如果没有，可能会出现异常。\\n\\n5. 虽然在头部有说明返回包含时间和内容的json字符串，但收件时间和邮件内容在同一层循环中获取，如果邮件的 header 中没有 \"Date\"或\"Subject\"会因为没有定义 message_date 或者 subject 而引发错误。\\n\\n所以，该函数可以修改为：\\n```python\\ndef get_first_email(userId=\\'me\\'):\\n    \"\"\"\\n    查询Gmail邮箱中第一封邮件信息\\n    :param userId: 必要参数，字符串类型，用于表示需要查询的邮箱ID，\\n    注意，当查询我的邮箱时，userId需要输入\\'me\\';\\n    :return：包含第一封邮件的收件时间和邮件内容的对象，该对象由Gmail API创建得到，且保存为JSON格式\\n    \"\"\"\\n    \\n    # 从本地文件中加载凭据，这里假设 \"token.json\" 文件存在\\n    creds = Credentials.from_authorized_user_file(\\'token.json\\')\\n\\n    # 创建 Gmail API 客户端\\n    service = build(\\'gmail\\', \\'v1\\', credentials=creds)\\n\\n    # 列出用户的全部邮件\\n    results = service.users().messages().list(userId=userId).execute()\\n    messages = results.get(\\'messages\\', [])\\n\\n    if not messages:\\n        return None\\n\\n    # 获取第一封邮件的 Id\\n    msg_id = messages[-1][\"id\"]\\n\\n    msg = service.users().messages().get(userId=userId, id=msg_id).execute()\\n\\n    # 获取邮件内容\\n    payload = msg[\\'payload\\']\\n    headers = payload[\\'headers\\']\\n\\n    message_date = None\\n    subject = None\\n    \\n    for header in headers:\\n        name = header[\\'name\\']\\n        if name == \"Date\":\\n            message_date = header[\\'value\\']\\n            # 解析获得的时间字符串\\n\\n        if name == \"Subject\":\\n            subject = header[\\'value\\']\\n\\n    # 将邮件数据以 JSON 格式返回\\n    result = {\\n        \"date\": message_date,\\n        \"content\": subject\\n    }\\n\\n    return json.dumps(result)\\n```'"
      ]
     },
     "execution_count": 24,
     "metadata": {},
     "output_type": "execute_result"
    }
   ],
   "source": [
    "response.choices[0].message['content']"
   ]
  },
  {
   "cell_type": "markdown",
   "id": "fac98822-335a-43db-b931-09314d0b6ec0",
   "metadata": {},
   "source": [
    "这里我们手动提取修改之后的代码部分，然后进行运行，测试新函数能否顺利运行："
   ]
  },
  {
   "cell_type": "code",
   "execution_count": 25,
   "id": "ab42c75d-78f5-4a17-a875-fa3e0a41cb6d",
   "metadata": {
    "tags": []
   },
   "outputs": [],
   "source": [
    "s = 'def get_first_email(userId=\\'me\\'):\\n    \"\"\"\\n    查询Gmail邮箱中第一封邮件信息\\n    :param userId: 必要参数，字符串类型，用于表示需要查询的邮箱ID，\\n    注意，当查询我的邮箱时，userId需要输入\\'me\\';\\n    :return：包含第一封邮件的收件时间和邮件内容的对象，该对象由Gmail API创建得到，且保存为JSON格式\\n    \"\"\"\\n    \\n    # 从本地文件中加载凭据，这里假设 \"token.json\" 文件存在\\n    creds = Credentials.from_authorized_user_file(\\'token.json\\')\\n\\n    # 创建 Gmail API 客户端\\n    service = build(\\'gmail\\', \\'v1\\', credentials=creds)\\n\\n    # 列出用户的全部邮件\\n    results = service.users().messages().list(userId=userId).execute()\\n    messages = results.get(\\'messages\\', [])\\n\\n    if not messages:\\n        return None\\n\\n    # 获取第一封邮件的 Id\\n    msg_id = messages[-1][\"id\"]\\n\\n    msg = service.users().messages().get(userId=userId, id=msg_id).execute()\\n\\n    # 获取邮件内容\\n    payload = msg[\\'payload\\']\\n    headers = payload[\\'headers\\']\\n\\n    message_date = None\\n    subject = None\\n    \\n    for header in headers:\\n        name = header[\\'name\\']\\n        if name == \"Date\":\\n            message_date = header[\\'value\\']\\n            # 解析获得的时间字符串\\n\\n        if name == \"Subject\":\\n            subject = header[\\'value\\']\\n\\n    # 将邮件数据以 JSON 格式返回\\n    result = {\\n        \"date\": message_date,\\n        \"content\": subject\\n    }\\n\\n    return json.dumps(result)'"
   ]
  },
  {
   "cell_type": "code",
   "execution_count": 26,
   "id": "2d0be9d6-ddf5-4883-a071-2d362f103462",
   "metadata": {
    "tags": []
   },
   "outputs": [
    {
     "data": {
      "text/plain": [
       "'def get_first_email(userId=\\'me\\'):\\n    \"\"\"\\n    查询Gmail邮箱中第一封邮件信息\\n    :param userId: 必要参数，字符串类型，用于表示需要查询的邮箱ID，\\n    注意，当查询我的邮箱时，userId需要输入\\'me\\';\\n    :return：包含第一封邮件的收件时间和邮件内容的对象，该对象由Gmail API创建得到，且保存为JSON格式\\n    \"\"\"\\n    \\n    # 从本地文件中加载凭据，这里假设 \"token.json\" 文件存在\\n    creds = Credentials.from_authorized_user_file(\\'token.json\\')\\n\\n    # 创建 Gmail API 客户端\\n    service = build(\\'gmail\\', \\'v1\\', credentials=creds)\\n\\n    # 列出用户的全部邮件\\n    results = service.users().messages().list(userId=userId).execute()\\n    messages = results.get(\\'messages\\', [])\\n\\n    if not messages:\\n        return None\\n\\n    # 获取第一封邮件的 Id\\n    msg_id = messages[-1][\"id\"]\\n\\n    msg = service.users().messages().get(userId=userId, id=msg_id).execute()\\n\\n    # 获取邮件内容\\n    payload = msg[\\'payload\\']\\n    headers = payload[\\'headers\\']\\n\\n    message_date = None\\n    subject = None\\n    \\n    for header in headers:\\n        name = header[\\'name\\']\\n        if name == \"Date\":\\n            message_date = header[\\'value\\']\\n            # 解析获得的时间字符串\\n\\n        if name == \"Subject\":\\n            subject = header[\\'value\\']\\n\\n    # 将邮件数据以 JSON 格式返回\\n    result = {\\n        \"date\": message_date,\\n        \"content\": subject\\n    }\\n\\n    return json.dumps(result)'"
      ]
     },
     "execution_count": 26,
     "metadata": {},
     "output_type": "execute_result"
    }
   ],
   "source": [
    "s"
   ]
  },
  {
   "cell_type": "code",
   "execution_count": 27,
   "id": "b125c682-1072-4a76-ab07-51a10ac04350",
   "metadata": {
    "tags": []
   },
   "outputs": [],
   "source": [
    "exec(s)"
   ]
  },
  {
   "cell_type": "code",
   "execution_count": 28,
   "id": "14e8f55c-57e6-44a0-b9e6-c4c1fa75dc90",
   "metadata": {
    "tags": []
   },
   "outputs": [
    {
     "data": {
      "text/plain": [
       "'{\"date\": \"Wed, 19 Jul 2023 02:22:43 -0700\", \"content\": \"Google Payments\\\\uff1aGeorgia Kinghorne\\\\u7684\\\\u7535\\\\u5b50\\\\u90ae\\\\u4ef6\\\\u5730\\\\u5740\\\\u5df2\\\\u66f4\\\\u65b0\"}'"
      ]
     },
     "execution_count": 28,
     "metadata": {},
     "output_type": "execute_result"
    }
   ],
   "source": [
    "get_first_email('me')"
   ]
  },
  {
   "cell_type": "markdown",
   "id": "1c4c8863-2100-427e-a369-b1cfa82ab7b8",
   "metadata": {},
   "source": [
    "能够发现，Chat模型很好的纠正了此前get_first_email函数中存在的错误，并且debug过程分析的非常严谨。而且非常有意思的是，尽管审查加过并没有提及parsedate未被定义之事，但修改之后的代码确实很好的修正了这一点，并且修改之后的代码也可以顺利运行。这也侧面说明对于具备编程能力的大语言模型来说是具备代码纠错能力的。"
   ]
  },
  {
   "cell_type": "markdown",
   "id": "c2a6674c-5f31-4441-a57a-0cf23561f791",
   "metadata": {},
   "source": [
    "> 而这其实也是对话模型和Code模型统一带来的好处，即我们可以通过对话的方式调用Chat模型的编程能力对程序进行审查。"
   ]
  },
  {
   "cell_type": "markdown",
   "id": "f019fd29-6ffe-4546-89b6-5607d6289d34",
   "metadata": {},
   "source": [
    "#### 1.1 审查模型构建思路"
   ]
  },
  {
   "cell_type": "markdown",
   "id": "60dee8cf-ffab-48e6-ad64-6783d07df97d",
   "metadata": {},
   "source": [
    "&emsp;&emsp;尽管上述示例中，我们只提供了函数代码信息，模型即可顺利找出代码问题并进行了有效修改，但实际上，由于此时用于审查的大模型（以下简称审查模型）并不知道该函数创建的前后信息，有时修改之后的模型可能也无法达到要求。例如审查模型并不知道我们是使用Gmail API完成该功能，并且将授权文件本地保存为token.json文件，同时我们需要函数的输入和输出都是字符串格式等信息，因此审查模型在修改时也很有可能修改得到功能正常但不满足这些背景要求的函数。此外由于在进行函数创建时，为了积累成功函数的提示示例，我们不仅需要功能正常的函数代码，同时也需要各阶段的提示内容，因此对于一个报错函数，仅仅修改代码可能并不足够。基于此，我们不仅需要让审查模型审查代码，同时也需要让其审查整个提示流程，并在必要的时候对提示词进行修改。以此才能真正达到审查之目的，最终修改的结果才能直接使用。"
   ]
  },
  {
   "cell_type": "markdown",
   "id": "35aa9824-7246-4c0a-8e9f-7aa75e966898",
   "metadata": {},
   "source": [
    "&emsp;&emsp;尽管我们判断大语言模型应该是具备审查全流程的能力的，但具体要如何操作才能让一个大语言模型审查一整个提示过程和最终输出的代码呢？这里需要注意，如果我们知识简单的将提示流程及代码进行输入然后让审查模型进行修改，往往并不能达到目标，此时审查模型会因为不理解审查的目标而进行错误的修改，并且由于我们没有并且不太可能积累错误提示的修改示例，因此也无法通过Few-shot方式引导模型顺利完成审查。此外，在操作层面也需要注意，这里我们如果采用此前的流程、简单的直接用字符串形式读取包含代码的json对象，则会因为转化规则而不断围绕特殊符号创建多个转义符，而最终导致无法阅读，例如下图就是一个存在过多转义符而无法进一步进行转化和读取的示例<center><img src=\"https://ml2022.oss-cn-hangzhou.aliyuncs.com/img/7e50f00773104d56f66b995a8d99cdb.png\" alt=\"7e50f00773104d56f66b995a8d99cdb\" style=\"zoom:33%;\" />"
   ]
  },
  {
   "cell_type": "markdown",
   "id": "79230ec9-5529-4de1-98d4-883717ff444a",
   "metadata": {},
   "source": [
    "&emsp;&emsp;那么到底应该如何设计这个审查流程，才能让审查模型顺利的完成审查任务呢？"
   ]
  },
  {
   "cell_type": "markdown",
   "id": "c66d394d-ce2c-42e4-b374-f0a07b721638",
   "metadata": {},
   "source": [
    "&emsp;&emsp;首先，由于审查任务本身的特殊性，我们必须要让模型理解什么是多阶段提示、以及为什么要进行类似形式的多阶段提示，及我们需要提前通过system messages为模型输入一些背景信息。此外，由于我们不能直接用大语言模型读取转化为字符串的json对象，因此需要找到一种能够同时表示json、python代码以及字符串类型对象——也就是我们此前曾使用过的markdown类型对象，也就是说，接下来我们将以字符串形式表示markdown类型对象作为审查模型输出和输出的对象类型。"
   ]
  },
  {
   "cell_type": "markdown",
   "id": "6f1de0c1-dbe3-44e1-a178-f6e3a2d75632",
   "metadata": {},
   "source": [
    "- 外部信息和外部挂载文档"
   ]
  },
  {
   "cell_type": "markdown",
   "id": "bf7bdbb9-4191-4194-a05f-949a9ed4153d",
   "metadata": {},
   "source": [
    "&emsp;&emsp;当然，markdown类型对象的创建和使用并不复杂，相关使用方法在Ch.7中曾经介绍过，比较复杂的是要如何设计输入给审查模型“背景信息”，才能更好的让审查模型完成审查任务。需要注意的是，在非常多的大语言模型应用实践场景中，我们都需要为大语言模型输入一些额外的信息才能更好的引导其完成任务，有时我们输入额外信息是为了让大语言模型获取一些非原生知识库的信息（例如围绕本地知识库的问答系统），而另外一些时候则是为了强调当前任务需要用到众多原生知识库中的某些知识。而无论输入的信息是何性质，我们都可以称这些“背景信息”为外部挂载信息，而如果是以文档形式进行输入，这些文档则可称为模型外部挂载文档。很明显，我们现在就需要创建一个审查模型的外部挂载文档，用于为审查模型输入必要的项目信息从而辅助其完成审查。"
   ]
  },
  {
   "cell_type": "markdown",
   "id": "306118b6-f53b-41b5-8e2d-0676a31d83e0",
   "metadata": {},
   "source": [
    "&emsp;&emsp;需要注意的是，在不同的项目中，外部挂载文档的创建和输入形式都各不相同。考虑到每个大语言模型都有最大上下文输入限制，因此当信息过多（超过最大限制）时，如何输入这些信息本身就成了一项具备一定技术难度的事情。关于如何突破最大上下文限制，我们会在后续的课程中进行详细探讨，本节关于审查模型的外部挂载文档，我们尽量将其长度控制在4k内，方便审查模型一次性进行读取。"
   ]
  },
  {
   "cell_type": "markdown",
   "id": "e4694642-65fa-4b0e-857e-3a6d84962c38",
   "metadata": {},
   "source": [
    "&emsp;&emsp;关于如何创建这个审查模型的外部挂载文档，首先我们能想到的最简单的方法就是将此前课程的全部相关内容导出为markdown然后作为外部挂载文档，但如此一来文档本身的长度肯定超过4k（甚至肯定超过16k）。因此我们需要考虑采用一种更加言简意赅的创造这个审查模型的外部挂载文档。"
   ]
  },
  {
   "cell_type": "markdown",
   "id": "f73de625-534b-4dd3-b4e2-a276569a2682",
   "metadata": {},
   "source": [
    "&emsp;&emsp;这里我们就需要介绍下大语言模型外部挂载文档的基本设计思路，考虑到大语言模型本身的海量训练样本，我们这里创建的外部挂载文档无论内容多少，都无法动摇其原始的知识库。因此如果我们是手动创建这个外部文档，那么这个外部文档的核心作用应该是引导模型重视某部分信息、同时补充模型本身不具备的信息。换个更加通俗的话来说，外部文档的创建更像是为了给模型说明规则，同时给与模型一些“启发”，而不是从头开始“教会模型如何做事”。接下来我们就以这样的基本原则来设计一个能够高效引导模型进行审查的外部文档。"
   ]
  },
  {
   "cell_type": "markdown",
   "id": "f7b82910-3ff6-4657-a3c3-445daa9c0bba",
   "metadata": {},
   "source": [
    "- 检测模型本身具备的知识"
   ]
  },
  {
   "cell_type": "markdown",
   "id": "3b480393-77d5-4bb4-902d-4c3c301cf948",
   "metadata": {},
   "source": [
    "&emsp;&emsp;如何引导和启发一个大语言模型去理解一些陌生的事物？就像老师教学一样，有两个简单高效的方法，其一是是用其已知的知识去类比未知的知识，其二则是将陌生事物视为某些一般概念的特例。例如，当前的外部挂载文档非常重要的一个作用就是要让大语言模型理解现在要审查的多段提示，即要引导大语言模型理解什么是多段提示，但如果从头开始进行相关概念介绍（例如从头介绍两个阶段的提示分别是什么、什么是LtM、什么是问题拆解等）会非常的繁琐且效率很低，因此这里我们可以将多段提示比喻成推理链，借助大语言模型本身对推理链的理解来理解什么是多段提示。当然，这里我们需要简单测试下大语言模型本身是否知道什么是推理链："
   ]
  },
  {
   "cell_type": "code",
   "execution_count": 29,
   "id": "3dba3ba3-690b-446e-985b-65c44ab6bae5",
   "metadata": {
    "tags": []
   },
   "outputs": [],
   "source": [
    "response = openai.ChatCompletion.create(\n",
    "  model=\"gpt-4-0613\",\n",
    "  messages=[{\"role\": \"user\",  \"content\": \"请问什么是推理链？\"}]\n",
    ")"
   ]
  },
  {
   "cell_type": "code",
   "execution_count": 30,
   "id": "e0810e9b-3a00-4927-a424-5b452379840e",
   "metadata": {
    "tags": []
   },
   "outputs": [
    {
     "data": {
      "text/plain": [
       "'推理链是一种逻辑思考或证据推理的方式，通过一个个推论步骤，从已知的事实或前提，推导出未知的结论。每一个推论步骤都在上一个推论的基础上进行，形成一个连续的推理过程，如同链条一般，因此被称为推理链。在很多领域，如科学研究、法律审判、人工智能等，都会使用到推理链的方式进行思考和决策。'"
      ]
     },
     "execution_count": 30,
     "metadata": {},
     "output_type": "execute_result"
    }
   ],
   "source": [
    "response.choices[0].message['content']"
   ]
  },
  {
   "cell_type": "markdown",
   "id": "f5fc3949-5de9-4344-9fdb-bc34e17e719d",
   "metadata": {},
   "source": [
    "而在外部挂载文档中，我们就可以简单将多段提示看成是一种推理链，并且是一种非常特殊的推理链，其特殊之处在于这个推理链专门用于创建一系列Gmail API相关函数。这里我们进一步验证如果将多段提示视作推理链的话，大语言模型能否直接理解："
   ]
  },
  {
   "cell_type": "code",
   "execution_count": 84,
   "id": "02cec759-ce99-401a-b15c-b1aa65775682",
   "metadata": {
    "tags": []
   },
   "outputs": [],
   "source": [
    "function_name = 'get_latest_email'"
   ]
  },
  {
   "cell_type": "code",
   "execution_count": 85,
   "id": "d043b2da-9457-4ccd-a1ee-5aef6b9c4a72",
   "metadata": {
    "tags": []
   },
   "outputs": [],
   "source": [
    "with open('./functions/tested functions/%s/%s_prompt.json' % (function_name, function_name), 'r') as f:\n",
    "    msg = json.load(f)"
   ]
  },
  {
   "cell_type": "code",
   "execution_count": 95,
   "id": "f878bdf4-8078-4ee3-b670-11b57cd10253",
   "metadata": {
    "tags": []
   },
   "outputs": [],
   "source": [
    "chain_of_prompt = \"以下是个一个成功运行的推理链条，推理分为三个阶段，各阶段推理内容如下：%s。\" % msg"
   ]
  },
  {
   "cell_type": "code",
   "execution_count": 96,
   "id": "9a45adfa-4dd0-418b-b0c1-ffe05870447f",
   "metadata": {
    "tags": []
   },
   "outputs": [],
   "source": [
    "response = openai.ChatCompletion.create(\n",
    "  model=\"gpt-4-0613\",\n",
    "  messages=[{\"role\": \"user\",  \"content\": \"以下是一个推理链，用于创建一个满足某个功能的函数，推理链如下：%s。请帮我介绍下这个推理链\" % chain_of_prompt}]\n",
    ")"
   ]
  },
  {
   "cell_type": "code",
   "execution_count": 97,
   "id": "c0c89867-82f6-446c-b4ed-949aa8102742",
   "metadata": {
    "tags": []
   },
   "outputs": [
    {
     "data": {
      "text/plain": [
       "'这个推理链是用户要求助手帮助其编写一个Python函数，用于查看其Gmail邮箱中的最后一封邮件信息。\\n\\n推理链分为三个阶段：\\n\\n第一个阶段，是问题定义阶段，用户表达了他的需求，希望能查看其Gmail邮箱里最后一封邮件的内容。助手从这个需求中分析出可以作为函数参数的实体，即需要查看的邮箱所有者。\\n\\n第二个阶段，是问题转化阶段，用户把前一个阶段的需求转化为一个明确的函数的编写需求。需要编写的函数是用来查看一个特定的Gmail邮箱中最后一封邮件的内容，函数的调用参数是用户的邮箱ID，返回结果是一个包含最后一封邮件内容的JSON格式的对象。且要求在函数中添加详细的中文函数说明文档。\\n\\n第三个阶段，助手根据用户给出的具体需求，编写出了一个满足需求的Python函数。函数名为get_latest_email，输入参数为userId，上传一个Gmail邮箱ID，返回的是一个包含最后一封邮件所有信息的JSON格式对象。在函数中，首先从本地文件中加载凭据，然后创建Gmail API客户端，接着列出用户的一封最新邮件，最后返回该邮件的详细信息。'"
      ]
     },
     "execution_count": 97,
     "metadata": {},
     "output_type": "execute_result"
    }
   ],
   "source": [
    "response.choices[0].message['content']"
   ]
  },
  {
   "cell_type": "markdown",
   "id": "8ca3f131-6c55-42c9-9b2d-3768c72485ef",
   "metadata": {},
   "source": [
    "能够发现，模型能够理解以prompt.json类型对象表示的推理链。"
   ]
  },
  {
   "cell_type": "markdown",
   "id": "d6c78a76-d610-4abf-a791-9bde902d2d23",
   "metadata": {},
   "source": [
    "#### 1.2 审查模型外部挂载文档创建过程"
   ]
  },
  {
   "cell_type": "markdown",
   "id": "b8fd2b8d-13ae-4e7e-be9f-d71b7cbf4aa0",
   "metadata": {},
   "source": [
    "&emsp;&emsp;在以类比推理链为基本思路，并且验证了大语言模型本身能够理解推理链及prompt.json之后，接下来我们只需要额外补充一些项目背景信息、一个成功的推理链样式、以及审查模型本身的身份设定并说明审查模型的工作职责，即可构成一个完整审查模型的外部挂载文档。正如此前所说，文档需要以markdown形式进行编写，文档名为《推理链修改》，文档如下："
   ]
  },
  {
   "cell_type": "markdown",
   "id": "a7def12f-6d53-4d15-ba53-3eedec571e4c",
   "metadata": {},
   "source": [
    "<center><img src=\"https://ml2022.oss-cn-hangzhou.aliyuncs.com/img/d130318b6f587922701b73d0d8c816a.png\" alt=\"d130318b6f587922701b73d0d8c816a\" style=\"zoom:33%;\" />"
   ]
  },
  {
   "cell_type": "code",
   "execution_count": 6,
   "id": "b4577731-1bbd-4dbc-b91f-8af9dc10eaec",
   "metadata": {
    "tags": []
   },
   "outputs": [
    {
     "name": "stdout",
     "output_type": "stream",
     "text": [
      "1.什么是智能邮件项目？智能邮件项目本身由一系列的程序组成，核心功能是根据用户自然语言描述进行相应的邮件操作，如查阅邮件、收发邮件等。项目采用的邮箱API是Gmail API，并且已经获得了授权，授权文件为本地的token.json文件。\n",
      "\n",
      "2.什么是推理链？在智能邮件项目中，推理链特指将用户的需求逐步推导为python函数的过程，也就是说，每个推理链的输入都是用户需求，而推理的结果则是一个可以满足用户需求的函数。每个推理链都有三个推理环节，且都以json格式表示，例如，以下是一个正确的推理链A：\n",
      "\n",
      "```json\n",
      "{\"stage1_CD\": [{\"role\": \"user\", \"content\": \"\\u8bf7\\u5e2e\\u6211\\u67e5\\u4e0bGmail\\u90ae\\u7bb1\\u91cc\\u6700\\u540e\\u4e00\\u5c01\\u90ae\\u4ef6\\u5185\\u5bb9\\u3002\"}, {\"role\": \"assistant\", \"content\": \"\\u5f53\\u524d\\u9700\\u6c42\\u4e2d\\u53ef\\u4ee5\\u4f5c\\u4e3a\\u51fd\\u6570\\u53c2\\u6570\\u7684\\u662f\\uff1a1.\\u67e5\\u770b\\u8c01\\u7684\\u90ae\\u7bb1\\u3002\"}], \"stage1_CM\": [{\"role\": \"user\", \"content\": \"\\u8bf7\\u5e2e\\u6211\\u67e5\\u4e0bGmail\\u90ae\\u7bb1\\u91cc\\u6700\\u540e\\u4e00\\u5c01\\u90ae\\u4ef6\\u5185\\u5bb9\\u3002\\u5f53\\u524d\\u9700\\u6c42\\u4e2d\\u53ef\\u4ee5\\u4f5c\\u4e3a\\u51fd\\u6570\\u53c2\\u6570\\u7684\\u662f\\uff1a1.\\u67e5\\u770b\\u8c01\\u7684\\u90ae\\u7bb1\\u3002\"}, {\"role\": \"assistant\", \"content\": \"\\u8bf7\\u5e2e\\u6211\\u7f16\\u5199\\u4e00\\u4e2apython\\u51fd\\u6570\\uff0c\\u7528\\u4e8e\\u67e5\\u770b\\u6211\\u7684Gmail\\u90ae\\u7bb1\\u4e2d\\u6700\\u540e\\u4e00\\u5c01\\u90ae\\u4ef6\\u4fe1\\u606f\\uff0c\\u51fd\\u6570\\u8981\\u6c42\\u5982\\u4e0b\\uff1a                 1.\\u51fd\\u6570\\u53c2\\u6570userId\\uff0cuserId\\u662f\\u5b57\\u7b26\\u4e32\\u53c2\\u6570\\uff0c\\u9ed8\\u8ba4\\u60c5\\u51b5\\u4e0b\\u53d6\\u503c\\u4e3a'me'\\uff0c\\u8868\\u793a\\u67e5\\u770b\\u6211\\u7684\\u90ae\\u4ef6\\uff1b                 2.\\u51fd\\u6570\\u8fd4\\u56de\\u7ed3\\u679c\\u662f\\u4e00\\u4e2a\\u5305\\u542b\\u6700\\u540e\\u4e00\\u5c01\\u90ae\\u4ef6\\u4fe1\\u606f\\u7684\\u5bf9\\u8c61\\uff0c\\u8fd4\\u56de\\u7ed3\\u679c\\u672c\\u8eab\\u5fc5\\u987b\\u662f\\u4e00\\u4e2ajson\\u683c\\u5f0f\\u5bf9\\u8c61\\uff1b                 3.\\u8bf7\\u5c06\\u5168\\u90e8\\u529f\\u80fd\\u5c01\\u88c5\\u5728\\u4e00\\u4e2a\\u51fd\\u6570\\u5185\\uff1b                 4.\\u8bf7\\u5728\\u51fd\\u6570\\u7f16\\u5199\\u8fc7\\u7a0b\\u4e2d\\uff0c\\u5728\\u51fd\\u6570\\u5185\\u90e8\\u52a0\\u5165\\u4e2d\\u6587\\u7f16\\u5199\\u7684\\u8be6\\u7ec6\\u7684\\u51fd\\u6570\\u8bf4\\u660e\\u6587\\u6863\\uff0c\\u7528\\u4e8e\\u8bf4\\u660e\\u51fd\\u6570\\u529f\\u80fd\\u3001\\u51fd\\u6570\\u53c2\\u6570\\u60c5\\u51b5\\u4ee5\\u53ca\\u51fd\\u6570\\u8fd4\\u56de\\u7ed3\\u679c\\u7b49\\u4fe1\\u606f\\uff1b\"}], \"stage2\": [{\"role\": \"user\", \"content\": \"\\u8bf7\\u5e2e\\u6211\\u7f16\\u5199\\u4e00\\u4e2apython\\u51fd\\u6570\\uff0c\\u7528\\u4e8e\\u67e5\\u770b\\u6211\\u7684Gmail\\u90ae\\u7bb1\\u4e2d\\u6700\\u540e\\u4e00\\u5c01\\u90ae\\u4ef6\\u4fe1\\u606f\\uff0c\\u51fd\\u6570\\u8981\\u6c42\\u5982\\u4e0b\\uff1a                 1.\\u51fd\\u6570\\u53c2\\u6570userId\\uff0cuserId\\u662f\\u5b57\\u7b26\\u4e32\\u53c2\\u6570\\uff0c\\u9ed8\\u8ba4\\u60c5\\u51b5\\u4e0b\\u53d6\\u503c\\u4e3a'me'\\uff0c\\u8868\\u793a\\u67e5\\u770b\\u6211\\u7684\\u90ae\\u4ef6\\uff1b                 2.\\u51fd\\u6570\\u8fd4\\u56de\\u7ed3\\u679c\\u662f\\u4e00\\u4e2a\\u5305\\u542b\\u6700\\u540e\\u4e00\\u5c01\\u90ae\\u4ef6\\u4fe1\\u606f\\u7684\\u5bf9\\u8c61\\uff0c\\u8fd4\\u56de\\u7ed3\\u679c\\u672c\\u8eab\\u5fc5\\u987b\\u662f\\u4e00\\u4e2ajson\\u683c\\u5f0f\\u5bf9\\u8c61\\uff1b                 3.\\u8bf7\\u5c06\\u5168\\u90e8\\u529f\\u80fd\\u5c01\\u88c5\\u5728\\u4e00\\u4e2a\\u51fd\\u6570\\u5185\\uff1b                 4.\\u8bf7\\u5728\\u51fd\\u6570\\u7f16\\u5199\\u8fc7\\u7a0b\\u4e2d\\uff0c\\u5728\\u51fd\\u6570\\u5185\\u90e8\\u52a0\\u5165\\u4e2d\\u6587\\u7f16\\u5199\\u7684\\u8be6\\u7ec6\\u7684\\u51fd\\u6570\\u8bf4\\u660e\\u6587\\u6863\\uff0c\\u7528\\u4e8e\\u8bf4\\u660e\\u51fd\\u6570\\u529f\\u80fd\\u3001\\u51fd\\u6570\\u53c2\\u6570\\u60c5\\u51b5\\u4ee5\\u53ca\\u51fd\\u6570\\u8fd4\\u56de\\u7ed3\\u679c\\u7b49\\u4fe1\\u606f\\uff1b\"}, {\"role\": \"assistant\", \"content\": \"def get_latest_email(userId):\\n    \\\"\\\"\\\"\\n    \\u67e5\\u8be2Gmail\\u90ae\\u7bb1\\u4e2d\\u6700\\u540e\\u4e00\\u5c01\\u90ae\\u4ef6\\u4fe1\\u606f\\n    :param userId: \\u5fc5\\u8981\\u53c2\\u6570\\uff0c\\u5b57\\u7b26\\u4e32\\u7c7b\\u578b\\uff0c\\u7528\\u4e8e\\u8868\\u793a\\u9700\\u8981\\u67e5\\u8be2\\u7684\\u90ae\\u7bb1ID\\uff0c\\\\\\n    \\u6ce8\\u610f\\uff0c\\u5f53\\u67e5\\u8be2\\u6211\\u7684\\u90ae\\u7bb1\\u65f6\\uff0cuserId\\u9700\\u8981\\u8f93\\u5165'me'\\uff1b\\n    :return\\uff1a\\u5305\\u542b\\u6700\\u540e\\u4e00\\u5c01\\u90ae\\u4ef6\\u5168\\u90e8\\u4fe1\\u606f\\u7684\\u5bf9\\u8c61\\uff0c\\u8be5\\u5bf9\\u8c61\\u7531Gmail API\\u521b\\u5efa\\u5f97\\u5230\\uff0c\\u4e14\\u4fdd\\u5b58\\u4e3aJSON\\u683c\\u5f0f\\n    \\\"\\\"\\\"\\n    # \\u4ece\\u672c\\u5730\\u6587\\u4ef6\\u4e2d\\u52a0\\u8f7d\\u51ed\\u636e\\n    creds = Credentials.from_authorized_user_file('token.json')\\n    \\n    # \\u521b\\u5efa Gmail API \\u5ba2\\u6237\\u7aef\\n    service = build('gmail', 'v1', credentials=creds)\\n    \\n    # \\u5217\\u51fa\\u7528\\u6237\\u7684\\u4e00\\u5c01\\u6700\\u65b0\\u90ae\\u4ef6\\n    results = service.users().messages().list(userId=userId, maxResults=1).execute()\\n    messages = results.get('messages', [])\\n\\n    # \\u904d\\u5386\\u90ae\\u4ef6\\n    for message in messages:\\n        # \\u83b7\\u53d6\\u90ae\\u4ef6\\u7684\\u8be6\\u7ec6\\u4fe1\\u606f\\n        msg = service.users().messages().get(userId='me', id=message['id']).execute()\\n        \\n    return json.dumps(msg)\\n\"}]}\n",
      "```\n",
      "\n",
      "3.对于推理链最后生成的函数，一定要是可以运行的、能够满足用户需求的python函数，且需要有详细的说明文档，说明文档内容包括函数功能、函数参数情况以及函数返回结果等信息；\n",
      "\n",
      "4.你是一个推理链审查助手，善于检测推理链中是否存在错误。接下来我会给你一个错误的推理链，请你对其进行修改；\n",
      "\n",
      "5.当你对推理链进行修改之后，请仿造推理链A的格式，以json格式输出修改之后的推理链。\n"
     ]
    }
   ],
   "source": [
    "with open('推理链修改.md', 'r', encoding='utf-8') as f:\n",
    "    md_content = f.read()\n",
    "    \n",
    "print(md_content)"
   ]
  },
  {
   "cell_type": "markdown",
   "id": "aa820730-abf2-47fc-8c14-7d7c02f0867f",
   "metadata": {},
   "source": [
    "&emsp;&emsp;这里我们可以简单总结外部挂载文档的5方面信息：1.说明当前项目背景（包括编程要求等）；2.说明审查对象，包括审查对象的性质和形式等；3.说明审查的目标；4.进行身份设置；5.说明审查之后的输出结果。当然从我能当长度来看，很明显，这个外部挂载文档的长度肯定不到4k，是可以一次性以system messages输入到Chat模型中的："
   ]
  },
  {
   "cell_type": "code",
   "execution_count": 3,
   "id": "662ec9de-8787-46a8-9aa3-15b25d054ed0",
   "metadata": {
    "tags": []
   },
   "outputs": [],
   "source": [
    "import tiktoken"
   ]
  },
  {
   "cell_type": "code",
   "execution_count": 4,
   "id": "658f377f-c507-453f-9a01-4f1dfce8b076",
   "metadata": {
    "tags": []
   },
   "outputs": [],
   "source": [
    "encoding = tiktoken.encoding_for_model(\"gpt-4-0613\")"
   ]
  },
  {
   "cell_type": "code",
   "execution_count": 5,
   "id": "5e1160ec-f311-42fb-9ef9-385dff51afd2",
   "metadata": {
    "tags": []
   },
   "outputs": [
    {
     "data": {
      "text/plain": [
       "2670"
      ]
     },
     "execution_count": 5,
     "metadata": {},
     "output_type": "execute_result"
    }
   ],
   "source": [
    "len(encoding.encode(md_content))"
   ]
  },
  {
   "cell_type": "markdown",
   "id": "f10b998b-b5ec-41b8-92cc-a4e306c04e6b",
   "metadata": {},
   "source": [
    "而接下来，我们即可借助该外部挂载文档来引导审查模型对完整的提示流程进行审查了。"
   ]
  },
  {
   "cell_type": "markdown",
   "id": "cbcbdf23-1abc-4524-a2ae-fe117ebfc522",
   "metadata": {},
   "source": [
    "> 不难发现，当前审查模型的外部挂载文档，更像是交给审查模型的“岗位职责手册”，每次开展工作前都需要查阅一遍。"
   ]
  },
  {
   "cell_type": "markdown",
   "id": "032dab52-911f-4d7b-8dc8-a9dcd3272156",
   "metadata": {},
   "source": [
    "#### 1.3 审查模型效果验证"
   ]
  },
  {
   "cell_type": "markdown",
   "id": "3c8367ed-f9e6-45aa-8097-6f4729f3032b",
   "metadata": {},
   "source": [
    "&emsp;&emsp;接下来，我们就尝试借助推理链修改.md文件作为审查模型的外部挂在文件，并通过system messages读取该信息，测试此时审查模型能否成功完成get_first_email函数的审查工作。这里仍然从wrong code文件内读取错误的get_first_email函数："
   ]
  },
  {
   "cell_type": "code",
   "execution_count": 7,
   "id": "cf2485f6-2dfc-4725-b423-9955ac3cc4b0",
   "metadata": {
    "tags": []
   },
   "outputs": [],
   "source": [
    "function_name = 'get_first_email'"
   ]
  },
  {
   "cell_type": "code",
   "execution_count": 12,
   "id": "39ef7911-dcdc-437c-b846-c801ce3e5e2f",
   "metadata": {
    "tags": []
   },
   "outputs": [],
   "source": [
    "with open('./functions/wrong code/%s/%s_prompt.json' % (function_name, function_name), 'r') as f:\n",
    "    msg = json.load(f)"
   ]
  },
  {
   "cell_type": "markdown",
   "id": "6d193ed0-e9ec-40f1-bc8e-1e59cf59c107",
   "metadata": {},
   "source": [
    "需要注意，此时get_first_email代码是无法运行的："
   ]
  },
  {
   "cell_type": "code",
   "execution_count": 29,
   "id": "98c1e1e5-c299-456f-a2b4-244b78f478a4",
   "metadata": {
    "tags": []
   },
   "outputs": [
    {
     "data": {
      "text/plain": [
       "'def get_first_email(userId=\\'me\\'):\\n    \"\"\"\\n    查询Gmail邮箱中第一封邮件信息\\n    :param userId: 必要参数，字符串类型，用于表示需要查询的邮箱ID，\\\\\\n    注意，当查询我的邮箱时，userId需要输入\\'me\\'；\\n    :return：包含第一封邮件的收件时间和邮件内容的对象，该对象由Gmail API创建得到，且保存为JSON格式\\n    \"\"\"\\n    \\n    # 从本地文件中加载凭据\\n    creds = Credentials.from_authorized_user_file(\\'token.json\\')\\n    \\n    # 创建 Gmail API 客户端\\n    service = build(\\'gmail\\', \\'v1\\', credentials=creds)\\n    \\n    # 列出用户的全部邮件\\n    results = service.users().messages().list(userId=userId).execute()\\n    messages = results.get(\\'messages\\', [])\\n    \\n    # 获取第一封邮件的 Id\\n    msg_id = messages[-1][\"id\"]\\n\\n    msg = service.users().messages().get(userId=\\'me\\', id=msg_id).execute()\\n        \\n    # 获取邮件内容\\n    payload = msg[\\'payload\\']\\n    headers = payload[\\'headers\\']\\n    \\n    for header in headers:\\n        name = header[\\'name\\']\\n        if name == \"Date\":\\n            message_date = header[\\'value\\']\\n            # 解析获得的时间字符串\\n            message_timestamp = parsedate(message_date)\\n        if name == \"Subject\":\\n            subject = header[\\'value\\']\\n    \\n    # 将邮件数据以 JSON 格式返回\\n    result = {\\n        \"date\": message_date,\\n        \"content\": subject\\n    }\\n    \\n    return json.dumps(result)'"
      ]
     },
     "execution_count": 29,
     "metadata": {},
     "output_type": "execute_result"
    }
   ],
   "source": [
    "wrong_code = msg['stage2'][1]['content']\n",
    "wrong_code"
   ]
  },
  {
   "cell_type": "code",
   "execution_count": 30,
   "id": "991c672e-6266-4661-87e3-cb757a5a1d7d",
   "metadata": {
    "tags": []
   },
   "outputs": [],
   "source": [
    "exec(wrong_code)"
   ]
  },
  {
   "cell_type": "code",
   "execution_count": 31,
   "id": "e26e1cf0-c089-48fe-83f6-6f54bd787882",
   "metadata": {
    "tags": []
   },
   "outputs": [
    {
     "ename": "NameError",
     "evalue": "name 'parsedate' is not defined",
     "output_type": "error",
     "traceback": [
      "\u001b[1;31m---------------------------------------------------------------------------\u001b[0m",
      "\u001b[1;31mNameError\u001b[0m                                 Traceback (most recent call last)",
      "Cell \u001b[1;32mIn[31], line 1\u001b[0m\n\u001b[1;32m----> 1\u001b[0m \u001b[43mget_first_email\u001b[49m\u001b[43m(\u001b[49m\u001b[43m)\u001b[49m\n",
      "File \u001b[1;32m<string>:33\u001b[0m, in \u001b[0;36mget_first_email\u001b[1;34m(userId)\u001b[0m\n",
      "\u001b[1;31mNameError\u001b[0m: name 'parsedate' is not defined"
     ]
    }
   ],
   "source": [
    "get_first_email()"
   ]
  },
  {
   "cell_type": "markdown",
   "id": "22f2eea7-68c9-4e77-b172-97e062b0b49d",
   "metadata": {},
   "source": [
    "然后我们尝试使用审查模型对其进行修正。这里我们先简单测试模型能否理解外部挂载文档中相关信息："
   ]
  },
  {
   "cell_type": "code",
   "execution_count": 119,
   "id": "8d15e667-a780-450f-8c06-c97bcdc6e767",
   "metadata": {
    "tags": []
   },
   "outputs": [],
   "source": [
    "response = openai.ChatCompletion.create(\n",
    "  model=\"gpt-4-0613\",\n",
    "  messages=[\n",
    "    {\"role\": \"system\", \"content\": md_content},\n",
    "    {\"role\": \"user\", \"content\": '请问什么是推理链？'}\n",
    "  ]\n",
    ")"
   ]
  },
  {
   "cell_type": "code",
   "execution_count": 120,
   "id": "98ab727d-9d11-4ff6-a35f-f4ec10b840b7",
   "metadata": {
    "tags": []
   },
   "outputs": [
    {
     "data": {
      "text/plain": [
       "'在智能邮件项目中，推理链特指将用户的需求逐步推导为python函数的过程，也就是说，每个推理链的输入都是用户需求，而推理的结果则是一个可以满足用户需求的函数。每个推理链都有三个推理环节，且都以json格式表示。'"
      ]
     },
     "execution_count": 120,
     "metadata": {},
     "output_type": "execute_result"
    }
   ],
   "source": [
    "response.choices[0].message['content']"
   ]
  },
  {
   "cell_type": "markdown",
   "id": "6c5436b7-2bbb-476d-afa8-96f513e3d4ba",
   "metadata": {},
   "source": [
    "然后我们引导该模型对此前错误的提示流程进行审查和修改："
   ]
  },
  {
   "cell_type": "code",
   "execution_count": 122,
   "id": "75125892-5727-4a92-b975-c3002a91290c",
   "metadata": {
    "tags": []
   },
   "outputs": [],
   "source": [
    "msg_str = json.dumps(msg)"
   ]
  },
  {
   "cell_type": "code",
   "execution_count": 123,
   "id": "2eafdcaa-8e88-4f21-a3be-3b4d824aef86",
   "metadata": {
    "collapsed": true,
    "jupyter": {
     "outputs_hidden": true
    },
    "tags": []
   },
   "outputs": [
    {
     "data": {
      "text/plain": [
       "'以下是一个错误的智能邮件项目的推理链，请你按照要求对其进行修改：{\"stage1_CD\": [{\"role\": \"user\", \"content\": \"\\\\u8bf7\\\\u67e5\\\\u4e0b\\\\u6211\\\\u7684\\\\u90ae\\\\u7bb1\\\\u91cc\\\\u7b2c\\\\u4e00\\\\u5c01\\\\u90ae\\\\u4ef6\\\\u7684\\\\u6536\\\\u4ef6\\\\u65f6\\\\u95f4\\\\u548c\\\\u90ae\\\\u4ef6\\\\u5185\\\\u5bb9\"}, {\"role\": \"assistant\", \"content\": \"\\\\u5f53\\\\u524d\\\\u9700\\\\u6c42\\\\u4e2d\\\\u53ef\\\\u4ee5\\\\u4f5c\\\\u4e3a\\\\u51fd\\\\u6570\\\\u53c2\\\\u6570\\\\u7684\\\\u662f\\\\uff1a1.\\\\u67e5\\\\u770b\\\\u8c01\\\\u7684\\\\u90ae\\\\u7bb1\\\\u3002\"}], \"stage1_CM\": [{\"role\": \"user\", \"content\": \"\\\\u8bf7\\\\u67e5\\\\u4e0b\\\\u6211\\\\u7684\\\\u90ae\\\\u7bb1\\\\u91cc\\\\u7b2c\\\\u4e00\\\\u5c01\\\\u90ae\\\\u4ef6\\\\u7684\\\\u6536\\\\u4ef6\\\\u65f6\\\\u95f4\\\\u548c\\\\u90ae\\\\u4ef6\\\\u5185\\\\u5bb9\\\\u5f53\\\\u524d\\\\u9700\\\\u6c42\\\\u4e2d\\\\u53ef\\\\u4ee5\\\\u4f5c\\\\u4e3a\\\\u51fd\\\\u6570\\\\u53c2\\\\u6570\\\\u7684\\\\u662f\\\\uff1a1.\\\\u67e5\\\\u770b\\\\u8c01\\\\u7684\\\\u90ae\\\\u7bb1\\\\u3002\"}, {\"role\": \"assistant\", \"content\": \"\\\\u8bf7\\\\u5e2e\\\\u6211\\\\u7f16\\\\u5199\\\\u4e00\\\\u4e2apython\\\\u51fd\\\\u6570\\\\uff0c\\\\u7528\\\\u4e8e\\\\u67e5\\\\u770b\\\\u6211\\\\u7684Gmail\\\\u90ae\\\\u7bb1\\\\u4e2d\\\\u7b2c\\\\u4e00\\\\u5c01\\\\u90ae\\\\u4ef6\\\\u4fe1\\\\u606f\\\\uff0c\\\\u51fd\\\\u6570\\\\u8981\\\\u6c42\\\\u5982\\\\u4e0b\\\\uff1a                 1.\\\\u51fd\\\\u6570\\\\u53c2\\\\u6570userId\\\\uff0cuserId\\\\u662f\\\\u5b57\\\\u7b26\\\\u4e32\\\\u53c2\\\\u6570\\\\uff0c\\\\u9ed8\\\\u8ba4\\\\u60c5\\\\u51b5\\\\u4e0b\\\\u53d6\\\\u503c\\\\u4e3a\\'me\\'\\\\uff0c\\\\u8868\\\\u793a\\\\u67e5\\\\u770b\\\\u6211\\\\u7684\\\\u90ae\\\\u4ef6\\\\uff1b                 2.\\\\u51fd\\\\u6570\\\\u8fd4\\\\u56de\\\\u7ed3\\\\u679c\\\\u662f\\\\u4e00\\\\u4e2a\\\\u5305\\\\u542b\\\\u7b2c\\\\u4e00\\\\u5c01\\\\u90ae\\\\u4ef6\\\\u6536\\\\u4ef6\\\\u65f6\\\\u95f4\\\\u548c\\\\u90ae\\\\u4ef6\\\\u5185\\\\u5bb9\\\\u7684\\\\u5bf9\\\\u8c61\\\\uff0c\\\\u8fd4\\\\u56de\\\\u7ed3\\\\u679c\\\\u672c\\\\u8eab\\\\u5fc5\\\\u987b\\\\u662f\\\\u4e00\\\\u4e2ajson\\\\u683c\\\\u5f0f\\\\u5bf9\\\\u8c61\\\\uff1b                 3.\\\\u8bf7\\\\u5c06\\\\u5168\\\\u90e8\\\\u529f\\\\u80fd\\\\u5c01\\\\u88c5\\\\u5728\\\\u4e00\\\\u4e2a\\\\u51fd\\\\u6570\\\\u5185\\\\uff1b                 4.\\\\u8bf7\\\\u5728\\\\u51fd\\\\u6570\\\\u7f16\\\\u5199\\\\u8fc7\\\\u7a0b\\\\u4e2d\\\\uff0c\\\\u5728\\\\u51fd\\\\u6570\\\\u5185\\\\u90e8\\\\u52a0\\\\u5165\\\\u4e2d\\\\u6587\\\\u7f16\\\\u5199\\\\u7684\\\\u8be6\\\\u7ec6\\\\u7684\\\\u51fd\\\\u6570\\\\u8bf4\\\\u660e\\\\u6587\\\\u6863\\\\uff0c\\\\u7528\\\\u4e8e\\\\u8bf4\\\\u660e\\\\u51fd\\\\u6570\\\\u529f\\\\u80fd\\\\u3001\\\\u51fd\\\\u6570\\\\u53c2\\\\u6570\\\\u60c5\\\\u51b5\\\\u4ee5\\\\u53ca\\\\u51fd\\\\u6570\\\\u8fd4\\\\u56de\\\\u7ed3\\\\u679c\\\\u7b49\\\\u4fe1\\\\u606f\\\\uff1b\"}], \"stage2\": [{\"role\": \"user\", \"content\": \"\\\\u8bf7\\\\u5e2e\\\\u6211\\\\u7f16\\\\u5199\\\\u4e00\\\\u4e2apython\\\\u51fd\\\\u6570\\\\uff0c\\\\u7528\\\\u4e8e\\\\u67e5\\\\u770b\\\\u6211\\\\u7684Gmail\\\\u90ae\\\\u7bb1\\\\u4e2d\\\\u7b2c\\\\u4e00\\\\u5c01\\\\u90ae\\\\u4ef6\\\\u4fe1\\\\u606f\\\\uff0c\\\\u51fd\\\\u6570\\\\u8981\\\\u6c42\\\\u5982\\\\u4e0b\\\\uff1a                 1.\\\\u51fd\\\\u6570\\\\u53c2\\\\u6570userId\\\\uff0cuserId\\\\u662f\\\\u5b57\\\\u7b26\\\\u4e32\\\\u53c2\\\\u6570\\\\uff0c\\\\u9ed8\\\\u8ba4\\\\u60c5\\\\u51b5\\\\u4e0b\\\\u53d6\\\\u503c\\\\u4e3a\\'me\\'\\\\uff0c\\\\u8868\\\\u793a\\\\u67e5\\\\u770b\\\\u6211\\\\u7684\\\\u90ae\\\\u4ef6\\\\uff1b                 2.\\\\u51fd\\\\u6570\\\\u8fd4\\\\u56de\\\\u7ed3\\\\u679c\\\\u662f\\\\u4e00\\\\u4e2a\\\\u5305\\\\u542b\\\\u7b2c\\\\u4e00\\\\u5c01\\\\u90ae\\\\u4ef6\\\\u6536\\\\u4ef6\\\\u65f6\\\\u95f4\\\\u548c\\\\u90ae\\\\u4ef6\\\\u5185\\\\u5bb9\\\\u7684\\\\u5bf9\\\\u8c61\\\\uff0c\\\\u8fd4\\\\u56de\\\\u7ed3\\\\u679c\\\\u672c\\\\u8eab\\\\u5fc5\\\\u987b\\\\u662f\\\\u4e00\\\\u4e2ajson\\\\u683c\\\\u5f0f\\\\u5bf9\\\\u8c61\\\\uff1b                 3.\\\\u8bf7\\\\u5c06\\\\u5168\\\\u90e8\\\\u529f\\\\u80fd\\\\u5c01\\\\u88c5\\\\u5728\\\\u4e00\\\\u4e2a\\\\u51fd\\\\u6570\\\\u5185\\\\uff1b                 4.\\\\u8bf7\\\\u5728\\\\u51fd\\\\u6570\\\\u7f16\\\\u5199\\\\u8fc7\\\\u7a0b\\\\u4e2d\\\\uff0c\\\\u5728\\\\u51fd\\\\u6570\\\\u5185\\\\u90e8\\\\u52a0\\\\u5165\\\\u4e2d\\\\u6587\\\\u7f16\\\\u5199\\\\u7684\\\\u8be6\\\\u7ec6\\\\u7684\\\\u51fd\\\\u6570\\\\u8bf4\\\\u660e\\\\u6587\\\\u6863\\\\uff0c\\\\u7528\\\\u4e8e\\\\u8bf4\\\\u660e\\\\u51fd\\\\u6570\\\\u529f\\\\u80fd\\\\u3001\\\\u51fd\\\\u6570\\\\u53c2\\\\u6570\\\\u60c5\\\\u51b5\\\\u4ee5\\\\u53ca\\\\u51fd\\\\u6570\\\\u8fd4\\\\u56de\\\\u7ed3\\\\u679c\\\\u7b49\\\\u4fe1\\\\u606f\\\\uff1b\"}, {\"role\": \"assistant\", \"content\": \"def get_first_email(userId=\\'me\\'):\\\\n    \\\\\"\\\\\"\\\\\"\\\\n    \\\\u67e5\\\\u8be2Gmail\\\\u90ae\\\\u7bb1\\\\u4e2d\\\\u7b2c\\\\u4e00\\\\u5c01\\\\u90ae\\\\u4ef6\\\\u4fe1\\\\u606f\\\\n    :param userId: \\\\u5fc5\\\\u8981\\\\u53c2\\\\u6570\\\\uff0c\\\\u5b57\\\\u7b26\\\\u4e32\\\\u7c7b\\\\u578b\\\\uff0c\\\\u7528\\\\u4e8e\\\\u8868\\\\u793a\\\\u9700\\\\u8981\\\\u67e5\\\\u8be2\\\\u7684\\\\u90ae\\\\u7bb1ID\\\\uff0c\\\\\\\\\\\\n    \\\\u6ce8\\\\u610f\\\\uff0c\\\\u5f53\\\\u67e5\\\\u8be2\\\\u6211\\\\u7684\\\\u90ae\\\\u7bb1\\\\u65f6\\\\uff0cuserId\\\\u9700\\\\u8981\\\\u8f93\\\\u5165\\'me\\'\\\\uff1b\\\\n    :return\\\\uff1a\\\\u5305\\\\u542b\\\\u7b2c\\\\u4e00\\\\u5c01\\\\u90ae\\\\u4ef6\\\\u7684\\\\u6536\\\\u4ef6\\\\u65f6\\\\u95f4\\\\u548c\\\\u90ae\\\\u4ef6\\\\u5185\\\\u5bb9\\\\u7684\\\\u5bf9\\\\u8c61\\\\uff0c\\\\u8be5\\\\u5bf9\\\\u8c61\\\\u7531Gmail API\\\\u521b\\\\u5efa\\\\u5f97\\\\u5230\\\\uff0c\\\\u4e14\\\\u4fdd\\\\u5b58\\\\u4e3aJSON\\\\u683c\\\\u5f0f\\\\n    \\\\\"\\\\\"\\\\\"\\\\n    \\\\n    # \\\\u4ece\\\\u672c\\\\u5730\\\\u6587\\\\u4ef6\\\\u4e2d\\\\u52a0\\\\u8f7d\\\\u51ed\\\\u636e\\\\n    creds = Credentials.from_authorized_user_file(\\'token.json\\')\\\\n    \\\\n    # \\\\u521b\\\\u5efa Gmail API \\\\u5ba2\\\\u6237\\\\u7aef\\\\n    service = build(\\'gmail\\', \\'v1\\', credentials=creds)\\\\n    \\\\n    # \\\\u5217\\\\u51fa\\\\u7528\\\\u6237\\\\u7684\\\\u5168\\\\u90e8\\\\u90ae\\\\u4ef6\\\\n    results = service.users().messages().list(userId=userId).execute()\\\\n    messages = results.get(\\'messages\\', [])\\\\n    \\\\n    # \\\\u83b7\\\\u53d6\\\\u7b2c\\\\u4e00\\\\u5c01\\\\u90ae\\\\u4ef6\\\\u7684 Id\\\\n    msg_id = messages[-1][\\\\\"id\\\\\"]\\\\n\\\\n    msg = service.users().messages().get(userId=\\'me\\', id=msg_id).execute()\\\\n        \\\\n    # \\\\u83b7\\\\u53d6\\\\u90ae\\\\u4ef6\\\\u5185\\\\u5bb9\\\\n    payload = msg[\\'payload\\']\\\\n    headers = payload[\\'headers\\']\\\\n    \\\\n    for header in headers:\\\\n        name = header[\\'name\\']\\\\n        if name == \\\\\"Date\\\\\":\\\\n            message_date = header[\\'value\\']\\\\n            # \\\\u89e3\\\\u6790\\\\u83b7\\\\u5f97\\\\u7684\\\\u65f6\\\\u95f4\\\\u5b57\\\\u7b26\\\\u4e32\\\\n            message_timestamp = parsedate(message_date)\\\\n        if name == \\\\\"Subject\\\\\":\\\\n            subject = header[\\'value\\']\\\\n    \\\\n    # \\\\u5c06\\\\u90ae\\\\u4ef6\\\\u6570\\\\u636e\\\\u4ee5 JSON \\\\u683c\\\\u5f0f\\\\u8fd4\\\\u56de\\\\n    result = {\\\\n        \\\\\"date\\\\\": message_date,\\\\n        \\\\\"content\\\\\": subject\\\\n    }\\\\n    \\\\n    return json.dumps(result)\"}]}'"
      ]
     },
     "execution_count": 123,
     "metadata": {},
     "output_type": "execute_result"
    }
   ],
   "source": [
    "'以下是一个错误的智能邮件项目的推理链，请你按照要求对其进行修改：%s' % msg_str"
   ]
  },
  {
   "cell_type": "code",
   "execution_count": 125,
   "id": "14aeddd3-5da0-434c-ad7d-44f444b0244c",
   "metadata": {
    "tags": []
   },
   "outputs": [],
   "source": [
    "response = openai.ChatCompletion.create(\n",
    "  model=\"gpt-4-0613\",\n",
    "  messages=[\n",
    "    {\"role\": \"system\", \"content\": md_content},\n",
    "    {\"role\": \"user\", \"content\": '以下是一个错误的智能邮件项目的推理链，请你按照要求对其进行修改：%s' % msg_str}\n",
    "  ]\n",
    ")"
   ]
  },
  {
   "cell_type": "code",
   "execution_count": 126,
   "id": "05bfbfa8-74a4-41f7-8a7d-61af2e62b1d6",
   "metadata": {
    "tags": []
   },
   "outputs": [
    {
     "data": {
      "text/plain": [
       "'{\"stage1_CD\": [{\"role\": \"user\", \"content\": \"\\\\u8bf7\\\\u67e5\\\\u4e0b\\\\u6211\\\\u7684\\\\u90ae\\\\u7bb1\\\\u91cc\\\\u7b2c\\\\u4e00\\\\u5c01\\\\u90ae\\\\u4ef6\\\\u7684\\\\u6536\\\\u4ef6\\\\u65f6\\\\u95f4\\\\u548c\\\\u90ae\\\\u4ef6\\\\u5185\\\\u5bb9\"}, {\"role\": \"assistant\", \"content\": \"\\\\u5f53\\\\u524d\\\\u9700\\\\u6c42\\\\u4e2d\\\\u53ef\\\\u4ee5\\\\u4f5c\\\\u4e3a\\\\u51fd\\\\u6570\\\\u53c2\\\\u6570\\\\u7684\\\\u662f\\\\uff1a1.\\\\u67e5\\\\u770b\\\\u8c01\\\\u7684\\\\u90ae\\\\u7bb1\\\\u3002\"}], \"stage1_CM\": [{\"role\": \"user\", \"content\": \"\\\\u8bf7\\\\u67e5\\\\u4e0b\\\\u6211\\\\u7684\\\\u90ae\\\\u7bb1\\\\u91cc\\\\u7b2c\\\\u4e00\\\\u5c01\\\\u90ae\\\\u4ef6\\\\u7684\\\\u6536\\\\u4ef6\\\\u65f6\\\\u95f4\\\\u548c\\\\u90ae\\\\u4ef6\\\\u5185\\\\u5bb9\\\\u5f53\\\\u524d\\\\u9700\\\\u6c42\\\\u4e2d\\\\u53ef\\\\u4ee5\\\\u4f5c\\\\u4e3a\\\\u51fd\\\\u6570\\\\u53c2\\\\u6570\\\\u7684\\\\u662f\\\\uff1a1.\\\\u67e5\\\\u770b\\\\u8c01\\\\u7684\\\\u90ae\\\\u7bb1\\\\u3002\"}, {\"role\": \"assistant\", \"content\": \"\\\\u8bf7\\\\u5e2e\\\\u6211\\\\u7f16\\\\u5199\\\\u4e00\\\\u4e2apython\\\\u51fd\\\\u6570\\\\uff0c\\\\u7528\\\\u4e8e\\\\u67e5\\\\u770b\\\\u6211\\\\u7684Gmail\\\\u90ae\\\\u7bb1\\\\u4e2d\\\\u7b2c\\\\u4e00\\\\u5c01\\\\u90ae\\\\u4ef6\\\\u4fe1\\\\u606f\\\\uff0c\\\\u51fd\\\\u6570\\\\u8981\\\\u6c42\\\\u5982\\\\u4e0b\\\\uff1a                 1.\\\\u51fd\\\\u6570\\\\u53c2\\\\u6570userId\\\\uff0cuserId\\\\u662f\\\\u5b57\\\\u7b26\\\\u4e32\\\\u53c2\\\\u6570\\\\uff0c\\\\u9ed8\\\\u8ba4\\\\u60c5\\\\u51b5\\\\u4e0b\\\\u53d6\\\\u503c\\\\u4e3a\\'me\\'\\\\uff0c\\\\u8868\\\\u793a\\\\u67e5\\\\u770b\\\\u6211\\\\u7684\\\\u90ae\\\\u4ef6\\\\uff1b                 2.\\\\u51fd\\\\u6570\\\\u8fd4\\\\u56de\\\\u7ed3\\\\u679c\\\\u662f\\\\u4e00\\\\u4e2a\\\\u5305\\\\u542b\\\\u7b2c\\\\u4e00\\\\u5c01\\\\u90ae\\\\u4ef6\\\\u6536\\\\u4ef6\\\\u65f6\\\\u95f4\\\\u548c\\\\u90ae\\\\u4ef6\\\\u5185\\\\u5bb9\\\\u7684\\\\u5bf9\\\\u8c61\\\\uff0c\\\\u8fd4\\\\u56de\\\\u7ed3\\\\u679c\\\\u672c\\\\u8eab\\\\u5fc5\\\\u987b\\\\u662f\\\\u4e00\\\\u4e2ajson\\\\u683c\\\\u5f0f\\\\u5bf9\\\\u8c61\\\\uff0c\\\\u4e14\\\\u4fe1\\\\u606f\\\\u5e94\\\\u8be5\\\\u6307\\\\u660e\\\\u51fd\\\\u6570\\\\u7684\\\\u529f\\\\u80fd\\\\u3001\\\\u51fd\\\\u6570\\\\u53c2\\\\u6570\\\\u60c5\\\\u51b5\\\\u4ee5\\\\u53ca\\\\u51fd\\\\u6570\\\\u8fd4\\\\u56de\\\\u7ed3\\\\u679c\\\\u7b49\\\\u4fe1\\\\u606f\\\\uff1b\"}], \"stage2\": [{\"role\": \"user\", \"content\": \"\\\\u8bf7\\\\u5e2e\\\\u6211\\\\u7f16\\\\u5199\\\\u4e00\\\\u4e2apython\\\\u51fd\\\\u6570\\\\uff0c\\\\u7528\\\\u4e8e\\\\u67e5\\\\u770b\\\\u6211\\\\u7684Gmail\\\\u90ae\\\\u7bb1\\\\u4e2d\\\\u7b2c\\\\u4e00\\\\u5c01\\\\u90ae\\\\u4ef6\\\\u4fe1\\\\u606f\\\\uff0c\\\\u51fd\\\\u6570\\\\u8981\\\\u6c42\\\\u5982\\\\u4e0b\\\\uff1a                 1.\\\\u51fd\\\\u6570\\\\u53c2\\\\u6570userId\\\\uff0cuserId\\\\u662f\\\\u5b57\\\\u7b26\\\\u4e32\\\\u53c2\\\\u6570\\\\uff0c\\\\u9ed8\\\\u8ba4\\\\u60c5\\\\u51b5\\\\u4e0b\\\\u53d6\\\\u503c\\\\u4e3a\\'me\\'\\\\uff0c\\\\u8868\\\\u793a\\\\u67e5\\\\u770b\\\\u6211\\\\u7684\\\\u90ae\\\\u4ef6\\\\uff1b                 2.\\\\u51fd\\\\u6570\\\\u8fd4\\\\u56de\\\\u7ed3\\\\u679c\\\\u662f\\\\u4e00\\\\u4e2a\\\\u5305\\\\u542b\\\\u7b2c\\\\u4e00\\\\u5c01\\\\u90ae\\\\u4ef6\\\\u6536\\\\u4ef6\\\\u65f6\\\\u95f4\\\\u548c\\\\u90ae\\\\u4ef6\\\\u5185\\\\u5bb9\\\\u7684\\\\u5bf9\\\\u8c61\\\\uff0c\\\\u8fd4\\\\u56de\\\\u7ed3\\\\u679c\\\\u672c\\\\u8eab\\\\u5fc5\\\\u987b\\\\u662f\\\\u4e00\\\\u4e2ajson\\\\u683c\\\\u5f0f\\\\u5bf9\\\\u8c61\\\\uff0c\\\\u4e14\\\\u4fe1\\\\u606f\\\\u5e94\\\\u8be5\\\\u5305\\\\u542b\\\\u90ae\\\\u4ef6\\\\u6536\\\\u4ef6\\\\u65f6\\\\u95f4\\\\u548c\\\\u90ae\\\\u4ef6\\\\u5185\\\\u5bb9\\\\u7684\\\\u5bf9\\\\u8c61\\\\uff1b                 3.\\\\u8bf7\\\\u5c06\\\\u5168\\\\u90e8\\\\u529f\\\\u80fd\\\\u5c01\\\\u88c5\\\\u5728\\\\u4e00\\\\u4e2a\\\\u51fd\\\\u6570\\\\u5185\\\\uff1b                 4.\\\\u8bf7\\\\u5728\\\\u51fd\\\\u6570\\\\u7f16\\\\u5199\\\\u8fc7\\\\u7a0b\\\\u4e2d\\\\uff0c\\\\u5728\\\\u51fd\\\\u6570\\\\u5185\\\\u90e8\\\\u52a0\\\\u5165\\\\u4e2d\\\\u6587\\\\u7f16\\\\u5199\\\\u7684\\\\u8be6\\\\u7ec6\\\\u7684\\\\u51fd\\\\u6570\\\\u8bf4\\\\u660e\\\\u6587\\\\u6863\\\\uff0c\\\\u7528\\\\u4e8e\\\\u8bf4\\\\u660e\\\\u51fd\\\\u6570\\\\u529f\\\\u80fd\\\\u3001\\\\u51fd\\\\u6570\\\\u53c2\\\\u6570\\\\u60c5\\\\u51b5\\\\u4ee5\\\\u53ca\\\\u51fd\\\\u6570\\\\u8fd4\\\\u56de\\\\u7ed3\\\\u679c\\\\u7b49\\\\u4fe1\\\\u606f\\\\uff1b\"}, {\"role\": \"assistant\", \"content\": \"def get_first_email(userId=\\'me\\'):\\\\n    \\\\\"\\\\\"\\\\\"\\\\n    \\\\u67e5\\\\u8be2Gmail\\\\u90ae\\\\u7bb1\\\\u4e2d\\\\u7b2c\\\\u4e00\\\\u5c01\\\\u90ae\\\\u4ef6\\\\u4fe1\\\\u606f\\\\n    :param userId: \\\\u5fc5\\\\u8981\\\\u53c2\\\\u6570\\\\uff0c\\\\u5b57\\\\u7b26\\\\u4e32\\\\u7c7b\\\\u578b\\\\uff0c\\\\u7528\\\\u4e8e\\\\u8868\\\\u793a\\\\u9700\\\\u8981\\\\u67e5\\\\u8be2\\\\u7684\\\\u90ae\\\\u7bb1ID\\\\uff0c\\\\\\\\\\\\n    \\\\u6ce8\\\\u610f\\\\uff0c\\\\u5f53\\\\u67e5\\\\u8be2\\\\u6211\\\\u7684\\\\u90ae\\\\u7bb1\\\\u65f6\\\\uff0cuserId\\\\u9700\\\\u8981\\\\u8f93\\\\u5165\\'me\\'\\\\uff1b\\\\n    :return\\\\uff1a\\\\u5305\\\\u542b\\\\u7b2c\\\\u4e00\\\\u5c01\\\\u90ae\\\\u4ef6\\\\u7684\\\\u6536\\\\u4ef6\\\\u65f6\\\\u95f4\\\\u548c\\\\u90ae\\\\u4ef6\\\\u5185\\\\u5bb9\\\\u7684\\\\u5bf9\\\\u8c61\\\\uff0c\\\\u8be5\\\\u5bf9\\\\u8c61\\\\u7531Gmail API\\\\u521b\\\\u5efa\\\\u5f97\\\\u5230\\\\uff0c\\\\u4e14\\\\u4fdd\\\\u5b58\\\\u4e3aJSON\\\\u683c\\\\u5f0f\\\\n    \\\\\"\\\\\"\\\\\"\\\\n    \\\\n    # \\\\u4ece\\\\u672c\\\\u5730\\\\u6587\\\\u4ef6\\\\u4e2d\\\\u52a0\\\\u8f7d\\\\u51ed\\\\u636e\\\\n    creds = Credentials.from_authorized_user_file(\\'token.json\\')\\\\n    \\\\n    # \\\\u521b\\\\u5efa Gmail API \\\\u5ba2\\\\u6237\\\\u7aef\\\\n    service = build(\\'gmail\\', \\'v1\\', credentials=creds)\\\\n    \\\\n    # \\\\u5217\\\\u51fa\\\\u7528\\\\u6237\\\\u7684\\\\u5168\\\\u90e8\\\\u90ae\\\\u4ef6\\\\n    results = service.users().messages().list(userId=userId, maxResults=1).execute()\\\\n    messages = results.get(\\'messages\\', [])\\\\n\\\\n    # \\\\u904d\\\\u5386\\\\u90ae\\\\u4ef6\\\\n    for message in messages:\\\\n        # \\\\u83b7\\\\u53d6\\\\u90ae\\\\u4ef6\\\\u7684\\\\u8be6\\\\u7ec6\\\\u4fe1\\\\u606f\\\\n        msg = service.users().messages().get(userId=\\'me\\', id=message[\\'id\\']).execute()\\\\n        \\\\n    return json.dumps(msg)\\\\n\"}]}'"
      ]
     },
     "execution_count": 126,
     "metadata": {},
     "output_type": "execute_result"
    }
   ],
   "source": [
    "modified_result = response.choices[0].message['content']\n",
    "modified_result"
   ]
  },
  {
   "cell_type": "markdown",
   "id": "a29f05a1-7c42-4779-aaf3-ad44266cb028",
   "metadata": {},
   "source": [
    "接下来我们查看修正之后的提示流程和代码是否正确："
   ]
  },
  {
   "cell_type": "code",
   "execution_count": 130,
   "id": "54a36949-415a-4ed5-8b7d-8ed9112e1d7c",
   "metadata": {
    "tags": []
   },
   "outputs": [
    {
     "data": {
      "text/plain": [
       "{'stage1_CD': [{'role': 'user', 'content': '请查下我的邮箱里第一封邮件的收件时间和邮件内容'},\n",
       "  {'role': 'assistant', 'content': '当前需求中可以作为函数参数的是：1.查看谁的邮箱。'}],\n",
       " 'stage1_CM': [{'role': 'user',\n",
       "   'content': '请查下我的邮箱里第一封邮件的收件时间和邮件内容当前需求中可以作为函数参数的是：1.查看谁的邮箱。'},\n",
       "  {'role': 'assistant',\n",
       "   'content': \"请帮我编写一个python函数，用于查看我的Gmail邮箱中第一封邮件信息，函数要求如下：                 1.函数参数userId，userId是字符串参数，默认情况下取值为'me'，表示查看我的邮件；                 2.函数返回结果是一个包含第一封邮件收件时间和邮件内容的对象，返回结果本身必须是一个json格式对象，且信息应该指明函数的功能、函数参数情况以及函数返回结果等信息；\"}],\n",
       " 'stage2': [{'role': 'user',\n",
       "   'content': \"请帮我编写一个python函数，用于查看我的Gmail邮箱中第一封邮件信息，函数要求如下：                 1.函数参数userId，userId是字符串参数，默认情况下取值为'me'，表示查看我的邮件；                 2.函数返回结果是一个包含第一封邮件收件时间和邮件内容的对象，返回结果本身必须是一个json格式对象，且信息应该包含邮件收件时间和邮件内容的对象；                 3.请将全部功能封装在一个函数内；                 4.请在函数编写过程中，在函数内部加入中文编写的详细的函数说明文档，用于说明函数功能、函数参数情况以及函数返回结果等信息；\"},\n",
       "  {'role': 'assistant',\n",
       "   'content': 'def get_first_email(userId=\\'me\\'):\\n    \"\"\"\\n    查询Gmail邮箱中第一封邮件信息\\n    :param userId: 必要参数，字符串类型，用于表示需要查询的邮箱ID，\\\\\\n    注意，当查询我的邮箱时，userId需要输入\\'me\\'；\\n    :return：包含第一封邮件的收件时间和邮件内容的对象，该对象由Gmail API创建得到，且保存为JSON格式\\n    \"\"\"\\n    \\n    # 从本地文件中加载凭据\\n    creds = Credentials.from_authorized_user_file(\\'token.json\\')\\n    \\n    # 创建 Gmail API 客户端\\n    service = build(\\'gmail\\', \\'v1\\', credentials=creds)\\n    \\n    # 列出用户的全部邮件\\n    results = service.users().messages().list(userId=userId, maxResults=1).execute()\\n    messages = results.get(\\'messages\\', [])\\n\\n    # 遍历邮件\\n    for message in messages:\\n        # 获取邮件的详细信息\\n        msg = service.users().messages().get(userId=\\'me\\', id=message[\\'id\\']).execute()\\n        \\n    return json.dumps(msg)\\n'}]}"
      ]
     },
     "execution_count": 130,
     "metadata": {},
     "output_type": "execute_result"
    }
   ],
   "source": [
    "json.loads(modified_result)"
   ]
  },
  {
   "cell_type": "code",
   "execution_count": 136,
   "id": "c14101dc-9429-4133-9d07-fd7a82e8b396",
   "metadata": {
    "tags": []
   },
   "outputs": [],
   "source": [
    "code = json.loads(modified_result)['stage2'][1]['content']"
   ]
  },
  {
   "cell_type": "code",
   "execution_count": 137,
   "id": "eb6a621f-5d66-4014-acad-24c2eb0ed821",
   "metadata": {
    "tags": []
   },
   "outputs": [
    {
     "data": {
      "text/plain": [
       "'def get_first_email(userId=\\'me\\'):\\n    \"\"\"\\n    查询Gmail邮箱中第一封邮件信息\\n    :param userId: 必要参数，字符串类型，用于表示需要查询的邮箱ID，\\\\\\n    注意，当查询我的邮箱时，userId需要输入\\'me\\'；\\n    :return：包含第一封邮件的收件时间和邮件内容的对象，该对象由Gmail API创建得到，且保存为JSON格式\\n    \"\"\"\\n    \\n    # 从本地文件中加载凭据\\n    creds = Credentials.from_authorized_user_file(\\'token.json\\')\\n    \\n    # 创建 Gmail API 客户端\\n    service = build(\\'gmail\\', \\'v1\\', credentials=creds)\\n    \\n    # 列出用户的全部邮件\\n    results = service.users().messages().list(userId=userId, maxResults=1).execute()\\n    messages = results.get(\\'messages\\', [])\\n\\n    # 遍历邮件\\n    for message in messages:\\n        # 获取邮件的详细信息\\n        msg = service.users().messages().get(userId=\\'me\\', id=message[\\'id\\']).execute()\\n        \\n    return json.dumps(msg)\\n'"
      ]
     },
     "execution_count": 137,
     "metadata": {},
     "output_type": "execute_result"
    }
   ],
   "source": [
    "code"
   ]
  },
  {
   "cell_type": "code",
   "execution_count": 22,
   "id": "30e716dd-b1e4-478e-85dc-5fd691eac5ed",
   "metadata": {
    "tags": []
   },
   "outputs": [],
   "source": [
    "exec(code)"
   ]
  },
  {
   "cell_type": "code",
   "execution_count": 28,
   "id": "e53f8521-f1cc-45ec-8fce-c34d9743e13a",
   "metadata": {
    "collapsed": true,
    "jupyter": {
     "outputs_hidden": true
    },
    "tags": []
   },
   "outputs": [
    {
     "data": {
      "text/plain": [
       "'{\"id\": \"189a22b5b8bd3b02\", \"threadId\": \"189a22b5b8bd3b02\", \"labelIds\": [\"UNREAD\", \"IMPORTANT\", \"CATEGORY_PERSONAL\", \"INBOX\"], \"snippet\": \"\\\\u4f60\\\\u597d\", \"payload\": {\"partId\": \"\", \"mimeType\": \"multipart/alternative\", \"filename\": \"\", \"headers\": [{\"name\": \"Delivered-To\", \"value\": \"ksken166@gmail.com\"}, {\"name\": \"Received\", \"value\": \"by 2002:a05:7022:391:b0:68:fa06:8e83 with SMTP id 17csp1296694dlc;        Sat, 29 Jul 2023 08:01:38 -0700 (PDT)\"}, {\"name\": \"X-Google-Smtp-Source\", \"value\": \"APBJJlGBmPj+ot/fli8NnuhSR3GDRBjgbng8hkqdYdS46UgKqx4+1DBhrME+djgWIEAxRk4DoDjd\"}, {\"name\": \"X-Received\", \"value\": \"by 2002:a17:90b:3ec7:b0:268:6838:ec53 with SMTP id rm7-20020a17090b3ec700b002686838ec53mr4811661pjb.1.1690642897871;        Sat, 29 Jul 2023 08:01:37 -0700 (PDT)\"}, {\"name\": \"ARC-Seal\", \"value\": \"i=1; a=rsa-sha256; t=1690642897; cv=none;        d=google.com; s=arc-20160816;        b=hhau33ELBfWIJyz/vfougtEo3femzAIamahQGIoDbtImxBWwxKR2EBB6ozMi9Qn66i         dSDcI5ZR595CrECf1KlxSfJRp8xewF7DCQ2rX8BEduTBIp0r28f9XNDhjwwEoy/3+GHk         FwlSJuwVhUo4UPRUlZ3ukyF+C73aDepqAP8A53O5GeGxfl/TYwkxq0QHEjvicNDPQxkK         CegWUgsBhowTAfvJegXwVCvev0fqKAdGjnur9smiqX/QlYNE+Aoi6+YNtfczbTyjEvcB         jy208uIAPZDDZHZzs/9aTyJhXpzFs83WHtjMUa9HOOK+r3UUnaDBUpaa+TFt9iFnoaUD         0UCQ==\"}, {\"name\": \"ARC-Message-Signature\", \"value\": \"i=1; a=rsa-sha256; c=relaxed/relaxed; d=google.com; s=arc-20160816;        h=message-id:date:content-transfer-encoding:mime-version:subject:to         :from:dkim-signature;        bh=WOTWQCbJwJiSaMNorOitmtCtxHQxl1tajoFFHp0GnEw=;        fh=xWQj+mUExvvzJonUvGH4v1dU/RO9Is3ZjYXf9QVmu+Y=;        b=sISca0LX8OszFqbYXwvznGWzukIdgbloSqo03nxUL7/FYzoJBJBwuvqyjEbPoT/Pk7         g+W1JLAkPwX9eZRajMN1aU4WohBwT3hzHlyJ9r8TjmBI3L4G9RAz83mr3K14UlvH8293         412U9iVED8lQkzUU7caYj8thIbsyybki2B56/0Xr66C4vHAz9XHQTtJV30gh9vGmTuov         g0BH9KVZONoZuag6zpDOxJ5yhaQz1iRrvM8Z9i/nhsAAkiiRjKzw+zb2Op9PsBafB8RB         9j4ZxnbfS/RyRHGy//kCVWLmoCEELU5OALyyOAfiZaeJ85tVVMHPaO9TH1mulIP8Aq7r         /yng==\"}, {\"name\": \"ARC-Authentication-Results\", \"value\": \"i=1; mx.google.com;       dkim=pass header.i=@qq.com header.s=s201512 header.b=AGrzPorC;       spf=pass (google.com: domain of 2323365771@qq.com designates 203.205.221.153 as permitted sender) smtp.mailfrom=2323365771@qq.com;       dmarc=pass (p=QUARANTINE sp=QUARANTINE dis=NONE) header.from=qq.com\"}, {\"name\": \"Return-Path\", \"value\": \"<2323365771@qq.com>\"}, {\"name\": \"Received\", \"value\": \"from out203-205-221-153.mail.qq.com (out203-205-221-153.mail.qq.com. [203.205.221.153])        by mx.google.com with ESMTPS id w7-20020a636207000000b00563de041d37si4534411pgb.368.2023.07.29.08.01.37        for <ksken166@gmail.com>        (version=TLS1_2 cipher=ECDHE-ECDSA-AES128-GCM-SHA256 bits=128/128);        Sat, 29 Jul 2023 08:01:37 -0700 (PDT)\"}, {\"name\": \"Received-SPF\", \"value\": \"pass (google.com: domain of 2323365771@qq.com designates 203.205.221.153 as permitted sender) client-ip=203.205.221.153;\"}, {\"name\": \"Authentication-Results\", \"value\": \"mx.google.com;       dkim=pass header.i=@qq.com header.s=s201512 header.b=AGrzPorC;       spf=pass (google.com: domain of 2323365771@qq.com designates 203.205.221.153 as permitted sender) smtp.mailfrom=2323365771@qq.com;       dmarc=pass (p=QUARANTINE sp=QUARANTINE dis=NONE) header.from=qq.com\"}, {\"name\": \"DKIM-Signature\", \"value\": \"v=1; a=rsa-sha256; c=relaxed/relaxed; d=qq.com; s=s201512; t=1690642896; bh=WOTWQCbJwJiSaMNorOitmtCtxHQxl1tajoFFHp0GnEw=; h=From:To:Subject:Date; b=AGrzPorClabzrcwtFlIr3H+zhVIwAcYfTAR2O3bNlLGonPqi05PDTYusCah0yCzeC\\\\t CsZ33JeVtNg08F7GfBumziw0GI50UhXm578Iby6EDazdYHcBjyKmhhbhHG0wu8Vc/o\\\\t bUcSXHdb1GE0e5SjO5lE9MqwRd/uIBTUPbYQH6PQ=\"}, {\"name\": \"X-QQ-XMRINFO\", \"value\": \"Mp0Kj//9VHAxr69bL5MkOOs=\"}, {\"name\": \"X-QQ-XMAILINFO\", \"value\": \"MIlztXBrKXKHS110MH3ffWfnSQDCkQBp6jpRV2hIDTePZ+FLMvwXMM4dus3icZ\\\\t liZFGk2jeWpII7ntCQx94P+R+zd8t3c5ai49Bleh307znZEonaoMOY6Z3Nx00NJFGe5o49W+LIlr1\\\\t Kq+oaOGKTSjURa9GeZ9j2Xc09lFX+dWNmHq0bTKCFzX/7SQ5azFhV4PSxXqNO+N6arrGAB3bmhdqi\\\\t x6UZSg4kTNuAMN/Hkh3Yem6y2mJQeRx2zwStQOY7Z8eT0Ri5gD1Fb7wWyR4nOS6cdPw+chFGFYknT\\\\t NB2g4clrR6jgvRnAer5ByajYp+FoJaYqDS2mhkEGhHJ4ygD+RzwogA45gOeY2JmTy0TVE29jP3Wn3\\\\t uEHwqoKRRap7oyq5XASC2sFdFlnCXR0ydwUYob6sBGDL6XHjSU2fBu7vQ7iufXCqBqkoJ/M4xtSDw\\\\t /wuSPCDilWOcXWm7jFfZSrbDbVrG3RniU3FWYJuszXh4m6jE2EKeAQotIJH8leVlW3uK5Ok/F2yht\\\\t Pcp6xMtZj3nnC8HgHwRCgS3si2QphM1qmPEmlxgHnsTazFAGDU8x9eUSUrpy+vydZ74ar8cuom6pe\\\\t M7G+GJEFVGn16RHXQvjp9aQH9PYA5Z+5YjT5SP08Lyn7vd7iSNbyaZLubOuaWO6NmnQSGunZPzjXB\\\\t 6XwkWxuR2T1Ashar92SvmjFZg4j06mfd7sKetShTROrLJoOO5dsnwN2sTKtI8Sb80V6LIegSJ0kW5\\\\t pnhe4voM/+mEwBRnT6zG+uZepBApqJp+JQNQ+k3qddwTV/tiivVmxpA9P8k6Ykf6jF+QrWqP6u/A2\\\\t XeHz7fWh4TzS7xGLNs37oZ3Vojb7Qpitz2cjPhnHkbYAz6H8jfshHxncHw1KPA75EkFBE72sgN8is\\\\t Pp4aWIzvGi4H74Nnl9kghE7QCtR4otofmEvZhgi7SZsQJKe5YA4SHpRhnm/bwgEMlfUms1k0eQU7w\\\\t lRL0JeTQ==\"}, {\"name\": \"From\", \"value\": \"\\\\\"\\\\u7aef\\\\u6728\\\\u5929\\\\\" <2323365771@qq.com>\"}, {\"name\": \"To\", \"value\": \"ksken166 <ksken166@gmail.com>\"}, {\"name\": \"Subject\", \"value\": \"\\\\u4f60\\\\u597d\"}, {\"name\": \"Mime-Version\", \"value\": \"1.0\"}, {\"name\": \"Content-Type\", \"value\": \"multipart/alternative; boundary=\\\\\"----=_NextPart_64C529D0_A7345400_592EE42F\\\\\"\"}, {\"name\": \"Content-Transfer-Encoding\", \"value\": \"8Bit\"}, {\"name\": \"Date\", \"value\": \"Sat, 29 Jul 2023 23:01:36 +0800\"}, {\"name\": \"X-Priority\", \"value\": \"3\"}, {\"name\": \"Message-ID\", \"value\": \"<tencent_294F0755AEEF4318298918BFD073D88E9506@qq.com>\"}, {\"name\": \"X-QQ-MIME\", \"value\": \"TCMime 1.0 by Tencent\"}, {\"name\": \"X-Mailer\", \"value\": \"QQMail 2.x\"}, {\"name\": \"X-QQ-Mailer\", \"value\": \"QQMail 2.x\"}, {\"name\": \"X-QQ-mid\", \"value\": \"xmapszb2-0t1690642896t229s6s23\"}], \"body\": {\"size\": 0}, \"parts\": [{\"partId\": \"0\", \"mimeType\": \"text/plain\", \"filename\": \"\", \"headers\": [{\"name\": \"Content-Type\", \"value\": \"text/plain; charset=\\\\\"utf-8\\\\\"\"}, {\"name\": \"Content-Transfer-Encoding\", \"value\": \"base64\"}], \"body\": {\"size\": 6, \"data\": \"5L2g5aW9\"}}, {\"partId\": \"1\", \"mimeType\": \"text/html\", \"filename\": \"\", \"headers\": [{\"name\": \"Content-Type\", \"value\": \"text/html; charset=\\\\\"utf-8\\\\\"\"}, {\"name\": \"Content-Transfer-Encoding\", \"value\": \"base64\"}], \"body\": {\"size\": 6, \"data\": \"5L2g5aW9\"}}]}, \"sizeEstimate\": 5229, \"historyId\": \"2945\", \"internalDate\": \"1690642896000\"}'"
      ]
     },
     "execution_count": 28,
     "metadata": {},
     "output_type": "execute_result"
    }
   ],
   "source": [
    "get_first_email()"
   ]
  },
  {
   "cell_type": "markdown",
   "id": "4270d6fa-4140-4b31-8ad3-86dbc141dceb",
   "metadata": {},
   "source": [
    "能够发现，经过审查修改之后的模型，提示示例及最终修改之后的代码都通过了人工检验，也说明审查模型本身是具备审查效力的，当然也侧面说明此前我们编写的外部挂载文档切实有效。"
   ]
  },
  {
   "cell_type": "markdown",
   "id": "4a471a8b-f0c9-478b-9ac9-dbdb2b484d09",
   "metadata": {},
   "source": [
    "&emsp;&emsp;而纵观整个审查模型的创建和使用过程不难发现，其核心难点就在于如何编写外部挂载文档来给与模型正确的引导。其实总的来说，如何用好的大语言模型，是大语言模型工程师的核心能力之一。而依托外部挂载文档更好的引导模型完成某项工作，就是用好的语言模型的关键手段，而在这个过程中，如何设计外部挂载文档，其实是最核心的、同时也是最复杂的工作事项。其复杂之处并不在于文字的编写，而在于需要在理解大语言模型本身能力的基础之上，创造力的编写能够有效激发和引导大语言模型的文字，就类似于提示流程的设计和提示词的编写，都是极具创造力的工作。而这部分内容，也是教学课程非常重要的一部分内容。"
   ]
  },
  {
   "cell_type": "markdown",
   "id": "34bc1e30-d84f-47ed-ba04-9a2a3c98b6cb",
   "metadata": {},
   "source": [
    "### 2.基于大语言模型的自动debug函数"
   ]
  },
  {
   "cell_type": "markdown",
   "id": "dffac68a-7b72-47ff-a4c6-b74bb903a99a",
   "metadata": {},
   "source": [
    "#### 2.1 自动debug函数创建过程"
   ]
  },
  {
   "cell_type": "markdown",
   "id": "d070191b-961f-4597-bb04-1a1f8c857231",
   "metadata": {},
   "source": [
    "- 审查函数的封装和创建过程"
   ]
  },
  {
   "cell_type": "markdown",
   "id": "304fe612-f585-46aa-9b09-9f7c30ce63e8",
   "metadata": {},
   "source": [
    "&emsp;&emsp;在完成了审查模型的创建之后，接下来，我们即可将上述审查模型的审查流程封装为一个完整的函数，方便后续直接调用。这里考虑到大语言模型输出的结果有可能markdown格式对象，因此我们需要单独定义一个函数用于从markdown格式对象中提取json对象，函数如下："
   ]
  },
  {
   "cell_type": "code",
   "execution_count": 109,
   "id": "e32ca114-b479-4366-b6d3-2db9af892cb7",
   "metadata": {
    "tags": []
   },
   "outputs": [],
   "source": [
    "import re\n",
    "\n",
    "def extract_json(s):\n",
    "    pattern = r'```[jJ][sS][oO][nN]\\s*({.*?})\\s*```'\n",
    "    match = re.search(pattern, s, re.DOTALL)\n",
    "    if match:\n",
    "        return match.group(1)\n",
    "    else:\n",
    "        return s"
   ]
  },
  {
   "cell_type": "markdown",
   "id": "2c28bb20-4089-442d-9738-2516bfc0fd97",
   "metadata": {},
   "source": [
    "然后即可测试能否从md_content中提取json对象："
   ]
  },
  {
   "cell_type": "code",
   "execution_count": 104,
   "id": "5c777d55-9f2c-4b58-bca2-04ad68ca9ca6",
   "metadata": {
    "tags": []
   },
   "outputs": [
    {
     "data": {
      "text/plain": [
       "'1.什么是智能邮件项目？智能邮件项目本身由一系列的程序组成，核心功能是根据用户自然语言描述进行相应的邮件操作，如查阅邮件、收发邮件等。项目采用的邮箱API是Gmail API，并且已经获得了授权，授权文件为本地的token.json文件。\\n\\n2.什么是推理链？在智能邮件项目中，推理链特指将用户的需求逐步推导为python函数的过程，也就是说，每个推理链的输入都是用户需求，而推理的结果则是一个可以满足用户需求的函数。每个推理链都有三个推理环节，且都以json格式表示，例如，以下是一个正确的推理链A：\\n\\n```json\\n{\"stage1_CD\": [{\"role\": \"user\", \"content\": \"\\\\u8bf7\\\\u5e2e\\\\u6211\\\\u67e5\\\\u4e0bGmail\\\\u90ae\\\\u7bb1\\\\u91cc\\\\u6700\\\\u540e\\\\u4e00\\\\u5c01\\\\u90ae\\\\u4ef6\\\\u5185\\\\u5bb9\\\\u3002\"}, {\"role\": \"assistant\", \"content\": \"\\\\u5f53\\\\u524d\\\\u9700\\\\u6c42\\\\u4e2d\\\\u53ef\\\\u4ee5\\\\u4f5c\\\\u4e3a\\\\u51fd\\\\u6570\\\\u53c2\\\\u6570\\\\u7684\\\\u662f\\\\uff1a1.\\\\u67e5\\\\u770b\\\\u8c01\\\\u7684\\\\u90ae\\\\u7bb1\\\\u3002\"}], \"stage1_CM\": [{\"role\": \"user\", \"content\": \"\\\\u8bf7\\\\u5e2e\\\\u6211\\\\u67e5\\\\u4e0bGmail\\\\u90ae\\\\u7bb1\\\\u91cc\\\\u6700\\\\u540e\\\\u4e00\\\\u5c01\\\\u90ae\\\\u4ef6\\\\u5185\\\\u5bb9\\\\u3002\\\\u5f53\\\\u524d\\\\u9700\\\\u6c42\\\\u4e2d\\\\u53ef\\\\u4ee5\\\\u4f5c\\\\u4e3a\\\\u51fd\\\\u6570\\\\u53c2\\\\u6570\\\\u7684\\\\u662f\\\\uff1a1.\\\\u67e5\\\\u770b\\\\u8c01\\\\u7684\\\\u90ae\\\\u7bb1\\\\u3002\"}, {\"role\": \"assistant\", \"content\": \"\\\\u8bf7\\\\u5e2e\\\\u6211\\\\u7f16\\\\u5199\\\\u4e00\\\\u4e2apython\\\\u51fd\\\\u6570\\\\uff0c\\\\u7528\\\\u4e8e\\\\u67e5\\\\u770b\\\\u6211\\\\u7684Gmail\\\\u90ae\\\\u7bb1\\\\u4e2d\\\\u6700\\\\u540e\\\\u4e00\\\\u5c01\\\\u90ae\\\\u4ef6\\\\u4fe1\\\\u606f\\\\uff0c\\\\u51fd\\\\u6570\\\\u8981\\\\u6c42\\\\u5982\\\\u4e0b\\\\uff1a                 1.\\\\u51fd\\\\u6570\\\\u53c2\\\\u6570userId\\\\uff0cuserId\\\\u662f\\\\u5b57\\\\u7b26\\\\u4e32\\\\u53c2\\\\u6570\\\\uff0c\\\\u9ed8\\\\u8ba4\\\\u60c5\\\\u51b5\\\\u4e0b\\\\u53d6\\\\u503c\\\\u4e3a\\'me\\'\\\\uff0c\\\\u8868\\\\u793a\\\\u67e5\\\\u770b\\\\u6211\\\\u7684\\\\u90ae\\\\u4ef6\\\\uff1b                 2.\\\\u51fd\\\\u6570\\\\u8fd4\\\\u56de\\\\u7ed3\\\\u679c\\\\u662f\\\\u4e00\\\\u4e2a\\\\u5305\\\\u542b\\\\u6700\\\\u540e\\\\u4e00\\\\u5c01\\\\u90ae\\\\u4ef6\\\\u4fe1\\\\u606f\\\\u7684\\\\u5bf9\\\\u8c61\\\\uff0c\\\\u8fd4\\\\u56de\\\\u7ed3\\\\u679c\\\\u672c\\\\u8eab\\\\u5fc5\\\\u987b\\\\u662f\\\\u4e00\\\\u4e2ajson\\\\u683c\\\\u5f0f\\\\u5bf9\\\\u8c61\\\\uff1b                 3.\\\\u8bf7\\\\u5c06\\\\u5168\\\\u90e8\\\\u529f\\\\u80fd\\\\u5c01\\\\u88c5\\\\u5728\\\\u4e00\\\\u4e2a\\\\u51fd\\\\u6570\\\\u5185\\\\uff1b                 4.\\\\u8bf7\\\\u5728\\\\u51fd\\\\u6570\\\\u7f16\\\\u5199\\\\u8fc7\\\\u7a0b\\\\u4e2d\\\\uff0c\\\\u5728\\\\u51fd\\\\u6570\\\\u5185\\\\u90e8\\\\u52a0\\\\u5165\\\\u4e2d\\\\u6587\\\\u7f16\\\\u5199\\\\u7684\\\\u8be6\\\\u7ec6\\\\u7684\\\\u51fd\\\\u6570\\\\u8bf4\\\\u660e\\\\u6587\\\\u6863\\\\uff0c\\\\u7528\\\\u4e8e\\\\u8bf4\\\\u660e\\\\u51fd\\\\u6570\\\\u529f\\\\u80fd\\\\u3001\\\\u51fd\\\\u6570\\\\u53c2\\\\u6570\\\\u60c5\\\\u51b5\\\\u4ee5\\\\u53ca\\\\u51fd\\\\u6570\\\\u8fd4\\\\u56de\\\\u7ed3\\\\u679c\\\\u7b49\\\\u4fe1\\\\u606f\\\\uff1b\"}], \"stage2\": [{\"role\": \"user\", \"content\": \"\\\\u8bf7\\\\u5e2e\\\\u6211\\\\u7f16\\\\u5199\\\\u4e00\\\\u4e2apython\\\\u51fd\\\\u6570\\\\uff0c\\\\u7528\\\\u4e8e\\\\u67e5\\\\u770b\\\\u6211\\\\u7684Gmail\\\\u90ae\\\\u7bb1\\\\u4e2d\\\\u6700\\\\u540e\\\\u4e00\\\\u5c01\\\\u90ae\\\\u4ef6\\\\u4fe1\\\\u606f\\\\uff0c\\\\u51fd\\\\u6570\\\\u8981\\\\u6c42\\\\u5982\\\\u4e0b\\\\uff1a                 1.\\\\u51fd\\\\u6570\\\\u53c2\\\\u6570userId\\\\uff0cuserId\\\\u662f\\\\u5b57\\\\u7b26\\\\u4e32\\\\u53c2\\\\u6570\\\\uff0c\\\\u9ed8\\\\u8ba4\\\\u60c5\\\\u51b5\\\\u4e0b\\\\u53d6\\\\u503c\\\\u4e3a\\'me\\'\\\\uff0c\\\\u8868\\\\u793a\\\\u67e5\\\\u770b\\\\u6211\\\\u7684\\\\u90ae\\\\u4ef6\\\\uff1b                 2.\\\\u51fd\\\\u6570\\\\u8fd4\\\\u56de\\\\u7ed3\\\\u679c\\\\u662f\\\\u4e00\\\\u4e2a\\\\u5305\\\\u542b\\\\u6700\\\\u540e\\\\u4e00\\\\u5c01\\\\u90ae\\\\u4ef6\\\\u4fe1\\\\u606f\\\\u7684\\\\u5bf9\\\\u8c61\\\\uff0c\\\\u8fd4\\\\u56de\\\\u7ed3\\\\u679c\\\\u672c\\\\u8eab\\\\u5fc5\\\\u987b\\\\u662f\\\\u4e00\\\\u4e2ajson\\\\u683c\\\\u5f0f\\\\u5bf9\\\\u8c61\\\\uff1b                 3.\\\\u8bf7\\\\u5c06\\\\u5168\\\\u90e8\\\\u529f\\\\u80fd\\\\u5c01\\\\u88c5\\\\u5728\\\\u4e00\\\\u4e2a\\\\u51fd\\\\u6570\\\\u5185\\\\uff1b                 4.\\\\u8bf7\\\\u5728\\\\u51fd\\\\u6570\\\\u7f16\\\\u5199\\\\u8fc7\\\\u7a0b\\\\u4e2d\\\\uff0c\\\\u5728\\\\u51fd\\\\u6570\\\\u5185\\\\u90e8\\\\u52a0\\\\u5165\\\\u4e2d\\\\u6587\\\\u7f16\\\\u5199\\\\u7684\\\\u8be6\\\\u7ec6\\\\u7684\\\\u51fd\\\\u6570\\\\u8bf4\\\\u660e\\\\u6587\\\\u6863\\\\uff0c\\\\u7528\\\\u4e8e\\\\u8bf4\\\\u660e\\\\u51fd\\\\u6570\\\\u529f\\\\u80fd\\\\u3001\\\\u51fd\\\\u6570\\\\u53c2\\\\u6570\\\\u60c5\\\\u51b5\\\\u4ee5\\\\u53ca\\\\u51fd\\\\u6570\\\\u8fd4\\\\u56de\\\\u7ed3\\\\u679c\\\\u7b49\\\\u4fe1\\\\u606f\\\\uff1b\"}, {\"role\": \"assistant\", \"content\": \"def get_latest_email(userId):\\\\n    \\\\\"\\\\\"\\\\\"\\\\n    \\\\u67e5\\\\u8be2Gmail\\\\u90ae\\\\u7bb1\\\\u4e2d\\\\u6700\\\\u540e\\\\u4e00\\\\u5c01\\\\u90ae\\\\u4ef6\\\\u4fe1\\\\u606f\\\\n    :param userId: \\\\u5fc5\\\\u8981\\\\u53c2\\\\u6570\\\\uff0c\\\\u5b57\\\\u7b26\\\\u4e32\\\\u7c7b\\\\u578b\\\\uff0c\\\\u7528\\\\u4e8e\\\\u8868\\\\u793a\\\\u9700\\\\u8981\\\\u67e5\\\\u8be2\\\\u7684\\\\u90ae\\\\u7bb1ID\\\\uff0c\\\\\\\\\\\\n    \\\\u6ce8\\\\u610f\\\\uff0c\\\\u5f53\\\\u67e5\\\\u8be2\\\\u6211\\\\u7684\\\\u90ae\\\\u7bb1\\\\u65f6\\\\uff0cuserId\\\\u9700\\\\u8981\\\\u8f93\\\\u5165\\'me\\'\\\\uff1b\\\\n    :return\\\\uff1a\\\\u5305\\\\u542b\\\\u6700\\\\u540e\\\\u4e00\\\\u5c01\\\\u90ae\\\\u4ef6\\\\u5168\\\\u90e8\\\\u4fe1\\\\u606f\\\\u7684\\\\u5bf9\\\\u8c61\\\\uff0c\\\\u8be5\\\\u5bf9\\\\u8c61\\\\u7531Gmail API\\\\u521b\\\\u5efa\\\\u5f97\\\\u5230\\\\uff0c\\\\u4e14\\\\u4fdd\\\\u5b58\\\\u4e3aJSON\\\\u683c\\\\u5f0f\\\\n    \\\\\"\\\\\"\\\\\"\\\\n    # \\\\u4ece\\\\u672c\\\\u5730\\\\u6587\\\\u4ef6\\\\u4e2d\\\\u52a0\\\\u8f7d\\\\u51ed\\\\u636e\\\\n    creds = Credentials.from_authorized_user_file(\\'token.json\\')\\\\n    \\\\n    # \\\\u521b\\\\u5efa Gmail API \\\\u5ba2\\\\u6237\\\\u7aef\\\\n    service = build(\\'gmail\\', \\'v1\\', credentials=creds)\\\\n    \\\\n    # \\\\u5217\\\\u51fa\\\\u7528\\\\u6237\\\\u7684\\\\u4e00\\\\u5c01\\\\u6700\\\\u65b0\\\\u90ae\\\\u4ef6\\\\n    results = service.users().messages().list(userId=userId, maxResults=1).execute()\\\\n    messages = results.get(\\'messages\\', [])\\\\n\\\\n    # \\\\u904d\\\\u5386\\\\u90ae\\\\u4ef6\\\\n    for message in messages:\\\\n        # \\\\u83b7\\\\u53d6\\\\u90ae\\\\u4ef6\\\\u7684\\\\u8be6\\\\u7ec6\\\\u4fe1\\\\u606f\\\\n        msg = service.users().messages().get(userId=\\'me\\', id=message[\\'id\\']).execute()\\\\n        \\\\n    return json.dumps(msg)\\\\n\"}]}\\n```\\n\\n3.对于推理链最后生成的函数，一定要是可以运行的、能够满足用户需求的python函数，且需要有详细的说明文档，说明文档内容包括函数功能、函数参数情况以及函数返回结果等信息；\\n\\n4.你是一个推理链审查助手，善于检测推理链中是否存在错误。接下来我会给你一个错误的推理链，请你对其进行修改；\\n\\n5.当你对推理链进行修改之后，请仿造推理链A的格式，以json格式输出修改之后的推理链。'"
      ]
     },
     "execution_count": 104,
     "metadata": {},
     "output_type": "execute_result"
    }
   ],
   "source": [
    "md_content"
   ]
  },
  {
   "cell_type": "code",
   "execution_count": 110,
   "id": "e634b47a-0eb0-4707-bd42-5cd22210116f",
   "metadata": {
    "collapsed": true,
    "jupyter": {
     "outputs_hidden": true
    },
    "tags": []
   },
   "outputs": [
    {
     "data": {
      "text/plain": [
       "'{\"stage1_CD\": [{\"role\": \"user\", \"content\": \"\\\\u8bf7\\\\u5e2e\\\\u6211\\\\u67e5\\\\u4e0bGmail\\\\u90ae\\\\u7bb1\\\\u91cc\\\\u6700\\\\u540e\\\\u4e00\\\\u5c01\\\\u90ae\\\\u4ef6\\\\u5185\\\\u5bb9\\\\u3002\"}, {\"role\": \"assistant\", \"content\": \"\\\\u5f53\\\\u524d\\\\u9700\\\\u6c42\\\\u4e2d\\\\u53ef\\\\u4ee5\\\\u4f5c\\\\u4e3a\\\\u51fd\\\\u6570\\\\u53c2\\\\u6570\\\\u7684\\\\u662f\\\\uff1a1.\\\\u67e5\\\\u770b\\\\u8c01\\\\u7684\\\\u90ae\\\\u7bb1\\\\u3002\"}], \"stage1_CM\": [{\"role\": \"user\", \"content\": \"\\\\u8bf7\\\\u5e2e\\\\u6211\\\\u67e5\\\\u4e0bGmail\\\\u90ae\\\\u7bb1\\\\u91cc\\\\u6700\\\\u540e\\\\u4e00\\\\u5c01\\\\u90ae\\\\u4ef6\\\\u5185\\\\u5bb9\\\\u3002\\\\u5f53\\\\u524d\\\\u9700\\\\u6c42\\\\u4e2d\\\\u53ef\\\\u4ee5\\\\u4f5c\\\\u4e3a\\\\u51fd\\\\u6570\\\\u53c2\\\\u6570\\\\u7684\\\\u662f\\\\uff1a1.\\\\u67e5\\\\u770b\\\\u8c01\\\\u7684\\\\u90ae\\\\u7bb1\\\\u3002\"}, {\"role\": \"assistant\", \"content\": \"\\\\u8bf7\\\\u5e2e\\\\u6211\\\\u7f16\\\\u5199\\\\u4e00\\\\u4e2apython\\\\u51fd\\\\u6570\\\\uff0c\\\\u7528\\\\u4e8e\\\\u67e5\\\\u770b\\\\u6211\\\\u7684Gmail\\\\u90ae\\\\u7bb1\\\\u4e2d\\\\u6700\\\\u540e\\\\u4e00\\\\u5c01\\\\u90ae\\\\u4ef6\\\\u4fe1\\\\u606f\\\\uff0c\\\\u51fd\\\\u6570\\\\u8981\\\\u6c42\\\\u5982\\\\u4e0b\\\\uff1a                 1.\\\\u51fd\\\\u6570\\\\u53c2\\\\u6570userId\\\\uff0cuserId\\\\u662f\\\\u5b57\\\\u7b26\\\\u4e32\\\\u53c2\\\\u6570\\\\uff0c\\\\u9ed8\\\\u8ba4\\\\u60c5\\\\u51b5\\\\u4e0b\\\\u53d6\\\\u503c\\\\u4e3a\\'me\\'\\\\uff0c\\\\u8868\\\\u793a\\\\u67e5\\\\u770b\\\\u6211\\\\u7684\\\\u90ae\\\\u4ef6\\\\uff1b                 2.\\\\u51fd\\\\u6570\\\\u8fd4\\\\u56de\\\\u7ed3\\\\u679c\\\\u662f\\\\u4e00\\\\u4e2a\\\\u5305\\\\u542b\\\\u6700\\\\u540e\\\\u4e00\\\\u5c01\\\\u90ae\\\\u4ef6\\\\u4fe1\\\\u606f\\\\u7684\\\\u5bf9\\\\u8c61\\\\uff0c\\\\u8fd4\\\\u56de\\\\u7ed3\\\\u679c\\\\u672c\\\\u8eab\\\\u5fc5\\\\u987b\\\\u662f\\\\u4e00\\\\u4e2ajson\\\\u683c\\\\u5f0f\\\\u5bf9\\\\u8c61\\\\uff1b                 3.\\\\u8bf7\\\\u5c06\\\\u5168\\\\u90e8\\\\u529f\\\\u80fd\\\\u5c01\\\\u88c5\\\\u5728\\\\u4e00\\\\u4e2a\\\\u51fd\\\\u6570\\\\u5185\\\\uff1b                 4.\\\\u8bf7\\\\u5728\\\\u51fd\\\\u6570\\\\u7f16\\\\u5199\\\\u8fc7\\\\u7a0b\\\\u4e2d\\\\uff0c\\\\u5728\\\\u51fd\\\\u6570\\\\u5185\\\\u90e8\\\\u52a0\\\\u5165\\\\u4e2d\\\\u6587\\\\u7f16\\\\u5199\\\\u7684\\\\u8be6\\\\u7ec6\\\\u7684\\\\u51fd\\\\u6570\\\\u8bf4\\\\u660e\\\\u6587\\\\u6863\\\\uff0c\\\\u7528\\\\u4e8e\\\\u8bf4\\\\u660e\\\\u51fd\\\\u6570\\\\u529f\\\\u80fd\\\\u3001\\\\u51fd\\\\u6570\\\\u53c2\\\\u6570\\\\u60c5\\\\u51b5\\\\u4ee5\\\\u53ca\\\\u51fd\\\\u6570\\\\u8fd4\\\\u56de\\\\u7ed3\\\\u679c\\\\u7b49\\\\u4fe1\\\\u606f\\\\uff1b\"}], \"stage2\": [{\"role\": \"user\", \"content\": \"\\\\u8bf7\\\\u5e2e\\\\u6211\\\\u7f16\\\\u5199\\\\u4e00\\\\u4e2apython\\\\u51fd\\\\u6570\\\\uff0c\\\\u7528\\\\u4e8e\\\\u67e5\\\\u770b\\\\u6211\\\\u7684Gmail\\\\u90ae\\\\u7bb1\\\\u4e2d\\\\u6700\\\\u540e\\\\u4e00\\\\u5c01\\\\u90ae\\\\u4ef6\\\\u4fe1\\\\u606f\\\\uff0c\\\\u51fd\\\\u6570\\\\u8981\\\\u6c42\\\\u5982\\\\u4e0b\\\\uff1a                 1.\\\\u51fd\\\\u6570\\\\u53c2\\\\u6570userId\\\\uff0cuserId\\\\u662f\\\\u5b57\\\\u7b26\\\\u4e32\\\\u53c2\\\\u6570\\\\uff0c\\\\u9ed8\\\\u8ba4\\\\u60c5\\\\u51b5\\\\u4e0b\\\\u53d6\\\\u503c\\\\u4e3a\\'me\\'\\\\uff0c\\\\u8868\\\\u793a\\\\u67e5\\\\u770b\\\\u6211\\\\u7684\\\\u90ae\\\\u4ef6\\\\uff1b                 2.\\\\u51fd\\\\u6570\\\\u8fd4\\\\u56de\\\\u7ed3\\\\u679c\\\\u662f\\\\u4e00\\\\u4e2a\\\\u5305\\\\u542b\\\\u6700\\\\u540e\\\\u4e00\\\\u5c01\\\\u90ae\\\\u4ef6\\\\u4fe1\\\\u606f\\\\u7684\\\\u5bf9\\\\u8c61\\\\uff0c\\\\u8fd4\\\\u56de\\\\u7ed3\\\\u679c\\\\u672c\\\\u8eab\\\\u5fc5\\\\u987b\\\\u662f\\\\u4e00\\\\u4e2ajson\\\\u683c\\\\u5f0f\\\\u5bf9\\\\u8c61\\\\uff1b                 3.\\\\u8bf7\\\\u5c06\\\\u5168\\\\u90e8\\\\u529f\\\\u80fd\\\\u5c01\\\\u88c5\\\\u5728\\\\u4e00\\\\u4e2a\\\\u51fd\\\\u6570\\\\u5185\\\\uff1b                 4.\\\\u8bf7\\\\u5728\\\\u51fd\\\\u6570\\\\u7f16\\\\u5199\\\\u8fc7\\\\u7a0b\\\\u4e2d\\\\uff0c\\\\u5728\\\\u51fd\\\\u6570\\\\u5185\\\\u90e8\\\\u52a0\\\\u5165\\\\u4e2d\\\\u6587\\\\u7f16\\\\u5199\\\\u7684\\\\u8be6\\\\u7ec6\\\\u7684\\\\u51fd\\\\u6570\\\\u8bf4\\\\u660e\\\\u6587\\\\u6863\\\\uff0c\\\\u7528\\\\u4e8e\\\\u8bf4\\\\u660e\\\\u51fd\\\\u6570\\\\u529f\\\\u80fd\\\\u3001\\\\u51fd\\\\u6570\\\\u53c2\\\\u6570\\\\u60c5\\\\u51b5\\\\u4ee5\\\\u53ca\\\\u51fd\\\\u6570\\\\u8fd4\\\\u56de\\\\u7ed3\\\\u679c\\\\u7b49\\\\u4fe1\\\\u606f\\\\uff1b\"}, {\"role\": \"assistant\", \"content\": \"def get_latest_email(userId):\\\\n    \\\\\"\\\\\"\\\\\"\\\\n    \\\\u67e5\\\\u8be2Gmail\\\\u90ae\\\\u7bb1\\\\u4e2d\\\\u6700\\\\u540e\\\\u4e00\\\\u5c01\\\\u90ae\\\\u4ef6\\\\u4fe1\\\\u606f\\\\n    :param userId: \\\\u5fc5\\\\u8981\\\\u53c2\\\\u6570\\\\uff0c\\\\u5b57\\\\u7b26\\\\u4e32\\\\u7c7b\\\\u578b\\\\uff0c\\\\u7528\\\\u4e8e\\\\u8868\\\\u793a\\\\u9700\\\\u8981\\\\u67e5\\\\u8be2\\\\u7684\\\\u90ae\\\\u7bb1ID\\\\uff0c\\\\\\\\\\\\n    \\\\u6ce8\\\\u610f\\\\uff0c\\\\u5f53\\\\u67e5\\\\u8be2\\\\u6211\\\\u7684\\\\u90ae\\\\u7bb1\\\\u65f6\\\\uff0cuserId\\\\u9700\\\\u8981\\\\u8f93\\\\u5165\\'me\\'\\\\uff1b\\\\n    :return\\\\uff1a\\\\u5305\\\\u542b\\\\u6700\\\\u540e\\\\u4e00\\\\u5c01\\\\u90ae\\\\u4ef6\\\\u5168\\\\u90e8\\\\u4fe1\\\\u606f\\\\u7684\\\\u5bf9\\\\u8c61\\\\uff0c\\\\u8be5\\\\u5bf9\\\\u8c61\\\\u7531Gmail API\\\\u521b\\\\u5efa\\\\u5f97\\\\u5230\\\\uff0c\\\\u4e14\\\\u4fdd\\\\u5b58\\\\u4e3aJSON\\\\u683c\\\\u5f0f\\\\n    \\\\\"\\\\\"\\\\\"\\\\n    # \\\\u4ece\\\\u672c\\\\u5730\\\\u6587\\\\u4ef6\\\\u4e2d\\\\u52a0\\\\u8f7d\\\\u51ed\\\\u636e\\\\n    creds = Credentials.from_authorized_user_file(\\'token.json\\')\\\\n    \\\\n    # \\\\u521b\\\\u5efa Gmail API \\\\u5ba2\\\\u6237\\\\u7aef\\\\n    service = build(\\'gmail\\', \\'v1\\', credentials=creds)\\\\n    \\\\n    # \\\\u5217\\\\u51fa\\\\u7528\\\\u6237\\\\u7684\\\\u4e00\\\\u5c01\\\\u6700\\\\u65b0\\\\u90ae\\\\u4ef6\\\\n    results = service.users().messages().list(userId=userId, maxResults=1).execute()\\\\n    messages = results.get(\\'messages\\', [])\\\\n\\\\n    # \\\\u904d\\\\u5386\\\\u90ae\\\\u4ef6\\\\n    for message in messages:\\\\n        # \\\\u83b7\\\\u53d6\\\\u90ae\\\\u4ef6\\\\u7684\\\\u8be6\\\\u7ec6\\\\u4fe1\\\\u606f\\\\n        msg = service.users().messages().get(userId=\\'me\\', id=message[\\'id\\']).execute()\\\\n        \\\\n    return json.dumps(msg)\\\\n\"}]}'"
      ]
     },
     "execution_count": 110,
     "metadata": {},
     "output_type": "execute_result"
    }
   ],
   "source": [
    "extract_json(md_content)"
   ]
  },
  {
   "cell_type": "code",
   "execution_count": 107,
   "id": "927469ad-9102-4e0c-af36-aeaf5065214e",
   "metadata": {
    "tags": []
   },
   "outputs": [
    {
     "data": {
      "text/plain": [
       "{'stage1_CD': [{'role': 'user', 'content': '请帮我查下Gmail邮箱里最后一封邮件内容。'},\n",
       "  {'role': 'assistant', 'content': '当前需求中可以作为函数参数的是：1.查看谁的邮箱。'}],\n",
       " 'stage1_CM': [{'role': 'user',\n",
       "   'content': '请帮我查下Gmail邮箱里最后一封邮件内容。当前需求中可以作为函数参数的是：1.查看谁的邮箱。'},\n",
       "  {'role': 'assistant',\n",
       "   'content': \"请帮我编写一个python函数，用于查看我的Gmail邮箱中最后一封邮件信息，函数要求如下：                 1.函数参数userId，userId是字符串参数，默认情况下取值为'me'，表示查看我的邮件；                 2.函数返回结果是一个包含最后一封邮件信息的对象，返回结果本身必须是一个json格式对象；                 3.请将全部功能封装在一个函数内；                 4.请在函数编写过程中，在函数内部加入中文编写的详细的函数说明文档，用于说明函数功能、函数参数情况以及函数返回结果等信息；\"}],\n",
       " 'stage2': [{'role': 'user',\n",
       "   'content': \"请帮我编写一个python函数，用于查看我的Gmail邮箱中最后一封邮件信息，函数要求如下：                 1.函数参数userId，userId是字符串参数，默认情况下取值为'me'，表示查看我的邮件；                 2.函数返回结果是一个包含最后一封邮件信息的对象，返回结果本身必须是一个json格式对象；                 3.请将全部功能封装在一个函数内；                 4.请在函数编写过程中，在函数内部加入中文编写的详细的函数说明文档，用于说明函数功能、函数参数情况以及函数返回结果等信息；\"},\n",
       "  {'role': 'assistant',\n",
       "   'content': 'def get_latest_email(userId):\\n    \"\"\"\\n    查询Gmail邮箱中最后一封邮件信息\\n    :param userId: 必要参数，字符串类型，用于表示需要查询的邮箱ID，\\\\\\n    注意，当查询我的邮箱时，userId需要输入\\'me\\'；\\n    :return：包含最后一封邮件全部信息的对象，该对象由Gmail API创建得到，且保存为JSON格式\\n    \"\"\"\\n    # 从本地文件中加载凭据\\n    creds = Credentials.from_authorized_user_file(\\'token.json\\')\\n    \\n    # 创建 Gmail API 客户端\\n    service = build(\\'gmail\\', \\'v1\\', credentials=creds)\\n    \\n    # 列出用户的一封最新邮件\\n    results = service.users().messages().list(userId=userId, maxResults=1).execute()\\n    messages = results.get(\\'messages\\', [])\\n\\n    # 遍历邮件\\n    for message in messages:\\n        # 获取邮件的详细信息\\n        msg = service.users().messages().get(userId=\\'me\\', id=message[\\'id\\']).execute()\\n        \\n    return json.dumps(msg)\\n'}]}"
      ]
     },
     "execution_count": 107,
     "metadata": {},
     "output_type": "execute_result"
    }
   ],
   "source": [
    "json.loads(extract_json(md_content))"
   ]
  },
  {
   "cell_type": "markdown",
   "id": "69e9563a-90c9-4aa3-9c8e-431f69c01147",
   "metadata": {},
   "source": [
    "接下来即可完整定义一个大语言模型审查函数："
   ]
  },
  {
   "cell_type": "code",
   "execution_count": 2,
   "id": "4c8e481a-ebd0-4cdd-bea8-bfcc983c5393",
   "metadata": {
    "tags": []
   },
   "outputs": [],
   "source": [
    "def prompt_modified(function_name, system_content='推理链修改.md', model=\"gpt-4-0613\", g=globals()):\n",
    "    \"\"\"\n",
    "    智能邮件项目的外部函数审查函数，用于审查外部函数创建流程提示是否正确以及最终创建的代码是否正确\n",
    "    :param function_name: 必要参数，字符串类型，表示审查对象名称；\n",
    "    :param system_content: 可选参数，默认取值为字符串推理链修改.md，表示此时审查函数外部挂载文档名称，需要是markdwon格式文档；\n",
    "    :param model: 可选参数，表示调用的Chat模型，默认选取gpt-4-0613；\n",
    "    :param g: 可选参数，表示extract_function_code函数作用域，默认为globals()，即在当前操作空间全域内生效；\n",
    "    :return：审查结束后新创建的函数名称\n",
    "    \"\"\"\n",
    "    print(\"正在执行审查函数，审查对象：%s\" % function_name)\n",
    "    with open(system_content, 'r', encoding='utf-8') as f:\n",
    "        md_content = f.read()\n",
    "        \n",
    "    # 读取原函数全部提示内容\n",
    "    with open('./functions/untested functions/%s/%s_prompt.json' % (function_name, function_name), 'r') as f:\n",
    "        msg = json.load(f)\n",
    "    \n",
    "    # 将其保存为字符串\n",
    "    msg_str = json.dumps(msg)\n",
    "    \n",
    "    # 进行审查\n",
    "    response = openai.ChatCompletion.create(\n",
    "                    model=model,\n",
    "                    messages=[\n",
    "                    {\"role\": \"system\", \"content\": md_content},\n",
    "                    {\"role\": \"user\", \"content\": '以下是一个错误的智能邮件项目的推理链，请你按照要求对其进行修改：%s' % msg_str}\n",
    "                    ]\n",
    "                )\n",
    "    \n",
    "    modified_result = response.choices[0].message['content']\n",
    "    \n",
    "    def extract_json(s):\n",
    "        pattern = r'```[jJ][sS][oO][nN]\\s*({.*?})\\s*```'\n",
    "        match = re.search(pattern, s, re.DOTALL)\n",
    "        if match:\n",
    "            return match.group(1)\n",
    "        else:\n",
    "            return s\n",
    "    \n",
    "    modified_json = extract_json(modified_result)\n",
    "    \n",
    "    # 提取函数源码\n",
    "    code = json.loads(modified_json)['stage2'][1]['content']\n",
    "    \n",
    "    # 提取函数名\n",
    "    match = re.search(r'def (\\w+)', code)\n",
    "    function_name = match.group(1)\n",
    "    \n",
    "    print(\"审查结束，新的函数名称为：%s。\\n正在运行该函数定义过程，并保存函数源码与prompt\" % function_name)\n",
    "    \n",
    "    exec(code, g)\n",
    "    \n",
    "    # 在untested文件夹内创建函数同名文件夹\n",
    "    directory = './functions/untested functions/%s' % function_name\n",
    "    if not os.path.exists(directory):\n",
    "        os.makedirs(directory)\n",
    "        \n",
    "    # 写入函数\n",
    "    with open('./functions/untested functions/%s/%s_module.py' % (function_name, function_name), 'w', encoding='utf-8') as f:\n",
    "        f.write(code)\n",
    "        \n",
    "    # 写入提示\n",
    "    with open('./functions/untested functions/%s/%s_prompt.json' % (function_name, function_name), 'w') as f:\n",
    "        json.dump(json.loads(modified_json), f)\n",
    "    \n",
    "    print('新函数提示示例保存在./functions/untested functions/%s/%s_prompt.json文件中' % (function_name, function_name))\n",
    "    print(\"%s函数已在当前操作空间定义，可以进行效果测试\" % function_name)\n",
    "    \n",
    "    return function_name"
   ]
  },
  {
   "cell_type": "markdown",
   "id": "7bac4dbf-0f5a-4432-a699-abc07d486b97",
   "metadata": {},
   "source": [
    "> 这里需要注意的是，对于审查函数而言，不仅可以审查提示流程是否合理、代码能否运行，如果有必要的话，也可以围绕代码风格和代码合规性进行审查。"
   ]
  },
  {
   "cell_type": "markdown",
   "id": "1863da29-7367-4863-ad46-edabdb4e9c6e",
   "metadata": {},
   "source": [
    "接下来我们检测该函数能否正常执行审查任务。需要注意的是，该函数定义时是默认审查untested文件夹内的函数，这里我们将此前创建的错误函数get_first_email函数文件夹放入untested文件夹内，然后直接使用prompt_modified函数进行测试，测试结果如下："
   ]
  },
  {
   "cell_type": "code",
   "execution_count": 80,
   "id": "b9906dcd-5c3d-4c97-8337-c9987ef90a32",
   "metadata": {
    "tags": []
   },
   "outputs": [
    {
     "name": "stdout",
     "output_type": "stream",
     "text": [
      "正在执行审查函数，审查对象：get_first_email\n",
      "审查结束，新的函数名称为：get_first_email。\n",
      "正在运行该函数定义过程，并保存函数源码与prompt\n",
      "新函数提示示例保存在./functions/untested functions/get_first_email/get_first_email_prompt.json文件中\n",
      "get_first_email函数已在当前操作空间定义，可以进行效果测试\n"
     ]
    },
    {
     "data": {
      "text/plain": [
       "'get_first_email'"
      ]
     },
     "execution_count": 80,
     "metadata": {},
     "output_type": "execute_result"
    }
   ],
   "source": [
    "prompt_modified(function_name='get_first_email', model=\"gpt-4-0613\", g=globals())"
   ]
  },
  {
   "cell_type": "code",
   "execution_count": 84,
   "id": "4b194207-7d22-429a-b967-5ae37d97f9a6",
   "metadata": {
    "tags": []
   },
   "outputs": [
    {
     "data": {
      "text/plain": [
       "\u001b[1;31mSignature:\u001b[0m \u001b[0mget_first_email\u001b[0m\u001b[1;33m(\u001b[0m\u001b[0muserId\u001b[0m\u001b[1;33m=\u001b[0m\u001b[1;34m'me'\u001b[0m\u001b[1;33m)\u001b[0m\u001b[1;33m\u001b[0m\u001b[1;33m\u001b[0m\u001b[0m\n",
       "\u001b[1;31mDocstring:\u001b[0m\n",
       "查询Gmail邮箱中第一封邮件信息\n",
       ":param userId: 必要参数，字符串类型，用于表示需要查询的邮箱ID，    注意，当查询我的邮箱时，userId需要输入'me'；\n",
       ":return：包含第一封邮件的收件时间和邮件内容的对象，该对象由Gmail API创建得到，且保存为JSON格式\n",
       "\u001b[1;31mFile:\u001b[0m      Dynamically generated function. No source code available.\n",
       "\u001b[1;31mType:\u001b[0m      function"
      ]
     },
     "metadata": {},
     "output_type": "display_data"
    }
   ],
   "source": [
    "get_first_email?"
   ]
  },
  {
   "cell_type": "code",
   "execution_count": 85,
   "id": "f1d041bd-b8df-459a-be21-040c11065264",
   "metadata": {
    "collapsed": true,
    "jupyter": {
     "outputs_hidden": true
    },
    "tags": []
   },
   "outputs": [
    {
     "data": {
      "text/plain": [
       "'{\"id\": \"189a22b5b8bd3b02\", \"threadId\": \"189a22b5b8bd3b02\", \"labelIds\": [\"UNREAD\", \"IMPORTANT\", \"CATEGORY_PERSONAL\", \"INBOX\"], \"snippet\": \"\\\\u4f60\\\\u597d\", \"payload\": {\"partId\": \"\", \"mimeType\": \"multipart/alternative\", \"filename\": \"\", \"headers\": [{\"name\": \"Delivered-To\", \"value\": \"ksken166@gmail.com\"}, {\"name\": \"Received\", \"value\": \"by 2002:a05:7022:391:b0:68:fa06:8e83 with SMTP id 17csp1296694dlc;        Sat, 29 Jul 2023 08:01:38 -0700 (PDT)\"}, {\"name\": \"X-Google-Smtp-Source\", \"value\": \"APBJJlGBmPj+ot/fli8NnuhSR3GDRBjgbng8hkqdYdS46UgKqx4+1DBhrME+djgWIEAxRk4DoDjd\"}, {\"name\": \"X-Received\", \"value\": \"by 2002:a17:90b:3ec7:b0:268:6838:ec53 with SMTP id rm7-20020a17090b3ec700b002686838ec53mr4811661pjb.1.1690642897871;        Sat, 29 Jul 2023 08:01:37 -0700 (PDT)\"}, {\"name\": \"ARC-Seal\", \"value\": \"i=1; a=rsa-sha256; t=1690642897; cv=none;        d=google.com; s=arc-20160816;        b=hhau33ELBfWIJyz/vfougtEo3femzAIamahQGIoDbtImxBWwxKR2EBB6ozMi9Qn66i         dSDcI5ZR595CrECf1KlxSfJRp8xewF7DCQ2rX8BEduTBIp0r28f9XNDhjwwEoy/3+GHk         FwlSJuwVhUo4UPRUlZ3ukyF+C73aDepqAP8A53O5GeGxfl/TYwkxq0QHEjvicNDPQxkK         CegWUgsBhowTAfvJegXwVCvev0fqKAdGjnur9smiqX/QlYNE+Aoi6+YNtfczbTyjEvcB         jy208uIAPZDDZHZzs/9aTyJhXpzFs83WHtjMUa9HOOK+r3UUnaDBUpaa+TFt9iFnoaUD         0UCQ==\"}, {\"name\": \"ARC-Message-Signature\", \"value\": \"i=1; a=rsa-sha256; c=relaxed/relaxed; d=google.com; s=arc-20160816;        h=message-id:date:content-transfer-encoding:mime-version:subject:to         :from:dkim-signature;        bh=WOTWQCbJwJiSaMNorOitmtCtxHQxl1tajoFFHp0GnEw=;        fh=xWQj+mUExvvzJonUvGH4v1dU/RO9Is3ZjYXf9QVmu+Y=;        b=sISca0LX8OszFqbYXwvznGWzukIdgbloSqo03nxUL7/FYzoJBJBwuvqyjEbPoT/Pk7         g+W1JLAkPwX9eZRajMN1aU4WohBwT3hzHlyJ9r8TjmBI3L4G9RAz83mr3K14UlvH8293         412U9iVED8lQkzUU7caYj8thIbsyybki2B56/0Xr66C4vHAz9XHQTtJV30gh9vGmTuov         g0BH9KVZONoZuag6zpDOxJ5yhaQz1iRrvM8Z9i/nhsAAkiiRjKzw+zb2Op9PsBafB8RB         9j4ZxnbfS/RyRHGy//kCVWLmoCEELU5OALyyOAfiZaeJ85tVVMHPaO9TH1mulIP8Aq7r         /yng==\"}, {\"name\": \"ARC-Authentication-Results\", \"value\": \"i=1; mx.google.com;       dkim=pass header.i=@qq.com header.s=s201512 header.b=AGrzPorC;       spf=pass (google.com: domain of 2323365771@qq.com designates 203.205.221.153 as permitted sender) smtp.mailfrom=2323365771@qq.com;       dmarc=pass (p=QUARANTINE sp=QUARANTINE dis=NONE) header.from=qq.com\"}, {\"name\": \"Return-Path\", \"value\": \"<2323365771@qq.com>\"}, {\"name\": \"Received\", \"value\": \"from out203-205-221-153.mail.qq.com (out203-205-221-153.mail.qq.com. [203.205.221.153])        by mx.google.com with ESMTPS id w7-20020a636207000000b00563de041d37si4534411pgb.368.2023.07.29.08.01.37        for <ksken166@gmail.com>        (version=TLS1_2 cipher=ECDHE-ECDSA-AES128-GCM-SHA256 bits=128/128);        Sat, 29 Jul 2023 08:01:37 -0700 (PDT)\"}, {\"name\": \"Received-SPF\", \"value\": \"pass (google.com: domain of 2323365771@qq.com designates 203.205.221.153 as permitted sender) client-ip=203.205.221.153;\"}, {\"name\": \"Authentication-Results\", \"value\": \"mx.google.com;       dkim=pass header.i=@qq.com header.s=s201512 header.b=AGrzPorC;       spf=pass (google.com: domain of 2323365771@qq.com designates 203.205.221.153 as permitted sender) smtp.mailfrom=2323365771@qq.com;       dmarc=pass (p=QUARANTINE sp=QUARANTINE dis=NONE) header.from=qq.com\"}, {\"name\": \"DKIM-Signature\", \"value\": \"v=1; a=rsa-sha256; c=relaxed/relaxed; d=qq.com; s=s201512; t=1690642896; bh=WOTWQCbJwJiSaMNorOitmtCtxHQxl1tajoFFHp0GnEw=; h=From:To:Subject:Date; b=AGrzPorClabzrcwtFlIr3H+zhVIwAcYfTAR2O3bNlLGonPqi05PDTYusCah0yCzeC\\\\t CsZ33JeVtNg08F7GfBumziw0GI50UhXm578Iby6EDazdYHcBjyKmhhbhHG0wu8Vc/o\\\\t bUcSXHdb1GE0e5SjO5lE9MqwRd/uIBTUPbYQH6PQ=\"}, {\"name\": \"X-QQ-XMRINFO\", \"value\": \"Mp0Kj//9VHAxr69bL5MkOOs=\"}, {\"name\": \"X-QQ-XMAILINFO\", \"value\": \"MIlztXBrKXKHS110MH3ffWfnSQDCkQBp6jpRV2hIDTePZ+FLMvwXMM4dus3icZ\\\\t liZFGk2jeWpII7ntCQx94P+R+zd8t3c5ai49Bleh307znZEonaoMOY6Z3Nx00NJFGe5o49W+LIlr1\\\\t Kq+oaOGKTSjURa9GeZ9j2Xc09lFX+dWNmHq0bTKCFzX/7SQ5azFhV4PSxXqNO+N6arrGAB3bmhdqi\\\\t x6UZSg4kTNuAMN/Hkh3Yem6y2mJQeRx2zwStQOY7Z8eT0Ri5gD1Fb7wWyR4nOS6cdPw+chFGFYknT\\\\t NB2g4clrR6jgvRnAer5ByajYp+FoJaYqDS2mhkEGhHJ4ygD+RzwogA45gOeY2JmTy0TVE29jP3Wn3\\\\t uEHwqoKRRap7oyq5XASC2sFdFlnCXR0ydwUYob6sBGDL6XHjSU2fBu7vQ7iufXCqBqkoJ/M4xtSDw\\\\t /wuSPCDilWOcXWm7jFfZSrbDbVrG3RniU3FWYJuszXh4m6jE2EKeAQotIJH8leVlW3uK5Ok/F2yht\\\\t Pcp6xMtZj3nnC8HgHwRCgS3si2QphM1qmPEmlxgHnsTazFAGDU8x9eUSUrpy+vydZ74ar8cuom6pe\\\\t M7G+GJEFVGn16RHXQvjp9aQH9PYA5Z+5YjT5SP08Lyn7vd7iSNbyaZLubOuaWO6NmnQSGunZPzjXB\\\\t 6XwkWxuR2T1Ashar92SvmjFZg4j06mfd7sKetShTROrLJoOO5dsnwN2sTKtI8Sb80V6LIegSJ0kW5\\\\t pnhe4voM/+mEwBRnT6zG+uZepBApqJp+JQNQ+k3qddwTV/tiivVmxpA9P8k6Ykf6jF+QrWqP6u/A2\\\\t XeHz7fWh4TzS7xGLNs37oZ3Vojb7Qpitz2cjPhnHkbYAz6H8jfshHxncHw1KPA75EkFBE72sgN8is\\\\t Pp4aWIzvGi4H74Nnl9kghE7QCtR4otofmEvZhgi7SZsQJKe5YA4SHpRhnm/bwgEMlfUms1k0eQU7w\\\\t lRL0JeTQ==\"}, {\"name\": \"From\", \"value\": \"\\\\\"\\\\u7aef\\\\u6728\\\\u5929\\\\\" <2323365771@qq.com>\"}, {\"name\": \"To\", \"value\": \"ksken166 <ksken166@gmail.com>\"}, {\"name\": \"Subject\", \"value\": \"\\\\u4f60\\\\u597d\"}, {\"name\": \"Mime-Version\", \"value\": \"1.0\"}, {\"name\": \"Content-Type\", \"value\": \"multipart/alternative; boundary=\\\\\"----=_NextPart_64C529D0_A7345400_592EE42F\\\\\"\"}, {\"name\": \"Content-Transfer-Encoding\", \"value\": \"8Bit\"}, {\"name\": \"Date\", \"value\": \"Sat, 29 Jul 2023 23:01:36 +0800\"}, {\"name\": \"X-Priority\", \"value\": \"3\"}, {\"name\": \"Message-ID\", \"value\": \"<tencent_294F0755AEEF4318298918BFD073D88E9506@qq.com>\"}, {\"name\": \"X-QQ-MIME\", \"value\": \"TCMime 1.0 by Tencent\"}, {\"name\": \"X-Mailer\", \"value\": \"QQMail 2.x\"}, {\"name\": \"X-QQ-Mailer\", \"value\": \"QQMail 2.x\"}, {\"name\": \"X-QQ-mid\", \"value\": \"xmapszb2-0t1690642896t229s6s23\"}], \"body\": {\"size\": 0}, \"parts\": [{\"partId\": \"0\", \"mimeType\": \"text/plain\", \"filename\": \"\", \"headers\": [{\"name\": \"Content-Type\", \"value\": \"text/plain; charset=\\\\\"utf-8\\\\\"\"}, {\"name\": \"Content-Transfer-Encoding\", \"value\": \"base64\"}], \"body\": {\"size\": 6, \"data\": \"5L2g5aW9\"}}, {\"partId\": \"1\", \"mimeType\": \"text/html\", \"filename\": \"\", \"headers\": [{\"name\": \"Content-Type\", \"value\": \"text/html; charset=\\\\\"utf-8\\\\\"\"}, {\"name\": \"Content-Transfer-Encoding\", \"value\": \"base64\"}], \"body\": {\"size\": 6, \"data\": \"5L2g5aW9\"}}]}, \"sizeEstimate\": 5229, \"historyId\": \"2945\", \"internalDate\": \"1690642896000\"}'"
      ]
     },
     "execution_count": 85,
     "metadata": {},
     "output_type": "execute_result"
    }
   ],
   "source": [
    "get_first_email()"
   ]
  },
  {
   "cell_type": "markdown",
   "id": "1eba6336-bf3d-4374-8230-53b61dfa1df9",
   "metadata": {},
   "source": [
    "<center><img src=\"https://ml2022.oss-cn-hangzhou.aliyuncs.com/img/1690794360312.png\" alt=\"1690794360312\" style=\"zoom:33%;\" />"
   ]
  },
  {
   "cell_type": "markdown",
   "id": "2b0827c5-11fc-4bf2-a078-4bb3d28f171c",
   "metadata": {},
   "source": [
    "能够发现，审查函数能够顺利输出正确的审查结果。"
   ]
  },
  {
   "cell_type": "markdown",
   "id": "39bfd8f8-b933-400c-af90-42a582b4cf23",
   "metadata": {},
   "source": [
    "- 自动debug函数创建过程"
   ]
  },
  {
   "cell_type": "markdown",
   "id": "65069ac8-4815-4a98-80e3-b28fb13c0c84",
   "metadata": {},
   "source": [
    "&emsp;&emsp;而有了审查函数之后，接下来我们即可将此前介绍的一系列debug方法进行整合，通过代码环境中的input交互方式进行自动debug。该函数名称为function_test，可以围绕外部函数可能出错的各个环节进行提示和自动修改。该函数的核心功能如下："
   ]
  },
  {
   "cell_type": "markdown",
   "id": "00be0278-841d-4bc8-a9dc-c97cac7ef55d",
   "metadata": {},
   "source": [
    "<center><img src=\"https://ml2022.oss-cn-hangzhou.aliyuncs.com/img/code_generate%E5%87%BD%E6%95%B0%E5%88%9B%E5%BB%BA%E6%B5%81%E7%A8%8B.png\" alt=\"code_generate函数创建流程\" style=\"zoom:33%;\" />"
   ]
  },
  {
   "cell_type": "markdown",
   "id": "91062da5-820a-4eda-8154-d08c660cc515",
   "metadata": {},
   "source": [
    "能够看出，该函数能够借助run_conversion函数的输出结果，来测试外部函数功能是否符合要求，并且集成了再次运行、重新输入用户需求和运行审查函数三种不同的debug方法，同时可以在运行的过程中实时调整Few-shot方法。并且，该函数可以直接读取文件库中相关函数和代码，同时还可以根据最终的审查结果来将新创建的外部函数从untested文件夹内转移至tested文件夹内，从而实现tested函数库的更新。"
   ]
  },
  {
   "cell_type": "markdown",
   "id": "aa145493-4d29-4411-82cb-1bc001aecb0c",
   "metadata": {},
   "source": [
    "&emsp;&emsp;接下来我们就进行该函数的定义过程。这里需要注意的是，由于后续我们需要将function_test和上一小节定义的code_generate函数进行“联动”，将其封装在一个可以全自动进行函数定义和功能测试的函数中，因此function_test的参数定义和code_generate保持完全一致。该函数的定义过程如下："
   ]
  },
  {
   "cell_type": "code",
   "execution_count": 3,
   "id": "87b3784d-2938-4902-aef4-969eee5a0215",
   "metadata": {
    "tags": []
   },
   "outputs": [],
   "source": [
    "def function_test(function_name, req, few_shot, model=\"gpt-4-0613\", g=globals()):\n",
    "\n",
    "    def test_messages(ueser_content):\n",
    "        messages = [{\"role\": \"system\", \"content\": \"端木天的邮箱地址是:2323365771@qq.com\"},\n",
    "                    {\"role\": \"system\", \"content\": \"我的邮箱地址是:ksken166@gmail.com\"},\n",
    "                    {\"role\": \"user\", \"content\": ueser_content}]\n",
    "        return messages\n",
    "            \n",
    "    messages = test_messages(req)\n",
    "    \n",
    "    new_function = globals()[function_name]\n",
    "    functions_list = [new_function]\n",
    "    \n",
    "    print(\"根据既定用户需求req进行%s函数功能测试，请确保当该函数已经在当前操作空间定义...\" % function_name)\n",
    "    \n",
    "    # 有可能在run_conversation环节报错\n",
    "    # 若没报错，则运行：\n",
    "    try:\n",
    "        final_response = run_conversation(messages=messages, functions_list=functions_list, model=model)\n",
    "        print(\"当前函数运行结果：'%s'\" % final_response)\n",
    "        \n",
    "        feedback = input(\"函数功能是否满足要求 (yes/no)? \")\n",
    "        if feedback.lower() == 'yes':\n",
    "            print(\"函数功能通过测试，正在将函数写入tested文件夹\")\n",
    "            remove_to_tested(function_name)\n",
    "            print('done')\n",
    "        else:\n",
    "            next_step = input(\"函数功能未通过测试，是1.需要再次进行测试，还是2.进入debug流程？\")\n",
    "            if next_step == '1':\n",
    "                print(\"准备再次测试...\")\n",
    "                function_test(function_name, req, few_shot)\n",
    "            else:\n",
    "                solution = input(\"请选择debug方案：\\n1.再次执行函数创建流程，并测试结果；\\n2.执行审查函数\\\n",
    "                \\n3.重新输入用户需求；\\n4.退出程序，进行手动尝试\")\n",
    "                if solution == '1':\n",
    "                    # 再次运行函数创建过程\n",
    "                    print(\"好的，正在尝试再次创建函数，请稍等...\")\n",
    "                    few_shot_str = input(\"准备再次测试，请问是1.采用此前Few-shot方案，还是2.带入全部函数示例进行Few-shot？\")\n",
    "                    if few_shot_str == '1':\n",
    "                        function_name = code_generate(req=req, few_shot=few_shot, model=model, g=g)\n",
    "                    else:\n",
    "                        function_name = code_generate(req=req, few_shot='all', model=model, g=g)\n",
    "                    function_test(function_name=function_name, req=req, few_shot=few_shot, g=g)\n",
    "                elif solution == '2':\n",
    "                    # 执行审查函数\n",
    "                    print(\"好的，执行审查函数，请稍等...\")\n",
    "                    function_name = prompt_modified(function_name=function_name, model=\"gpt-3.5-turbo-16k-0613\", g=g)\n",
    "                    # 接下来带入进行测试\n",
    "                    print(\"新函数已创建，接下来带入进行测试...\")\n",
    "                    function_test(function_name=function_name, req=req, few_shot=few_shot, g=g)\n",
    "                elif solution == '3':\n",
    "                    new_req = input(\"好的，请再次输入用户需求，请注意，用户需求描述方法将极大程度影响最终函数创建结果。\")\n",
    "                    few_shot_str = input(\"接下来如何运行代码创建函数？1.采用此前Few-shot方案；\\n2.使用全部外部函数作为Few-shot\")\n",
    "                    if few_shot_str == '1':\n",
    "                        function_name = code_generate(req=new_req, few_shot=few_shot, model=model, g=g)\n",
    "                    else:\n",
    "                        function_name = code_generate(req=new_req, few_shot='all', model=model, g=g)\n",
    "                    function_test(function_name=function_name, req=new_req, few_shot=few_shot, g=g)\n",
    "                elif solution == '4':\n",
    "                    print(\"好的，预祝debug顺利~\")\n",
    "        \n",
    "    # run_conversation报错时则运行：\n",
    "    except Exception as e:\n",
    "        next_step = input(\"run_conversation无法正常运行，接下来是1.再次运行运行run_conversation，还是2.进入debug流程？\")\n",
    "        if next_step == '1':\n",
    "            function_test(function_name, req, few_shot)\n",
    "        else:\n",
    "            solution = input(\"请选择debug方案：\\n1.再次执行函数创建流程，并测试结果；\\n2.执行审查函数\\\n",
    "            \\n3.重新输入用户需求；\\n4.退出程序，进行手动尝试\")\n",
    "            if solution == '1':\n",
    "                # 再次运行函数创建过程\n",
    "                print(\"好的，正在尝试再次创建函数，请稍等...\")\n",
    "                few_shot_str = input(\"准备再次测试，请问是1.采用此前Few-shot方案，还是2.带入全部函数示例进行Few-shot？\")\n",
    "                if few_shot_str == '1':\n",
    "                    function_name = code_generate(req=req, few_shot=few_shot, model=model, g=g)\n",
    "                else:\n",
    "                    function_name = code_generate(req=req, few_shot='all', model=model, g=g)\n",
    "                function_test(function_name=function_name, req=req, few_shot=few_shot, g=g)\n",
    "            elif solution == '2':\n",
    "                # 执行审查函数\n",
    "                print(\"好的，执行审查函数，请稍等...\")\n",
    "                max_attempts = 3\n",
    "                attempts = 0\n",
    "\n",
    "                while attempts < max_attempts:\n",
    "                    try:\n",
    "                        function_name = prompt_modified(function_name=function_name, model=\"gpt-3.5-turbo-16k-0613\", g=g)\n",
    "                        break  # 如果代码成功执行，跳出循环\n",
    "                    except Exception as e:\n",
    "                        attempts += 1  # 增加尝试次数\n",
    "                        print(\"发生错误：\", e)\n",
    "                        if attempts == max_attempts:\n",
    "                            print(\"已达到最大尝试次数，程序终止。\")\n",
    "                            raise  # 重新引发最后一个异常\n",
    "                        else:\n",
    "                            print(\"正在重新运行审查程序...\")\n",
    "                # 接下来带入进行测试\n",
    "                print(\"新函数已创建，接下来带入进行测试...\")\n",
    "                function_test(function_name=function_name, req=req, few_shot=few_shot, g=g)\n",
    "            elif solution == '3':\n",
    "                new_req = input(\"好的，请再次输入用户需求，请注意，用户需求描述方法将极大程度影响最终函数创建结果。\")\n",
    "                few_shot_str = input(\"接下来如何运行代码创建函数？1.采用此前Few-shot方案；\\n2.使用全部外部函数作为Few-shot\")\n",
    "                if few_shot_str == '1':\n",
    "                    function_name = code_generate(req=new_req, few_shot=few_shot, model=model, g=g)\n",
    "                else:\n",
    "                    function_name = code_generate(req=new_req, few_shot='all', model=model, g=g)\n",
    "                function_test(function_name=function_name, req=new_req, few_shot=few_shot, g=g)\n",
    "            elif solution == '4':\n",
    "                print(\"好的，预祝debug顺利~\")"
   ]
  },
  {
   "cell_type": "markdown",
   "id": "394521b1-bfaf-4584-acf8-604cfb0a10a1",
   "metadata": {},
   "source": [
    "接下来我们再次读取此前出现错误的get_first_email函数并在本地进行定义，然后测试function_test函数的debug流程："
   ]
  },
  {
   "cell_type": "code",
   "execution_count": 5,
   "id": "c965f074-07bd-4ba8-b363-012ce41f2af2",
   "metadata": {
    "tags": []
   },
   "outputs": [],
   "source": [
    "with open('./functions/wrong code/get_first_email/get_first_email_module.py', encoding='utf-8') as f:\n",
    "    code  = f.read()"
   ]
  },
  {
   "cell_type": "code",
   "execution_count": 6,
   "id": "4fe600dc-9be0-492b-bd59-9f4f8c7948b7",
   "metadata": {
    "tags": []
   },
   "outputs": [
    {
     "data": {
      "text/plain": [
       "'def get_first_email(userId=\\'me\\'):\\n    \"\"\"\\n    查询Gmail邮箱中第一封邮件信息\\n    :param userId: 必要参数，字符串类型，用于表示需要查询的邮箱ID，\\\\\\n    注意，当查询我的邮箱时，userId需要输入\\'me\\'；\\n    :return：包含第一封邮件的收件时间和邮件内容的对象，该对象由Gmail API创建得到，且保存为JSON格式\\n    \"\"\"\\n    \\n    # 从本地文件中加载凭据\\n    creds = Credentials.from_authorized_user_file(\\'token.json\\')\\n    \\n    # 创建 Gmail API 客户端\\n    service = build(\\'gmail\\', \\'v1\\', credentials=creds)\\n    \\n    # 列出用户的全部邮件\\n    results = service.users().messages().list(userId=userId).execute()\\n    messages = results.get(\\'messages\\', [])\\n    \\n    # 获取第一封邮件的 Id\\n    msg_id = messages[-1][\"id\"]\\n\\n    msg = service.users().messages().get(userId=\\'me\\', id=msg_id).execute()\\n        \\n    # 获取邮件内容\\n    payload = msg[\\'payload\\']\\n    headers = payload[\\'headers\\']\\n    \\n    for header in headers:\\n        name = header[\\'name\\']\\n        if name == \"Date\":\\n            message_date = header[\\'value\\']\\n            # 解析获得的时间字符串\\n            message_timestamp = parsedate(message_date)\\n        if name == \"Subject\":\\n            subject = header[\\'value\\']\\n    \\n    # 将邮件数据以 JSON 格式返回\\n    result = {\\n        \"date\": message_date,\\n        \"content\": subject\\n    }\\n    \\n    return json.dumps(result)'"
      ]
     },
     "execution_count": 6,
     "metadata": {},
     "output_type": "execute_result"
    }
   ],
   "source": [
    "code"
   ]
  },
  {
   "cell_type": "code",
   "execution_count": 7,
   "id": "82ef734b-623e-4618-b425-9e9e753153fc",
   "metadata": {
    "tags": []
   },
   "outputs": [],
   "source": [
    "exec(code)"
   ]
  },
  {
   "cell_type": "code",
   "execution_count": 8,
   "id": "660c4c18-ce01-4468-9488-c5d85bb401a4",
   "metadata": {
    "tags": []
   },
   "outputs": [
    {
     "ename": "NameError",
     "evalue": "name 'parsedate' is not defined",
     "output_type": "error",
     "traceback": [
      "\u001b[1;31m---------------------------------------------------------------------------\u001b[0m",
      "\u001b[1;31mNameError\u001b[0m                                 Traceback (most recent call last)",
      "Cell \u001b[1;32mIn[8], line 1\u001b[0m\n\u001b[1;32m----> 1\u001b[0m \u001b[43mget_first_email\u001b[49m\u001b[43m(\u001b[49m\u001b[43m)\u001b[49m\n",
      "File \u001b[1;32m<string>:33\u001b[0m, in \u001b[0;36mget_first_email\u001b[1;34m(userId)\u001b[0m\n",
      "\u001b[1;31mNameError\u001b[0m: name 'parsedate' is not defined"
     ]
    }
   ],
   "source": [
    "get_first_email()"
   ]
  },
  {
   "cell_type": "markdown",
   "id": "23d9680f-9b7b-4b08-98cc-cc5e3a799d36",
   "metadata": {},
   "source": [
    "而接下来借助function_test进行debug的流程如下："
   ]
  },
  {
   "cell_type": "code",
   "execution_count": 143,
   "id": "33de4ee9-91ce-4e02-8221-8f81cf839a4f",
   "metadata": {
    "tags": []
   },
   "outputs": [
    {
     "name": "stdout",
     "output_type": "stream",
     "text": [
      "根据既定用户需求req进行get_first_email函数功能测试，请确保当该函数已经在当前操作空间定义...\n"
     ]
    },
    {
     "name": "stdin",
     "output_type": "stream",
     "text": [
      "run_conversation无法正常运行，接下来是1.再次运行运行run_conversation，还是2.进入debug流程？ 2\n",
      "请选择debug方案：\n",
      "1.再次执行函数创建流程，并测试结果；\n",
      "2.执行审查函数            \n",
      "3.重新输入用户需求；\n",
      "4.退出程序，进行手动尝试 1\n"
     ]
    },
    {
     "name": "stdout",
     "output_type": "stream",
     "text": [
      "好的，正在尝试再次创建函数，请稍等...\n"
     ]
    },
    {
     "name": "stdin",
     "output_type": "stream",
     "text": [
      "准备再次测试，请问是1.采用此前Few-shot方案，还是2.带入全部函数示例进行Few-shot？ 1\n"
     ]
    },
    {
     "name": "stdout",
     "output_type": "stream",
     "text": [
      "第一阶段CD环节提示创建完毕，正在进行CD提示...\n",
      "第一阶段CD环节提示完毕\n",
      "第一阶段CM环节提示创建完毕，正在进行第一阶段CM提示...\n",
      "第一阶段CM环节提示完毕\n",
      "第二阶段提示创建完毕，正在进行第二阶段提示...\n",
      "第二阶段提示完毕，准备运行函数并编写提示示例\n",
      "The function name is:get_specific_email\n",
      "新函数保存在./functions/untested functions/get_specific_email/get_specific_email_module.py文件中\n",
      "新函数提示示例保存在./functions/untested functions/get_specific_email/get_specific_email_prompt.json文件中\n",
      "done\n",
      "根据既定用户需求req进行get_specific_email函数功能测试，请确保当该函数已经在当前操作空间定义...\n",
      "当前函数运行结果：'你的邮箱中的第一封邮件是来自端木天的，邮箱地址为2323365771@qq.com，邮件的主要内容是\"你好\"。'\n"
     ]
    },
    {
     "name": "stdin",
     "output_type": "stream",
     "text": [
      "函数功能是否满足要求 (yes/no)?  no\n",
      "函数功能未通过测试，是1.需要再次进行测试，还是2.进入debug流程？ 2\n",
      "请选择debug方案：\n",
      "1.再次执行函数创建流程，并测试结果；\n",
      "2.执行审查函数                \n",
      "3.重新输入用户需求；\n",
      "4.退出程序，进行手动尝试 2\n"
     ]
    },
    {
     "name": "stdout",
     "output_type": "stream",
     "text": [
      "好的，执行审查函数，请稍等...\n",
      "正在执行审查函数，审查对象：get_specific_email\n",
      "审查结束，新的函数名称为：get_specific_email。\n",
      "正在运行该函数定义过程，并保存函数源码与prompt\n",
      "新函数提示示例保存在./functions/untested functions/get_specific_email/get_specific_email_prompt.json文件中\n",
      "get_specific_email函数已在当前操作空间定义，可以进行效果测试\n",
      "新函数已创建，接下来带入进行测试...\n",
      "根据既定用户需求req进行get_specific_email函数功能测试，请确保当该函数已经在当前操作空间定义...\n",
      "当前函数运行结果：'第一封邮件的发件人是“端木天”，邮件地址为2323365771@qq.com，邮件的主要内容是“你好”。'\n"
     ]
    },
    {
     "name": "stdin",
     "output_type": "stream",
     "text": [
      "函数功能是否满足要求 (yes/no)?  no\n",
      "函数功能未通过测试，是1.需要再次进行测试，还是2.进入debug流程？ 2\n",
      "请选择debug方案：\n",
      "1.再次执行函数创建流程，并测试结果；\n",
      "2.执行审查函数                \n",
      "3.重新输入用户需求；\n",
      "4.退出程序，进行手动尝试 3\n",
      "好的，请再次输入用户需求，请注意，用户需求描述方法将极大程度影响最终函数创建结果。 请帮我查下我的邮箱里面最早的一封邮件发件人和邮件主要内容\n",
      "接下来如何运行代码创建函数？1.采用此前Few-shot方案；\n",
      "2.使用全部外部函数作为Few-shot 1\n"
     ]
    },
    {
     "name": "stdout",
     "output_type": "stream",
     "text": [
      "第一阶段CD环节提示创建完毕，正在进行CD提示...\n",
      "第一阶段CD环节提示完毕\n",
      "第一阶段CM环节提示创建完毕，正在进行第一阶段CM提示...\n",
      "第一阶段CM环节提示完毕\n",
      "第二阶段提示创建完毕，正在进行第二阶段提示...\n",
      "第二阶段提示完毕，准备运行函数并编写提示示例\n",
      "The function name is:get_oldest_email\n",
      "新函数保存在./functions/untested functions/get_oldest_email/get_oldest_email_module.py文件中\n",
      "新函数提示示例保存在./functions/untested functions/get_oldest_email/get_oldest_email_prompt.json文件中\n",
      "done\n",
      "根据既定用户需求req进行get_oldest_email函数功能测试，请确保当该函数已经在当前操作空间定义...\n",
      "当前函数运行结果：'您的最早的一封邮件来自于“Google Payments <payments-noreply@google.com>”，邮件内容主要是告知您一个用户Georgia Kinghorne已经更改了他的Google账户的联系人电子邮件地址，付款资料 ID 为 4010-6037-4228 ，他的电子邮件地址从 2323365771@qq.com 更改为ksken166@gmail.com，并且在付款资料中我们已经更新了他的电子邮件地址以显示这一改变。'\n"
     ]
    },
    {
     "name": "stdin",
     "output_type": "stream",
     "text": [
      "函数功能是否满足要求 (yes/no)?  yes\n"
     ]
    },
    {
     "name": "stdout",
     "output_type": "stream",
     "text": [
      "函数功能通过测试，正在将函数写入tested文件夹\n",
      "done\n"
     ]
    }
   ],
   "source": [
    "function_test(function_name = 'get_first_email', \n",
    "              req = '请帮我查下我的邮箱里面第一封邮件发件人和邮件主要内容', \n",
    "              few_shot = 'all')"
   ]
  },
  {
   "cell_type": "markdown",
   "id": "7ae46bb8-8c07-4c82-8fcb-6bc2aeba9db1",
   "metadata": {},
   "source": [
    "而顺利运行完了之后，我们即可在tested文件夹内查看对应函数、代码和提示："
   ]
  },
  {
   "cell_type": "markdown",
   "id": "13b9ae55-40b8-40a3-b830-fa69dae59b29",
   "metadata": {},
   "source": [
    "<center><img src=\"https://ml2022.oss-cn-hangzhou.aliyuncs.com/img/5c1f0b0d5e62909b92cccae85dbb50c.png\" alt=\"5c1f0b0d5e62909b92cccae85dbb50c\" style=\"zoom:33%;\" />"
   ]
  },
  {
   "cell_type": "markdown",
   "id": "19214ce9-aeac-42f8-a872-1de941ab4587",
   "metadata": {},
   "source": [
    "<center><img src=\"https://ml2022.oss-cn-hangzhou.aliyuncs.com/img/385bb75b5821d928eace2669db39e85.png\" alt=\"385bb75b5821d928eace2669db39e85\" style=\"zoom:33%;\" />"
   ]
  },
  {
   "cell_type": "markdown",
   "id": "2c993f24-2fed-4c0c-b487-220c6b508e15",
   "metadata": {},
   "source": [
    "- 全自动代码编写和debug函数："
   ]
  },
  {
   "cell_type": "markdown",
   "id": "4f5a56df-7b4f-4fd5-860c-b42edb152607",
   "metadata": {},
   "source": [
    "&emsp;&emsp;最后，我们即可将上一小节定义的code_generate函数和function_test函数封装在一个函数内进行协同，即围绕某个具体的编程需求，可以在一个函数内进行代码创建和交互审查："
   ]
  },
  {
   "cell_type": "markdown",
   "id": "06362c02-66f1-49ea-a97b-f85a89a68b6e",
   "metadata": {},
   "source": [
    "<center><img src=\"https://ml2022.oss-cn-hangzhou.aliyuncs.com/img/code_generate%E5%87%BD%E6%95%B0%E5%88%9B%E5%BB%BA%E6%B5%81%E7%A8%8B.png\" alt=\"code_generate函数创建流程\" style=\"zoom:33%;\" />"
   ]
  },
  {
   "cell_type": "code",
   "execution_count": 4,
   "id": "51929eae-236d-4e9e-9b03-7e1fa8c14d66",
   "metadata": {
    "tags": []
   },
   "outputs": [],
   "source": [
    "def Gmail_auto_func(req, few_shot='all', model='gpt-4-0613', g=globals(), detail=0):\n",
    "    function_name = code_generate(req, few_shot=few_shot, model=model, g=g, detail=detail)\n",
    "    function_test(function_name=function_name, req=req, few_shot=few_shot, model=model, g=g)"
   ]
  },
  {
   "cell_type": "markdown",
   "id": "1f5109de-b6a7-4d3c-a6e4-6997bfd373e4",
   "metadata": {},
   "source": [
    "至此，我们就完成了可以自动进行编码即代码审查的Gmail_auto_func函数全部定义过程。"
   ]
  },
  {
   "cell_type": "markdown",
   "id": "835cd1fa-4ef3-4879-a7cf-63bcde70218e",
   "metadata": {},
   "source": [
    "#### 2.2 自然语言编程性能测试"
   ]
  },
  {
   "cell_type": "markdown",
   "id": "e9e97589-55a8-4c11-8d27-a6f8ccb5c687",
   "metadata": {},
   "source": [
    "&emsp;&emsp;接下来我们围绕Gmail_auto_func进行更多的功能测试，为了更好的验证大预言模型的编程能力，以下问题多由学员随堂提出，具体问题以及模型创建代码过程如下："
   ]
  },
  {
   "cell_type": "markdown",
   "id": "954254f1-6a05-4fc0-9c7e-c5843af7fcfc",
   "metadata": {},
   "source": [
    "- Q1.'请帮我看下我的邮箱里面，来自端木天的邮件总共有几封。'：一次完成"
   ]
  },
  {
   "cell_type": "code",
   "execution_count": 172,
   "id": "4fcb9bfc-cb24-43fb-afe2-69a928e05b9b",
   "metadata": {
    "tags": []
   },
   "outputs": [
    {
     "name": "stdout",
     "output_type": "stream",
     "text": [
      "第一阶段CD环节提示创建完毕，正在进行CD提示...\n",
      "第一阶段CD环节提示完毕\n",
      "第一阶段CM环节提示创建完毕，正在进行第一阶段CM提示...\n",
      "第一阶段CM环节提示完毕\n",
      "第二阶段提示创建完毕，正在进行第二阶段提示...\n",
      "第二阶段提示完毕，准备运行函数并编写提示示例\n",
      "The function name is:count_emails_from_sender\n",
      "新函数保存在./functions/untested functions/count_emails_from_sender/count_emails_from_sender_module.py文件中\n",
      "新函数提示示例保存在./functions/untested functions/count_emails_from_sender/count_emails_from_sender_prompt.json文件中\n",
      "done\n",
      "根据既定用户需求req进行count_emails_from_sender函数功能测试，请确保当该函数已经在当前操作空间定义...\n",
      "当前函数运行结果：'来自端木天的邮件总共有4封。'\n"
     ]
    },
    {
     "name": "stdin",
     "output_type": "stream",
     "text": [
      "函数功能是否满足要求 (yes/no)?  yes\n"
     ]
    },
    {
     "name": "stdout",
     "output_type": "stream",
     "text": [
      "函数功能通过测试，正在将函数写入tested文件夹\n",
      "done\n"
     ]
    }
   ],
   "source": [
    "Gmail_auto_func(req = '请帮我看下我的邮箱里面，来自端木天的邮件总共有几封。')"
   ]
  },
  {
   "cell_type": "markdown",
   "id": "21f4400f-6edc-4312-8c8a-de9e36ade998",
   "metadata": {},
   "source": [
    "- Q2.'请帮我看下我的邮箱里面，来自端木天的邮件总共有几封。'：修改三次后完成"
   ]
  },
  {
   "cell_type": "code",
   "execution_count": 173,
   "id": "1d66afc7-6e19-4a64-a2a4-c6b27e951111",
   "metadata": {
    "collapsed": true,
    "jupyter": {
     "outputs_hidden": true
    },
    "tags": []
   },
   "outputs": [
    {
     "name": "stdout",
     "output_type": "stream",
     "text": [
      "第一阶段CD环节提示创建完毕，正在进行CD提示...\n",
      "第一阶段CD环节提示完毕\n",
      "第一阶段CM环节提示创建完毕，正在进行第一阶段CM提示...\n",
      "第一阶段CM环节提示完毕\n",
      "第二阶段提示创建完毕，正在进行第二阶段提示...\n",
      "第二阶段提示完毕，准备运行函数并编写提示示例\n",
      "The function name is:get_email_count_before_date\n",
      "新函数保存在./functions/untested functions/get_email_count_before_date/get_email_count_before_date_module.py文件中\n",
      "新函数提示示例保存在./functions/untested functions/get_email_count_before_date/get_email_count_before_date_prompt.json文件中\n",
      "done\n",
      "根据既定用户需求req进行get_email_count_before_date函数功能测试，请确保当该函数已经在当前操作空间定义...\n"
     ]
    },
    {
     "name": "stdin",
     "output_type": "stream",
     "text": [
      "run_conversation无法正常运行，接下来是1.再次运行运行run_conversation，还是2.进入debug流程？ 1\n"
     ]
    },
    {
     "name": "stdout",
     "output_type": "stream",
     "text": [
      "根据既定用户需求req进行get_email_count_before_date函数功能测试，请确保当该函数已经在当前操作空间定义...\n"
     ]
    },
    {
     "name": "stdin",
     "output_type": "stream",
     "text": [
      "run_conversation无法正常运行，接下来是1.再次运行运行run_conversation，还是2.进入debug流程？ 2\n",
      "请选择debug方案：\n",
      "1.再次执行函数创建流程，并测试结果；\n",
      "2.执行审查函数            \n",
      "3.重新输入用户需求；\n",
      "4.退出程序，进行手动尝试 1\n"
     ]
    },
    {
     "name": "stdout",
     "output_type": "stream",
     "text": [
      "好的，正在尝试再次创建函数，请稍等...\n"
     ]
    },
    {
     "name": "stdin",
     "output_type": "stream",
     "text": [
      "准备再次测试，请问是1.采用此前Few-shot方案，还是2.带入全部函数示例进行Few-shot？ 2\n"
     ]
    },
    {
     "name": "stdout",
     "output_type": "stream",
     "text": [
      "第一阶段CD环节提示创建完毕，正在进行CD提示...\n",
      "第一阶段CD环节提示完毕\n",
      "第一阶段CM环节提示创建完毕，正在进行第一阶段CM提示...\n",
      "第一阶段CM环节提示完毕\n",
      "第二阶段提示创建完毕，正在进行第二阶段提示...\n",
      "第二阶段提示完毕，准备运行函数并编写提示示例\n",
      "The function name is:count_emails_before_date\n",
      "新函数保存在./functions/untested functions/count_emails_before_date/count_emails_before_date_module.py文件中\n",
      "新函数提示示例保存在./functions/untested functions/count_emails_before_date/count_emails_before_date_prompt.json文件中\n",
      "done\n",
      "根据既定用户需求req进行count_emails_before_date函数功能测试，请确保当该函数已经在当前操作空间定义...\n"
     ]
    },
    {
     "name": "stdin",
     "output_type": "stream",
     "text": [
      "run_conversation无法正常运行，接下来是1.再次运行运行run_conversation，还是2.进入debug流程？ 2\n",
      "请选择debug方案：\n",
      "1.再次执行函数创建流程，并测试结果；\n",
      "2.执行审查函数            \n",
      "3.重新输入用户需求；\n",
      "4.退出程序，进行手动尝试 3\n",
      "好的，请再次输入用户需求，请注意，用户需求描述方法将极大程度影响最终函数创建结果。 '请帮我统计在我的邮箱里，收件时间在7月28号之前的邮件总共有几封。'\n",
      "接下来如何运行代码创建函数？1.采用此前Few-shot方案；\n",
      "2.使用全部外部函数作为Few-shot 2\n"
     ]
    },
    {
     "name": "stdout",
     "output_type": "stream",
     "text": [
      "第一阶段CD环节提示创建完毕，正在进行CD提示...\n",
      "第一阶段CD环节提示完毕\n",
      "第一阶段CM环节提示创建完毕，正在进行第一阶段CM提示...\n",
      "第一阶段CM环节提示完毕\n",
      "第二阶段提示创建完毕，正在进行第二阶段提示...\n",
      "第二阶段提示完毕，准备运行函数并编写提示示例\n",
      "The function name is:count_emails_before_date\n",
      "新函数保存在./functions/untested functions/count_emails_before_date/count_emails_before_date_module.py文件中\n",
      "新函数提示示例保存在./functions/untested functions/count_emails_before_date/count_emails_before_date_prompt.json文件中\n",
      "done\n",
      "根据既定用户需求req进行count_emails_before_date函数功能测试，请确保当该函数已经在当前操作空间定义...\n"
     ]
    },
    {
     "name": "stdin",
     "output_type": "stream",
     "text": [
      "run_conversation无法正常运行，接下来是1.再次运行运行run_conversation，还是2.进入debug流程？ 2\n",
      "请选择debug方案：\n",
      "1.再次执行函数创建流程，并测试结果；\n",
      "2.执行审查函数            \n",
      "3.重新输入用户需求；\n",
      "4.退出程序，进行手动尝试 3\n",
      "好的，请再次输入用户需求，请注意，用户需求描述方法将极大程度影响最终函数创建结果。 请帮我统计在我的邮箱里，收件时间在2023年7月28号之前的邮件总共有几封。\n",
      "接下来如何运行代码创建函数？1.采用此前Few-shot方案；\n",
      "2.使用全部外部函数作为Few-shot 2\n"
     ]
    },
    {
     "name": "stdout",
     "output_type": "stream",
     "text": [
      "第一阶段CD环节提示创建完毕，正在进行CD提示...\n",
      "第一阶段CD环节提示完毕\n",
      "第一阶段CM环节提示创建完毕，正在进行第一阶段CM提示...\n",
      "第一阶段CM环节提示完毕\n",
      "第二阶段提示创建完毕，正在进行第二阶段提示...\n",
      "第二阶段提示完毕，准备运行函数并编写提示示例\n",
      "The function name is:count_emails_before_date\n",
      "新函数保存在./functions/untested functions/count_emails_before_date/count_emails_before_date_module.py文件中\n",
      "新函数提示示例保存在./functions/untested functions/count_emails_before_date/count_emails_before_date_prompt.json文件中\n",
      "done\n",
      "根据既定用户需求req进行count_emails_before_date函数功能测试，请确保当该函数已经在当前操作空间定义...\n",
      "当前函数运行结果：'在你的邮箱中，收件时间在2023年7月28号之前的邮件总共有0封。'\n"
     ]
    },
    {
     "name": "stdin",
     "output_type": "stream",
     "text": [
      "函数功能是否满足要求 (yes/no)?  no\n",
      "函数功能未通过测试，是1.需要再次进行测试，还是2.进入debug流程？ 2\n",
      "请选择debug方案：\n",
      "1.再次执行函数创建流程，并测试结果；\n",
      "2.执行审查函数                \n",
      "3.重新输入用户需求；\n",
      "4.退出程序，进行手动尝试 2\n"
     ]
    },
    {
     "name": "stdout",
     "output_type": "stream",
     "text": [
      "好的，执行审查函数，请稍等...\n",
      "正在执行审查函数，审查对象：count_emails_before_date\n",
      "审查结束，新的函数名称为：count_emails_before_date。\n",
      "正在运行该函数定义过程，并保存函数源码与prompt\n",
      "新函数提示示例保存在./functions/untested functions/count_emails_before_date/count_emails_before_date_prompt.json文件中\n",
      "count_emails_before_date函数已在当前操作空间定义，可以进行效果测试\n",
      "新函数已创建，接下来带入进行测试...\n",
      "根据既定用户需求req进行count_emails_before_date函数功能测试，请确保当该函数已经在当前操作空间定义...\n",
      "当前函数运行结果：'在您的邮箱里，2023年7月28号之前收到的邮件总共有18封。'\n"
     ]
    },
    {
     "name": "stdin",
     "output_type": "stream",
     "text": [
      "函数功能是否满足要求 (yes/no)?  yes\n"
     ]
    },
    {
     "name": "stdout",
     "output_type": "stream",
     "text": [
      "函数功能通过测试，正在将函数写入tested文件夹\n",
      "done\n"
     ]
    }
   ],
   "source": [
    "Gmail_auto_func(req = '请帮我看下我的邮箱里面7月28号之前总共有几封邮件。')"
   ]
  },
  {
   "cell_type": "markdown",
   "id": "be86ca9d-f002-4d6c-81d3-c4af3f5321bf",
   "metadata": {},
   "source": [
    "- Q3.'请帮我统计下我的邮箱里面总共有几封未读邮件'：一次完成"
   ]
  },
  {
   "cell_type": "code",
   "execution_count": 174,
   "id": "6ae225db-cbd3-409c-ad16-7dff383589d4",
   "metadata": {
    "tags": []
   },
   "outputs": [
    {
     "name": "stdout",
     "output_type": "stream",
     "text": [
      "第一阶段CD环节提示创建完毕，正在进行CD提示...\n",
      "第一阶段CD环节提示完毕\n",
      "第一阶段CM环节提示创建完毕，正在进行第一阶段CM提示...\n",
      "第一阶段CM环节提示完毕\n",
      "第二阶段提示创建完毕，正在进行第二阶段提示...\n",
      "第二阶段提示完毕，准备运行函数并编写提示示例\n",
      "The function name is:get_unread_email_count\n",
      "新函数保存在./functions/untested functions/get_unread_email_count/get_unread_email_count_module.py文件中\n",
      "新函数提示示例保存在./functions/untested functions/get_unread_email_count/get_unread_email_count_prompt.json文件中\n",
      "done\n",
      "根据既定用户需求req进行get_unread_email_count函数功能测试，请确保当该函数已经在当前操作空间定义...\n",
      "当前函数运行结果：'您的邮箱里总共有2封未读邮件。'\n"
     ]
    },
    {
     "name": "stdin",
     "output_type": "stream",
     "text": [
      "函数功能是否满足要求 (yes/no)?  yes\n"
     ]
    },
    {
     "name": "stdout",
     "output_type": "stream",
     "text": [
      "函数功能通过测试，正在将函数写入tested文件夹\n",
      "done\n"
     ]
    }
   ],
   "source": [
    "Gmail_auto_func(req = '请帮我统计下我的邮箱里面总共有几封未读邮件')"
   ]
  },
  {
   "cell_type": "markdown",
   "id": "3f679a78-a0f1-46e0-9bbb-6b7a70139b88",
   "metadata": {},
   "source": [
    "- Q4.'请帮我统计下我的邮箱里面总共有多少封内容包含Goole单词的邮件。'：一次完成"
   ]
  },
  {
   "cell_type": "code",
   "execution_count": 175,
   "id": "8ccb9bd6-c4a5-4ce3-a434-7fc6683a304e",
   "metadata": {
    "tags": []
   },
   "outputs": [
    {
     "name": "stdout",
     "output_type": "stream",
     "text": [
      "第一阶段CD环节提示创建完毕，正在进行CD提示...\n",
      "第一阶段CD环节提示完毕\n",
      "第一阶段CM环节提示创建完毕，正在进行第一阶段CM提示...\n",
      "第一阶段CM环节提示完毕\n",
      "第二阶段提示创建完毕，正在进行第二阶段提示...\n",
      "第二阶段提示完毕，准备运行函数并编写提示示例\n",
      "The function name is:count_emails_by_keyword\n",
      "新函数保存在./functions/untested functions/count_emails_by_keyword/count_emails_by_keyword_module.py文件中\n",
      "新函数提示示例保存在./functions/untested functions/count_emails_by_keyword/count_emails_by_keyword_prompt.json文件中\n",
      "done\n",
      "根据既定用户需求req进行count_emails_by_keyword函数功能测试，请确保当该函数已经在当前操作空间定义...\n",
      "当前函数运行结果：'对不起，我没有找到包含\"Goole\"这个关键词的邮件。'\n"
     ]
    },
    {
     "name": "stdin",
     "output_type": "stream",
     "text": [
      "函数功能是否满足要求 (yes/no)?  no\n",
      "函数功能未通过测试，是1.需要再次进行测试，还是2.进入debug流程？ 2\n",
      "请选择debug方案：\n",
      "1.再次执行函数创建流程，并测试结果；\n",
      "2.执行审查函数                \n",
      "3.重新输入用户需求；\n",
      "4.退出程序，进行手动尝试 3\n",
      "好的，请再次输入用户需求，请注意，用户需求描述方法将极大程度影响最终函数创建结果。 请帮我统计下我的邮箱里面总共有多少封内容包含Google单词的邮件。\n",
      "接下来如何运行代码创建函数？1.采用此前Few-shot方案；\n",
      "2.使用全部外部函数作为Few-shot 2\n"
     ]
    },
    {
     "name": "stdout",
     "output_type": "stream",
     "text": [
      "第一阶段CD环节提示创建完毕，正在进行CD提示...\n",
      "第一阶段CD环节提示完毕\n",
      "第一阶段CM环节提示创建完毕，正在进行第一阶段CM提示...\n",
      "第一阶段CM环节提示完毕\n",
      "第二阶段提示创建完毕，正在进行第二阶段提示...\n",
      "第二阶段提示完毕，准备运行函数并编写提示示例\n",
      "The function name is:count_emails_with_query\n",
      "新函数保存在./functions/untested functions/count_emails_with_query/count_emails_with_query_module.py文件中\n",
      "新函数提示示例保存在./functions/untested functions/count_emails_with_query/count_emails_with_query_prompt.json文件中\n",
      "done\n",
      "根据既定用户需求req进行count_emails_with_query函数功能测试，请确保当该函数已经在当前操作空间定义...\n",
      "当前函数运行结果：'您的邮箱中共有3封邮件包含\"Google\"这个词。'\n"
     ]
    },
    {
     "name": "stdin",
     "output_type": "stream",
     "text": [
      "函数功能是否满足要求 (yes/no)?  yes\n"
     ]
    },
    {
     "name": "stdout",
     "output_type": "stream",
     "text": [
      "函数功能通过测试，正在将函数写入tested文件夹\n",
      "done\n"
     ]
    }
   ],
   "source": [
    "Gmail_auto_func(req = '请帮我统计下我的邮箱里面总共有多少封内容包含Goole单词的邮件。')"
   ]
  },
  {
   "cell_type": "markdown",
   "id": "1ba1e661-37e3-4669-b407-2da5622a0784",
   "metadata": {},
   "source": [
    "- Q5.'请帮我查下，我的邮箱里面，2023年7月19号到2023年7月28号之间的邮件当中，总共有几封邮件是端木天发来的邮件。'：一次修改后完成"
   ]
  },
  {
   "cell_type": "code",
   "execution_count": 176,
   "id": "cc0fed19-44a2-4e5b-aa11-256ca0091437",
   "metadata": {
    "tags": []
   },
   "outputs": [
    {
     "name": "stdout",
     "output_type": "stream",
     "text": [
      "第一阶段CD环节提示创建完毕，正在进行CD提示...\n",
      "第一阶段CD环节提示完毕\n",
      "第一阶段CM环节提示创建完毕，正在进行第一阶段CM提示...\n",
      "第一阶段CM环节提示完毕\n",
      "第二阶段提示创建完毕，正在进行第二阶段提示...\n",
      "第二阶段提示完毕，准备运行函数并编写提示示例\n",
      "The function name is:count_emails_within_range\n",
      "新函数保存在./functions/untested functions/count_emails_within_range/count_emails_within_range_module.py文件中\n",
      "新函数提示示例保存在./functions/untested functions/count_emails_within_range/count_emails_within_range_prompt.json文件中\n",
      "done\n",
      "根据既定用户需求req进行count_emails_within_range函数功能测试，请确保当该函数已经在当前操作空间定义...\n",
      "当前函数运行结果：'在2023年7月19号到2023年7月28号期间，你的邮箱中没有收到端木天的邮件。'\n"
     ]
    },
    {
     "name": "stdin",
     "output_type": "stream",
     "text": [
      "函数功能是否满足要求 (yes/no)?  no\n",
      "函数功能未通过测试，是1.需要再次进行测试，还是2.进入debug流程？ 2\n",
      "请选择debug方案：\n",
      "1.再次执行函数创建流程，并测试结果；\n",
      "2.执行审查函数                \n",
      "3.重新输入用户需求；\n",
      "4.退出程序，进行手动尝试 2\n"
     ]
    },
    {
     "name": "stdout",
     "output_type": "stream",
     "text": [
      "好的，执行审查函数，请稍等...\n",
      "正在执行审查函数，审查对象：count_emails_within_range\n"
     ]
    },
    {
     "name": "stdin",
     "output_type": "stream",
     "text": [
      "run_conversation无法正常运行，接下来是1.再次运行运行run_conversation，还是2.进入debug流程？ 2\n",
      "请选择debug方案：\n",
      "1.再次执行函数创建流程，并测试结果；\n",
      "2.执行审查函数            \n",
      "3.重新输入用户需求；\n",
      "4.退出程序，进行手动尝试 3\n",
      "好的，请再次输入用户需求，请注意，用户需求描述方法将极大程度影响最终函数创建结果。 '查下我的邮箱里面，2023-7-19到2023-7-28之间端木天发来的邮件有几封'\n",
      "接下来如何运行代码创建函数？1.采用此前Few-shot方案；\n",
      "2.使用全部外部函数作为Few-shot 2\n"
     ]
    },
    {
     "name": "stdout",
     "output_type": "stream",
     "text": [
      "第一阶段CD环节提示创建完毕，正在进行CD提示...\n",
      "第一阶段CD环节提示完毕\n",
      "第一阶段CM环节提示创建完毕，正在进行第一阶段CM提示...\n",
      "第一阶段CM环节提示完毕\n",
      "第二阶段提示创建完毕，正在进行第二阶段提示...\n",
      "第二阶段提示完毕，准备运行函数并编写提示示例\n",
      "The function name is:count_emails_from_sender_in_period\n",
      "新函数保存在./functions/untested functions/count_emails_from_sender_in_period/count_emails_from_sender_in_period_module.py文件中\n",
      "新函数提示示例保存在./functions/untested functions/count_emails_from_sender_in_period/count_emails_from_sender_in_period_prompt.json文件中\n",
      "done\n",
      "根据既定用户需求req进行count_emails_from_sender_in_period函数功能测试，请确保当该函数已经在当前操作空间定义...\n",
      "当前函数运行结果：'在2023年7月19日至2023年7月28日期间，端木天发给你的邮件共有3封。'\n"
     ]
    },
    {
     "name": "stdin",
     "output_type": "stream",
     "text": [
      "函数功能是否满足要求 (yes/no)?  yes\n"
     ]
    },
    {
     "name": "stdout",
     "output_type": "stream",
     "text": [
      "函数功能通过测试，正在将函数写入tested文件夹\n",
      "done\n"
     ]
    }
   ],
   "source": [
    "Gmail_auto_func(req = '请帮我查下，我的邮箱里面，2023年7月19号到2023年7月28号之间的邮件当中，总共有几封邮件是端木天发来的邮件。')"
   ]
  },
  {
   "cell_type": "markdown",
   "id": "1a7d8bba-d74a-4383-ac17-8ee5f1fbd920",
   "metadata": {},
   "source": [
    "至此，我们就完成了一个高度自动化的编程函数。同时，该流程也是目前业内大语言自动编程最完善、也是单函数编程功能最强的流程之一。接下来我们的编程共工作也将主要依赖该函数完成。"
   ]
  },
  {
   "cell_type": "markdown",
   "id": "42ff65a8-ad6d-4cfa-a47e-a74de8f92ff1",
   "metadata": {},
   "source": [
    "> 由此，我们也可以深度体验“自然语言编程”的威力与效率。"
   ]
  },
  {
   "cell_type": "markdown",
   "id": "91190e96-662a-406f-9e31-354bcfe05a81",
   "metadata": {},
   "source": [
    "### 3.高阶自然语言编程：基于大模型的分段编写代码策略"
   ]
  },
  {
   "cell_type": "markdown",
   "id": "065ab27b-4cd0-43dc-a1bb-31e6e4c91dcc",
   "metadata": {},
   "source": [
    "#### 3.1 大模型编程的性能瓶颈"
   ]
  },
  {
   "cell_type": "markdown",
   "id": "991a69c7-b136-473b-9dc1-f749942889bb",
   "metadata": {},
   "source": [
    "&emsp;&emsp;在完成了全自动代码编写和审查函数之后，我们已经能够引导GPT模型完成大量AI邮件系统相关代码开发工作了。但是受到大模型本身理解能力和编程能力限制，在面对一些复杂需求或者处理一些大模型本身不太容易理解的问题时（如处理时间类问题），这套流程仍然无法稳定高效的完成相关函数的代码编写工作。当然，问题越难，大模型编写代码的准确率就越低。例如面对如下需求：请帮我看下我的邮箱里面，最早的一封来自端木天的邮件是什么时候，以及邮件的核心内容是什么？在调用此前定义的Gmail_auto_func函数时，经过若干轮的调试和debug，仍然无法获得正确的结果："
   ]
  },
  {
   "cell_type": "code",
   "execution_count": 145,
   "id": "aa4968bd-5cb6-4656-a40f-d798fc2ddc3d",
   "metadata": {
    "collapsed": true,
    "jupyter": {
     "outputs_hidden": true
    },
    "tags": []
   },
   "outputs": [
    {
     "name": "stdout",
     "output_type": "stream",
     "text": [
      "第一阶段CD环节提示创建完毕，正在进行CD提示...\n",
      "第一阶段CD环节提示完毕\n",
      "第一阶段CM环节提示创建完毕，正在进行第一阶段CM提示...\n",
      "第一阶段CM环节提示完毕\n",
      "第二阶段提示创建完毕，正在进行第二阶段提示...\n",
      "第二阶段提示完毕，准备运行函数并编写提示示例\n",
      "The function name is:get_earliest_email_from\n",
      "新函数保存在./functions/untested functions/get_earliest_email_from/get_earliest_email_from_module.py文件中\n",
      "新函数提示示例保存在./functions/untested functions/get_earliest_email_from/get_earliest_email_from_prompt.json文件中\n",
      "done\n",
      "根据既定用户需求req进行get_earliest_email_from函数功能测试，请确保当该函数已经在当前操作空间定义...\n",
      "当前函数运行结果：'最早的一封来自端木天的邮件是在2023年7月29日，邮件的核心内容为“你好”。'\n"
     ]
    },
    {
     "name": "stdin",
     "output_type": "stream",
     "text": [
      "函数功能是否满足要求 (yes/no)?  no\n",
      "函数功能未通过测试，是1.需要再次进行测试，还是2.进入debug流程？ 2\n",
      "请选择debug方案：\n",
      "1.再次执行函数创建流程，并测试结果；\n",
      "2.执行审查函数                \n",
      "3.重新输入用户需求；\n",
      "4.退出程序，进行手动尝试 2\n"
     ]
    },
    {
     "name": "stdout",
     "output_type": "stream",
     "text": [
      "好的，执行审查函数，请稍等...\n",
      "正在执行审查函数，审查对象：get_earliest_email_from\n",
      "审查结束，新的函数名称为：get_earliest_email_from。\n",
      "正在运行该函数定义过程，并保存函数源码与prompt\n",
      "新函数提示示例保存在./functions/untested functions/get_earliest_email_from/get_earliest_email_from_prompt.json文件中\n",
      "get_earliest_email_from函数已在当前操作空间定义，可以进行效果测试\n",
      "新函数已创建，接下来带入进行测试...\n",
      "根据既定用户需求req进行get_earliest_email_from函数功能测试，请确保当该函数已经在当前操作空间定义...\n",
      "当前函数运行结果：'很抱歉，我没有查看您个人邮箱的权限，因为这涉及到个人隐私。但是如果您想查找最早的一封来自端木天的邮件，您可以在登录邮件后，在邮件搜索框内输入他的名称或者邮箱地址，并做时间上的筛选。'\n"
     ]
    },
    {
     "name": "stdin",
     "output_type": "stream",
     "text": [
      "函数功能是否满足要求 (yes/no)?  no\n",
      "函数功能未通过测试，是1.需要再次进行测试，还是2.进入debug流程？ 2\n",
      "请选择debug方案：\n",
      "1.再次执行函数创建流程，并测试结果；\n",
      "2.执行审查函数                \n",
      "3.重新输入用户需求；\n",
      "4.退出程序，进行手动尝试 3\n",
      "好的，请再次输入用户需求，请注意，用户需求描述方法将极大程度影响最终函数创建结果。 请帮我看下我的邮箱里面时间最早的一封来自端木天的邮件，请告诉我这封邮件的收件时间和主要内容\n",
      "接下来如何运行代码创建函数？1.采用此前Few-shot方案；\n",
      "2.使用全部外部函数作为Few-shot 2\n"
     ]
    },
    {
     "name": "stdout",
     "output_type": "stream",
     "text": [
      "第一阶段CD环节提示创建完毕，正在进行CD提示...\n",
      "第一阶段CD环节提示完毕\n",
      "第一阶段CM环节提示创建完毕，正在进行第一阶段CM提示...\n",
      "第一阶段CM环节提示完毕\n",
      "第二阶段提示创建完毕，正在进行第二阶段提示...\n",
      "第二阶段提示完毕，准备运行函数并编写提示示例\n",
      "The function name is:get_first_email_from_sender\n",
      "新函数保存在./functions/untested functions/get_first_email_from_sender/get_first_email_from_sender_module.py文件中\n",
      "新函数提示示例保存在./functions/untested functions/get_first_email_from_sender/get_first_email_from_sender_prompt.json文件中\n",
      "done\n",
      "根据既定用户需求req进行get_first_email_from_sender函数功能测试，请确保当该函数已经在当前操作空间定义...\n",
      "当前函数运行结果：'对不起，我没有找到来自端木天（2323365771@qq.com）的邮件。'\n"
     ]
    },
    {
     "name": "stdin",
     "output_type": "stream",
     "text": [
      "函数功能是否满足要求 (yes/no)?  no\n",
      "函数功能未通过测试，是1.需要再次进行测试，还是2.进入debug流程？ 2\n",
      "请选择debug方案：\n",
      "1.再次执行函数创建流程，并测试结果；\n",
      "2.执行审查函数                \n",
      "3.重新输入用户需求；\n",
      "4.退出程序，进行手动尝试 2\n"
     ]
    },
    {
     "name": "stdout",
     "output_type": "stream",
     "text": [
      "好的，执行审查函数，请稍等...\n",
      "正在执行审查函数，审查对象：get_first_email_from_sender\n",
      "审查结束，新的函数名称为：get_latest_email。\n",
      "正在运行该函数定义过程，并保存函数源码与prompt\n",
      "新函数提示示例保存在./functions/untested functions/get_latest_email/get_latest_email_prompt.json文件中\n",
      "get_latest_email函数已在当前操作空间定义，可以进行效果测试\n",
      "新函数已创建，接下来带入进行测试...\n",
      "根据既定用户需求req进行get_latest_email函数功能测试，请确保当该函数已经在当前操作空间定义...\n",
      "当前函数运行结果：'您的邮箱里面时间最早的一封来自端木天的邮件的收件日期是2023年7月29日，邮件内容为\"你好\"。'\n"
     ]
    },
    {
     "name": "stdin",
     "output_type": "stream",
     "text": [
      "函数功能是否满足要求 (yes/no)?  no\n",
      "函数功能未通过测试，是1.需要再次进行测试，还是2.进入debug流程？ 2\n",
      "请选择debug方案：\n",
      "1.再次执行函数创建流程，并测试结果；\n",
      "2.执行审查函数                \n",
      "3.重新输入用户需求；\n",
      "4.退出程序，进行手动尝试 3\n",
      "好的，请再次输入用户需求，请注意，用户需求描述方法将极大程度影响最终函数创建结果。 请帮我看下我的邮箱里面，端木天的给我发的第一封邮件是什么时间，以及这封邮件的核心内容是什么？\n",
      "接下来如何运行代码创建函数？1.采用此前Few-shot方案；\n",
      "2.使用全部外部函数作为Few-shot 1\n"
     ]
    },
    {
     "name": "stdout",
     "output_type": "stream",
     "text": [
      "第一阶段CD环节提示创建完毕，正在进行CD提示...\n",
      "第一阶段CD环节提示完毕\n",
      "第一阶段CM环节提示创建完毕，正在进行第一阶段CM提示...\n",
      "第一阶段CM环节提示完毕\n",
      "第二阶段提示创建完毕，正在进行第二阶段提示...\n",
      "第二阶段提示完毕，准备运行函数并编写提示示例\n",
      "The function name is:get_first_email_from_sender\n",
      "新函数保存在./functions/untested functions/get_first_email_from_sender/get_first_email_from_sender_module.py文件中\n",
      "新函数提示示例保存在./functions/untested functions/get_first_email_from_sender/get_first_email_from_sender_prompt.json文件中\n",
      "done\n",
      "根据既定用户需求req进行get_first_email_from_sender函数功能测试，请确保当该函数已经在当前操作空间定义...\n",
      "当前函数运行结果：'对不起，因为我是一个AI，我无法直接访问您的邮箱以寻找指定的邮箱。这部分涉及到您的个人隐私，建议您直接在您的邮箱中搜索端木天的第一封邮件时间以及内容。'\n"
     ]
    },
    {
     "name": "stdin",
     "output_type": "stream",
     "text": [
      "函数功能是否满足要求 (yes/no)?  no\n",
      "函数功能未通过测试，是1.需要再次进行测试，还是2.进入debug流程？ 1\n"
     ]
    },
    {
     "name": "stdout",
     "output_type": "stream",
     "text": [
      "准备再次测试...\n",
      "根据既定用户需求req进行get_first_email_from_sender函数功能测试，请确保当该函数已经在当前操作空间定义...\n",
      "当前函数运行结果：'抱歉，由于隐私保护政策，我无法直接查看你的邮件内容。你可以直接登录你的邮箱查阅。'\n"
     ]
    },
    {
     "name": "stdin",
     "output_type": "stream",
     "text": [
      "函数功能是否满足要求 (yes/no)?  no\n",
      "函数功能未通过测试，是1.需要再次进行测试，还是2.进入debug流程？ 2\n",
      "请选择debug方案：\n",
      "1.再次执行函数创建流程，并测试结果；\n",
      "2.执行审查函数                \n",
      "3.重新输入用户需求；\n",
      "4.退出程序，进行手动尝试 2\n"
     ]
    },
    {
     "name": "stdout",
     "output_type": "stream",
     "text": [
      "好的，执行审查函数，请稍等...\n",
      "正在执行审查函数，审查对象：get_first_email_from_sender\n",
      "审查结束，新的函数名称为：get_latest_email。\n",
      "正在运行该函数定义过程，并保存函数源码与prompt\n",
      "新函数提示示例保存在./functions/untested functions/get_latest_email/get_latest_email_prompt.json文件中\n",
      "get_latest_email函数已在当前操作空间定义，可以进行效果测试\n",
      "新函数已创建，接下来带入进行测试...\n",
      "根据既定用户需求req进行get_latest_email函数功能测试，请确保当该函数已经在当前操作空间定义...\n",
      "当前函数运行结果：'端木天给您发的第一封邮件是在2023年7月29日08:01:37，邮件的内容是：\"你好\"。'\n"
     ]
    },
    {
     "name": "stdin",
     "output_type": "stream",
     "text": [
      "函数功能是否满足要求 (yes/no)?  no\n",
      "函数功能未通过测试，是1.需要再次进行测试，还是2.进入debug流程？ 2\n",
      "请选择debug方案：\n",
      "1.再次执行函数创建流程，并测试结果；\n",
      "2.执行审查函数                \n",
      "3.重新输入用户需求；\n",
      "4.退出程序，进行手动尝试 4\n"
     ]
    },
    {
     "name": "stdout",
     "output_type": "stream",
     "text": [
      "好的，预祝debug顺利~\n"
     ]
    }
   ],
   "source": [
    "Gmail_auto_func(req = '请帮我看下我的邮箱里面，最早的一封来自端木天的邮件是什么时候，以及邮件的核心内容是什么？')"
   ]
  },
  {
   "cell_type": "markdown",
   "id": "c2b6b9cc-7267-48da-b016-920888249648",
   "metadata": {},
   "source": [
    "上述需求尽管看起来并不复杂，但实际上却是戳中了大模型的软肋——即大模型本身对时间这一概念理解不到位，在某些语境下往往不能很好的区分时间的先后点，即无法分清哪个时间点在前、哪个时间点再后。而对于另一类同时包含多项动作的需求，大模型的编程正确率同样不高。例如有如下需求：请将我邮箱里面未读邮件中的有关会议邀请的邮件添加上会议预定的标签。很明显该需求需要在一段代码中同时先识别包含开会邀请的邮件，然后再将其打上标签。"
   ]
  },
  {
   "cell_type": "markdown",
   "id": "5b3c2ccb-0316-44fe-9e2d-8ec5ce274968",
   "metadata": {},
   "source": [
    "&emsp;&emsp;接下来我们测试大模型能否一步到位编写能够实现该需求的函数。为了实现该需求，我们首先需要在当前的授权token中再加上邮件修改以及邮箱的标签获取相关权限，这里我们再次执行下列代码进行授权："
   ]
  },
  {
   "cell_type": "code",
   "execution_count": 2,
   "id": "11983192-4c12-464d-92bb-2ca344c92388",
   "metadata": {
    "tags": []
   },
   "outputs": [
    {
     "name": "stdout",
     "output_type": "stream",
     "text": [
      "Please visit this URL to authorize this application: https://accounts.google.com/o/oauth2/auth?response_type=code&client_id=597598790553-j4tj274ajpeta15s9lc0sffmlqmbhi9q.apps.googleusercontent.com&redirect_uri=http%3A%2F%2Flocalhost%3A8899%2F&scope=https%3A%2F%2Fwww.googleapis.com%2Fauth%2Fgmail.send+https%3A%2F%2Fwww.googleapis.com%2Fauth%2Fgmail.readonly+https%3A%2F%2Fwww.googleapis.com%2Fauth%2Fgmail.modify+https%3A%2F%2Fwww.googleapis.com%2Fauth%2Fgmail.labels&state=rxcRICv5s8cjEVFF1KwEwJuPx1JBnH&access_type=offline&prompt=consent\n"
     ]
    }
   ],
   "source": [
    "SCOPES = ['https://www.googleapis.com/auth/gmail.send','https://www.googleapis.com/auth/gmail.readonly',\n",
    "          'https://www.googleapis.com/auth/gmail.modify', 'https://www.googleapis.com/auth/gmail.labels']\n",
    "flow = InstalledAppFlow.from_client_secrets_file(\n",
    "                'client_web1.json', SCOPES)\n",
    "creds = flow.run_local_server(port=8899, access_type='offline', prompt='consent')\n",
    "\n",
    "with open('token.json', 'w') as token:\n",
    "    token.write(creds.to_json())"
   ]
  },
  {
   "cell_type": "markdown",
   "id": "0f32c9a2-149a-4462-a934-298a86f2b1de",
   "metadata": {},
   "source": [
    "然后需要在Gmail邮箱里添加一个会议预定的标签："
   ]
  },
  {
   "cell_type": "markdown",
   "id": "abf9aa12-def5-4df0-ad13-bea25c3d788c",
   "metadata": {},
   "source": [
    "<center><img src=\"https://ml2022.oss-cn-hangzhou.aliyuncs.com/img/d439866b5c5a23d04925db388c9882c.png\" alt=\"d439866b5c5a23d04925db388c9882c\" style=\"zoom:33%;\" />"
   ]
  },
  {
   "cell_type": "markdown",
   "id": "7b405271-2f98-4bec-b512-58c580d4efff",
   "metadata": {},
   "source": [
    "同时，当前邮箱里面也接收到了一封有关会议邀请的邮件："
   ]
  },
  {
   "cell_type": "markdown",
   "id": "057463ec-9ec5-481c-b133-23480bb2b3af",
   "metadata": {},
   "source": [
    "<center><img src=\"https://ml2022.oss-cn-hangzhou.aliyuncs.com/img/1201c7b64edbf80223104022f707985.png\" alt=\"1201c7b64edbf80223104022f707985\" style=\"zoom:33%;\" />"
   ]
  },
  {
   "cell_type": "markdown",
   "id": "500be616-de1d-4009-8bc6-f138f294db88",
   "metadata": {},
   "source": [
    "接下来，我们调用Gmail_auto_func来编写满足该需求的代码："
   ]
  },
  {
   "cell_type": "code",
   "execution_count": 3,
   "id": "9ce82a0e-d7c5-4d7e-97fe-8e81589a4ddd",
   "metadata": {
    "tags": []
   },
   "outputs": [
    {
     "name": "stdout",
     "output_type": "stream",
     "text": [
      "第一阶段CD环节提示创建完毕，正在进行CD提示...\n",
      "第一阶段CD环节提示完毕\n",
      "第一阶段CM环节提示创建完毕，正在进行第一阶段CM提示...\n",
      "第一阶段CM环节提示完毕\n",
      "第二阶段提示创建完毕，正在进行第二阶段提示...\n",
      "第二阶段提示完毕，准备运行函数并编写提示示例\n",
      "The function name is:label_unread_emails_by_keyword\n",
      "新函数保存在./functions/untested functions/label_unread_emails_by_keyword/label_unread_emails_by_keyword_module.py文件中\n",
      "新函数提示示例保存在./functions/untested functions/label_unread_emails_by_keyword/label_unread_emails_by_keyword_prompt.json文件中\n",
      "done\n",
      "根据既定用户需求req进行label_unread_emails_by_keyword函数功能测试，请确保当该函数已经在当前操作空间定义...\n",
      "An error occurred: <HttpError 400 when requesting https://gmail.googleapis.com/gmail/v1/users/ksken166%40gmail.com/messages/189bfa28e31ab424/modify?alt=json returned \"Invalid label: 会议预定\". Details: \"[{'message': 'Invalid label: 会议预定', 'domain': 'global', 'reason': 'invalidArgument'}]\">\n",
      "当前函数运行结果：'很抱歉，出现了一个错误。看起来添加的标签 \"会议预定\" 是无效的，请您确认此标签的正确性，并再次尝试。'\n"
     ]
    },
    {
     "name": "stdin",
     "output_type": "stream",
     "text": [
      "函数功能是否满足要求 (yes/no)?  no\n",
      "函数功能未通过测试，是1.需要再次进行测试，还是2.进入debug流程？ 2\n",
      "请选择debug方案：\n",
      "1.再次执行函数创建流程，并测试结果；\n",
      "2.执行审查函数                \n",
      "3.重新输入用户需求；\n",
      "4.退出程序，进行手动尝试 2\n"
     ]
    },
    {
     "name": "stdout",
     "output_type": "stream",
     "text": [
      "好的，执行审查函数，请稍等...\n",
      "正在执行审查函数，审查对象：label_unread_emails_by_keyword\n"
     ]
    },
    {
     "name": "stdin",
     "output_type": "stream",
     "text": [
      "run_conversation无法正常运行，接下来是1.再次运行运行run_conversation，还是2.进入debug流程？ 2\n",
      "请选择debug方案：\n",
      "1.再次执行函数创建流程，并测试结果；\n",
      "2.执行审查函数            \n",
      "3.重新输入用户需求；\n",
      "4.退出程序，进行手动尝试 1\n"
     ]
    },
    {
     "name": "stdout",
     "output_type": "stream",
     "text": [
      "好的，正在尝试再次创建函数，请稍等...\n"
     ]
    },
    {
     "name": "stdin",
     "output_type": "stream",
     "text": [
      "准备再次测试，请问是1.采用此前Few-shot方案，还是2.带入全部函数示例进行Few-shot？ 1\n"
     ]
    },
    {
     "name": "stdout",
     "output_type": "stream",
     "text": [
      "第一阶段CD环节提示创建完毕，正在进行CD提示...\n",
      "第一阶段CD环节提示完毕\n",
      "第一阶段CM环节提示创建完毕，正在进行第一阶段CM提示...\n",
      "第一阶段CM环节提示完毕\n",
      "第二阶段提示创建完毕，正在进行第二阶段提示...\n",
      "第二阶段提示完毕，准备运行函数并编写提示示例\n",
      "The function name is:label_unread_emails\n",
      "新函数保存在./functions/untested functions/label_unread_emails/label_unread_emails_module.py文件中\n",
      "新函数提示示例保存在./functions/untested functions/label_unread_emails/label_unread_emails_prompt.json文件中\n",
      "done\n",
      "根据既定用户需求req进行label_unread_emails函数功能测试，请确保当该函数已经在当前操作空间定义...\n"
     ]
    },
    {
     "name": "stdin",
     "output_type": "stream",
     "text": [
      "run_conversation无法正常运行，接下来是1.再次运行运行run_conversation，还是2.进入debug流程？ 2\n",
      "请选择debug方案：\n",
      "1.再次执行函数创建流程，并测试结果；\n",
      "2.执行审查函数            \n",
      "3.重新输入用户需求；\n",
      "4.退出程序，进行手动尝试 4\n"
     ]
    },
    {
     "name": "stdout",
     "output_type": "stream",
     "text": [
      "好的，预祝debug顺利~\n"
     ]
    }
   ],
   "source": [
    "Gmail_auto_func(req = '请将我邮箱里面未读邮件中的有关会议邀请的邮件添加上会议预定的标签')"
   ]
  },
  {
   "cell_type": "markdown",
   "id": "875fc3ae-5cd5-4a31-bd8a-28615a07d090",
   "metadata": {},
   "source": [
    "能够发现，经过多轮的调试和debug，仍然无法获得一个准确的编程结果，邮箱里面的会议邀请邮件仍然没有被打上标签。"
   ]
  },
  {
   "cell_type": "markdown",
   "id": "2a007c7a-6d0b-4eb1-964d-acb4237a38b3",
   "metadata": {},
   "source": [
    "> 需要注意的是，由于大模型编程本身存在一定的不稳定性，因此这里列举的两个需求示例在某些情况下也是能够被编程成功的，但相比于其他简单需求，大模型对于复杂需求的编程准确性明显大幅下降。"
   ]
  },
  {
   "cell_type": "markdown",
   "id": "d58fab16-0fa4-4713-a0aa-d17459a6fd31",
   "metadata": {},
   "source": [
    "&emsp;&emsp;经过上述验证不难发现，尽管当前的大模型编程流程已经添加了非常多的提高稳定性的措施（诸如多段提示、提示流程审查和代码审查等），但对于复杂的编程任务，大模型编程的准确率仍然很低。面对这一问题，有什么解决方案呢？需要注意的是，对于大模型工程师来说，如何“用好”大模型始终是岗位核心竞争力，而自然语言编程又是大模型非常重要的应用领域，因此，更进一步的思考和探讨如何进一步提高大模型对复杂问题的编程能力，是非常有必要的。"
   ]
  },
  {
   "cell_type": "markdown",
   "id": "95acd55c-ceef-414c-a4bd-ed51b73ad8e7",
   "metadata": {},
   "source": [
    "#### 3.2 编程性能瓶颈根源与解决方案"
   ]
  },
  {
   "cell_type": "markdown",
   "id": "bfc4b605-e68c-492e-b934-3dec2506c674",
   "metadata": {},
   "source": [
    "&emsp;&emsp;首先我们需要明确大模型编程性能瓶颈的根源，以及据此来探讨进一步提升编程性能的方法。"
   ]
  },
  {
   "cell_type": "markdown",
   "id": "cf8b903d-6c36-4911-90a3-9a746dab329d",
   "metadata": {},
   "source": [
    "- 编程性能瓶颈根源"
   ]
  },
  {
   "cell_type": "markdown",
   "id": "fe61e486-c2a3-48e0-b039-37946b2b9037",
   "metadata": {},
   "source": [
    "&emsp;&emsp;其实大模型对复杂问题的编程能力不足，和大模型对于创作长文本能力不足的原因是一样的——都是因为模型本身并不具备“长期记忆”，而这会导致大模型无法一直围绕某个恒定的目标进行长段的文本生成，需要注意的是，对于大模型来说，代码编写本质上就是按照某种特定格式进行文本创作，本质上并没有区别，而面对复杂需求，往往意味着为了实现该需求需要编写长段的代码，因此受限于大模型编写长段代码能力不足，对于复杂需求的代码编写准确性也随之降低。"
   ]
  },
  {
   "cell_type": "markdown",
   "id": "b8df6f21-5bc2-4ab1-aa78-ee8464c21f0c",
   "metadata": {},
   "source": [
    "- 提升长段代码编程稳定性策略"
   ]
  },
  {
   "cell_type": "markdown",
   "id": "1b57c211-abd9-46a2-95d8-22cab3d36f30",
   "metadata": {},
   "source": [
    "&emsp;&emsp;而要如何解决这个问题呢？首先需要明确的是，此时大模型所表现出来的问题，并不是需求理解不足，而是在充分理解需求的情况下，也无法编写长段代码来满足需求，也就是说大模型在此前的LtM提示流程下是能够充分理解用户需求的，也能够顺利的辨别需求背后的变量（作为函数参数），问题在于实现该需求层面代码本身编写能力不足。因此我们解决问题的重点是如何提高模型的编程能力（而不是通过提示工程来进一步提升模型理解能力。）。"
   ]
  },
  {
   "cell_type": "markdown",
   "id": "8650df1f-8c15-4444-afef-d89eb098d409",
   "metadata": {},
   "source": [
    "&emsp;&emsp;那么应该如何提升大模型的编写长段代码的稳定性呢？和编写长文本类似，最简单有效的方法就是先列提纲，然后分段编写，最后进行合并，即通过分段完成的方式，来提高模型长文本（长段代码）编写的表现。当然，编程任务还有其特殊之处，例如分段编写的代码需要变量一致，并且前后代码功能需要很好的衔接，此外我们已经编写了非常多辅助代码编写的函数，还需要考虑尽可能借助这些辅助函数来提高开发效率等。而课程截止目前，我们也已经积累了较为丰富的大语言模型相关开发流程的设计经验，并且也具备了一定的“调教”大模型的经验，接下来我们在“分段编写再合并”这一基本思路指导下，先尝试头脑风暴，尽可能列举理论上可行的实现方案，然后再选择其一进行落地代码实现。"
   ]
  },
  {
   "cell_type": "markdown",
   "id": "ddab8c2c-3330-4c9c-8d2f-07502175b492",
   "metadata": {},
   "source": [
    "- 第一阶段：复杂需求拆解"
   ]
  },
  {
   "cell_type": "markdown",
   "id": "7673705e-974a-4392-ab44-20bfb1aa35a9",
   "metadata": {},
   "source": [
    "&emsp;&emsp;既然是要分段编写代码再进行合并，首先就需要先对原始的复杂需求进行拆解。这个拆解的过程就非常类似于CoT思考链——一步步思考并解决问题。例如对于需求：请将我邮箱里面未读邮件中的有关会议邀请的邮件添加上会议预定的标签。就可以拆分为步，第一步是找到所有未读邮件，第二步是在未读邮件中找到有关会议邀请的邮件，并将其添加会议预定的标签。不难看出，这一拆分过程本身并不复杂，甚至相比CoT，围绕当前Gmail智能邮件项目的复杂任务拆分流程会更加具备确定性，因此也会更加简单。"
   ]
  },
  {
   "cell_type": "markdown",
   "id": "2bad1440-be84-4788-8366-042bcc60930d",
   "metadata": {},
   "source": [
    "> 需要注意的是，严格意义来说，CoT或者LtM拆分得到的子任务往往不是确定的任务，CoT和LtM更多其实是一种引导模型进行思考和处理的方式，而引导的结果往往具备一定的不确定性。"
   ]
  },
  {
   "cell_type": "markdown",
   "id": "ff90a3a9-0d9f-4940-b8c6-3bbcf2486e33",
   "metadata": {},
   "source": [
    "&emsp;&emsp;这里所谓的拆分任务的确定性，主要是因为拆分得到的子任务往往是一些Gmail API的一些最小功能单位，比如查找邮件、给邮件打标签等。而一旦拆分的子任务属于较为确定性的一类任务，那么这个拆分任务这一过程本身，其实就是一类特殊且简单的拆分任务。而要引导大语言模型完成特殊且较为简单的任务，最好的方式就是输入一些项目背景信息（挂载外部文档）并且提供一些拆解的示例作为Few-shot。"
   ]
  },
  {
   "cell_type": "markdown",
   "id": "0cf91304-d8d3-4c73-8b6c-d0eaa83dbd1c",
   "metadata": {},
   "source": [
    "&emsp;&emsp;这里需要注意的是，在进行进行子任务时，必须强调子任务需要是Gmail API能够简单实现的子任务，否则模型在进行子任务拆分时甚至会认为第一步是打开邮箱，而另一方面，只有拆分的子任务是Gmail API能够简单快速实现的任务，才能尽可能确保子任务对应的代码编写的准确性。而根据我们对大模型性能的了解，这方面信息的顺利传递，不能只通过Few-shot，还必须依靠编写一个外部文档进行项目说明。此外需要注意的是，这里如果找不到合适的任务拆分示例作为Few-shot，也可以在充分描述背景之后让大模型帮我们进行编写。"
   ]
  },
  {
   "cell_type": "markdown",
   "id": "93329e4e-26a5-4bd8-9534-5d0243c8e41d",
   "metadata": {},
   "source": [
    "&emsp;&emsp;而当我们已经完成任务拆分之后，接下来就是考虑如何围绕子任务进行代码编写，以及各部分代码如何拼接等问题了。这些工作我们统一称为复杂任务编程的第二阶段，第二个阶段的实现方法可以有很多种，我们这里依次对其进行介绍："
   ]
  },
  {
   "cell_type": "markdown",
   "id": "c7d010d3-13f7-4d74-93b0-db25cc662bb7",
   "metadata": {},
   "source": [
    "- 第二阶段方案一：单独创建复杂需求函数"
   ]
  },
  {
   "cell_type": "markdown",
   "id": "c91c972e-88e5-4dcb-ac71-32f804171bf4",
   "metadata": {},
   "source": [
    "&emsp;&emsp;首先最容易想到的方法，就是在基础已有的基础功能函数基础之上再架设一层高层函数，用于组合基础函数功能，来实现更加复杂的需求。这里所谓的基础功能函数，指的是可以借助code_generate函数进行准确高效编写的基础功能函数，例如此前我们创建的查看未读邮件、发送邮件、邮件汇总等功能函数，而从任务拆分角度来看，这些基础函数就是专门用于去实现子任务的相关函数。而在面对复杂需求时，我们可以围绕拆分出来的子任务先分别编写对应的功能实现函数，然后再编写一个可以调用基础函数的高层函数，用于将基础函数的输出结果进行整合，并最终完成原始复杂任务的处理。"
   ]
  },
  {
   "cell_type": "markdown",
   "id": "eea19fc3-8438-4659-ae4b-7afc6779f444",
   "metadata": {},
   "source": [
    "例如对于需求：请将我邮箱里面未读邮件中的有关会议邀请的邮件添加上会议预定的标签。就可以拆分为步，第一步是找到所有未读邮件，第二步是在未读邮件中找到有关会议邀请的邮件，并将其添加会议预定的标签。"
   ]
  },
  {
   "cell_type": "markdown",
   "id": "cf226089-cffc-4151-a76f-0403f3f3fec9",
   "metadata": {},
   "source": [
    "&emsp;&emsp;例如，对于当前需求“请将我邮箱里面未读邮件中的有关会议邀请的邮件添加上会议预定的标签”（以下简称为复杂需求或者当前需求）来说，我们已经将其拆分为了两个子任务，分别是获取未读邮件列表（以下简称为子任务1），以及从未读邮件中挑选会议相关邮件，并为其添加会议预定标签（以下简称为子任务2）。这两个子任务可以分别借助此前定义好的code_generate函数+function_test函数进行创建，同时需要注意在创建完成子任务2的函数（以下简称为函数2）时，需要确保其输入的参数格式和完成子任务1的函数（以下简称为函数1）的输出结果一致。而当我们创建完函数1和函数2之后，接下来即可定义一个外部函数，用于串联函数1和函数2来进行运行，即可获得最终结果。"
   ]
  },
  {
   "cell_type": "markdown",
   "id": "7a7d739c-fa4a-4f14-bc9e-d0a1e79b8f96",
   "metadata": {},
   "source": [
    "&emsp;&emsp;具体方案一的执行流程可以通过如下流程图进行表示："
   ]
  },
  {
   "cell_type": "markdown",
   "id": "b1ca16db-dbdf-417b-8ff0-46addb319908",
   "metadata": {},
   "source": [
    "<center><img src=\"https://ml2022.oss-cn-hangzhou.aliyuncs.com/img/%E5%A4%8D%E6%9D%82%E9%9C%80%E6%B1%82%E5%87%BD%E6%95%B0%E7%BC%96%E5%86%99%E6%96%B9%E6%A1%88%E4%B8%801.png\" alt=\"复杂需求函数编写方案一1\" style=\"zoom:33%;\" />"
   ]
  },
  {
   "cell_type": "markdown",
   "id": "00a2af32-1074-414b-81d3-65c8f21e008b",
   "metadata": {},
   "source": [
    "&emsp;&emsp;不难发现，方案一的这种分层开发的思路其实非常像传统技术团队的研发策略，这种策略便于分工、易于管理，并且有非常明显的阶段性产出，同时如果是人工进行代码编写，也能非常便捷的维持函数1的输出结果和函数2的参数一致。并且，这种开发方案的优势在于代码利用率很高，试想一下，伴随着基础函数库的函数功能不断丰富，会有越来越多的复杂需求或许并不需要单独编写子任务函数，而可以直接从已有的函数库中挑选函数来组合运行。例如，如果现在的需求是在未读邮件中寻找会议相关邮件，并将邮件内容编写为附件本地保存，则在分解任务时，分解得到的第一个子任务——列举未读邮件列表，就可以直接从利用函数1来完成。总的来说，方案一是一种易于管理且代码利用率极高的一个方案。"
   ]
  },
  {
   "cell_type": "markdown",
   "id": "3344d2d8-f181-4fdd-b1ae-8fdf6751f4fc",
   "metadata": {},
   "source": [
    "&emsp;&emsp;但是，该方案也存在一些问题，其中最核心的问题就在于现在是引导大模型进行代码开发，而不是引导人进行代码开发。这其中会存在较为本质的区别，对于程序员来说，能够非常简单的的统一一系列函数的输出和输入格式，但如果是自然语言编程，这一点就很难做到，我们很难向大模型传递“函数1的输出结果要用于函数2，因此函数1需要输出每一封未读邮件的邮件ID，否则函数2就无法定位具体的邮件”。因此，在实际执行方案一时，哪怕函数1和函数2都能顺利编写代码，但二者也很难顺利衔接到一起来进行运行。"
   ]
  },
  {
   "cell_type": "markdown",
   "id": "ba2ba167-d994-49aa-8708-6c75e329f39a",
   "metadata": {},
   "source": [
    "&emsp;&emsp;此外，对于大语言模型来说，哪怕对复杂问题进行了拆解，并且子任务拥有可以完成对应需求的基础函数，大语言模型也很难识别当前子任务可以用该函数。这个问题主要源于大语言模型对语义理解存在不稳定性，哪怕每个基础函数都拥有一套详细的函数说明（大语言模型自己编写的函数说明），但这些不稳定性会对高层函数编写的准确性造成非常大的影响。有趣的是，这个问题其实完全不会对人类程序员造成任何影响，因此这也是我们在考虑方案一是否可行时往往会被忽视的一个问题。"
   ]
  },
  {
   "cell_type": "markdown",
   "id": "9bb887d1-0c71-47b8-bd7d-19fdde4406d1",
   "metadata": {},
   "source": [
    "&emsp;&emsp;其实对于大多数初级大模型工程师来说，都习惯以人的思维思考大模型的运行状态，而实际上，要设计一套引导大模型来执行任务的流程，就必须优先考虑到大模型和人的区别，很多看起来对人类程序员非常友好的流程，却不一定适用于引导大模型来完成。一个为大模型设计的任务流程需要充分发挥大模型的优势，而不能先入为主的优先从人的角度来考虑问题。"
   ]
  },
  {
   "cell_type": "markdown",
   "id": "36f5d76a-7334-4c49-96da-db0b18905a0f",
   "metadata": {},
   "source": [
    "> 这里需要注意，关于理解函数功能相关语义、以及统一部分函数输入和输出结果一致性等问题，可以通过知识图谱技术手段来解决。相关内容超出本次课程讨论范畴，感兴趣的同学可以自行查阅资料，并借助知识图谱技术来构建一套稳定可执行的方案一流程。"
   ]
  },
  {
   "cell_type": "markdown",
   "id": "0782d01e-62b8-422b-8b68-f19cd0d29d7c",
   "metadata": {},
   "source": [
    "&emsp;&emsp;尽管大模型在函数功能的语义理解层面不如人类程序员，但大模型却有自己的得天独厚的优势——能够不知疲倦的反复高效的创建代码，并且能够对自己编写的代码进行自动审查。因此我们完全可以利用这点，来创建一个更适合大模型来执行的复杂需求函数编写流程。因此，接下来的两个方案不再考虑拆分创建个函数再组合运行的思路，而是考虑采用一个函数来满足复杂需求，并且充分借助大模型能够进行自我审查的特性，来提高这一个函数对需求满足的准确性。"
   ]
  },
  {
   "cell_type": "markdown",
   "id": "7d01b35d-f5a3-443e-af4e-4a6c4a8aa1bd",
   "metadata": {},
   "source": [
    "- 第二阶段方案二：创建嵌套函数"
   ]
  },
  {
   "cell_type": "markdown",
   "id": "99215883-07f2-45ae-956f-29d99f192b29",
   "metadata": {},
   "source": [
    "&emsp;&emsp;而如何在一个函数内完成复杂需求功能设计，首先能想到的就是创建嵌套函数，即将方案一中的函数1作为内部函数，函数2作为外部函数来创建一个嵌套函数，并由此来满足原始需求。具体执行流程如下：首先我们先单独引导大模型编写函数1和函数2的需求，并且在提示中规定函数1的输出将作为函数2的输入，然后先创建函数2，在创建完函数2的代码之后，再将函数2的参数中原本用于表示函数1输出的参数，改为函数1的参数，然后再将函数2的代码作为提示，并且在提示中说明函数1和2的功能，以及函数1是函数2的内部函数等信息，以此引导大模型创建函数1。此时由于模型是在知道函数1和2之间的关系、以及函数2的代码基础之上创建的函数1，便能够自动判断需要将未读邮件的邮件ID作为函数1的输出，才能让函数2顺利的为某些函数打上标签。在创建完函数1和函数2之后，再将其进行合并（函数1作为函数2的内部函数），并输出最终结果。"
   ]
  },
  {
   "cell_type": "markdown",
   "id": "e99b49cd-9ed4-4b60-a115-3129743d8ddb",
   "metadata": {},
   "source": [
    "&emsp;&emsp;具体方案二的执行流程可以通过如下流程图进行表示："
   ]
  },
  {
   "cell_type": "markdown",
   "id": "c1e766d6-0ca8-4d75-8972-0d8b696ef709",
   "metadata": {},
   "source": [
    "<center><img src=\"https://ml2022.oss-cn-hangzhou.aliyuncs.com/img/%E5%A4%8D%E6%9D%82%E9%9C%80%E6%B1%82%E5%87%BD%E6%95%B0%E7%BC%96%E5%86%99%E6%96%B9%E6%A1%88%E4%BA%8C.png\" alt=\"复杂需求函数编写方案二\" style=\"zoom:33%;\" />"
   ]
  },
  {
   "cell_type": "markdown",
   "id": "5e3bf1ae-4cb1-4fea-a0a9-2df9b072a79a",
   "metadata": {},
   "source": [
    "&emsp;&emsp;很明显，该流程能够非常好的借助大模型本身的能力，解决此前所面临的函数1和2无法很好的协调输入和输入的问题，同时由于一个复杂需求一个函数，因此也不存在方案一中由于大模型语义理解不稳定性造成潜在风险。总的来说，相比方案一，方案二可以说是能够更好的发挥大模型本身的能力。但是，通过仔细观察上述方案流程不难发现，方案二最核心的问题就在于需要反复给与大模型非常多段的提示（例如函数2的参数修改、函数1和2的关系等），才能很好的引导大模型完成相关工作。尽管我们也可以通过创建某个函数来流程化的批量执行这些提示，但这个流程和此前我们创建的用于编写基础函数的流程差距太大，因此并不能最大程度借鉴此前流程，从而导致需要耗费大量的人工成本、且整体效率较低。"
   ]
  },
  {
   "cell_type": "markdown",
   "id": "061344c5-a7b0-4250-9ac6-ad513bdb207e",
   "metadata": {},
   "source": [
    "&emsp;&emsp;介于此，我们需要在方案二的基础之上，进一步优化整个流程，即在这个复杂函数自动编写流程中，不仅需要扬长避短发挥大模型特性，同时也需要尽可能做到简洁优雅，需要尽可能借用此前基础函数的开发流程，并且保证一个较高的准确性。"
   ]
  },
  {
   "cell_type": "markdown",
   "id": "d4bb1777-b570-4386-9573-636540a5b350",
   "metadata": {},
   "source": [
    "- 第二阶段方案三：分别创建函数再统一代码"
   ]
  },
  {
   "cell_type": "markdown",
   "id": "01d86493-6b41-4cb6-8664-1bb2b30b0436",
   "metadata": {},
   "source": [
    "&emsp;&emsp;而最后一个方案则是在前两个方案基础之上进行优化和迭代的最终版方案，该方案非常不符合人类程序员的一般开发思路，但却是非常适合大语言模型来执行的开发流程，并且能够非常好的复用此前的基础函数的提示和审查流程，从而极大程度提升开发效率。"
   ]
  },
  {
   "cell_type": "markdown",
   "id": "8e692473-8a21-472c-bae6-b172a82e6984",
   "metadata": {},
   "source": [
    "&emsp;&emsp;方案三执行流程如下，首先和方案一一样，都是拆分两个子任务，并且分别编写两个函数以满足这两个子任务需求。并且在创建函数1和2时也是采用code_generate+function_test来进行代码编写和审查，但这里需要注意，我们在创建这两个函数时，会先创建函数1，然后将函数的输出结果作为函数2创建时的需求的一部分（注意，这里只涉及需求的拼接，不涉及提示流程的修改）。并且，我们在创建函数1和函数2时，只要求代码通顺即可，并不要求两个函数能够拼凑成一个完整的链路，即不要求函数1的输出结果是函数2的输入。此时根据我们对大模型编程能力的判断，大概率函数1和2能够分别顺利运行，但无法组成一个完整的链路。但没有关系，接下来我们再次调用code_generate+function_test流程来围绕原始需求进行函数编写（以下将该函数称为原始需求函数），并且在这个过程中同时将函数1和2的源码作为system_message带入这个编写过程，此时，大模型有函数1和2的代码作为参考，即可非常顺利的完成原始需求函数编写。需要注意的是，原始需求函数并不是函数1和函数2的拼接，而是在参考了函数1和2的代码基础之上，重新编写的一个独立且完整的函数，因此哪怕函数1和2本身并不能很好的进行衔接，也不会影响原始需求函数的代码正确性。并且，此时有了函数1和2的代码作为参考，大模型围绕复杂需求进行编程的准确性也将大幅提升。更重要的是，这个过程基本是完全复用code_generate+function_test流程，无需进行更复杂大模型提示即可完成，开发效率很高。"
   ]
  },
  {
   "cell_type": "markdown",
   "id": "5c9d77f7-4c45-4c5d-8db1-d2bcad114109",
   "metadata": {},
   "source": [
    "&emsp;&emsp;具体方案三执行流程如下："
   ]
  },
  {
   "cell_type": "markdown",
   "id": "6516dd7d-82a4-470b-bdec-2aeaabf55ab1",
   "metadata": {},
   "source": [
    "<center><img src=\"https://ml2022.oss-cn-hangzhou.aliyuncs.com/img/%E5%A4%8D%E6%9D%82%E9%9C%80%E6%B1%82%E5%87%BD%E6%95%B0%E7%BC%96%E5%86%99%E6%96%B9%E6%A1%88%E4%B8%891.png\" alt=\"复杂需求函数编写方案三1\" style=\"zoom:33%;\" />"
   ]
  },
  {
   "cell_type": "markdown",
   "id": "ca13186e-e054-458b-9e38-4db57b6839fc",
   "metadata": {},
   "source": [
    "&emsp;&emsp;当然，对于这个流程而言，从人类程序员的角度来看可能存在代码利用率较低，且代码生产的中间过程较长等问题。但是很明显，这些问题对于大模型来说，其实都不是问题。相比人类程序员，我们在借助大模型进行代码编写时，大模型创建单独一段代码的效率很高，因此只要最终能创建一个满足要求的函数，基本不用考虑代码复用率的问题。并且，大模型审查和学习其他代码的能力很强，在上述流程中，当我们已经完成了函数1和2的创建之后，哪怕是简单的输入原始需求、并且让大模型整合函数1和2的代码（提示如下图所示），也可以相对较为准确的创建复杂需求函数。而这一点对于人类程序员来说，会非常困难（可以试想下让你根据某项需求整理别人的多段代码，是多么低效的事情）。"
   ]
  },
  {
   "cell_type": "markdown",
   "id": "484a7cd0-037d-4476-8f87-b139ecdcb4fc",
   "metadata": {},
   "source": [
    "<center><img src=\"https://ml2022.oss-cn-hangzhou.aliyuncs.com/img/d02ce3f46e29b9f7aa698cc730e5e62.png\" alt=\"d02ce3f46e29b9f7aa698cc730e5e62\" style=\"zoom:33%;\" />"
   ]
  },
  {
   "cell_type": "markdown",
   "id": "c2045d54-ff5b-4066-88ae-db72b359db80",
   "metadata": {},
   "source": [
    "同时，由于最后存在一个代码审查和重写的流程，并且在没有验证前后函数是否能够顺利衔接的情况下，我们将函数1的输出作为函数2的输入进行提示来创建函数2，可能也无法真正验证函数2是否可行。因此我们甚至可以在创建子函数时直接放弃测试环节，只让其进行函数创建即可，即只采用code_generate进行函数创建。由此方案三的执行流程也可以精简为如下形式："
   ]
  },
  {
   "cell_type": "markdown",
   "id": "db3a2640-5ba7-42fe-a854-f79298a78cb3",
   "metadata": {},
   "source": [
    "<center><img src=\"https://ml2022.oss-cn-hangzhou.aliyuncs.com/img/%E6%96%B9%E6%A1%88%E4%B8%89%E7%AE%80%E5%8C%96%E7%89%88.png\" alt=\"方案三简化版\" style=\"zoom:33%;\" />"
   ]
  },
  {
   "cell_type": "markdown",
   "id": "fae19280-fc9a-4c90-ba6a-32da09aaad0c",
   "metadata": {},
   "source": [
    "&emsp;&emsp;同时，方案三的函数编写流程也同时具备非常好的可拓展性，例如面对某项复杂需求拆分成3个甚至是更多个子任务的情况，上述流程也能非常好的应对——只需要按照流程创建3个子函数，然后再让大模型进行拼接即可。从这个角度来说，方案三更像是先让大模型自己为自己添加一些辅助代码，然后再据此创建原始需求函数。"
   ]
  },
  {
   "cell_type": "markdown",
   "id": "4d896bf9-ff4a-4976-b5ef-a0f86a7fd327",
   "metadata": {},
   "source": [
    "&emsp;&emsp;综合来看，方案三是一个非常适合大模型来进行复杂问题编程的流程，不仅能够非常好的发挥大模型编程效率高且善于阅读和审查程序的编程特性，而且能够最大程度复用此前设计的code_generate+function_test代码编写流程，更重要的是，该流程的很多环节都有审查和自动debug流程，能够非常好的确保最终输出一个能够满足需求的函数。接下来，我们就尝试按照方案三的流程来创建复杂需求函数，并尝试将整个流程封装为一个更高层的函数，便于之后进行快速调用。当然，也建议大家课后可以尝试手动实现方案一和方案二，将非常有助于提升大模型应用能力，同时通过不同方案的对比，也能够更加深刻的体会什么是“用好大模型”，以及如何才能“用好大模型”。"
   ]
  },
  {
   "cell_type": "markdown",
   "id": "ae54c7d6-a1e8-4db0-b3e8-bc75e37eb9c9",
   "metadata": {},
   "source": [
    "> 再次强调，如何“用好”大模型，是大模型工程师的核心能力。同样的模型，不同的使用方法将带来完全不同的结果。"
   ]
  },
  {
   "cell_type": "markdown",
   "id": "7e222d78-70da-42ac-99ac-d8853e2eac61",
   "metadata": {},
   "source": [
    "> 自然语言编程的核心，是需要通过设计某个流程来对冲大语言模型本身语义理解的不稳定性，来最终获得一个稳定的编程结果。"
   ]
  },
  {
   "cell_type": "markdown",
   "id": "db39cc2b-db44-46e1-9964-7eb6937b6205",
   "metadata": {},
   "source": [
    "#### 3.3 复杂需求的自然语言编程流程"
   ]
  },
  {
   "cell_type": "markdown",
   "id": "fe591b91-be80-402b-a068-becd136a0116",
   "metadata": {},
   "source": [
    "&emsp;&emsp;在进行了一整套完整的理论分析之后，接下来我们尝试手动实现方案三。"
   ]
  },
  {
   "cell_type": "markdown",
   "id": "273c5ca7-f44e-4cbf-b9cf-11e115653bbd",
   "metadata": {},
   "source": [
    "- Stage 1.复杂需求拆解"
   ]
  },
  {
   "cell_type": "markdown",
   "id": "3e3f84a6-9623-405b-b887-ffea30ae602d",
   "metadata": {},
   "source": [
    "&emsp;&emsp;首先，我们需要创建一个专门用于复杂问题拆解的模型。根据此前的分析，该模型同时需要外部挂载文档以说明项目背景和复杂任务拆解的目的，同时还需要一些复杂任务拆解的示例作为Few-shot。首先先看外部文档编写方法，这里我们可以借鉴此前的《推理链修改》文档，要求非常清晰的说明项目背景，同时需要尽可能借助大模型本身的知识、通过类比的方法来介绍任务拆解的目的，并且还需要在文档的末尾进行身份设定。我们将上述内容统一编写到《复杂任务拆解》文档内，文档内容如下："
   ]
  },
  {
   "cell_type": "markdown",
   "id": "e51e028f-790e-4be1-8f11-c8a1a2bf1ba4",
   "metadata": {},
   "source": [
    "<center><img src=\"https://ml2022.oss-cn-hangzhou.aliyuncs.com/img/1691245639843.png\" alt=\"1691245639843\" style=\"zoom:33%;\" />"
   ]
  },
  {
   "cell_type": "markdown",
   "id": "0e1d729b-da58-4d76-a9a3-d4db0c0ed412",
   "metadata": {},
   "source": [
    "在这里我们对模型进行了5个方面的信息输入，首先是关于当前邮件项目的项目简介，第二点是关于任务拆解的介绍，需要注意的是，由于大模型本身就了解任务拆解的基本概念，因此第二点重点强调关于智能邮件项目的任务拆解流程；第三点是定义最小子任务概念，由于在当前复杂任务拆解过程中，我们需要确保拆解的子任务是非常容易完成的（对应函数是较为容易进行编写的），因此这里通过最小子任务的概念来介绍最终拆解的目标；第四点是关于拆解的注意事项，主要是任务顺序问题；而最后一点则是进行身份设定，规定模型身份以及对应的工作事项。"
   ]
  },
  {
   "cell_type": "markdown",
   "id": "3053c38b-f6d9-407c-944e-8af439d14ea5",
   "metadata": {},
   "source": [
    "&emsp;&emsp;接下来，即可采用如下方式将其读取为一个字符串格式对象："
   ]
  },
  {
   "cell_type": "code",
   "execution_count": 55,
   "id": "4fe2a9a3-d620-42d3-84c6-30aa3a7bc889",
   "metadata": {
    "tags": []
   },
   "outputs": [
    {
     "name": "stdout",
     "output_type": "stream",
     "text": [
      "1.什么是智能邮件项目？智能邮件项目本身由一系列的程序组成，核心功能是根据用户自然语言描述进行相应的邮件操作，如查阅邮件、收发邮件等。项目采用的邮箱API是Gmail API，并且已经获得了授权，授权文件为本地的token.json文件；\n",
      "\n",
      "2.什么是任务拆解？在智能邮件项目中，任务拆解指的是将用户需求拆解为若干个最小子任务的过程，任务拆解的目标是为了降低完成复杂任务的难度。例如以下就是一个复杂任务拆解过程，原始用户需求为Q：“请帮我查下端木天给我发送了哪些邮件，并对这些邮件内容进行总结”，该需求可以拆分为两个最小子任务，分别是A:“1.查找我和端木天之间通信的邮件列表”，“2.根据某份邮件列表，对这些邮件的主要内容进行总结”；\n",
      "\n",
      "3.什么是最小子任务？最小子任务指的是在在智能邮件项目中，在进行复杂任务拆解时拆解得到的最小任务单元。例如获取我和端木天之间的通信列表、围绕某些邮件进行内容总结，就属于最小子任务。最小子任务不可再进行任务拆解，并且最小子任务往往都是较为简单的任务，是一些可以借助Gmail API来快速的实现的功能；\n",
      "\n",
      "4.若一个任务拆解成了多个最小子任务，那么请注意这多个最小子任务的任务顺序，例如此前的例子中，查找邮件列表就应该发生在对邮件内容进行总结之前。\n",
      "\n",
      "5.你是一名任务拆解助手，负责智能邮件项目中用户需求拆解。当一个用户需求可以拆解为多个最小子任务时，请对其进行最小子任务的拆解；而当一个用户需求本身就是一个最小子任务时，则无需对其进行拆解。\n"
     ]
    }
   ],
   "source": [
    "with open('复杂任务拆解.md', 'r', encoding='utf-8') as f:\n",
    "    md_content = f.read()\n",
    "    \n",
    "print(md_content)"
   ]
  },
  {
   "cell_type": "markdown",
   "id": "a578b028-616f-4304-9ec6-1e2985adf18b",
   "metadata": {},
   "source": [
    "后续即可将其作为system message进行输入。"
   ]
  },
  {
   "cell_type": "markdown",
   "id": "3b62e27a-d318-491c-bf6c-4a61a6e6d47f",
   "metadata": {},
   "source": [
    "&emsp;&emsp;接下来继续创建Few-shot的提示示例。这里总共编写了四组难度和复杂度各不相同的四个需求进行拆解，具体提示示例如下："
   ]
  },
  {
   "cell_type": "code",
   "execution_count": 56,
   "id": "4836709b-8e38-4018-8313-522b7821f421",
   "metadata": {
    "tags": []
   },
   "outputs": [],
   "source": [
    "example1_user = 'Q:请帮我查下端木天给我发送了哪些邮件，并对这些邮件内容进行总结。'\n",
    "example1_assistent = 'A:1.请帮我整理端木天发给我的邮件列表。2.对某些给定的邮件进行邮件内容总结。'\n",
    "example2_user = 'Q:请帮我查下最近一封未读邮件的发件人。'\n",
    "example2_assistent = 'A:1.请帮我查下最近一封未读邮件的发件人。'\n",
    "example3_user = 'Q:请分析我邮箱里全部已收到的邮件，告诉我最常联系的人。'\n",
    "example3_assistent = 'A:1.请帮我整理邮箱里全部已收到邮件的邮件列表。2.根据某份邮件列表，分析并找出最常联系的人。'\n",
    "example4_user = 'Q:请在我邮箱里查找8月5号到6号的未读邮件，并找出工作相关的未读邮件，请依次给这些未读邮件回复说我正在休假，同时请将这些邮件转发给我的助理端木天。'\n",
    "example4_assistent = 'A:1.请查找并整理我邮箱里8月5号到6号的未读邮件列表。2.根据某份邮件列表，查找并汇总其中和工作有关的油价你列表。3.根据某份邮件列表，对其逐一进行回复，告诉他们我正在休假。4.根据某份邮件列表，将其逐一转发给我的助手端木天。'"
   ]
  },
  {
   "cell_type": "markdown",
   "id": "c7172417-359c-4343-add6-72237755c128",
   "metadata": {},
   "source": [
    "需要注意的是，这里我们统一通过Q&A的方式来提示模型不同内容的类型，同时拆解之后的每段文字也都以句号结尾，方便后续进行结构化字符串提取。在创建的四个提示实力中，1、3示例属于一般示例，对于大多数复杂需求来说，拆解为两个子任务基本就基本能够构成较好的自然语言编程引导，而第二个提示示例则是提醒模型，当需求较为简单时，不用进行需求拆解；而最后一个提示的示例，则是一个相对来说非常复杂的需求，总共拆解得到了4个子任务，是为了提醒模型在必要时，可以多拆分一些子任务。"
   ]
  },
  {
   "cell_type": "markdown",
   "id": "67415517-4733-4865-a0ba-aea3a6e914de",
   "metadata": {},
   "source": [
    "> 这里其实也可以将《复杂任务拆解》文档输入给大模型，让模型先帮我们创建一些示例，然后再进行人工校验和筛选。"
   ]
  },
  {
   "cell_type": "markdown",
   "id": "115997d8-ddf6-4655-9ec6-8397f1b2397d",
   "metadata": {},
   "source": [
    "&emsp;&emsp;最后，我们尝试将system message和Few-shot输入给模型，并让模型围绕当前需求进行拆解，目前需求为："
   ]
  },
  {
   "cell_type": "code",
   "execution_count": 57,
   "id": "e76c0163-5ddb-480e-9837-96c4ada83e36",
   "metadata": {
    "tags": []
   },
   "outputs": [],
   "source": [
    "req = '请查阅我邮箱里面未读邮件，从挑选有关会议邀请的邮件，并将其添加一个名称为会议预定的标签'"
   ]
  },
  {
   "cell_type": "markdown",
   "id": "fc8a86a2-7fbb-4327-9dca-11923ac71d51",
   "metadata": {},
   "source": [
    "系统消息为："
   ]
  },
  {
   "cell_type": "code",
   "execution_count": 58,
   "id": "41042a13-c97c-4d01-9238-a005ea9b8ca4",
   "metadata": {
    "tags": []
   },
   "outputs": [],
   "source": [
    "system_message = [{\"role\": \"system\", \"content\": md_content}]"
   ]
  },
  {
   "cell_type": "markdown",
   "id": "00bbdb1a-bdf7-4f27-a312-954f23955540",
   "metadata": {},
   "source": [
    "Few-shot为："
   ]
  },
  {
   "cell_type": "code",
   "execution_count": 59,
   "id": "947bd864-6fcb-4463-a5bb-dd8632a82cfd",
   "metadata": {
    "tags": []
   },
   "outputs": [],
   "source": [
    "decomp_few_shot = [{\"role\": \"user\", \"content\": example1_user},\n",
    "                   {\"role\": \"assistant\", \"content\": example1_assistent}, \n",
    "                   {\"role\": \"user\", \"content\": example2_user}, \n",
    "                   {\"role\": \"assistant\", \"content\": example2_assistent}, \n",
    "                   {\"role\": \"user\", \"content\": example3_user}, \n",
    "                   {\"role\": \"assistant\", \"content\": example3_assistent}, \n",
    "                   {\"role\": \"user\", \"content\": example4_user}, \n",
    "                   {\"role\": \"assistant\", \"content\": example4_assistent}]"
   ]
  },
  {
   "cell_type": "markdown",
   "id": "56caf483-5fd7-4cf2-9471-a99f37cad28b",
   "metadata": {},
   "source": [
    "接下来将其组合为一个完整的messages："
   ]
  },
  {
   "cell_type": "code",
   "execution_count": 60,
   "id": "0ee5d00a-6b82-419f-a674-9487fbeec231",
   "metadata": {
    "tags": []
   },
   "outputs": [
    {
     "data": {
      "text/plain": [
       "[{'role': 'system',\n",
       "  'content': '1.什么是智能邮件项目？智能邮件项目本身由一系列的程序组成，核心功能是根据用户自然语言描述进行相应的邮件操作，如查阅邮件、收发邮件等。项目采用的邮箱API是Gmail API，并且已经获得了授权，授权文件为本地的token.json文件；\\n\\n2.什么是任务拆解？在智能邮件项目中，任务拆解指的是将用户需求拆解为若干个最小子任务的过程，任务拆解的目标是为了降低完成复杂任务的难度。例如以下就是一个复杂任务拆解过程，原始用户需求为Q：“请帮我查下端木天给我发送了哪些邮件，并对这些邮件内容进行总结”，该需求可以拆分为两个最小子任务，分别是A:“1.查找我和端木天之间通信的邮件列表”，“2.根据某份邮件列表，对这些邮件的主要内容进行总结”；\\n\\n3.什么是最小子任务？最小子任务指的是在在智能邮件项目中，在进行复杂任务拆解时拆解得到的最小任务单元。例如获取我和端木天之间的通信列表、围绕某些邮件进行内容总结，就属于最小子任务。最小子任务不可再进行任务拆解，并且最小子任务往往都是较为简单的任务，是一些可以借助Gmail API来快速的实现的功能；\\n\\n4.若一个任务拆解成了多个最小子任务，那么请注意这多个最小子任务的任务顺序，例如此前的例子中，查找邮件列表就应该发生在对邮件内容进行总结之前。\\n\\n5.你是一名任务拆解助手，负责智能邮件项目中用户需求拆解。当一个用户需求可以拆解为多个最小子任务时，请对其进行最小子任务的拆解；而当一个用户需求本身就是一个最小子任务时，则无需对其进行拆解。'},\n",
       " {'role': 'user', 'content': 'Q:请帮我查下端木天给我发送了哪些邮件，并对这些邮件内容进行总结。'},\n",
       " {'role': 'assistant', 'content': 'A:1.请帮我整理端木天发给我的邮件列表。2.对某些给定的邮件进行邮件内容总结。'},\n",
       " {'role': 'user', 'content': 'Q:请帮我查下最近一封未读邮件的发件人。'},\n",
       " {'role': 'assistant', 'content': 'A:1.请帮我查下最近一封未读邮件的发件人。'},\n",
       " {'role': 'user', 'content': 'Q:请请分析我邮箱里全部已收到的邮件，告诉我最常联系的人。'},\n",
       " {'role': 'assistant',\n",
       "  'content': 'A:1.请帮我整理邮箱里全部已收到邮件的邮件列表。2.根据某份邮件列表，分析并找出最常联系的人。'},\n",
       " {'role': 'user',\n",
       "  'content': 'Q:请在我邮箱里查找8月5号到6号的未读邮件，并找出工作相关的未读邮件，请依次给这些未读邮件回复说我正在休假，同时请将这些邮件转发给我的助理端木天。'},\n",
       " {'role': 'assistant',\n",
       "  'content': 'A:1.请查找并整理我邮箱里8月5号到6号的未读邮件列表。2.根据某份邮件列表，查找并汇总其中和工作有关的油价你列表。3.根据某份邮件列表，对其逐一进行回复，告诉他们我正在休假。4.根据某份邮件列表，将其逐一转发给我的助手端木天。'}]"
      ]
     },
     "execution_count": 60,
     "metadata": {},
     "output_type": "execute_result"
    }
   ],
   "source": [
    "messages = system_message + decomp_few_shot\n",
    "messages"
   ]
  },
  {
   "cell_type": "markdown",
   "id": "56979d8d-81cc-4d4c-a979-7593203e0ce2",
   "metadata": {},
   "source": [
    "这里需要注意，为了更好的重复调用上述messages，我们将其保存在decompose_messages.json文件中，并将其放在tested functions内："
   ]
  },
  {
   "cell_type": "code",
   "execution_count": 61,
   "id": "103aabf2-f44e-4ab0-979c-aa7b2c7d61d5",
   "metadata": {
    "tags": []
   },
   "outputs": [],
   "source": [
    "with open('./functions/tested functions/%s.json' % 'decompose_messages', 'w') as f:\n",
    "    json.dump(messages, f)"
   ]
  },
  {
   "cell_type": "markdown",
   "id": "1ea11982-265a-45d9-979d-5f9eae45ad98",
   "metadata": {},
   "source": [
    "接下来输入用户需求："
   ]
  },
  {
   "cell_type": "code",
   "execution_count": 132,
   "id": "f8d52626-072b-4e62-8cf1-54de641f2298",
   "metadata": {
    "tags": []
   },
   "outputs": [],
   "source": [
    "messages.append({\"role\": \"user\", \"content\": req})"
   ]
  },
  {
   "cell_type": "code",
   "execution_count": 133,
   "id": "11077d54-7e30-4cd2-a649-b2325fe95b23",
   "metadata": {
    "tags": []
   },
   "outputs": [
    {
     "data": {
      "text/plain": [
       "[{'role': 'system',\n",
       "  'content': '1.什么是智能邮件项目？智能邮件项目本身由一系列的程序组成，核心功能是根据用户自然语言描述进行相应的邮件操作，如查阅邮件、收发邮件等。项目采用的邮箱API是Gmail API，并且已经获得了授权，授权文件为本地的token.json文件；\\n\\n2.什么是任务拆解？在智能邮件项目中，任务拆解指的是将用户需求拆解为若干个最小子任务的过程，任务拆解的目标是为了降低完成复杂任务的难度。例如以下就是一个复杂任务拆解过程，原始用户需求为Q：“请帮我查下端木天给我发送了哪些邮件，并对这些邮件内容进行总结”，该需求可以拆分为两个最小子任务，分别是A:“1.查找我和端木天之间通信的邮件列表”，“2.根据某份邮件列表，对这些邮件的主要内容进行总结”；\\n\\n3.什么是最小子任务？最小子任务指的是在在智能邮件项目中，在进行复杂任务拆解时拆解得到的最小任务单元。例如获取我和端木天之间的通信列表、围绕某些邮件进行内容总结，就属于最小子任务。最小子任务不可再进行任务拆解，并且最小子任务往往都是较为简单的任务，是一些可以借助Gmail API来快速的实现的功能；\\n\\n4.若一个任务拆解成了多个最小子任务，那么请注意这多个最小子任务的任务顺序，例如此前的例子中，查找邮件列表就应该发生在对邮件内容进行总结之前。\\n\\n5.你是一名任务拆解助手，负责智能邮件项目中用户需求拆解。当一个用户需求可以拆解为多个最小子任务时，请对其进行最小子任务的拆解；而当一个用户需求本身就是一个最小子任务时，则无需对其进行拆解。'},\n",
       " {'role': 'user', 'content': 'Q:请帮我查下端木天给我发送了哪些邮件，并对这些邮件内容进行总结。'},\n",
       " {'role': 'assistant', 'content': 'A:1.请帮我整理端木天发给我的邮件列表。2.对某些给定的邮件进行邮件内容总结。'},\n",
       " {'role': 'user', 'content': 'Q:请帮我查下最近一封未读邮件的发件人。'},\n",
       " {'role': 'assistant', 'content': 'A:1.请帮我查下最近一封未读邮件的发件人。'},\n",
       " {'role': 'user', 'content': 'Q:请请分析我邮箱里全部已收到的邮件，告诉我最常联系的人。'},\n",
       " {'role': 'assistant',\n",
       "  'content': 'A:1.请帮我整理邮箱里全部已收到邮件的邮件列表。2.根据某份邮件列表，分析并找出最常联系的人。'},\n",
       " {'role': 'user',\n",
       "  'content': 'Q:请在我邮箱里查找8月5号到6号的未读邮件，并找出工作相关的未读邮件，请依次给这些未读邮件回复说我正在休假，同时请将这些邮件转发给我的助理端木天。'},\n",
       " {'role': 'assistant',\n",
       "  'content': 'A:1.请查找并整理我邮箱里8月5号到6号的未读邮件列表。2.根据某份邮件列表，查找并汇总其中和工作有关的油价你列表。3.根据某份邮件列表，对其逐一进行回复，告诉他们我正在休假。4.根据某份邮件列表，将其逐一转发给我的助手端木天。'},\n",
       " {'role': 'user', 'content': '请查阅我邮箱里面未读邮件，从挑选有关会议邀请的邮件，并将其添加一个名称为会议预定的标签'}]"
      ]
     },
     "execution_count": 133,
     "metadata": {},
     "output_type": "execute_result"
    }
   ],
   "source": [
    "messages"
   ]
  },
  {
   "cell_type": "markdown",
   "id": "a228378b-51fe-4988-b715-4c2af7f341e5",
   "metadata": {},
   "source": [
    "对其进行任务拆解："
   ]
  },
  {
   "cell_type": "code",
   "execution_count": 134,
   "id": "a38583af-2322-49cf-9833-6bbe0d6d6f5b",
   "metadata": {
    "tags": []
   },
   "outputs": [],
   "source": [
    "response = openai.ChatCompletion.create(\n",
    "                model='gpt-4-0613',\n",
    "                messages=messages\n",
    "            )"
   ]
  },
  {
   "cell_type": "code",
   "execution_count": 135,
   "id": "a5f4b24e-cd45-4798-88e3-c91188e8fd72",
   "metadata": {
    "tags": []
   },
   "outputs": [
    {
     "data": {
      "text/plain": [
       "'A:1.请查找并整理我邮箱里所有的未读邮件列表。2.根据某份邮件列表，筛选出其中和会议邀请有关的邮件。3.对某些给定的邮件，添加一个名称为会议预定的标签。'"
      ]
     },
     "execution_count": 135,
     "metadata": {},
     "output_type": "execute_result"
    }
   ],
   "source": [
    "res = response.choices[0].message['content']\n",
    "res"
   ]
  },
  {
   "cell_type": "markdown",
   "id": "01677b0e-aa27-478c-b318-658f4a7a2454",
   "metadata": {},
   "source": [
    "这里模型将原始需求拆分为了三个子任务。当然对于我们即将要执行的方案三来说，无论拆分多少个子任务，都是可以依次创建对应部分代码并进行合并的。"
   ]
  },
  {
   "cell_type": "markdown",
   "id": "df9eb4a5-6bb2-4dae-be75-55c36f0a6d39",
   "metadata": {},
   "source": [
    "&emsp;&emsp;接下来，我们即可采用如下正则表达式提取拆分出来的每个子任务："
   ]
  },
  {
   "cell_type": "code",
   "execution_count": 136,
   "id": "fd985ae7-677c-4251-9a49-aea0d6cea892",
   "metadata": {
    "tags": []
   },
   "outputs": [
    {
     "name": "stdout",
     "output_type": "stream",
     "text": [
      "请查找并整理我邮箱里所有的未读邮件列表。\n",
      "根据某份邮件列表，筛选出其中和会议邀请有关的邮件。\n",
      "对某些给定的邮件，添加一个名称为会议预定的标签。\n"
     ]
    }
   ],
   "source": [
    "# 使用正则表达式查找以1、2、3开始的句子\n",
    "matches = re.findall(r'\\d\\.(.*?。)', res)\n",
    "\n",
    "for match in matches:\n",
    "    print(match)"
   ]
  },
  {
   "cell_type": "markdown",
   "id": "f928e372-b7cf-4d9d-b50b-376fff205c1a",
   "metadata": {},
   "source": [
    "这里我们将其分别定义："
   ]
  },
  {
   "cell_type": "code",
   "execution_count": 137,
   "id": "a4c087d5-d6a2-46d1-9789-bebcf75e10f7",
   "metadata": {
    "tags": []
   },
   "outputs": [],
   "source": [
    "sub_req1 = '请查找并整理我邮箱里所有的未读邮件列表。'\n",
    "sub_req2 = '根据某份邮件列表，筛选出其中和会议邀请有关的邮件。'\n",
    "sub_req3 = '对某些给定的邮件，添加一个名称为会议预定的标签。'"
   ]
  },
  {
   "cell_type": "markdown",
   "id": "7dffe223-2328-4c3e-b696-8bd6e8b48ccc",
   "metadata": {},
   "source": [
    "至此，我们就完成了原始任务的拆解部分工作。当然，我们也可以将上述过程封装为一个完整的函数，方便之后进行灵活调用："
   ]
  },
  {
   "cell_type": "code",
   "execution_count": 5,
   "id": "51cdc186-8b29-4c3e-93f3-835b6231d312",
   "metadata": {
    "tags": []
   },
   "outputs": [],
   "source": [
    "def get_decompose_results(req, model='gpt-4-0613'):\n",
    "    \"\"\"\n",
    "    复杂需求拆解函数，能够将用户输入的复杂需求拆解为一系列更容易完成的子任务\n",
    "    :param req: 必选参数，以字符串形式表示，用于表示用户输入的原始需求；\n",
    "    :param model: 拆解需求所使用的大模型；\n",
    "    :return：由子任务所组成的列表；\n",
    "    \"\"\"\n",
    "    \n",
    "    decompose_results = []\n",
    "    \n",
    "    with open('./functions/tested functions/decompose_messages.json', 'r') as f:\n",
    "        decompose_messages = json.load(f)\n",
    "        \n",
    "    decompose_messages.append({\"role\": \"user\", \"content\": req})\n",
    "    \n",
    "    response = openai.ChatCompletion.create(\n",
    "                model=model,\n",
    "                messages=decompose_messages\n",
    "            )\n",
    "    \n",
    "    res = response.choices[0].message['content']\n",
    "    \n",
    "    # 使用正则表达式查找以1、2、3开始的句子\n",
    "    matches = re.findall(r'\\d\\.(.*?。)', res)\n",
    "\n",
    "    for match in matches:\n",
    "        decompose_results.append(match)\n",
    "        \n",
    "    return decompose_results"
   ]
  },
  {
   "cell_type": "code",
   "execution_count": 66,
   "id": "a2beff3c-e041-4ea1-9285-0191b940d715",
   "metadata": {
    "tags": []
   },
   "outputs": [
    {
     "data": {
      "text/plain": [
       "'请查阅我邮箱里面未读邮件，从挑选有关会议邀请的邮件，并将其添加一个名称为会议预定的标签'"
      ]
     },
     "execution_count": 66,
     "metadata": {},
     "output_type": "execute_result"
    }
   ],
   "source": [
    "req"
   ]
  },
  {
   "cell_type": "code",
   "execution_count": 67,
   "id": "0208b367-a4cd-40df-9171-73b53d662f52",
   "metadata": {
    "tags": []
   },
   "outputs": [
    {
     "data": {
      "text/plain": [
       "['请帮我整理我的未读邮件列表。', '根据某份邮件列表，筛选出会议邀请的邮件。', '对某些给定邮件添加会议预定的标签。']"
      ]
     },
     "execution_count": 67,
     "metadata": {},
     "output_type": "execute_result"
    }
   ],
   "source": [
    "get_decompose_results(req)"
   ]
  },
  {
   "cell_type": "markdown",
   "id": "5950c83d-e060-4ae9-a76a-3fcbc4069f1a",
   "metadata": {},
   "source": [
    "- Stage 2.子任务函数编写与汇总"
   ]
  },
  {
   "cell_type": "markdown",
   "id": "b9c1e80e-9f36-480c-88ac-9e0ba85e2936",
   "metadata": {},
   "source": [
    "&emsp;&emsp;接下来，我们即可围绕每个子任务进行函数编写。这里需要注意，正如此前所说，由于某些子任务的需求需要用到此前一个子需求的输出结果，因此目前需求描述其实并不明确，例如'将某份挑选好的邮件添加上会议预定的标签。'这里的某份目前还没被筛选出来，因此单独依靠这个需求，是无法创建一个能够通过function_test测试的函数的，外加当前阶段创建的子任务函数，最终都是要进行最终的整理、汇总以及测试的，因此目前每个子函数的代码正确与否并不会对最终函数有根本性的影响，因此这里我们考虑直接采用code_generate函数进行函数创建，并跳过测试环节。"
   ]
  },
  {
   "cell_type": "markdown",
   "id": "2465dc6b-f953-4dee-99c3-d18251368b6b",
   "metadata": {},
   "source": [
    "&emsp;&emsp;接下来使用code_generate函数创建三个子需求的函数，创建过程如下："
   ]
  },
  {
   "cell_type": "code",
   "execution_count": 138,
   "id": "c90fcb51-58f8-400d-8dc3-ebf1f276cd13",
   "metadata": {
    "collapsed": true,
    "jupyter": {
     "outputs_hidden": true
    },
    "tags": []
   },
   "outputs": [
    {
     "name": "stdout",
     "output_type": "stream",
     "text": [
      "第一阶段CD环节提示创建完毕，正在进行CD提示...\n",
      "第一阶段CD环节提示完毕\n",
      "第一阶段CM环节提示创建完毕，正在进行第一阶段CM提示...\n",
      "第一阶段CM环节提示完毕\n",
      "第二阶段提示创建完毕，正在进行第二阶段提示...\n",
      "第二阶段提示完毕，准备运行函数并编写提示示例\n",
      "def get_unread_emails(userId='me'):\n",
      "    \"\"\"\n",
      "    根据给定的userId，查询Gmail邮箱中所有未读的邮件\n",
      "    :param userId: 非必要参数，默认为'me'，表示查询调用此函数的用户在Gmail中的未读邮件\n",
      "    :return 其结果是一个json对象，包含所有未读邮件的列表\n",
      "    \"\"\"\n",
      "    # 从本地文件中加载凭据\n",
      "    creds = Credentials.from_authorized_user_file('token.json')\n",
      "\n",
      "    # 创建 Gmail API 的 service 客户对象\n",
      "    service = build('gmail', 'v1', credentials=creds)\n",
      "\n",
      "    # 列出用户的所有邮件\n",
      "    results = service.users().messages().list(userId=userId, q='is:unread').execute()\n",
      "    messages = results.get('messages', [])\n",
      "\n",
      "    unread_emails = []\n",
      "    if not messages:\n",
      "        return json.dumps({\"error\":\"No unread emails found.\"})\n",
      "    for message in messages:\n",
      "        msg = service.users().messages().get(userId=userId, id=message['id']).execute()\n",
      "        email_data = msg['payload']['headers']\n",
      "        for d in email_data:\n",
      "            if d['name'] == 'Subject':\n",
      "                sub = d['value']\n",
      "        unread_emails.append({\"id\": message['id'], \n",
      "                              \"subject\": sub, \n",
      "                              \"snippet\": msg['snippet']})\n",
      "\n",
      "    return json.dumps(unread_emails)\n",
      "\n",
      "新函数保存在./functions/untested functions/get_unread_emails/get_unread_emails_module.py文件中\n",
      "新函数提示示例保存在./functions/untested functions/get_unread_emails/get_unread_emails_prompt.json文件中\n",
      "done\n"
     ]
    }
   ],
   "source": [
    "func1_name = code_generate(sub_req1, few_shot='all', g=globals(), detail=1)"
   ]
  },
  {
   "cell_type": "code",
   "execution_count": 139,
   "id": "8eecb1d1-2316-42b1-b2f5-94ba8f952788",
   "metadata": {
    "collapsed": true,
    "jupyter": {
     "outputs_hidden": true
    },
    "tags": []
   },
   "outputs": [
    {
     "name": "stdout",
     "output_type": "stream",
     "text": [
      "第一阶段CD环节提示创建完毕，正在进行CD提示...\n",
      "第一阶段CD环节提示完毕\n",
      "第一阶段CM环节提示创建完毕，正在进行第一阶段CM提示...\n",
      "第一阶段CM环节提示完毕\n",
      "第二阶段提示创建完毕，正在进行第二阶段提示...\n",
      "第二阶段提示完毕，准备运行函数并编写提示示例\n",
      "def find_meeting_invitations(query, email_list):\n",
      "    \"\"\"\n",
      "    根据传入的邮件列表，筛选出其中和会议邀请相关的邮件。\n",
      "\n",
      "    参数:\n",
      "    query: 要筛选的邮件内容字符串。\n",
      "    email_list: 要筛选的邮件列表，列表项为字典，其中包含邮件的主要信息。\n",
      "\n",
      "    返回:\n",
      "    一个列表，其中每个元素是一个字典，表示与会议活动相关的一封邮件。每个字典包含以下键：\n",
      "    'From': 发件人的邮箱地址。\n",
      "    'Date': 邮件的发送日期。\n",
      "    'Subject': 邮件的主题。\n",
      "    'Snippet': 邮件的摘要（前100个字符）。\n",
      "\n",
      "    将查询到的邮件列表以json格式对象返回。\n",
      "\n",
      "    注意：\n",
      "    email_list是一个邮件列表，每封邮件的信息都以字典形式储存在列表中；\n",
      "    字典需要包含邮件的\"From\"、\"Date\"、\"Subject\" 和 \"Snippet\" 信息；\n",
      "    若不包含这些信息可能会导致函数出错。\n",
      "    \"\"\"\n",
      "\n",
      "    related_emails = []\n",
      "    for email in email_list:\n",
      "        if query.lower() in email['Subject'].lower() or query.lower() in email['Snippet'].lower():\n",
      "            related_emails.append(email)\n",
      "\n",
      "    return json.dumps(related_emails)\n",
      "新函数保存在./functions/untested functions/find_meeting_invitations/find_meeting_invitations_module.py文件中\n",
      "新函数提示示例保存在./functions/untested functions/find_meeting_invitations/find_meeting_invitations_prompt.json文件中\n",
      "done\n"
     ]
    }
   ],
   "source": [
    "func2_name = code_generate(sub_req2, few_shot='all', g=globals(), detail=1)"
   ]
  },
  {
   "cell_type": "code",
   "execution_count": 140,
   "id": "7767d3ff-00cd-4748-9c6e-61cdb3707ad6",
   "metadata": {
    "collapsed": true,
    "jupyter": {
     "outputs_hidden": true
    },
    "tags": []
   },
   "outputs": [
    {
     "name": "stdout",
     "output_type": "stream",
     "text": [
      "第一阶段CD环节提示创建完毕，正在进行CD提示...\n",
      "第一阶段CD环节提示完毕\n",
      "第一阶段CM环节提示创建完毕，正在进行第一阶段CM提示...\n",
      "第一阶段CM环节提示完毕\n",
      "第二阶段提示创建完毕，正在进行第二阶段提示...\n",
      "第二阶段提示完毕，准备运行函数并编写提示示例\n",
      "def add_label_to_email(target_mails, label_name):\n",
      "    \"\"\"\n",
      "    给指定的邮件添加一个标签。\n",
      "\n",
      "    参数:\n",
      "    target_mails: 需要添加标签的邮件的ID或者列表。\n",
      "    label_name: 需要添加的标签的名字。\n",
      "\n",
      "    返回:\n",
      "    处理完成之后的邮件状态，返回结果本身是json格式对象。\n",
      "    \"\"\"\n",
      "\n",
      "    # 列出指定用户的所有标签\n",
      "    results = service.users().labels().list(userId='me').execute()\n",
      "    labels = results.get('labels', [])\n",
      "\n",
      "    # 获取所需标签的名字\n",
      "    for label in labels:\n",
      "        if label['name'] == label_name:\n",
      "            label_id = label['id']\n",
      "            break\n",
      "    \n",
      "    # 如果标签不存在，则创建该标签\n",
      "    if label_id is None:\n",
      "        label_obj = {\n",
      "            'name': label_name\n",
      "        }\n",
      "        label = service.users().labels().create(userId='me', body=label_obj).execute()\n",
      "        label_id = label['id']\n",
      "\n",
      "    # 为邮件添加标签\n",
      "    add_label = {\n",
      "        'addLabelIds': [label_id],\n",
      "        'removeLabelIds': []\n",
      "    }\n",
      "    response = service.users().messages().modify(userId='me', id=target_mails, body=add_label).execute()\n",
      "\n",
      "    return json.dumps(response)\n",
      "新函数保存在./functions/untested functions/add_label_to_email/add_label_to_email_module.py文件中\n",
      "新函数提示示例保存在./functions/untested functions/add_label_to_email/add_label_to_email_prompt.json文件中\n",
      "done\n"
     ]
    }
   ],
   "source": [
    "func3_name = code_generate(sub_req3, few_shot='all', g=globals(), detail=1)"
   ]
  },
  {
   "cell_type": "markdown",
   "id": "f8806e6b-653a-47a1-b1e4-cb9119a17c0b",
   "metadata": {},
   "source": [
    "&emsp;&emsp;三个子函数创建过程并不复杂，接下来考虑将其进行合并。正如此前所说，一个最简单的合并方法就是简单的让大模型对这几个函数的代码进行合并，并且要求代码通畅可运行，同时可以满足复杂用户需求，这里我们采用如下方式将函数源码转化为字符串格式对象："
   ]
  },
  {
   "cell_type": "code",
   "execution_count": 14,
   "id": "35a44fb6-d67e-4d9e-9157-956d359132e1",
   "metadata": {
    "tags": []
   },
   "outputs": [],
   "source": [
    "with open('./functions/untested functions/%s/%s_module.py' % (func1_name, func1_name), encoding='utf-8') as f:\n",
    "    func1_str = f.read()\n",
    "    \n",
    "with open('./functions/untested functions/%s/%s_module.py' % (func2_name, func2_name), encoding='utf-8') as f:\n",
    "    func2_str = f.read()\n",
    "    \n",
    "with open('./functions/untested functions/%s/%s_module.py' % (func3_name, func3_name), encoding='utf-8') as f:\n",
    "    func3_str = f.read()"
   ]
  },
  {
   "cell_type": "markdown",
   "id": "37d9c3b3-1f3a-4dae-82ea-4f5825e0de98",
   "metadata": {},
   "source": [
    "然后输入到大模型中，令其读取这三段代码并对其进行合并："
   ]
  },
  {
   "cell_type": "code",
   "execution_count": 146,
   "id": "a96faabc-c3a4-4af3-9e7c-53fb2604e409",
   "metadata": {
    "tags": []
   },
   "outputs": [],
   "source": [
    "response = openai.ChatCompletion.create(\n",
    "  model='gpt-3.5-turbo-16k-0613',\n",
    "  messages=[\n",
    "      {\"role\": \"system\", \"content\": '以下是函数1的代码：%s' % func1_str},\n",
    "      {\"role\": \"system\", \"content\": '以下是函数2的代码：%s' % func2_str},\n",
    "      {\"role\": \"system\", \"content\": '以下是函数3的代码：%s' % func3_str},\n",
    "      {\"role\": \"user\", \"content\": '请将函数1、函数2和函数3的代码功能整合到一个函数中，要求该函数功能完整，并且可以满足以下需求：%s' % req}\n",
    "  ]\n",
    ")"
   ]
  },
  {
   "cell_type": "markdown",
   "id": "cfd44884-5579-4e1e-81b2-5cbfe6d58293",
   "metadata": {},
   "source": [
    "得到结果如下："
   ]
  },
  {
   "cell_type": "code",
   "execution_count": 147,
   "id": "152a38f1-9bf6-47da-a375-358ba0a63e41",
   "metadata": {
    "tags": []
   },
   "outputs": [
    {
     "data": {
      "text/plain": [
       "'以下是整合后的函数代码：\\n\\n```python\\ndef process_emails():\\n    \"\"\"\\n    从Gmail邮箱中获取未读邮件，并筛选出与会议邀请相关的邮件，然后将其加上名为会议预定的标签。\\n    \"\"\"\\n    # 从本地文件中加载凭据\\n    creds = Credentials.from_authorized_user_file(\\'token.json\\')\\n\\n    # 创建 Gmail API 的 service 客户对象\\n    service = build(\\'gmail\\', \\'v1\\', credentials=creds)\\n\\n    # 获取未读邮件\\n    results = service.users().messages().list(userId=\\'me\\', q=\\'is:unread\\').execute()\\n    messages = results.get(\\'messages\\', [])\\n\\n    unread_emails = []\\n    if not messages:\\n        return json.dumps({\"error\":\"No unread emails found.\"})\\n    for message in messages:\\n        msg = service.users().messages().get(userId=\\'me\\', id=message[\\'id\\']).execute()\\n        email_data = msg[\\'payload\\'][\\'headers\\']\\n        for d in email_data:\\n            if d[\\'name\\'] == \\'Subject\\':\\n                sub = d[\\'value\\']\\n        unread_emails.append({\"id\": message[\\'id\\'], \\n                              \"subject\": sub, \\n                              \"snippet\": msg[\\'snippet\\']})\\n\\n    # 筛选与会议邀请相关的邮件\\n    query = \\'会议邀请\\'\\n    related_emails = []\\n    for email in unread_emails:\\n        if query.lower() in email[\\'subject\\'].lower() or query.lower() in email[\\'snippet\\'].lower():\\n            related_emails.append(email)\\n\\n    # 添加名为“会议预定”的标签\\n    label_name = \\'会议预定\\'\\n\\n    results = service.users().labels().list(userId=\\'me\\').execute()\\n    labels = results.get(\\'labels\\', [])\\n    label_id = None\\n\\n    for label in labels:\\n        if label[\\'name\\'] == label_name:\\n            label_id = label[\\'id\\']\\n            break\\n\\n    if label_id is None:\\n        label_obj = {\\n            \\'name\\': label_name\\n        }\\n        label = service.users().labels().create(userId=\\'me\\', body=label_obj).execute()\\n        label_id = label[\\'id\\']\\n\\n    for email in related_emails:\\n        add_label = {\\n            \\'addLabelIds\\': [label_id],\\n            \\'removeLabelIds\\': []\\n        }\\n        response = service.users().messages().modify(userId=\\'me\\', id=email[\\'id\\'], body=add_label).execute()\\n\\n    return json.dumps(related_emails)\\n```\\n\\n该函数将封装获取未读邮件、筛选与会议邀请相关的邮件和添加标签的功能，并返回与会议邀请相关的邮件列表的 JSON 对象。'"
      ]
     },
     "execution_count": 147,
     "metadata": {},
     "output_type": "execute_result"
    }
   ],
   "source": [
    "s = response.choices[0].message['content']\n",
    "s"
   ]
  },
  {
   "cell_type": "markdown",
   "id": "72e3c193-6728-4ed8-b2ac-164c445b3ac7",
   "metadata": {},
   "source": [
    "然后使用extract_function_code函数提取代码源码并进行运行："
   ]
  },
  {
   "cell_type": "code",
   "execution_count": 148,
   "id": "e0512ac8-362b-4b8c-91d2-646984bcb2ed",
   "metadata": {
    "collapsed": true,
    "jupyter": {
     "outputs_hidden": true
    },
    "tags": []
   },
   "outputs": [
    {
     "name": "stdout",
     "output_type": "stream",
     "text": [
      "def process_emails():\n",
      "    \"\"\"\n",
      "    从Gmail邮箱中获取未读邮件，并筛选出与会议邀请相关的邮件，然后将其加上名为会议预定的标签。\n",
      "    \"\"\"\n",
      "    # 从本地文件中加载凭据\n",
      "    creds = Credentials.from_authorized_user_file('token.json')\n",
      "\n",
      "    # 创建 Gmail API 的 service 客户对象\n",
      "    service = build('gmail', 'v1', credentials=creds)\n",
      "\n",
      "    # 获取未读邮件\n",
      "    results = service.users().messages().list(userId='me', q='is:unread').execute()\n",
      "    messages = results.get('messages', [])\n",
      "\n",
      "    unread_emails = []\n",
      "    if not messages:\n",
      "        return json.dumps({\"error\":\"No unread emails found.\"})\n",
      "    for message in messages:\n",
      "        msg = service.users().messages().get(userId='me', id=message['id']).execute()\n",
      "        email_data = msg['payload']['headers']\n",
      "        for d in email_data:\n",
      "            if d['name'] == 'Subject':\n",
      "                sub = d['value']\n",
      "        unread_emails.append({\"id\": message['id'], \n",
      "                              \"subject\": sub, \n",
      "                              \"snippet\": msg['snippet']})\n",
      "\n",
      "    # 筛选与会议邀请相关的邮件\n",
      "    query = '会议邀请'\n",
      "    related_emails = []\n",
      "    for email in unread_emails:\n",
      "        if query.lower() in email['subject'].lower() or query.lower() in email['snippet'].lower():\n",
      "            related_emails.append(email)\n",
      "\n",
      "    # 添加名为“会议预定”的标签\n",
      "    label_name = '会议预定'\n",
      "\n",
      "    results = service.users().labels().list(userId='me').execute()\n",
      "    labels = results.get('labels', [])\n",
      "    label_id = None\n",
      "\n",
      "    for label in labels:\n",
      "        if label['name'] == label_name:\n",
      "            label_id = label['id']\n",
      "            break\n",
      "\n",
      "    if label_id is None:\n",
      "        label_obj = {\n",
      "            'name': label_name\n",
      "        }\n",
      "        label = service.users().labels().create(userId='me', body=label_obj).execute()\n",
      "        label_id = label['id']\n",
      "\n",
      "    for email in related_emails:\n",
      "        add_label = {\n",
      "            'addLabelIds': [label_id],\n",
      "            'removeLabelIds': []\n",
      "        }\n",
      "        response = service.users().messages().modify(userId='me', id=email['id'], body=add_label).execute()\n",
      "\n",
      "    return json.dumps(related_emails)\n",
      "\n"
     ]
    },
    {
     "data": {
      "text/plain": [
       "'process_emails'"
      ]
     },
     "execution_count": 148,
     "metadata": {},
     "output_type": "execute_result"
    }
   ],
   "source": [
    "extract_function_code(s, detail=1, tested=False, g=globals())"
   ]
  },
  {
   "cell_type": "markdown",
   "id": "be0a1c2b-3aea-4fd2-8c06-95f03dfd5a14",
   "metadata": {},
   "source": [
    "能够发现，由于该函数的创建过程没有提醒寻找用户需求中变量的环节，因此导致最终创建的函数并不包含任何参数，直接运行即可完成当前需求。这里我们简单运行该函数，测试能否将未读邮件中包含会议邀请的邮件标记为会议预定。在运行函数前，邮箱里包含一封来自端木天的会议邀请邮件："
   ]
  },
  {
   "cell_type": "markdown",
   "id": "ae61ffc8-2e71-42fd-abde-2343f534ae0d",
   "metadata": {},
   "source": [
    "<center><img src=\"https://ml2022.oss-cn-hangzhou.aliyuncs.com/img/8753ed817977862b67b97a10d15f5af.png\" alt=\"8753ed817977862b67b97a10d15f5af\" style=\"zoom:33%;\" />"
   ]
  },
  {
   "cell_type": "markdown",
   "id": "830ed187-9c06-4169-90db-2cccac598155",
   "metadata": {},
   "source": [
    "接下来运行该函数："
   ]
  },
  {
   "cell_type": "code",
   "execution_count": 149,
   "id": "616bea78-7b67-49d2-80d9-bf35263ca8f7",
   "metadata": {
    "tags": []
   },
   "outputs": [
    {
     "data": {
      "text/plain": [
       "'[{\"id\": \"189c680ef21a1940\", \"subject\": \"\\\\u4f1a\\\\u8bae\\\\u9080\\\\u8bf7\", \"snippet\": \"\\\\u4f1a\\\\u8bae\\\\u9080\\\\u8bf7 \\\\u9080\\\\u8bf7\\\\u60a88\\\\u670821\\\\u65e5\\\\u4e0a\\\\u5348\\\\u53c2\\\\u52a0\\\\u6280\\\\u672f\\\\u90e8\\\\u7814\\\\u8ba8\\\\u4f1a\\\\u3002\"}, {\"id\": \"189bfa28e31ab424\", \"subject\": \"\\\\u4f1a\\\\u8bae\\\\u9080\\\\u8bf7\", \"snippet\": \"\\\\u9080\\\\u8bf7\\\\u60a88\\\\u670821\\\\u53f7\\\\u4e0a\\\\u534810\\\\u70b9\\\\u53c2\\\\u52a0\\\\u7814\\\\u53d1\\\\u8ba1\\\\u5212\\\\u8ba8\\\\u8bba\\\\u4f1a\\\\u8bae\\\\u3002\"}]'"
      ]
     },
     "execution_count": 149,
     "metadata": {},
     "output_type": "execute_result"
    }
   ],
   "source": [
    "process_emails()"
   ]
  },
  {
   "cell_type": "markdown",
   "id": "7eadc8b4-7dbe-492d-8607-d33dc5657973",
   "metadata": {},
   "source": [
    "运行结束后，该邮件被顺利标记为会议预定："
   ]
  },
  {
   "cell_type": "markdown",
   "id": "57c5c157-b082-4c67-98ea-788b0007e660",
   "metadata": {},
   "source": [
    "<center><img src=\"https://ml2022.oss-cn-hangzhou.aliyuncs.com/img/1d2ad1231ff371f4215fcfceab474c9.png\" alt=\"1d2ad1231ff371f4215fcfceab474c9\" style=\"zoom:33%;\" />"
   ]
  },
  {
   "cell_type": "markdown",
   "id": "3c3b7d4f-2ea4-40e4-bb13-4a5ef9669579",
   "metadata": {},
   "source": [
    "同时，我们也可以在会议预定标签下看到该邮件："
   ]
  },
  {
   "cell_type": "markdown",
   "id": "d01b7f01-3362-40c3-82e6-c7c47f712158",
   "metadata": {},
   "source": [
    "<center><img src=\"https://ml2022.oss-cn-hangzhou.aliyuncs.com/img/5a42b82cf9b43b30539c989a8b27531.png\" style=\"zoom:33%;\" />"
   ]
  },
  {
   "cell_type": "markdown",
   "id": "db0569a8-51ca-40c0-95cd-ccb0c417b584",
   "metadata": {},
   "source": [
    "至此，得以验证该函数可行性，同时也说明简化版的方案三本身的可行性。"
   ]
  },
  {
   "cell_type": "markdown",
   "id": "5c322e22-672e-4d3a-a4ed-7aa580385e3c",
   "metadata": {},
   "source": [
    "&emsp;&emsp;不过，需要注意的是，实际操作过程中，这种合并方式的准确率其实和子函数的代码质量有很大的关系，需要注意的是，此时由于大模型由于缺少了LtM提示流程，因此对原始编程需求理解的并不深，只能根据子函数的代码来推断原始需求的实现过程，因此一旦子函数本身质量不高，最终合并得到的函数的准确率也会比较低。而同时我们也知道，子函数的创建本身就是没有审核的，因此子函数的代码质量也极有可能是层次不齐的，因此总的来看，这种合并方式仍然存在一些不太可控的风险。"
   ]
  },
  {
   "cell_type": "markdown",
   "id": "eb0dd434-ef7c-4d3f-b34b-1fd9b3d2f53e",
   "metadata": {},
   "source": [
    "#### 3.4 复杂需求的自动自然语言编程流程"
   ]
  },
  {
   "cell_type": "markdown",
   "id": "e27d5321-46e6-4d72-b2df-b1f4caff616c",
   "metadata": {},
   "source": [
    "&emsp;&emsp;而对于大模型工程师来说，核心职能之一就是应用好大模型的一些不稳定的特性，来围绕某些问题提供非常稳定的解决方案。因此接下来我们尝试按照严格的code_generate+function_test流程来进行子函数的合并，并进行准确性更好的原始需求函数编写流程。当然，在这个流程中，子函数合并其实指的是将子函数视作code_generate第三阶段提示的system message用于辅助函数编写，并不是简单的审查与合并。需要注意的是，我们在创建code_generate函数时，其实是将每个阶段的system messages写死了的，我们无法通过外部参数来调整各阶段的system message。这里在code_generate函数中的system message部分代码如下："
   ]
  },
  {
   "cell_type": "markdown",
   "id": "4014de4c-d01c-495c-978b-d91a52bbac23",
   "metadata": {},
   "source": [
    "<center><img src=\"https://ml2022.oss-cn-hangzhou.aliyuncs.com/img/58affbb4f67d821d8fba6e5eb0f71bf.png\" alt=\"58affbb4f67d821d8fba6e5eb0f71bf\" style=\"zoom:33%;\" />"
   ]
  },
  {
   "cell_type": "markdown",
   "id": "ab2d7b30-ecce-4340-9cd8-6817c32f9d38",
   "metadata": {},
   "source": [
    "因此，我们需要修改此前定义的code_generate函数，为其增加一个system_messages参数。该参数默认取值为None，表示导入本地保存的system_messages.json对象，否则输入外部messages作为system_messages:"
   ]
  },
  {
   "cell_type": "code",
   "execution_count": 45,
   "id": "c03d354d-4da4-437a-83b5-390d79cdfb7d",
   "metadata": {
    "tags": []
   },
   "outputs": [],
   "source": [
    "def code_generate(req, few_shot='all', model='gpt-4-0613', g=globals(), detail=0, system_messages=None):\n",
    "    \"\"\"\n",
    "    Function calling外部函数自动创建函数，可以根据用户的需求，直接将其翻译为Chat模型可以直接调用的外部函数代码。\n",
    "    :param req: 必要参数，字符串类型，表示输入的用户需求；\n",
    "    :param few_shot: 可选参数，默认取值为字符串all，用于描述Few-shot提示示例的选取方案，当输入字符串all时，则代表提取当前外部函数库中全部测试过的函数作为Few-shot；\\\n",
    "    而如果输入的是一个包含了多个函数名称的list，则表示使用这些函数作为Few-shot。\n",
    "    :param model: 可选参数，表示调用的Chat模型，默认选取gpt-4-0613；\n",
    "    :param g: 可选参数，表示extract_function_code函数作用域，默认为globals()，即在当前操作空间全域内生效；\n",
    "    :param detail: 可选参数，默认取值为0，还可以取值为1，表示extract_function_code函数打印新创建的外部函数细节；\n",
    "    :param system_messages: 可选参数，默认取值为None，此时读取本地system_messages.json作为系统信息，也可以自定义；\n",
    "    :return：新创建的函数名称。需要注意的是，在函数创建时，该函数也会在当前操作空间被定义，后续可以直接调用；\n",
    "    \"\"\"\n",
    "    \n",
    "    # 提取提示示例的函数名称\n",
    "    if few_shot == 'all':\n",
    "        few_shot_functions_name = show_functions(tested=True)\n",
    "    elif type(few_shot) == list:\n",
    "        few_shot_functions_name = few_shot\n",
    "    # few_shot_functions = [globals()[name] for name in few_shot_functions_name]\n",
    "    \n",
    "    # 读取各阶段系统提示\n",
    "    if system_messages == None:\n",
    "        with open('./functions/tested functions/system_messages.json', 'r') as f:\n",
    "            system_messages = json.load(f)\n",
    "        \n",
    "    # 各阶段提示message对象\n",
    "    few_shot_messages_CM = []\n",
    "    few_shot_messages_CD = []\n",
    "    few_shot_messages = []\n",
    "    \n",
    "    # 先保存第一条消息，也就是system message\n",
    "    few_shot_messages_CD += system_messages[\"system_message_CD\"]\n",
    "    few_shot_messages_CM += system_messages[\"system_message_CM\"]\n",
    "    few_shot_messages += system_messages[\"system_message\"]\n",
    "\n",
    "    # 创建不同阶段提示message\n",
    "    for function_name in few_shot_functions_name:\n",
    "        with open('./functions/tested functions/%s/%s_prompt.json' % (function_name, function_name), 'r') as f:\n",
    "            msg = json.load(f)\n",
    "        few_shot_messages_CD += msg[\"stage1_CD\"]\n",
    "        few_shot_messages_CM += msg[\"stage1_CM\"]\n",
    "        few_shot_messages += msg['stage2']\n",
    "        \n",
    "    # 读取用户需求，作为第一阶段CD环节User content\n",
    "    new_req_CD_input = req\n",
    "    few_shot_messages_CD.append({\"role\": \"user\", \"content\": new_req_CD_input})\n",
    "    \n",
    "    print('第一阶段CD环节提示创建完毕，正在进行CD提示...')\n",
    "    \n",
    "    # 第一阶段CD环节Chat模型调用过程\n",
    "    response = openai.ChatCompletion.create(\n",
    "                  model=model,\n",
    "                  messages=few_shot_messages_CD\n",
    "                )\n",
    "    new_req_pi = response.choices[0].message['content']\n",
    "    \n",
    "    print('第一阶段CD环节提示完毕')\n",
    "    \n",
    "    # 第一阶段CM环节Messages创建\n",
    "    new_req_CM_input = new_req_CD_input + new_req_pi\n",
    "    few_shot_messages_CM.append({\"role\": \"user\", \"content\": new_req_CM_input})\n",
    "    \n",
    "    print('第一阶段CM环节提示创建完毕，正在进行第一阶段CM提示...')\n",
    "    # 第一阶段CM环节Chat模型调用过程\n",
    "    response = openai.ChatCompletion.create(\n",
    "                      model=model,\n",
    "                      messages=few_shot_messages_CM\n",
    "                    )\n",
    "    new_req_description = response.choices[0].message['content']\n",
    "    \n",
    "    print('第一阶段CM环节提示完毕')\n",
    "    \n",
    "    # 第二阶段Messages创建过程\n",
    "    few_shot_messages.append({\"role\": \"user\", \"content\": new_req_description})\n",
    "    \n",
    "    print('第二阶段提示创建完毕，正在进行第二阶段提示...')\n",
    "    \n",
    "    # 第二阶段Chat模型调用过程\n",
    "    response = openai.ChatCompletion.create(\n",
    "                  model=model,\n",
    "                  messages=few_shot_messages\n",
    "                )\n",
    "    new_req_function = response.choices[0].message['content']\n",
    "    \n",
    "    print('第二阶段提示完毕，准备运行函数并编写提示示例')\n",
    "    \n",
    "    # 提取函数并运行，创建函数名称对象，统一都写入untested文件夹内\n",
    "    function_name = extract_function_code(s=new_req_function, detail=detail, g=g)\n",
    "    \n",
    "    print('新函数保存在./functions/untested functions/%s/%s_module.py文件中' % (function_name, function_name))\n",
    "    \n",
    "    # 创建该函数提示示例\n",
    "    new_req_messages_CD = [\n",
    "                          {\"role\": \"user\", \"content\": new_req_CD_input},\n",
    "                          {\"role\": \"assistant\", \"content\": new_req_pi}\n",
    "                         ]\n",
    "    new_req_messages_CM = [\n",
    "                          {\"role\": \"user\", \"content\": new_req_CM_input},\n",
    "                          {\"role\": \"assistant\", \"content\":new_req_description}\n",
    "                         ]\n",
    "    \n",
    "    with open('./functions/untested functions/%s/%s_module.py' % (function_name, function_name), encoding='utf-8') as f:\n",
    "        new_req_function = f.read()\n",
    "    \n",
    "    new_req_messages = [\n",
    "                       {\"role\": \"user\", \"content\": new_req_description},\n",
    "                       {\"role\": \"assistant\", \"content\":new_req_function}\n",
    "                      ] \n",
    "    \n",
    "    new_req_prompt = {\n",
    "                     \"stage1_CD\": new_req_messages_CD,\n",
    "                     \"stage1_CM\": new_req_messages_CM,\n",
    "                     \"stage2\": new_req_messages\n",
    "                    }   \n",
    "    \n",
    "    with open('./functions/untested functions/%s/%s_prompt.json' % (function_name, function_name), 'w') as f:\n",
    "        json.dump(new_req_prompt, f)\n",
    "        \n",
    "    print('新函数提示示例保存在./functions/untested functions/%s/%s_prompt.json文件中' % (function_name, function_name))\n",
    "    print('done')\n",
    "    return function_name"
   ]
  },
  {
   "cell_type": "markdown",
   "id": "4930957a-64bf-4938-a528-fd3396b438bd",
   "metadata": {},
   "source": [
    "而当我们要执行code_generate+function_test流程来进行函数合并时，需要在原始的system_messages中的第三阶段系统提示添加任务拆解结果和子函数源码："
   ]
  },
  {
   "cell_type": "code",
   "execution_count": 15,
   "id": "43713695-4d7b-43a3-a652-aa51028b4854",
   "metadata": {
    "tags": []
   },
   "outputs": [],
   "source": [
    "with open('./functions/tested functions/system_messages.json', 'r') as f:\n",
    "    system_messages = json.load(f)"
   ]
  },
  {
   "cell_type": "code",
   "execution_count": 16,
   "id": "f120bc17-66c3-4348-bbbc-19fd0e28ce25",
   "metadata": {
    "tags": []
   },
   "outputs": [
    {
     "data": {
      "text/plain": [
       "{'system_message_CD': [{'role': 'system',\n",
       "   'content': '为了更好编写满足用户需求的python函数，我们需要先识别用户需求中的变量，以作为python函数的参数。需要注意的是，当前编写的函数中涉及到的邮件收发查阅等功能，都是通过调用Gmail API来完成。'}],\n",
       " 'system_message_CM': [{'role': 'system',\n",
       "   'content': '我现在已完成Gmail API授权，授权文件为本地文件token.json。函数参数必须是字符串类型对象，函数返回结果必须是json表示的字符串对象。'}],\n",
       " 'system_message': [{'role': 'system',\n",
       "   'content': '我现在已完成Gmail API授权，授权文件为本地文件token.json。函数参数必须是字符串类型对象，函数返回结果必须是json表示的字符串对象。'}]}"
      ]
     },
     "execution_count": 16,
     "metadata": {},
     "output_type": "execute_result"
    }
   ],
   "source": [
    "system_messages"
   ]
  },
  {
   "cell_type": "code",
   "execution_count": 17,
   "id": "1e20b3d1-5c73-4ad6-bce3-9d48cd9f430a",
   "metadata": {
    "tags": []
   },
   "outputs": [
    {
     "data": {
      "text/plain": [
       "[{'role': 'system',\n",
       "  'content': '我现在已完成Gmail API授权，授权文件为本地文件token.json。函数参数必须是字符串类型对象，函数返回结果必须是json表示的字符串对象。'}]"
      ]
     },
     "execution_count": 17,
     "metadata": {},
     "output_type": "execute_result"
    }
   ],
   "source": [
    "system_messages['system_message']"
   ]
  },
  {
   "cell_type": "code",
   "execution_count": 20,
   "id": "fa87b940-52f6-48a4-a757-302129334dac",
   "metadata": {
    "tags": []
   },
   "outputs": [],
   "source": [
    "decompose_description = ('对于当前编程需求，可以拆解为若干个子需求，也就是：%s。这些子需求的实现方式可以参考：' + func1_str + func2_str + func3_str) % res[2:]"
   ]
  },
  {
   "cell_type": "code",
   "execution_count": 21,
   "id": "ebbb0b09-a9da-4117-8739-1ed0aa973a8a",
   "metadata": {
    "tags": []
   },
   "outputs": [
    {
     "data": {
      "text/plain": [
       "'对于当前编程需求，可以拆解为若干个子需求，也就是：1.请查找并整理我邮箱里所有的未读邮件列表。2.根据某份邮件列表，筛选出其中和会议邀请有关的邮件。3.对某些给定的邮件，添加一个名称为会议预定的标签。。这些子需求的实现方式可以参考：def get_unread_emails(userId=\\'me\\'):\\n    \"\"\"\\n    根据给定的userId，查询Gmail邮箱中所有未读的邮件\\n    :param userId: 非必要参数，默认为\\'me\\'，表示查询调用此函数的用户在Gmail中的未读邮件\\n    :return 其结果是一个json对象，包含所有未读邮件的列表\\n    \"\"\"\\n    # 从本地文件中加载凭据\\n    creds = Credentials.from_authorized_user_file(\\'token.json\\')\\n\\n    # 创建 Gmail API 的 service 客户对象\\n    service = build(\\'gmail\\', \\'v1\\', credentials=creds)\\n\\n    # 列出用户的所有邮件\\n    results = service.users().messages().list(userId=userId, q=\\'is:unread\\').execute()\\n    messages = results.get(\\'messages\\', [])\\n\\n    unread_emails = []\\n    if not messages:\\n        return json.dumps({\"error\":\"No unread emails found.\"})\\n    for message in messages:\\n        msg = service.users().messages().get(userId=userId, id=message[\\'id\\']).execute()\\n        email_data = msg[\\'payload\\'][\\'headers\\']\\n        for d in email_data:\\n            if d[\\'name\\'] == \\'Subject\\':\\n                sub = d[\\'value\\']\\n        unread_emails.append({\"id\": message[\\'id\\'], \\n                              \"subject\": sub, \\n                              \"snippet\": msg[\\'snippet\\']})\\n\\n    return json.dumps(unread_emails)\\ndef find_meeting_invitations(query, email_list):\\n    \"\"\"\\n    根据传入的邮件列表，筛选出其中和会议邀请相关的邮件。\\n\\n    参数:\\n    query: 要筛选的邮件内容字符串。\\n    email_list: 要筛选的邮件列表，列表项为字典，其中包含邮件的主要信息。\\n\\n    返回:\\n    一个列表，其中每个元素是一个字典，表示与会议活动相关的一封邮件。每个字典包含以下键：\\n    \\'From\\': 发件人的邮箱地址。\\n    \\'Date\\': 邮件的发送日期。\\n    \\'Subject\\': 邮件的主题。\\n    \\'Snippet\\': 邮件的摘要（前100个字符）。\\n\\n    将查询到的邮件列表以json格式对象返回。\\n\\n    注意：\\n    email_list是一个邮件列表，每封邮件的信息都以字典形式储存在列表中；\\n    字典需要包含邮件的\"From\"、\"Date\"、\"Subject\" 和 \"Snippet\" 信息；\\n    若不包含这些信息可能会导致函数出错。\\n    \"\"\"\\n\\n    related_emails = []\\n    for email in email_list:\\n        if query.lower() in email[\\'Subject\\'].lower() or query.lower() in email[\\'Snippet\\'].lower():\\n            related_emails.append(email)\\n\\n    return json.dumps(related_emails)def add_label_to_email(target_mails, label_name):\\n    \"\"\"\\n    给指定的邮件添加一个标签。\\n\\n    参数:\\n    target_mails: 需要添加标签的邮件的ID或者列表。\\n    label_name: 需要添加的标签的名字。\\n\\n    返回:\\n    处理完成之后的邮件状态，返回结果本身是json格式对象。\\n    \"\"\"\\n\\n    # 列出指定用户的所有标签\\n    results = service.users().labels().list(userId=\\'me\\').execute()\\n    labels = results.get(\\'labels\\', [])\\n\\n    # 获取所需标签的名字\\n    for label in labels:\\n        if label[\\'name\\'] == label_name:\\n            label_id = label[\\'id\\']\\n            break\\n    \\n    # 如果标签不存在，则创建该标签\\n    if label_id is None:\\n        label_obj = {\\n            \\'name\\': label_name\\n        }\\n        label = service.users().labels().create(userId=\\'me\\', body=label_obj).execute()\\n        label_id = label[\\'id\\']\\n\\n    # 为邮件添加标签\\n    add_label = {\\n        \\'addLabelIds\\': [label_id],\\n        \\'removeLabelIds\\': []\\n    }\\n    response = service.users().messages().modify(userId=\\'me\\', id=target_mails, body=add_label).execute()\\n\\n    return json.dumps(response)'"
      ]
     },
     "execution_count": 21,
     "metadata": {},
     "output_type": "execute_result"
    }
   ],
   "source": [
    "decompose_description"
   ]
  },
  {
   "cell_type": "code",
   "execution_count": 22,
   "id": "49487255-37fa-4a43-bf41-fdde73b3e99b",
   "metadata": {
    "tags": []
   },
   "outputs": [],
   "source": [
    "system_messages['system_message'].append({'role': 'system', 'content': decompose_description})"
   ]
  },
  {
   "cell_type": "code",
   "execution_count": 23,
   "id": "3dc38224-684d-4670-9caf-655138d5b90e",
   "metadata": {
    "tags": []
   },
   "outputs": [
    {
     "data": {
      "text/plain": [
       "{'system_message_CD': [{'role': 'system',\n",
       "   'content': '为了更好编写满足用户需求的python函数，我们需要先识别用户需求中的变量，以作为python函数的参数。需要注意的是，当前编写的函数中涉及到的邮件收发查阅等功能，都是通过调用Gmail API来完成。'}],\n",
       " 'system_message_CM': [{'role': 'system',\n",
       "   'content': '我现在已完成Gmail API授权，授权文件为本地文件token.json。函数参数必须是字符串类型对象，函数返回结果必须是json表示的字符串对象。'}],\n",
       " 'system_message': [{'role': 'system',\n",
       "   'content': '我现在已完成Gmail API授权，授权文件为本地文件token.json。函数参数必须是字符串类型对象，函数返回结果必须是json表示的字符串对象。'},\n",
       "  {'role': 'system',\n",
       "   'content': '对于当前编程需求，可以拆解为若干个子需求，也就是：1.请查找并整理我邮箱里所有的未读邮件列表。2.根据某份邮件列表，筛选出其中和会议邀请有关的邮件。3.对某些给定的邮件，添加一个名称为会议预定的标签。。这些子需求的实现方式可以参考：def get_unread_emails(userId=\\'me\\'):\\n    \"\"\"\\n    根据给定的userId，查询Gmail邮箱中所有未读的邮件\\n    :param userId: 非必要参数，默认为\\'me\\'，表示查询调用此函数的用户在Gmail中的未读邮件\\n    :return 其结果是一个json对象，包含所有未读邮件的列表\\n    \"\"\"\\n    # 从本地文件中加载凭据\\n    creds = Credentials.from_authorized_user_file(\\'token.json\\')\\n\\n    # 创建 Gmail API 的 service 客户对象\\n    service = build(\\'gmail\\', \\'v1\\', credentials=creds)\\n\\n    # 列出用户的所有邮件\\n    results = service.users().messages().list(userId=userId, q=\\'is:unread\\').execute()\\n    messages = results.get(\\'messages\\', [])\\n\\n    unread_emails = []\\n    if not messages:\\n        return json.dumps({\"error\":\"No unread emails found.\"})\\n    for message in messages:\\n        msg = service.users().messages().get(userId=userId, id=message[\\'id\\']).execute()\\n        email_data = msg[\\'payload\\'][\\'headers\\']\\n        for d in email_data:\\n            if d[\\'name\\'] == \\'Subject\\':\\n                sub = d[\\'value\\']\\n        unread_emails.append({\"id\": message[\\'id\\'], \\n                              \"subject\": sub, \\n                              \"snippet\": msg[\\'snippet\\']})\\n\\n    return json.dumps(unread_emails)\\ndef find_meeting_invitations(query, email_list):\\n    \"\"\"\\n    根据传入的邮件列表，筛选出其中和会议邀请相关的邮件。\\n\\n    参数:\\n    query: 要筛选的邮件内容字符串。\\n    email_list: 要筛选的邮件列表，列表项为字典，其中包含邮件的主要信息。\\n\\n    返回:\\n    一个列表，其中每个元素是一个字典，表示与会议活动相关的一封邮件。每个字典包含以下键：\\n    \\'From\\': 发件人的邮箱地址。\\n    \\'Date\\': 邮件的发送日期。\\n    \\'Subject\\': 邮件的主题。\\n    \\'Snippet\\': 邮件的摘要（前100个字符）。\\n\\n    将查询到的邮件列表以json格式对象返回。\\n\\n    注意：\\n    email_list是一个邮件列表，每封邮件的信息都以字典形式储存在列表中；\\n    字典需要包含邮件的\"From\"、\"Date\"、\"Subject\" 和 \"Snippet\" 信息；\\n    若不包含这些信息可能会导致函数出错。\\n    \"\"\"\\n\\n    related_emails = []\\n    for email in email_list:\\n        if query.lower() in email[\\'Subject\\'].lower() or query.lower() in email[\\'Snippet\\'].lower():\\n            related_emails.append(email)\\n\\n    return json.dumps(related_emails)def add_label_to_email(target_mails, label_name):\\n    \"\"\"\\n    给指定的邮件添加一个标签。\\n\\n    参数:\\n    target_mails: 需要添加标签的邮件的ID或者列表。\\n    label_name: 需要添加的标签的名字。\\n\\n    返回:\\n    处理完成之后的邮件状态，返回结果本身是json格式对象。\\n    \"\"\"\\n\\n    # 列出指定用户的所有标签\\n    results = service.users().labels().list(userId=\\'me\\').execute()\\n    labels = results.get(\\'labels\\', [])\\n\\n    # 获取所需标签的名字\\n    for label in labels:\\n        if label[\\'name\\'] == label_name:\\n            label_id = label[\\'id\\']\\n            break\\n    \\n    # 如果标签不存在，则创建该标签\\n    if label_id is None:\\n        label_obj = {\\n            \\'name\\': label_name\\n        }\\n        label = service.users().labels().create(userId=\\'me\\', body=label_obj).execute()\\n        label_id = label[\\'id\\']\\n\\n    # 为邮件添加标签\\n    add_label = {\\n        \\'addLabelIds\\': [label_id],\\n        \\'removeLabelIds\\': []\\n    }\\n    response = service.users().messages().modify(userId=\\'me\\', id=target_mails, body=add_label).execute()\\n\\n    return json.dumps(response)'}]}"
      ]
     },
     "execution_count": 23,
     "metadata": {},
     "output_type": "execute_result"
    }
   ],
   "source": [
    "system_messages"
   ]
  },
  {
   "cell_type": "markdown",
   "id": "1e56ac01-02f1-4396-9cc6-dadc753d345a",
   "metadata": {},
   "source": [
    "然后以此作为system_message带入到code_generate中进行代码创建："
   ]
  },
  {
   "cell_type": "code",
   "execution_count": 32,
   "id": "c45ced1b-6785-4a1a-9ee3-deeba8b8f545",
   "metadata": {
    "tags": []
   },
   "outputs": [
    {
     "name": "stdout",
     "output_type": "stream",
     "text": [
      "第一阶段CD环节提示创建完毕，正在进行CD提示...\n",
      "第一阶段CD环节提示完毕\n",
      "第一阶段CM环节提示创建完毕，正在进行第一阶段CM提示...\n",
      "第一阶段CM环节提示完毕\n",
      "第二阶段提示创建完毕，正在进行第二阶段提示...\n",
      "第二阶段提示完毕，准备运行函数并编写提示示例\n",
      "The function name is:label_meeting_emails\n",
      "新函数保存在./functions/untested functions/label_meeting_emails/label_meeting_emails_module.py文件中\n",
      "新函数提示示例保存在./functions/untested functions/label_meeting_emails/label_meeting_emails_prompt.json文件中\n",
      "done\n"
     ]
    },
    {
     "data": {
      "text/plain": [
       "'label_meeting_emails'"
      ]
     },
     "execution_count": 32,
     "metadata": {},
     "output_type": "execute_result"
    }
   ],
   "source": [
    "code_generate(req, few_shot='all', model='gpt-4-0613', g=globals(), detail=0, system_messages=system_messages)"
   ]
  },
  {
   "cell_type": "code",
   "execution_count": 33,
   "id": "32af408b-5ad5-48a2-9050-0db2312c9278",
   "metadata": {
    "tags": []
   },
   "outputs": [
    {
     "data": {
      "text/plain": [
       "\u001b[1;31mSignature:\u001b[0m \u001b[0mlabel_meeting_emails\u001b[0m\u001b[1;33m(\u001b[0m\u001b[0mquery\u001b[0m\u001b[1;33m,\u001b[0m \u001b[0mlabel\u001b[0m\u001b[1;33m,\u001b[0m \u001b[0muserId\u001b[0m\u001b[1;33m=\u001b[0m\u001b[1;34m'me'\u001b[0m\u001b[1;33m)\u001b[0m\u001b[1;33m\u001b[0m\u001b[1;33m\u001b[0m\u001b[0m\n",
       "\u001b[1;31mDocstring:\u001b[0m\n",
       "查找未读邮件中有关会议邀请的邮件并添加“会议预定”标签。\n",
       "\n",
       "参数:\n",
       "query: 要查找的邮件类型。\n",
       "label: 要添加的标签名称。\n",
       "userId: 查询并标记邮件的用户ID，默认值是'me'。\n",
       "\n",
       "返回:\n",
       "已经添加标签的未读邮件的数量，结果会返回为json对象。\n",
       "\u001b[1;31mFile:\u001b[0m      Dynamically generated function. No source code available.\n",
       "\u001b[1;31mType:\u001b[0m      function"
      ]
     },
     "metadata": {},
     "output_type": "display_data"
    }
   ],
   "source": [
    "label_meeting_emails?"
   ]
  },
  {
   "cell_type": "markdown",
   "id": "eafb8f3c-d97d-4093-b229-eca53f84d87f",
   "metadata": {},
   "source": [
    "接下来验证函数性能："
   ]
  },
  {
   "cell_type": "code",
   "execution_count": 34,
   "id": "a7062f3b-1f88-45ab-aba4-05aa40103178",
   "metadata": {
    "tags": []
   },
   "outputs": [],
   "source": [
    "messages = [{\"role\": \"system\", \"content\": \"端木天的邮箱地址是:2323365771@qq.com\"},\n",
    "            {\"role\": \"system\", \"content\": \"我的邮箱地址是:ksken166@gmail.com\"},\n",
    "            {\"role\": \"user\", \"content\": req}]"
   ]
  },
  {
   "cell_type": "code",
   "execution_count": 35,
   "id": "1f09c3e4-4abd-4b1f-bd70-7374fb377c8f",
   "metadata": {
    "tags": []
   },
   "outputs": [
    {
     "data": {
      "text/plain": [
       "'已完成，找到1封有关会议邀请的未读邮件，并已添加\"会议预定\"的标签。'"
      ]
     },
     "execution_count": 35,
     "metadata": {},
     "output_type": "execute_result"
    }
   ],
   "source": [
    "run_conversation(messages, functions_list=[label_meeting_emails], model=\"gpt-4-0613\")"
   ]
  },
  {
   "cell_type": "markdown",
   "id": "10e48056-d5db-4abb-9d53-970bff044c9b",
   "metadata": {},
   "source": [
    "通过查阅邮箱，我们发现借助该函数，大模型已将一封新的会议邀请邮件添加上了会议预定标签："
   ]
  },
  {
   "cell_type": "markdown",
   "id": "f391db24-0686-4520-8ac1-f02349839e8b",
   "metadata": {},
   "source": [
    "<center><img src=\"https://ml2022.oss-cn-hangzhou.aliyuncs.com/img/2f870254ad099f05b49199bf7f982e5.png\" alt=\"2f870254ad099f05b49199bf7f982e5\" style=\"zoom:33%;\" />"
   ]
  },
  {
   "cell_type": "markdown",
   "id": "26d03a94-681c-4182-8872-5b9518109ae1",
   "metadata": {},
   "source": [
    "至此，也验证了创建流程和最终所创建函数本身的正确性。"
   ]
  },
  {
   "cell_type": "markdown",
   "id": "df63f8a7-47c1-4a22-a1fd-f74bb5a8b497",
   "metadata": {},
   "source": [
    "&emsp;&emsp;这里需要注意的是，我们之所以考虑采用code_generate函数进行对应代码创建，核心原因在于该函数会创建一份完整的prompt提示示例，便于搭配function_test对其进行审查。接下来，我们就尝试围绕修改function_test的测试流程，是的其能够对拆分多个子需求之后的函数创建过程进行审查。"
   ]
  },
  {
   "cell_type": "markdown",
   "id": "a41f03c9-2da8-4601-8102-cb0da85e732e",
   "metadata": {},
   "source": [
    "&emsp;&emsp;首先需要修改的就是prompt_modified函数，为了更好的协调function_test和code_generate共同进行代码创建和审查，我们需要将这些函数的相关参数进行统一，这里对于prompt_modified函数的修改主要是添加一个system_messages参数，用于表示此时是围绕简单需求进行提示审查还是围绕拆解需求并进行分段代码创建的流程进行提示审查，和code_generate函数类似，默认情况都是取值为None，表示围绕简单需求进行提示审查。而当system_messages取值不为None时，则会提供一个名为《复杂需求推理链修改》的文档作为提示审查函数外部挂载文档，相比《推理链修改》文档，该文档只修改了一个部分，即将原先的作为正确示例的prompt.json文档修改为此前我们成功创建的label_meeting_emails函数对应的提示示例，该函数的提示示例（配合复杂需求拆解的system_message）能够更好的表示复杂需求拆解和代码合并流程："
   ]
  },
  {
   "cell_type": "code",
   "execution_count": 12,
   "id": "69f8333e-9ffa-4bc5-a0f0-33e1f4f75cd4",
   "metadata": {
    "tags": []
   },
   "outputs": [],
   "source": [
    " with open('./functions/untested functions/label_meeting_emails/label_meeting_emails_prompt.json' , 'r') as f:\n",
    "    data = json.load(f)"
   ]
  },
  {
   "cell_type": "code",
   "execution_count": 13,
   "id": "613e8c52-ce2a-43ee-8056-aea21f1750fb",
   "metadata": {
    "collapsed": true,
    "jupyter": {
     "outputs_hidden": true
    },
    "tags": []
   },
   "outputs": [
    {
     "data": {
      "text/plain": [
       "{'stage1_CD': [{'role': 'user',\n",
       "   'content': '请查阅我邮箱里面未读邮件，从挑选有关会议邀请的邮件，并将其添加一个名称为会议预定的标签'},\n",
       "  {'role': 'assistant',\n",
       "   'content': '当前需求中可以作为函数参数的是：1.查询条件；2.添加的标签名；3.查询谁的邮箱'}],\n",
       " 'stage1_CM': [{'role': 'user',\n",
       "   'content': '请查阅我邮箱里面未读邮件，从挑选有关会议邀请的邮件，并将其添加一个名称为会议预定的标签当前需求中可以作为函数参数的是：1.查询条件；2.添加的标签名；3.查询谁的邮箱'},\n",
       "  {'role': 'assistant',\n",
       "   'content': \"请帮我编写一个python函数，查询我收到的所有未读邮件，并在与会议邀请相关的邮件上添加一种名为“会议预定”的标签，函数要求如下：                  1.函数参数query、tag和user_id，三个参数都是字符串类型，其中query表示要查询的条件，tag表示要添加的标签名，user_id表示要检索邮件的用户的ID。默认值是'me'，表示当前授权的用户；                  2.函数返回结果是添加标签后的邮件列表，返回结果本身必须是一个json格式对象；                  3.请将全部功能封装在一个函数内；                  4.请在函数编写过程中，在函数内部加入中文编写的详细的函数说明文档，用于说明函数功能、函数参数情况以及函数返回结果等信息；\"}],\n",
       " 'stage2': [{'role': 'user',\n",
       "   'content': \"请帮我编写一个python函数，查询我收到的所有未读邮件，并在与会议邀请相关的邮件上添加一种名为“会议预定”的标签，函数要求如下：                  1.函数参数query、tag和user_id，三个参数都是字符串类型，其中query表示要查询的条件，tag表示要添加的标签名，user_id表示要检索邮件的用户的ID。默认值是'me'，表示当前授权的用户；                  2.函数返回结果是添加标签后的邮件列表，返回结果本身必须是一个json格式对象；                  3.请将全部功能封装在一个函数内；                  4.请在函数编写过程中，在函数内部加入中文编写的详细的函数说明文档，用于说明函数功能、函数参数情况以及函数返回结果等信息；\"},\n",
       "  {'role': 'assistant',\n",
       "   'content': 'def label_meeting_emails(query, tag, user_id=\\'me\\'):\\n    \"\"\"\\n    查询未读邮件，并给与会议邀请相关的邮件添加标签。\\n\\n    参数:\\n    query: 要查询的字符串，例如，您可以寻找包含“会议”或“邀请”等关键字的邮件。\\n    tag: 要添加的标签的名字。\\n    user_id: 要检查的用户的ID，默认值为\\'me\\'，表示当前授权的用户。\\n\\n    返回:\\n    如果成功，则返回一个列表，其中每个元素都是一个字典，包含已添加标签的邮件的ID和主题。否则，返回错误信息。\\n    \"\"\"\\n    # 从本地文件中加载凭据\\n    creds = Credentials.from_authorized_user_file(\\'token.json\\')\\n\\n    # 创建 Gmail API 客户对象\\n    service = build(\\'gmail\\', \\'v1\\', credentials=creds)\\n\\n    # 获取满足查询条件的邮件列表\\n    results = service.users().messages().list(userId=user_id, q=f\\'is:unread {query}\\').execute()\\n    messages = results.get(\\'messages\\', [])\\n\\n    if not messages:\\n        print(f\"No results for query: {query}\")\\n        return json.dumps({\"error\":\"No emails found.\"})\\n\\n    # 为满足条件的邮件添加标签\\n    emails = []\\n    for msg in messages:\\n        # 获取邮件详情\\n        msg = service.users().messages().get(userId=user_id, id=msg[\\'id\\']).execute()\\n\\n        # 标签处理\\n        add_label = {\\n            \\'addLabelIds\\': [tag],\\n            \\'removeLabelIds\\': []\\n        }\\n        msg[\\'payload\\'][\\'headers\\'][-1].get(\\'value\\')\\n        res = service.users().messages().modify(userId=user_id, id=msg[\\'id\\'], body=add_label).execute()\\n\\n        # 添加邮件信息\\n        for d in msg[\\'payload\\'][\\'headers\\']:\\n            if d[\\'name\\'] == \\'Subject\\':\\n                sub = d[\\'value\\']\\n        emails.append({\"id\": res[\\'id\\'], \"subject\": sub})\\n\\n    return json.dumps(emails, indent=2)\\n'}]}"
      ]
     },
     "execution_count": 13,
     "metadata": {},
     "output_type": "execute_result"
    }
   ],
   "source": [
    "data"
   ]
  },
  {
   "cell_type": "markdown",
   "id": "42af1fcd-36f8-42b9-9294-946bb2382d58",
   "metadata": {},
   "source": [
    "我们将《推理链修改》文档中的正确提示流程换作上述data，即可完成《复杂需求推理链修改》文档编写"
   ]
  },
  {
   "cell_type": "markdown",
   "id": "adb7f7d0-9692-4b97-937e-d3a59e53aa8a",
   "metadata": {},
   "source": [
    "<center><img src=\"https://ml2022.oss-cn-hangzhou.aliyuncs.com/img/a971634400dc863740b5939e89e98d6.png\" alt=\"a971634400dc863740b5939e89e98d6\" style=\"zoom:33%;\" />"
   ]
  },
  {
   "cell_type": "markdown",
   "id": "77a183ca-1bf4-465a-811a-aada630b640e",
   "metadata": {},
   "source": [
    "具体prompt_modified函数修改如下："
   ]
  },
  {
   "cell_type": "code",
   "execution_count": 46,
   "id": "4394643e-5380-41a5-a278-f28fa7d57a76",
   "metadata": {
    "tags": []
   },
   "outputs": [],
   "source": [
    "def prompt_modified(function_name, system_content='推理链修改.md', model=\"gpt-4-0613\", g=globals(), system_messages=None):\n",
    "    \"\"\"\n",
    "    智能邮件项目的外部函数审查函数，用于审查外部函数创建流程提示是否正确以及最终创建的代码是否正确\n",
    "    :param function_name: 必要参数，字符串类型，表示审查对象名称；\n",
    "    :param system_content: 可选参数，默认取值为字符串推理链修改.md，表示此时审查函数外部挂载文档名称，需要是markdwon格式文档；\n",
    "    :param model: 可选参数，表示调用的Chat模型，默认选取gpt-4-0613；\n",
    "    :param g: 可选参数，表示extract_function_code函数作用域，默认为globals()，即在当前操作空间全域内生效；\n",
    "    :param system_messages: 可选参数，默认取值为None，此时读取本地system_messages.json作为系统信息，也可以自定义；\n",
    "    :return：审查结束后新创建的函数名称\n",
    "    \"\"\"\n",
    "    print(\"正在执行审查函数，审查对象：%s\" % function_name)\n",
    "    \n",
    "    if system_messages != None:\n",
    "        system_content='复杂需求推理链修改.md'\n",
    "        \n",
    "    with open(system_content, 'r', encoding='utf-8') as f:\n",
    "        md_content = f.read()  \n",
    "        \n",
    "    # 读取原函数全部提示内容\n",
    "    with open('./functions/untested functions/%s/%s_prompt.json' % (function_name, function_name), 'r') as f:\n",
    "        msg = json.load(f)\n",
    "    \n",
    "    # 将其保存为字符串\n",
    "    msg_str = json.dumps(msg)\n",
    "    \n",
    "    # 进行审查\n",
    "    response = openai.ChatCompletion.create(\n",
    "                    model=model,\n",
    "                    messages=[\n",
    "                    {\"role\": \"system\", \"content\": md_content},\n",
    "                    {\"role\": \"user\", \"content\": '以下是一个错误的智能邮件项目的推理链，请你按照要求对其进行修改：%s' % msg_str}\n",
    "                    ]\n",
    "                )\n",
    "    \n",
    "    modified_result = response.choices[0].message['content']\n",
    "    \n",
    "    def extract_json(s):\n",
    "        pattern = r'```[jJ][sS][oO][nN]\\s*({.*?})\\s*```'\n",
    "        match = re.search(pattern, s, re.DOTALL)\n",
    "        if match:\n",
    "            return match.group(1)\n",
    "        else:\n",
    "            return s\n",
    "    \n",
    "    modified_json = extract_json(modified_result)\n",
    "    \n",
    "    # 提取函数源码\n",
    "    code = json.loads(modified_json)['stage2'][1]['content']\n",
    "    \n",
    "    # 提取函数名\n",
    "    match = re.search(r'def (\\w+)', code)\n",
    "    function_name = match.group(1)\n",
    "    \n",
    "    print(\"审查结束，新的函数名称为：%s。\\n正在运行该函数定义过程，并保存函数源码与prompt\" % function_name)\n",
    "    \n",
    "    exec(code, g)\n",
    "    \n",
    "    # 在untested文件夹内创建函数同名文件夹\n",
    "    directory = './functions/untested functions/%s' % function_name\n",
    "    if not os.path.exists(directory):\n",
    "        os.makedirs(directory)\n",
    "        \n",
    "    # 写入函数\n",
    "    with open('./functions/untested functions/%s/%s_module.py' % (function_name, function_name), 'w', encoding='utf-8') as f:\n",
    "        f.write(code)\n",
    "        \n",
    "    # 写入提示\n",
    "    with open('./functions/untested functions/%s/%s_prompt.json' % (function_name, function_name), 'w') as f:\n",
    "        json.dump(json.loads(modified_json), f)\n",
    "    \n",
    "    print('新函数提示示例保存在./functions/untested functions/%s/%s_prompt.json文件中' % (function_name, function_name))\n",
    "    print(\"%s函数已在当前操作空间定义，可以进行效果测试\" % function_name)\n",
    "    \n",
    "    return function_name"
   ]
  },
  {
   "cell_type": "markdown",
   "id": "dd9c167d-4217-48f7-94c1-f4a36dcce637",
   "metadata": {},
   "source": [
    "能够看出，此时system_messages对于该函数来说，更像是一个标识符，在该函数实际执行审查时，并不会真的带入新的系统消息进行审查。"
   ]
  },
  {
   "cell_type": "markdown",
   "id": "16f23a1b-cdf9-4516-9e16-c49ad4532f8f",
   "metadata": {
    "tags": []
   },
   "source": [
    "&emsp;&emsp;据此，我们就可以进一步围绕function_test函数进行修改。该函数的修改过程并不复杂，核心是需要将审查过程所涉及的一系列的函数（包括自己）添加一个system_messages的参数，同样，默认情况下取值为None，其他时候该参数的取值将输入到code_genetate和prompt_modified函数中："
   ]
  },
  {
   "cell_type": "code",
   "execution_count": 83,
   "id": "3f771c7f-4c38-4d97-8e03-5fb700cb6872",
   "metadata": {
    "tags": []
   },
   "outputs": [],
   "source": [
    "def function_test(function_name, req, few_shot, model=\"gpt-4-0613\", g=globals(), system_messages=None):\n",
    "\n",
    "    def test_messages(ueser_content):\n",
    "        messages = [{\"role\": \"system\", \"content\": \"端木天的邮箱地址是:2323365771@qq.com\"},\n",
    "                    {\"role\": \"system\", \"content\": \"我的邮箱地址是:ksken166@gmail.com\"},\n",
    "                    {\"role\": \"user\", \"content\": ueser_content}]\n",
    "        return messages\n",
    "            \n",
    "    messages = test_messages(req)\n",
    "    \n",
    "    new_function = globals()[function_name]\n",
    "    functions_list = [new_function]\n",
    "    \n",
    "    print(\"根据既定用户需求req进行%s函数功能测试，请确保当该函数已经在当前操作空间定义...\" % function_name)\n",
    "    \n",
    "    # 有可能在run_conversation环节报错\n",
    "    # 若没报错，则运行：\n",
    "    try:\n",
    "        final_response = run_conversation(messages=messages, functions_list=functions_list, model=model)\n",
    "        print(\"当前函数运行结果：'%s'\" % final_response)\n",
    "        \n",
    "        feedback = input(\"函数功能是否满足要求 (yes/no)? \")\n",
    "        if feedback.lower() == 'yes':\n",
    "            print(\"函数功能通过测试，正在将函数写入tested文件夹\")\n",
    "            remove_to_tested(function_name)\n",
    "            print('done')\n",
    "        else:\n",
    "            next_step = input(\"函数功能未通过测试，是1.需要再次进行测试，还是2.进入debug流程？\")\n",
    "            if next_step == '1':\n",
    "                print(\"准备再次测试...\")\n",
    "                function_test(function_name=function_name, req=req, few_shot=few_shot, g=g, system_messages=system_messages)\n",
    "            else:\n",
    "                solution = input(\"请选择debug方案：\\n1.再次执行函数创建流程，并测试结果；\\n2.执行审查函数\\\n",
    "                \\n3.重新输入用户需求；\\n4.退出程序，进行手动尝试\")\n",
    "                if solution == '1':\n",
    "                    # 再次运行函数创建过程\n",
    "                    print(\"好的，正在尝试再次创建函数，请稍等...\")\n",
    "                    few_shot_str = input(\"准备再次测试，请问是1.采用此前Few-shot方案，还是2.带入全部函数示例进行Few-shot？\")\n",
    "                    if few_shot_str == '1':\n",
    "                        Gmail_auto_func(req=req, few_shot=few_shot, model=model, g=g)\n",
    "                    else:\n",
    "                        Gmail_auto_func(req=req, few_shot='all', model=model, g=g)\n",
    "                elif solution == '2':\n",
    "                    # 执行审查函数\n",
    "                    print(\"好的，执行审查函数，请稍等...\")\n",
    "                    function_name = prompt_modified(function_name=function_name, model=\"gpt-3.5-turbo-16k-0613\", g=g, system_messages=system_messages)\n",
    "                    # 接下来带入进行测试\n",
    "                    print(\"新函数已创建，接下来带入进行测试...\")\n",
    "                    function_test(function_name=function_name, req=req, few_shot=few_shot, g=g, system_messages=system_messages)\n",
    "                elif solution == '3':\n",
    "                    new_req = input(\"好的，请再次输入用户需求，请注意，用户需求描述方法将极大程度影响最终函数创建结果。\")\n",
    "                    few_shot_str = input(\"接下来如何运行代码创建函数？1.采用此前Few-shot方案；\\n2.使用全部外部函数作为Few-shot\")\n",
    "                    if few_shot_str == '1':\n",
    "                        Gmail_auto_func(req=req, few_shot=few_shot, model=model, g=g)\n",
    "                    else:\n",
    "                        Gmail_auto_func(req=req, few_shot='all', model=model, g=g)\n",
    "                elif solution == '4':\n",
    "                    print(\"好的，预祝debug顺利~\")\n",
    "        \n",
    "    # run_conversation报错时则运行：\n",
    "    except Exception as e:\n",
    "        next_step = input(\"run_conversation无法正常运行，接下来是1.再次运行运行run_conversation，还是2.进入debug流程？\")\n",
    "        if next_step == '1':\n",
    "            function_test(function_name=function_name, req=new_req, few_shot=few_shot, g=g, system_messages=system_messages)\n",
    "        else:\n",
    "            solution = input(\"请选择debug方案：\\n1.再次执行函数创建流程，并测试结果；\\n2.执行审查函数\\\n",
    "            \\n3.重新输入用户需求；\\n4.退出程序，进行手动尝试\")\n",
    "            if solution == '1':\n",
    "                # 再次运行函数创建过程\n",
    "                print(\"好的，正在尝试再次创建函数，请稍等...\")\n",
    "                few_shot_str = input(\"准备再次测试，请问是1.采用此前Few-shot方案，还是2.带入全部函数示例进行Few-shot？\")\n",
    "                if few_shot_str == '1':\n",
    "                    Gmail_auto_func(req=req, few_shot=few_shot, model=model, g=g)\n",
    "                else:\n",
    "                    Gmail_auto_func(req=req, few_shot='all', model=model, g=g)\n",
    "            elif solution == '2':\n",
    "                # 执行审查函数\n",
    "                print(\"好的，执行审查函数，请稍等...\")\n",
    "                max_attempts = 3\n",
    "                attempts = 0\n",
    "\n",
    "                while attempts < max_attempts:\n",
    "                    try:\n",
    "                        function_name = prompt_modified(function_name=function_name, model=\"gpt-3.5-turbo-16k-0613\", g=g, system_messages=system_messages)\n",
    "                        break  # 如果代码成功执行，跳出循环\n",
    "                    except Exception as e:\n",
    "                        attempts += 1  # 增加尝试次数\n",
    "                        print(\"发生错误：\", e)\n",
    "                        if attempts == max_attempts:\n",
    "                            print(\"已达到最大尝试次数，程序终止。\")\n",
    "                            raise  # 重新引发最后一个异常\n",
    "                        else:\n",
    "                            print(\"正在重新运行审查程序...\")\n",
    "                # 接下来带入进行测试\n",
    "                print(\"新函数已创建，接下来带入进行测试...\")\n",
    "                function_test(function_name=function_name, req=req, few_shot=few_shot, g=g, system_messages=system_messages)\n",
    "            elif solution == '3':\n",
    "                new_req = input(\"好的，请再次输入用户需求，请注意，用户需求描述方法将极大程度影响最终函数创建结果。\")\n",
    "                few_shot_str = input(\"接下来如何运行代码创建函数？1.采用此前Few-shot方案；\\n2.使用全部外部函数作为Few-shot\")\n",
    "                if few_shot_str == '1':\n",
    "                    Gmail_auto_func(req=req, few_shot=few_shot, model=model, g=g)\n",
    "                else:\n",
    "                    Gmail_auto_func(req=req, few_shot='all', model=model, g=g)\n",
    "            elif solution == '4':\n",
    "                print(\"好的，预祝debug顺利~\")"
   ]
  },
  {
   "cell_type": "markdown",
   "id": "877ff120-1190-43f9-89ad-e4ba00d620ed",
   "metadata": {},
   "source": [
    "&emsp;&emsp;至此，我们就完成了code_generate函数和function_test函数修改。当然，为了让整个自动编程流程能够更加自动，接下来我们进一步对Gmail_auto_func函数进行修改。此时该函数不仅承担同时运行code_generate函数和function_test函数的功能，更承担着对原始任务进行拆解的功能，具体函数修改内容如下："
   ]
  },
  {
   "cell_type": "code",
   "execution_count": 82,
   "id": "e23512fa-7dc7-4555-93a7-9564b5ed760d",
   "metadata": {
    "tags": []
   },
   "outputs": [],
   "source": [
    "def Gmail_auto_func(req, few_shot='all', model='gpt-4-0613', g=globals(), detail=0):\n",
    "    # 默认情况下system_messages = None\n",
    "    system_messages = None\n",
    "    \n",
    "    # 尝试进行任务拆解\n",
    "    try:\n",
    "        decompose_results = get_decompose_results(req=req, model=model)\n",
    "    except Exception as e:\n",
    "        print(e)\n",
    "        print('暂停1分钟后继续调用模型')\n",
    "        time.sleep(60)\n",
    "        decompose_results = get_decompose_results(req=req, model=model)\n",
    "        \n",
    "    # 如果只拆解得到多个任务，则创建新的基于任务拆解得到的system_message\n",
    "    if len(decompose_results) != 1:\n",
    "        print('原始需求将拆分为多个子需求并进行分段代码创建与合并')\n",
    "        # 读取原始system_message\n",
    "        with open('./functions/tested functions/system_messages.json', 'r') as f:\n",
    "            system_messages = json.load(f)\n",
    "            \n",
    "        # 用于存储全部需求的函数代码\n",
    "        sub_func_all = ''\n",
    "        # 用于存储全部需求\n",
    "        sub_req_all = ''\n",
    "        # 计数器\n",
    "        i = 0\n",
    "        \n",
    "        for sub_req in decompose_results:\n",
    "            i += 1\n",
    "            # 每个需求依次创建子函数\n",
    "            print('第%s个子需求为：%s' % (i, sub_req))\n",
    "            print('正在创建对应子函数')\n",
    "            try:\n",
    "                sub_func_name = code_generate(sub_req, few_shot=few_shot, g=g, detail=detail, model=model)\n",
    "            except Exception as e:\n",
    "                print(e)\n",
    "                print('暂停1分钟后继续调用模型')\n",
    "                time.sleep(60)\n",
    "                sub_func_name = code_generate(sub_req, few_shot=few_shot, g=g, detail=detail, model=model)\n",
    "                \n",
    "            # 读取子函数源码\n",
    "            with open('./functions/untested functions/%s/%s_module.py' % (sub_func_name, sub_func_name), encoding='utf-8') as f:\n",
    "                sub_func_str = f.read()\n",
    "            # 对子函数源码进行拼接\n",
    "            sub_func_all += sub_func_str\n",
    "            \n",
    "            # 按顺序拼接子需求\n",
    "            sub_req_all += str(i)+('.')\n",
    "            sub_req_all += sub_req            \n",
    "        \n",
    "        print('子需求对应的子函数全部创建完毕，接下来进入到原始需求函数创建过程...')\n",
    "        # 添加一个system_message\n",
    "        decompose_description = '对于当前编程需求，可以拆解为若干个子需求，也就是：%s。这些子需求的实现方式可以参考如下代码：%s' % (sub_req_all, sub_func_all)\n",
    "        system_messages['system_message'].append({'role': 'system', 'content': decompose_description})\n",
    "    \n",
    "    # 进行代码创建和代码审查\n",
    "    try:\n",
    "        function_name = code_generate(req=req, few_shot=few_shot, model=model, g=g, detail=detail, system_messages=system_messages)\n",
    "    except Exception as e:\n",
    "        print(e)\n",
    "        print('暂停1分钟后继续调用模型')\n",
    "        time.sleep(60)\n",
    "        function_name = code_generate(req=req, few_shot=few_shot, model=model, g=g, detail=detail, system_messages=system_messages)\n",
    "    function_test(function_name=function_name, req=req, few_shot=few_shot, model=model, g=g, system_messages=system_messages)"
   ]
  },
  {
   "cell_type": "markdown",
   "id": "236bdabb-e4f3-465f-9724-78745d5081ec",
   "metadata": {},
   "source": [
    "这里需要注意，由于整体代码执行过程中存在反复多次调用gpt模型的情况，因此极有可能在运行过程中遇到调用次数或者token上限，会引发如下错误。因此在代码中添加了遇到如下类型报错则暂停一分钟的代码。"
   ]
  },
  {
   "cell_type": "markdown",
   "id": "ba7bb9db-21a0-4d31-ace6-dbd0371f3797",
   "metadata": {},
   "source": [
    "<center><img src=\"https://ml2022.oss-cn-hangzhou.aliyuncs.com/img/fc07fa61e89e76249d603adadccf312.png\" alt=\"fc07fa61e89e76249d603adadccf312\" style=\"zoom:33%;\" />"
   ]
  },
  {
   "cell_type": "markdown",
   "id": "7630c753-bec9-4661-9f9d-fe3a16c9474c",
   "metadata": {},
   "source": [
    "此外，为了更好的展示当前代码创建进度，和code_generate函数类似，我们在该函数内部设置了多个关键环节打印流程。当创建完成之后，接下来即可对该函数进行功能测试。这里我们重新给出一个新的需求，测试函数创建功能："
   ]
  },
  {
   "cell_type": "code",
   "execution_count": 84,
   "id": "18012831-f682-47a4-abed-fa864862b848",
   "metadata": {},
   "outputs": [],
   "source": [
    "req = '在我的邮箱里，从未读邮件中挑选和预算相关的邮件，并为这些邮件添加“预算”的标签'"
   ]
  },
  {
   "cell_type": "code",
   "execution_count": 5,
   "id": "832591a6-273e-41ac-a524-2cce9bb6c197",
   "metadata": {
    "tags": []
   },
   "outputs": [
    {
     "name": "stdout",
     "output_type": "stream",
     "text": [
      "原始需求将拆分为多个子需求并进行分段代码创建与合并\n",
      "第1个子需求为：请帮我查找邮箱内的所有未读邮件。\n",
      "正在创建对应子函数\n",
      "第一阶段CD环节提示创建完毕，正在进行CD提示...\n",
      "第一阶段CD环节提示完毕\n",
      "第一阶段CM环节提示创建完毕，正在进行第一阶段CM提示...\n",
      "第一阶段CM环节提示完毕\n",
      "第二阶段提示创建完毕，正在进行第二阶段提示...\n",
      "第二阶段提示完毕，准备运行函数并编写提示示例\n",
      "The function name is:get_unread_emails\n",
      "新函数保存在./functions/untested functions/get_unread_emails/get_unread_emails_module.py文件中\n",
      "新函数提示示例保存在./functions/untested functions/get_unread_emails/get_unread_emails_prompt.json文件中\n",
      "done\n",
      "第2个子需求为：从某份邮件列表中挑选出有关预算相关的邮件。\n",
      "正在创建对应子函数\n",
      "第一阶段CD环节提示创建完毕，正在进行CD提示...\n",
      "第一阶段CD环节提示完毕\n",
      "第一阶段CM环节提示创建完毕，正在进行第一阶段CM提示...\n",
      "第一阶段CM环节提示完毕\n",
      "第二阶段提示创建完毕，正在进行第二阶段提示...\n",
      "第二阶段提示完毕，准备运行函数并编写提示示例\n",
      "The function name is:search_email_by_keyword\n",
      "新函数保存在./functions/untested functions/search_email_by_keyword/search_email_by_keyword_module.py文件中\n",
      "新函数提示示例保存在./functions/untested functions/search_email_by_keyword/search_email_by_keyword_prompt.json文件中\n",
      "done\n",
      "第3个子需求为：对某些特定邮件批量添加名称为预算的标签。\n",
      "正在创建对应子函数\n",
      "第一阶段CD环节提示创建完毕，正在进行CD提示...\n",
      "第一阶段CD环节提示完毕\n",
      "第一阶段CM环节提示创建完毕，正在进行第一阶段CM提示...\n",
      "第一阶段CM环节提示完毕\n",
      "第二阶段提示创建完毕，正在进行第二阶段提示...\n",
      "第二阶段提示完毕，准备运行函数并编写提示示例\n",
      "The function name is:add_label_to_email\n",
      "新函数保存在./functions/untested functions/add_label_to_email/add_label_to_email_module.py文件中\n",
      "新函数提示示例保存在./functions/untested functions/add_label_to_email/add_label_to_email_prompt.json文件中\n",
      "done\n",
      "子需求对应的子函数全部创建完毕，接下来进入到原始需求函数创建过程...\n",
      "第一阶段CD环节提示创建完毕，正在进行CD提示...\n",
      "第一阶段CD环节提示完毕\n",
      "第一阶段CM环节提示创建完毕，正在进行第一阶段CM提示...\n",
      "第一阶段CM环节提示完毕\n",
      "第二阶段提示创建完毕，正在进行第二阶段提示...\n",
      "第二阶段提示完毕，准备运行函数并编写提示示例\n",
      "The function name is:label_budget_emails\n",
      "新函数保存在./functions/untested functions/label_budget_emails/label_budget_emails_module.py文件中\n",
      "新函数提示示例保存在./functions/untested functions/label_budget_emails/label_budget_emails_prompt.json文件中\n",
      "done\n",
      "根据既定用户需求req进行label_budget_emails函数功能测试，请确保当该函数已经在当前操作空间定义...\n",
      "已完成，找到1封有关预算的未读邮件，并添加“预算”标签。\n",
      "函数功能是否满足要求 (yes/no)?  yes\n",
      "函数功能通过测试，正在将函数写入tested文件夹\n",
      "done\n"
     ]
    }
   ],
   "source": [
    "Gmail_auto_func(req=req)"
   ]
  },
  {
   "cell_type": "markdown",
   "id": "d7f52d4f-ef4d-490d-9897-83c4b4d0a67c",
   "metadata": {},
   "source": [
    "测试效果如下"
   ]
  },
  {
   "cell_type": "markdown",
   "id": "96866206-6667-4a96-b5d8-0fa0e23e8815",
   "metadata": {},
   "source": [
    "<center><img src=\"https://ml2022.oss-cn-hangzhou.aliyuncs.com/img/2169d10fbc76fbf2bd0da625cf90d3c.png\" alt=\"2169d10fbc76fbf2bd0da625cf90d3c\" style=\"zoom:33%;\" />"
   ]
  },
  {
   "cell_type": "markdown",
   "id": "add7ee93-1be2-4eab-87f1-e3d404ce353d",
   "metadata": {},
   "source": [
    "<center>\n",
    "\n",
    "<img src=\"https://ml2022.oss-cn-hangzhou.aliyuncs.com/img/ad08239a9b27796ce5b7420bfe68cbe.png\" alt=\"ad08239a9b27796ce5b7420bfe68cbe\" style=\"zoom:33%;\" />"
   ]
  },
  {
   "cell_type": "markdown",
   "id": "cd09d6fe-4082-4d52-90ef-e55284448d51",
   "metadata": {},
   "source": [
    "- 复杂需求自然语言编程流程总结"
   ]
  },
  {
   "cell_type": "markdown",
   "id": "2262e658-13a2-4375-92f5-bd70592f0699",
   "metadata": {},
   "source": [
    "<center><img src=\"https://ml2022.oss-cn-hangzhou.aliyuncs.com/img/%E5%A4%8D%E6%9D%82%E7%BC%96%E7%A8%8B%E9%9C%80%E6%B1%82%E5%AE%9E%E7%8E%B0%E6%B5%81%E7%A8%8B.png\" alt=\"复杂编程需求实现流程\" style=\"zoom:33%;\" />"
   ]
  }
 ],
 "metadata": {
  "kernelspec": {
   "display_name": "Python 3 (ipykernel)",
   "language": "python",
   "name": "python3"
  },
  "language_info": {
   "codemirror_mode": {
    "name": "ipython",
    "version": 3
   },
   "file_extension": ".py",
   "mimetype": "text/x-python",
   "name": "python",
   "nbconvert_exporter": "python",
   "pygments_lexer": "ipython3",
   "version": "3.10.10"
  }
 },
 "nbformat": 4,
 "nbformat_minor": 5
}
