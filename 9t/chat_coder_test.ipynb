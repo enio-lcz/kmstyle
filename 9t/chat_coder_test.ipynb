{
 "cells": [
  {
   "cell_type": "code",
   "execution_count": 2,
   "metadata": {},
   "outputs": [],
   "source": [
    "import os\n",
    "import openai\n",
    "openai.api_key = os.getenv(\"OPENAI_API_KEY\")\n",
    "\n",
    "import numpy as np\n",
    "import pandas as pd\n",
    "\n",
    "import json\n",
    "import io\n",
    "import inspect\n",
    "import requests\n",
    "import re\n",
    "\n",
    "from googleapiclient.discovery import build\n",
    "from google.oauth2.credentials import Credentials\n",
    "from google_auth_oauthlib.flow import InstalledAppFlow\n",
    "import base64\n",
    "import email\n",
    "from email import policy\n",
    "from email.parser import BytesParser\n",
    "from email.mime.text import MIMEText\n",
    "\n",
    "from bs4 import BeautifulSoup\n",
    "import dateutil.parser as parser\n",
    "\n",
    "from gptLearning import *"
   ]
  },
  {
   "cell_type": "code",
   "execution_count": 4,
   "metadata": {},
   "outputs": [
    {
     "name": "stdout",
     "output_type": "stream",
     "text": [
      "Please visit this URL to authorize this application: https://accounts.google.com/o/oauth2/auth?response_type=code&client_id=494569296721-3ihep25jd9oo5a5tnciieelbiblo6j1f.apps.googleusercontent.com&redirect_uri=http%3A%2F%2Flocalhost%3A9091%2F&scope=https%3A%2F%2Fwww.googleapis.com%2Fauth%2Fgmail.send+https%3A%2F%2Fwww.googleapis.com%2Fauth%2Fgmail.readonly&state=MfM9RIcRiuOBBBLpG11lu1IwbRvLko&access_type=offline&prompt=consent\n"
     ]
    }
   ],
   "source": [
    "SCOPES = ['https://www.googleapis.com/auth/gmail.send','https://www.googleapis.com/auth/gmail.readonly']\n",
    "flow = InstalledAppFlow.from_client_secrets_file(\n",
    "                'credentials-web1.json', SCOPES)\n",
    "creds = flow.run_local_server(port=9091, access_type='offline', prompt='consent')\n",
    "\n",
    "with open('token.json', 'w') as token:\n",
    "    token.write(creds.to_json())"
   ]
  },
  {
   "cell_type": "code",
   "execution_count": 5,
   "metadata": {},
   "outputs": [],
   "source": [
    "from googleapiclient.discovery import build\n",
    "from google.oauth2.credentials import Credentials\n",
    "import json\n",
    "import base64\n",
    "from email.header import decode_header\n",
    "\n",
    "def get_recent_emails(n, userId='me'):\n",
    "    \"\"\"\n",
    "    获取最近的n封邮件\n",
    "\n",
    "    功能说明：\n",
    "        此函数用于通过Gmail API获取指定用户的最近n封邮件信息，并将结果以包含多个字典的列表返回，以json格式进行表示。\n",
    "\n",
    "    参数情况：\n",
    "        n: 整数，代表需要查询的邮件个数\n",
    "        userId: 字符串参数，默认情况下取值为'me'，表示查看我的邮件\n",
    "\n",
    "    返回结果：\n",
    "        返回一个包含多个字典的列表，并用json格式进行表示，其中一个字典代表一封邮件信息，每个字典中需要包含邮件的发件人、发件时间、邮件主题和邮件内容四个方面信息\n",
    "\n",
    "    示例：\n",
    "        get_recent_emails(5, 'me')\n",
    "    \"\"\"\n",
    "    \n",
    "    # 从token.json加载用户凭据\n",
    "    creds = Credentials.from_authorized_user_file('token.json', ['https://www.googleapis.com/auth/gmail.readonly'])\n",
    "\n",
    "    # 建立Gmail服务连接\n",
    "    service = build('gmail', 'v1', credentials=creds)\n",
    "\n",
    "    # 获取邮件列表\n",
    "    results = service.users().messages().list(userId=userId, maxResults=n).execute()\n",
    "    messages = results.get('messages', [])\n",
    "\n",
    "    emails = []\n",
    "\n",
    "    # 循环处理每封邮件\n",
    "    for message in messages:\n",
    "        msg = service.users().messages().get(userId=userId, id=message['id']).execute()\n",
    "\n",
    "        # 获取邮件发件人、发件时间、邮件主题和邮件内容\n",
    "        email_data = msg['payload']['headers']\n",
    "        for values in email_data:\n",
    "            name = values['name']\n",
    "            if name == 'From':\n",
    "                from_name = values['value']\n",
    "            if name == 'Date':\n",
    "                date = values['value']\n",
    "            if name == 'Subject':\n",
    "                subject, encoding = decode_header(values['value'])[0]\n",
    "                if isinstance(subject, bytes):\n",
    "                    subject = subject.decode(encoding if encoding else 'utf8')\n",
    "        content = msg['snippet']\n",
    "\n",
    "        # 将邮件信息添加到列表中\n",
    "        emails.append({\n",
    "            'from': from_name,\n",
    "            'date': date,\n",
    "            'subject': subject,\n",
    "            'content': content\n",
    "        })\n",
    "\n",
    "    return json.dumps(emails, indent=4, ensure_ascii=False)\n"
   ]
  },
  {
   "cell_type": "code",
   "execution_count": 6,
   "metadata": {},
   "outputs": [],
   "source": [
    "msg = get_recent_emails(n=6)"
   ]
  },
  {
   "cell_type": "code",
   "execution_count": 8,
   "metadata": {},
   "outputs": [
    {
     "name": "stdout",
     "output_type": "stream",
     "text": [
      "[\n",
      "    {\n",
      "        \"from\": \"Peter from Codeium <peter@codeium.com>\",\n",
      "        \"date\": \"Wed, 16 Aug 2023 05:21:36 +0000 (UTC)\",\n",
      "        \"subject\": \"Why did you stop using Codeium?\",\n",
      "        \"content\": \"Hi Jordan, Thank you for trying Codeium! We&#39;ve noticed that you have not used the service recently, and would greatly appreciate it if you could please fill out this 30 second, 3 question survey to\"\n",
      "    },\n",
      "    {\n",
      "        \"from\": \"\\\"阿新\\\" <ax909@163.com>\",\n",
      "        \"date\": \"Tue, 15 Aug 2023 22:27:00 +0800 (CST)\",\n",
      "        \"subject\": \"Re:邀请参加会议\",\n",
      "        \"content\": \"好的，明天吃早点。 在 2023-08-15 22:26:35，jrdnnest@gmail.com 写道： &gt;李沉舟先生， &gt; &gt;我代表黄剑邀请您于明天早上9点半来我办公室开会，商量下半年技术开发计划。 &gt; &gt;谢谢！ &gt;黄剑\"\n",
      "    },\n",
      "    {\n",
      "        \"from\": \"jrdnnest@gmail.com\",\n",
      "        \"date\": \"Tue, 15 Aug 2023 14:26:35 +0000\",\n",
      "        \"subject\": \"Re:邀请参加会议\",\n",
      "        \"content\": \"李沉舟先生， 我代表黄剑邀请您于明天早上9点半来我办公室开会，商量下半年技术开发计划。 谢谢！ 黄剑\"\n",
      "    },\n",
      "    {\n",
      "        \"from\": \"jrdnnest@gmail.com\",\n",
      "        \"date\": \"Tue, 15 Aug 2023 14:25:33 +0000\",\n",
      "        \"subject\": \"Re:邀请参加会议\",\n",
      "        \"content\": \"李沉舟先生， 我代表黄剑邀请您于明天早上9点半来我办公室开会，商量下半年技术开发计划。 谢谢！ 黄剑\"\n",
      "    },\n",
      "    {\n",
      "        \"from\": \"\\\"阿新\\\" <ax909@163.com>\",\n",
      "        \"date\": \"Tue, 15 Aug 2023 22:21:16 +0800 (CST)\",\n",
      "        \"subject\": \"Re:会议邀请\",\n",
      "        \"content\": \"好的，明天早上见，一起吃早点。 在 2023-08-15 22:19:56，jrdnnest@gmail.com 写道： &gt;李沉舟先生， &gt; &gt;我是黄剑，我们公司的机器学习工程师。我想邀请您明天早上9点半到我的办公室参加一次会议，我们可以商量下半年的技术开发计划。希望您能抽出时间来参加。 &gt; &gt;谢谢！ &gt; &gt;黄剑\"\n",
      "    },\n",
      "    {\n",
      "        \"from\": \"jrdnnest@gmail.com\",\n",
      "        \"date\": \"Tue, 15 Aug 2023 14:19:56 +0000\",\n",
      "        \"subject\": \"Re:会议邀请\",\n",
      "        \"content\": \"李沉舟先生， 我是黄剑，我们公司的机器学习工程师。我想邀请您明天早上9点半到我的办公室参加一次会议，我们可以商量下半年的技术开发计划。希望您能抽出时间来参加。 谢谢！ 黄剑\"\n",
      "    }\n",
      "]\n"
     ]
    }
   ],
   "source": [
    "print(msg)"
   ]
  },
  {
   "cell_type": "code",
   "execution_count": 11,
   "metadata": {},
   "outputs": [],
   "source": [
    "response = openai.ChatCompletion.create(\n",
    "    model = 'gpt-3.5-turbo-16k',\n",
    "    messages =[\n",
    "        {'role': \"system\",\"content\": \"这是我gmail收到的最近6封邮件：%s\" % msg},\n",
    "        {\"role\": \"system\", \"content\": \"邮件是通过Gmail API获取的。\"},\n",
    "        {\"role\": \"user\", \"content\": \"请问都有哪些人给我发了邮件？内容是什么？\"},\n",
    "    ]\n",
    ")"
   ]
  },
  {
   "cell_type": "code",
   "execution_count": 12,
   "metadata": {},
   "outputs": [
    {
     "name": "stdout",
     "output_type": "stream",
     "text": [
      "最近6封邮件的发送者和内容如下：\n",
      "\n",
      "1. 发送者：Peter from Codeium <peter@codeium.com>\n",
      "   内容：Hi Jordan, Thank you for trying Codeium! We've noticed that you have not used the service recently, and would greatly appreciate it if you could please fill out this 30 second, 3 question survey to\n",
      "\n",
      "2. 发送者：\"阿新\" <ax909@163.com>\n",
      "   内容：好的，明天吃早点。 在 2023-08-15 22:26:35，jrdnnest@gmail.com 写道： >李沉舟先生， > >我代表黄剑邀请您于明天早上9点半来我办公室开会，商量下半年技术开发计划。 > >谢谢！ >黄剑\n",
      "\n",
      "3. 发送者：jrdnnest@gmail.com\n",
      "   内容：李沉舟先生， 我代表黄剑邀请您于明天早上9点半来我办公室开会，商量下半年技术开发计划。 谢谢！ 黄剑\n",
      "\n",
      "4. 发送者：jrdnnest@gmail.com\n",
      "   内容：李沉舟先生， 我代表黄剑邀请您于明天早上9点半来我办公室开会，商量下半年技术开发计划。 谢谢！ 黄剑\n",
      "\n",
      "5. 发送者：\"阿新\" <ax909@163.com>\n",
      "   内容：好的，明天早上见，一起吃早点。 在 2023-08-15 22:19:56，jrdnnest@gmail.com 写道： >李沉舟先生， > >我是黄剑，我们公司的机器学习工程师。我想邀请您明天早上9点半到我的办公室参加一次会议，我们可以商量下半年的技术开发计划。希望您能抽出时间来参加。 > >谢谢！ > >黄剑\n",
      "\n",
      "6. 发送者：jrdnnest@gmail.com\n",
      "   内容：李沉舟先生， 我是黄剑，我们公司的机器学习工程师。我想邀请您明天早上9点半到我的办公室参加一次会议，我们可以商量下半年的技术开发计划。希望您能抽出时间来参加。 谢谢！ 黄剑\n"
     ]
    }
   ],
   "source": [
    "print(response.choices[0].message['content'])"
   ]
  },
  {
   "cell_type": "code",
   "execution_count": 13,
   "metadata": {},
   "outputs": [],
   "source": [
    "functions_list = [get_recent_emails]"
   ]
  },
  {
   "cell_type": "code",
   "execution_count": 14,
   "metadata": {},
   "outputs": [
    {
     "name": "stdout",
     "output_type": "stream",
     "text": [
      "模型回答: 你好！有什么我可以帮助你的？\n",
      "用户问:请帮我查询下gmail邮箱中最近10封邮件发送人及内容\n",
      "模型回答: 最近10封邮件的发送人及内容如下：\n",
      "\n",
      "1. 发件人: Peter from Codeium <peter@codeium.com>\n",
      "   主题: Why did you stop using Codeium?\n",
      "   内容: Hi Jordan, Thank you for trying Codeium! We've noticed that you have not used the service recently, and would greatly appreciate it if you could please fill out this 30 second, 3 question survey to\n",
      "\n",
      "2. 发件人: \"阿新\" <ax909@163.com>\n",
      "   主题: Re:邀请参加会议\n",
      "   内容: 好的，明天吃早点。 在 2023-08-15 22:26:35，jrdnnest@gmail.com 写道： &gt;李沉舟先生， &gt; &gt;我代表黄剑邀请您于明天早上9点半来我办公室开会，商量下半年技术开发计划。 &gt; &gt;谢谢！ &gt;黄剑\n",
      "\n",
      "3. 发件人: jrdnnest@gmail.com\n",
      "   主题: Re:邀请参加会议\n",
      "   内容: 李沉舟先生， 我代表黄剑邀请您于明天早上9点半来我办公室开会，商量下半年技术开发计划。 谢谢！ 黄剑\n",
      "\n",
      "4. 发件人: jrdnnest@gmail.com\n",
      "   主题: Re:邀请参加会议\n",
      "   内容: 李沉舟先生， 我代表黄剑邀请您于明天早上9点半来我办公室开会，商量下半年技术开发计划。 谢谢！ 黄剑\n",
      "\n",
      "5. 发件人: \"阿新\" <ax909@163.com>\n",
      "   主题: Re:会议邀请\n",
      "   内容: 好的，明天早上见，一起吃早点。 在 2023-08-15 22:19:56，jrdnnest@gmail.com 写道： &gt;李沉舟先生， &gt; &gt;我是黄剑，我们公司的机器学习工程师。我想邀请您明天早上9点半到我的办公室参加一次会议，我们可以商量下半年的技术开发计划。希望您能抽出时间来参加。 &gt; &gt;谢谢！ &gt; &gt;黄剑\n",
      "\n",
      "6. 发件人: jrdnnest@gmail.com\n",
      "   主题: Re:会议邀请\n",
      "   内容: 李沉舟先生， 我是黄剑，我们公司的机器学习工程师。我想邀请您明天早上9点半到我的办公室参加一次会议，我们可以商量下半年的技术开发计划。希望您能抽出时间来参加。 谢谢！ 黄剑\n",
      "\n",
      "7. 发件人: \"阿新\" <ax909@163.com>\n",
      "   主题: Re:邀请开会\n",
      "   内容: 收到，明天早上见。 在 2023-08-15 22:12:48，jrdnnest@gmail.com 写道： &gt;Hi 李沉舟， &gt; &gt;希望你能在明天早上9点半来我的办公室开会，我们需要商量下半年的技术开发计划。 &gt; &gt;谢谢！ &gt;黄剑\n",
      "\n",
      "8. 发件人: jrdnnest@gmail.com\n",
      "   主题: Re:邀请开会\n",
      "   内容: Hi 李沉舟， 希望你能在明天早上9点半来我的办公室开会，我们需要商量下半年的技术开发计划。 谢谢！ 黄剑\n",
      "\n",
      "9. 发件人: jrdnnest@gmail.com\n",
      "   主题: Re:邀请开会\n",
      "   内容: 李沉舟先生，你好！ 希望你能明天早上9点半来我办公室吃早点，我们还准备了特别的功夫龙井茶，希望你能品尝一下。 谢谢！ 祝好！\n",
      "\n",
      "10. 发件人: jrdnnest@gmail.com\n",
      "    主题: Re:邀请开会\n",
      "    内容: 李沉舟先生，您好！ 我诚挚地邀请您参加明天早上9点半在我的办公室的会议，我们将商讨下半年的技术开发计划。 期待您的出席！ 谢谢， [Your Name]\n",
      "用户问:今天天气挺好\n",
      "模型回答: 是的，今天的天气确实很好。有什么我可以帮助您的吗？\n",
      "用户问:退出\n"
     ]
    }
   ],
   "source": [
    "chat_with_model(prompt='您好',functions_list=functions_list,model=\"gpt-3.5-turbo-16k\")"
   ]
  },
  {
   "cell_type": "code",
   "execution_count": 15,
   "metadata": {},
   "outputs": [],
   "source": [
    "response = openai.ChatCompletion.create(\n",
    "  model=\"gpt-3.5-turbo-16k\",\n",
    "  messages=[{\"role\": \"system\", \"content\": \"你是一个python代码编辑器，你的功能是输出python代码，请勿输出任何和python代码无关的内容\"},\n",
    "            {\"role\": \"user\", \"content\": \"请帮我定义一个python函数，输出Hello world字符串，请在函数编写过程中，在函数内部加入中文编写的详细的函数说明文档。\"}\n",
    "  ]\n",
    ")"
   ]
  },
  {
   "cell_type": "code",
   "execution_count": 23,
   "metadata": {},
   "outputs": [
    {
     "name": "stdout",
     "output_type": "stream",
     "text": [
      "下面是一个定义函数并输出\"Hello world\"字符串的示例代码：\n",
      "\n",
      "```python\n",
      "def print_hello_world():\n",
      "    \"\"\"\n",
      "    这是一个用于输出\"Hello world\"字符串的函数。\n",
      "\n",
      "    参数：\n",
      "        无\n",
      "\n",
      "    返回值：\n",
      "        无\n",
      "\n",
      "    示例：\n",
      "        >>> print_hello_world()\n",
      "        Hello world\n",
      "    \"\"\"\n",
      "    print(\"Hello world\")\n",
      "```\n",
      "\n",
      "你可以使用`print_hello_world()`调用该函数来输出\"Hello world\"字符串。注意在文档字符串中，我们提供了函数的详细说明，包括函数的作用、参数、返回值和示例使用方法。这样可以帮助其他人更好地理解和使用这个函数。\n"
     ]
    }
   ],
   "source": [
    "s = response.choices[0].message['content']\n",
    "print(s)"
   ]
  },
  {
   "cell_type": "code",
   "execution_count": 18,
   "metadata": {},
   "outputs": [],
   "source": [
    "def extract_code(s):\n",
    "    \"\"\"\n",
    "    如果输入的字符串s是一个包含Python代码的Markdown格式字符串，提取出代码部分。\n",
    "    否则，返回原字符串。\n",
    "\n",
    "    参数:\n",
    "    s: 输入的字符串。\n",
    "\n",
    "    返回:\n",
    "    提取出的代码部分，或原字符串。\n",
    "    \"\"\"\n",
    "    # 判断字符串是否是Markdown格式\n",
    "    if '```python' in s or 'Python' in s or'PYTHON' in s:\n",
    "        # 找到代码块的开始和结束位置\n",
    "        code_start = s.find('def')\n",
    "        code_end = s.find('```\\n', code_start)\n",
    "        # 提取代码部分\n",
    "        code = s[code_start:code_end]\n",
    "    else:\n",
    "        # 如果字符串不是Markdown格式，返回原字符串\n",
    "        code = s\n",
    "\n",
    "    return code"
   ]
  },
  {
   "cell_type": "code",
   "execution_count": 24,
   "metadata": {},
   "outputs": [],
   "source": [
    "code_s = extract_code(s)"
   ]
  },
  {
   "cell_type": "code",
   "execution_count": 25,
   "metadata": {},
   "outputs": [
    {
     "data": {
      "text/plain": [
       "'def print_hello_world():\\n    \"\"\"\\n    这是一个用于输出\"Hello world\"字符串的函数。\\n\\n    参数：\\n        无\\n\\n    返回值：\\n        无\\n\\n    示例：\\n        >>> print_hello_world()\\n        Hello world\\n    \"\"\"\\n    print(\"Hello world\")\\n'"
      ]
     },
     "execution_count": 25,
     "metadata": {},
     "output_type": "execute_result"
    }
   ],
   "source": [
    "code_s"
   ]
  },
  {
   "cell_type": "code",
   "execution_count": 27,
   "metadata": {},
   "outputs": [],
   "source": [
    "with open('helloworld.py','w',encoding='utf-8') as f:\n",
    "    f.write(code_s)"
   ]
  },
  {
   "cell_type": "code",
   "execution_count": 28,
   "metadata": {},
   "outputs": [],
   "source": [
    "with open('helloworld.py',encoding='utf-8') as f:\n",
    "    content = f.read()"
   ]
  },
  {
   "cell_type": "code",
   "execution_count": 30,
   "metadata": {},
   "outputs": [
    {
     "data": {
      "text/plain": [
       "'def print_hello_world():\\n    \"\"\"\\n    这是一个用于输出\"Hello world\"字符串的函数。\\n\\n    参数：\\n        无\\n\\n    返回值：\\n        无\\n\\n    示例：\\n        >>> print_hello_world()\\n        Hello world\\n    \"\"\"\\n    print(\"Hello world\")\\n'"
      ]
     },
     "execution_count": 30,
     "metadata": {},
     "output_type": "execute_result"
    }
   ],
   "source": [
    "content"
   ]
  },
  {
   "cell_type": "code",
   "execution_count": 32,
   "metadata": {},
   "outputs": [],
   "source": [
    "from helloworld import *"
   ]
  },
  {
   "cell_type": "code",
   "execution_count": 33,
   "metadata": {},
   "outputs": [
    {
     "name": "stdout",
     "output_type": "stream",
     "text": [
      "Hello world\n"
     ]
    }
   ],
   "source": [
    "print_hello_world()"
   ]
  },
  {
   "cell_type": "code",
   "execution_count": 3,
   "metadata": {},
   "outputs": [],
   "source": [
    "def extract_function_code(s, detail=0,tested=False):\n",
    "    \"\"\"\n",
    "    函数提取函数，同时执行函数内容，可以选择打印函数信息\n",
    "    \"\"\"\n",
    "    def extract_code(s):\n",
    "        \"\"\"\n",
    "        如果输入的字符串s是一个包含Python代码的Markdown格式字符串，提取出代码部分。\n",
    "        否则，返回原字符串。\n",
    "\n",
    "        参数:\n",
    "        s: 输入的字符串。\n",
    "\n",
    "        返回:\n",
    "        提取出的代码部分，或原字符串。\n",
    "        \"\"\"\n",
    "        # 判断字符串是否是Markdown格式\n",
    "        if '```python' in s or 'Python' in s or'PYTHON' in s:\n",
    "            # 找到代码块的开始和结束位置\n",
    "            code_start = s.find('def')\n",
    "            code_end = s.find('```\\n', code_start)\n",
    "            # 提取代码部分\n",
    "            code = s[code_start:code_end]\n",
    "        else:\n",
    "            # 如果字符串不是Markdown格式，返回原字符串\n",
    "            code = s\n",
    "\n",
    "        return code\n",
    "    \n",
    "    # 提取代码字符串\n",
    "    code = extract_code(s)\n",
    "    \n",
    "    # 提取函数名称\n",
    "    match = re.search(r'def (\\w+)', code)\n",
    "    function_name = match.group(1)\n",
    "    \n",
    "    # 将函数写入本地\n",
    "    if tested==False:\n",
    "        with open('./functions/untested functions/%s_module.py' % function_name, 'w', encoding='utf-8') as f:\n",
    "            f.write(code)\n",
    "    else:\n",
    "        with open('./functions/tested functions/%s_module.py' % function_name, 'w', encoding='utf-8') as f:\n",
    "            f.write(code)\n",
    "    \n",
    "    \n",
    "    # 执行该函数\n",
    "    try:\n",
    "        exec(code, globals())\n",
    "    except Exception as e:\n",
    "        print(\"An error occurred while executing the code:\")\n",
    "        print(e)\n",
    "    \n",
    "    # 打印函数名称\n",
    "    if detail == 0:\n",
    "        print(\"The function name is:%s\" % function_name)\n",
    "    \n",
    "    if detail == 1 and tested==False:\n",
    "        with open('./functions/untested functions/%s_module.py' % function_name, encoding='utf-8') as f:\n",
    "            content = f.read()\n",
    "        print(content)\n",
    "    elif detail == 1 and tested==True:\n",
    "        with open('./functions/tested functions/%s_module.py' % function_name, encoding='utf-8') as f:    \n",
    "            content = f.read()\n",
    "        print(content)"
   ]
  },
  {
   "cell_type": "code",
   "execution_count": 46,
   "metadata": {},
   "outputs": [
    {
     "name": "stdout",
     "output_type": "stream",
     "text": [
      "The function name is:print_hello_world\n"
     ]
    }
   ],
   "source": [
    "extract_function_code(s)"
   ]
  },
  {
   "cell_type": "code",
   "execution_count": 40,
   "metadata": {},
   "outputs": [
    {
     "name": "stdout",
     "output_type": "stream",
     "text": [
      "\u001b[0;31mSignature:\u001b[0m \u001b[0mprint_hello_world\u001b[0m\u001b[0;34m(\u001b[0m\u001b[0;34m)\u001b[0m\u001b[0;34m\u001b[0m\u001b[0;34m\u001b[0m\u001b[0m\n",
      "\u001b[0;31mDocstring:\u001b[0m\n",
      "这是一个用于输出\"Hello world\"字符串的函数。\n",
      "\n",
      "参数：\n",
      "    无\n",
      "\n",
      "返回值：\n",
      "    无\n",
      "\n",
      "示例：\n",
      "    >>> print_hello_world()\n",
      "    Hello world\n",
      "\u001b[0;31mFile:\u001b[0m      Dynamically generated function. No source code available.\n",
      "\u001b[0;31mType:\u001b[0m      function"
     ]
    }
   ],
   "source": [
    "print_hello_world?"
   ]
  },
  {
   "cell_type": "code",
   "execution_count": 41,
   "metadata": {},
   "outputs": [],
   "source": [
    "import sys"
   ]
  },
  {
   "cell_type": "code",
   "execution_count": 47,
   "metadata": {},
   "outputs": [],
   "source": [
    "sys.path.insert(0,'./functions/untested functions/')"
   ]
  },
  {
   "cell_type": "code",
   "execution_count": 52,
   "metadata": {},
   "outputs": [],
   "source": [
    "from print_hello_world_module import *"
   ]
  },
  {
   "cell_type": "code",
   "execution_count": 53,
   "metadata": {},
   "outputs": [
    {
     "name": "stdout",
     "output_type": "stream",
     "text": [
      "\u001b[0;31mSignature:\u001b[0m \u001b[0mprint_hello_world\u001b[0m\u001b[0;34m(\u001b[0m\u001b[0;34m)\u001b[0m\u001b[0;34m\u001b[0m\u001b[0;34m\u001b[0m\u001b[0m\n",
      "\u001b[0;31mDocstring:\u001b[0m\n",
      "这是一个用于输出\"Hello world\"字符串的函数。\n",
      "\n",
      "参数：\n",
      "    无\n",
      "\n",
      "返回值：\n",
      "    无\n",
      "\n",
      "示例：\n",
      "    >>> print_hello_world()\n",
      "    Hello world\n",
      "\u001b[0;31mFile:\u001b[0m      ~/gpt/9t/functions/untested functions/print_hello_world_module.py\n",
      "\u001b[0;31mType:\u001b[0m      function"
     ]
    }
   ],
   "source": [
    "print_hello_world?"
   ]
  },
  {
   "cell_type": "code",
   "execution_count": 50,
   "metadata": {},
   "outputs": [],
   "source": [
    "del print_hello_world"
   ]
  },
  {
   "cell_type": "code",
   "execution_count": 55,
   "metadata": {},
   "outputs": [],
   "source": [
    "import print_hello_world_module as phwm"
   ]
  },
  {
   "cell_type": "code",
   "execution_count": 57,
   "metadata": {},
   "outputs": [
    {
     "name": "stdout",
     "output_type": "stream",
     "text": [
      "Hello world\n"
     ]
    }
   ],
   "source": [
    "phwm.print_hello_world()"
   ]
  },
  {
   "cell_type": "code",
   "execution_count": 58,
   "metadata": {},
   "outputs": [],
   "source": [
    "def get_latest_email(userId):\n",
    "    \"\"\"\n",
    "    查询Gmail邮箱中最后一封邮件信息\n",
    "    :param userId: 必要参数，字符串类型，用于表示需要查询的邮箱ID，\\\n",
    "    注意，当查询我的邮箱时，userId需要输入'me'；\n",
    "    :return：包含最后一封邮件全部信息的对象，该对象由Gmail API创建得到，且保存为JSON格式\n",
    "    \"\"\"\n",
    "    # 从本地文件中加载凭据\n",
    "    creds = Credentials.from_authorized_user_file('token.json')\n",
    "    \n",
    "    # 创建 Gmail API 客户端\n",
    "    service = build('gmail', 'v1', credentials=creds)\n",
    "    \n",
    "    # 列出用户的一封最新邮件\n",
    "    results = service.users().messages().list(userId=userId, maxResults=1).execute()\n",
    "    messages = results.get('messages', [])\n",
    "\n",
    "    # 遍历邮件\n",
    "    for message in messages:\n",
    "        # 获取邮件的详细信息\n",
    "        msg = service.users().messages().get(userId='me', id=message['id']).execute()\n",
    "        \n",
    "    return json.dumps(msg)"
   ]
  },
  {
   "cell_type": "code",
   "execution_count": 60,
   "metadata": {},
   "outputs": [],
   "source": [
    "code = inspect.getsource(get_latest_email)"
   ]
  },
  {
   "cell_type": "code",
   "execution_count": 61,
   "metadata": {},
   "outputs": [
    {
     "data": {
      "text/plain": [
       "str"
      ]
     },
     "execution_count": 61,
     "metadata": {},
     "output_type": "execute_result"
    }
   ],
   "source": [
    "type(code)"
   ]
  },
  {
   "cell_type": "code",
   "execution_count": 63,
   "metadata": {},
   "outputs": [],
   "source": [
    "with open('./functions/tested functions/%s_module.py' % 'get_latest_email','w',encoding='utf-8') as f:\n",
    "    f.write(code)"
   ]
  },
  {
   "cell_type": "code",
   "execution_count": 68,
   "metadata": {},
   "outputs": [],
   "source": [
    "with open('./functions/tested functions/get_latest_email_module.py', 'r',encoding='utf-8') as f:\n",
    "    content = f.read()"
   ]
  },
  {
   "cell_type": "code",
   "execution_count": 69,
   "metadata": {},
   "outputs": [
    {
     "data": {
      "text/plain": [
       "'def get_latest_email(userId):\\n    \"\"\"\\n    查询Gmail邮箱中最后一封邮件信息\\n    :param userId: 必要参数，字符串类型，用于表示需要查询的邮箱ID，\\\\\\n    注意，当查询我的邮箱时，userId需要输入\\'me\\'；\\n    :return：包含最后一封邮件全部信息的对象，该对象由Gmail API创建得到，且保存为JSON格式\\n    \"\"\"\\n    # 从本地文件中加载凭据\\n    creds = Credentials.from_authorized_user_file(\\'token.json\\')\\n    \\n    # 创建 Gmail API 客户端\\n    service = build(\\'gmail\\', \\'v1\\', credentials=creds)\\n    \\n    # 列出用户的一封最新邮件\\n    results = service.users().messages().list(userId=userId, maxResults=1).execute()\\n    messages = results.get(\\'messages\\', [])\\n\\n    # 遍历邮件\\n    for message in messages:\\n        # 获取邮件的详细信息\\n        msg = service.users().messages().get(userId=\\'me\\', id=message[\\'id\\']).execute()\\n        \\n    return json.dumps(msg)\\n'"
      ]
     },
     "execution_count": 69,
     "metadata": {},
     "output_type": "execute_result"
    }
   ],
   "source": [
    "content"
   ]
  },
  {
   "cell_type": "code",
   "execution_count": 16,
   "metadata": {},
   "outputs": [],
   "source": [
    "system_content = \"我已经取得gmail api授权，授权文件为本地文件token.json\""
   ]
  },
  {
   "cell_type": "code",
   "execution_count": 17,
   "metadata": {},
   "outputs": [],
   "source": [
    "user_example_content = \"请帮我编写一个python函数，用于查看gmail邮箱中最后一封邮件内容，函数要求如下：\\\n",
    "                        1.函数参数为userId，必要参数，userId为字符串参数，默认情况下取值为'me‘，表示查看我自己的邮箱；\\\n",
    "                        2.函数返回结果为包含最后一封邮件信息的对象，返回结果必须是json格式对象；\\\n",
    "                        3.函数返回结果中必须包含邮件的发件人、收件人、主题、正文、附件等信息；\\\n",
    "                        4.请将全部功能封装在一个函数中；\\\n",
    "                        5.请在函数编写过程中，在函数内部加入中文编写的详细的说明文档，用于说明函数功能、函数参数、函数返回结果等信息。\""
   ]
  },
  {
   "cell_type": "code",
   "execution_count": 18,
   "metadata": {},
   "outputs": [],
   "source": [
    "with open(\"./functions/tested functions/%s_module.py\" % \"get_latest_email\",\"r\",encoding=\"utf-8\") as f:\n",
    "    assistant_example_content = f.read()"
   ]
  },
  {
   "cell_type": "code",
   "execution_count": 19,
   "metadata": {},
   "outputs": [
    {
     "data": {
      "text/plain": [
       "'def get_latest_email(userId):\\n    \"\"\"\\n    查询Gmail邮箱中最后一封邮件信息\\n    :param userId: 必要参数，字符串类型，用于表示需要查询的邮箱ID，\\\\\\n    注意，当查询我的邮箱时，userId需要输入\\'me\\'；\\n    :return：包含最后一封邮件全部信息的对象，该对象由Gmail API创建得到，且保存为JSON格式\\n    \"\"\"\\n    # 从本地文件中加载凭据\\n    creds = Credentials.from_authorized_user_file(\\'token.json\\')\\n    \\n    # 创建 Gmail API 客户端\\n    service = build(\\'gmail\\', \\'v1\\', credentials=creds)\\n    \\n    # 列出用户的一封最新邮件\\n    results = service.users().messages().list(userId=userId, maxResults=1).execute()\\n    messages = results.get(\\'messages\\', [])\\n\\n    # 遍历邮件\\n    for message in messages:\\n        # 获取邮件的详细信息\\n        msg = service.users().messages().get(userId=\\'me\\', id=message[\\'id\\']).execute()\\n        \\n    return json.dumps(msg)\\n'"
      ]
     },
     "execution_count": 19,
     "metadata": {},
     "output_type": "execute_result"
    }
   ],
   "source": [
    "assistant_example_content"
   ]
  },
  {
   "cell_type": "code",
   "execution_count": 20,
   "metadata": {},
   "outputs": [],
   "source": [
    "user_content = \"请帮我编写一个python函数，用于查看gmail邮箱中邮件数量，函数要求如下：\\\n",
    "                1.函数参数为userId，必要参数，userId为字符串参数，默认情况下取值为'me‘，表示查看我自己的邮箱；\\\n",
    "                2.函数返回结果为包含最后一封邮件信息的对象，返回结果必须是json格式对象；\\\n",
    "                3.请将全部功能封装在一个函数中；\\\n",
    "                4.请在函数编写过程中，在函数内部加入中文编写的详细的说明文档，用于说明函数功能、函数参数、函数返回结果等信息。\""
   ]
  },
  {
   "cell_type": "code",
   "execution_count": 21,
   "metadata": {},
   "outputs": [],
   "source": [
    "response = openai.ChatCompletion.create(\n",
    "    model = \"gpt-3.5-turbo-16k\",\n",
    "    messages = [\n",
    "        {\"role\": \"system\", \"content\": system_content},\n",
    "        {\"role\": \"user\", \"name\": \"example_user\", \"content\":user_example_content},\n",
    "        {\"role\": \"assistant\", \"name\": \"eaxmple_assistant\", \"content\": assistant_example_content},\n",
    "        {\"role\": \"user\",  \"content\":user_content}\n",
    "    ]\n",
    ")"
   ]
  },
  {
   "cell_type": "code",
   "execution_count": 22,
   "metadata": {},
   "outputs": [],
   "source": [
    "s = response.choices[0].message.content"
   ]
  },
  {
   "cell_type": "code",
   "execution_count": 23,
   "metadata": {},
   "outputs": [
    {
     "data": {
      "text/plain": [
       "'def count_emails(userId):\\n    \"\"\"\\n    获取Gmail邮箱中的邮件数量\\n    :param userId: 必要参数，字符串类型，用于表示需要查询的邮箱ID，\\\\\\n    注意，当查询我的邮箱时，userId需要输入\\'me\\'；\\n    :return：包含邮件数量的对象，该对象由Gmail API返回得到，且保存为JSON格式\\n    \"\"\"\\n    # 从本地文件中加载凭据\\n    creds = Credentials.from_authorized_user_file(\\'token.json\\')\\n    \\n    # 创建 Gmail API 客户端\\n    service = build(\\'gmail\\', \\'v1\\', credentials=creds)\\n    \\n    # 获取邮件数量\\n    response = service.users().messages().list(userId=userId).execute()\\n    count = response.get(\\'resultSizeEstimate\\', 0)\\n    \\n    return json.dumps({\"count\": count})'"
      ]
     },
     "execution_count": 23,
     "metadata": {},
     "output_type": "execute_result"
    }
   ],
   "source": [
    "s"
   ]
  },
  {
   "cell_type": "code",
   "execution_count": 24,
   "metadata": {},
   "outputs": [
    {
     "name": "stdout",
     "output_type": "stream",
     "text": [
      "The function name is:count_emails\n"
     ]
    }
   ],
   "source": [
    "extract_function_code(s,detail=0)"
   ]
  },
  {
   "cell_type": "code",
   "execution_count": 25,
   "metadata": {},
   "outputs": [
    {
     "name": "stdout",
     "output_type": "stream",
     "text": [
      "def count_emails(userId):\n",
      "    \"\"\"\n",
      "    获取Gmail邮箱中的邮件数量\n",
      "    :param userId: 必要参数，字符串类型，用于表示需要查询的邮箱ID，\\\n",
      "    注意，当查询我的邮箱时，userId需要输入'me'；\n",
      "    :return：包含邮件数量的对象，该对象由Gmail API返回得到，且保存为JSON格式\n",
      "    \"\"\"\n",
      "    # 从本地文件中加载凭据\n",
      "    creds = Credentials.from_authorized_user_file('token.json')\n",
      "    \n",
      "    # 创建 Gmail API 客户端\n",
      "    service = build('gmail', 'v1', credentials=creds)\n",
      "    \n",
      "    # 获取邮件数量\n",
      "    response = service.users().messages().list(userId=userId).execute()\n",
      "    count = response.get('resultSizeEstimate', 0)\n",
      "    \n",
      "    return json.dumps({\"count\": count})\n"
     ]
    }
   ],
   "source": [
    "extract_function_code(s,detail=1)"
   ]
  },
  {
   "cell_type": "code",
   "execution_count": 26,
   "metadata": {},
   "outputs": [
    {
     "data": {
      "text/plain": [
       "'{\"email_count\": 201}'"
      ]
     },
     "execution_count": 26,
     "metadata": {},
     "output_type": "execute_result"
    }
   ],
   "source": [
    "get_email_count(userId='me')"
   ]
  },
  {
   "cell_type": "code",
   "execution_count": 103,
   "metadata": {},
   "outputs": [],
   "source": [
    "functions_list = [get_email_count]"
   ]
  },
  {
   "cell_type": "code",
   "execution_count": 104,
   "metadata": {},
   "outputs": [],
   "source": [
    "functions = auto_functions(functions_list=functions_list)"
   ]
  },
  {
   "cell_type": "code",
   "execution_count": 105,
   "metadata": {},
   "outputs": [
    {
     "data": {
      "text/plain": [
       "[{'name': 'get_email_count',\n",
       "  'description': '查询Gmail邮箱中邮件数量',\n",
       "  'parameters': {'type': 'object',\n",
       "   'properties': {'userId': {'type': 'string',\n",
       "     'description': \"用于表示需要查询的邮箱ID，注意，当查询我的邮箱时，userId需要输入'me'\"}},\n",
       "   'required': ['userId']}}]"
      ]
     },
     "execution_count": 105,
     "metadata": {},
     "output_type": "execute_result"
    }
   ],
   "source": [
    "functions"
   ]
  },
  {
   "cell_type": "code",
   "execution_count": 106,
   "metadata": {},
   "outputs": [],
   "source": [
    "response = openai.ChatCompletion.create(\n",
    "        model=\"gpt-3.5-turbo-16k\",\n",
    "        messages=[{\"role\": \"user\", \"content\": '请帮我查下邮箱里现在总共有多少封邮件'}],\n",
    "        functions=functions,\n",
    "        function_call=\"auto\",  \n",
    "    )"
   ]
  },
  {
   "cell_type": "code",
   "execution_count": 107,
   "metadata": {},
   "outputs": [
    {
     "data": {
      "text/plain": [
       "<OpenAIObject chat.completion id=chatcmpl-7oCGCDgzGOUuR6cydXNrtrJHUddTv at 0x1522d7fb0> JSON: {\n",
       "  \"id\": \"chatcmpl-7oCGCDgzGOUuR6cydXNrtrJHUddTv\",\n",
       "  \"object\": \"chat.completion\",\n",
       "  \"created\": 1692197884,\n",
       "  \"model\": \"gpt-3.5-turbo-16k-0613\",\n",
       "  \"choices\": [\n",
       "    {\n",
       "      \"index\": 0,\n",
       "      \"message\": {\n",
       "        \"role\": \"assistant\",\n",
       "        \"content\": null,\n",
       "        \"function_call\": {\n",
       "          \"name\": \"get_email_count\",\n",
       "          \"arguments\": \"{\\n  \\\"userId\\\": \\\"me\\\"\\n}\"\n",
       "        }\n",
       "      },\n",
       "      \"finish_reason\": \"function_call\"\n",
       "    }\n",
       "  ],\n",
       "  \"usage\": {\n",
       "    \"prompt_tokens\": 93,\n",
       "    \"completion_tokens\": 16,\n",
       "    \"total_tokens\": 109\n",
       "  }\n",
       "}"
      ]
     },
     "execution_count": 107,
     "metadata": {},
     "output_type": "execute_result"
    }
   ],
   "source": [
    "response"
   ]
  },
  {
   "cell_type": "code",
   "execution_count": 108,
   "metadata": {},
   "outputs": [
    {
     "name": "stdout",
     "output_type": "stream",
     "text": [
      "\u001b[0;31mSignature:\u001b[0m \u001b[0mchat_with_model\u001b[0m\u001b[0;34m(\u001b[0m\u001b[0mprompt\u001b[0m\u001b[0;34m,\u001b[0m \u001b[0mfunctions_list\u001b[0m\u001b[0;34m=\u001b[0m\u001b[0;32mNone\u001b[0m\u001b[0;34m,\u001b[0m \u001b[0mmodel\u001b[0m\u001b[0;34m=\u001b[0m\u001b[0;34m'gpt-3.5-turbo-16k'\u001b[0m\u001b[0;34m)\u001b[0m\u001b[0;34m\u001b[0m\u001b[0;34m\u001b[0m\u001b[0m\n",
      "\u001b[0;31mDocstring:\u001b[0m <no docstring>\n",
      "\u001b[0;31mFile:\u001b[0m      ~/gpt/9t/gptLearning.py\n",
      "\u001b[0;31mType:\u001b[0m      function"
     ]
    }
   ],
   "source": [
    "chat_with_model?"
   ]
  },
  {
   "cell_type": "code",
   "execution_count": 109,
   "metadata": {},
   "outputs": [
    {
     "name": "stdout",
     "output_type": "stream",
     "text": [
      "模型回答: 你好！有什么我可以帮助你的吗？\n",
      "用户问:请帮我查询下我的邮箱里有多少邮件？\n",
      "模型回答: 您的邮箱中共有29封邮件。\n",
      "用户问:退出\n"
     ]
    }
   ],
   "source": [
    "chat_with_model(prompt='你好',functions_list = functions_list)"
   ]
  },
  {
   "cell_type": "code",
   "execution_count": null,
   "metadata": {},
   "outputs": [],
   "source": []
  }
 ],
 "metadata": {
  "kernelspec": {
   "display_name": "gpt",
   "language": "python",
   "name": "gpt"
  },
  "language_info": {
   "codemirror_mode": {
    "name": "ipython",
    "version": 3
   },
   "file_extension": ".py",
   "mimetype": "text/x-python",
   "name": "python",
   "nbconvert_exporter": "python",
   "pygments_lexer": "ipython3",
   "version": "3.10.10"
  },
  "orig_nbformat": 4
 },
 "nbformat": 4,
 "nbformat_minor": 2
}
