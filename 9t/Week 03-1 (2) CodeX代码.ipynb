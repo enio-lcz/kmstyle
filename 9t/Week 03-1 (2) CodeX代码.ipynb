{
 "cells": [
  {
   "cell_type": "code",
   "execution_count": null,
   "metadata": {},
   "outputs": [],
   "source": []
  },
  {
   "cell_type": "code",
   "execution_count": null,
   "metadata": {},
   "outputs": [],
   "source": [
    "import os\n",
    "import openai\n",
    "\n",
    "openai.api_key = os.getenv(\"OPENAI_API_KEY\")\n",
    "\n",
    "response = openai.Edit.create(\n",
    "  model=\"code-davinci-edit-001\",\n",
    "  input=\"\",\n",
    "  instruction=\"请帮我用python写一个冒泡排序算法\\n\",\n",
    "  temperature=0,\n",
    "  top_p=1\n",
    ")"
   ]
  },
  {
   "cell_type": "code",
   "execution_count": null,
   "metadata": {},
   "outputs": [
    {
     "data": {
      "text/plain": [
       "<OpenAIObject edit at 0x1d7cddd4360> JSON: {\n",
       "  \"choices\": [\n",
       "    {\n",
       "      \"index\": 0,\n",
       "      \"text\": \"#!/usr/bin/env python\\n# -*- coding: utf-8 -*-\\n# @Time    : 2017/11/13 \\u4e0b\\u53484:25\\n# @Author  : Hou Rong\\n# @Site    : \\n# @File    : file.py\\n# @Software: PyCharm\\n\\n\\ndef bubble_sort(nums):\\n    for i in range(len(nums) - 1):  # \\u8fd9\\u4e2a\\u5faa\\u73af\\u8d1f\\u8d23\\u8bbe\\u7f6e\\u5192\\u6ce1\\u6392\\u5e8f\\u8fdb\\u884c\\u7684\\u6b21\\u6570\\n        for j in range(len(nums) - i - 1):  # \\uff4a\\u4e3a\\u5217\\u8868\\u4e0b\\u6807\\n            if nums[j] > nums[j + 1]:\\n                nums[j], nums[j + 1] = nums[j + 1], nums[j]\\n    return nums\\n\\n\\nif __name__ == '__main__':\\n    nums = [5, 2, 45, 6, 8, 2, 1]\\n    print(bubble_sort(nums))\\n\"\n",
       "    }\n",
       "  ],\n",
       "  \"created\": 1685175221,\n",
       "  \"object\": \"edit\",\n",
       "  \"usage\": {\n",
       "    \"completion_tokens\": 298,\n",
       "    \"prompt_tokens\": 39,\n",
       "    \"total_tokens\": 337\n",
       "  }\n",
       "}"
      ]
     },
     "metadata": {},
     "output_type": "display_data"
    }
   ],
   "source": [
    "response"
   ]
  },
  {
   "cell_type": "code",
   "execution_count": null,
   "metadata": {},
   "outputs": [
    {
     "name": "stdout",
     "output_type": "stream",
     "text": [
      "#!/usr/bin/env python\n",
      "# -*- coding: utf-8 -*-\n",
      "# @Time    : 2017/11/13 下午4:25\n",
      "# @Author  : Hou Rong\n",
      "# @Site    : \n",
      "# @File    : file.py\n",
      "# @Software: PyCharm\n",
      "\n",
      "\n",
      "def bubble_sort(nums):\n",
      "    for i in range(len(nums) - 1):  # 这个循环负责设置冒泡排序进行的次数\n",
      "        for j in range(len(nums) - i - 1):  # ｊ为列表下标\n",
      "            if nums[j] > nums[j + 1]:\n",
      "                nums[j], nums[j + 1] = nums[j + 1], nums[j]\n",
      "    return nums\n",
      "\n",
      "\n",
      "if __name__ == '__main__':\n",
      "    nums = [5, 2, 45, 6, 8, 2, 1]\n",
      "    print(bubble_sort(nums))\n",
      "\n"
     ]
    }
   ],
   "source": [
    "print(response.choices[0].text)"
   ]
  },
  {
   "cell_type": "markdown",
   "metadata": {},
   "source": [
    "### 重构函数"
   ]
  },
  {
   "cell_type": "code",
   "execution_count": null,
   "metadata": {},
   "outputs": [
    {
     "name": "stdout",
     "output_type": "stream",
     "text": [
      "def fibonacci(num):\n",
      "    if num == 0:\n",
      "        return 0\n",
      "    elif num == 1:\n",
      "        return 1\n",
      "    else: \n",
      "        return fibonacci(num-1)+fibonacci(num-2)\n",
      "\n",
      "print(fibonacci(10))\n",
      "\n"
     ]
    }
   ],
   "source": [
    "response = openai.Edit.create(\n",
    "  model=\"code-davinci-edit-001\",\n",
    "  input=\"    if num ==1:\\n        print(a)\\n    else:\\n        print(a)\\n        print(b)\\n        #the sequence starts with 0,1\\n        for i in range(2,num):\\n            c = a+b\\n            a = b\\n            b = c\\n            print(c)\\n\\nfibonacci(10)\",\n",
    "  instruction=\"将此函数重构为递归的\",\n",
    "  temperature=0,\n",
    "  top_p=1\n",
    ")\n",
    "print(response.choices[0].text)\n"
   ]
  },
  {
   "cell_type": "code",
   "execution_count": 1,
   "metadata": {},
   "outputs": [],
   "source": [
    "## 增加注释"
   ]
  },
  {
   "cell_type": "code",
   "execution_count": null,
   "metadata": {},
   "outputs": [
    {
     "name": "stdout",
     "output_type": "stream",
     "text": [
      "def fib(num):\n",
      "    # 判断是否小于等于1\n",
      "    if num <= 1:\n",
      "        # 如果小于等于1，返回num\n",
      "        return num\n",
      "    else:\n",
      "        # 如果大于1，返回fib(num-1) + fib(num-2)\n",
      "        return fib(num-1) + fib(num-2)\n",
      "# 调用fib函数\n",
      "print(fib(10))\n",
      "\n"
     ]
    }
   ],
   "source": [
    "response = openai.Edit.create(\n",
    "  model=\"code-davinci-edit-001\",\n",
    "  input=\"def fib(num):\\n    if num <= 1:\\n        return num\\n    else:\\n        return fib(num-1) + fib(num-2)\\nprint(fib(10))\",\n",
    "  instruction=\"为每一行代码增加注释\",\n",
    "  temperature=0,\n",
    "  top_p=1\n",
    ")\n",
    "print(response.choices[0].text)"
   ]
  },
  {
   "cell_type": "markdown",
   "metadata": {},
   "source": [
    "### 自制一个简易的代码辅助器"
   ]
  },
  {
   "cell_type": "code",
   "execution_count": null,
   "metadata": {},
   "outputs": [],
   "source": [
    "def Code_robot(input:str='',instrustion:str=''):\n",
    "    \n",
    "    data = {\n",
    "            \"model\": \"code-davinci-edit-001\",\n",
    "            \"input\" : input,\n",
    "            'instruction':instrustion,\n",
    "            \"temperature\": 0,\n",
    "            \"top_p\": 1,\n",
    "        }\n",
    "    response = openai.Edit.create(**data)\n",
    "    return print(response.choices[0].text)"
   ]
  },
  {
   "cell_type": "code",
   "execution_count": null,
   "metadata": {},
   "outputs": [
    {
     "name": "stdout",
     "output_type": "stream",
     "text": [
      "#!/usr/bin/env python\n",
      "# -*- coding: utf-8 -*-\n",
      "# @Time    : 2017/11/13 下午4:25\n",
      "# @Author  : Hou Rong\n",
      "# @Site    : \n",
      "# @File    : file.py\n",
      "# @Software: PyCharm\n",
      "\n",
      "\n",
      "def bubble_sort(nums):\n",
      "    for i in range(len(nums) - 1):  # 这个循环负责设置冒泡排序进行的次数\n",
      "        for j in range(len(nums) - i - 1):  # ｊ为列表下标\n",
      "            if nums[j] > nums[j + 1]:\n",
      "                nums[j], nums[j + 1] = nums[j + 1], nums[j]\n",
      "    return nums\n",
      "\n",
      "\n",
      "if __name__ == '__main__':\n",
      "    nums = [5, 2, 45, 6, 8, 2, 1]\n",
      "    print(bubble_sort(nums))\n",
      "\n"
     ]
    }
   ],
   "source": [
    "Code_robot(instrustion=\"请用python帮我写一个冒泡排序算法\")"
   ]
  }
 ],
 "metadata": {
  "kernelspec": {
   "display_name": "Python 3",
   "language": "python",
   "name": "python3"
  },
  "language_info": {
   "codemirror_mode": {
    "name": "ipython",
    "version": 3
   },
   "file_extension": ".py",
   "mimetype": "text/x-python",
   "name": "python",
   "nbconvert_exporter": "python",
   "pygments_lexer": "ipython3",
   "version": "3.10.11"
  },
  "orig_nbformat": 4
 },
 "nbformat": 4,
 "nbformat_minor": 2
}
