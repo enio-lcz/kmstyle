{
 "cells": [
  {
   "cell_type": "markdown",
   "id": "bc317b61-6ec7-4c62-8d81-d3845d0d630a",
   "metadata": {},
   "source": [
    "# <center>OpenAI在线大模型调用及微调方法"
   ]
  },
  {
   "cell_type": "markdown",
   "id": "f2e5e2b5-fa42-4ead-9951-edd463fcca1e",
   "metadata": {},
   "source": [
    "## <center>Ch.10 借助Function calling调用外部工具API方法"
   ]
  },
  {
   "cell_type": "markdown",
   "id": "1415450d-6627-4a4a-a52d-99fe4a662c70",
   "metadata": {},
   "source": [
    "&emsp;&emsp;尽管Function calling功能从名称上来看是进行外部函数的调用，但实际上“外部函数”的功能绝不仅仅是进行类似陈明函数这种数值运算，很多时候我们可以通过在函数内添加一些外部工具的API来增加函数功能，例如我们可以在函数中封装一些调用外部实时查询天气工具API，从而实现一键实时查询天气的功能；再比如，我们也可以封装一些外部数据库API，从而实现一键查询数据库数据功能；甚至，我们还可以把谷歌搜索“封装”在一个函数内，通过调用谷歌搜索API来对某些信息进行实时搜索。而这些函数一旦作为外部函数“接入”Chat模型，就相当于是给Chat模型增加了一些额外能力，例如实时查询天气数据的能力、直接对数据库操作的能力、借助谷歌搜索实时获取最新信息的能力等，从另一个角度来说，能够实时接入天气数据的LLM本质上就是一个天气查询的智能对话机器人，而能够直接操作数据库的LLM本质上就是一个定制化的SQL代码解释器，而一个接入谷歌搜索、能够获取实时信息的LLM，其实就是一个简易版的New bing聊天机器人，而这才是Function calling的核武级应用场景——围绕大语言模型实现AI应用的敏捷开发。"
   ]
  },
  {
   "cell_type": "markdown",
   "id": "4625f0f6-c918-4292-829c-45a500d02c3a",
   "metadata": {},
   "source": [
    "&emsp;&emsp;本节我们就将在此前封装好的Function calling功能函数基础上，进一步尝试打通Chat模型调用外部工具API的完整链路。本节我们将以实时查询天气的API工具为例，介绍让Chat模型接入天气查询API的方法，而从下一小节开始，我们将进一步介绍企业级环境下一些定制化AI应用的开发案例。"
   ]
  },
  {
   "cell_type": "markdown",
   "id": "5fef0ec9-4da9-4f03-80c9-94ca671c9e5a",
   "metadata": {},
   "source": [
    "> 这里需要注意，为何有了New bing、Code interpreter类似应用之后我们还需要进行定制化AI开发，不仅是因为需要探索更多的AI应用的可能性，哪怕是相同功能的AI应用，能否高度结合当前业务环境来进行定制化功能的开发，也是直接决定AI应用价值的重要因素。而要定制化开发AI应用程序，Function calling+Chat模型就是非常高效的解决方案。"
   ]
  },
  {
   "cell_type": "code",
   "execution_count": 5,
   "id": "18e9a9bd-0435-4a4e-bc2a-5558c95a4363",
   "metadata": {
    "tags": []
   },
   "outputs": [],
   "source": [
    "import os\n",
    "import openai\n",
    "openai.api_key = os.getenv(\"OPENAI_API_KEY\")\n",
    "\n",
    "import numpy as np\n",
    "import pandas as pd\n",
    "\n",
    "import json\n",
    "import io\n",
    "import inspect\n",
    "import requests"
   ]
  },
  {
   "cell_type": "markdown",
   "id": "2fd6f565-9ae0-468c-8dac-43a5235289ed",
   "metadata": {},
   "source": [
    "同时需要导入我们自定义的函数库gptLearning："
   ]
  },
  {
   "cell_type": "code",
   "execution_count": 6,
   "id": "3ea77b9f-013a-4cac-b80f-efcc053dc950",
   "metadata": {
    "tags": []
   },
   "outputs": [],
   "source": [
    "from gptLearning import *"
   ]
  },
  {
   "cell_type": "code",
   "execution_count": 4,
   "id": "2a5aee40-c82b-4506-927e-13def3e26685",
   "metadata": {
    "tags": []
   },
   "outputs": [
    {
     "data": {
      "text/plain": [
       "<function gptLearning.run_conversation(messages, functions_list=None, model='gpt-4-0613')>"
      ]
     },
     "execution_count": 4,
     "metadata": {},
     "output_type": "execute_result"
    }
   ],
   "source": [
    "run_conversation"
   ]
  },
  {
   "cell_type": "markdown",
   "id": "5c07fbae-4a1d-42cd-99b8-129b7162a75c",
   "metadata": {},
   "source": [
    "- 外部工具API"
   ]
  },
  {
   "cell_type": "markdown",
   "id": "b0298d8e-7193-4b07-949b-ee6988f8518d",
   "metadata": {},
   "source": [
    "&emsp;&emsp;首先需要简单说明的是，到底什么是外部工具API。API的全称是应用程序接口，例如目前我们在Python环境中使用的ChatCompletion.create函数，实际上就是OpenAI公司提供的GPT系列模型应用程序的一个接口，通过这个API（create函数或者openai库），我们能够非常顺利的调用GPT模型，并根据输入信息实时输出模型结果。而其他的很多应用程序，也都有相应的API。例如谷歌搜索，也可以通过调用API的形式来实现搜索功能，再比如接下来我们要介绍的OpenWeather API，就是一个可以进行实时天气查询的API。"
   ]
  },
  {
   "cell_type": "markdown",
   "id": "9dc4aee8-8d36-46e4-9dca-a6ba330b5bfa",
   "metadata": {},
   "source": [
    "- OpenWeather与OpenWeather API"
   ]
  },
  {
   "cell_type": "markdown",
   "id": "59de5460-d988-4bfe-b4c3-6ccaac1fe6f3",
   "metadata": {},
   "source": [
    "&emsp;&emsp;OpenWeather是一家提供全球范围内的气象数据服务的公司，该公司的服务包括实时天气信息、天气预报、历史天气数据以及各种气象相关的报告等，并且OpenWeather开放了一定使用限度内完全免费的API，即我们可以在代码环境中通过调用OpenWeather API来进行实时天气查询、天气预报等功能，这意味着开发者可以将OpenWeather的天气预报功能加入到他们自己的应用或网站中。"
   ]
  },
  {
   "cell_type": "markdown",
   "id": "1d1dfd99-28fc-422c-b136-6d9e7db6522c",
   "metadata": {},
   "source": [
    "> 相比OpenAI，OpenWeather更加Open。"
   ]
  },
  {
   "cell_type": "markdown",
   "id": "ae960f5c-373f-411c-b04f-b72d0bd37b82",
   "metadata": {},
   "source": [
    "- 极简AI应用开发示例"
   ]
  },
  {
   "cell_type": "markdown",
   "id": "ab1f2277-31d2-47c7-97ec-d3c35c8f83db",
   "metadata": {},
   "source": [
    "&emsp;&emsp;当然，一个开放的天气查询API，也意味着我们可以将其封装为一个本地的函数，即通过调用OpenWeather API来获取实时天气信息，然后再用Function calling功能调用该函数，如此一来，就相当于给Chat模型增加了实时获取天气信息的能力，而后我们即可通过Chat模型实时查询天气或根据天气情况询问穿衣建议等，从功能上来说，接入实时天气信息的Chat模型其实也就是一个非常简单的天气查询AI助手。这是一个相对简单的将其他工具API接入Chat模型的示例，接下来我们介绍具体实现方法。"
   ]
  },
  {
   "cell_type": "markdown",
   "id": "e9bbfdb2-4f9c-4f7e-bcb7-dd0c9574e122",
   "metadata": {},
   "source": [
    "### 1.OpenWeather注册及API key获取方法"
   ]
  },
  {
   "cell_type": "markdown",
   "id": "89c900e3-c3df-4aa7-bd5d-6686e02ba27a",
   "metadata": {},
   "source": [
    "&emsp;&emsp;为了能够调用OpenWeather服务，和OpenAI的API使用过程类似，我们首先需要先注册OpenWeather账号，并获取OpenWeather API Key。这里需要注意的是，对于大多数在线服务的API来说，都需要通过API key来进行身份验证，尽管OpenWeather相对更加Open，有非常多的免费使用的次数，但身份验证仍然是必要的防止API被滥用的有效手段。OpenWeather API key获取流程如下："
   ]
  },
  {
   "cell_type": "markdown",
   "id": "dfd94bac-62fe-4dd4-8140-77688335e7bb",
   "metadata": {},
   "source": [
    "- Step 1.登录OpenWeather官网并点击Sign—>create account完成注册。该网站无需魔法即可直接登录，可以使用国内邮箱或者QQ邮箱均可进行注册，官网地址为：https://openweathermap.org/"
   ]
  },
  {
   "cell_type": "markdown",
   "id": "a791e9ce-0a84-46f9-8c59-06417486c04b",
   "metadata": {},
   "source": [
    "<center><img src=\"https://ml2022.oss-cn-hangzhou.aliyuncs.com/img/e9a6286c483ccf21ab96af1972a918b.png\" alt=\"e9a6286c483ccf21ab96af1972a918b\" style=\"zoom:33%;\" />"
   ]
  },
  {
   "cell_type": "markdown",
   "id": "e973993e-fe70-4de5-a345-1aaee442d217",
   "metadata": {},
   "source": [
    "<center><img src=\"https://ml2022.oss-cn-hangzhou.aliyuncs.com/img/577e19b46f4c124b50a0455ccc132e9.png\" alt=\"577e19b46f4c124b50a0455ccc132e9\" style=\"zoom:33%;\" />"
   ]
  },
  {
   "cell_type": "markdown",
   "id": "7d0dd7b3-7375-4248-a7b0-e34e098e18bb",
   "metadata": {},
   "source": [
    "- Step 2.获取API-key：注册完成后，即可在API keys页面查看当前账户的API key："
   ]
  },
  {
   "cell_type": "markdown",
   "id": "8cd1e52b-c22b-4910-af63-5fdfc969a0d0",
   "metadata": {},
   "source": [
    "<center><img src=\"https://ml2022.oss-cn-hangzhou.aliyuncs.com/img/f44ba05a810500a61516caa28a4fcb4.png\" alt=\"f44ba05a810500a61516caa28a4fcb4\" style=\"zoom:33%;\" />"
   ]
  },
  {
   "cell_type": "markdown",
   "id": "a6bae42d-9e4f-4674-af2a-806453d4ddc2",
   "metadata": {},
   "source": [
    "<center><img src=\"https://ml2022.oss-cn-hangzhou.aliyuncs.com/img/e497a7ebb4f8d50ff3b6e362e4b569a.png\" alt=\"e497a7ebb4f8d50ff3b6e362e4b569a\" style=\"zoom:33%;\" />"
   ]
  },
  {
   "cell_type": "markdown",
   "id": "3733bea7-33a9-4978-b9f6-702f317e04b3",
   "metadata": {},
   "source": [
    "一般来说完成注册后，就会有一个已经激活的API-key。和OpenAI一样，OpenWeather的API key也创建多个。"
   ]
  },
  {
   "cell_type": "markdown",
   "id": "0278d010-963f-4a61-a509-51c7b74c3428",
   "metadata": {},
   "source": [
    "- Step 3.将其设置为环境变量：和OpenAI API key类似，为了方便后续调用，我们也可以直接将OpenWeather API key设置为环境变量，变量名为OPENWEATHER_API_KEY。具体设置环境变量的方法参考Ch.1中OpenAI APkey设置环境变量流程，此处不再赘述。"
   ]
  },
  {
   "cell_type": "markdown",
   "id": "a3afb3a5-7287-4fd4-9d65-02441e7cb928",
   "metadata": {},
   "source": [
    "<center><img src=\"https://ml2022.oss-cn-hangzhou.aliyuncs.com/img/aa0f15de151921727c20918fccc8de0.png\" alt=\"aa0f15de151921727c20918fccc8de0\" style=\"zoom:33%;\" />"
   ]
  },
  {
   "cell_type": "markdown",
   "id": "69c70d10-42ae-47ad-b004-ed850b6ef21a",
   "metadata": {},
   "source": [
    "设置完了环境变量之后，接下来即可按照如下方式创建OpenWeather API key变量："
   ]
  },
  {
   "cell_type": "code",
   "execution_count": 24,
   "id": "eb4cf388-4fab-418f-9fd8-1b72ccf7ba2e",
   "metadata": {
    "tags": []
   },
   "outputs": [],
   "source": [
    "open_weather_key = os.getenv(\"OPENWEATHER_API_KEY\")"
   ]
  },
  {
   "cell_type": "markdown",
   "id": "1838f451-cd45-4d3e-a956-1a4d30fe1617",
   "metadata": {},
   "source": [
    "需要注意的是，一般来说首次注册用户，首个API key需要等待2-5小时才会被激活，在此期间使用该API key会返回401错误。"
   ]
  },
  {
   "cell_type": "markdown",
   "id": "c09f687a-cca1-4568-a4fd-e67c3744e6e9",
   "metadata": {},
   "source": [
    "### 2.OpenWeather API使用方法"
   ]
  },
  {
   "cell_type": "markdown",
   "id": "f9668dbc-c50c-449c-96f0-a534446df773",
   "metadata": {},
   "source": [
    "#### 2.1 API功能说明及计费规则"
   ]
  },
  {
   "cell_type": "markdown",
   "id": "0c6d9d17-b469-4062-a646-9e3e850fde28",
   "metadata": {},
   "source": [
    "&emsp;&emsp;在获取了OpenWeather API key之后，接下来我们尝试在Python本地环境调用OpenWeather API。关于OpenWeather API的功能、调用方法和免费额度，我们可以在OpenWeather API介绍页面进行查看：https://openweathermap.org/api"
   ]
  },
  {
   "cell_type": "markdown",
   "id": "587d0bdc-fccd-44fe-b80d-598580966736",
   "metadata": {},
   "source": [
    "<center><img src=\"https://ml2022.oss-cn-hangzhou.aliyuncs.com/img/bad25ddc293aea44495be4eeb94fe6f.png\" alt=\"bad25ddc293aea44495be4eeb94fe6f\" style=\"zoom:33%;\" />"
   ]
  },
  {
   "cell_type": "markdown",
   "id": "fa0f32b5-0e63-485b-a93f-55ae2effc6f6",
   "metadata": {},
   "source": [
    "对于OpenWeather API来说，最新版的3.0API能够进行实时天气查询、48小时预报、8天天气预报等，并能够查询历史40年的天气信息。可以说是功能功能非常强大的天气查询API，同时对于全部注册用户，每个用户每天有1000次免费查询的额度，超过1000次则按照0.0015美元/次进行计费。"
   ]
  },
  {
   "cell_type": "markdown",
   "id": "de10ada4-8635-4b5c-9231-4e37fdbf5f92",
   "metadata": {},
   "source": [
    "#### 2.2 实时天气查询API调用方法"
   ]
  },
  {
   "cell_type": "markdown",
   "id": "4a75daa9-2fbc-42ff-a492-c0f9cda78494",
   "metadata": {},
   "source": [
    "&emsp;&emsp;在API介绍页面的下面，OpenWeather还非常贴心的给出了不同功能API的调用方法，这里我们先查看实时天气信息的API Doc，该页面包含了借助API进行实时天气信息查询方法：https://openweathermap.org/current"
   ]
  },
  {
   "cell_type": "markdown",
   "id": "c2d099d4-a643-42f8-8e03-904122a50266",
   "metadata": {},
   "source": [
    "<center><img src=\"https://ml2022.oss-cn-hangzhou.aliyuncs.com/img/a892d6d4e9d75a131dd5c3e77dfc01c.png\" alt=\"a892d6d4e9d75a131dd5c3e77dfc01c\" style=\"zoom:33%;\" />"
   ]
  },
  {
   "cell_type": "markdown",
   "id": "3e500357-eac1-4f08-b69b-3ff44d2593c9",
   "metadata": {},
   "source": [
    "不同于OpenAI提供了Python库作为API接入方式，OpenWeather API则是通过https协议进行通信，这是一种RESTful风格API，通过SSL或TLS协议对通信进行加密，并使用HTTP协议的原生语义进行操作，通过使用不同的HTTP方法（GET、POST、PUT、DELETE等）对资源进行增、删、改、查等操作。相关技术内容属于前端开发范畴，课程中不做过多原理层面介绍，重点需要了解的是如何使用这种RESTful风格API进行信息获取。"
   ]
  },
  {
   "cell_type": "markdown",
   "id": "bfa86766-e039-487b-93d5-5d5c49f44296",
   "metadata": {},
   "source": [
    "#### 2.3 RESTful风格API使用方法"
   ]
  },
  {
   "cell_type": "markdown",
   "id": "db3fbd25-9f69-4218-a45c-7d92b1d24af5",
   "metadata": {},
   "source": [
    "&emsp;&emsp;这里我们需要补充介绍关于RESTful风格API调用方法，包括本节课程需要使用OpenWeather API、以及下一小节涉及的谷歌搜索API和Google Sheets API都是RESTful API。由于我们主要是在python环境中调用这些API，因此重点介绍Python中这类API调用的基本步骤为：      \n",
    "\n",
    "- Step 1.构建请求：即输入某个特定的端点，也是后续请求发送的目标端点，对于OpenWeather实时查询天气的API来说，这个端点就是https://api.openweathermap.org/data/2.5/weather ；        \n",
    "\n",
    "- Step 2.设置查询参数：即创建请求相关参数对象，例如如果是调用OpenWeather API进行天气查询，则需要按照官网说明设置以下参数：\n",
    "\n",
    "<center><img src=\"https://ml2022.oss-cn-hangzhou.aliyuncs.com/img/68356917cf86444d13919caa5d22605.png\" alt=\"68356917cf86444d13919caa5d22605\" style=\"zoom:33%;\" />"
   ]
  },
  {
   "cell_type": "markdown",
   "id": "729ec2c2-8542-4d81-ba80-c0e5f85b8656",
   "metadata": {},
   "source": [
    "这些参数分别是城市名称或者位置坐标、API key、返回结果的格式、天气相关单位标准以及输出天气信息的语言，在实际调用OpenWeather API时，可以通过灵活调整这些参数的取值，来获得期望的结果；       \n",
    "\n",
    "- Step 3.发送请求：接下来我们即可借助python中的request库来发生请求，request库是一个专门为发送HTTP请求提供支持的库，借助request库可以非常便捷的进行get或者post请求，并且能够非常便捷的进行返回结果的解析；       \n",
    "\n",
    "- Step 4.解析请求：等待API服务返回结果之后，即可围绕该结果进行解析，将其转化为当前环境可读的形式。具体返回的结果的格式可以通过mode参数进行设置，默认情况下是JOSN格式。"
   ]
  },
  {
   "cell_type": "markdown",
   "id": "cb6229c1-cecc-44ca-985b-9cd36ddda9b5",
   "metadata": {},
   "source": [
    "#### 2.4 利用OpenWeather API获取实时天气信息"
   ]
  },
  {
   "cell_type": "markdown",
   "id": "7a1d145d-75fa-4514-8408-93c80fa810f7",
   "metadata": {},
   "source": [
    "&emsp;&emsp;接下来我们通过一个简单的示例，来介绍如何通过OpenWeather API获取实时天气信息："
   ]
  },
  {
   "cell_type": "code",
   "execution_count": 55,
   "id": "be71124a-0115-4bb1-86f2-e7126c20dccd",
   "metadata": {
    "tags": []
   },
   "outputs": [],
   "source": [
    "import requests\n",
    "\n",
    "# Step 1.构建请求\n",
    "url = \"https://api.openweathermap.org/data/2.5/weather\"\n",
    "\n",
    "# Step 2.设置查询参数\n",
    "params = {\n",
    "    \"q\": \"Beijing\",               # 查询北京实时天气\n",
    "    \"appid\": open_weather_key,    # 输入API key\n",
    "    \"units\": \"metric\",            # 使用摄氏度而不是华氏度\n",
    "    \"lang\":\"zh_cn\"                # 输出语言为简体中文\n",
    "}\n",
    "\n",
    "# Step 3.发送GET请求\n",
    "response = requests.get(url, params=params)\n",
    "\n",
    "# Step 4.解析响应\n",
    "data = response.json()"
   ]
  },
  {
   "cell_type": "markdown",
   "id": "b0752723-f42f-492f-a2c1-7278da67d6bd",
   "metadata": {},
   "source": [
    "这里需要注意的是，城市名必须输入英文名，否则无法正确识别。接下来查看返回结果。首先我们先查看response结果："
   ]
  },
  {
   "cell_type": "code",
   "execution_count": 56,
   "id": "75fdd0e8-fba5-418b-a7bc-f07913c4b694",
   "metadata": {
    "tags": []
   },
   "outputs": [
    {
     "data": {
      "text/plain": [
       "<Response [200]>"
      ]
     },
     "execution_count": 56,
     "metadata": {},
     "output_type": "execute_result"
    }
   ],
   "source": [
    "response"
   ]
  },
  {
   "cell_type": "code",
   "execution_count": 57,
   "id": "6c21eb62-efb2-4e3b-a71e-351a2c7e4a54",
   "metadata": {
    "tags": []
   },
   "outputs": [
    {
     "data": {
      "text/plain": [
       "requests.models.Response"
      ]
     },
     "execution_count": 57,
     "metadata": {},
     "output_type": "execute_result"
    }
   ],
   "source": [
    "type(response)"
   ]
  },
  {
   "cell_type": "markdown",
   "id": "20f62968-e734-4902-a978-adf1d33c66e7",
   "metadata": {},
   "source": [
    "在未解析之前，我们只能查看到基本请求结果状态，这里的200代表成功相应，即本次发送请求获得了对应的响应，且响应内容包含在response中。考虑到默认情况下返回结果是JSON格式，因此后续代码使用了response.json()对其进行解析。解析内容如下："
   ]
  },
  {
   "cell_type": "code",
   "execution_count": 58,
   "id": "807dfca6-7cf7-4330-896e-5fb847bcfe24",
   "metadata": {
    "tags": []
   },
   "outputs": [
    {
     "data": {
      "text/plain": [
       "{'coord': {'lon': 116.3972, 'lat': 39.9075},\n",
       " 'weather': [{'id': 804,\n",
       "   'main': 'Clouds',\n",
       "   'description': '阴，多云',\n",
       "   'icon': '04d'}],\n",
       " 'base': 'stations',\n",
       " 'main': {'temp': 30.94,\n",
       "  'feels_like': 29.42,\n",
       "  'temp_min': 30.94,\n",
       "  'temp_max': 30.94,\n",
       "  'pressure': 1002,\n",
       "  'humidity': 27,\n",
       "  'sea_level': 1002,\n",
       "  'grnd_level': 996},\n",
       " 'visibility': 10000,\n",
       " 'wind': {'speed': 6.9, 'deg': 359, 'gust': 11.09},\n",
       " 'clouds': {'all': 86},\n",
       " 'dt': 1689412632,\n",
       " 'sys': {'type': 1,\n",
       "  'id': 9609,\n",
       "  'country': 'CN',\n",
       "  'sunrise': 1689368261,\n",
       "  'sunset': 1689421349},\n",
       " 'timezone': 28800,\n",
       " 'id': 1816670,\n",
       " 'name': 'Beijing',\n",
       " 'cod': 200}"
      ]
     },
     "execution_count": 58,
     "metadata": {},
     "output_type": "execute_result"
    }
   ],
   "source": [
    "data"
   ]
  },
  {
   "cell_type": "markdown",
   "id": "124b4776-3d6b-4d03-a5a9-817952cfc1e7",
   "metadata": {},
   "source": [
    "> 这里需要注意，若API key未激活，则返回的response将显示401，表示本次请求Unauthorized（未经授权）。此外，若response出现404，则表示URL路径无效，需要根据官网提供的信息重新核对URL路径。"
   ]
  },
  {
   "cell_type": "markdown",
   "id": "6c7f78cb-a18e-4a0f-8f4a-4df50f32cdbc",
   "metadata": {},
   "source": [
    "能够看出，返回结果非常丰富，包含了天气条件、温度、湿度、风速、天气描述等信息，这里我们可以简单查看当前天气中的即时温度和天气状况："
   ]
  },
  {
   "cell_type": "code",
   "execution_count": 42,
   "id": "314168ae-de6a-4931-8fce-5dae0d84f9e1",
   "metadata": {
    "tags": []
   },
   "outputs": [
    {
     "data": {
      "text/plain": [
       "(29.94, 29.94)"
      ]
     },
     "execution_count": 42,
     "metadata": {},
     "output_type": "execute_result"
    }
   ],
   "source": [
    "# 即时温度最高、最低气温\n",
    "data['main']['temp_min'], data['main']['temp_max']"
   ]
  },
  {
   "cell_type": "code",
   "execution_count": 43,
   "id": "31029874-8cce-4cfc-b25c-55fce0ba60d5",
   "metadata": {
    "tags": []
   },
   "outputs": [
    {
     "data": {
      "text/plain": [
       "'阴，多云'"
      ]
     },
     "execution_count": 43,
     "metadata": {},
     "output_type": "execute_result"
    }
   ],
   "source": [
    "# 天气状况\n",
    "data['weather'][0]['description']"
   ]
  },
  {
   "cell_type": "markdown",
   "id": "0a923bc6-29d7-4225-bc09-8a343ae035a9",
   "metadata": {},
   "source": [
    "对比手机查看的天气信息不难发现，OpenWeather提供的天气信息非常准确："
   ]
  },
  {
   "cell_type": "markdown",
   "id": "bbc19b07-2210-47fc-b493-45078ddfc102",
   "metadata": {},
   "source": [
    "<center><img src=\"https://ml2022.oss-cn-hangzhou.aliyuncs.com/img/68acab6de9fb8cbeec4ad34139d04c2.jpg\" alt=\"68acab6de9fb8cbeec4ad34139d04c2\" style=\"zoom:15%;\" />"
   ]
  },
  {
   "cell_type": "markdown",
   "id": "7cadbc82-c7e1-427d-9f21-82a6e61d4ee8",
   "metadata": {},
   "source": [
    "当然，关于data中更多天气信息解读，可以参考官网给出的参数解读Fields in API response部分：https://openweathermap.org/current#current_JSON"
   ]
  },
  {
   "cell_type": "markdown",
   "id": "da553e1e-dea5-456e-9df9-c7f807efc2b2",
   "metadata": {},
   "source": [
    "### 3.借助Function calling实现Chat模型实时天气查询"
   ]
  },
  {
   "cell_type": "markdown",
   "id": "e28d2097-f5db-4c0a-bfca-6f232a163b10",
   "metadata": {},
   "source": [
    "- 实时天气信息获取函数编写"
   ]
  },
  {
   "cell_type": "markdown",
   "id": "e57d7d80-563c-4007-9272-9ddc50750654",
   "metadata": {},
   "source": [
    "&emsp;&emsp;接下来，我们尝试编写一个通过OpenWeather API实时获取天气信息的API，并作为Chat可调用的外部函数之一。很明显，为了确保和大语言模型之间的顺畅通信，此时要求函数的输入和输出都是字符串格式。具体函数编写如下："
   ]
  },
  {
   "cell_type": "code",
   "execution_count": 86,
   "id": "e03db695-a268-4a88-af2d-ce12be13e27f",
   "metadata": {
    "tags": []
   },
   "outputs": [],
   "source": [
    "def get_weather(loc):\n",
    "    \"\"\"\n",
    "    查询即时天气函数\n",
    "    :param loc: 必要参数，字符串类型，用于表示查询天气的具体城市名称，\\\n",
    "    注意，中国的城市需要用对应城市的英文名称代替，例如如果需要查询北京市天气，则loc参数需要输入'Beijing'；\n",
    "    :return：OpenWeather API查询即时天气的结果，具体URL请求地址为：https://api.openweathermap.org/data/2.5/weather\\\n",
    "    返回结果对象类型为解析之后的JSON格式对象，并用字符串形式进行表示，其中包含了全部重要的天气信息\n",
    "    \"\"\"\n",
    "    # Step 1.构建请求\n",
    "    url = \"https://api.openweathermap.org/data/2.5/weather\"\n",
    "\n",
    "    # Step 2.设置查询参数\n",
    "    params = {\n",
    "        \"q\": loc,               \n",
    "        \"appid\": open_weather_key,    # 输入API key\n",
    "        \"units\": \"metric\",            # 使用摄氏度而不是华氏度\n",
    "        \"lang\":\"zh_cn\"                # 输出语言为简体中文\n",
    "    }\n",
    "\n",
    "    # Step 3.发送GET请求\n",
    "    response = requests.get(url, params=params)\n",
    "    \n",
    "    # Step 4.解析响应\n",
    "    data = response.json()\n",
    "    return json.dumps(data)"
   ]
  },
  {
   "cell_type": "markdown",
   "id": "868d8708-7447-4eb3-bd0e-ca53982a19a7",
   "metadata": {},
   "source": [
    "> 再次提示，我们可以通过json.dumps()函数将JSON转化为字符串，反过来我们可以通过json.loads()函数将字符串转化为JSON对象。"
   ]
  },
  {
   "cell_type": "markdown",
   "id": "e7cdc6b1-85a1-4d0d-b442-e5fe822931a2",
   "metadata": {},
   "source": [
    "简单测试函数能否正常运行："
   ]
  },
  {
   "cell_type": "code",
   "execution_count": 87,
   "id": "30178405-48eb-41a2-a375-2d52504853ea",
   "metadata": {
    "tags": []
   },
   "outputs": [
    {
     "data": {
      "text/plain": [
       "'{\"coord\": {\"lon\": 120.1614, \"lat\": 30.2937}, \"weather\": [{\"id\": 501, \"main\": \"Rain\", \"description\": \"\\\\u4e2d\\\\u96e8\", \"icon\": \"10d\"}], \"base\": \"stations\", \"main\": {\"temp\": 30.27, \"feels_like\": 37.27, \"temp_min\": 25.95, \"temp_max\": 31.62, \"pressure\": 992, \"humidity\": 80}, \"visibility\": 9927, \"wind\": {\"speed\": 2.88, \"deg\": 30, \"gust\": 5.2}, \"rain\": {\"1h\": 2.73}, \"clouds\": {\"all\": 89}, \"dt\": 1689499325, \"sys\": {\"type\": 2, \"id\": 2033711, \"country\": \"CN\", \"sunrise\": 1689455265, \"sunset\": 1689505351}, \"timezone\": 28800, \"id\": 1808926, \"name\": \"Hangzhou\", \"cod\": 200}'"
      ]
     },
     "execution_count": 87,
     "metadata": {},
     "output_type": "execute_result"
    }
   ],
   "source": [
    "get_weather('Hangzhou')"
   ]
  },
  {
   "cell_type": "markdown",
   "id": "7e860fd6-ceae-4608-a698-728f622e62de",
   "metadata": {},
   "source": [
    "能够发现函数能够正常运行。此外，需要注意的是，为了确保函数能够顺利和大愿与你模型通信，我们还必须确保模型能够顺利解读OpenWeather天气信息，具体验证过程分以下三步，其一是需要验证Chat模型本身是否知道OpenWeather："
   ]
  },
  {
   "cell_type": "code",
   "execution_count": 79,
   "id": "d5b3baeb-a6ce-4cde-b9d5-30af94b60a03",
   "metadata": {
    "tags": []
   },
   "outputs": [
    {
     "data": {
      "text/plain": [
       "'是的，我知道OpenWeather。它是一项提供全球气象相关信息的服务。OpenWeather提供各种类型的天气数据，如当前天气，预报，历史数据等。他们还提供各种API，允许开发者在自己的应用程序或网站中集成这项服务。'"
      ]
     },
     "execution_count": 79,
     "metadata": {},
     "output_type": "execute_result"
    }
   ],
   "source": [
    "response = openai.ChatCompletion.create(\n",
    "  model=\"gpt-4-0613\",\n",
    "  messages=[\n",
    "    {\"role\": \"user\", \"content\": \"请问你知道OpenWeather么？\"}\n",
    "  ]\n",
    ")\n",
    "response.choices[0].message['content']"
   ]
  },
  {
   "cell_type": "markdown",
   "id": "6e449879-4731-4d29-9519-4b76ea641a5c",
   "metadata": {},
   "source": [
    "其二是需要进一步验证Chat模型能否针对函数结果进行解读，即能否在基于data信息理解基础上，给出一些天气查询问题准确的回答："
   ]
  },
  {
   "cell_type": "markdown",
   "id": "4926e7aa-17c4-4c3a-b81f-f4d5c83f4a22",
   "metadata": {},
   "source": [
    "> 当然，这里如果Chat模型本身就了解OpenWeather，那么应该是具备对OpenWeather查询结果解读的能力的。"
   ]
  },
  {
   "cell_type": "code",
   "execution_count": 80,
   "id": "edbdf115-476f-4acc-a2d7-cdd1613ba7c0",
   "metadata": {
    "tags": []
   },
   "outputs": [
    {
     "data": {
      "text/plain": [
       "'今日杭州市的天气为中雨，现在的温度是32.17摄氏度，但是感觉像是39.17摄氏度。最低温度预计将会降到23.95摄氏度，最高温度可能会升到32.17摄氏度。空气压力为990，湿度为81%。风速约为3.11，风向是从35度吹来。整体上多云，云量占84%。'"
      ]
     },
     "execution_count": 80,
     "metadata": {},
     "output_type": "execute_result"
    }
   ],
   "source": [
    "response = openai.ChatCompletion.create(\n",
    "  model=\"gpt-4-0613\",\n",
    "  messages=[\n",
    "    {\"role\": \"system\", \"content\": \"天气信息来源于OpenWeather API：https://api.openweathermap.org/data/2.5/weather\"},\n",
    "    {\"role\": \"system\", \"content\": \"这是今日杭州市的天气：%s\" % data},\n",
    "    {\"role\": \"user\", \"content\": \"请问今日杭州天气如何？请用简体中文回答\"}\n",
    "  ]\n",
    ")\n",
    "response.choices[0].message['content']"
   ]
  },
  {
   "cell_type": "markdown",
   "id": "fb7b20d9-3732-4f20-8c67-31645bc3abfb",
   "metadata": {},
   "source": [
    "能够发现模型能够理解OpenWeather返回结果，并根据提问对data进行总结并进行回答。"
   ]
  },
  {
   "cell_type": "markdown",
   "id": "5ba051bd-9ef6-4546-aabf-5e364c1af0cb",
   "metadata": {},
   "source": [
    "第三步，也是非常关键的一步，就是我们在进行提问时问题里面的城市名称肯定是中文，但OpenAIWeather API要求输入英文名称，尽管我们在函数参数说明中注明了loc函数需要转化成英文，但对于外部函数的参数整理是Chat模型自发进行的整理，外部无法干预，模型能否按照要求、在对话过程中提取参数并将其整理为指定格式，完全依赖模型自身的推理能力，因此这里我们需要检查模型本身是否知道中文输入的这些城市名称对应的英文名称，验证过程如下："
   ]
  },
  {
   "cell_type": "code",
   "execution_count": 35,
   "id": "c8b6ee67-a280-4070-a74c-28ddc60f9abf",
   "metadata": {
    "tags": []
   },
   "outputs": [
    {
     "data": {
      "text/plain": [
       "'The English name of 杭州市 is Hangzhou.'"
      ]
     },
     "execution_count": 35,
     "metadata": {},
     "output_type": "execute_result"
    }
   ],
   "source": [
    "response = openai.ChatCompletion.create(\n",
    "  model=\"gpt-4-0613\",\n",
    "  messages=[\n",
    "    {\"role\": \"user\", \"content\": \"请问，杭州市的英文名称是？\"}\n",
    "  ]\n",
    ")\n",
    "response.choices[0].message['content']"
   ]
  },
  {
   "cell_type": "markdown",
   "id": "157d30b7-2928-4b1e-963a-cd6e9c7824e2",
   "metadata": {},
   "source": [
    "发现模型能够顺利完成城市名称的中英文翻译。"
   ]
  },
  {
   "cell_type": "markdown",
   "id": "20bc2840-bdab-4af5-9ea5-cdda3cf5b07c",
   "metadata": {},
   "source": [
    "最后需要简单验证的是auto_functions能否顺利的创建get_weather函数的functions参数："
   ]
  },
  {
   "cell_type": "code",
   "execution_count": 78,
   "id": "e5409dab-a8b0-4816-87cc-e34bdc9ea9d5",
   "metadata": {
    "tags": []
   },
   "outputs": [
    {
     "data": {
      "text/plain": [
       "[{'name': 'get_weather',\n",
       "  'description': '查询即时天气函数，根据输入的城市名称，查询对应城市的实时天气',\n",
       "  'parameters': {'type': 'object',\n",
       "   'properties': {'loc': {'description': \"城市名称，注意，中国的城市需要用对应城市的英文名称代替，例如如果需要查询北京市天气，则loc参数需要输入'Beijing'\",\n",
       "     'type': 'string',\n",
       "     'required': True}}}}]"
      ]
     },
     "execution_count": 78,
     "metadata": {},
     "output_type": "execute_result"
    }
   ],
   "source": [
    "functions = auto_functions(functions_list)\n",
    "functions"
   ]
  },
  {
   "cell_type": "markdown",
   "id": "15256c84-45b9-414f-828a-b16f66fe65bb",
   "metadata": {},
   "source": [
    "能否发现，模型提取的函数关键信息非常到位。"
   ]
  },
  {
   "cell_type": "markdown",
   "id": "e8f4fc9e-3ccb-4702-86ef-b38ae5c46126",
   "metadata": {},
   "source": [
    "- 实时天气查询功能的Function calling实现"
   ]
  },
  {
   "cell_type": "markdown",
   "id": "45c40106-d92a-46ca-bcfd-69fd06120fb9",
   "metadata": {},
   "source": [
    "&emsp;&emsp;在一系列验证工作结束后，接下来我们直接将这个函数放入函数库（写入functions_list函数列表），然后直接启动外链函数库之后的多轮对话机器人chat_with_model，查看对话效果。"
   ]
  },
  {
   "cell_type": "code",
   "execution_count": 67,
   "id": "152fe951-7d8f-4f84-92f9-e319e52e3141",
   "metadata": {
    "tags": []
   },
   "outputs": [],
   "source": [
    "functions_list = [get_weather]"
   ]
  },
  {
   "cell_type": "markdown",
   "id": "a38dd552-bcdf-446c-9c80-c397aeac09aa",
   "metadata": {},
   "source": [
    "这里我们首先测试在不带入外部函数时，Chat模型能否准确回答当前天气情况；"
   ]
  },
  {
   "cell_type": "code",
   "execution_count": 76,
   "id": "179181f1-368d-4fce-b524-df7a3b4355e7",
   "metadata": {
    "tags": []
   },
   "outputs": [
    {
     "name": "stdout",
     "output_type": "stream",
     "text": [
      "模型回答: 你好，有什么可以帮助你的吗？\n"
     ]
    },
    {
     "name": "stdin",
     "output_type": "stream",
     "text": [
      "您还有其他问题吗？(输入退出以结束对话):  请问今天杭州天气如何？\n"
     ]
    },
    {
     "name": "stdout",
     "output_type": "stream",
     "text": [
      "模型回答: 对不起，我没有直接获取实时天气的功能。不过，你可以搜索或者使用天气应用来查看实时天气。\n"
     ]
    },
    {
     "name": "stdin",
     "output_type": "stream",
     "text": [
      "您还有其他问题吗？(输入退出以结束对话):  退出\n"
     ]
    }
   ],
   "source": [
    "chat_with_model(prompt=\"你好\")"
   ]
  },
  {
   "cell_type": "markdown",
   "id": "8b04af42-e38a-47a4-8d49-9e6b8c86c83c",
   "metadata": {},
   "source": [
    "能够发现，在原始状态下，大模型并不具备实时查询天气信息的能力。接下来，我们在对话中允许模型挂载外部函数库functions_list，并再次询问当前天气情况，得到结果如下："
   ]
  },
  {
   "cell_type": "code",
   "execution_count": 73,
   "id": "6c040eeb-af13-4c29-a78f-eaf77a9b7e4a",
   "metadata": {
    "tags": []
   },
   "outputs": [
    {
     "name": "stdout",
     "output_type": "stream",
     "text": [
      "发生错误： Expecting value: line 1 column 1 (char 0)\n",
      "正在重新运行...\n",
      "模型回答: 你好，有什么可以帮助你的吗？\n"
     ]
    },
    {
     "name": "stdin",
     "output_type": "stream",
     "text": [
      "您还有其他问题吗？(输入退出以结束对话):  请问今天杭州天气如何？\n"
     ]
    },
    {
     "name": "stdout",
     "output_type": "stream",
     "text": [
      "模型回答: 今天杭州的天气为中雨，温度为32.17度，体感温度为39.17度，最低温度为23.95度，最高温度为32.17度，湿度为81%，风速为3.11。\n"
     ]
    },
    {
     "name": "stdin",
     "output_type": "stream",
     "text": [
      "您还有其他问题吗？(输入退出以结束对话):  你知道什么是陈明函数么？\n"
     ]
    },
    {
     "name": "stdout",
     "output_type": "stream",
     "text": [
      "模型回答: 对不起，我无法找到与\"陈明函数\"相关的信息，可能你提供的信息有误或者该专业术语具有其他别名。能请你提供更多上下文或者详细描述吗？\n"
     ]
    },
    {
     "name": "stdin",
     "output_type": "stream",
     "text": [
      "您还有其他问题吗？(输入退出以结束对话):  退出\n"
     ]
    }
   ],
   "source": [
    "chat_with_model(functions_list, prompt=\"你好\")"
   ]
  },
  {
   "cell_type": "markdown",
   "id": "e397f74b-1395-47a3-8b73-1856330dadf3",
   "metadata": {},
   "source": [
    "能够发现，此时在外部函数库的加持下，此时Chat模型就具备了实时查询天气的能力，能够对天气问题做出准确回答。通过上述对话流程，我们也进一步测试了此前定义的auto_functions、run_conversation都能顺利运行。而在实际执行Function calling功能时，这些辅助函数也确实能极大程度缩短代码流程、提高开发效率。"
   ]
  },
  {
   "cell_type": "markdown",
   "id": "bd338e06-bae4-4585-8597-2716e53ba233",
   "metadata": {},
   "source": [
    "&emsp;&emsp;至此，我们就完整构建了一个借助Function calling功能来调用外部工具API的示例，不难发现，借助Function calling，只要能够获取并灵活使用外部工具API，就能快速为大语言模型“赋能”，其背后的技术想象空间非常大，就OpenWeather API一项，我们就可以进一步探索为Chat模型增加未来天气预测、历史天气统计等功能，以满足不同场景的应用需求，而每个功能的加入，都相当于是完成了一个简单的AI应用开发，而这也是Function calling功能号称能够大幅加快AI应用开发的根本原因。"
   ]
  },
  {
   "cell_type": "markdown",
   "id": "a8069c76-5ab7-43d5-8c4a-5df7905fb3d3",
   "metadata": {},
   "source": [
    "### 4.借助Few-shot提升auto_functions执行稳定性"
   ]
  },
  {
   "cell_type": "markdown",
   "id": "021dd9b6-4bd5-4649-bd6c-46a1aa3a70b1",
   "metadata": {},
   "source": [
    "&emsp;&emsp;在这个实时天气问答的智能应用程序编写时，我们也发现了此前定义的auto_functions还存在一个小问题，那就是有的时候auto_functions会判断get_weather函数参数类型是array类型而不是object类型，这种错误的推理并不会导致auto_functions函数执行时报错，但会导致后续的run_conversation函数运行报错。尽管我们并不知道为何gpt-4模型会推理get_weather函数参数类型是array类型，但确实是需要修正的问题。这里我们可以考虑通过Few-shot的方式来大幅提高auto_functions在执行外部函数参数格式推理时的准确性：即通过为模型编写一些JSON Schema编写示例，来提升推理准确率。具体auto_functions修改方法如下："
   ]
  },
  {
   "cell_type": "markdown",
   "id": "15e56be2-a49a-4558-b8b5-b169697c7778",
   "metadata": {},
   "source": [
    "<center><img src=\"https://ml2022.oss-cn-hangzhou.aliyuncs.com/img/fee6fea7654cd82b6752a102840b955.png\" alt=\"fee6fea7654cd82b6752a102840b955\" style=\"zoom:33%;\" />"
   ]
  },
  {
   "cell_type": "markdown",
   "id": "a470980e-ca2a-42f6-a832-f43bb4389480",
   "metadata": {},
   "source": [
    "具体auto_functions修改方法如下："
   ]
  },
  {
   "cell_type": "code",
   "execution_count": 89,
   "id": "ac3d6288-4a2f-42e6-b6bc-8eaad4346a43",
   "metadata": {
    "tags": []
   },
   "outputs": [],
   "source": [
    "def auto_functions(functions_list):\n",
    "    \"\"\"\n",
    "    Chat模型的functions参数编写函数\n",
    "    :param functions_list: 包含一个或者多个函数对象的列表；\n",
    "    :return：满足Chat模型functions参数要求的functions对象\n",
    "    \"\"\"\n",
    "    def functions_generate(functions_list):\n",
    "        # 创建空列表，用于保存每个函数的描述字典\n",
    "        functions = []\n",
    "        \n",
    "        def chen_ming_algorithm(data):\n",
    "            \"\"\"\n",
    "            陈明算法函数，该函数定义了一种特殊的数据集计算过程\n",
    "            :param data: 必要参数，表示带入计算的数据表，用字符串进行表示\n",
    "            :return：陈明函数计算后的结果，返回结果为表示为JSON格式的Dataframe类型对象\n",
    "            \"\"\"\n",
    "            df_new = pd.read_json(data)\n",
    "            res = np.sum(df_new, axis=1) - 1\n",
    "            return res.to_json(orient='records')\n",
    "        \n",
    "        chen_ming_function_description = inspect.getdoc(chen_ming_algorithm)\n",
    "        \n",
    "        chen_ming_function_name = chen_ming_algorithm.__name__\n",
    "        \n",
    "        chen_ming_function = {\"name\": \"chen_ming_algorithm\",\n",
    "                              \"description\": \"用于执行陈明算法的函数，定义了一种特殊的数据集计算过程\",\n",
    "                              \"parameters\": {\"type\": \"object\",\n",
    "                                             \"properties\": {\"data\": {\"type\": \"string\",\n",
    "                                                                     \"description\": \"执行陈明算法的数据集\"},\n",
    "                                                           },\n",
    "                                             \"required\": [\"data\"],\n",
    "                                            },\n",
    "                             }\n",
    "\n",
    "        \n",
    "        # 对每个外部函数进行循环\n",
    "        for function in functions_list:\n",
    "            # 读取函数对象的函数说明\n",
    "            function_description = inspect.getdoc(function)\n",
    "            # 读取函数的函数名字符串\n",
    "            function_name = function.__name__\n",
    "\n",
    "            user_message1 = '以下是某的函数说明：%s。' % chen_ming_function_description +\\\n",
    "                            '根据这个函数的函数说明，请帮我创建一个function对象，用于描述这个函数的基本情况。这个function对象是一个JSON格式的字典，\\\n",
    "                            这个字典有如下5点要求：\\\n",
    "                            1.字典总共有三个键值对；\\\n",
    "                            2.第一个键值对的Key是字符串name，value是该函数的名字：%s，也是字符串；\\\n",
    "                            3.第二个键值对的Key是字符串description，value是该函数的函数的功能说明，也是字符串；\\\n",
    "                            4.第三个键值对的Key是字符串parameters，value是一个JSON Schema对象，用于说明该函数的参数输入规范。\\\n",
    "                            5.输出结果必须是一个JSON格式的字典，只输出这个字典即可，前后不需要任何前后修饰或说明的语句' % chen_ming_function_name\n",
    "            \n",
    "            \n",
    "            assistant_message1 = json.dumps(chen_ming_function)\n",
    "            \n",
    "            user_prompt = '现在有另一个函数，函数名为：%s；函数说明为：%s；\\\n",
    "                          请帮我仿造类似的格式为当前函数创建一个function对象。' % (function_name, function_description)\n",
    "\n",
    "            response = openai.ChatCompletion.create(\n",
    "                              model=\"gpt-4-0613\",\n",
    "                              messages=[\n",
    "                                {\"role\": \"user\", \"name\":\"example_user\", \"content\": user_message1},\n",
    "                                {\"role\": \"assistant\", \"name\":\"example_assistant\", \"content\": assistant_message1},\n",
    "                                {\"role\": \"user\", \"name\":\"example_user\", \"content\": user_prompt}]\n",
    "                            )\n",
    "            functions.append(json.loads(response.choices[0].message['content']))\n",
    "        return functions\n",
    "    \n",
    "    max_attempts = 3\n",
    "    attempts = 0\n",
    "\n",
    "    while attempts < max_attempts:\n",
    "        try:\n",
    "            functions = functions_generate(functions_list)\n",
    "            break  # 如果代码成功执行，跳出循环\n",
    "        except Exception as e:\n",
    "            attempts += 1  # 增加尝试次数\n",
    "            print(\"发生错误：\", e)\n",
    "            if attempts == max_attempts:\n",
    "                print(\"已达到最大尝试次数，程序终止。\")\n",
    "                raise  # 重新引发最后一个异常\n",
    "            else:\n",
    "                print(\"正在重新运行...\")\n",
    "    return functions"
   ]
  },
  {
   "cell_type": "markdown",
   "id": "536585cd-74c6-489a-9671-3ac739e5e3fb",
   "metadata": {},
   "source": [
    "> 可能有的时候在学习提示工程时难以想象的是，Few-shot对模型推理能力的提升居然会应用于提升AI应用开发稳定性中。"
   ]
  },
  {
   "cell_type": "markdown",
   "id": "00093f84-bac7-4caa-95f5-fb121f6f2bc2",
   "metadata": {},
   "source": [
    "接下来测试函数效果。我们尝试连续运行5次，auto_functions在推理时能否准确的将parameters识别为object类型："
   ]
  },
  {
   "cell_type": "code",
   "execution_count": 91,
   "id": "ea64a094-4f55-42a2-9be2-b9bcc370f02e",
   "metadata": {
    "tags": []
   },
   "outputs": [
    {
     "data": {
      "text/plain": [
       "[{'name': 'get_weather',\n",
       "  'description': '查询即时天气函数，使用OpenWeather的API，中国的城市需要使用英文名称',\n",
       "  'parameters': {'type': 'object',\n",
       "   'properties': {'loc': {'type': 'string', 'description': '需要查询天气的城市的英文名称'}},\n",
       "   'required': ['loc']}}]"
      ]
     },
     "execution_count": 91,
     "metadata": {},
     "output_type": "execute_result"
    }
   ],
   "source": [
    "auto_functions(functions_list)"
   ]
  },
  {
   "cell_type": "code",
   "execution_count": 92,
   "id": "b57fefc2-f23e-4f63-8b0f-b56147438373",
   "metadata": {
    "tags": []
   },
   "outputs": [
    {
     "data": {
      "text/plain": [
       "[{'name': 'get_weather',\n",
       "  'description': '查询即时天气函数，能够返回制定城市的实时天气信息。注意，中国的城市需要用对应城市的英文名称进行查询',\n",
       "  'parameters': {'type': 'object',\n",
       "   'properties': {'loc': {'type': 'string',\n",
       "     'description': '用于表示查询天气的具体城市名称，中国的城市需用其英文名称'}},\n",
       "   'required': ['loc']}}]"
      ]
     },
     "execution_count": 92,
     "metadata": {},
     "output_type": "execute_result"
    }
   ],
   "source": [
    "auto_functions(functions_list)"
   ]
  },
  {
   "cell_type": "code",
   "execution_count": 93,
   "id": "b244eb40-7d3f-4143-9634-7c1339d23454",
   "metadata": {
    "tags": []
   },
   "outputs": [
    {
     "data": {
      "text/plain": [
       "[{'name': 'get_weather',\n",
       "  'description': '查询即时天气函数',\n",
       "  'parameters': {'type': 'object',\n",
       "   'properties': {'loc': {'type': 'string', 'description': '查询天气的具体城市英文名称'}},\n",
       "   'required': ['loc']}}]"
      ]
     },
     "execution_count": 93,
     "metadata": {},
     "output_type": "execute_result"
    }
   ],
   "source": [
    "auto_functions(functions_list)"
   ]
  },
  {
   "cell_type": "code",
   "execution_count": 94,
   "id": "dfc9e67e-2cab-4fd0-a051-e007fc256a8b",
   "metadata": {
    "tags": []
   },
   "outputs": [
    {
     "data": {
      "text/plain": [
       "[{'name': 'get_weather',\n",
       "  'description': '查询即时天气函数，使用OpenWeather API，在传入适当的城市名称（中国城市需使用英文名）后，即可返回该城市的即时天气数据',\n",
       "  'parameters': {'type': 'object',\n",
       "   'properties': {'loc': {'type': 'string',\n",
       "     'description': '需要查询天气的城市名，中国的城市需要对应的英文名称'}},\n",
       "   'required': ['loc']}}]"
      ]
     },
     "execution_count": 94,
     "metadata": {},
     "output_type": "execute_result"
    }
   ],
   "source": [
    "auto_functions(functions_list)"
   ]
  },
  {
   "cell_type": "code",
   "execution_count": 95,
   "id": "09daa21f-7197-4d8b-bdfa-c535790bfe8f",
   "metadata": {
    "tags": []
   },
   "outputs": [
    {
     "data": {
      "text/plain": [
       "[{'name': 'get_weather',\n",
       "  'description': '查询即时天气函数，通过输入城市名称(英文)查询对应的天气信息',\n",
       "  'parameters': {'type': 'object',\n",
       "   'properties': {'loc': {'type': 'string', 'description': '需要查询天气的城市英文名称'}},\n",
       "   'required': ['loc']}}]"
      ]
     },
     "execution_count": 95,
     "metadata": {},
     "output_type": "execute_result"
    }
   ],
   "source": [
    "auto_functions(functions_list)"
   ]
  },
  {
   "cell_type": "markdown",
   "id": "357d3e73-28c2-4645-a1c4-16cc0ec77338",
   "metadata": {},
   "source": [
    "能够发现，此时auto_functions推理稳定性大幅提升。接下来即可更加顺畅的调用chat_with_model进行对话了："
   ]
  },
  {
   "cell_type": "code",
   "execution_count": 97,
   "id": "84929cf2-0e18-4197-85db-c45d4635f9e5",
   "metadata": {
    "tags": []
   },
   "outputs": [
    {
     "name": "stdout",
     "output_type": "stream",
     "text": [
      "模型回答: 你好！有什么我可以帮助你的吗？\n"
     ]
    },
    {
     "name": "stdin",
     "output_type": "stream",
     "text": [
      "您还有其他问题吗？(输入退出以结束对话):  请问今天天津天气如何？\n"
     ]
    },
    {
     "name": "stdout",
     "output_type": "stream",
     "text": [
      "模型回答: 今天天津的天气是晴朗的，温度为32.97摄氏度，相对应的湿度为38%，风速为2m/s。\n"
     ]
    },
    {
     "name": "stdin",
     "output_type": "stream",
     "text": [
      "您还有其他问题吗？(输入退出以结束对话):  相比杭州天气，天津会更热一些么？\n"
     ]
    },
    {
     "name": "stdout",
     "output_type": "stream",
     "text": [
      "模型回答: 是的，根据最新的天气预报，天津的温度为32.97度，而杭州的温度为30.27度，所以天津会比杭州热一些。\n"
     ]
    },
    {
     "name": "stdin",
     "output_type": "stream",
     "text": [
      "您还有其他问题吗？(输入退出以结束对话):  我在北京，一会儿想要出门，要带伞么？\n"
     ]
    },
    {
     "name": "stdout",
     "output_type": "stream",
     "text": [
      "模型回答: 今天北京的天气是晴空万里，无雨预报，所以你无需带伞。但应考虑到天气较热，建议你戴上防晒帽或者打一把太阳伞防晒。\n"
     ]
    },
    {
     "name": "stdin",
     "output_type": "stream",
     "text": [
      "您还有其他问题吗？(输入退出以结束对话):  退出\n"
     ]
    }
   ],
   "source": [
    "chat_with_model(functions_list, prompt=\"你好\")"
   ]
  },
  {
   "cell_type": "markdown",
   "id": "fd17fb8d-41c3-4940-a3d6-432227a67ab3",
   "metadata": {},
   "source": [
    "至此，我们就顺利完成了auto_functions函数的修改，大幅提升其JSON Schema编写时的推理稳定性性能，后续需要在gptLearning.py中更新auto_functions函数。"
   ]
  }
 ],
 "metadata": {
  "kernelspec": {
   "display_name": "Python 3 (ipykernel)",
   "language": "python",
   "name": "python3"
  },
  "language_info": {
   "codemirror_mode": {
    "name": "ipython",
    "version": 3
   },
   "file_extension": ".py",
   "mimetype": "text/x-python",
   "name": "python",
   "nbconvert_exporter": "python",
   "pygments_lexer": "ipython3",
   "version": "3.10.10"
  }
 },
 "nbformat": 4,
 "nbformat_minor": 5
}
