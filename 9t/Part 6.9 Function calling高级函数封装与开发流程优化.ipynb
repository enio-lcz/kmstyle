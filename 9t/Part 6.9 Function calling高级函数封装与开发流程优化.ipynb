{
 "cells": [
  {
   "cell_type": "markdown",
   "id": "afb20a35-b4a6-4005-be72-7ee7c3ce5041",
   "metadata": {},
   "source": [
    "# <center>OpenAI在线大模型调用及微调方法"
   ]
  },
  {
   "cell_type": "markdown",
   "id": "d7f112ae-3b6c-4f36-9ed4-e5af3e6d6e04",
   "metadata": {},
   "source": [
    "## <center>Ch.9 Function calling高级函数封装与开发流程优化"
   ]
  },
  {
   "cell_type": "markdown",
   "id": "0e0ec5c3-2833-4b3e-9a24-c206e8aaecdf",
   "metadata": {},
   "source": [
    "&emsp;&emsp;在上一小节中，我们已经完整介绍了Chat模型的Function calling功能实现流程，本节我们将进一步围绕Chat模型的Function calling功能进行更高层次的函数封装，以降低实现该功能的门槛，提高开发效率。同时，我们也将进一步介绍外部工具API获取方法，以OpenWeather为例，尝试通过Function calling功能调用OpenWeather API实现实时天气查询。而有了这些内容做铺垫，下一小节我们将进一步介绍实用性更强的基于Chat模型Function calling功能的AI应用程序开发案例。"
   ]
  },
  {
   "cell_type": "markdown",
   "id": "c975b8a4-5612-4dac-9fd0-1a973e315235",
   "metadata": {},
   "source": [
    "<center><img src=\"https://ml2022.oss-cn-hangzhou.aliyuncs.com/img/202307131805614.png\" alt=\"Function calling流程总结 (2)\" style=\"zoom:33%;\" />"
   ]
  },
  {
   "cell_type": "markdown",
   "id": "606c7664-6e41-41ba-9c2a-9717c3817360",
   "metadata": {},
   "source": [
    "然后需要补充定义下一小节定义的关键变量："
   ]
  },
  {
   "cell_type": "code",
   "execution_count": 45,
   "id": "47aa58b2-2cc6-4818-9f2f-fd28bd2c020b",
   "metadata": {
    "tags": []
   },
   "outputs": [],
   "source": [
    "import os\n",
    "import openai\n",
    "openai.api_key = os.getenv(\"OPENAI_API_KEY\")\n",
    "\n",
    "import numpy as np\n",
    "import pandas as pd\n",
    "\n",
    "import json\n",
    "import io\n",
    "import inspect\n",
    "import requests"
   ]
  },
  {
   "cell_type": "code",
   "execution_count": 2,
   "id": "823df6a4-cb1c-4546-a1d7-141f86a52e2f",
   "metadata": {
    "tags": []
   },
   "outputs": [],
   "source": [
    "# 创建一个DataFrame\n",
    "df = pd.DataFrame({'x1':[1, 2], 'x2':[3, 4]})\n",
    "\n",
    "df_str = df.to_string()\n",
    "\n",
    "data = io.StringIO(df_str)\n",
    "\n",
    "df_new = pd.read_csv(data, sep='\\s+', index_col=0)"
   ]
  },
  {
   "cell_type": "code",
   "execution_count": 3,
   "id": "1946fa64-819b-4f94-a997-3a4b3e0a5793",
   "metadata": {
    "tags": []
   },
   "outputs": [],
   "source": [
    "def chen_ming_algorithm(data):\n",
    "    \"\"\"\n",
    "    陈明算法函数，该函数定义了一种特殊的数据集计算过程\n",
    "    :param data: 必要参数，表示带入计算的数据表，用字符串进行表示\n",
    "    :return：陈明函数计算后的结果，返回结果为表示为JSON格式的Dataframe类型对象\n",
    "    \"\"\"\n",
    "    df_new = pd.read_json(data)\n",
    "    res = np.sum(df_new, axis=1) - 1\n",
    "    return res.to_json(orient='records')"
   ]
  },
  {
   "cell_type": "code",
   "execution_count": 4,
   "id": "82a88b20-6ee4-4e9b-96dd-e0fbfcccb1a4",
   "metadata": {
    "tags": []
   },
   "outputs": [],
   "source": [
    "available_functions = {\n",
    "            \"chen_ming_algorithm\": chen_ming_algorithm,\n",
    "        }"
   ]
  },
  {
   "cell_type": "code",
   "execution_count": 5,
   "id": "55b555b0-74b3-4e65-b8fe-bc3c4c926622",
   "metadata": {
    "tags": []
   },
   "outputs": [],
   "source": [
    "chen_ming_function = {\"name\": \"chen_ming_algorithm\",\n",
    "                      \"description\": \"用于执行陈明算法的函数，定义了一种特殊的数据集计算过程\",\n",
    "                      \"parameters\": {\"type\": \"object\",\n",
    "                                     \"properties\": {\"data\": {\"type\": \"string\",\n",
    "                                                             \"description\": \"执行陈明算法的数据集\"},\n",
    "                                                   },\n",
    "                                     \"required\": [\"data\"],\n",
    "                                    },\n",
    "                     }"
   ]
  },
  {
   "cell_type": "code",
   "execution_count": 6,
   "id": "d635410c-3cbf-4ada-8442-12ee1908d265",
   "metadata": {
    "tags": []
   },
   "outputs": [
    {
     "data": {
      "text/plain": [
       "[{'name': 'chen_ming_algorithm',\n",
       "  'description': '用于执行陈明算法的函数，定义了一种特殊的数据集计算过程',\n",
       "  'parameters': {'type': 'object',\n",
       "   'properties': {'data': {'type': 'string', 'description': '执行陈明算法的数据集'}},\n",
       "   'required': ['data']}}]"
      ]
     },
     "execution_count": 6,
     "metadata": {},
     "output_type": "execute_result"
    }
   ],
   "source": [
    "functions = [chen_ming_function]\n",
    "functions"
   ]
  },
  {
   "cell_type": "markdown",
   "id": "7132edb0-b60f-421c-9918-2e69b93e4f43",
   "metadata": {},
   "source": [
    "- Function calling功能实现流程优化基本思路"
   ]
  },
  {
   "cell_type": "markdown",
   "id": "d39ddbde-e930-4cf2-9e7c-10bad0d9f815",
   "metadata": {},
   "source": [
    "&emsp;&emsp;对于原始的Function calling实现流程而言，尽管过程清晰，但要完整跑通一个流程所涉及到的代码环节较多，在高频调用该功能的场景中，这个复杂的代码流程会极大程度影响使用和开发效率。因此，接下来我们考虑如何对上述流程进行优化。总的来说，优化的方向有两个：\n",
    "- 第一个优化方向就是优化functions参数的编写效率。根据上述手动实现Function calling功能的过程不难发现，将外部函数信息输入到functions参数中的过程非常复杂，需要涉及到大量的JSON Schema编写过程，并且，如果函数库中包含大量函数，逐个编写JSON Schema会非常复杂且对于初学者而言非常容易出错，因此我们希望能找到一种方法，大幅降低Chat模型读取外部函数的门槛。例如，能否当我们编写完陈明函数后模型就能让大语言模型自动识别这个函数并创建相应的functions参数，而不用手动对其进行编写；\n",
    "\n",
    "\n",
    "- 第二个优化方向则是围绕second response流程进行优化，一个非常朴素的交互需求是，我们并不关心向大模型提问时中间有几次调用模型的过程，我们只希望在一次对话中快速完成需求，即无论是否进行外部函数调用，我们都希望能够在一次代码交互过程中完成对话任务。因此可以考虑对对话流程进行更高层次的封装，若对话过程需要调用Function calling，也能自动执行second response，并最终在一次对话中返回最终结果。"
   ]
  },
  {
   "cell_type": "markdown",
   "id": "29dff1f6-e777-4328-80d9-207d0cdef7b9",
   "metadata": {},
   "source": [
    "接下来我们就尝试编写一些辅助开发的函数，来完成上述两个方面的优化需求。"
   ]
  },
  {
   "cell_type": "markdown",
   "id": "251a83c3-a612-41f7-8afd-2a3ca2ba72ca",
   "metadata": {},
   "source": [
    "### 1.functions参数自动编写函数"
   ]
  },
  {
   "cell_type": "markdown",
   "id": "d40dcc94-44d0-49a7-9543-6dfe4ebb0089",
   "metadata": {},
   "source": [
    "&emsp;&emsp;这里我们首先需要简单验证大语言模型是否具备自主识别函数功能并进行functions参数编写的能力。首先，通过观察不难发现，functions参数其实是非常一类高度结构化的参数，而参数中的核心信息其实都来源于函数本身:"
   ]
  },
  {
   "cell_type": "code",
   "execution_count": 14,
   "id": "8f666259-8906-4d0c-a994-6871ee9cf824",
   "metadata": {},
   "outputs": [
    {
     "data": {
      "text/plain": [
       "[{'name': 'chen_ming_algorithm',\n",
       "  'description': '用于执行陈明算法的函数，定义了一种特殊的数据集计算过程',\n",
       "  'parameters': {'type': 'object',\n",
       "   'properties': {'data': {'type': 'string', 'description': '执行陈明算法的数据集'}},\n",
       "   'required': ['data']}}]"
      ]
     },
     "execution_count": 14,
     "metadata": {},
     "output_type": "execute_result"
    }
   ],
   "source": [
    "functions"
   ]
  },
  {
   "cell_type": "code",
   "execution_count": 15,
   "id": "308f3347-bda2-4ce3-9dc1-619ed519f5ba",
   "metadata": {},
   "outputs": [
    {
     "data": {
      "text/plain": [
       "{'name': 'chen_ming_algorithm',\n",
       " 'description': '用于执行陈明算法的函数，定义了一种特殊的数据集计算过程',\n",
       " 'parameters': {'type': 'object',\n",
       "  'properties': {'data': {'type': 'string', 'description': '执行陈明算法的数据集'}},\n",
       "  'required': ['data']}}"
      ]
     },
     "execution_count": 15,
     "metadata": {},
     "output_type": "execute_result"
    }
   ],
   "source": [
    "chen_ming_function"
   ]
  },
  {
   "cell_type": "code",
   "execution_count": 13,
   "id": "129afbbd-ba5d-4e30-9e4b-5e2f9e82e0d1",
   "metadata": {
    "tags": []
   },
   "outputs": [
    {
     "data": {
      "text/plain": [
       "\u001b[1;31mSignature:\u001b[0m \u001b[0mchen_ming_algorithm\u001b[0m\u001b[1;33m(\u001b[0m\u001b[0mdata\u001b[0m\u001b[1;33m)\u001b[0m\u001b[1;33m\u001b[0m\u001b[1;33m\u001b[0m\u001b[0m\n",
       "\u001b[1;31mDocstring:\u001b[0m\n",
       "陈明算法函数，该函数定义了一种特殊的数据集计算过程\n",
       ":param data: 必要参数，要求字符串类型，表示带入计算的数据表\n",
       ":return：陈明函数计算后的结果，返回结果为json字符串类型对象\n",
       "\u001b[1;31mFile:\u001b[0m      c:\\users\\administrator\\appdata\\local\\temp\\ipykernel_8980\\2241329342.py\n",
       "\u001b[1;31mType:\u001b[0m      function"
      ]
     },
     "metadata": {},
     "output_type": "display_data"
    }
   ],
   "source": [
    "chen_ming_algorithm?"
   ]
  },
  {
   "cell_type": "markdown",
   "id": "233168ad-e22b-42b4-9486-bf835ed9dc8a",
   "metadata": {},
   "source": [
    "因此，functions参数的编写其实本质上上就是一个翻译的过程，将函数原始的说明信息翻译成functions参数要求的格式。而模型是否具备“翻译能力”呢？这其实取决于大语言模型对JSON Schema格式的熟悉程度，我们可以通过询问的方式验证大模型是否具备这方面知识："
   ]
  },
  {
   "cell_type": "code",
   "execution_count": 18,
   "id": "cae5ed17-3b1a-41d2-bb62-0659f910eb13",
   "metadata": {},
   "outputs": [
    {
     "data": {
      "text/plain": [
       "'JSON Schema是一种用于描述JSON数据格式的元数据标准。本质上，它提供了一种描述数据格式的语言。这可以用于验证一个JSON对象的结构是否符合某个预设的模式，也可以用来对JSON对象进行编辑，以保证输入的数据格式正确。'"
      ]
     },
     "execution_count": 18,
     "metadata": {},
     "output_type": "execute_result"
    }
   ],
   "source": [
    "response = openai.ChatCompletion.create(\n",
    "  model=\"gpt-4-0613\",\n",
    "  messages=[\n",
    "    {\"role\": \"user\", \"content\": \"请问什么是JSON Schema？\"}\n",
    "  ]\n",
    ")\n",
    "\n",
    "response.choices[0].message['content']"
   ]
  },
  {
   "cell_type": "markdown",
   "id": "67367dfd-4216-4979-a2bc-71ff8aa1f3a5",
   "metadata": {},
   "source": [
    "能够看出，Chat模型是具备JSON Schema相关知识储备的。由此不难判断，只要我们详细的编写每个函数的函数说明，并且通过合理的提示让模型理解functions参数结构，同时借助模型本身对JSON Schema的理解，是能够让Chat模型自主读取并创建函数的functions参数的。具体实现过程如下。"
   ]
  },
  {
   "cell_type": "markdown",
   "id": "3d217ea9-901e-4a59-b89a-7b10dbbde3c8",
   "metadata": {},
   "source": [
    "- 函数说明提取"
   ]
  },
  {
   "cell_type": "markdown",
   "id": "4599578a-d222-4b0c-9e99-3e47963e1d39",
   "metadata": {},
   "source": [
    "&emsp;&emsp;首先我们首先可以通过inspect库中的getdoc方法来将函数说明提取为字符串："
   ]
  },
  {
   "cell_type": "code",
   "execution_count": 44,
   "id": "1482a87a-4f92-4fe1-9b9b-4465dabab811",
   "metadata": {
    "tags": []
   },
   "outputs": [],
   "source": [
    "import inspect"
   ]
  },
  {
   "cell_type": "code",
   "execution_count": 16,
   "id": "1b7fbfd5-0612-4709-93d2-152760b3050f",
   "metadata": {
    "tags": []
   },
   "outputs": [
    {
     "data": {
      "text/plain": [
       "'陈明算法函数，该函数定义了一种特殊的数据集计算过程\\n:param data: 必要参数，要求字符串类型，表示带入计算的数据表\\n:return：陈明函数计算后的结果，返回结果为json字符串类型对象'"
      ]
     },
     "execution_count": 16,
     "metadata": {},
     "output_type": "execute_result"
    }
   ],
   "source": [
    "inspect.getdoc(chen_ming_algorithm)"
   ]
  },
  {
   "cell_type": "code",
   "execution_count": 17,
   "id": "23480a3a-da49-4e07-b0bd-41bd05fc19f3",
   "metadata": {
    "tags": []
   },
   "outputs": [
    {
     "name": "stdout",
     "output_type": "stream",
     "text": [
      "陈明算法函数，该函数定义了一种特殊的数据集计算过程\n",
      ":param data: 必要参数，要求字符串类型，表示带入计算的数据表\n",
      ":return：陈明函数计算后的结果，返回结果为json字符串类型对象\n"
     ]
    }
   ],
   "source": [
    "print(inspect.getdoc(chen_ming_algorithm))"
   ]
  },
  {
   "cell_type": "code",
   "execution_count": 18,
   "id": "39a644b2-4927-4f41-b748-a3b4251abd9e",
   "metadata": {
    "tags": []
   },
   "outputs": [
    {
     "data": {
      "text/plain": [
       "'陈明算法函数，该函数定义了一种特殊的数据集计算过程\\n:param data: 必要参数，要求字符串类型，表示带入计算的数据表\\n:return：陈明函数计算后的结果，返回结果为json字符串类型对象'"
      ]
     },
     "execution_count": 18,
     "metadata": {},
     "output_type": "execute_result"
    }
   ],
   "source": [
    "function_description = inspect.getdoc(chen_ming_algorithm)\n",
    "function_description"
   ]
  },
  {
   "cell_type": "markdown",
   "id": "1707f5c0-2e32-42e7-96b2-76350f7992c5",
   "metadata": {},
   "source": [
    "> inspect库中包含了非常多用于辅助验证函数功能的函数，能够非常高效的执行获取函数参数、函数源码、函数说明等功能。"
   ]
  },
  {
   "cell_type": "markdown",
   "id": "cdfe43f3-d7b6-4ad3-bc30-f3476ae1175b",
   "metadata": {},
   "source": [
    "- 测试能够将函数参数格式以JSON Schema类型呈现"
   ]
  },
  {
   "cell_type": "markdown",
   "id": "afc83bd3-4cf5-4173-b529-88ca2312eb5a",
   "metadata": {},
   "source": [
    "&emsp;&emsp;然后测试能否让Chat模型通过读取这段函数说明，正确识别函数参数及参数结构，并用JSON Schema格式进行说明："
   ]
  },
  {
   "cell_type": "code",
   "execution_count": 22,
   "id": "f974fdce-f3d9-4cf9-8fe0-170f8b35b6e8",
   "metadata": {
    "tags": []
   },
   "outputs": [
    {
     "data": {
      "text/plain": [
       "'{\\n  \"$schema\": \"http://json-schema.org/draft-07/schema#\",\\n  \"title\": \"ChenMing Function Parameter\",\\n  \"type\": \"object\",\\n  \"properties\": {\\n    \"data\": {\\n      \"description\": \"要求字符串类型，表示带入计算的数据表\",\\n      \"type\": \"string\"\\n    }\\n  },\\n  \"required\": [\"data\"]\\n}'"
      ]
     },
     "execution_count": 22,
     "metadata": {},
     "output_type": "execute_result"
    }
   ],
   "source": [
    "response = openai.ChatCompletion.create(\n",
    "  model=\"gpt-4-0613\",\n",
    "  messages=[\n",
    "    {\"role\": \"system\", \"content\": \"以下是陈明函数的函数说明：%s\" % function_description},\n",
    "    {\"role\": \"user\", \"content\": \"请帮我编写一个JSON Schema对象，用于说明陈明函数的参数输入规范。输出结果要求是JSON Schema格式的JONS类型对象，不需要任何前后修饰语句。\"}\n",
    "  ]\n",
    ")\n",
    "response.choices[0].message['content']"
   ]
  },
  {
   "cell_type": "markdown",
   "id": "6aaecb2c-57be-4813-8466-be9050b2daa5",
   "metadata": {},
   "source": [
    "Chat函数的输出结果是JSON格式对象，我们可以通过json.loads方法将其转化为python对象："
   ]
  },
  {
   "cell_type": "code",
   "execution_count": 23,
   "id": "cc7221a7-3d99-4de1-bd8c-636764aac491",
   "metadata": {
    "tags": []
   },
   "outputs": [
    {
     "data": {
      "text/plain": [
       "{'$schema': 'http://json-schema.org/draft-07/schema#',\n",
       " 'title': 'ChenMing Function Parameter',\n",
       " 'type': 'object',\n",
       " 'properties': {'data': {'description': '要求字符串类型，表示带入计算的数据表',\n",
       "   'type': 'string'}},\n",
       " 'required': ['data']}"
      ]
     },
     "execution_count": 23,
     "metadata": {},
     "output_type": "execute_result"
    }
   ],
   "source": [
    "json.loads(response.choices[0].message['content'])"
   ]
  },
  {
   "cell_type": "code",
   "execution_count": 33,
   "id": "c49e2250-7d3a-4ba5-9805-996200964342",
   "metadata": {},
   "outputs": [
    {
     "data": {
      "text/plain": [
       "{'name': 'chen_ming_algorithm',\n",
       " 'description': '用于执行陈明算法的函数，定义了一种特殊的数据集计算过程',\n",
       " 'parameters': {'type': 'object',\n",
       "  'properties': {'data': {'type': 'string', 'description': '执行陈明算法的数据集'}},\n",
       "  'required': ['data']}}"
      ]
     },
     "execution_count": 33,
     "metadata": {},
     "output_type": "execute_result"
    }
   ],
   "source": [
    "chen_ming_function"
   ]
  },
  {
   "cell_type": "code",
   "execution_count": 38,
   "id": "8857bd75-d83e-46ce-8c4c-9287b8c632d8",
   "metadata": {},
   "outputs": [
    {
     "data": {
      "text/plain": [
       "{'type': 'object',\n",
       " 'properties': {'data': {'type': 'string', 'description': '执行陈明算法的数据集'}},\n",
       " 'required': ['data']}"
      ]
     },
     "execution_count": 38,
     "metadata": {},
     "output_type": "execute_result"
    }
   ],
   "source": [
    "chen_ming_function['parameters']"
   ]
  },
  {
   "cell_type": "markdown",
   "id": "1cc6b382-8fe2-4167-a331-f294026e50d8",
   "metadata": {},
   "source": [
    "对比手动编写的结果不难发现，模型能够根据函数的参数说明正确识别陈明函数的参数格式，并输出对应的JSON Schema对象。"
   ]
  },
  {
   "cell_type": "markdown",
   "id": "6af47797-2b50-4fa6-8add-910f4ef7adc5",
   "metadata": {},
   "source": [
    "> 相比手动编写的JSON Schema对象，Chat模型输出的JSON Schema对象多出来的'$schema'关键词表示的是元关键词，用于申明当前JSON Schema版本，而'additionalProperties'关键词则表示不存在另一种输入格式，这两个关键词对所描述的对象结构类型并没有任何影响。"
   ]
  },
  {
   "cell_type": "markdown",
   "id": "52c57c3e-9130-4a01-88e9-fc948eb1df27",
   "metadata": {},
   "source": [
    "- 编写自动编写functions参数函数"
   ]
  },
  {
   "cell_type": "markdown",
   "id": "62097142-7d47-4f2c-a4f8-30b822c8da6d",
   "metadata": {},
   "source": [
    "&emsp;&emsp;接下来，我们试着通过合理的提示，让模型能够自动编写functions参数，还是一样的，我们可以通过chen_ming_algorithm.__name__自动提取函数名称："
   ]
  },
  {
   "cell_type": "code",
   "execution_count": 83,
   "id": "31f29c90-e0b4-4366-9347-99bfde10c6de",
   "metadata": {},
   "outputs": [
    {
     "data": {
      "text/plain": [
       "'chen_ming_algorithm'"
      ]
     },
     "execution_count": 83,
     "metadata": {},
     "output_type": "execute_result"
    }
   ],
   "source": [
    "function_name = chen_ming_algorithm.__name__\n",
    "function_name"
   ]
  },
  {
   "cell_type": "markdown",
   "id": "67f61ee1-1100-4a42-826d-d33c7c8a046a",
   "metadata": {},
   "source": [
    "以下是Chat模型提示过程："
   ]
  },
  {
   "cell_type": "code",
   "execution_count": 123,
   "id": "419d116c-64a9-4b2b-8aff-bb035c74fe4b",
   "metadata": {},
   "outputs": [],
   "source": [
    "system_prompt = '以下是某的函数说明：%s' % function_description\n",
    "user_prompt = '根据这个函数的函数说明，请帮我创建一个JSON格式的字典，这个字典有如下5点要求：\\\n",
    "               1.字典总共有三个键值对；\\\n",
    "               2.第一个键值对的Key是字符串name，value是该函数的名字：%s，也是字符串；\\\n",
    "               3.第二个键值对的Key是字符串description，value是该函数的函数的功能说明，也是字符串；\\\n",
    "               4.第三个键值对的Key是字符串parameters，value是一个JSON Schema对象，用于说明该函数的参数输入规范。\\\n",
    "               5.输出结果必须是一个JSON格式的字典，且不需要任何前后修饰语句' % function_name"
   ]
  },
  {
   "cell_type": "code",
   "execution_count": 75,
   "id": "703c2ab5-767e-4fc3-9143-4715832ebcec",
   "metadata": {},
   "outputs": [
    {
     "data": {
      "text/plain": [
       "'{\\n    \"name\": \"chen_ming_algorithm\",\\n    \"description\": \"陈明算法函数，该函数定义了一种特殊的数据集计算过程\",\\n    \"parameters\": {\\n        \"$schema\": \"http://json-schema.org/draft-07/schema#\",\\n        \"title\": \"陈明算法函数参数\",\\n        \"type\": \"object\",\\n        \"properties\": {\\n            \"data\": {\\n                \"description\": \"字符串类型的数据表\",\\n                \"type\": \"string\"\\n            }\\n        },\\n        \"required\": [\"data\"]\\n    }\\n}'"
      ]
     },
     "execution_count": 75,
     "metadata": {},
     "output_type": "execute_result"
    }
   ],
   "source": [
    "response = openai.ChatCompletion.create(\n",
    "  model=\"gpt-4-0613\",\n",
    "  messages=[\n",
    "    {\"role\": \"system\", \"content\": system_prompt},\n",
    "    {\"role\": \"user\", \"content\": user_prompt}\n",
    "  ]\n",
    ")\n",
    "response.choices[0].message['content']"
   ]
  },
  {
   "cell_type": "code",
   "execution_count": 76,
   "id": "9c3565fd-375e-46a1-87d9-9408bb4205cc",
   "metadata": {},
   "outputs": [
    {
     "data": {
      "text/plain": [
       "{'name': 'chen_ming_algorithm',\n",
       " 'description': '陈明算法函数，该函数定义了一种特殊的数据集计算过程',\n",
       " 'parameters': {'$schema': 'http://json-schema.org/draft-07/schema#',\n",
       "  'title': '陈明算法函数参数',\n",
       "  'type': 'object',\n",
       "  'properties': {'data': {'description': '字符串类型的数据表', 'type': 'string'}},\n",
       "  'required': ['data']}}"
      ]
     },
     "execution_count": 76,
     "metadata": {},
     "output_type": "execute_result"
    }
   ],
   "source": [
    "json.loads(response.choices[0].message['content'])"
   ]
  },
  {
   "cell_type": "markdown",
   "id": "7d03b101-2e92-463a-a04e-3009ce35373b",
   "metadata": {},
   "source": [
    "> 当然，上述过程（按照格式输出文本语义理解的内容）对于大语言模型来说其实是非常简单的推理过程，这个提示过程也可以借助Few-shot来执行。并且在JSON Schema对象编写时，Few-shot效果会明显好于当前的Zero-shot过程。"
   ]
  },
  {
   "cell_type": "markdown",
   "id": "c8ef9b26-d3c1-43d5-b6bf-9d67b556c844",
   "metadata": {},
   "source": [
    "而这个对象，其实也就是我们此前编写的chen_ming_function对象。"
   ]
  },
  {
   "cell_type": "code",
   "execution_count": 58,
   "id": "eff2d436-9f8b-4ba7-b28f-3151b7fdb233",
   "metadata": {},
   "outputs": [
    {
     "data": {
      "text/plain": [
       "{'name': 'chen_ming_algorithm',\n",
       " 'description': '用于执行陈明算法的函数，定义了一种特殊的数据集计算过程',\n",
       " 'parameters': {'type': 'object',\n",
       "  'properties': {'data': {'type': 'string', 'description': '执行陈明算法的数据集'}},\n",
       "  'required': ['data']}}"
      ]
     },
     "execution_count": 58,
     "metadata": {},
     "output_type": "execute_result"
    }
   ],
   "source": [
    "chen_ming_function"
   ]
  },
  {
   "cell_type": "markdown",
   "id": "0e7a5bbd-6a1b-474c-996a-ee91d6bc1702",
   "metadata": {},
   "source": [
    "&emsp;&emsp;接下来，我们对上述流程进行更高层次的封装，即编写一个自动输出functions参数的函数："
   ]
  },
  {
   "cell_type": "code",
   "execution_count": 39,
   "id": "061dfdfd-751d-4951-b6ef-99d97a2cb582",
   "metadata": {
    "tags": []
   },
   "outputs": [],
   "source": [
    "def auto_functions(functions_list):\n",
    "    \"\"\"\n",
    "    Chat模型的functions参数编写函数\n",
    "    :param functions_list: 包含一个或者多个函数对象的列表；\n",
    "    :return：满足Chat模型functions参数要求的functions对象\n",
    "    \"\"\"\n",
    "    def functions_generate(functions_list):\n",
    "        # 创建空列表，用于保存每个函数的描述字典\n",
    "        functions = []\n",
    "        # 对每个外部函数进行循环\n",
    "        for function in functions_list:\n",
    "            # 读取函数对象的函数说明\n",
    "            function_description = inspect.getdoc(function)\n",
    "            # 读取函数的函数名字符串\n",
    "            function_name = function.__name__\n",
    "\n",
    "            system_prompt = '以下是某的函数说明：%s' % function_description\n",
    "            user_prompt = '根据这个函数的函数说明，请帮我创建一个JSON格式的字典，这个字典有如下5点要求：\\\n",
    "                           1.字典总共有三个键值对；\\\n",
    "                           2.第一个键值对的Key是字符串name，value是该函数的名字：%s，也是字符串；\\\n",
    "                           3.第二个键值对的Key是字符串description，value是该函数的函数的功能说明，也是字符串；\\\n",
    "                           4.第三个键值对的Key是字符串parameters，value是一个JSON Schema对象，用于说明该函数的参数输入规范。\\\n",
    "                           5.输出结果必须是一个JSON格式的字典，只输出这个字典即可，前后不需要任何前后修饰或说明的语句' % function_name\n",
    "\n",
    "            response = openai.ChatCompletion.create(\n",
    "                              model=\"gpt-4-0613\",\n",
    "                              messages=[\n",
    "                                {\"role\": \"system\", \"content\": system_prompt},\n",
    "                                {\"role\": \"user\", \"content\": user_prompt}\n",
    "                              ]\n",
    "                            )\n",
    "            functions.append(json.loads(response.choices[0].message['content']))\n",
    "        return functions\n",
    "    \n",
    "    max_attempts = 3\n",
    "    attempts = 0\n",
    "\n",
    "    while attempts < max_attempts:\n",
    "        try:\n",
    "            functions = functions_generate(functions_list)\n",
    "            break  # 如果代码成功执行，跳出循环\n",
    "        except Exception as e:\n",
    "            attempts += 1  # 增加尝试次数\n",
    "            print(\"发生错误：\", e)\n",
    "            if attempts == max_attempts:\n",
    "                print(\"已达到最大尝试次数，程序终止。\")\n",
    "                raise  # 重新引发最后一个异常\n",
    "            else:\n",
    "                print(\"正在重新运行...\")\n",
    "    return functions"
   ]
  },
  {
   "cell_type": "code",
   "execution_count": 38,
   "id": "c52f9e2f-6bf1-44df-adad-941a5f498d39",
   "metadata": {
    "tags": []
   },
   "outputs": [
    {
     "data": {
      "text/plain": [
       "'chen_ming_algorithm'"
      ]
     },
     "execution_count": 38,
     "metadata": {},
     "output_type": "execute_result"
    }
   ],
   "source": [
    "chen_ming_algorithm.__name__"
   ]
  },
  {
   "cell_type": "markdown",
   "id": "1ec9215e-0f05-47de-9420-9f19c5b65db4",
   "metadata": {},
   "source": [
    "这里需要注意，我们实际上是把函数功能的主题封装在functions_generate这个内嵌函数中，然后外层函数主要控制报错时的处理流程：即如果函数执行时报错，则三次内报错都会反复调用执行functions_generate，三次报错之后则会直接停止运行。这里之所以要设置多次报错仍然反复执行，是因为哪怕user_prompt中明确指出“只输出这个字典即可，前后不需要任何前后修饰或说明的语句”，但模型仍然可能会输出前后说明文字，此时我们是无法直接使用functions.append(json.loads(response.choices[0].message['content']))来提取functions字典的，但这只是小概率事件，再次进行相同问题的提问，输出的结果大概率不会再包含前后修饰语句，functions_generate即可正常运行。因此这里设置了一旦报错最多反复三次进行运行的流程："
   ]
  },
  {
   "cell_type": "markdown",
   "id": "8e64daf9-adad-4bfd-9e55-258e0022e87a",
   "metadata": {},
   "source": [
    "> 当然，这个问题也可以通过Few-shot来解决。"
   ]
  },
  {
   "cell_type": "code",
   "execution_count": 25,
   "id": "23e37a2e-c3bd-43aa-8018-241c4889cc01",
   "metadata": {
    "tags": []
   },
   "outputs": [],
   "source": [
    "functions_list = [chen_ming_algorithm]"
   ]
  },
  {
   "cell_type": "code",
   "execution_count": 26,
   "id": "3b76b63d-c400-4338-a46b-1bf3ddb450f6",
   "metadata": {
    "tags": []
   },
   "outputs": [],
   "source": [
    "functions = auto_functions(functions_list)"
   ]
  },
  {
   "cell_type": "code",
   "execution_count": 27,
   "id": "d40121a6-9dbf-446e-a894-d12d5fd79968",
   "metadata": {
    "tags": []
   },
   "outputs": [
    {
     "data": {
      "text/plain": [
       "[{'name': 'chen_ming_algorithm',\n",
       "  'description': '陈明算法函数，该函数定义了一种特殊的数据集计算过程',\n",
       "  'parameters': {'type': 'object',\n",
       "   'properties': {'data': {'type': 'string',\n",
       "     'description': '必要参数，要求字符串类型，表示带入计算的数据表'}},\n",
       "   'required': ['data']}}]"
      ]
     },
     "execution_count": 27,
     "metadata": {},
     "output_type": "execute_result"
    }
   ],
   "source": [
    "functions"
   ]
  },
  {
   "cell_type": "markdown",
   "id": "d539d059-6f8d-4bf9-933d-94c0e633ec56",
   "metadata": {},
   "source": [
    "接下来测试将其带入Chat模型，验证模型是否能顺利执行Function calling功能："
   ]
  },
  {
   "cell_type": "code",
   "execution_count": 28,
   "id": "da4b0d73-c70f-4b01-ab21-6f64f6a84647",
   "metadata": {
    "tags": []
   },
   "outputs": [
    {
     "data": {
      "text/plain": [
       "'   x1  x2\\n0   1   3\\n1   2   4'"
      ]
     },
     "execution_count": 28,
     "metadata": {},
     "output_type": "execute_result"
    }
   ],
   "source": [
    "df_str"
   ]
  },
  {
   "cell_type": "code",
   "execution_count": 29,
   "id": "d1fcf8d6-03c9-4dbb-b828-94459dc5c0f0",
   "metadata": {
    "tags": []
   },
   "outputs": [
    {
     "data": {
      "text/plain": [
       "<OpenAIObject at 0x163ae338b80> JSON: {\n",
       "  \"role\": \"assistant\",\n",
       "  \"content\": null,\n",
       "  \"function_call\": {\n",
       "    \"name\": \"chen_ming_algorithm\",\n",
       "    \"arguments\": \"{\\n\\\"data\\\": \\\"x1  x2\\\\n0   1   3\\\\n1   2   4\\\"\\n}\"\n",
       "  }\n",
       "}"
      ]
     },
     "execution_count": 29,
     "metadata": {},
     "output_type": "execute_result"
    }
   ],
   "source": [
    "messages=[\n",
    "    {\"role\": \"system\", \"content\": \"数据集data：%s，数据集以字符串形式呈现\" % df_str},\n",
    "    {\"role\": \"user\", \"content\": \"请在数据集data上执行陈明算法\"}\n",
    "]\n",
    "\n",
    "response = openai.ChatCompletion.create(\n",
    "        model=\"gpt-4-0613\",\n",
    "        messages=messages,\n",
    "        functions=functions,\n",
    "        function_call=\"auto\",  \n",
    "    )\n",
    "response[\"choices\"][0][\"message\"]"
   ]
  },
  {
   "cell_type": "markdown",
   "id": "00fe63c7-9cba-45a7-a428-fd0694598130",
   "metadata": {},
   "source": [
    "能够发现模型返回结果中存在function_call，则说明模型完成了外部模型的挑选，说明模型顺利执行了Function calling功能。也进而说明自动functions参数编写函数切实有效。"
   ]
  },
  {
   "cell_type": "markdown",
   "id": "89d4ee92-d314-4065-a338-ff58ea682d03",
   "metadata": {},
   "source": [
    "&emsp;&emsp;接下来我们进一步测试，当我们添加多个外部函数时，auto_functions函数能否顺利的依次翻译这些函数说明，并组成functions列表，同时在多个函数情况下，模型能否根据实际对话需求智能选择外部函数："
   ]
  },
  {
   "cell_type": "code",
   "execution_count": 70,
   "id": "dcacf343-94aa-4a04-88e9-ac7fe4d1a9e7",
   "metadata": {
    "tags": []
   },
   "outputs": [],
   "source": [
    "def zhao_min_algorithm(data):\n",
    "    \"\"\"\n",
    "    赵敏算法函数，该函数定义了一种特殊的数据集计算过程\n",
    "    :param data: 必要参数，表示带入计算的数据表，用字符串进行表示\n",
    "    :return：赵敏函数计算后的结果，返回结果为表示为JSON格式的Dataframe类型对象\n",
    "    \"\"\"\n",
    "    df_new = pd.read_json(data)\n",
    "    res = np.sum(df_new, axis=1) + 1\n",
    "    return res.to_json(orient='records')"
   ]
  },
  {
   "cell_type": "code",
   "execution_count": 34,
   "id": "6f0d7e34-13b1-4bd2-a148-511d00d05a5f",
   "metadata": {
    "tags": []
   },
   "outputs": [],
   "source": [
    "functions_list = [chen_ming_algorithm, zhao_min_algorithm]"
   ]
  },
  {
   "cell_type": "code",
   "execution_count": 35,
   "id": "6763553b-de6c-4e83-b4d9-a0dd5aca8db3",
   "metadata": {
    "tags": []
   },
   "outputs": [
    {
     "data": {
      "text/plain": [
       "[{'name': 'chen_ming_algorithm',\n",
       "  'description': '陈明算法函数，该函数定义了一种特殊的数据集计算过程',\n",
       "  'parameters': {'type': 'object',\n",
       "   'properties': {'data': {'type': 'string',\n",
       "     'description': '要求字符串类型，表示带入计算的数据表'}},\n",
       "   'required': ['data']}},\n",
       " {'name': 'zhao_min_algorithm',\n",
       "  'description': '赵敏算法函数，该函数定义了一种特殊的数据集计算过程',\n",
       "  'parameters': {'type': 'object',\n",
       "   'properties': {'data': {'type': 'string',\n",
       "     'description': '必要参数，要求字符串类型，表示带入计算的数据表'}},\n",
       "   'required': ['data']}}]"
      ]
     },
     "execution_count": 35,
     "metadata": {},
     "output_type": "execute_result"
    }
   ],
   "source": [
    "functions = auto_functions(functions_list)\n",
    "functions"
   ]
  },
  {
   "cell_type": "code",
   "execution_count": 100,
   "id": "d0c6aa20-6827-4d46-8010-a60b7e2cdb2a",
   "metadata": {},
   "outputs": [
    {
     "data": {
      "text/plain": [
       "<OpenAIObject at 0x227ec87ce50> JSON: {\n",
       "  \"content\": null,\n",
       "  \"function_call\": {\n",
       "    \"arguments\": \"{\\n\\\"data\\\": \\\"x1  x2\\\\n0   1   3\\\\n1   2   4\\\"\\n}\",\n",
       "    \"name\": \"zhao_min_algorithm\"\n",
       "  },\n",
       "  \"role\": \"assistant\"\n",
       "}"
      ]
     },
     "execution_count": 100,
     "metadata": {},
     "output_type": "execute_result"
    }
   ],
   "source": [
    "messages=[\n",
    "    {\"role\": \"system\", \"content\": \"数据集data：%s，数据集以字符串形式呈现\" % df_str},\n",
    "    {\"role\": \"user\", \"content\": \"请在数据集data上执行赵敏算法\"}\n",
    "]\n",
    "\n",
    "response = openai.ChatCompletion.create(\n",
    "        model=\"gpt-4-0613\",\n",
    "        messages=messages,\n",
    "        functions=functions,\n",
    "        function_call=\"auto\",  \n",
    "    )\n",
    "response[\"choices\"][0][\"message\"]"
   ]
  },
  {
   "cell_type": "markdown",
   "id": "7fe2fcac-c10c-4be7-8cc9-04a3bc52fd0a",
   "metadata": {},
   "source": [
    "能够发现，在添加了赵敏算法之后，auto-functions函数能够顺利输出正确结果，并且模型也能够根据不同的提示，智能筛选外部函数。例如此时在同时输入了陈明算法和赵敏算法作为外部函数的时，当我们向模型提问“执行赵敏算法”时，模型能够正确识别调用zhao_min_algorithm。"
   ]
  },
  {
   "cell_type": "markdown",
   "id": "dc083d38-9963-48df-a32c-d788672918da",
   "metadata": {},
   "source": [
    "### 2.外部函数调用时两轮response自动应答函数"
   ]
  },
  {
   "cell_type": "markdown",
   "id": "34c9f1d3-e4b2-4c85-b12c-8067efb36686",
   "metadata": {},
   "source": [
    "&emsp;&emsp;接下来，我们继续考虑围绕对话流程进行优化，即将Function calling执行时的多轮对话封装在一个函数中。这里需要涉及到外部函数库字典创建，该字典要求一个键值对代表一个函数，每个键值对的Key表示函数名字符串，对应的Value表示对应的函数。对于此前的functions_list里面包含的两个函数，我们可以使用如下方式创建这个函数库字典："
   ]
  },
  {
   "cell_type": "code",
   "execution_count": 103,
   "id": "ad731ce8-6368-4618-9987-89fbdd494473",
   "metadata": {},
   "outputs": [
    {
     "data": {
      "text/plain": [
       "[<function __main__.chen_ming_algorithm(data)>,\n",
       " <function __main__.zhao_min_algorithm(data)>]"
      ]
     },
     "execution_count": 103,
     "metadata": {},
     "output_type": "execute_result"
    }
   ],
   "source": [
    "functions_list"
   ]
  },
  {
   "cell_type": "code",
   "execution_count": 105,
   "id": "8708c05f-9b48-4148-9080-78f5e2678123",
   "metadata": {},
   "outputs": [
    {
     "data": {
      "text/plain": [
       "{'chen_ming_algorithm': <function __main__.chen_ming_algorithm(data)>,\n",
       " 'zhao_min_algorithm': <function __main__.zhao_min_algorithm(data)>}"
      ]
     },
     "execution_count": 105,
     "metadata": {},
     "output_type": "execute_result"
    }
   ],
   "source": [
    "function_dict = {func.__name__: func for func in functions_list}\n",
    "function_dict"
   ]
  },
  {
   "cell_type": "markdown",
   "id": "f0ec9759-dc38-4428-8497-d94ba0c3f777",
   "metadata": {},
   "source": [
    "具体函数的定义流程如下："
   ]
  },
  {
   "cell_type": "code",
   "execution_count": 40,
   "id": "30e95d3f-9587-43b3-a72b-09dbeaac69d8",
   "metadata": {
    "tags": []
   },
   "outputs": [],
   "source": [
    "def run_conversation(messages, functions_list=None, model=\"gpt-4-0613\"):\n",
    "    \"\"\"\n",
    "    能够自动执行外部函数调用的Chat对话模型\n",
    "    :param messages: 必要参数，字典类型，输入到Chat模型的messages参数对象\n",
    "    :param functions_list: 可选参数，默认为None，可以设置为包含全部外部函数的列表对象\n",
    "    :param model: Chat模型，可选参数，默认模型为gpt-4\n",
    "    :return：Chat模型输出结果\n",
    "    \"\"\"\n",
    "    # 如果没有外部函数库，则执行普通的对话任务\n",
    "    if functions_list == None:\n",
    "        response = openai.ChatCompletion.create(\n",
    "                        model=model,\n",
    "                        messages=messages,\n",
    "                        )\n",
    "        response_message = response[\"choices\"][0][\"message\"]\n",
    "        final_response = response_message[\"content\"]\n",
    "        \n",
    "    # 若存在外部函数库，则需要灵活选取外部函数并进行回答\n",
    "    else:\n",
    "        # 创建functions对象\n",
    "        functions = auto_functions(functions_list)\n",
    "        # 创建外部函数库字典\n",
    "        available_functions = {func.__name__: func for func in functions_list}\n",
    "\n",
    "        # first response\n",
    "        response = openai.ChatCompletion.create(\n",
    "                        model=model,\n",
    "                        messages=messages,\n",
    "                        functions=functions,\n",
    "                        function_call=\"auto\")\n",
    "        response_message = response[\"choices\"][0][\"message\"]\n",
    "\n",
    "        # 判断返回结果是否存在function_call，即判断是否需要调用外部函数来回答问题\n",
    "        if response_message.get(\"function_call\"):\n",
    "            # 需要调用外部函数\n",
    "            # 获取函数名\n",
    "            function_name = response_message[\"function_call\"][\"name\"]\n",
    "            # 获取函数对象\n",
    "            fuction_to_call = available_functions[function_name]\n",
    "            # 获取函数参数\n",
    "            function_args = json.loads(response_message[\"function_call\"][\"arguments\"])\n",
    "            # 将函数参数输入到函数中，获取函数计算结果\n",
    "            function_response = fuction_to_call(**function_args)\n",
    "\n",
    "            # messages中拼接first response消息\n",
    "            messages.append(response_message)  \n",
    "            # messages中拼接函数输出结果\n",
    "            messages.append(\n",
    "                {\n",
    "                    \"role\": \"function\",\n",
    "                    \"name\": function_name,\n",
    "                    \"content\": function_response,\n",
    "                }\n",
    "            )  \n",
    "            # 第二次调用模型\n",
    "            second_response = openai.ChatCompletion.create(\n",
    "                model=model,\n",
    "                messages=messages,\n",
    "            )  \n",
    "            # 获取最终结果\n",
    "            final_response = second_response[\"choices\"][0][\"message\"][\"content\"]\n",
    "        else:\n",
    "            final_response = response_message[\"content\"]\n",
    "    \n",
    "    return final_response"
   ]
  },
  {
   "cell_type": "markdown",
   "id": "4e388436-bf15-4f71-98fe-5e5864d9e949",
   "metadata": {},
   "source": [
    "接下来测试函数效果："
   ]
  },
  {
   "cell_type": "code",
   "execution_count": 40,
   "id": "ed43afa6-86f9-4b0e-bf29-c0d015a466d1",
   "metadata": {
    "tags": []
   },
   "outputs": [],
   "source": [
    "messages = [\n",
    "        {\"role\": \"system\", \"content\": \"数据集data：%s，数据集以字符串形式呈现\" % df_str},\n",
    "        {\"role\": \"user\", \"content\": '请在data上执行赵敏算法'}]"
   ]
  },
  {
   "cell_type": "code",
   "execution_count": 42,
   "id": "a03d3258-bc20-4636-a279-f28c90a9b5a7",
   "metadata": {
    "tags": []
   },
   "outputs": [
    {
     "data": {
      "text/plain": [
       "[<function __main__.chen_ming_algorithm(data)>,\n",
       " <function __main__.zhao_min_algorithm(data)>]"
      ]
     },
     "execution_count": 42,
     "metadata": {},
     "output_type": "execute_result"
    }
   ],
   "source": [
    "functions_list"
   ]
  },
  {
   "cell_type": "code",
   "execution_count": 43,
   "id": "555803de-50a1-460e-9398-0d3e62179981",
   "metadata": {
    "tags": []
   },
   "outputs": [
    {
     "data": {
      "text/plain": [
       "'执行赵敏算法后得到的结果是：\\n```\\n0    5\\n1    7\\n```'"
      ]
     },
     "execution_count": 43,
     "metadata": {},
     "output_type": "execute_result"
    }
   ],
   "source": [
    "run_conversation(messages = messages, functions_list = functions_list)"
   ]
  },
  {
   "cell_type": "code",
   "execution_count": 46,
   "id": "4ec402a2-abed-4a58-86d4-32f192bfb309",
   "metadata": {
    "tags": []
   },
   "outputs": [
    {
     "data": {
      "text/plain": [
       "'执行了陈明算法后，数据集结果如下：  \\n\\n   x1  x2\\n0   3  \\n1   5'"
      ]
     },
     "execution_count": 46,
     "metadata": {},
     "output_type": "execute_result"
    }
   ],
   "source": [
    "messages = [\n",
    "        {\"role\": \"system\", \"content\": \"数据集data：%s，数据集以字符串形式呈现\" % df_str},\n",
    "        {\"role\": \"user\", \"content\": '请在data上执行陈明算法'}]\n",
    "run_conversation(messages = messages, functions_list = functions_list)"
   ]
  },
  {
   "cell_type": "code",
   "execution_count": 48,
   "id": "e243f232-0b11-48a3-8c48-08c43e636cba",
   "metadata": {
    "tags": []
   },
   "outputs": [
    {
     "data": {
      "text/plain": [
       "'这是一个简单的二维数据集，它由两列数据x1和x2组成。数据集中有两行数据，对应的值分别是（1，3）和（2，4）。这样的数据集通常可以用于简单的二维数值分析或可视化。'"
      ]
     },
     "execution_count": 48,
     "metadata": {},
     "output_type": "execute_result"
    }
   ],
   "source": [
    "messages = [\n",
    "        {\"role\": \"system\", \"content\": \"数据集data：%s，数据集以字符串形式呈现\" % df_str},\n",
    "        {\"role\": \"user\", \"content\": '请帮我介绍下data数据集'}]\n",
    "run_conversation(messages = messages, functions_list = functions_list)"
   ]
  },
  {
   "cell_type": "code",
   "execution_count": 55,
   "id": "37087fda-8df2-4ddd-9972-d485aa5fc5b9",
   "metadata": {
    "tags": []
   },
   "outputs": [
    {
     "data": {
      "text/plain": [
       "'抱歉，关于\"陈明算法\"的信息我无法找到，它可能属于一个非常特殊或私有的算法。如果你能提供更多关于它的具体信息，例如它的主要功能，适用场景或是一些具体的操作步骤等，我可能可以帮助到你。\\n\\n或者，你可以最后是指其他流行的ML算法（例如，线性回归，逻辑回归，决策树，k-means，SVM，神经网络等）吗？在这个数据集上，我可以调用这些算法来进行数据分析和预测。'"
      ]
     },
     "execution_count": 55,
     "metadata": {},
     "output_type": "execute_result"
    }
   ],
   "source": [
    "messages = [\n",
    "        {\"role\": \"system\", \"content\": \"数据集data：%s，数据集以字符串形式呈现\" % df_str},\n",
    "        {\"role\": \"user\", \"content\": '请在data上执行陈明算法'}]\n",
    "run_conversation(messages = messages)"
   ]
  },
  {
   "cell_type": "markdown",
   "id": "1499e027-f5d4-4039-afeb-f5a832382365",
   "metadata": {},
   "source": [
    "能够发现，模型能够非常顺利的调用外部函数并围绕当前问题进行准确回答。至此，我们就完成了既定的Function calling功能执行过程的代码优化，通过借助run_conversation函数，我们只需设置messages和外部函数列表，即可让模型在回答时有选择性的选择外部函数进行回答，全程无需手动进行调整。"
   ]
  },
  {
   "cell_type": "markdown",
   "id": "9d076ea8-b78a-4754-a054-b0eedc778449",
   "metadata": {},
   "source": [
    "### 3.基于run_conversation的多轮对话函数"
   ]
  },
  {
   "cell_type": "markdown",
   "id": "518872cb-3d03-45c4-a70a-f4b240fdbcf2",
   "metadata": {},
   "source": [
    "&emsp;&emsp;当然，我们还可以更进一步，在run_conversation基础之上，再封装一个可以执行多轮对话的函数。我们可以直接在Ch.7结尾定义的多轮对话函数基础上进行修改，修改后的函数如下："
   ]
  },
  {
   "cell_type": "code",
   "execution_count": 58,
   "id": "63eeedce-78f2-4300-bec4-4a17a70f631c",
   "metadata": {
    "tags": []
   },
   "outputs": [],
   "source": [
    "system_message=[{\"role\": \"system\", \"content\": \"你是以为乐于助人的助手。\"}]"
   ]
  },
  {
   "cell_type": "code",
   "execution_count": 59,
   "id": "2f837637-0eba-4de0-8f67-742ba3394cb3",
   "metadata": {
    "tags": []
   },
   "outputs": [],
   "source": [
    "system_message.append({\"role\": \"user\", \"content\": \"你好呀\"})"
   ]
  },
  {
   "cell_type": "code",
   "execution_count": 60,
   "id": "602b45b7-a62c-4b31-a636-d7f47cb963fb",
   "metadata": {
    "tags": []
   },
   "outputs": [
    {
     "data": {
      "text/plain": [
       "[{'role': 'system', 'content': '你是以为乐于助人的助手。'},\n",
       " {'role': 'user', 'content': '你好呀'}]"
      ]
     },
     "execution_count": 60,
     "metadata": {},
     "output_type": "execute_result"
    }
   ],
   "source": [
    "system_message"
   ]
  },
  {
   "cell_type": "code",
   "execution_count": 41,
   "id": "334608e1-c582-4605-a7fb-24e3435458c2",
   "metadata": {
    "tags": []
   },
   "outputs": [],
   "source": [
    "def chat_with_model(functions_list=None, \n",
    "                    prompt=\"你好呀\", \n",
    "                    model=\"gpt-4-0613\", \n",
    "                    system_message=[{\"role\": \"system\", \"content\": \"你是以为乐于助人的助手。\"}]):\n",
    "    \n",
    "    messages = system_message\n",
    "    messages.append({\"role\": \"user\", \"content\": prompt})\n",
    "    \n",
    "    while True:           \n",
    "        answer = run_conversation(messages=messages, \n",
    "                                    functions_list=functions_list, \n",
    "                                    model=model)\n",
    "        \n",
    "        \n",
    "        print(f\"模型回答: {answer}\")\n",
    "\n",
    "        # 询问用户是否还有其他问题\n",
    "        user_input = input(\"您还有其他问题吗？(输入退出以结束对话): \")\n",
    "        if user_input == \"退出\":\n",
    "            break\n",
    "\n",
    "        # 记录用户回答\n",
    "        messages.append({\"role\": \"user\", \"content\": user_input})"
   ]
  },
  {
   "cell_type": "markdown",
   "id": "00ff562c-0795-45a0-b10a-0071e9a88c2a",
   "metadata": {},
   "source": [
    "接下来测试问答效果，首先是不带入functions_list的问答过程："
   ]
  },
  {
   "cell_type": "code",
   "execution_count": 64,
   "id": "4f6394dc-2892-4a73-b0e4-2f22859b3c2e",
   "metadata": {
    "tags": []
   },
   "outputs": [
    {
     "name": "stdout",
     "output_type": "stream",
     "text": [
      "模型回答: 你好，很高兴和你交谈。有什么我可以帮助你的吗？\n"
     ]
    },
    {
     "name": "stdin",
     "output_type": "stream",
     "text": [
      "您还有其他问题吗？(输入退出以结束对话):  请帮我介绍下陈明算法\n"
     ]
    },
    {
     "name": "stdout",
     "output_type": "stream",
     "text": [
      "模型回答: 很抱歉，我没有找到关于\"陈明算法\"的准确信息。可以没有描述错误或者这个算法不那么常见或者被广泛的知道。如果你有更多陈明算法的详细信息，我可以帮你更深入的研究。我随时准备助你一臂之力。\n"
     ]
    },
    {
     "name": "stdin",
     "output_type": "stream",
     "text": [
      "您还有其他问题吗？(输入退出以结束对话):  退出\n"
     ]
    }
   ],
   "source": [
    "chat_with_model()"
   ]
  },
  {
   "cell_type": "markdown",
   "id": "d761b4c1-d398-466a-b4db-43137373b474",
   "metadata": {},
   "source": [
    "能够发现，模型并不知道外部函数库的任何信息。接下来，我们进一步测试带入functions_list之后模型问答效果："
   ]
  },
  {
   "cell_type": "code",
   "execution_count": 69,
   "id": "8d610146-1688-42f7-b500-45cab2c02265",
   "metadata": {
    "tags": []
   },
   "outputs": [
    {
     "name": "stdout",
     "output_type": "stream",
     "text": [
      "模型回答: 你好！有什么我可以帮你的吗？\n"
     ]
    },
    {
     "name": "stdin",
     "output_type": "stream",
     "text": [
      "您还有其他问题吗？(输入退出以结束对话):  请问什么是陈明函数？\n"
     ]
    },
    {
     "name": "stdout",
     "output_type": "stream",
     "text": [
      "模型回答: 陈明算法是一种特殊的数据集计算过程，这个函数需要一串字符串作为数据表。直接的功能和详细的算法过程可能因具体的应用背景和需求而有所不同。大体上，它的主要作用是通过对输入的字符串数据表进行复杂的操作和运算，从而得到一个结果输出。可能的操作包括但不限于排序、分类、筛选等。具体的计算方法和输出结果需要根据陈明算法的具体实现来确定。\n"
     ]
    },
    {
     "name": "stdin",
     "output_type": "stream",
     "text": [
      "您还有其他问题吗？(输入退出以结束对话):  那赵敏函数呢？\n"
     ]
    },
    {
     "name": "stdout",
     "output_type": "stream",
     "text": [
      "模型回答: 赵敏算法是一种特殊的数据集计算过程，此函数需要一个字符串类型的输入，这个输入代表的是带入计算的数据表。具体的计算过程和结果取决于赵敏算法的内部实现。请注意，使用此函数需要精确的数据输入，以获得可靠的计算结果。\n"
     ]
    },
    {
     "name": "stdin",
     "output_type": "stream",
     "text": [
      "您还有其他问题吗？(输入退出以结束对话):  好的，我还想了解下无忌函数\n"
     ]
    },
    {
     "name": "stdout",
     "output_type": "stream",
     "text": [
      "模型回答: 抱歉，目前我们只定义了陈明算法和赵敏算法两种计算函数。\"无忌函数\"可能并不存在或者在这里并未定义，所以我无法为您提供相关详细信息。如果有更多其他问题，请随时向我询问。\n"
     ]
    },
    {
     "name": "stdin",
     "output_type": "stream",
     "text": [
      "您还有其他问题吗？(输入退出以结束对话):  退出\n"
     ]
    }
   ],
   "source": [
    "chat_with_model(functions_list, prompt=\"你好\")"
   ]
  },
  {
   "cell_type": "markdown",
   "id": "5175de4b-941c-47f4-acb4-534997cef699",
   "metadata": {},
   "source": [
    "能够发现，此时模型不仅能够顺利识别外部函数库的陈明函数和赵敏函数，同时甚至能够对外部函数库整体情况进行总结。由此也能确定，Chat模型对外部函数的识别是建立在外部函数库全量信息的理解基础上的，而这些理解不仅可以用于具体某个外部函数的问答，也可以用于对整个函数库进行描述。"
   ]
  },
  {
   "cell_type": "markdown",
   "id": "c0ddbc10-462e-4baf-a235-0e48de666531",
   "metadata": {},
   "source": [
    "- gtpLearning.py函数库封装"
   ]
  },
  {
   "cell_type": "markdown",
   "id": "dcecdc20-ffcd-4dca-ba8e-115f3b4da161",
   "metadata": {},
   "source": [
    "&emsp;&emsp;最后，考虑到我们后续需要反复用到本节定义的这些函数，为了更方便的调用，我们可以在本地创建一个名为gptLearning.py的py文件用于保存这些代码，并在必要时随时通过import方法对其导入。gptLearning.py目前包含auto_functions、run_conversation、chat_with_model三个函数以及必要的库，同学们可以自行在本地创建同名py文件，也可以直接下载课件里的gptLearning.py文件并放在jupyter的当前工作目录下，方便后续进行导入。"
   ]
  },
  {
   "cell_type": "markdown",
   "id": "900256ec-cc82-4eb9-9db7-001e752d66f7",
   "metadata": {},
   "source": [
    "<center><img src=\"https://ml2022.oss-cn-hangzhou.aliyuncs.com/img/86d693dc06da838abcbb1bbc6a47ca3.png\" alt=\"86d693dc06da838abcbb1bbc6a47ca3\" style=\"zoom:33%;\" />"
   ]
  },
  {
   "cell_type": "markdown",
   "id": "e311ecc6-c119-4617-b5ff-2427b4c4e667",
   "metadata": {},
   "source": [
    "py文件准备好了之后，之后即可按照如下方式导入这些函数："
   ]
  },
  {
   "cell_type": "code",
   "execution_count": 99,
   "id": "7ceb69c4-4283-4d16-922d-ec9879603f11",
   "metadata": {
    "tags": []
   },
   "outputs": [],
   "source": [
    "import gptLearning as gl"
   ]
  },
  {
   "cell_type": "code",
   "execution_count": 100,
   "id": "fe25b849-9cd7-4057-84f0-34a9bea69f13",
   "metadata": {
    "tags": []
   },
   "outputs": [
    {
     "data": {
      "text/plain": [
       "\u001b[1;31mType:\u001b[0m        module\n",
       "\u001b[1;31mString form:\u001b[0m <module 'gptLearning' from 'E:\\\\work\\\\大模型课程课件\\\\gptLearning.py'>\n",
       "\u001b[1;31mFile:\u001b[0m        e:\\work\\大模型课程课件\\gptlearning.py\n",
       "\u001b[1;31mDocstring:\u001b[0m   <no docstring>"
      ]
     },
     "metadata": {},
     "output_type": "display_data"
    }
   ],
   "source": [
    "gl?"
   ]
  },
  {
   "cell_type": "code",
   "execution_count": 102,
   "id": "84de8120-62be-410a-a159-68790c3e59e3",
   "metadata": {
    "tags": []
   },
   "outputs": [
    {
     "data": {
      "text/plain": [
       "\u001b[1;31mSignature:\u001b[0m \u001b[0mgl\u001b[0m\u001b[1;33m.\u001b[0m\u001b[0mauto_functions\u001b[0m\u001b[1;33m(\u001b[0m\u001b[0mfunctions_list\u001b[0m\u001b[1;33m)\u001b[0m\u001b[1;33m\u001b[0m\u001b[1;33m\u001b[0m\u001b[0m\n",
       "\u001b[1;31mDocstring:\u001b[0m\n",
       "Chat模型的functions参数编写函数\n",
       ":param functions_list: 包含一个或者多个函数对象的列表；\n",
       ":return：满足Chat模型functions参数要求的functions对象\n",
       "\u001b[1;31mFile:\u001b[0m      e:\\work\\大模型课程课件\\gptlearning.py\n",
       "\u001b[1;31mType:\u001b[0m      function"
      ]
     },
     "metadata": {},
     "output_type": "display_data"
    }
   ],
   "source": [
    "gl.auto_functions?"
   ]
  },
  {
   "cell_type": "code",
   "execution_count": 105,
   "id": "197fc457-7e88-4638-9d88-bea772d7db7e",
   "metadata": {
    "tags": []
   },
   "outputs": [
    {
     "data": {
      "text/plain": [
       "\u001b[1;31mSignature:\u001b[0m \u001b[0mgl\u001b[0m\u001b[1;33m.\u001b[0m\u001b[0mrun_conversation\u001b[0m\u001b[1;33m(\u001b[0m\u001b[0mmessages\u001b[0m\u001b[1;33m,\u001b[0m \u001b[0mfunctions_list\u001b[0m\u001b[1;33m=\u001b[0m\u001b[1;32mNone\u001b[0m\u001b[1;33m,\u001b[0m \u001b[0mmodel\u001b[0m\u001b[1;33m=\u001b[0m\u001b[1;34m'gpt-4-0613'\u001b[0m\u001b[1;33m)\u001b[0m\u001b[1;33m\u001b[0m\u001b[1;33m\u001b[0m\u001b[0m\n",
       "\u001b[1;31mDocstring:\u001b[0m\n",
       "能够自动执行外部函数调用的Chat对话模型\n",
       ":param messages: 必要参数，字典类型，输入到Chat模型的messages参数对象\n",
       ":param functions_list: 可选参数，默认为None，可以设置为包含全部外部函数的列表对象\n",
       ":param model: Chat模型，可选参数，默认模型为gpt-4\n",
       ":return：Chat模型输出结果\n",
       "\u001b[1;31mFile:\u001b[0m      e:\\work\\大模型课程课件\\gptlearning.py\n",
       "\u001b[1;31mType:\u001b[0m      function"
      ]
     },
     "metadata": {},
     "output_type": "display_data"
    }
   ],
   "source": [
    "gl.run_conversation?"
   ]
  },
  {
   "cell_type": "code",
   "execution_count": 104,
   "id": "b9890284-65ac-41fc-af2e-5bdfbae85c46",
   "metadata": {
    "tags": []
   },
   "outputs": [
    {
     "data": {
      "text/plain": [
       "\u001b[1;31mSignature:\u001b[0m\n",
       "\u001b[0mgl\u001b[0m\u001b[1;33m.\u001b[0m\u001b[0mchat_with_model\u001b[0m\u001b[1;33m(\u001b[0m\u001b[1;33m\n",
       "\u001b[0m    \u001b[0mfunctions_list\u001b[0m\u001b[1;33m=\u001b[0m\u001b[1;32mNone\u001b[0m\u001b[1;33m,\u001b[0m\u001b[1;33m\n",
       "\u001b[0m    \u001b[0mprompt\u001b[0m\u001b[1;33m=\u001b[0m\u001b[1;34m'你好呀'\u001b[0m\u001b[1;33m,\u001b[0m\u001b[1;33m\n",
       "\u001b[0m    \u001b[0mmodel\u001b[0m\u001b[1;33m=\u001b[0m\u001b[1;34m'gpt-4-0613'\u001b[0m\u001b[1;33m,\u001b[0m\u001b[1;33m\n",
       "\u001b[0m    \u001b[0msystem_message\u001b[0m\u001b[1;33m=\u001b[0m\u001b[1;33m[\u001b[0m\u001b[1;33m{\u001b[0m\u001b[1;34m'role'\u001b[0m\u001b[1;33m:\u001b[0m \u001b[1;34m'system'\u001b[0m\u001b[1;33m,\u001b[0m \u001b[1;34m'content'\u001b[0m\u001b[1;33m:\u001b[0m \u001b[1;34m'你是以为乐于助人的助手。'\u001b[0m\u001b[1;33m}\u001b[0m\u001b[1;33m]\u001b[0m\u001b[1;33m,\u001b[0m\u001b[1;33m\n",
       "\u001b[0m\u001b[1;33m)\u001b[0m\u001b[1;33m\u001b[0m\u001b[1;33m\u001b[0m\u001b[0m\n",
       "\u001b[1;31mDocstring:\u001b[0m <no docstring>\n",
       "\u001b[1;31mFile:\u001b[0m      e:\\work\\大模型课程课件\\gptlearning.py\n",
       "\u001b[1;31mType:\u001b[0m      function"
      ]
     },
     "metadata": {},
     "output_type": "display_data"
    }
   ],
   "source": [
    "gl.chat_with_model?"
   ]
  },
  {
   "cell_type": "markdown",
   "id": "44af216c-3a41-49cc-9a93-79b7d502f196",
   "metadata": {},
   "source": [
    "也可以按照如下方式一次性导入全部所需函数："
   ]
  },
  {
   "cell_type": "code",
   "execution_count": 98,
   "id": "c778f9a0-2bff-4758-8983-63ca3699867a",
   "metadata": {
    "tags": []
   },
   "outputs": [],
   "source": [
    "from gptLearning import *"
   ]
  },
  {
   "cell_type": "markdown",
   "id": "57022f1c-6c04-4d37-aaf6-5b183a467622",
   "metadata": {},
   "source": [
    "&emsp;&emsp;至此，我们围绕Function calling功能的实现流程的优化就全部完成，接下来我们将目光转向外部函数库的构建过程中，尝试获取一些开源工具的API并将其封装为外部函数，借助Function calling功能进行调用，以实现Chat模型功能的大幅拓展。"
   ]
  }
 ],
 "metadata": {
  "kernelspec": {
   "display_name": "Python 3 (ipykernel)",
   "language": "python",
   "name": "python3"
  },
  "language_info": {
   "codemirror_mode": {
    "name": "ipython",
    "version": 3
   },
   "file_extension": ".py",
   "mimetype": "text/x-python",
   "name": "python",
   "nbconvert_exporter": "python",
   "pygments_lexer": "ipython3",
   "version": "3.10.10"
  }
 },
 "nbformat": 4,
 "nbformat_minor": 5
}
