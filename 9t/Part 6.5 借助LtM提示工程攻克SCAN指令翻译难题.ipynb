{
 "cells": [
  {
   "cell_type": "markdown",
   "id": "e42c95ad-e246-4ef3-8896-9ea59f786efb",
   "metadata": {},
   "source": [
    "# <center>OpenAI在线大模型调用及微调方法"
   ]
  },
  {
   "cell_type": "markdown",
   "id": "4ac541a1-e4be-4803-b644-d4d825c9bb6e",
   "metadata": {},
   "source": [
    "## <center>Ch.5 借助LtM提示工程攻克SCAN指令翻译难题"
   ]
  },
  {
   "cell_type": "markdown",
   "id": "c53637a9-ae5d-4d46-a497-860bc5ba95f0",
   "metadata": {},
   "source": [
    "### 1.项目背景及SCAN数据集介绍"
   ]
  },
  {
   "cell_type": "markdown",
   "id": "1c253664-9330-405e-80b0-01736a3cc2d1",
   "metadata": {},
   "source": [
    "&emsp;&emsp;根据Ch.3提示工程入门部分内容，我们了解，到对于大语言模型来说，组合泛化能力是最为重要的涌现能力之一，也是模型能够理解复杂语义、进行准确推理的底层能力，也是影响模型编程、翻译以及其他各类NLP任务执行能力最为重要的底层能力。因此，某个具体提示工程技术是否有效，最有效的方式就是观察该方法是否能有效提升模型组合泛化能力。在上一小节中，我们首先介绍了一系列基础提示工程方法，包括Few-shot、CoT方法和LtM方法等，并在一些基础推理示例上验证了这些方法对于提升模型组合泛化能力的有效性（推理能力属于组合泛化能力）。当然，就上一小节的教学示例来说，都属于非常基础的推理问题，实际使用的提示工程流程也并不复杂。那么接下来，我们继续尝试把这些提示工程方法应用到一个更加复杂的工业级实战场景中，一方面进一步介绍提示工程的复杂实战技巧，另一方面也通过一个工业级实战案例，为大家展示提示工程+大预言模型的实战威力。"
   ]
  },
  {
   "cell_type": "markdown",
   "id": "cb8abd91-0ad5-4991-ad2c-2176690d9d9f",
   "metadata": {},
   "source": [
    "&emsp;&emsp;本小节介绍的实战项目为指令翻译项目，采用的数据集为纽约大学和Facebook的科学家们于2018年提出的SCAN数据集，该数据集包含2万条基于隐藏语义关系的指令及对应的翻译动作序列，是目前公认的用于测试深度学习算法组合泛化能力的基准数据集。尽管数据集是人工创建的数据集，但该数据集建模难度极大，哪怕是目前最前沿的深度学习算法都无法进行非常精准的预测，在大模型诞生之前，人们甚至需要单独围绕这个数据集提出全新的深度学习架构，才能完成较高进度的预测。而这也使得该数据集也是目前公认的最为有效的测试模型组合泛化能力的数据集。接下来我们尝试使用上一小节介绍的提示工程方法，在text-davinci-003模型上完成对该数据集的预测。这是课程中第一个基于大模型的工业级实战项目，也是我们首次基于大模型来完成一个完整的建模流程。"
   ]
  },
  {
   "cell_type": "markdown",
   "id": "04630ccb-c3f2-4f59-b3d3-336614849d58",
   "metadata": {},
   "source": [
    "&emsp;&emsp;需要注意的是，围绕该问题的大语言模型建模预测最早见于论文[《LEAST-TO-MOST PROMPTING ENABLES COMPLEX REASONING IN LARGE LANGUAGE MODELS》](https://arxiv.org/pdf/2205.10625.pdf)，改论文也是上一小节介绍的LtM方法提出论文，在该论文中，采用了一种较为复杂的LtM提示方法，最终完成了准确率高达99.7%的预测。本节内容我们将先尝试复现改论文的方法，然后尝试对其进行改进。"
   ]
  },
  {
   "cell_type": "markdown",
   "id": "fc4ef1c8-eee1-4ad4-92fe-b3a100d1c677",
   "metadata": {},
   "source": [
    "- SCAN数据集形式"
   ]
  },
  {
   "cell_type": "markdown",
   "id": "0de1d252-4a6b-4ce3-a3a4-60d73dbb68fc",
   "metadata": {},
   "source": [
    "&emsp;&emsp;SCAN（Simplified Compositional Actions and Navigation）数据集由纽约大学和Facebook的科学家们于2018年提出，数据集本身是一系列的指令和对应的行为序列组成的数据集，指令在数据集中以IN的形式进行申明，是一串描述动作序列的英文句子，例如\"walk twice and jump twice\"；而行为序列则是以OUT的形式进行申明，是指令所指代的一系列精准步骤，例如“\"WALK\", \"WALK\", \"JUMP\", \"JUMP\"”，数据集基本结构如下："
   ]
  },
  {
   "cell_type": "markdown",
   "id": "112c78f7-c867-4c28-b53b-d89e098e7cbc",
   "metadata": {},
   "source": [
    "<center><img src=\"https://ml2022.oss-cn-hangzhou.aliyuncs.com/img/202306291118609.png\" alt=\"a358c4956cbd8964e7d39b57399ab1d\" style=\"zoom:50%;\" />"
   ]
  },
  {
   "cell_type": "markdown",
   "id": "d44c5b4a-82f0-4aaf-ab73-924f1ac79d97",
   "metadata": {},
   "source": [
    "不难看出，这是一个纯文本数据集。SCAN数据集总共包含2万条样本（2万个IN-OUT对）。对比传统的结构化数据集，IN相当于是特征，OUT相当于是标签。"
   ]
  },
  {
   "cell_type": "markdown",
   "id": "91d306b1-59ad-4811-bdb0-68bb62acc380",
   "metadata": {},
   "source": [
    "- SCAN数据集测试模型组合泛化能力"
   ]
  },
  {
   "cell_type": "markdown",
   "id": "cb7d8b7f-bfc7-455a-afff-b2894da8eb62",
   "metadata": {},
   "source": [
    "&emsp;&emsp;从自然语言的角度，有些指令和行为之间的关系较好理解，例如“walk twice and jump twice”当然就是指代“\"WALK\", \"WALK\", \"JUMP\", \"JUMP\"”，但有些命令和行为之间的关系却不是很好理解，例如上图中的最后一个命令：“walk opposite left twice and run”，为何是指代“\"TURN_LEFT\",\"TURN_LEFT\",\"WALK\",\"TURN_LEFT\",\"TURN_LEFT\",\"WALK\",\"RUN\"”，其实并不能通过自然语言的语法规则进行理解。实际上，这个数据集并不是完全根据自然语言逻辑设置的指令和行为之间的关系，而是根据一套隐藏的语法规则创建的指令和行为数据集，换而言之指令和动作在现实世界中并没有特殊的含义，但它们模拟了一种常见的问题：理解和执行一系列指令。这种问题在很多实际应用中都会遇到，例如：编程（理解并执行一系列代码指令）、机器人导航（理解并执行一系列的导航指令），甚至是日常生活中的任务（如烹饪、装配家具等，需要理解并执行一系列步骤）。"
   ]
  },
  {
   "cell_type": "markdown",
   "id": "f15e7655-1f67-4494-b921-92260b722ef9",
   "metadata": {},
   "source": [
    "&emsp;&emsp;据此不难理解，SCAN这个人工数据集创建的目的，就是为了测试模型能否找到这个隐藏的语法规则，并根据IN准确的预测OUT，预测准确率越高，说明模型对这个隐藏语法规则学习的越准确，模型性能越强。而围绕着某个规则系统进行学习和预测的能力，在机器学习专业领域被称为模型的组合泛化能力。从专业的角度来说，SCAN数据集就是一个用于评估模型在理解和执行指令上的组合泛化能力的基准数据集。"
   ]
  },
  {
   "cell_type": "markdown",
   "id": "dd1b340b-038d-4a89-b0e0-ba08ead5c52d",
   "metadata": {},
   "source": [
    "- SCAN数据集建模难度"
   ]
  },
  {
   "cell_type": "markdown",
   "id": "13b9bdb5-80ec-428a-800f-2f29208668ab",
   "metadata": {},
   "source": [
    "&emsp;&emsp;机器学习（深度学习）模型的组合泛化能力属于目前非常前沿的技术领域，在很多应用领域如机器翻译、对话系统和机器人导航等，都需要具备强大的组合泛化能力模型作为算法引擎。而SCAN数据集则是目前建模难度非常大的数据集，主要原因由以下两点：      \n",
    "&emsp;&emsp;其一，从数据集本身的角度而言，由于SCAN数据集数据集的主要特点是其指令和相应的行动序列的生成，并不依赖于真实世界的语义，而是完全基于某种预定义的、结构化的语法规则。这使得模型不能仅依赖于表面层次的统计规律或者局部的模式匹配来进行预测，而必须理解和掌握数据的底层结构和规则；      \n",
    "&emsp;&emsp;其二，从模型本身的角度来说，深度学习模型、特别是序列到序列的模型，通常依赖于大量的数据和计算资源来学习和泛化复杂的模式，而SCAN数据集则需要模型具备强大的组合泛化能力，即只通过少量数据集的训练，就需要理解没有直接见过的组合指令并执行正确的行动序列。例如，虽然模型可能在训练中见过\"jump\"和\"twice\"这两个单词，但是如果没有直接见过\"jump twice\"这个组合，那么模型可能就无法正确地理解和执行这个指令。       \n",
    "&emsp;&emsp;因此截至目前，传统的深度学习方法、哪怕是最先进的深度学习模型也难以在该数据集上达到高水平的性能。因此，业内甚至围绕类似SCAN的预测任务提出了全新的神经网络模型，例如记忆增强的神经模型LANE等。也由此可见SCAN数据集建模难度之大。 "
   ]
  },
  {
   "cell_type": "markdown",
   "id": "823d1519-6f02-4e35-abbb-221b06993216",
   "metadata": {},
   "source": [
    "&emsp;&emsp;但就是这样的一个业内难题，却能够被大语言模型“轻易”的解决。根据《LEAST-TO-MOST PROMPTING ENABLES COMPLEX REASONING IN LARGE LANGUAGE MODELS》论文中的描述，根据基于合理的LtM提示学习，\"code-davinci-002\"模型只需要输入14条训练样本，就能够对SCAN数据集做到几乎100%的准确预测（准确率为99.7%）。由此足见大模型的威力，而传统NLP领域对大模型的技术恐慌并非空穴来风。"
   ]
  },
  {
   "cell_type": "markdown",
   "id": "89b2fa4e-cb50-41cc-90d0-817ecb36dfd9",
   "metadata": {},
   "source": [
    "&emsp;&emsp;这里需要注意，大语言模型在全新的语法规则上的组合泛化能力本质上也是一种“涌现能力”。大语言模型的预训练预料都来自于自然语言，模型并未接收过SCAN这种特定指令数据集的训练，因此模型对特定语法规则的理解可以看成是对自然语言理解能力的迁移，因此本质上也是一种涌现能力，只不过这种涌现能力需要合理的提示学习来进行激发。"
   ]
  },
  {
   "cell_type": "markdown",
   "id": "9f475242-76a6-4531-8a0c-981b55cb1a5d",
   "metadata": {},
   "source": [
    "&emsp;&emsp;接下来，我们尝试复现论文中的LtM提示工程以及实际预测过程。需要注意的是，原论文中的很多环节并未给出详细的解释，课程中我们将结合当前实践经验进行更加具体的解释，同时也给出用于解决更多类似任务的LtM提示工程建议。"
   ]
  },
  {
   "cell_type": "markdown",
   "id": "b2b4e901-68a5-4025-b12e-71bb9b4e9bd0",
   "metadata": {},
   "source": [
    "- SCAN数据集下载"
   ]
  },
  {
   "cell_type": "markdown",
   "id": "b06975fe-b541-46f4-93b6-6695ef6b7927",
   "metadata": {},
   "source": [
    "&emsp;&emsp;SCAN数据集目前托管在Hugging Face上，我们可以借助Hugging Face的datasets库进行在线下载和导入。首次使用datasets库可以按照如下方法进行安装："
   ]
  },
  {
   "cell_type": "code",
   "execution_count": null,
   "id": "d1ea9bb2-5ecb-4361-b24e-ad7b5aa6f907",
   "metadata": {},
   "outputs": [],
   "source": [
    "!pip install datasets"
   ]
  },
  {
   "cell_type": "markdown",
   "id": "32406df4-cc56-4352-820e-6cede9eebc5e",
   "metadata": {},
   "source": [
    "安装完成后，即可按照如下方式导入SCAN数据集："
   ]
  },
  {
   "cell_type": "code",
   "execution_count": 3,
   "id": "4a7d2b13-3d8d-4637-8842-1e9097691fae",
   "metadata": {
    "tags": []
   },
   "outputs": [],
   "source": [
    "import os\n",
    "import openai\n",
    "openai.api_key = os.getenv(\"OPENAI_API_KEY\")"
   ]
  },
  {
   "cell_type": "code",
   "execution_count": 4,
   "id": "037645fb-16c7-4334-bf3d-de17fbcbb107",
   "metadata": {
    "tags": []
   },
   "outputs": [],
   "source": [
    "from datasets import load_dataset"
   ]
  },
  {
   "cell_type": "code",
   "execution_count": 5,
   "id": "816e96db-4815-48a5-b439-52d294b5b584",
   "metadata": {
    "tags": []
   },
   "outputs": [
    {
     "name": "stderr",
     "output_type": "stream",
     "text": [
      "Downloading builder script: 100%|█████████████████████████████████████████████████| 4.58k/4.58k [00:00<00:00, 4.58MB/s]\n",
      "Downloading metadata: 100%|███████████████████████████████████████████████████████| 22.1k/22.1k [00:00<00:00, 1.10MB/s]\n",
      "Downloading readme: 100%|█████████████████████████████████████████████████████████████████| 10.9k/10.9k [00:00<?, ?B/s]\n"
     ]
    },
    {
     "name": "stdout",
     "output_type": "stream",
     "text": [
      "Downloading and preparing dataset scan/simple to C:/Users/Administrator/.cache/huggingface/datasets/scan/simple/1.0.0/68e9bb6106d45ba696314f2dea52a1e893f99cbf422feebbeda2f1d11878e020...\n"
     ]
    },
    {
     "name": "stderr",
     "output_type": "stream",
     "text": [
      "Downloading data files:   0%|                                                                    | 0/2 [00:00<?, ?it/s]\n",
      "Downloading data:   0%|                                                                     | 0.00/167k [00:00<?, ?B/s]\u001b[A\n",
      "Downloading data: 329kB [00:00, 1.75MB/s]                                                                              \u001b[A\n",
      "Downloading data: 965kB [00:00, 3.55MB/s]\u001b[A\n",
      "Downloading data: 3.27MB [00:00, 6.58MB/s]\u001b[A\n",
      "Downloading data files:  50%|██████████████████████████████                              | 1/2 [00:03<00:03,  3.57s/it]\n",
      "Downloading data:   0%|                                                                    | 0.00/42.0k [00:00<?, ?B/s]\u001b[A\n",
      "Downloading data: 348kB [00:00, 2.79MB/s]                                                                              \u001b[A\n",
      "Downloading data: 812kB [00:00, 3.18MB/s]\u001b[A\n",
      "Downloading data files: 100%|████████████████████████████████████████████████████████████| 2/2 [00:07<00:00,  3.76s/it]\n",
      "                                                                                                                       \r"
     ]
    },
    {
     "name": "stdout",
     "output_type": "stream",
     "text": [
      "Dataset scan downloaded and prepared to C:/Users/Administrator/.cache/huggingface/datasets/scan/simple/1.0.0/68e9bb6106d45ba696314f2dea52a1e893f99cbf422feebbeda2f1d11878e020. Subsequent calls will reuse this data.\n"
     ]
    },
    {
     "name": "stderr",
     "output_type": "stream",
     "text": [
      "100%|███████████████████████████████████████████████████████████████████████████████████| 2/2 [00:00<00:00, 570.19it/s]"
     ]
    },
    {
     "name": "stdout",
     "output_type": "stream",
     "text": [
      "DatasetDict({\n",
      "    train: Dataset({\n",
      "        features: ['commands', 'actions'],\n",
      "        num_rows: 16728\n",
      "    })\n",
      "    test: Dataset({\n",
      "        features: ['commands', 'actions'],\n",
      "        num_rows: 4182\n",
      "    })\n",
      "})\n"
     ]
    },
    {
     "name": "stderr",
     "output_type": "stream",
     "text": [
      "\n"
     ]
    }
   ],
   "source": [
    "# 加载数据集\n",
    "dataset = load_dataset(\"scan\", \"simple\")\n",
    "\n",
    "# 打印数据集信息\n",
    "print(dataset)"
   ]
  },
  {
   "cell_type": "markdown",
   "id": "2f4bcca7-0404-4a82-b171-e8b1ca811581",
   "metadata": {},
   "source": [
    "其中dataset是完整数据集，且已经被划分为训练集和测试集两个数据集，其中训练集总共包含16728条数据，而测试集总共包含4182条数据。该数据集类型类似于字典，我们可以使用字典索引的方式单独查看数据集中的训练集和测试集："
   ]
  },
  {
   "cell_type": "code",
   "execution_count": 6,
   "id": "b9317f35-9ac4-446a-ac79-ef8850a4bd8e",
   "metadata": {
    "tags": []
   },
   "outputs": [
    {
     "data": {
      "text/plain": [
       "Dataset({\n",
       "    features: ['commands', 'actions'],\n",
       "    num_rows: 16728\n",
       "})"
      ]
     },
     "execution_count": 6,
     "metadata": {},
     "output_type": "execute_result"
    }
   ],
   "source": [
    "scan_train = dataset['train']\n",
    "scan_train"
   ]
  },
  {
   "cell_type": "code",
   "execution_count": 7,
   "id": "b5c3168e-00b8-4f75-bc0f-3e0203465639",
   "metadata": {
    "tags": []
   },
   "outputs": [
    {
     "data": {
      "text/plain": [
       "Dataset({\n",
       "    features: ['commands', 'actions'],\n",
       "    num_rows: 4182\n",
       "})"
      ]
     },
     "execution_count": 7,
     "metadata": {},
     "output_type": "execute_result"
    }
   ],
   "source": [
    "scan_test = dataset['test']\n",
    "scan_test"
   ]
  },
  {
   "cell_type": "markdown",
   "id": "f2c5915f-7876-4af5-bd84-106c1cc964fa",
   "metadata": {},
   "source": [
    "而此时的scan_train和scan_test对象类型类似于List，我们可以直接通过索引得到其中的每一行数据："
   ]
  },
  {
   "cell_type": "code",
   "execution_count": 8,
   "id": "89b04429-dab0-4a00-b730-deefb0695d19",
   "metadata": {
    "tags": []
   },
   "outputs": [
    {
     "data": {
      "text/plain": [
       "{'commands': 'jump opposite right twice and turn opposite right thrice',\n",
       " 'actions': 'I_TURN_RIGHT I_TURN_RIGHT I_JUMP I_TURN_RIGHT I_TURN_RIGHT I_JUMP I_TURN_RIGHT I_TURN_RIGHT I_TURN_RIGHT I_TURN_RIGHT I_TURN_RIGHT I_TURN_RIGHT'}"
      ]
     },
     "execution_count": 8,
     "metadata": {},
     "output_type": "execute_result"
    }
   ],
   "source": [
    "scan_train[0]"
   ]
  },
  {
   "cell_type": "markdown",
   "id": "033613e3-c515-4213-9ebc-dba451ae5a4d",
   "metadata": {},
   "source": [
    "并且发现，其中的每一行数据的保存形式都是字典，该字典包含两个Key-Value对，第一个键值对存储了命令信息，第二个键值对则存储了命令对应的行为序列。接下来我们的任务就是借助大语言模型和LtM提示过程，准确的围绕每个Commands进行actions的预测。不难看出，这套数据集中的指令和行为之间并不完全遵照自然语言规则，对于模型来说若要进行准确预测，则需要尝试学习其背后的隐藏语法规则。"
   ]
  },
  {
   "cell_type": "markdown",
   "id": "e5488648-573c-4cc9-9a23-ecaa64a8c30f",
   "metadata": {},
   "source": [
    "&emsp;&emsp;这里需要注意，hugging face中的Dataset数据集和pandas数据集是能够顺畅进行转化的，例如我们可以按照如下方法scan_train转化为pandas对象类型，此时列名称就是字典中的key，而对应的value值就是现在每一列具体的取值："
   ]
  },
  {
   "cell_type": "code",
   "execution_count": 146,
   "id": "8cdc181a-4e92-49cd-be4b-bfa832786e89",
   "metadata": {
    "tags": []
   },
   "outputs": [
    {
     "data": {
      "text/html": [
       "<div>\n",
       "<style scoped>\n",
       "    .dataframe tbody tr th:only-of-type {\n",
       "        vertical-align: middle;\n",
       "    }\n",
       "\n",
       "    .dataframe tbody tr th {\n",
       "        vertical-align: top;\n",
       "    }\n",
       "\n",
       "    .dataframe thead th {\n",
       "        text-align: right;\n",
       "    }\n",
       "</style>\n",
       "<table border=\"1\" class=\"dataframe\">\n",
       "  <thead>\n",
       "    <tr style=\"text-align: right;\">\n",
       "      <th></th>\n",
       "      <th>commands</th>\n",
       "      <th>actions</th>\n",
       "    </tr>\n",
       "  </thead>\n",
       "  <tbody>\n",
       "    <tr>\n",
       "      <th>0</th>\n",
       "      <td>jump opposite right twice and turn opposite ri...</td>\n",
       "      <td>I_TURN_RIGHT I_TURN_RIGHT I_JUMP I_TURN_RIGHT ...</td>\n",
       "    </tr>\n",
       "    <tr>\n",
       "      <th>1</th>\n",
       "      <td>run opposite left after walk right</td>\n",
       "      <td>I_TURN_RIGHT I_WALK I_TURN_LEFT I_TURN_LEFT I_RUN</td>\n",
       "    </tr>\n",
       "    <tr>\n",
       "      <th>2</th>\n",
       "      <td>walk after run around right twice</td>\n",
       "      <td>I_TURN_RIGHT I_RUN I_TURN_RIGHT I_RUN I_TURN_R...</td>\n",
       "    </tr>\n",
       "    <tr>\n",
       "      <th>3</th>\n",
       "      <td>look around right thrice and turn left</td>\n",
       "      <td>I_TURN_RIGHT I_LOOK I_TURN_RIGHT I_LOOK I_TURN...</td>\n",
       "    </tr>\n",
       "    <tr>\n",
       "      <th>4</th>\n",
       "      <td>walk opposite left twice and walk opposite rig...</td>\n",
       "      <td>I_TURN_LEFT I_TURN_LEFT I_WALK I_TURN_LEFT I_T...</td>\n",
       "    </tr>\n",
       "    <tr>\n",
       "      <th>...</th>\n",
       "      <td>...</td>\n",
       "      <td>...</td>\n",
       "    </tr>\n",
       "    <tr>\n",
       "      <th>16723</th>\n",
       "      <td>look right after jump opposite right twice</td>\n",
       "      <td>I_TURN_RIGHT I_TURN_RIGHT I_JUMP I_TURN_RIGHT ...</td>\n",
       "    </tr>\n",
       "    <tr>\n",
       "      <th>16724</th>\n",
       "      <td>run opposite right thrice after run right twice</td>\n",
       "      <td>I_TURN_RIGHT I_RUN I_TURN_RIGHT I_RUN I_TURN_R...</td>\n",
       "    </tr>\n",
       "    <tr>\n",
       "      <th>16725</th>\n",
       "      <td>run right thrice and turn around right twice</td>\n",
       "      <td>I_TURN_RIGHT I_RUN I_TURN_RIGHT I_RUN I_TURN_R...</td>\n",
       "    </tr>\n",
       "    <tr>\n",
       "      <th>16726</th>\n",
       "      <td>run opposite right thrice and walk twice</td>\n",
       "      <td>I_TURN_RIGHT I_TURN_RIGHT I_RUN I_TURN_RIGHT I...</td>\n",
       "    </tr>\n",
       "    <tr>\n",
       "      <th>16727</th>\n",
       "      <td>look opposite right twice after jump around ri...</td>\n",
       "      <td>I_TURN_RIGHT I_JUMP I_TURN_RIGHT I_JUMP I_TURN...</td>\n",
       "    </tr>\n",
       "  </tbody>\n",
       "</table>\n",
       "<p>16728 rows × 2 columns</p>\n",
       "</div>"
      ],
      "text/plain": [
       "                                                commands  \\\n",
       "0      jump opposite right twice and turn opposite ri...   \n",
       "1                     run opposite left after walk right   \n",
       "2                      walk after run around right twice   \n",
       "3                 look around right thrice and turn left   \n",
       "4      walk opposite left twice and walk opposite rig...   \n",
       "...                                                  ...   \n",
       "16723         look right after jump opposite right twice   \n",
       "16724    run opposite right thrice after run right twice   \n",
       "16725       run right thrice and turn around right twice   \n",
       "16726           run opposite right thrice and walk twice   \n",
       "16727  look opposite right twice after jump around ri...   \n",
       "\n",
       "                                                 actions  \n",
       "0      I_TURN_RIGHT I_TURN_RIGHT I_JUMP I_TURN_RIGHT ...  \n",
       "1      I_TURN_RIGHT I_WALK I_TURN_LEFT I_TURN_LEFT I_RUN  \n",
       "2      I_TURN_RIGHT I_RUN I_TURN_RIGHT I_RUN I_TURN_R...  \n",
       "3      I_TURN_RIGHT I_LOOK I_TURN_RIGHT I_LOOK I_TURN...  \n",
       "4      I_TURN_LEFT I_TURN_LEFT I_WALK I_TURN_LEFT I_T...  \n",
       "...                                                  ...  \n",
       "16723  I_TURN_RIGHT I_TURN_RIGHT I_JUMP I_TURN_RIGHT ...  \n",
       "16724  I_TURN_RIGHT I_RUN I_TURN_RIGHT I_RUN I_TURN_R...  \n",
       "16725  I_TURN_RIGHT I_RUN I_TURN_RIGHT I_RUN I_TURN_R...  \n",
       "16726  I_TURN_RIGHT I_TURN_RIGHT I_RUN I_TURN_RIGHT I...  \n",
       "16727  I_TURN_RIGHT I_JUMP I_TURN_RIGHT I_JUMP I_TURN...  \n",
       "\n",
       "[16728 rows x 2 columns]"
      ]
     },
     "execution_count": 146,
     "metadata": {},
     "output_type": "execute_result"
    }
   ],
   "source": [
    "scan_train.to_pandas()"
   ]
  },
  {
   "cell_type": "markdown",
   "id": "0248bb97-4db7-413b-b34d-ecadb89f8c75",
   "metadata": {},
   "source": [
    "### 2.针对SCAN数据预测的LtM提示流程"
   ]
  },
  {
   "cell_type": "markdown",
   "id": "634fdb5f-edae-4b6b-8ee6-576b292d3db0",
   "metadata": {},
   "source": [
    "#### 2.1 思维链&Zero-shot-LtM提示工程局限性"
   ]
  },
  {
   "cell_type": "markdown",
   "id": "bc3b29f3-2209-4b17-a6a7-d10e4eeb6b38",
   "metadata": {},
   "source": [
    "&emsp;&emsp;面对这个异常复杂的“推理”问题，我们首先可以尝试上一小节介绍的系列提示工程方法。这里我们在现在数据集中挑选几条相对简单的数据："
   ]
  },
  {
   "cell_type": "markdown",
   "id": "6015dde4-92d8-4f45-a5b5-2f97008b66e2",
   "metadata": {},
   "source": [
    "|Command|Action Sequence|      \n",
    "|:--:|:--:| \n",
    "|“look thrice after jump”|JUMP LOOK LOOK LOOK| \n",
    "|“run left and walk”|TURN LEFT RUN WALK| \n",
    "|“look opposite right”|TURN RIGHT TURN RIGHT LOOK| "
   ]
  },
  {
   "cell_type": "code",
   "execution_count": 32,
   "id": "1b34f8e6-8deb-49b8-bf87-ac34ca5919fc",
   "metadata": {
    "tags": []
   },
   "outputs": [],
   "source": [
    "Command1 = 'look thrice after jump' \n",
    "Action1 = 'JUMP LOOK LOOK LOOK'"
   ]
  },
  {
   "cell_type": "code",
   "execution_count": 33,
   "id": "fb473a71-7d20-4a3c-8cd9-99f0af6b69fd",
   "metadata": {
    "tags": []
   },
   "outputs": [],
   "source": [
    "Command2 = 'run left and walk' \n",
    "Action2 = 'TURN LEFT RUN WALK'"
   ]
  },
  {
   "cell_type": "code",
   "execution_count": 34,
   "id": "7ee679d4-8b1e-4a0f-9968-b57e2c32d9f0",
   "metadata": {
    "tags": []
   },
   "outputs": [],
   "source": [
    "Command3 = 'look opposite right' \n",
    "Action3 = 'TURN RIGHT TURN RIGHT LOOK'"
   ]
  },
  {
   "cell_type": "markdown",
   "id": "b5072aa6-9157-49b8-ab6b-c463c613d100",
   "metadata": {},
   "source": [
    "然后首先尝试Zero-shot提示方法："
   ]
  },
  {
   "cell_type": "code",
   "execution_count": 35,
   "id": "c26a0e91-56f3-4052-a99e-4ae17ad6a3f2",
   "metadata": {
    "tags": []
   },
   "outputs": [
    {
     "data": {
      "text/plain": [
       "',\\n\\n1. Make sure that your landing zone is clear of any objects or people.\\n2. During the jump, check for any potential dangerous areas that you could land in such as water, puddles, or furniture.\\n3. Look for any obstacles that may block your path as you land, such as furniture, trees, or walls, and make sure to adjust your angle as necessary to prevent any mishaps.'"
      ]
     },
     "execution_count": 35,
     "metadata": {},
     "output_type": "execute_result"
    }
   ],
   "source": [
    "response_Zero_shot = openai.Completion.create(\n",
    "                          model=\"text-davinci-003\",\n",
    "                          prompt=Command1,\n",
    "                          max_tokens=1000,\n",
    "                          )\n",
    "\n",
    "response_Zero_shot[\"choices\"][0][\"text\"].strip()"
   ]
  },
  {
   "cell_type": "markdown",
   "id": "548dcb12-752c-42fe-a7df-c60a2f610f30",
   "metadata": {},
   "source": [
    "能够发现，模型完全无法给出答案。仔细思考不难发现，由于当前翻译问题根本不是自然语言语境下的问题，模型甚至不知道应该如何进行“补全”。哪怕是我们在提示中输入让模型进行翻译，模型也不知道应该如何进行翻译："
   ]
  },
  {
   "cell_type": "code",
   "execution_count": 37,
   "id": "40179edf-6173-4bcd-98bb-22b5281c9da0",
   "metadata": {
    "tags": []
   },
   "outputs": [
    {
     "data": {
      "text/plain": [
       "\"'look thrice after jump' should be translated as\""
      ]
     },
     "execution_count": 37,
     "metadata": {},
     "output_type": "execute_result"
    }
   ],
   "source": [
    "\"'%s' should be translated as\" % Command1"
   ]
  },
  {
   "cell_type": "code",
   "execution_count": 39,
   "id": "d1ad1f34-2746-4aeb-8cfb-ae63e71a3a26",
   "metadata": {
    "tags": []
   },
   "outputs": [
    {
     "data": {
      "text/plain": [
       "'mira tres veces después de saltar'"
      ]
     },
     "execution_count": 39,
     "metadata": {},
     "output_type": "execute_result"
    }
   ],
   "source": [
    "response_Zero_shot = openai.Completion.create(\n",
    "                          model=\"text-davinci-003\",\n",
    "                          prompt= \"%s should be translated as\" % Command1,\n",
    "                          max_tokens=1000,\n",
    "                          )\n",
    "\n",
    "response_Zero_shot[\"choices\"][0][\"text\"].strip()"
   ]
  },
  {
   "cell_type": "markdown",
   "id": "9ac97043-a255-416e-ad13-24cb0b95801b",
   "metadata": {},
   "source": [
    "模型将其翻译为了西班牙语。"
   ]
  },
  {
   "cell_type": "markdown",
   "id": "2d4d0782-043e-45a9-97dc-373ba0897b6a",
   "metadata": {},
   "source": [
    "&emsp;&emsp;很明显，针对非自然语境下的特定问题，我们至少需要通过Few-shot的方式让模型先学习、后预测。接下来我们再尝试以第一、二条数据作为few-shot，围绕第三条数据进行预测，结果如下："
   ]
  },
  {
   "cell_type": "code",
   "execution_count": 43,
   "id": "83c55266-6b7f-4ae8-b587-2320f1c393b3",
   "metadata": {
    "tags": []
   },
   "outputs": [
    {
     "data": {
      "text/plain": [
       "'Q: \"look thrice after jump\", A: \"JUMP LOOK LOOK LOOK\", Q: \"run left and walk\", A: \"TURN LEFT RUN WALK\", Q: \"look opposite right\", A: '"
      ]
     },
     "execution_count": 43,
     "metadata": {},
     "output_type": "execute_result"
    }
   ],
   "source": [
    "few_shot_prompt = 'Q: \"%s\", A: \"%s\", Q: \"%s\", A: \"%s\", Q: \"%s\", A: ' % (Command1, Action1, Command2, Action2, Command3)\n",
    "few_shot_prompt"
   ]
  },
  {
   "cell_type": "code",
   "execution_count": 44,
   "id": "a239e4fc-ded8-4733-b508-36e700b6d2f4",
   "metadata": {
    "tags": []
   },
   "outputs": [
    {
     "data": {
      "text/plain": [
       "'\"LOOK LEFT\"'"
      ]
     },
     "execution_count": 44,
     "metadata": {},
     "output_type": "execute_result"
    }
   ],
   "source": [
    "response_Few_shot = openai.Completion.create(\n",
    "                          model=\"text-davinci-003\",\n",
    "                          prompt=few_shot_prompt,\n",
    "                          max_tokens=1000,\n",
    "                          )\n",
    "\n",
    "response_Few_shot[\"choices\"][0][\"text\"].strip()"
   ]
  },
  {
   "cell_type": "code",
   "execution_count": 45,
   "id": "7fab8a05-d9f0-483a-a3c8-033db13892fb",
   "metadata": {
    "tags": []
   },
   "outputs": [
    {
     "data": {
      "text/plain": [
       "'TURN RIGHT TURN RIGHT LOOK'"
      ]
     },
     "execution_count": 45,
     "metadata": {},
     "output_type": "execute_result"
    }
   ],
   "source": [
    "Action3"
   ]
  },
  {
   "cell_type": "markdown",
   "id": "5fd599ee-9e86-40c2-a78b-20fd7ec56f18",
   "metadata": {},
   "source": [
    "能够发现，简单的以问题+答案组成的few-shot，在当前SCAN数据集上仍然无法进行较为准确的预测。事实上，根据原论文的描述，简单的few-shot提示方法在SCAN数据集上的准确率不到17%。而关于Few-shot本身的能力局限，我们在上一小节解决推理问题的过程中也是得到了相同的验证。"
   ]
  },
  {
   "cell_type": "markdown",
   "id": "24691632-2e8f-4311-954b-2ef56977af0a",
   "metadata": {},
   "source": [
    "&emsp;&emsp;而根据原论文的描述，（尽管没有给出实际的提示示例，但）Few-shot-CoT方法效果也达不到17%，为解决这一预测问题，最佳方法就是进行LtM提示工程，同时是一种基于Few-shot的LtM提示工程方法，我们也可以将其称为Few-shot-LtM，而上一小节介绍的LtM方法则可以视为Zer-shot-LtM方法。这里我们可以首先验证Zero-shot-LtM在当前数据集上的无效性。这里我们简单回顾上一小节LtM提示方法的基本流程："
   ]
  },
  {
   "cell_type": "markdown",
   "id": "0889e227-23b5-4bb9-a39e-458ceed95f34",
   "metadata": {},
   "source": [
    "<center><img src=\"https://ml2022.oss-cn-hangzhou.aliyuncs.com/img/202306292044573.png\" alt=\"4173ae0afb29936452104fc0281a9f4\" style=\"zoom:33%;\" />"
   ]
  },
  {
   "cell_type": "markdown",
   "id": "f2f3b1bc-8e72-4cd1-a775-380b13485064",
   "metadata": {},
   "source": [
    "接下来，我们根据\"to solve...，we need to first solve\"提示模板来进行问题拆解："
   ]
  },
  {
   "cell_type": "code",
   "execution_count": 50,
   "id": "3650c357-d60d-4475-885b-c6aa11448016",
   "metadata": {
    "tags": []
   },
   "outputs": [
    {
     "data": {
      "text/plain": [
       "\"In order to translate 'look thrice after jump', we need to first solve\""
      ]
     },
     "execution_count": 50,
     "metadata": {},
     "output_type": "execute_result"
    }
   ],
   "source": [
    "Zero_shot_LtM_prompt = \"In order to translate '%s', we need to first solve\" % Command1\n",
    "Zero_shot_LtM_prompt"
   ]
  },
  {
   "cell_type": "code",
   "execution_count": 51,
   "id": "c34f3872-4e17-4461-aef0-d7f989de9fe4",
   "metadata": {
    "tags": []
   },
   "outputs": [
    {
     "data": {
      "text/plain": [
       "\"for the idiom. The correct translation would be to 'Look twice before you leap'.\""
      ]
     },
     "execution_count": 51,
     "metadata": {},
     "output_type": "execute_result"
    }
   ],
   "source": [
    "response_Zero_shot_LtM = openai.Completion.create(\n",
    "                          model=\"text-davinci-003\",\n",
    "                          prompt=Zero_shot_LtM_prompt,\n",
    "                          max_tokens=1000,\n",
    "                          )\n",
    "\n",
    "response_Zero_shot_LtM[\"choices\"][0][\"text\"].strip()"
   ]
  },
  {
   "cell_type": "markdown",
   "id": "5559af7f-4e9e-4433-9d9a-1238a1f50a82",
   "metadata": {},
   "source": [
    "和上一小节看到的结果类似，模型直接围绕当前问题进行子问题拆解，将其“拆解为（理解为）”一个成语翻译问题，并最终输出翻译结果：该指令代表三思而后行这一成语。"
   ]
  },
  {
   "cell_type": "markdown",
   "id": "0f9baee5-be3c-473b-bb33-19c9c07072a1",
   "metadata": {},
   "source": [
    "&emsp;&emsp;很明显，在Zero-shot-LtM的情况下，模型的核心问题仍然还是无法精准理解问题，更别谈进行有效的潜在语义关系学习了。当然，究其原因还是因为对于很多完全脱离自然语言语义规则的问题，简单提示模板是很难让模型完成有意义的问题拆解的，例如对于SCAN数据集中的指令翻译问题，由于本身指令翻译的规则就不是自然语言规则，模型也从未学习过相关规则，此时在Zero-shot的情况下是很难让模型进行问题拆解的，或者说此时模型拆解的问题也几乎不会有助于最终的指令翻译任务，拆解的子问题是毫无意义的。"
   ]
  },
  {
   "cell_type": "markdown",
   "id": "cc41d30d-42f2-47f7-840a-0439fcf3cf2e",
   "metadata": {},
   "source": [
    "#### 2.2 Few-shot-LtM提示工程基本流程"
   ]
  },
  {
   "cell_type": "markdown",
   "id": "feebaee9-301b-469a-bfdf-73856ae5f87e",
   "metadata": {},
   "source": [
    "&emsp;&emsp;接下来，论文中提出了一种Few-shot-LtM提示工程流程来解决该问题，这种Few-shot-LtM提示流程在原有流程上进行了以下两方面改进："
   ]
  },
  {
   "cell_type": "markdown",
   "id": "3a47ce09-f25a-491b-b773-d85b27148298",
   "metadata": {},
   "source": [
    "- 首先通过引入Few-shot来引导模型进行有价值的中间问题拆解并进行回答。对于完全脱离自然语言语境下的推理问题，这其实是非常重要的一个环节，我们只有给了模型非常准确率的引导，才能够帮模型打开学习潜在语义的窗口。但是，这实际上也是非常复杂且具有创造力的一步，不难理解，通过自然语言描述的拆分问题的方法是无穷无尽的，当然也没有那种方法是标准答案。因此，这方面的Few-shot的设计就会需要建模人员大量的工作经验+大量的尝试，来寻找到最佳的Few-shot拆分示例，由此也能看出提示工程也是人工创造力灵感和前沿技术的完美结合；\n",
    "\n",
    "- 而同时在Few-shot的示例中，尝试引导模型进行多步分解进而提升模型进行翻译的准确率。即Decompose Question into Subquestions环节，可以尝试多步拆分多个子问题回答，即我们可以尝试围绕某个拆解之后的子问题进一步拆分子问题，进而提升子问题的回答准确率，例如假设将一个问题拆分成三个子问题，则LtM提示回答的基本过程如下\n",
    "<center><img src=\"https://ml2022.oss-cn-hangzhou.aliyuncs.com/img/202306292119088.png\" alt=\"0660614d66dc5b7e0a82398882664da\" style=\"zoom:40%;\" />"
   ]
  },
  {
   "cell_type": "markdown",
   "id": "cb5dcb22-2bbf-43a7-9bb3-7c2a4d3dbac2",
   "metadata": {},
   "source": [
    "注意，这里的Few-shot实际上是两个部分，我们既需要利用Few-shot告诉模型应该如何拆解问题，同时也需要通过Few-shot来告诉模型应该如何进行问题的回答。接下来，我们先来看原论文是如何在SCAN数据集上进行Few-shot-LtM提示工程的，然后再探讨其背后的原因。"
   ]
  },
  {
   "cell_type": "markdown",
   "id": "f23b84fd-7f85-4aba-a660-e17fe8fc8b6b",
   "metadata": {},
   "source": [
    "#### 2.3 Few-shot-LtM提示工程在SCAN数据集上的提示流程"
   ]
  },
  {
   "cell_type": "markdown",
   "id": "2efd26a0-2dc8-4429-8010-a9ca9bb574a0",
   "metadata": {},
   "source": [
    "&emsp;&emsp;针对SCAN数据集，论文中将Few-shot-LtM提示的两个阶段进行重新命名，此前的Decompose Questions into Subquestions被重新命名为Command decomposition，即命令分解，其实也就是问题拆解，而第二个阶段Sequentially Solve Subquestion则重新命名为Command mapping，即指令翻译，当然其实本质也就是依次翻译拆解的指令以及原始指令。而这两个阶段的新名称，也非常清晰的指明了对于SCAN数据集来说，LtM提示工程的具体应用形式就是——先拆分命令、再逐个进行翻译。"
   ]
  },
  {
   "cell_type": "markdown",
   "id": "640cf67b-67ad-4df9-8b32-b4866b8029e3",
   "metadata": {},
   "source": [
    "##### 2.3.1 Stage 1.Command decomposition：指令拆解"
   ]
  },
  {
   "cell_type": "markdown",
   "id": "eb3f73cf-bb4b-4f39-bce5-65ce46c9d25c",
   "metadata": {},
   "source": [
    "&emsp;&emsp;首先第一步，采用Few-shot的方法围绕命令进行拆解。这里需要注意的是，Few-shot中的提示示例是人工手动编写，每个示例都是借助\"__ can be solved by:__\"提示模板进行提问，进而引导模型对Commands进行问题拆解，即为了解读这个长的指令，我们可以首先解读哪些与之相关的短指令。尽管实际上是问题拆解，但从表现形式上来看，最终是将一个长指令拆解为一组短指令，因此这个过程也被称为指令拆解的过程（Command decomposition）。这里论文挑选了几个指令并进行拆解，拆解过程如下："
   ]
  },
  {
   "cell_type": "code",
   "execution_count": 184,
   "id": "5ee40bb7-996c-4905-a1a0-2c4dbc10f105",
   "metadata": {
    "tags": []
   },
   "outputs": [],
   "source": [
    "CD_Few_shot = 'Q: “look opposite right thrice after walk” \\\n",
    "               A: “look opposite right thrice” can be solved by: “look opposite right”, “look opposite right \\\n",
    "               thrice”. “walk” can be solved by “walk”. So, “look opposite right thrice after walk” can be \\\n",
    "               solved by: “walk”, “look opposite right”, “look opposite right thrice”. \\\n",
    "               Q: “look around right thrice and walk” \\\n",
    "               A: “look around right thrice” can be solved by: “look right”, “look around right”, “look around \\\n",
    "               right thrice”. “walk” can be solved by “walk”. So, “look around right thrice and walk” can be \\\n",
    "               solved by: “look right”, “look around right”, “look around right thrice”, “walk”. \\\n",
    "               '"
   ]
  },
  {
   "cell_type": "markdown",
   "id": "95958234-fb5c-44b7-b5b3-ba6a8228daa3",
   "metadata": {},
   "source": [
    "这组提示示例相当于告诉模型应该如何进行指令拆解、即告诉模型指令拆解的基本规范，例如“look opposite right thrice after walk”可以被拆解为“walk”, “look opposite right”, “look opposite right thrice”这三个短的指令，而“look around right thrice and walk”，则可以被拆解为“look right”, “look around right”, “look around right thrice”, “walk”。"
   ]
  },
  {
   "cell_type": "markdown",
   "id": "1cb4211d-a154-4eda-b671-e56e33deef93",
   "metadata": {},
   "source": [
    "&emsp;&emsp;具体为了这么拆解指令，稍后我们会有深度探讨。这里我们需要重点关注的是这些提示示例并不是普通的示例，一般情况下Few-shot是Q为问题而A为答案，例如实际上，Command：“look opposite right thrice after walk”对应的Action为“I_WALK I_TURN_RIGHT I_TURN_RIGHT I_LOOK I_TURN_RIGHT I_TURN_RIGHT I_LOOK I_TURN_RIGHT I_TURN_RIGHT I_LOOK”，而Commend“look around right thrice and walk”则对应的Action为“I_TURN_RIGHT I_LOOK I_TURN_RIGHT I_LOOK I_TURN_RIGHT I_LOOK I_TURN_RIGHT I_LOOK I_TURN_RIGHT I_LOOK I_TURN_RIGHT I_LOOK I_TURN_RIGHT I_LOOK I_TURN_RIGHT I_LOOK I_TURN_RIGHT I_LOOK I_TURN_RIGHT I_LOOK I_TURN_RIGHT I_LOOK I_TURN_RIGHT I_LOOK I_WALK”。即如果按照普通的Few-shot，此时提示示例应该为："
   ]
  },
  {
   "cell_type": "code",
   "execution_count": 72,
   "id": "59f6baa2-2f07-4b49-afe3-9dab4e5a5637",
   "metadata": {},
   "outputs": [
    {
     "data": {
      "text/plain": [
       "'Q: “look opposite right thrice after walk” A: “I_WALK I_TURN_RIGHT I_TURN_RIGHT I_LOOK I_TURN_RIGHT I_TURN_RIGHT I_LOOK I_TURN_RIGHT I_TURN_RIGHT I_LOOK”. Q: “look around right thrice and walk” A: “I_TURN_RIGHT I_LOOK I_TURN_RIGHT I_LOOK I_TURN_RIGHT I_LOOK I_TURN_RIGHT I_LOOK I_TURN_RIGHT I_LOOK I_TURN_RIGHT I_LOOK I_TURN_RIGHT I_LOOK I_TURN_RIGHT I_LOOK I_TURN_RIGHT I_LOOK I_TURN_RIGHT I_LOOK I_TURN_RIGHT I_LOOK I_TURN_RIGHT I_LOOK I_WALK”. '"
      ]
     },
     "execution_count": 72,
     "metadata": {},
     "output_type": "execute_result"
    }
   ],
   "source": [
    "'Q: “look opposite right thrice after walk” \\\n",
    "A: “I_WALK I_TURN_RIGHT I_TURN_RIGHT I_LOOK I_TURN_RIGHT I_TURN_RIGHT I_LOOK I_TURN_RIGHT I_TURN_RIGHT I_LOOK”. \\\n",
    "Q: “look around right thrice and walk” \\\n",
    "A: “I_TURN_RIGHT I_LOOK I_TURN_RIGHT I_LOOK I_TURN_RIGHT I_LOOK \\\n",
    "I_TURN_RIGHT I_LOOK I_TURN_RIGHT I_LOOK I_TURN_RIGHT I_LOOK I_TURN_RIGHT \\\n",
    "I_LOOK I_TURN_RIGHT I_LOOK I_TURN_RIGHT I_LOOK I_TURN_RIGHT I_LOOK I_TURN_RIGHT \\\n",
    "I_LOOK I_TURN_RIGHT I_LOOK I_WALK”. \\\n",
    "'"
   ]
  },
  {
   "cell_type": "markdown",
   "id": "49d283a1-6510-40e2-98d4-9c3477057903",
   "metadata": {},
   "source": [
    "但LtM提示流程的不同之处就在于设置了多个阶段进行分段提示，而第一个阶段的提示结果只是为了创建中间结果——即分解子问题（命令拆解），因此Few-shot-LtM第一个阶段的提示示例也就是展示如何进行指令拆解。但需要注意的是，由于中间结果并没有统一的标准答案，因此根据这些示例拆解的中间结果是否有效，其实是有待最后的预测结果输出来进行验证的。并且，无论中间结果是否有效，由于中间结果并没有标准答案，因此如何拆解基本可以看成是人工尝试+经验的总结；而更为重要的是，无论中间结果投入到最终环节进行验证后验证结果如何，这种中间环节的Few-shot都是极为灵活的，对于大语言模型来说，不同的提示模板、语言风格、甚至是不同提示示例，都会对模型造成不同的引导，这种引导是极为灵活且具有创造力的。为了获得一个更好的最终结果，中间环节的Few-shot或许要经历千百次的尝试，而在这个过程中，是及其考验大模型工程师（提示工程师）本身的创造力和经验的。当然，无法通过一个规定死的流程来解决问题，而需要大量的人工经验和创造力，这既是对人的考验，同时也是大模型工程师岗位本身的价值所在，这也是提示工程技术最为核心的价值。"
   ]
  },
  {
   "cell_type": "markdown",
   "id": "b438d6af-f558-4fc6-a801-f6da724c10f4",
   "metadata": {},
   "source": [
    "> 当然，这种灵活设置中间结果提示示例的过程，也可以看成是在大模型中“掘金”。"
   ]
  },
  {
   "cell_type": "markdown",
   "id": "e4a81ef3-4103-4e82-a0c0-c5e4fe60ce6c",
   "metadata": {},
   "source": [
    "> 不过本例中的提示示例设置方法也并非完全无迹可寻，稍后我们会深度探讨如此设置中间环节提示背后的原因。"
   ]
  },
  {
   "cell_type": "markdown",
   "id": "d752312f-52b7-4213-808d-a92451ece72c",
   "metadata": {},
   "source": [
    "> 很多时候Few-shot就可以看成是训练集，大语言模型的建模过程和机器学习类似，都是在训练集上进行训练，然后在新的数据集上验证效果。"
   ]
  },
  {
   "cell_type": "markdown",
   "id": "6010120f-84a9-41b5-90a8-8340d4598f27",
   "metadata": {},
   "source": [
    "&emsp;&emsp;很明显，在CD_Few_shot的方法提示下，接下来对于很多指令，模型就知道了到底应该如何拆解，例如我们尝试在上述Few-shot的情况下，引导模型拆解SCAN数据集中的第二条指令，拆解过程如下，这里我们为了方便表示，直接把第二条数据集的commands是做模型输入X，而把对应的actions是为模型输出y，则第二条数据集可以通过如下形式进行表示："
   ]
  },
  {
   "cell_type": "code",
   "execution_count": 185,
   "id": "2a54245b-7c86-45e5-afc4-9a6d28b5f8ff",
   "metadata": {
    "tags": []
   },
   "outputs": [
    {
     "data": {
      "text/plain": [
       "{'commands': 'run opposite left after walk right',\n",
       " 'actions': 'I_TURN_RIGHT I_WALK I_TURN_LEFT I_TURN_LEFT I_RUN'}"
      ]
     },
     "execution_count": 185,
     "metadata": {},
     "output_type": "execute_result"
    }
   ],
   "source": [
    "scan_train[1]"
   ]
  },
  {
   "cell_type": "code",
   "execution_count": 186,
   "id": "d7066d19-02dd-481b-adf7-6d488b72d139",
   "metadata": {
    "tags": []
   },
   "outputs": [
    {
     "data": {
      "text/plain": [
       "'run opposite left after walk right'"
      ]
     },
     "execution_count": 186,
     "metadata": {},
     "output_type": "execute_result"
    }
   ],
   "source": [
    "scan_train[1]['commands']"
   ]
  },
  {
   "cell_type": "code",
   "execution_count": 187,
   "id": "0b1a8772-e14a-407c-9e9a-a4e31a85f23f",
   "metadata": {
    "tags": []
   },
   "outputs": [
    {
     "data": {
      "text/plain": [
       "'run opposite left after walk right'"
      ]
     },
     "execution_count": 187,
     "metadata": {},
     "output_type": "execute_result"
    }
   ],
   "source": [
    "X = scan_train[1]['commands']\n",
    "X"
   ]
  },
  {
   "cell_type": "code",
   "execution_count": 188,
   "id": "6436cadf-962c-4e0b-9029-9bdb99f53a08",
   "metadata": {
    "tags": []
   },
   "outputs": [
    {
     "data": {
      "text/plain": [
       "'I_TURN_RIGHT I_WALK I_TURN_LEFT I_TURN_LEFT I_RUN'"
      ]
     },
     "execution_count": 188,
     "metadata": {},
     "output_type": "execute_result"
    }
   ],
   "source": [
    "y = scan_train[1]['actions']\n",
    "y"
   ]
  },
  {
   "cell_type": "markdown",
   "id": "44f4d234-bdbd-40a7-8c65-6bee8477aef7",
   "metadata": {},
   "source": [
    "接下来围绕该条数据集进行拆解："
   ]
  },
  {
   "cell_type": "code",
   "execution_count": 189,
   "id": "a6e64966-e892-4f90-8bd7-49335dfa1a4c",
   "metadata": {
    "tags": []
   },
   "outputs": [
    {
     "data": {
      "text/plain": [
       "'Q：“run opposite left after walk right” A:'"
      ]
     },
     "execution_count": 189,
     "metadata": {},
     "output_type": "execute_result"
    }
   ],
   "source": [
    "'Q：“%s” A:' % X"
   ]
  },
  {
   "cell_type": "code",
   "execution_count": 190,
   "id": "310c2d43-fea3-4e3c-ac44-b547aaf77fe1",
   "metadata": {
    "tags": []
   },
   "outputs": [
    {
     "data": {
      "text/plain": [
       "'Q: “look opposite right thrice after walk”                A: “look opposite right thrice” can be solved by: “look opposite right”, “look opposite right                thrice”. “walk” can be solved by “walk”. So, “look opposite right thrice after walk” can be                solved by: “walk”, “look opposite right”, “look opposite right thrice”.                Q: “look around right thrice and walk”                A: “look around right thrice” can be solved by: “look right”, “look around right”, “look around                right thrice”. “walk” can be solved by “walk”. So, “look around right thrice and walk” can be                solved by: “look right”, “look around right”, “look around right thrice”, “walk”.                Q：“run opposite left after walk right” A:'"
      ]
     },
     "execution_count": 190,
     "metadata": {},
     "output_type": "execute_result"
    }
   ],
   "source": [
    "prompt_CD = CD_Few_shot + 'Q：“%s” A:' % X\n",
    "prompt_CD"
   ]
  },
  {
   "cell_type": "code",
   "execution_count": 191,
   "id": "ca0e5d50-1220-4010-915a-fe7ab884f636",
   "metadata": {
    "tags": []
   },
   "outputs": [],
   "source": [
    "response_CD = openai.Completion.create(\n",
    "              model=\"text-davinci-003\",\n",
    "              prompt=prompt_CD,\n",
    "              temperature=0.5,\n",
    "              max_tokens=1000\n",
    "              )"
   ]
  },
  {
   "cell_type": "code",
   "execution_count": 192,
   "id": "9cb9cbe9-c1ca-44cf-86a0-6ad00c1c244c",
   "metadata": {
    "tags": []
   },
   "outputs": [
    {
     "data": {
      "text/plain": [
       "'“run opposite left” can be solved by: “run left”, “run opposite left”. “walk right” can be solved by: “walk right”. So, “run opposite left after walk right” can be solved by: “walk right”, “run left”, “run opposite left”.'"
      ]
     },
     "execution_count": 192,
     "metadata": {},
     "output_type": "execute_result"
    }
   ],
   "source": [
    "response_CD[\"choices\"][0][\"text\"].strip()"
   ]
  },
  {
   "cell_type": "markdown",
   "id": "0ac2bd70-33ae-4583-b7fd-7477e04add2d",
   "metadata": {},
   "source": [
    "能够看出，原始指令'run opposite left after walk right'就被拆分成了“walk right”, “run left”, “run opposite left”三个短指令。当然，从中也能发现，Few-shot的提示过程其实也可以看成是让模型举一反三的过程，尽管训练数据中没有'run opposite left after walk right'这个指令拆解的方法，但通过Few-shot，模型学会了其底层拆解命令的逻辑，因此也顺利完成了对这个新指令的拆解。"
   ]
  },
  {
   "cell_type": "markdown",
   "id": "24cb172d-7188-429e-b931-e5718b394b55",
   "metadata": {},
   "source": [
    "&emsp;&emsp;此外，需要注意的是，这里模型将X拆分成三个子命令，就相当于是将一个原始问题拆分成了三个问题，并且需要注意的是，这三个问题是有先后顺序的，相当于是“walk right”是最底层的子问题、“run left”是上一层的子问题，“run opposite left”则是第一层子问题。这里之所以要注意子问题的问题顺序，是因为后续在解决这些子问题的时候，是按照由下往上的顺序依次进行解决，并且每一个子问题的解决都需要将下一层子问题的问题+答案作为Few-shot（最底层的子问题除外），因此我们需要注意拆分问题的顺序。"
   ]
  },
  {
   "cell_type": "markdown",
   "id": "a58911c7-cf14-4b6d-bd0a-ccbe53740cd7",
   "metadata": {},
   "source": [
    "> 当然，拆解命令是否真的能帮模型完成对完整指令的预测，还需借助第二阶段指令翻译最终的输出结果进行验证。"
   ]
  },
  {
   "cell_type": "markdown",
   "id": "c88557e9-e8c0-4383-9a29-a47a75529891",
   "metadata": {},
   "source": [
    "##### 2.3.2 Stage 2.Command mapping：指令翻译"
   ]
  },
  {
   "cell_type": "markdown",
   "id": "2c41ea4b-390c-45e6-8456-f6bda99cb1c1",
   "metadata": {},
   "source": [
    "&emsp;&emsp;在第一个阶段，当我们成功的围绕原问题（原命令）拆分除了多个子问题（短命令）之后，接下来就需要依次解答（翻译）这一系列的子问题。这个阶段总共有两部分工作，其一是通过Few-shot教会模型短命令的翻译方法，其二则是在翻译原始指令时，需要先翻译短指令，然后将短指令的问题和答案都作为prompt的一部分，带入到原指令的翻译过程中。其中，第二部分工作也就是LtM提示方法的根本流程——将子问题的问题+答案作为原问题提示内容的一部分，从而让模型更好的解决原问题。"
   ]
  },
  {
   "cell_type": "markdown",
   "id": "934ecbb8-51c1-483d-81c6-ee13f5a49edf",
   "metadata": {},
   "source": [
    "&emsp;&emsp;我们先来看短指令的Few-shot。同样，研究人员挑选了部分短指令，并制定了短指令翻译的一般方法，部分短指令翻译的示例如下："
   ]
  },
  {
   "cell_type": "code",
   "execution_count": 193,
   "id": "b6f8f0c1-6e6f-4c97-9527-fa62bdc51a66",
   "metadata": {
    "tags": []
   },
   "outputs": [],
   "source": [
    "CM_Few_shot = 'Q: “jump left” \\\n",
    "               A: The output of “jump left” concatenates: the output of “turn left”, the output of “jump”. “turn \\\n",
    "               left” outputs “TURN LEFT”. “jump” outputs “JUMP”. So concatenating the output of “turn \\\n",
    "               left” and the output of “jump” leads to “TURN LEFT” + “JUMP”. So the output of “jump left” \\\n",
    "               is “TURN LEFT” + “JUMP”. \\\n",
    "               Q: “run and look twice” \\\n",
    "               A: The output of “run and look twice” concatenates: the output of “run”, the output of “look \\\n",
    "               twice”. “run” outputs “RUN”. “look twice” outputs “LOOK” * 2. So concatenating the output of \\ \\\n",
    "               “run” and the output of “look twice” leads to “RUN” + “LOOK” * 2. So the output of “run and \\\n",
    "               look twice” is “RUN” + “LOOK” * 2. \\\n",
    "               Q: “walk opposite left” \\\n",
    "               A: The output of “walk opposite left” concatenates: the output of “turn opposite left”, the output of \\\n",
    "               “walk”. “turn opposite left” outputs “TURN LEFT” * 2. “walk” outputs “WALK”. So concatenating the \\\n",
    "               output of “turn opposite left” and the output of “walk” leads to “TURN LEFT” * 2 + “WALK”. So the \\\n",
    "               output of “walk opposite left” is “TURN LEFT” * 2 + “WALK” '"
   ]
  },
  {
   "cell_type": "markdown",
   "id": "22249b32-adf5-47e5-99b7-50a1002bf28f",
   "metadata": {},
   "source": [
    "从结果上来看，这些提示就是通过两阶段的逻辑引导，将一些相对较短的指令翻译成了最终行为序列。"
   ]
  },
  {
   "cell_type": "markdown",
   "id": "5c77dbdc-5050-4b6c-af2e-338e62a65327",
   "metadata": {},
   "source": [
    "&emsp;&emsp;那么接下来，我们就借助这些翻译的示例，尝试对测试数据X完成Command mapping过程，这里再次强调，X的Command mapping流程是先借助CM_Few_shot对最底层的子命令进行翻译，然后再把这一层子命令的问题+答案添加进CM_Few_shot中，再对上一层子问题进行回答，并按照这个流程最终回答原始问题。具体执行过程如下："
   ]
  },
  {
   "cell_type": "markdown",
   "id": "aad0f2e3-3ef1-4b9a-86ca-18b8df591f78",
   "metadata": {},
   "source": [
    "- 翻译第一个子命令walk right："
   ]
  },
  {
   "cell_type": "markdown",
   "id": "c387d0b4-ee07-446f-ab9a-9bfddaa9a381",
   "metadata": {},
   "source": [
    "&emsp;&emsp;首先是翻译第一个子命令“walk right”，借助CM_Few_shot对第一个子命令翻译过程如下："
   ]
  },
  {
   "cell_type": "code",
   "execution_count": 194,
   "id": "7cef88f1-a0e4-44ed-ad97-046ba2f8331c",
   "metadata": {
    "tags": []
   },
   "outputs": [],
   "source": [
    "prompt_CM_1 = CM_Few_shot + 'Q:“walk right” A：'"
   ]
  },
  {
   "cell_type": "code",
   "execution_count": 195,
   "id": "8e8e0c1c-d54f-4193-a1dc-b08ff4112ab8",
   "metadata": {
    "tags": []
   },
   "outputs": [],
   "source": [
    "response_CM_1 = openai.Completion.create(\n",
    "                model=\"text-davinci-003\",\n",
    "                prompt=prompt_CM_1,\n",
    "                temperature=0.5,\n",
    "                max_tokens=1000\n",
    "                )"
   ]
  },
  {
   "cell_type": "code",
   "execution_count": 196,
   "id": "944339cb-f9ee-4a49-acda-d2be68739048",
   "metadata": {
    "tags": []
   },
   "outputs": [
    {
     "data": {
      "text/plain": [
       "'The output of “walk right” concatenates: the output of “turn right”, the output of “walk”. “turn right” outputs “TURN RIGHT”. “walk” outputs “WALK”. So concatenating the output of “turn right” and the output of “walk” leads to “TURN RIGHT” + “WALK”. So the output of “walk right” is “TURN RIGHT” + “WALK”.'"
      ]
     },
     "execution_count": 196,
     "metadata": {},
     "output_type": "execute_result"
    }
   ],
   "source": [
    "response_CM_1[\"choices\"][0][\"text\"].strip()"
   ]
  },
  {
   "cell_type": "markdown",
   "id": "0a5d9b5e-b095-441e-9363-d0f1e1be8585",
   "metadata": {},
   "source": [
    "上述结果既是第一个子命令的翻译得到结果。"
   ]
  },
  {
   "cell_type": "markdown",
   "id": "3d1404ac-b1cc-4357-a8b1-2863f2bceff5",
   "metadata": {},
   "source": [
    "- 翻译第二个子命令run left："
   ]
  },
  {
   "cell_type": "markdown",
   "id": "53b1398f-0178-41ea-8eb2-9a8b856034ba",
   "metadata": {},
   "source": [
    "&emsp;&emsp;而在翻译第二个子命令时，则需要将第一个子命令时的问答结果作为Few-shot的一个示例，即我们需要先把第一个子命令的问答结果拼接到prompt_CM_1中，然后在提出第二个子命令翻译问题："
   ]
  },
  {
   "cell_type": "code",
   "execution_count": 197,
   "id": "fab34a0e-fdc2-4941-ac6e-c44feed8af8f",
   "metadata": {
    "tags": []
   },
   "outputs": [],
   "source": [
    "prompt_CM_2 = prompt_CM_1 + response_CM_1[\"choices\"][0][\"text\"].strip() + 'Q:“run left” A：'"
   ]
  },
  {
   "cell_type": "code",
   "execution_count": 198,
   "id": "dce4bf0f-3fc5-4e4c-8e80-811b15718633",
   "metadata": {
    "tags": []
   },
   "outputs": [],
   "source": [
    "response_CM_2 = openai.Completion.create(\n",
    "                model=\"text-davinci-003\",\n",
    "                prompt=prompt_CM_2,\n",
    "                temperature=0.5,\n",
    "                max_tokens=1000\n",
    "                )"
   ]
  },
  {
   "cell_type": "code",
   "execution_count": 199,
   "id": "e22043a3-1e76-4831-8023-99fc6eeb8c85",
   "metadata": {
    "tags": []
   },
   "outputs": [
    {
     "data": {
      "text/plain": [
       "'The output of “run left” concatenates: the output of “turn left”, the output of “run”. “turn left” outputs “TURN LEFT”. “run” outputs “RUN”. So concatenating the output of “turn left” and the output of “run” leads to “TURN LEFT” + “RUN”. So the output of “run left” is “TURN LEFT” + “RUN”.'"
      ]
     },
     "execution_count": 199,
     "metadata": {},
     "output_type": "execute_result"
    }
   ],
   "source": [
    "response_CM_2[\"choices\"][0][\"text\"].strip()"
   ]
  },
  {
   "cell_type": "markdown",
   "id": "681f3e43-600e-4ec2-b14b-500e489c6c94",
   "metadata": {},
   "source": [
    "由此，便得到了第二个子命令的答案。"
   ]
  },
  {
   "cell_type": "markdown",
   "id": "65c63b5b-6e6d-4bfd-9bd2-10f507e1d8ae",
   "metadata": {},
   "source": [
    "- 翻译第三个子命令run opposite left："
   ]
  },
  {
   "cell_type": "markdown",
   "id": "424e0b06-61c0-4f10-b932-89b42430c75d",
   "metadata": {},
   "source": [
    "&emsp;&emsp;而第三个子命令的翻译，则需要同时将此前两个子命令的问答都加入Few-shot中，然后再进行提问："
   ]
  },
  {
   "cell_type": "code",
   "execution_count": 200,
   "id": "eaeb0534-a0a4-498c-bf25-c50e93e5435d",
   "metadata": {
    "tags": []
   },
   "outputs": [],
   "source": [
    "prompt_CM_3 = prompt_CM_2 + response_CM_2[\"choices\"][0][\"text\"].strip() + 'Q:“run opposite left” A：'"
   ]
  },
  {
   "cell_type": "code",
   "execution_count": 201,
   "id": "e8f4d4ad-31bd-4623-aaf7-7a764e1aed1d",
   "metadata": {
    "tags": []
   },
   "outputs": [],
   "source": [
    "response_CM_3 = openai.Completion.create(\n",
    "                model=\"text-davinci-003\",\n",
    "                prompt=prompt_CM_3,\n",
    "                temperature=0.5,\n",
    "                max_tokens=1000\n",
    "                )"
   ]
  },
  {
   "cell_type": "code",
   "execution_count": 202,
   "id": "a74d86f6-334c-42d5-872e-1553941cb7b9",
   "metadata": {
    "tags": []
   },
   "outputs": [
    {
     "data": {
      "text/plain": [
       "'The output of “run opposite left” concatenates: the output of “turn opposite left”, the output of “run”. “turn opposite left” outputs “TURN LEFT” * 2. “run” outputs “RUN”. So concatenating the output of “turn opposite left” and the output of “run” leads to “TURN LEFT” * 2 + “RUN”. So the output of “run opposite left” is “TURN LEFT” * 2 + “RUN”.'"
      ]
     },
     "execution_count": 202,
     "metadata": {},
     "output_type": "execute_result"
    }
   ],
   "source": [
    "response_CM_3[\"choices\"][0][\"text\"].strip()"
   ]
  },
  {
   "cell_type": "markdown",
   "id": "b55f0e6d-90d5-4fe0-a781-fcba3a70e840",
   "metadata": {},
   "source": [
    "由此便完成了第三个子命令的问答过程。"
   ]
  },
  {
   "cell_type": "markdown",
   "id": "27ba2331-0e01-4071-b200-7c6a84e46b4c",
   "metadata": {},
   "source": [
    "- 原始问题run opposite left after walk right问答过程"
   ]
  },
  {
   "cell_type": "markdown",
   "id": "110d8fbd-bfba-4c1d-94d6-7548f790c426",
   "metadata": {},
   "source": [
    "&emsp;&emsp;在获得了每个子命令的问答结果之后，接下来，将每个子命令的问答结果都拼接到Few-shot中，并对模型提问原始问题，流程如下："
   ]
  },
  {
   "cell_type": "code",
   "execution_count": 203,
   "id": "7f42c8a8-47fd-43d7-bbac-35d1f13f6a33",
   "metadata": {
    "tags": []
   },
   "outputs": [
    {
     "data": {
      "text/plain": [
       "'Q: “jump left”                A: The output of “jump left” concatenates: the output of “turn left”, the output of “jump”. “turn                left” outputs “TURN LEFT”. “jump” outputs “JUMP”. So concatenating the output of “turn                left” and the output of “jump” leads to “TURN LEFT” + “JUMP”. So the output of “jump left”                is “TURN LEFT” + “JUMP”.                Q: “run and look twice”                A: The output of “run and look twice” concatenates: the output of “run”, the output of “look                twice”. “run” outputs “RUN”. “look twice” outputs “LOOK” * 2. So concatenating the output of \\\\                “run” and the output of “look twice” leads to “RUN” + “LOOK” * 2. So the output of “run and                look twice” is “RUN” + “LOOK” * 2.                Q: “walk opposite left”                A: The output of “walk opposite left” concatenates: the output of “turn opposite left”, the output of                “walk”. “turn opposite left” outputs “TURN LEFT” * 2. “walk” outputs “WALK”. So concatenating the                output of “turn opposite left” and the output of “walk” leads to “TURN LEFT” * 2 + “WALK”. So the                output of “walk opposite left” is “TURN LEFT” * 2 + “WALK” Q:“walk right” A：The output of “walk right” concatenates: the output of “turn right”, the output of “walk”. “turn right” outputs “TURN RIGHT”. “walk” outputs “WALK”. So concatenating the output of “turn right” and the output of “walk” leads to “TURN RIGHT” + “WALK”. So the output of “walk right” is “TURN RIGHT” + “WALK”.Q:“run left” A：The output of “run left” concatenates: the output of “turn left”, the output of “run”. “turn left” outputs “TURN LEFT”. “run” outputs “RUN”. So concatenating the output of “turn left” and the output of “run” leads to “TURN LEFT” + “RUN”. So the output of “run left” is “TURN LEFT” + “RUN”.Q:“run opposite left” A：The output of “run opposite left” concatenates: the output of “turn opposite left”, the output of “run”. “turn opposite left” outputs “TURN LEFT” * 2. “run” outputs “RUN”. So concatenating the output of “turn opposite left” and the output of “run” leads to “TURN LEFT” * 2 + “RUN”. So the output of “run opposite left” is “TURN LEFT” * 2 + “RUN”.Q：“run opposite left after walk right” A:'"
      ]
     },
     "execution_count": 203,
     "metadata": {},
     "output_type": "execute_result"
    }
   ],
   "source": [
    "prompt_CM = prompt_CM_3 + response_CM_3[\"choices\"][0][\"text\"].strip() + 'Q：“%s” A:' % X\n",
    "prompt_CM"
   ]
  },
  {
   "cell_type": "code",
   "execution_count": 204,
   "id": "91ddb64f-8ec4-43c1-bd72-4030ebf1b0b9",
   "metadata": {
    "tags": []
   },
   "outputs": [],
   "source": [
    "response_CM = openai.Completion.create(\n",
    "              model=\"text-davinci-003\",\n",
    "              prompt=prompt_CM,\n",
    "              temperature=0.5,\n",
    "              max_tokens=1000\n",
    "              )"
   ]
  },
  {
   "cell_type": "code",
   "execution_count": 205,
   "id": "7f04674c-ffca-4aa7-bc48-fdd9d5908dfe",
   "metadata": {
    "tags": []
   },
   "outputs": [
    {
     "data": {
      "text/plain": [
       "'The output of “run opposite left after walk right” concatenates: the output of “walk right”, the output of “run opposite left”. “walk right” outputs “TURN RIGHT” + “WALK”. “run opposite left” outputs “TURN LEFT” * 2 + “RUN”. So concatenating the output of “walk right” and the output of “run opposite left” leads to “TURN RIGHT” + “WALK” + “TURN LEFT” * 2 + “RUN”. So the output of “run opposite left after walk right” is “TURN RIGHT” + “WALK” + “TURN LEFT” * 2 + “RUN”.'"
      ]
     },
     "execution_count": 205,
     "metadata": {},
     "output_type": "execute_result"
    }
   ],
   "source": [
    "response_CM[\"choices\"][0][\"text\"].strip()"
   ]
  },
  {
   "cell_type": "markdown",
   "id": "7af76ec5-6799-475c-b653-ec4f5d8cc52c",
   "metadata": {},
   "source": [
    "最终，我们能够获得原始问题的答案为“TURN RIGHT” + “WALK” + “TURN LEFT” * 2 + “RUN”，仔细观察不难发现，该回答和该条指令的真实标签一致："
   ]
  },
  {
   "cell_type": "code",
   "execution_count": 206,
   "id": "45070dc8-48f3-4f4e-87bc-eb93d0aa48df",
   "metadata": {
    "tags": []
   },
   "outputs": [
    {
     "data": {
      "text/plain": [
       "'I_TURN_RIGHT I_WALK I_TURN_LEFT I_TURN_LEFT I_RUN'"
      ]
     },
     "execution_count": 206,
     "metadata": {},
     "output_type": "execute_result"
    }
   ],
   "source": [
    "y"
   ]
  },
  {
   "cell_type": "markdown",
   "id": "12930369-aad9-4cc1-9cf9-e2f3120ccd52",
   "metadata": {},
   "source": [
    "当让，我们也可以借助如下函数将response_CM[\"choices\"][0][\"text\"].strip()对象转化为y格式："
   ]
  },
  {
   "cell_type": "code",
   "execution_count": 269,
   "id": "f343b089-7b8e-4374-a4bc-cb6827cfcfca",
   "metadata": {
    "tags": []
   },
   "outputs": [],
   "source": [
    "import re\n",
    "\n",
    "def transform_expression(s):\n",
    "    # Regular expression pattern\n",
    "    pattern = r'is “.*'\n",
    "\n",
    "    # Find the match\n",
    "    match = re.search(pattern, s) \n",
    "    \n",
    "    s = match.group()[3: -1].replace('“', '\"').replace('”', '\"')\n",
    "    # Step 1: Handle multiplications\n",
    "    pattern = r'\"([^\"]+)\" \\* (\\d+)'\n",
    "    matches = re.findall(pattern, s)\n",
    "    for match in matches:\n",
    "        replacement = ' '.join([f'\"{match[0]}\"'] * int(match[1]))\n",
    "        s = s.replace(f'\"{match[0]}\" * {match[1]}', replacement)\n",
    "\n",
    "    # Step 2: Replace spaces within quotes with underscores\n",
    "    pattern = r'\"([^\"]+)\"'\n",
    "    matches = re.findall(pattern, s)\n",
    "    for match in matches:\n",
    "        replacement = match.replace(' ', '_')\n",
    "        s = s.replace(f'\"{match}\"', f'\"{replacement}\"')\n",
    "\n",
    "    # Step 3: Add 'I_' prefix within quotes\n",
    "    pattern = r'\"([^\"]+)\"'\n",
    "    matches = re.findall(pattern, s)\n",
    "    for match in matches:\n",
    "        replacement = 'I_' + match\n",
    "        s = s.replace(f'\"{match}\"', f'\"{replacement}\"')\n",
    "\n",
    "    # Step 4: Remove quotes\n",
    "    s = s.replace('\"', '')\n",
    "    s = s.replace(' +', '')\n",
    "\n",
    "    return s"
   ]
  },
  {
   "cell_type": "code",
   "execution_count": 208,
   "id": "75730086-0450-4896-a2fd-28adc7905e58",
   "metadata": {
    "tags": []
   },
   "outputs": [
    {
     "data": {
      "text/plain": [
       "'I_TURN_RIGHT I_WALK I_TURN_LEFT I_TURN_LEFT I_RUN'"
      ]
     },
     "execution_count": 208,
     "metadata": {},
     "output_type": "execute_result"
    }
   ],
   "source": [
    "transform_expression(response_CM[\"choices\"][0][\"text\"].strip())"
   ]
  },
  {
   "cell_type": "code",
   "execution_count": 209,
   "id": "e5f7767a-80e8-484c-82e8-2bc10a9000e6",
   "metadata": {
    "tags": []
   },
   "outputs": [
    {
     "data": {
      "text/plain": [
       "'I_TURN_RIGHT I_WALK I_TURN_LEFT I_TURN_LEFT I_RUN'"
      ]
     },
     "execution_count": 209,
     "metadata": {},
     "output_type": "execute_result"
    }
   ],
   "source": [
    "y"
   ]
  },
  {
   "cell_type": "markdown",
   "id": "68ae8084-1ea2-4d38-8083-9c698dbaf543",
   "metadata": {},
   "source": [
    "由此，我们就完成了一次完整的基于复杂语义问题的LtM提示工程流程，并顺利获得准确答案。不难看出，Few-shot-LtM提示流程非常复杂，以下是X到y翻译过程总结："
   ]
  },
  {
   "cell_type": "markdown",
   "id": "355fd48b-7d7e-4f93-b003-7548667e4198",
   "metadata": {},
   "source": [
    "<center><img src=\"https://ml2022.oss-cn-hangzhou.aliyuncs.com/img/1688807852615.png\" alt=\"1688807852615\" style=\"zoom:33%;\" />"
   ]
  },
  {
   "cell_type": "markdown",
   "id": "fc56206a-ef16-4967-b7b8-6be99730e2bb",
   "metadata": {},
   "source": [
    "### 3.SCAN数据集完整预测流程"
   ]
  },
  {
   "cell_type": "markdown",
   "id": "b58960a8-f7b1-47fa-a7f5-d1d223e9f643",
   "metadata": {},
   "source": [
    "&emsp;&emsp;在了解了Few-shot-LtM的基本流程之后，我们尝试用代码实现一个更加自动化的Few-shot-LtM过程，并完成在完整的SCAN数据集上建模的流程。"
   ]
  },
  {
   "cell_type": "markdown",
   "id": "3a011017-6015-4a92-ba05-d66a0b43ec70",
   "metadata": {},
   "source": [
    "- 提取数据流"
   ]
  },
  {
   "cell_type": "code",
   "execution_count": 85,
   "id": "8ad44b4b-2118-4072-8908-537ecabb7511",
   "metadata": {
    "tags": []
   },
   "outputs": [
    {
     "data": {
      "text/plain": [
       "Dataset({\n",
       "    features: ['commands', 'actions'],\n",
       "    num_rows: 16728\n",
       "})"
      ]
     },
     "execution_count": 85,
     "metadata": {},
     "output_type": "execute_result"
    }
   ],
   "source": [
    "scan_train"
   ]
  },
  {
   "cell_type": "code",
   "execution_count": 86,
   "id": "ad8904d3-538b-446c-9d96-08f87ff54bb1",
   "metadata": {
    "tags": []
   },
   "outputs": [
    {
     "data": {
      "text/plain": [
       "Dataset({\n",
       "    features: ['commands', 'actions'],\n",
       "    num_rows: 4182\n",
       "})"
      ]
     },
     "execution_count": 86,
     "metadata": {},
     "output_type": "execute_result"
    }
   ],
   "source": [
    "scan_test"
   ]
  },
  {
   "cell_type": "code",
   "execution_count": 87,
   "id": "9a8d5843-548d-4ae6-89f6-f59593c78242",
   "metadata": {
    "tags": []
   },
   "outputs": [
    {
     "data": {
      "text/plain": [
       "{'commands': 'jump opposite right twice and turn opposite right thrice',\n",
       " 'actions': 'I_TURN_RIGHT I_TURN_RIGHT I_JUMP I_TURN_RIGHT I_TURN_RIGHT I_JUMP I_TURN_RIGHT I_TURN_RIGHT I_TURN_RIGHT I_TURN_RIGHT I_TURN_RIGHT I_TURN_RIGHT'}"
      ]
     },
     "execution_count": 87,
     "metadata": {},
     "output_type": "execute_result"
    }
   ],
   "source": [
    "scan_train[0]"
   ]
  },
  {
   "cell_type": "code",
   "execution_count": 210,
   "id": "c2d598fb-a123-4a45-b629-22254deada9f",
   "metadata": {
    "tags": []
   },
   "outputs": [
    {
     "name": "stdout",
     "output_type": "stream",
     "text": [
      "turn opposite right thrice and turn opposite left\n",
      "I_TURN_RIGHT I_TURN_RIGHT I_TURN_RIGHT I_TURN_RIGHT I_TURN_RIGHT I_TURN_RIGHT I_TURN_LEFT I_TURN_LEFT\n"
     ]
    }
   ],
   "source": [
    "for data in scan_test:\n",
    "    print(data['commands'])\n",
    "    print(data['actions'])\n",
    "    break"
   ]
  },
  {
   "cell_type": "code",
   "execution_count": 211,
   "id": "51512335-1199-4ed4-bcdc-9d75bdc52523",
   "metadata": {
    "tags": []
   },
   "outputs": [
    {
     "data": {
      "text/plain": [
       "{'commands': 'turn opposite right thrice and turn opposite left',\n",
       " 'actions': 'I_TURN_RIGHT I_TURN_RIGHT I_TURN_RIGHT I_TURN_RIGHT I_TURN_RIGHT I_TURN_RIGHT I_TURN_LEFT I_TURN_LEFT'}"
      ]
     },
     "execution_count": 211,
     "metadata": {},
     "output_type": "execute_result"
    }
   ],
   "source": [
    "data"
   ]
  },
  {
   "cell_type": "markdown",
   "id": "ef591f85-a110-4eb5-b78b-ce6e160a56c9",
   "metadata": {},
   "source": [
    "- 提示示例补充"
   ]
  },
  {
   "cell_type": "markdown",
   "id": "b1239df4-0bfb-4c9a-9514-f85f2a2873a9",
   "metadata": {},
   "source": [
    "&emsp;&emsp;此外需要注意的是，根据原论文的描述，为了更好的完成完整数据集的预测，第一阶段命令拆解需要设置8组问答示例，而第二阶段命令映射则需要设置14组问答示例，因此这里我们完整补充第一阶段的提示示例："
   ]
  },
  {
   "cell_type": "code",
   "execution_count": 216,
   "id": "5fb1e143-8691-45b5-b1f2-a4c04ac77dfd",
   "metadata": {
    "tags": []
   },
   "outputs": [],
   "source": [
    "CD_Few_shot = 'Q: “look right after look twice” \\\n",
    "               A: “look right after look twice” can be solved by: “look right”, “look twice”. \\\n",
    "               Q: “jump opposite right thrice and walk” \\\n",
    "               A: “jump opposite right thrice” can be solved by: “jump opposite right”, “jump opposite right thrice”. \\\n",
    "               “walk” can be solved by: “walk”. So, “jump opposite right thrice and walk” can be solved by: “jump \\\n",
    "               opposite right”, “jump opposite right thrice”, “walk”. \\\n",
    "               Q: “run left twice and run right” \\\n",
    "               A: “run left twice” can be solved by: “run left”, “run left twice”. “run right” can be solved by “run right”. \\\n",
    "               So, “run left twice and run right” can.be solved by: “run left”, “run left twice”, “run right”. \\\n",
    "               Q: “run opposite right” \\\n",
    "               A: “run opposite right” can be solved by “run opposite right”. \\\n",
    "               Q: “look opposite right thrice after walk” \\\n",
    "               A: “look opposite right thrice” can be solved by: “look opposite right”, “look opposite right thrice”. \\\n",
    "               “walk” can be solved by “walk”. So, “look opposite right thrice after walk” can be solved by: “look \\\n",
    "               opposite right”, “look opposite right thrice”, “walk”. \\\n",
    "               Q: “jump around right” \\\n",
    "               A: “jump around right” can be solved by: “jump right”, “jump around right”. So, “jump around right” \\\n",
    "               can be solved by: “jump right”, “jump around right”. \\\n",
    "               Q: “look around right thrice and walk” \\\n",
    "               A: “look around right thrice” can be solved by: “look right”, “look around right”, “look around right \\\n",
    "               thrice”. “walk” can be solved by “walk”. So, “look around right thrice and walk” can be solved by: \\\n",
    "               “look right”, “look around right”, “look around right thrice”, “walk”. \\\n",
    "               Q: “turn right after run right thrice” \\\n",
    "               A: “turn right” can be solved by: “turn right”. “run right thrice” can be solved by: “run right”, “run \\\n",
    "               right thrice”. So, “turn right after run right thrice” can be solved by: “turn right”, “run right”, “run right \\\n",
    "               thrice”. \\\n",
    "               '"
   ]
  },
  {
   "cell_type": "code",
   "execution_count": 217,
   "id": "689854d0-dda9-4508-a8d0-8196e105bd22",
   "metadata": {
    "tags": []
   },
   "outputs": [
    {
     "data": {
      "text/plain": [
       "'Q: “look right after look twice”                A: “look right after look twice” can be solved by: “look right”, “look twice”.                Q: “jump opposite right thrice and walk”                A: “jump opposite right thrice” can be solved by: “jump opposite right”, “jump opposite right thrice”.                “walk” can be solved by: “walk”. So, “jump opposite right thrice and walk” can be solved by: “jump                opposite right”, “jump opposite right thrice”, “walk”.                Q: “run left twice and run right”                A: “run left twice” can be solved by: “run left”, “run left twice”. “run right” can be solved by “run right”.                So, “run left twice and run right” can.be solved by: “run left”, “run left twice”, “run right”.                Q: “run opposite right”                A: “run opposite right” can be solved by “run opposite right”.                Q: “look opposite right thrice after walk”                A: “look opposite right thrice” can be solved by: “look opposite right”, “look opposite right thrice”.                “walk” can be solved by “walk”. So, “look opposite right thrice after walk” can be solved by: “look                opposite right”, “look opposite right thrice”, “walk”.                Q: “jump around right”                A: “jump around right” can be solved by: “jump right”, “jump around right”. So, “jump around right”                can be solved by: “jump right”, “jump around right”.                Q: “look around right thrice and walk”                A: “look around right thrice” can be solved by: “look right”, “look around right”, “look around right                thrice”. “walk” can be solved by “walk”. So, “look around right thrice and walk” can be solved by:                “look right”, “look around right”, “look around right thrice”, “walk”.                Q: “turn right after run right thrice”                A: “turn right” can be solved by: “turn right”. “run right thrice” can be solved by: “run right”, “run                right thrice”. So, “turn right after run right thrice” can be solved by: “turn right”, “run right”, “run right                thrice”.                '"
      ]
     },
     "execution_count": 217,
     "metadata": {},
     "output_type": "execute_result"
    }
   ],
   "source": [
    "CD_Few_shot"
   ]
  },
  {
   "cell_type": "code",
   "execution_count": 218,
   "id": "25ee2979-9c78-4766-860c-7663fd10b3ce",
   "metadata": {
    "tags": []
   },
   "outputs": [],
   "source": [
    "CM_Few_shot = 'Q: “turn left” \\\n",
    "               A: “turn left” outputs “TURN LEFT”. \\\n",
    "               Q: “turn right” \\\n",
    "               A: “turn right” outputs “TURN RIGHT”. \\\n",
    "               Q: “jump left” \\\n",
    "               A: The output of “jump left” concatenates: the output of “turn left”, the output of “jump”. “turn left” \\\n",
    "               outputs “TURN LEFT”. “jump” outputs “JUMP”. So concatenating the output of “turn left” and the output of “jump” leads to “TURN LEFT” + “JUMP”. So the output of “jump left” is “TURN LEFT” + “JUMP”. \\\n",
    "               Q: “run right” \\\n",
    "               A: The output of “run right” concatenates: the output of “turn right”, the output of “run”. “turn right” \\\n",
    "               outputs “TURN RIGHT”. “run” outputs “RUN”. So concatenating the output of “turn right” and the \\\n",
    "               output of “run” leads to “TURN RIGHT” + “RUN”. So the output of “run right” is “TURN RIGHT” + \\\n",
    "               “RUN”. \\\n",
    "               Q: “look twice” \\\n",
    "               A: The output of “look twice” concatenates: the output of “look”, the output of “look”. “look” outputs \\\n",
    "               “LOOK”. So repeating the output of “look” two times leads to “LOOK” * 2. So the output of “look \\\n",
    "               twice” is “LOOK” * 2. \\\n",
    "               Q: “run and look twice” \\\n",
    "               A: The output of “run and look twice” concatenates: the output of “run”, the output of “look twice”. \\\n",
    "               “run” outputs “RUN”. “look twice” outputs “LOOK” * 2. So concatenating the output of “run” and the \\\n",
    "               output of “look twice” leads to “RUN” + “LOOK” * 2. So the output of “run and look twice” is “RUN” + \\\n",
    "               “LOOK” * 2. \\\n",
    "               Q: “jump right thrice” \\\n",
    "               A: The output of “jump right thrice” concatenates: the output of “jump right”, the output of “jump \\\n",
    "               right”, the output of “jump right”. “jump right” outputs “TURN RIGHT” + “JUMP”. So repeating the \\\n",
    "               output of “jump right” three times leads to (“TURN RIGHT” + “JUMP”) * 3. So the output of “jump \\\n",
    "               right thrice” is (“TURN RIGHT” + “JUMP”) * 3. \\\n",
    "               Q: “walk after run” \\\n",
    "               A: The output of “walk after run” concatenates: the output of “run”, the output of “walk”. “run” outputs \\\n",
    "               “RUN”. “walk” outputs “WALK”. So concatenating the output of “run” and the output of “walk” leads to \\\n",
    "               “RUN” + “WALK”. So the output of “walk after run” is “RUN” + “WALK”. \\\n",
    "               Q: “turn opposite left” \\\n",
    "               A: The output of “turn opposite left” concatenates: the output of “turn left”, the output of “turn left”. \\\n",
    "               “turn left” outputs “TURN LEFT”. So repeating the output of “turn left” twice leads to “TURN LEFT” * \\\n",
    "               2. So the output of “turn opposite left” is “TURN LEFT” * 2. \\\n",
    "               Q: “turn around left” \\\n",
    "               A: The output of “turn around left” concatenates: the output of “turn left”, the output of “turn left”, the \\\n",
    "               output of “turn left”, the output of “turn left”. “turn left” outputs “TURN LEFT”. So repeating the output \\\n",
    "               of “turn left” four times leads to “TURN LEFT” * 4. So the output of “turn around left” is “TURN LEFT” \\\n",
    "               * 4. \\\n",
    "               Q: “turn opposite right” \\\n",
    "               A: The output of “turn opposite right” concatenates: the output of “turn right”, the output of “turn \\\n",
    "               right”. “turn right” outputs “TURN RIGHT”. So repeating the output of “turn right” twice leads to \\\n",
    "               “TURN RIGHT” * 2. So the output of “turn opposite right” is “TURN RIGHT” * 2. \\\n",
    "               Q: “turn around right” \\\n",
    "               A: The output of “turn around right” concatenates: the output of “turn right”, the output of “turn right”, \\\n",
    "               the output of “turn right”, the output of “turn right”. “turn right” outputs “TURN RIGHT”. So repeating \\\n",
    "               the output of “turn right” four times leads to “TURN RIGHT” * 4. So the output of “turn around right” \\\n",
    "               is “TURN RIGHT” * 4. \\\n",
    "               Q: “walk opposite left” \\\n",
    "               A: The output of “walk opposite left” concatenates: the output of “turn opposite left”, the output of \\\n",
    "               “walk”. “turn opposite left” outputs “TURN LEFT” * 2. “walk” outputs “WALK”. So concatenating the \\\n",
    "               output of “turn opposite left” and the output of “walk” leads to “TURN LEFT” * 2 + “WALK”. So the \\\n",
    "               output of “walk opposite left” is “TURN LEFT” * 2 + “WALK”. \\\n",
    "               Q: “walk around left” \\\n",
    "               A: The output of “walk around left” concatenates: the output of “walk left”, the output of “walk left”, \\\n",
    "               the output of “walk left”, the output of “walk left”. “walk left” outputs “TURN LEFT” + “WALK”. So \\\n",
    "               repeating the output of “walk around left” four times leads to (“TURN LEFT” + “WALK”) * 4. So the \\\n",
    "               output of “walk around left” is (“TURN LEFT” + “WALK”) * 4. \\\n",
    "              '"
   ]
  },
  {
   "cell_type": "code",
   "execution_count": 219,
   "id": "2cf04d58-36d5-449b-bf3e-e35da1a931de",
   "metadata": {
    "tags": []
   },
   "outputs": [
    {
     "data": {
      "text/plain": [
       "'Q: “turn left”                A: “turn left” outputs “TURN LEFT”.                Q: “turn right”                A: “turn right” outputs “TURN RIGHT”.                Q: “jump left”                A: The output of “jump left” concatenates: the output of “turn left”, the output of “jump”. “turn left”                outputs “TURN LEFT”. “jump” outputs “JUMP”. So concatenating the output of “turn left” and the output of “jump” leads to “TURN LEFT” + “JUMP”. So the output of “jump left” is “TURN LEFT” + “JUMP”.                Q: “run right”                A: The output of “run right” concatenates: the output of “turn right”, the output of “run”. “turn right”                outputs “TURN RIGHT”. “run” outputs “RUN”. So concatenating the output of “turn right” and the                output of “run” leads to “TURN RIGHT” + “RUN”. So the output of “run right” is “TURN RIGHT” +                “RUN”.                Q: “look twice”                A: The output of “look twice” concatenates: the output of “look”, the output of “look”. “look” outputs                “LOOK”. So repeating the output of “look” two times leads to “LOOK” * 2. So the output of “look                twice” is “LOOK” * 2.                Q: “run and look twice”                A: The output of “run and look twice” concatenates: the output of “run”, the output of “look twice”.                “run” outputs “RUN”. “look twice” outputs “LOOK” * 2. So concatenating the output of “run” and the                output of “look twice” leads to “RUN” + “LOOK” * 2. So the output of “run and look twice” is “RUN” +                “LOOK” * 2.                Q: “jump right thrice”                A: The output of “jump right thrice” concatenates: the output of “jump right”, the output of “jump                right”, the output of “jump right”. “jump right” outputs “TURN RIGHT” + “JUMP”. So repeating the                output of “jump right” three times leads to (“TURN RIGHT” + “JUMP”) * 3. So the output of “jump                right thrice” is (“TURN RIGHT” + “JUMP”) * 3.                Q: “walk after run”                A: The output of “walk after run” concatenates: the output of “run”, the output of “walk”. “run” outputs                “RUN”. “walk” outputs “WALK”. So concatenating the output of “run” and the output of “walk” leads to                “RUN” + “WALK”. So the output of “walk after run” is “RUN” + “WALK”.                Q: “turn opposite left”                A: The output of “turn opposite left” concatenates: the output of “turn left”, the output of “turn left”.                “turn left” outputs “TURN LEFT”. So repeating the output of “turn left” twice leads to “TURN LEFT” *                2. So the output of “turn opposite left” is “TURN LEFT” * 2.                Q: “turn around left”                A: The output of “turn around left” concatenates: the output of “turn left”, the output of “turn left”, the                output of “turn left”, the output of “turn left”. “turn left” outputs “TURN LEFT”. So repeating the output                of “turn left” four times leads to “TURN LEFT” * 4. So the output of “turn around left” is “TURN LEFT”                * 4.                Q: “turn opposite right”                A: The output of “turn opposite right” concatenates: the output of “turn right”, the output of “turn                right”. “turn right” outputs “TURN RIGHT”. So repeating the output of “turn right” twice leads to                “TURN RIGHT” * 2. So the output of “turn opposite right” is “TURN RIGHT” * 2.                Q: “turn around right”                A: The output of “turn around right” concatenates: the output of “turn right”, the output of “turn right”,                the output of “turn right”, the output of “turn right”. “turn right” outputs “TURN RIGHT”. So repeating                the output of “turn right” four times leads to “TURN RIGHT” * 4. So the output of “turn around right”                is “TURN RIGHT” * 4.                Q: “walk opposite left”                A: The output of “walk opposite left” concatenates: the output of “turn opposite left”, the output of                “walk”. “turn opposite left” outputs “TURN LEFT” * 2. “walk” outputs “WALK”. So concatenating the                output of “turn opposite left” and the output of “walk” leads to “TURN LEFT” * 2 + “WALK”. So the                output of “walk opposite left” is “TURN LEFT” * 2 + “WALK”.                Q: “walk around left”                A: The output of “walk around left” concatenates: the output of “walk left”, the output of “walk left”,                the output of “walk left”, the output of “walk left”. “walk left” outputs “TURN LEFT” + “WALK”. So                repeating the output of “walk around left” four times leads to (“TURN LEFT” + “WALK”) * 4. So the                output of “walk around left” is (“TURN LEFT” + “WALK”) * 4.               '"
      ]
     },
     "execution_count": 219,
     "metadata": {},
     "output_type": "execute_result"
    }
   ],
   "source": [
    "CM_Few_shot"
   ]
  },
  {
   "cell_type": "markdown",
   "id": "fae8d80c-f7ab-4406-89ef-0209a8452bfb",
   "metadata": {},
   "source": [
    "换而言之，就是两个阶段设置这些示例的时候，能够让模型非常好的学习到相对完整的规则，并最终完成测试集的预测。"
   ]
  },
  {
   "cell_type": "markdown",
   "id": "aea794fe-79d1-42ca-b3dd-f46bc1697d74",
   "metadata": {},
   "source": [
    "- 第一阶段提示工程"
   ]
  },
  {
   "cell_type": "markdown",
   "id": "3059e523-91a0-41ee-a630-72fecbfcb4e3",
   "metadata": {},
   "source": [
    "&emsp;&emsp;接下来就进入到命令拆解环节，我们可以通过如下代码快速实现命令拆解："
   ]
  },
  {
   "cell_type": "code",
   "execution_count": 220,
   "id": "8ec8b1b2-af59-437a-a5a1-f0c336590322",
   "metadata": {
    "tags": []
   },
   "outputs": [
    {
     "data": {
      "text/plain": [
       "{'commands': 'turn opposite right thrice and turn opposite left',\n",
       " 'actions': 'I_TURN_RIGHT I_TURN_RIGHT I_TURN_RIGHT I_TURN_RIGHT I_TURN_RIGHT I_TURN_RIGHT I_TURN_LEFT I_TURN_LEFT'}"
      ]
     },
     "execution_count": 220,
     "metadata": {},
     "output_type": "execute_result"
    }
   ],
   "source": [
    "data"
   ]
  },
  {
   "cell_type": "code",
   "execution_count": 221,
   "id": "09ce16fa-ef5b-4784-a371-a7262241cbe3",
   "metadata": {
    "tags": []
   },
   "outputs": [
    {
     "data": {
      "text/plain": [
       "'Q：“turn opposite right thrice and turn opposite left” A:'"
      ]
     },
     "execution_count": 221,
     "metadata": {},
     "output_type": "execute_result"
    }
   ],
   "source": [
    "'Q：“%s” A:' % data['commands']"
   ]
  },
  {
   "cell_type": "code",
   "execution_count": 222,
   "id": "a742f3b1-62b5-495f-af17-7d0bb4b6b899",
   "metadata": {
    "tags": []
   },
   "outputs": [
    {
     "data": {
      "text/plain": [
       "'Q: “look right after look twice”                A: “look right after look twice” can be solved by: “look right”, “look twice”.                Q: “jump opposite right thrice and walk”                A: “jump opposite right thrice” can be solved by: “jump opposite right”, “jump opposite right thrice”.                “walk” can be solved by: “walk”. So, “jump opposite right thrice and walk” can be solved by: “jump                opposite right”, “jump opposite right thrice”, “walk”.                Q: “run left twice and run right”                A: “run left twice” can be solved by: “run left”, “run left twice”. “run right” can be solved by “run right”.                So, “run left twice and run right” can.be solved by: “run left”, “run left twice”, “run right”.                Q: “run opposite right”                A: “run opposite right” can be solved by “run opposite right”.                Q: “look opposite right thrice after walk”                A: “look opposite right thrice” can be solved by: “look opposite right”, “look opposite right thrice”.                “walk” can be solved by “walk”. So, “look opposite right thrice after walk” can be solved by: “look                opposite right”, “look opposite right thrice”, “walk”.                Q: “jump around right”                A: “jump around right” can be solved by: “jump right”, “jump around right”. So, “jump around right”                can be solved by: “jump right”, “jump around right”.                Q: “look around right thrice and walk”                A: “look around right thrice” can be solved by: “look right”, “look around right”, “look around right                thrice”. “walk” can be solved by “walk”. So, “look around right thrice and walk” can be solved by:                “look right”, “look around right”, “look around right thrice”, “walk”.                Q: “turn right after run right thrice”                A: “turn right” can be solved by: “turn right”. “run right thrice” can be solved by: “run right”, “run                right thrice”. So, “turn right after run right thrice” can be solved by: “turn right”, “run right”, “run right                thrice”.                Q：“turn opposite right thrice and turn opposite left” A:'"
      ]
     },
     "execution_count": 222,
     "metadata": {},
     "output_type": "execute_result"
    }
   ],
   "source": [
    "prompt_CD = CD_Few_shot + 'Q：“%s” A:' % data['commands']\n",
    "prompt_CD"
   ]
  },
  {
   "cell_type": "code",
   "execution_count": 223,
   "id": "f1942189-d6fb-4c0d-ad78-035459656642",
   "metadata": {
    "tags": []
   },
   "outputs": [],
   "source": [
    "response_CD = openai.Completion.create(\n",
    "              model=\"text-davinci-003\",\n",
    "              prompt=prompt_CD,\n",
    "              temperature=0.5,\n",
    "              max_tokens=1000\n",
    "              )"
   ]
  },
  {
   "cell_type": "code",
   "execution_count": 224,
   "id": "27fa8a49-de40-4849-b624-85573ed7451f",
   "metadata": {
    "tags": []
   },
   "outputs": [
    {
     "data": {
      "text/plain": [
       "'“turn opposite right thrice” can be solved by: “turn opposite right”, “turn opposite right thrice”. “turn opposite left” can be solved by: “turn opposite left”. So, “turn opposite right thrice and turn opposite left” can be solved by: “turn opposite right”, “turn opposite right thrice”, “turn opposite left”.'"
      ]
     },
     "execution_count": 224,
     "metadata": {},
     "output_type": "execute_result"
    }
   ],
   "source": [
    "response_CD[\"choices\"][0][\"text\"].strip()"
   ]
  },
  {
   "cell_type": "markdown",
   "id": "2817b60a-d93f-4cb1-a897-101c015a8f99",
   "metadata": {},
   "source": [
    "然后通过定义如下函数，完成拆解的子命令提取："
   ]
  },
  {
   "cell_type": "code",
   "execution_count": 229,
   "id": "b01d0b2e-c16c-41d0-a61f-81ae74099da7",
   "metadata": {
    "tags": []
   },
   "outputs": [],
   "source": [
    "def extract_phrases(text):\n",
    "    # 查找最后一个 \"solved by:\" 后面的所有内容\n",
    "    last_solved_by = text.rsplit(\"solved by:\", 1)[-1]\n",
    "    \n",
    "    # 使用正则表达式提取引号中的短语\n",
    "    phrases = re.findall(r'“([^”]*)”', last_solved_by)\n",
    "    \n",
    "    return phrases"
   ]
  },
  {
   "cell_type": "code",
   "execution_count": 230,
   "id": "34078286-f8a2-40b9-9f98-7f6825986a66",
   "metadata": {
    "tags": []
   },
   "outputs": [
    {
     "data": {
      "text/plain": [
       "'“turn opposite right thrice” can be solved by: “turn opposite right”, “turn opposite right thrice”. “turn opposite left” can be solved by: “turn opposite left”. So, “turn opposite right thrice and turn opposite left” can be solved by: “turn opposite right”, “turn opposite right thrice”, “turn opposite left”.'"
      ]
     },
     "execution_count": 230,
     "metadata": {},
     "output_type": "execute_result"
    }
   ],
   "source": [
    "response_CD[\"choices\"][0][\"text\"].strip()"
   ]
  },
  {
   "cell_type": "code",
   "execution_count": 231,
   "id": "743ae714-d500-44dc-bbc4-0e9d69b3f893",
   "metadata": {
    "tags": []
   },
   "outputs": [
    {
     "data": {
      "text/plain": [
       "['turn opposite right', 'turn opposite right thrice', 'turn opposite left']"
      ]
     },
     "execution_count": 231,
     "metadata": {},
     "output_type": "execute_result"
    }
   ],
   "source": [
    "CD_result = extract_phrases(response_CD[\"choices\"][0][\"text\"].strip())\n",
    "CD_result"
   ]
  },
  {
   "cell_type": "markdown",
   "id": "49e2e4c7-8908-414a-8308-3a2304f5672f",
   "metadata": {},
   "source": [
    "- 第二阶段提示工程"
   ]
  },
  {
   "cell_type": "code",
   "execution_count": 256,
   "id": "822d55d0-f573-4e55-8b39-c40cafd2dff7",
   "metadata": {
    "collapsed": true,
    "jupyter": {
     "outputs_hidden": true
    },
    "tags": []
   },
   "outputs": [
    {
     "data": {
      "text/plain": [
       "'Q: “turn left”                A: “turn left” outputs “TURN LEFT”.                Q: “turn right”                A: “turn right” outputs “TURN RIGHT”.                Q: “jump left”                A: The output of “jump left” concatenates: the output of “turn left”, the output of “jump”. “turn left”                outputs “TURN LEFT”. “jump” outputs “JUMP”. So concatenating the output of “turn left” and the output of “jump” leads to “TURN LEFT” + “JUMP”. So the output of “jump left” is “TURN LEFT” + “JUMP”.                Q: “run right”                A: The output of “run right” concatenates: the output of “turn right”, the output of “run”. “turn right”                outputs “TURN RIGHT”. “run” outputs “RUN”. So concatenating the output of “turn right” and the                output of “run” leads to “TURN RIGHT” + “RUN”. So the output of “run right” is “TURN RIGHT” +                “RUN”.                Q: “look twice”                A: The output of “look twice” concatenates: the output of “look”, the output of “look”. “look” outputs                “LOOK”. So repeating the output of “look” two times leads to “LOOK” * 2. So the output of “look                twice” is “LOOK” * 2.                Q: “run and look twice”                A: The output of “run and look twice” concatenates: the output of “run”, the output of “look twice”.                “run” outputs “RUN”. “look twice” outputs “LOOK” * 2. So concatenating the output of “run” and the                output of “look twice” leads to “RUN” + “LOOK” * 2. So the output of “run and look twice” is “RUN” +                “LOOK” * 2.                Q: “jump right thrice”                A: The output of “jump right thrice” concatenates: the output of “jump right”, the output of “jump                right”, the output of “jump right”. “jump right” outputs “TURN RIGHT” + “JUMP”. So repeating the                output of “jump right” three times leads to (“TURN RIGHT” + “JUMP”) * 3. So the output of “jump                right thrice” is (“TURN RIGHT” + “JUMP”) * 3.                Q: “walk after run”                A: The output of “walk after run” concatenates: the output of “run”, the output of “walk”. “run” outputs                “RUN”. “walk” outputs “WALK”. So concatenating the output of “run” and the output of “walk” leads to                “RUN” + “WALK”. So the output of “walk after run” is “RUN” + “WALK”.                Q: “turn opposite left”                A: The output of “turn opposite left” concatenates: the output of “turn left”, the output of “turn left”.                “turn left” outputs “TURN LEFT”. So repeating the output of “turn left” twice leads to “TURN LEFT” *                2. So the output of “turn opposite left” is “TURN LEFT” * 2.                Q: “turn around left”                A: The output of “turn around left” concatenates: the output of “turn left”, the output of “turn left”, the                output of “turn left”, the output of “turn left”. “turn left” outputs “TURN LEFT”. So repeating the output                of “turn left” four times leads to “TURN LEFT” * 4. So the output of “turn around left” is “TURN LEFT”                * 4.                Q: “turn opposite right”                A: The output of “turn opposite right” concatenates: the output of “turn right”, the output of “turn                right”. “turn right” outputs “TURN RIGHT”. So repeating the output of “turn right” twice leads to                “TURN RIGHT” * 2. So the output of “turn opposite right” is “TURN RIGHT” * 2.                Q: “turn around right”                A: The output of “turn around right” concatenates: the output of “turn right”, the output of “turn right”,                the output of “turn right”, the output of “turn right”. “turn right” outputs “TURN RIGHT”. So repeating                the output of “turn right” four times leads to “TURN RIGHT” * 4. So the output of “turn around right”                is “TURN RIGHT” * 4.                Q: “walk opposite left”                A: The output of “walk opposite left” concatenates: the output of “turn opposite left”, the output of                “walk”. “turn opposite left” outputs “TURN LEFT” * 2. “walk” outputs “WALK”. So concatenating the                output of “turn opposite left” and the output of “walk” leads to “TURN LEFT” * 2 + “WALK”. So the                output of “walk opposite left” is “TURN LEFT” * 2 + “WALK”.                Q: “walk around left”                A: The output of “walk around left” concatenates: the output of “walk left”, the output of “walk left”,                the output of “walk left”, the output of “walk left”. “walk left” outputs “TURN LEFT” + “WALK”. So                repeating the output of “walk around left” four times leads to (“TURN LEFT” + “WALK”) * 4. So the                output of “walk around left” is (“TURN LEFT” + “WALK”) * 4.               '"
      ]
     },
     "execution_count": 256,
     "metadata": {},
     "output_type": "execute_result"
    }
   ],
   "source": [
    "# 字符串是不可变对象，通过等号即可完成深度复制\n",
    "CM_Few_shot_temp = CM_Few_shot\n",
    "CM_Few_shot_temp"
   ]
  },
  {
   "cell_type": "code",
   "execution_count": 257,
   "id": "7b2969af-328f-4d4d-82a9-3b4c715066be",
   "metadata": {
    "tags": []
   },
   "outputs": [
    {
     "data": {
      "text/plain": [
       "['turn opposite right', 'turn opposite right thrice', 'turn opposite left']"
      ]
     },
     "execution_count": 257,
     "metadata": {},
     "output_type": "execute_result"
    }
   ],
   "source": [
    "sub_qs = CD_result\n",
    "sub_qs"
   ]
  },
  {
   "cell_type": "code",
   "execution_count": 258,
   "id": "28fb3afb-d5df-4976-b8ed-5a7d09dd7e79",
   "metadata": {
    "tags": []
   },
   "outputs": [],
   "source": [
    "from tqdm import tqdm"
   ]
  },
  {
   "cell_type": "code",
   "execution_count": 259,
   "id": "4d3b8d2c-cf80-421a-b396-696acb031907",
   "metadata": {
    "tags": []
   },
   "outputs": [
    {
     "name": "stderr",
     "output_type": "stream",
     "text": [
      "100%|████████████████████████████████████████████████████████████████████████████████████████████| 3/3 [00:00<?, ?it/s]"
     ]
    },
    {
     "name": "stdout",
     "output_type": "stream",
     "text": [
      "turn opposite right\n",
      "turn opposite right thrice\n",
      "turn opposite left\n"
     ]
    },
    {
     "name": "stderr",
     "output_type": "stream",
     "text": [
      "\n"
     ]
    }
   ],
   "source": [
    "for qs in tqdm(sub_qs):\n",
    "    print(qs)"
   ]
  },
  {
   "cell_type": "code",
   "execution_count": 261,
   "id": "a799e600-9428-42c2-8a51-30a1469e10e1",
   "metadata": {
    "tags": []
   },
   "outputs": [
    {
     "name": "stderr",
     "output_type": "stream",
     "text": [
      "100%|████████████████████████████████████████████████████████████████████████████████████| 3/3 [00:08<00:00,  2.97s/it]\n"
     ]
    }
   ],
   "source": [
    "for qs in tqdm(sub_qs):\n",
    "    CM_Few_shot_temp += 'Q:“%s” A：' % qs\n",
    "    response_CM = openai.Completion.create(\n",
    "                        model=\"text-davinci-003\",\n",
    "                        prompt=CM_Few_shot_temp,\n",
    "                        temperature=0.5,\n",
    "                        max_tokens=1000,\n",
    "                        )\n",
    "    CM_Few_shot_temp += response_CM[\"choices\"][0][\"text\"].strip()"
   ]
  },
  {
   "cell_type": "code",
   "execution_count": 247,
   "id": "327558dd-228d-4bf1-a113-087e201a3456",
   "metadata": {
    "collapsed": true,
    "jupyter": {
     "outputs_hidden": true
    },
    "tags": []
   },
   "outputs": [
    {
     "data": {
      "text/plain": [
       "'Q: “turn left”                A: “turn left” outputs “TURN LEFT”.                Q: “turn right”                A: “turn right” outputs “TURN RIGHT”.                Q: “jump left”                A: The output of “jump left” concatenates: the output of “turn left”, the output of “jump”. “turn left”                outputs “TURN LEFT”. “jump” outputs “JUMP”. So concatenating the output of “turn left” and the output of “jump” leads to “TURN LEFT” + “JUMP”. So the output of “jump left” is “TURN LEFT” + “JUMP”.                Q: “run right”                A: The output of “run right” concatenates: the output of “turn right”, the output of “run”. “turn right”                outputs “TURN RIGHT”. “run” outputs “RUN”. So concatenating the output of “turn right” and the                output of “run” leads to “TURN RIGHT” + “RUN”. So the output of “run right” is “TURN RIGHT” +                “RUN”.                Q: “look twice”                A: The output of “look twice” concatenates: the output of “look”, the output of “look”. “look” outputs                “LOOK”. So repeating the output of “look” two times leads to “LOOK” * 2. So the output of “look                twice” is “LOOK” * 2.                Q: “run and look twice”                A: The output of “run and look twice” concatenates: the output of “run”, the output of “look twice”.                “run” outputs “RUN”. “look twice” outputs “LOOK” * 2. So concatenating the output of “run” and the                output of “look twice” leads to “RUN” + “LOOK” * 2. So the output of “run and look twice” is “RUN” +                “LOOK” * 2.                Q: “jump right thrice”                A: The output of “jump right thrice” concatenates: the output of “jump right”, the output of “jump                right”, the output of “jump right”. “jump right” outputs “TURN RIGHT” + “JUMP”. So repeating the                output of “jump right” three times leads to (“TURN RIGHT” + “JUMP”) * 3. So the output of “jump                right thrice” is (“TURN RIGHT” + “JUMP”) * 3.                Q: “walk after run”                A: The output of “walk after run” concatenates: the output of “run”, the output of “walk”. “run” outputs                “RUN”. “walk” outputs “WALK”. So concatenating the output of “run” and the output of “walk” leads to                “RUN” + “WALK”. So the output of “walk after run” is “RUN” + “WALK”.                Q: “turn opposite left”                A: The output of “turn opposite left” concatenates: the output of “turn left”, the output of “turn left”.                “turn left” outputs “TURN LEFT”. So repeating the output of “turn left” twice leads to “TURN LEFT” *                2. So the output of “turn opposite left” is “TURN LEFT” * 2.                Q: “turn around left”                A: The output of “turn around left” concatenates: the output of “turn left”, the output of “turn left”, the                output of “turn left”, the output of “turn left”. “turn left” outputs “TURN LEFT”. So repeating the output                of “turn left” four times leads to “TURN LEFT” * 4. So the output of “turn around left” is “TURN LEFT”                * 4.                Q: “turn opposite right”                A: The output of “turn opposite right” concatenates: the output of “turn right”, the output of “turn                right”. “turn right” outputs “TURN RIGHT”. So repeating the output of “turn right” twice leads to                “TURN RIGHT” * 2. So the output of “turn opposite right” is “TURN RIGHT” * 2.                Q: “turn around right”                A: The output of “turn around right” concatenates: the output of “turn right”, the output of “turn right”,                the output of “turn right”, the output of “turn right”. “turn right” outputs “TURN RIGHT”. So repeating                the output of “turn right” four times leads to “TURN RIGHT” * 4. So the output of “turn around right”                is “TURN RIGHT” * 4.                Q: “walk opposite left”                A: The output of “walk opposite left” concatenates: the output of “turn opposite left”, the output of                “walk”. “turn opposite left” outputs “TURN LEFT” * 2. “walk” outputs “WALK”. So concatenating the                output of “turn opposite left” and the output of “walk” leads to “TURN LEFT” * 2 + “WALK”. So the                output of “walk opposite left” is “TURN LEFT” * 2 + “WALK”.                Q: “walk around left”                A: The output of “walk around left” concatenates: the output of “walk left”, the output of “walk left”,                the output of “walk left”, the output of “walk left”. “walk left” outputs “TURN LEFT” + “WALK”. So                repeating the output of “walk around left” four times leads to (“TURN LEFT” + “WALK”) * 4. So the                output of “walk around left” is (“TURN LEFT” + “WALK”) * 4.               Q:“turn opposite right” A：Q:“turn opposite right” A：Q:“turn opposite left” A：Q:“turn opposite left” A：Q:“turn opposite right” A：The output of “turn opposite right” concatenates: the output of “turn right”, the output of “turn right”. “turn right” outputs “TURN RIGHT”. So repeating the output of “turn right” twice leads to “TURN RIGHT” * 2. So the output of “turn opposite right” is “TURN RIGHT” * 2.Q:“turn opposite right thrice” A：The output of “turn opposite right thrice” concatenates: the output of “turn right”, the output of “turn right”, the output of “turn right”. “turn right” outputs “TURN RIGHT”. So repeating the output of “turn right” three times leads to “TURN RIGHT” * 3. So the output of “turn opposite right thrice” is “TURN RIGHT” * 3.Q:“turn opposite left” A：The output of “turn opposite left” concatenates: the output of “turn left”, the output of “turn left”. “turn left” outputs “TURN LEFT”. So repeating the output of “turn left” twice leads to “TURN LEFT” * 2. So the output of “turn opposite left” is “TURN LEFT” * 2.'"
      ]
     },
     "execution_count": 247,
     "metadata": {},
     "output_type": "execute_result"
    }
   ],
   "source": [
    "CM_Few_shot_temp"
   ]
  },
  {
   "cell_type": "markdown",
   "id": "f8a22670-898e-4522-b349-a5ea87eed723",
   "metadata": {},
   "source": [
    "- 对原始问题提问："
   ]
  },
  {
   "cell_type": "code",
   "execution_count": 262,
   "id": "247b1263-7c01-4e60-b126-21f37add4644",
   "metadata": {
    "tags": []
   },
   "outputs": [
    {
     "data": {
      "text/plain": [
       "'turn opposite right thrice and turn opposite left'"
      ]
     },
     "execution_count": 262,
     "metadata": {},
     "output_type": "execute_result"
    }
   ],
   "source": [
    "data['commands']"
   ]
  },
  {
   "cell_type": "code",
   "execution_count": 263,
   "id": "a705c0f7-1374-47b8-99f1-556964a8c9d2",
   "metadata": {
    "tags": []
   },
   "outputs": [
    {
     "data": {
      "text/plain": [
       "'Q: “turn left”                A: “turn left” outputs “TURN LEFT”.                Q: “turn right”                A: “turn right” outputs “TURN RIGHT”.                Q: “jump left”                A: The output of “jump left” concatenates: the output of “turn left”, the output of “jump”. “turn left”                outputs “TURN LEFT”. “jump” outputs “JUMP”. So concatenating the output of “turn left” and the output of “jump” leads to “TURN LEFT” + “JUMP”. So the output of “jump left” is “TURN LEFT” + “JUMP”.                Q: “run right”                A: The output of “run right” concatenates: the output of “turn right”, the output of “run”. “turn right”                outputs “TURN RIGHT”. “run” outputs “RUN”. So concatenating the output of “turn right” and the                output of “run” leads to “TURN RIGHT” + “RUN”. So the output of “run right” is “TURN RIGHT” +                “RUN”.                Q: “look twice”                A: The output of “look twice” concatenates: the output of “look”, the output of “look”. “look” outputs                “LOOK”. So repeating the output of “look” two times leads to “LOOK” * 2. So the output of “look                twice” is “LOOK” * 2.                Q: “run and look twice”                A: The output of “run and look twice” concatenates: the output of “run”, the output of “look twice”.                “run” outputs “RUN”. “look twice” outputs “LOOK” * 2. So concatenating the output of “run” and the                output of “look twice” leads to “RUN” + “LOOK” * 2. So the output of “run and look twice” is “RUN” +                “LOOK” * 2.                Q: “jump right thrice”                A: The output of “jump right thrice” concatenates: the output of “jump right”, the output of “jump                right”, the output of “jump right”. “jump right” outputs “TURN RIGHT” + “JUMP”. So repeating the                output of “jump right” three times leads to (“TURN RIGHT” + “JUMP”) * 3. So the output of “jump                right thrice” is (“TURN RIGHT” + “JUMP”) * 3.                Q: “walk after run”                A: The output of “walk after run” concatenates: the output of “run”, the output of “walk”. “run” outputs                “RUN”. “walk” outputs “WALK”. So concatenating the output of “run” and the output of “walk” leads to                “RUN” + “WALK”. So the output of “walk after run” is “RUN” + “WALK”.                Q: “turn opposite left”                A: The output of “turn opposite left” concatenates: the output of “turn left”, the output of “turn left”.                “turn left” outputs “TURN LEFT”. So repeating the output of “turn left” twice leads to “TURN LEFT” *                2. So the output of “turn opposite left” is “TURN LEFT” * 2.                Q: “turn around left”                A: The output of “turn around left” concatenates: the output of “turn left”, the output of “turn left”, the                output of “turn left”, the output of “turn left”. “turn left” outputs “TURN LEFT”. So repeating the output                of “turn left” four times leads to “TURN LEFT” * 4. So the output of “turn around left” is “TURN LEFT”                * 4.                Q: “turn opposite right”                A: The output of “turn opposite right” concatenates: the output of “turn right”, the output of “turn                right”. “turn right” outputs “TURN RIGHT”. So repeating the output of “turn right” twice leads to                “TURN RIGHT” * 2. So the output of “turn opposite right” is “TURN RIGHT” * 2.                Q: “turn around right”                A: The output of “turn around right” concatenates: the output of “turn right”, the output of “turn right”,                the output of “turn right”, the output of “turn right”. “turn right” outputs “TURN RIGHT”. So repeating                the output of “turn right” four times leads to “TURN RIGHT” * 4. So the output of “turn around right”                is “TURN RIGHT” * 4.                Q: “walk opposite left”                A: The output of “walk opposite left” concatenates: the output of “turn opposite left”, the output of                “walk”. “turn opposite left” outputs “TURN LEFT” * 2. “walk” outputs “WALK”. So concatenating the                output of “turn opposite left” and the output of “walk” leads to “TURN LEFT” * 2 + “WALK”. So the                output of “walk opposite left” is “TURN LEFT” * 2 + “WALK”.                Q: “walk around left”                A: The output of “walk around left” concatenates: the output of “walk left”, the output of “walk left”,                the output of “walk left”, the output of “walk left”. “walk left” outputs “TURN LEFT” + “WALK”. So                repeating the output of “walk around left” four times leads to (“TURN LEFT” + “WALK”) * 4. So the                output of “walk around left” is (“TURN LEFT” + “WALK”) * 4.               Q:“turn opposite right” A：The output of “turn opposite right” concatenates: the output of “turn right”, the output of “turn right”. “turn right” outputs “TURN RIGHT”. So repeating the output of “turn right” twice leads to “TURN RIGHT” * 2. So the output of “turn opposite right” is “TURN RIGHT” * 2.Q:“turn opposite right thrice” A：The output of “turn opposite right thrice” concatenates: the output of “turn right”, the output of “turn right”, the output of “turn right”. “turn right” outputs “TURN RIGHT”. So repeating the output of “turn right” three times leads to “TURN RIGHT” * 3. So the output of “turn opposite right thrice” is “TURN RIGHT” * 3.Q:“turn opposite left” A：The output of “turn opposite left” concatenates: the output of “turn left”, the output of “turn left”. “turn left” outputs “TURN LEFT”. So repeating the output of “turn left” twice leads to “TURN LEFT” * 2. So the output of “turn opposite left” is “TURN LEFT” * 2.Q：“turn opposite right thrice and turn opposite left” A:'"
      ]
     },
     "execution_count": 263,
     "metadata": {},
     "output_type": "execute_result"
    }
   ],
   "source": [
    "prompt_CM = CM_Few_shot_temp + 'Q：“%s” A:' % data['commands']\n",
    "prompt_CM"
   ]
  },
  {
   "cell_type": "code",
   "execution_count": 264,
   "id": "359f01df-24e1-4001-b198-f1abc4988083",
   "metadata": {
    "tags": []
   },
   "outputs": [],
   "source": [
    "response_CM = openai.Completion.create(\n",
    "              model=\"text-davinci-003\",\n",
    "              prompt=prompt_CM,\n",
    "              temperature=0.5,\n",
    "              max_tokens=1000,\n",
    "              )"
   ]
  },
  {
   "cell_type": "markdown",
   "id": "1dcb280e-409d-418f-83b7-1bc0139dfe1c",
   "metadata": {},
   "source": [
    "并提取最终预测结果："
   ]
  },
  {
   "cell_type": "code",
   "execution_count": 266,
   "id": "47326f84-d68e-405f-8c7f-83ff25f6dd15",
   "metadata": {
    "tags": []
   },
   "outputs": [
    {
     "data": {
      "text/plain": [
       "'The output of “turn opposite right thrice and turn opposite left” concatenates: the output of “turn opposite right thrice”, the output of “turn opposite left”. “turn opposite right thrice” outputs “TURN RIGHT” * 3. “turn opposite left” outputs “TURN LEFT” * 2. So concatenating the output of “turn opposite right thrice” and the output of “turn opposite left” leads to “TURN RIGHT” * 3 + “TURN LEFT” * 2. So the output of “turn opposite right thrice and turn opposite left” is (“TURN RIGHT” * 3) * 2 + “TURN LEFT” * 2.'"
      ]
     },
     "execution_count": 266,
     "metadata": {},
     "output_type": "execute_result"
    }
   ],
   "source": [
    "CM_result = response_CM[\"choices\"][0][\"text\"].strip()\n",
    "CM_result"
   ]
  },
  {
   "cell_type": "code",
   "execution_count": 255,
   "id": "20c818d2-d00a-4e38-9912-907cb0c9b19e",
   "metadata": {
    "tags": []
   },
   "outputs": [
    {
     "data": {
      "text/plain": [
       "{'commands': 'turn opposite right thrice and turn opposite left',\n",
       " 'actions': 'I_TURN_RIGHT I_TURN_RIGHT I_TURN_RIGHT I_TURN_RIGHT I_TURN_RIGHT I_TURN_RIGHT I_TURN_LEFT I_TURN_LEFT'}"
      ]
     },
     "execution_count": 255,
     "metadata": {},
     "output_type": "execute_result"
    }
   ],
   "source": [
    "data"
   ]
  },
  {
   "cell_type": "code",
   "execution_count": 254,
   "id": "0e1a345d-dea5-41ac-9e5d-1c27ffd9c6cf",
   "metadata": {
    "tags": []
   },
   "outputs": [
    {
     "data": {
      "text/plain": [
       "'I_TURN_RIGHT I_TURN_RIGHT I_TURN_RIGHT I_TURN_RIGHT I_TURN_RIGHT I_TURN_RIGHT I_TURN_LEFT I_TURN_LEFT'"
      ]
     },
     "execution_count": 254,
     "metadata": {},
     "output_type": "execute_result"
    }
   ],
   "source": [
    "data['actions']"
   ]
  },
  {
   "cell_type": "markdown",
   "id": "c5e8c696-4748-4028-995c-c11bd3abb2ed",
   "metadata": {},
   "source": [
    "能够发现，模型能够顺利完成预测。接下来，通过如下函数进一步将CM_result输出结果转化为I_格式对象："
   ]
  },
  {
   "cell_type": "code",
   "execution_count": 275,
   "id": "244759f2-9c44-457a-9ba4-2363d7a7d938",
   "metadata": {
    "tags": []
   },
   "outputs": [
    {
     "data": {
      "text/plain": [
       "'I_TURN_RIGHT I_TURN_RIGHT I_TURN_RIGHT I_TURN_RIGHT I_TURN_RIGHT I_TURN_RIGHT I_TURN_LEFT I_TURN_LEFT'"
      ]
     },
     "execution_count": 275,
     "metadata": {},
     "output_type": "execute_result"
    }
   ],
   "source": [
    "transform_expression(CM_result)"
   ]
  },
  {
   "cell_type": "markdown",
   "id": "eba08429-cd4c-4482-9c69-d8a8606cc9c7",
   "metadata": {},
   "source": [
    "- 完整函数封装"
   ]
  },
  {
   "cell_type": "markdown",
   "id": "e8740680-e7d9-40d0-b8be-7790a020feac",
   "metadata": {},
   "source": [
    "&emsp;&emsp;接下来，我们把上述步骤进行完整流程的封装，这里需要提前准备两个阶段的Few-shot提示示例："
   ]
  },
  {
   "cell_type": "code",
   "execution_count": 216,
   "id": "5cd6da03-8e3a-4532-97cd-6f9397ca7d97",
   "metadata": {
    "tags": []
   },
   "outputs": [],
   "source": [
    "CD_Few_shot = 'Q: “look right after look twice” \\\n",
    "               A: “look right after look twice” can be solved by: “look right”, “look twice”. \\\n",
    "               Q: “jump opposite right thrice and walk” \\\n",
    "               A: “jump opposite right thrice” can be solved by: “jump opposite right”, “jump opposite right thrice”. \\\n",
    "               “walk” can be solved by: “walk”. So, “jump opposite right thrice and walk” can be solved by: “jump \\\n",
    "               opposite right”, “jump opposite right thrice”, “walk”. \\\n",
    "               Q: “run left twice and run right” \\\n",
    "               A: “run left twice” can be solved by: “run left”, “run left twice”. “run right” can be solved by “run right”. \\\n",
    "               So, “run left twice and run right” can.be solved by: “run left”, “run left twice”, “run right”. \\\n",
    "               Q: “run opposite right” \\\n",
    "               A: “run opposite right” can be solved by “run opposite right”. \\\n",
    "               Q: “look opposite right thrice after walk” \\\n",
    "               A: “look opposite right thrice” can be solved by: “look opposite right”, “look opposite right thrice”. \\\n",
    "               “walk” can be solved by “walk”. So, “look opposite right thrice after walk” can be solved by: “look \\\n",
    "               opposite right”, “look opposite right thrice”, “walk”. \\\n",
    "               Q: “jump around right” \\\n",
    "               A: “jump around right” can be solved by: “jump right”, “jump around right”. So, “jump around right” \\\n",
    "               can be solved by: “jump right”, “jump around right”. \\\n",
    "               Q: “look around right thrice and walk” \\\n",
    "               A: “look around right thrice” can be solved by: “look right”, “look around right”, “look around right \\\n",
    "               thrice”. “walk” can be solved by “walk”. So, “look around right thrice and walk” can be solved by: \\\n",
    "               “look right”, “look around right”, “look around right thrice”, “walk”. \\\n",
    "               Q: “turn right after run right thrice” \\\n",
    "               A: “turn right” can be solved by: “turn right”. “run right thrice” can be solved by: “run right”, “run \\\n",
    "               right thrice”. So, “turn right after run right thrice” can be solved by: “turn right”, “run right”, “run right \\\n",
    "               thrice”. \\\n",
    "               '"
   ]
  },
  {
   "cell_type": "code",
   "execution_count": 218,
   "id": "22bd0e04-7609-4a91-8e0f-019733d3ae6d",
   "metadata": {
    "tags": []
   },
   "outputs": [],
   "source": [
    "CM_Few_shot = 'Q: “turn left” \\\n",
    "               A: “turn left” outputs “TURN LEFT”. \\\n",
    "               Q: “turn right” \\\n",
    "               A: “turn right” outputs “TURN RIGHT”. \\\n",
    "               Q: “jump left” \\\n",
    "               A: The output of “jump left” concatenates: the output of “turn left”, the output of “jump”. “turn left” \\\n",
    "               outputs “TURN LEFT”. “jump” outputs “JUMP”. So concatenating the output of “turn left” and the output of “jump” leads to “TURN LEFT” + “JUMP”. So the output of “jump left” is “TURN LEFT” + “JUMP”. \\\n",
    "               Q: “run right” \\\n",
    "               A: The output of “run right” concatenates: the output of “turn right”, the output of “run”. “turn right” \\\n",
    "               outputs “TURN RIGHT”. “run” outputs “RUN”. So concatenating the output of “turn right” and the \\\n",
    "               output of “run” leads to “TURN RIGHT” + “RUN”. So the output of “run right” is “TURN RIGHT” + \\\n",
    "               “RUN”. \\\n",
    "               Q: “look twice” \\\n",
    "               A: The output of “look twice” concatenates: the output of “look”, the output of “look”. “look” outputs \\\n",
    "               “LOOK”. So repeating the output of “look” two times leads to “LOOK” * 2. So the output of “look \\\n",
    "               twice” is “LOOK” * 2. \\\n",
    "               Q: “run and look twice” \\\n",
    "               A: The output of “run and look twice” concatenates: the output of “run”, the output of “look twice”. \\\n",
    "               “run” outputs “RUN”. “look twice” outputs “LOOK” * 2. So concatenating the output of “run” and the \\\n",
    "               output of “look twice” leads to “RUN” + “LOOK” * 2. So the output of “run and look twice” is “RUN” + \\\n",
    "               “LOOK” * 2. \\\n",
    "               Q: “jump right thrice” \\\n",
    "               A: The output of “jump right thrice” concatenates: the output of “jump right”, the output of “jump \\\n",
    "               right”, the output of “jump right”. “jump right” outputs “TURN RIGHT” + “JUMP”. So repeating the \\\n",
    "               output of “jump right” three times leads to (“TURN RIGHT” + “JUMP”) * 3. So the output of “jump \\\n",
    "               right thrice” is (“TURN RIGHT” + “JUMP”) * 3. \\\n",
    "               Q: “walk after run” \\\n",
    "               A: The output of “walk after run” concatenates: the output of “run”, the output of “walk”. “run” outputs \\\n",
    "               “RUN”. “walk” outputs “WALK”. So concatenating the output of “run” and the output of “walk” leads to \\\n",
    "               “RUN” + “WALK”. So the output of “walk after run” is “RUN” + “WALK”. \\\n",
    "               Q: “turn opposite left” \\\n",
    "               A: The output of “turn opposite left” concatenates: the output of “turn left”, the output of “turn left”. \\\n",
    "               “turn left” outputs “TURN LEFT”. So repeating the output of “turn left” twice leads to “TURN LEFT” * \\\n",
    "               2. So the output of “turn opposite left” is “TURN LEFT” * 2. \\\n",
    "               Q: “turn around left” \\\n",
    "               A: The output of “turn around left” concatenates: the output of “turn left”, the output of “turn left”, the \\\n",
    "               output of “turn left”, the output of “turn left”. “turn left” outputs “TURN LEFT”. So repeating the output \\\n",
    "               of “turn left” four times leads to “TURN LEFT” * 4. So the output of “turn around left” is “TURN LEFT” \\\n",
    "               * 4. \\\n",
    "               Q: “turn opposite right” \\\n",
    "               A: The output of “turn opposite right” concatenates: the output of “turn right”, the output of “turn \\\n",
    "               right”. “turn right” outputs “TURN RIGHT”. So repeating the output of “turn right” twice leads to \\\n",
    "               “TURN RIGHT” * 2. So the output of “turn opposite right” is “TURN RIGHT” * 2. \\\n",
    "               Q: “turn around right” \\\n",
    "               A: The output of “turn around right” concatenates: the output of “turn right”, the output of “turn right”, \\\n",
    "               the output of “turn right”, the output of “turn right”. “turn right” outputs “TURN RIGHT”. So repeating \\\n",
    "               the output of “turn right” four times leads to “TURN RIGHT” * 4. So the output of “turn around right” \\\n",
    "               is “TURN RIGHT” * 4. \\\n",
    "               Q: “walk opposite left” \\\n",
    "               A: The output of “walk opposite left” concatenates: the output of “turn opposite left”, the output of \\\n",
    "               “walk”. “turn opposite left” outputs “TURN LEFT” * 2. “walk” outputs “WALK”. So concatenating the \\\n",
    "               output of “turn opposite left” and the output of “walk” leads to “TURN LEFT” * 2 + “WALK”. So the \\\n",
    "               output of “walk opposite left” is “TURN LEFT” * 2 + “WALK”. \\\n",
    "               Q: “walk around left” \\\n",
    "               A: The output of “walk around left” concatenates: the output of “walk left”, the output of “walk left”, \\\n",
    "               the output of “walk left”, the output of “walk left”. “walk left” outputs “TURN LEFT” + “WALK”. So \\\n",
    "               repeating the output of “walk around left” four times leads to (“TURN LEFT” + “WALK”) * 4. So the \\\n",
    "               output of “walk around left” is (“TURN LEFT” + “WALK”) * 4. \\\n",
    "              '"
   ]
  },
  {
   "cell_type": "markdown",
   "id": "042e0184-b5d5-432e-b5d1-a0e13d145356",
   "metadata": {},
   "source": [
    "然后定义辅助函数，分别用于进行子问题的提取和最终问题结果的翻译："
   ]
  },
  {
   "cell_type": "code",
   "execution_count": 294,
   "id": "c05768a4-2b95-4dc1-96d2-62e422271bcf",
   "metadata": {
    "tags": []
   },
   "outputs": [],
   "source": [
    "def extract_phrases(text):\n",
    "    # 查找最后一个 \"solved by:\" 后面的所有内容\n",
    "    last_solved_by = text.rsplit(\"solved by:\", 1)[-1]\n",
    "    \n",
    "    # 使用正则表达式提取引号中的短语\n",
    "    phrases = re.findall(r'“([^”]*)”', last_solved_by)\n",
    "    \n",
    "    return phrases"
   ]
  },
  {
   "cell_type": "code",
   "execution_count": 269,
   "id": "8a90820f-e31e-4dcf-9eac-3f25750be920",
   "metadata": {
    "tags": []
   },
   "outputs": [],
   "source": [
    "import re\n",
    "\n",
    "def transform_expression(s):\n",
    "    # Regular expression pattern\n",
    "    pattern = r'is “.*'\n",
    "\n",
    "    # Find the match\n",
    "    match = re.search(pattern, s) \n",
    "    \n",
    "    s = match.group()[3: -1].replace('“', '\"').replace('”', '\"')\n",
    "    # Step 1: Handle multiplications\n",
    "    pattern = r'\"([^\"]+)\" \\* (\\d+)'\n",
    "    matches = re.findall(pattern, s)\n",
    "    for match in matches:\n",
    "        replacement = ' '.join([f'\"{match[0]}\"'] * int(match[1]))\n",
    "        s = s.replace(f'\"{match[0]}\" * {match[1]}', replacement)\n",
    "\n",
    "    # Step 2: Replace spaces within quotes with underscores\n",
    "    pattern = r'\"([^\"]+)\"'\n",
    "    matches = re.findall(pattern, s)\n",
    "    for match in matches:\n",
    "        replacement = match.replace(' ', '_')\n",
    "        s = s.replace(f'\"{match}\"', f'\"{replacement}\"')\n",
    "\n",
    "    # Step 3: Add 'I_' prefix within quotes\n",
    "    pattern = r'\"([^\"]+)\"'\n",
    "    matches = re.findall(pattern, s)\n",
    "    for match in matches:\n",
    "        replacement = 'I_' + match\n",
    "        s = s.replace(f'\"{match}\"', f'\"{replacement}\"')\n",
    "\n",
    "    # Step 4: Remove quotes\n",
    "    s = s.replace('\"', '')\n",
    "    s = s.replace(' +', '')\n",
    "\n",
    "    return s"
   ]
  },
  {
   "cell_type": "markdown",
   "id": "33d510fc-a3f7-4757-a365-0914160a5175",
   "metadata": {},
   "source": [
    "然后是每条数据的预测过程："
   ]
  },
  {
   "cell_type": "code",
   "execution_count": 293,
   "id": "bad19203-12b0-4e7c-8956-5f80e1601416",
   "metadata": {
    "tags": []
   },
   "outputs": [],
   "source": [
    "def SCAN_predict(dataSet=scan_test, model=\"text-davinci-003\", CD_Few_shot=CD_Few_shot, CM_Few_shot=CM_Few_shot):\n",
    "    # 转化为dataframe\n",
    "    data_frame = dataSet.to_pandas()\n",
    "    # 最后一列标记为unkown\n",
    "    data_frame['actions_predict'] = 'unkown'\n",
    "    # 在字典中循环\n",
    "    for i,data in enumerate(dataSet):\n",
    "        # 阶段一：拆解命令\n",
    "        prompt_CD = CD_Few_shot + 'Q：“%s” A:' % data['commands']\n",
    "        response_CD = openai.Completion.create(\n",
    "              model=\"text-davinci-003\",\n",
    "              prompt=prompt_CD,\n",
    "              temperature=0.5,\n",
    "              max_tokens=1000\n",
    "              )\n",
    "        # 拆解命令结果\n",
    "        CD_result = extract_phrases(response_CD[\"choices\"][0][\"text\"].strip())\n",
    "        # 阶段二：短命令翻译\n",
    "        CM_Few_shot_temp = CM_Few_shot\n",
    "        sub_qs = CD_result\n",
    "        for qs in sub_qs:\n",
    "            CM_Few_shot_temp += 'Q:“%s” A：' % qs\n",
    "            response_CM = openai.Completion.create(\n",
    "                                model=\"text-davinci-003\",\n",
    "                                prompt=CM_Few_shot_temp,\n",
    "                                temperature=0.5,\n",
    "                                max_tokens=1000,\n",
    "                                )\n",
    "            CM_Few_shot_temp += response_CM[\"choices\"][0][\"text\"].strip()\n",
    "        # 对原始问题提问\n",
    "        prompt_CM = CM_Few_shot_temp + 'Q：“%s” A:' % data['commands']\n",
    "        response_CM = openai.Completion.create(\n",
    "              model=\"text-davinci-003\",\n",
    "              prompt=prompt_CM,\n",
    "              temperature=0.5,\n",
    "              max_tokens=1000,\n",
    "              )\n",
    "        # 将结果保存在dataframe的对应位置\n",
    "        data_frame['actions_predict'][i] = transform_expression(CM_result)\n",
    "        \n",
    "    return data_frame"
   ]
  },
  {
   "cell_type": "code",
   "execution_count": 286,
   "id": "6c0823e1-9657-4ee9-9c26-549c93221307",
   "metadata": {
    "tags": []
   },
   "outputs": [],
   "source": [
    "data_frame = scan_test.to_pandas()\n",
    "data_frame['actions_predict'] = 'unkown'"
   ]
  },
  {
   "cell_type": "code",
   "execution_count": 291,
   "id": "a1783164-ba81-4c91-8e03-9ba67367c542",
   "metadata": {
    "tags": []
   },
   "outputs": [
    {
     "data": {
      "text/plain": [
       "'unkown'"
      ]
     },
     "execution_count": 291,
     "metadata": {},
     "output_type": "execute_result"
    }
   ],
   "source": [
    "data_frame['actions_predict'][1]"
   ]
  },
  {
   "cell_type": "code",
   "execution_count": 287,
   "id": "11b7879c-82d3-46dd-96a1-08fd73e43b6e",
   "metadata": {
    "tags": []
   },
   "outputs": [
    {
     "data": {
      "text/html": [
       "<div>\n",
       "<style scoped>\n",
       "    .dataframe tbody tr th:only-of-type {\n",
       "        vertical-align: middle;\n",
       "    }\n",
       "\n",
       "    .dataframe tbody tr th {\n",
       "        vertical-align: top;\n",
       "    }\n",
       "\n",
       "    .dataframe thead th {\n",
       "        text-align: right;\n",
       "    }\n",
       "</style>\n",
       "<table border=\"1\" class=\"dataframe\">\n",
       "  <thead>\n",
       "    <tr style=\"text-align: right;\">\n",
       "      <th></th>\n",
       "      <th>commands</th>\n",
       "      <th>actions</th>\n",
       "      <th>actions_predict</th>\n",
       "    </tr>\n",
       "  </thead>\n",
       "  <tbody>\n",
       "    <tr>\n",
       "      <th>0</th>\n",
       "      <td>turn opposite right thrice and turn opposite left</td>\n",
       "      <td>I_TURN_RIGHT I_TURN_RIGHT I_TURN_RIGHT I_TURN_...</td>\n",
       "      <td>unkown</td>\n",
       "    </tr>\n",
       "    <tr>\n",
       "      <th>1</th>\n",
       "      <td>run right twice after walk right twice</td>\n",
       "      <td>I_TURN_RIGHT I_WALK I_TURN_RIGHT I_WALK I_TURN...</td>\n",
       "      <td>unkown</td>\n",
       "    </tr>\n",
       "    <tr>\n",
       "      <th>2</th>\n",
       "      <td>look around right twice and turn left thrice</td>\n",
       "      <td>I_TURN_RIGHT I_LOOK I_TURN_RIGHT I_LOOK I_TURN...</td>\n",
       "      <td>unkown</td>\n",
       "    </tr>\n",
       "    <tr>\n",
       "      <th>3</th>\n",
       "      <td>jump around left thrice and run right thrice</td>\n",
       "      <td>I_TURN_LEFT I_JUMP I_TURN_LEFT I_JUMP I_TURN_L...</td>\n",
       "      <td>unkown</td>\n",
       "    </tr>\n",
       "    <tr>\n",
       "      <th>4</th>\n",
       "      <td>run thrice and walk opposite left</td>\n",
       "      <td>I_RUN I_RUN I_RUN I_TURN_LEFT I_TURN_LEFT I_WALK</td>\n",
       "      <td>unkown</td>\n",
       "    </tr>\n",
       "    <tr>\n",
       "      <th>...</th>\n",
       "      <td>...</td>\n",
       "      <td>...</td>\n",
       "      <td>...</td>\n",
       "    </tr>\n",
       "    <tr>\n",
       "      <th>4177</th>\n",
       "      <td>walk left and jump left twice</td>\n",
       "      <td>I_TURN_LEFT I_WALK I_TURN_LEFT I_JUMP I_TURN_L...</td>\n",
       "      <td>unkown</td>\n",
       "    </tr>\n",
       "    <tr>\n",
       "      <th>4178</th>\n",
       "      <td>jump around right twice after walk opposite ri...</td>\n",
       "      <td>I_TURN_RIGHT I_TURN_RIGHT I_WALK I_TURN_RIGHT ...</td>\n",
       "      <td>unkown</td>\n",
       "    </tr>\n",
       "    <tr>\n",
       "      <th>4179</th>\n",
       "      <td>walk after jump opposite right twice</td>\n",
       "      <td>I_TURN_RIGHT I_TURN_RIGHT I_JUMP I_TURN_RIGHT ...</td>\n",
       "      <td>unkown</td>\n",
       "    </tr>\n",
       "    <tr>\n",
       "      <th>4180</th>\n",
       "      <td>look right thrice and jump left</td>\n",
       "      <td>I_TURN_RIGHT I_LOOK I_TURN_RIGHT I_LOOK I_TURN...</td>\n",
       "      <td>unkown</td>\n",
       "    </tr>\n",
       "    <tr>\n",
       "      <th>4181</th>\n",
       "      <td>turn opposite right thrice and run opposite left</td>\n",
       "      <td>I_TURN_RIGHT I_TURN_RIGHT I_TURN_RIGHT I_TURN_...</td>\n",
       "      <td>unkown</td>\n",
       "    </tr>\n",
       "  </tbody>\n",
       "</table>\n",
       "<p>4182 rows × 3 columns</p>\n",
       "</div>"
      ],
      "text/plain": [
       "                                               commands  \\\n",
       "0     turn opposite right thrice and turn opposite left   \n",
       "1                run right twice after walk right twice   \n",
       "2          look around right twice and turn left thrice   \n",
       "3          jump around left thrice and run right thrice   \n",
       "4                     run thrice and walk opposite left   \n",
       "...                                                 ...   \n",
       "4177                      walk left and jump left twice   \n",
       "4178  jump around right twice after walk opposite ri...   \n",
       "4179               walk after jump opposite right twice   \n",
       "4180                    look right thrice and jump left   \n",
       "4181   turn opposite right thrice and run opposite left   \n",
       "\n",
       "                                                actions actions_predict  \n",
       "0     I_TURN_RIGHT I_TURN_RIGHT I_TURN_RIGHT I_TURN_...          unkown  \n",
       "1     I_TURN_RIGHT I_WALK I_TURN_RIGHT I_WALK I_TURN...          unkown  \n",
       "2     I_TURN_RIGHT I_LOOK I_TURN_RIGHT I_LOOK I_TURN...          unkown  \n",
       "3     I_TURN_LEFT I_JUMP I_TURN_LEFT I_JUMP I_TURN_L...          unkown  \n",
       "4      I_RUN I_RUN I_RUN I_TURN_LEFT I_TURN_LEFT I_WALK          unkown  \n",
       "...                                                 ...             ...  \n",
       "4177  I_TURN_LEFT I_WALK I_TURN_LEFT I_JUMP I_TURN_L...          unkown  \n",
       "4178  I_TURN_RIGHT I_TURN_RIGHT I_WALK I_TURN_RIGHT ...          unkown  \n",
       "4179  I_TURN_RIGHT I_TURN_RIGHT I_JUMP I_TURN_RIGHT ...          unkown  \n",
       "4180  I_TURN_RIGHT I_LOOK I_TURN_RIGHT I_LOOK I_TURN...          unkown  \n",
       "4181  I_TURN_RIGHT I_TURN_RIGHT I_TURN_RIGHT I_TURN_...          unkown  \n",
       "\n",
       "[4182 rows x 3 columns]"
      ]
     },
     "execution_count": 287,
     "metadata": {},
     "output_type": "execute_result"
    }
   ],
   "source": [
    "data_frame"
   ]
  },
  {
   "cell_type": "markdown",
   "id": "f4fe639a-35a9-446d-8137-68d5c2fc6267",
   "metadata": {},
   "source": [
    "最后，验证实际预测效果："
   ]
  },
  {
   "cell_type": "markdown",
   "id": "265a35e4-5237-4846-9a7f-9378f54fc24d",
   "metadata": {},
   "source": [
    "<span style=\"color:red\">**下列代码谨慎运行，可能会造成大量的费用**</span>"
   ]
  },
  {
   "cell_type": "code",
   "execution_count": 297,
   "id": "0321f05c-1ab9-4dcf-8ec1-9eb994122f27",
   "metadata": {
    "tags": []
   },
   "outputs": [
    {
     "data": {
      "text/html": [
       "<div>\n",
       "<style scoped>\n",
       "    .dataframe tbody tr th:only-of-type {\n",
       "        vertical-align: middle;\n",
       "    }\n",
       "\n",
       "    .dataframe tbody tr th {\n",
       "        vertical-align: top;\n",
       "    }\n",
       "\n",
       "    .dataframe thead th {\n",
       "        text-align: right;\n",
       "    }\n",
       "</style>\n",
       "<table border=\"1\" class=\"dataframe\">\n",
       "  <thead>\n",
       "    <tr style=\"text-align: right;\">\n",
       "      <th></th>\n",
       "      <th>commands</th>\n",
       "      <th>actions</th>\n",
       "      <th>actions_predict</th>\n",
       "    </tr>\n",
       "  </thead>\n",
       "  <tbody>\n",
       "    <tr>\n",
       "      <th>0</th>\n",
       "      <td>turn opposite right thrice and turn opposite left</td>\n",
       "      <td>I_TURN_RIGHT I_TURN_RIGHT I_TURN_RIGHT I_TURN_...</td>\n",
       "      <td>I_TURN_RIGHT I_TURN_RIGHT I_TURN_RIGHT I_TURN_...</td>\n",
       "    </tr>\n",
       "    <tr>\n",
       "      <th>1</th>\n",
       "      <td>run right twice after walk right twice</td>\n",
       "      <td>I_TURN_RIGHT I_WALK I_TURN_RIGHT I_WALK I_TURN...</td>\n",
       "      <td>I_TURN_RIGHT I_WALK I_TURN_RIGHT I_WALK I_TURN...</td>\n",
       "    </tr>\n",
       "    <tr>\n",
       "      <th>2</th>\n",
       "      <td>look around right twice and turn left thrice</td>\n",
       "      <td>I_TURN_RIGHT I_LOOK I_TURN_RIGHT I_LOOK I_TURN...</td>\n",
       "      <td>I_TURN_RIGHT I_LOOK I_TURN_RIGHT I_LOOK I_TURN...</td>\n",
       "    </tr>\n",
       "    <tr>\n",
       "      <th>3</th>\n",
       "      <td>jump around left thrice and run right thrice</td>\n",
       "      <td>I_TURN_LEFT I_JUMP I_TURN_LEFT I_JUMP I_TURN_L...</td>\n",
       "      <td>I_TURN_LEFT I_JUMP I_TURN_LEFT I_JUMP I_TURN_L...</td>\n",
       "    </tr>\n",
       "    <tr>\n",
       "      <th>4</th>\n",
       "      <td>run thrice and walk opposite left</td>\n",
       "      <td>I_RUN I_RUN I_RUN I_TURN_LEFT I_TURN_LEFT I_WALK</td>\n",
       "      <td>I_RUN I_RUN I_RUN I_TURN_LEFT I_TURN_LEFT I_WALK</td>\n",
       "    </tr>\n",
       "    <tr>\n",
       "      <th>...</th>\n",
       "      <td>...</td>\n",
       "      <td>...</td>\n",
       "      <td>...</td>\n",
       "    </tr>\n",
       "    <tr>\n",
       "      <th>4177</th>\n",
       "      <td>walk left and jump left twice</td>\n",
       "      <td>I_TURN_LEFT I_WALK I_TURN_LEFT I_JUMP I_TURN_L...</td>\n",
       "      <td>I_TURN_LEFT I_WALK I_TURN_LEFT I_JUMP I_TURN_L...</td>\n",
       "    </tr>\n",
       "    <tr>\n",
       "      <th>4178</th>\n",
       "      <td>jump around right twice after walk opposite ri...</td>\n",
       "      <td>I_TURN_RIGHT I_TURN_RIGHT I_WALK I_TURN_RIGHT ...</td>\n",
       "      <td>I_TURN_RIGHT I_TURN_RIGHT I_WALK I_TURN_RIGHT ...</td>\n",
       "    </tr>\n",
       "    <tr>\n",
       "      <th>4179</th>\n",
       "      <td>walk after jump opposite right twice</td>\n",
       "      <td>I_TURN_RIGHT I_TURN_RIGHT I_JUMP I_TURN_RIGHT ...</td>\n",
       "      <td>I_TURN_RIGHT I_TURN_RIGHT I_JUMP I_TURN_RIGHT ...</td>\n",
       "    </tr>\n",
       "    <tr>\n",
       "      <th>4180</th>\n",
       "      <td>look right thrice and jump left</td>\n",
       "      <td>I_TURN_RIGHT I_LOOK I_TURN_RIGHT I_LOOK I_TURN...</td>\n",
       "      <td>I_TURN_RIGHT I_LOOK I_TURN_RIGHT I_LOOK I_TURN...</td>\n",
       "    </tr>\n",
       "    <tr>\n",
       "      <th>4181</th>\n",
       "      <td>turn opposite right thrice and run opposite left</td>\n",
       "      <td>I_TURN_RIGHT I_TURN_RIGHT I_TURN_RIGHT I_TURN_...</td>\n",
       "      <td>I_TURN_RIGHT I_TURN_RIGHT I_TURN_RIGHT I_TURN_...</td>\n",
       "    </tr>\n",
       "  </tbody>\n",
       "</table>\n",
       "<p>4182 rows × 3 columns</p>\n",
       "</div>"
      ],
      "text/plain": [
       "                                               commands  \\\n",
       "0     turn opposite right thrice and turn opposite left   \n",
       "1                run right twice after walk right twice   \n",
       "2          look around right twice and turn left thrice   \n",
       "3          jump around left thrice and run right thrice   \n",
       "4                     run thrice and walk opposite left   \n",
       "...                                                 ...   \n",
       "4177                      walk left and jump left twice   \n",
       "4178  jump around right twice after walk opposite ri...   \n",
       "4179               walk after jump opposite right twice   \n",
       "4180                    look right thrice and jump left   \n",
       "4181   turn opposite right thrice and run opposite left   \n",
       "\n",
       "                                                actions  \\\n",
       "0     I_TURN_RIGHT I_TURN_RIGHT I_TURN_RIGHT I_TURN_...   \n",
       "1     I_TURN_RIGHT I_WALK I_TURN_RIGHT I_WALK I_TURN...   \n",
       "2     I_TURN_RIGHT I_LOOK I_TURN_RIGHT I_LOOK I_TURN...   \n",
       "3     I_TURN_LEFT I_JUMP I_TURN_LEFT I_JUMP I_TURN_L...   \n",
       "4      I_RUN I_RUN I_RUN I_TURN_LEFT I_TURN_LEFT I_WALK   \n",
       "...                                                 ...   \n",
       "4177  I_TURN_LEFT I_WALK I_TURN_LEFT I_JUMP I_TURN_L...   \n",
       "4178  I_TURN_RIGHT I_TURN_RIGHT I_WALK I_TURN_RIGHT ...   \n",
       "4179  I_TURN_RIGHT I_TURN_RIGHT I_JUMP I_TURN_RIGHT ...   \n",
       "4180  I_TURN_RIGHT I_LOOK I_TURN_RIGHT I_LOOK I_TURN...   \n",
       "4181  I_TURN_RIGHT I_TURN_RIGHT I_TURN_RIGHT I_TURN_...   \n",
       "\n",
       "                                        actions_predict  \n",
       "0     I_TURN_RIGHT I_TURN_RIGHT I_TURN_RIGHT I_TURN_...  \n",
       "1     I_TURN_RIGHT I_WALK I_TURN_RIGHT I_WALK I_TURN...  \n",
       "2     I_TURN_RIGHT I_LOOK I_TURN_RIGHT I_LOOK I_TURN...  \n",
       "3     I_TURN_LEFT I_JUMP I_TURN_LEFT I_JUMP I_TURN_L...  \n",
       "4      I_RUN I_RUN I_RUN I_TURN_LEFT I_TURN_LEFT I_WALK  \n",
       "...                                                 ...  \n",
       "4177  I_TURN_LEFT I_WALK I_TURN_LEFT I_JUMP I_TURN_L...  \n",
       "4178  I_TURN_RIGHT I_TURN_RIGHT I_WALK I_TURN_RIGHT ...  \n",
       "4179  I_TURN_RIGHT I_TURN_RIGHT I_JUMP I_TURN_RIGHT ...  \n",
       "4180  I_TURN_RIGHT I_LOOK I_TURN_RIGHT I_LOOK I_TURN...  \n",
       "4181  I_TURN_RIGHT I_TURN_RIGHT I_TURN_RIGHT I_TURN_...  \n",
       "\n",
       "[4182 rows x 3 columns]"
      ]
     },
     "execution_count": 297,
     "metadata": {},
     "output_type": "execute_result"
    }
   ],
   "source": [
    "data_frame = SCAN_predict(dataSet=scan_test)\n",
    "data_frame"
   ]
  },
  {
   "cell_type": "code",
   "execution_count": 298,
   "id": "40bebe95-1a67-42c2-b617-3a9960216f10",
   "metadata": {
    "tags": []
   },
   "outputs": [
    {
     "data": {
      "text/plain": [
       "0       True\n",
       "1       True\n",
       "2       True\n",
       "3       True\n",
       "4       True\n",
       "        ... \n",
       "4177    True\n",
       "4178    True\n",
       "4179    True\n",
       "4180    True\n",
       "4181    True\n",
       "Length: 4182, dtype: bool"
      ]
     },
     "execution_count": 298,
     "metadata": {},
     "output_type": "execute_result"
    }
   ],
   "source": [
    "data_frame['actions'] == data_frame['actions_predict']"
   ]
  },
  {
   "cell_type": "code",
   "execution_count": 307,
   "id": "6d4f73fb-fc4b-4d94-af8d-efbbc7e1dab9",
   "metadata": {
    "tags": []
   },
   "outputs": [
    {
     "data": {
      "text/plain": [
       "1.0"
      ]
     },
     "execution_count": 307,
     "metadata": {},
     "output_type": "execute_result"
    }
   ],
   "source": [
    "(data_frame['actions'] == data_frame['actions_predict']).sum() / data_frame.shape[0]"
   ]
  },
  {
   "cell_type": "code",
   "execution_count": 306,
   "id": "ff5aea3e-17ea-491f-a55e-3214d7accc6b",
   "metadata": {
    "tags": []
   },
   "outputs": [
    {
     "data": {
      "text/plain": [
       "(4182, 3)"
      ]
     },
     "execution_count": 306,
     "metadata": {},
     "output_type": "execute_result"
    }
   ],
   "source": [
    "data_frame.shape"
   ]
  },
  {
   "cell_type": "markdown",
   "id": "122baf4b-80de-4f9c-a073-6f576d0c6b14",
   "metadata": {},
   "source": [
    "能够发现，在最先进的completion模型text-davinci-003预测下，SCAN数据集的预测准确率能够达到100%。"
   ]
  },
  {
   "cell_type": "markdown",
   "id": "ae022cea-3fcc-4748-96b2-e19cccf0e40b",
   "metadata": {},
   "source": [
    "### 4.Few-shot-LtM提示流程总结"
   ]
  },
  {
   "cell_type": "markdown",
   "id": "d69865a3-89d2-4e79-a4e6-d38542293176",
   "metadata": {},
   "source": [
    "&emsp;&emsp;接下来我们围绕上述Few-shot-LtM提示流程进行总结，并从理论层面，探讨该流程有效性的核心原因以及实践时的注意事项。"
   ]
  },
  {
   "cell_type": "markdown",
   "id": "6c62f911-16e5-4b29-9148-792b6604c746",
   "metadata": {},
   "source": [
    "<center><img src=\"https://ml2022.oss-cn-hangzhou.aliyuncs.com/img/1688807852615.png\" alt=\"1688807852615\" style=\"zoom:33%;\" />"
   ]
  },
  {
   "cell_type": "markdown",
   "id": "873df993-a2d6-4901-90eb-352a7293894c",
   "metadata": {},
   "source": [
    "&emsp;&emsp;首先需要说明的是，对于类似SCAN指令翻译这种复杂问题，很多时候Zero-shot都是无法解决的，此时必须要考虑Few-shot方法。而从一个更加抽象的角度来说，Few-shot中的提示示例，就更像是一个数据集中的训练数据，而Few-shot实际提示流程，就相当于是我们先让大模型学习训练数据来总结规律技巧，然后再进一步应用于新数据集上的预测。只不过和机器学习领域我们直接在完整数据集上随机划分训练集和测试集不同的是，这里的Few-shot往往不需要太多数据（受限于模型的上下文限制，也无法输入太多数据），但需要合理的挑选问答示例，并详细的展示由问到答的推理过程，才能够更好的给与模型启发。"
   ]
  },
  {
   "cell_type": "markdown",
   "id": "f052f332-6a88-4009-bf9f-761e22a906bd",
   "metadata": {},
   "source": [
    "&emsp;&emsp;当然，在实际执行过程中，往往是先确定提示流程、再编写Few-shot。提示工程流程是提示工程方法最高度的抽象，这方面创新难度较大，一般来说都是按照既有的提示框架进行完善和补充，就目前来看，LtM提示框架是最有效的提示框架。而在编写Few-shot的过程中，则是先从少部分数据中进行测试，刚开始编写和测试中间环节的问题和Few-shot会非常困难，往往都需要大模型工程师丰富的技术经验和一定的技术灵感。就本案例来说，在基于对英文语义充分理解的情况下，核心工作是以介词为界进行短命令处理，而第二个阶段的Few-shot则是先从不包含介词的短语入手进行指令翻译，然后尝试围绕带入介词的短语进行翻译，当模型能够理解部分介词+动词+副词的组合含义后，即可将其推广至更为一般的情况。"
   ]
  },
  {
   "cell_type": "markdown",
   "id": "3f8e0842-ba21-44b3-9843-5439430d0852",
   "metadata": {},
   "source": [
    "&emsp;&emsp;从这个过程也不难看出，实际上对于大语言模型来说，是具备非常强的“迁移学习”能力的，就好比一个成绩优秀的学生，其最大的潜力或许不在于现在某些知识掌握的非常好，而在于底层非常强大的学习能力和举一反三的能力，对于大语言模型亦是如此。对于类似SCAN数据集这种学习难度非常大的任务，模型仍然可以在只带入非常少的数据的情况下完成底层推理规则的学习，由此也确实能看出大语言模型恐怖的涌现能力。"
   ]
  }
 ],
 "metadata": {
  "kernelspec": {
   "display_name": "Python 3 (ipykernel)",
   "language": "python",
   "name": "python3"
  },
  "language_info": {
   "codemirror_mode": {
    "name": "ipython",
    "version": 3
   },
   "file_extension": ".py",
   "mimetype": "text/x-python",
   "name": "python",
   "nbconvert_exporter": "python",
   "pygments_lexer": "ipython3",
   "version": "3.10.10"
  }
 },
 "nbformat": 4,
 "nbformat_minor": 5
}
